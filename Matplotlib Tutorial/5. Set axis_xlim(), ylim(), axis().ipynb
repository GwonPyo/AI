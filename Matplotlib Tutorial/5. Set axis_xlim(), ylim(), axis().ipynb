{
  "nbformat": 4,
  "nbformat_minor": 0,
  "metadata": {
    "colab": {
      "name": "5. set_axis_xlim(),ylim(),axis().ipynb",
      "provenance": [],
      "collapsed_sections": []
    },
    "kernelspec": {
      "name": "python3",
      "display_name": "Python 3"
    },
    "language_info": {
      "name": "python"
    }
  },
  "cells": [
    {
      "cell_type": "markdown",
      "source": [
        "<h3> <strong> 1. 기본 사용 </strong> </h3>"
      ],
      "metadata": {
        "id": "dDVExbF69bfx"
      }
    },
    {
      "cell_type": "markdown",
      "source": [
        "**xlim() 함수**에 xmin, xmax 값을 입력하거나 리스트 또는 튜플 형태로 입력한다. <br>\n",
        "**ylim() 함수**도 동일하며 입력값이 없다면 데이터에 맞게 자동으로 범위를 지정한다."
      ],
      "metadata": {
        "id": "lo0RoVDXNu_F"
      }
    },
    {
      "cell_type": "code",
      "source": [
        "import matplotlib.pyplot as plt\n",
        "\n",
        "plt.plot([1, 2, 3, 4], [1, 4, 9, 16])\n",
        "plt.xlabel('X-Axis')\n",
        "plt.ylabel('Y-Axis')\n",
        "plt.xlim([0, 5])\n",
        "plt.ylim([0, 20])\n",
        "\n",
        "plt.show()"
      ],
      "metadata": {
        "colab": {
          "base_uri": "https://localhost:8080/",
          "height": 283
        },
        "id": "u4hyul_IN8Gt",
        "outputId": "75fa6c44-2709-4ed3-d5f9-e1af9337cbb5"
      },
      "execution_count": 1,
      "outputs": [
        {
          "output_type": "display_data",
          "data": {
            "image/png": "[encoded data removed]",
            "text/plain": [
              "<Figure size 432x288 with 1 Axes>"
            ]
          },
          "metadata": {
            "needs_background": "light"
          }
        }
      ]
    },
    {
      "cell_type": "markdown",
      "source": [
        "**axis() 함수**에 [xmin, xmax, ymin, ymax] 형태로 x, y축의 범위를 지정할 수 있다. <br>\n",
        "입력한 리스트는 반드시 네 개의 값을 가져야 한다."
      ],
      "metadata": {
        "id": "WtYKP4-VOluQ"
      }
    },
    {
      "cell_type": "code",
      "source": [
        "import matplotlib.pyplot as plt\n",
        "\n",
        "plt.plot([1, 2, 3, 4], [1, 4, 9, 16])\n",
        "plt.xlabel('X-Axis')\n",
        "plt.ylabel('Y-Axis')\n",
        "plt.axis([0, 5, 0, 20])\n",
        "\n",
        "plt.show()"
      ],
      "metadata": {
        "colab": {
          "base_uri": "https://localhost:8080/",
          "height": 283
        },
        "id": "O4f6g2rBO1Wq",
        "outputId": "8cd83100-bfbc-4b0d-e6ff-54b61c7351a3"
      },
      "execution_count": 3,
      "outputs": [
        {
          "output_type": "display_data",
          "data": {
            "image/png": "[encoded data removed]",
            "text/plain": [
              "<Figure size 432x288 with 1 Axes>"
            ]
          },
          "metadata": {
            "needs_background": "light"
          }
        }
      ]
    },
    {
      "cell_type": "markdown",
      "source": [
        "<h3> <strong> 2. 옵션 지정 </strong> </h3>"
      ],
      "metadata": {
        "id": "7HZUzXtaPAI-"
      }
    },
    {
      "cell_type": "markdown",
      "source": [
        "axis() 함수는 아래와 같이 축에 대한 다양한 옵션을 제공한다.\n",
        "\n",
        "* **'on' / 'off' / 'equal' / 'scaled' / 'tight' / 'auto' / 'normal' / 'image' / 'square'**"
      ],
      "metadata": {
        "id": "kj0fQ9f4Pcua"
      }
    },
    {
      "cell_type": "code",
      "source": [
        "import matplotlib.pyplot as plt\n",
        "\n",
        "plt.plot([1, 2, 3, 4], [1, 4, 9, 16])\n",
        "plt.xlabel('X-Axis')\n",
        "plt.ylabel('Y-Axis')\n",
        "plt.axis('square')    # 축의 길이가 동일하게 표시된다.\n",
        "plt.show()"
      ],
      "metadata": {
        "colab": {
          "base_uri": "https://localhost:8080/",
          "height": 279
        },
        "id": "OFKrEB9NPMU3",
        "outputId": "1e7e777c-7b11-45b8-8093-93f235dc40dd"
      },
      "execution_count": 16,
      "outputs": [
        {
          "output_type": "display_data",
          "data": {
            "image/png": "[encoded data removed]",
            "text/plain": [
              "<Figure size 432x288 with 1 Axes>"
            ]
          },
          "metadata": {
            "needs_background": "light"
          }
        }
      ]
    },
    {
      "cell_type": "markdown",
      "source": [
        "<h3> <strong> 3. 축 범위 </strong> </h3>"
      ],
      "metadata": {
        "id": "3DVJVTdtPb9w"
      }
    },
    {
      "cell_type": "markdown",
      "source": [
        "xlim(), ylim() 함수는 그래프 영역에서 표시되는 x, y축의 범위를 각각 반환한다. <br>\n",
        "axis() 함수는 그래프 영역에 표시되는 x, y축의 범위를 반환한다."
      ],
      "metadata": {
        "id": "JS7cmwmZQNAP"
      }
    },
    {
      "cell_type": "code",
      "source": [
        "import matplotlib.pyplot as plt\n",
        "\n",
        "plt.plot([1, 2, 3, 4], [1, 4, 9, 16])\n",
        "\n",
        "x_range, y_range = plt.xlim(), plt.ylim()\n",
        "print(f'xlim(): {x_range}')\n",
        "print(f'ylim(): {y_range}')\n",
        "\n",
        "axis_range = plt.axis('scaled')\n",
        "print(f'axis(): {axis_range}')\n",
        "\n",
        "plt.show()"
      ],
      "metadata": {
        "colab": {
          "base_uri": "https://localhost:8080/",
          "height": 320
        },
        "id": "f8z65e9OQc1f",
        "outputId": "42239ad9-b125-4611-9900-08b233d5e115"
      },
      "execution_count": 20,
      "outputs": [
        {
          "output_type": "stream",
          "name": "stdout",
          "text": [
            "xlim(): (0.85, 4.15)\n",
            "ylim(): (0.25, 16.75)\n",
            "axis(): (0.85, 4.15, 0.25, 16.75)\n"
          ]
        },
        {
          "output_type": "display_data",
          "data": {
            "image/png": "[encoded data removed]",
            "text/plain": [
              "<Figure size 432x288 with 1 Axes>"
            ]
          },
          "metadata": {
            "needs_background": "light"
          }
        }
      ]
    },
    {
      "cell_type": "markdown",
      "source": [
        "출처: https://wikidocs.net/92082"
      ],
      "metadata": {
        "id": "74LOTvzbRLqX"
      }
    }
  ]
}