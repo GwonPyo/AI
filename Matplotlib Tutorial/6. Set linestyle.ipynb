{
  "nbformat": 4,
  "nbformat_minor": 0,
  "metadata": {
    "colab": {
      "name": "6. set_linestyle.ipynb",
      "provenance": [],
      "collapsed_sections": []
    },
    "kernelspec": {
      "name": "python3",
      "display_name": "Python 3"
    },
    "language_info": {
      "name": "python"
    }
  },
  "cells": [
    {
      "cell_type": "markdown",
      "source": [
        "<h3> <strong> 1. 기본 사용 </strong> </h3>"
      ],
      "metadata": {
        "id": "2AdaE3IaReUL"
      }
    },
    {
      "cell_type": "markdown",
      "source": [
        "선을 지정하려면 plot() 함수에 **포맷 문자열**을 사용하면 된다.\n",
        "\n",
        "* '-': Solid / 그냥 직선을 그린다.\n",
        "* '--': Dashed / 여러 개의 -로 이루어진 선을 그린다.\n",
        "* ':': Dotted / 점선을 그린다.\n",
        "* '-.': Dash-Dot / -와 .을 번갈아서 선을 그린다."
      ],
      "metadata": {
        "id": "684NddCrSLCk"
      }
    },
    {
      "cell_type": "code",
      "source": [
        "import matplotlib.pyplot as plt\n",
        "\n",
        "plt.plot([1, 2, 3], [4, 4, 4], '-', color='b', label='Solid')\n",
        "plt.plot([1, 2, 3], [3, 3, 3], '--', color='b', label='Dashed')\n",
        "plt.plot([1, 2, 3], [2, 2, 2], ':', color='b', label='Dotted')\n",
        "plt.plot([1, 2, 3], [1, 1, 1], '-.', color='b', label='Dash-dot')\n",
        "plt.ylim([0.5, 5.0])\n",
        "plt.legend(loc='best', ncol=4)\n",
        "plt.show()"
      ],
      "metadata": {
        "colab": {
          "base_uri": "https://localhost:8080/",
          "height": 269
        },
        "id": "4Y3nybUzSxWl",
        "outputId": "cbe81133-d32b-4736-89e5-e4c66d1ad2cf"
      },
      "execution_count": null,
      "outputs": [
        {
          "output_type": "display_data",
          "data": {
            "image/png": "[encoded data removed]",
            "text/plain": [
              "<Figure size 432x288 with 1 Axes>"
            ]
          },
          "metadata": {
            "needs_background": "light"
          }
        }
      ]
    },
    {
      "cell_type": "markdown",
      "source": [
        "<h3> <strong> 2. linestyle 지정 </strong> </h3>"
      ],
      "metadata": {
        "id": "AqJxkNadT7sp"
      }
    },
    {
      "cell_type": "markdown",
      "source": [
        "**linestyle 파라미터**를 통해 값을 직접 지정할 수도 있다. <br>\n",
        "포맷 문자열 형식이 아니라 'solid', 'dashed', 'dotted', 'dashdot'처럼 문자열을 써줘야 한다."
      ],
      "metadata": {
        "id": "nKqFPYxdUCaY"
      }
    },
    {
      "cell_type": "code",
      "source": [
        "import matplotlib.pyplot as plt\n",
        "\n",
        "plt.plot([1, 2, 3], [4, 4, 4], linestyle='solid', color='b', label=\"'solid'\")\n",
        "plt.plot([1, 2, 3], [3, 3, 3], linestyle='dashed', color='b', label=\"'dashed'\")\n",
        "plt.plot([1, 2, 3], [2, 2, 2], linestyle='dotted', color='b', label=\"'dotted'\")\n",
        "plt.plot([1, 2, 3], [1, 1, 1], linestyle='dashdot', color='b', label=\"'dashdot'\")\n",
        "plt.ylim([0.5, 5.0])\n",
        "plt.legend(loc='upper center', ncol=4)\n",
        "plt.tight_layout()\n",
        "plt.show()"
      ],
      "metadata": {
        "colab": {
          "base_uri": "https://localhost:8080/",
          "height": 297
        },
        "id": "EUQRawZhUOfm",
        "outputId": "701ba67c-9061-472b-b15a-3ab39361c870"
      },
      "execution_count": null,
      "outputs": [
        {
          "output_type": "display_data",
          "data": {
            "image/png": "[encoded data removed]",
            "text/plain": [
              "<Figure size 432x288 with 1 Axes>"
            ]
          },
          "metadata": {
            "needs_background": "light"
          }
        }
      ]
    },
    {
      "cell_type": "markdown",
      "source": [
        "<h3> <strong> 3. 튜플 사용 </strong> </h3>"
      ],
      "metadata": {
        "id": "8eZNthdaVJFy"
      }
    },
    {
      "cell_type": "markdown",
      "source": [
        "튜플을 사용해 선의 종류를 커스터마이징할 수 있다.\n"
      ],
      "metadata": {
        "id": "2QeOpQcQV02j"
      }
    },
    {
      "cell_type": "code",
      "source": [
        "import matplotlib.pyplot as plt\n",
        "\n",
        "plt.plot([1, 2, 3], [4, 4, 4], linestyle=(0, (1, 1)), color='b', label='(0, (1, 1))')\n",
        "plt.plot([1, 2, 3], [3, 3, 3], linestyle=(0, (1, 5)), color='b', label='(0, (1, 5))')\n",
        "plt.plot([1, 2, 3], [2, 2, 2], linestyle=(0, (5, 1)), color='b', label='(0, (5, 1))')\n",
        "plt.plot([1, 2, 3], [1, 1, 1], linestyle=(0, (3, 5, 1, 5)), color='b', label='(0, (3, 5, 1, 5))')\n",
        "plt.axis([0.8, 3.2, 0.5, 5.0])\n",
        "plt.legend(loc='upper right', ncol=2)\n",
        "plt.tight_layout()\n",
        "plt.show()"
      ],
      "metadata": {
        "colab": {
          "base_uri": "https://localhost:8080/",
          "height": 297
        },
        "id": "INA2Klu1Wpkt",
        "outputId": "d4178ef9-6238-4418-ecf3-179c6b44afc6"
      },
      "execution_count": null,
      "outputs": [
        {
          "output_type": "display_data",
          "data": {
            "image/png": "[encoded data removed]",
            "text/plain": [
              "<Figure size 432x288 with 1 Axes>"
            ]
          },
          "metadata": {
            "needs_background": "light"
          }
        }
      ]
    },
    {
      "cell_type": "markdown",
      "source": [
        "<h3> <strong> 4. 선 끝 모양 지정 </strong> </h3>"
      ],
      "metadata": {
        "id": "xFJ2BrFHWsy6"
      }
    },
    {
      "cell_type": "markdown",
      "source": [
        "plot() 함수의 **solid_capstyle, dash_capstyle**를 사용해서 선 끝 모양을 지정할 수 있다. <br>\n",
        "'butt'는 일반적인 선을, 'round'는 둥근 선 모양을 그려준다."
      ],
      "metadata": {
        "id": "j_v1_OzFXM2b"
      }
    },
    {
      "cell_type": "code",
      "source": [
        "import matplotlib.pyplot as plt\n",
        "\n",
        "plt.plot([1, 2, 3], [4, 4, 4], '-b', linewidth=10,\n",
        "      solid_capstyle='butt', label='solid+butt')\n",
        "plt.plot([1, 2, 3], [3, 3, 3], '-b', linewidth=10,\n",
        "      solid_capstyle='round', label='solid+round')\n",
        "\n",
        "plt.plot([1, 2, 3], [2, 2, 2], '--r', linewidth=10,\n",
        "      dash_capstyle='butt', label='dashed+butt')\n",
        "plt.plot([1, 2, 3], [1, 1, 1], '--r', linewidth=10,\n",
        "      dash_capstyle='round', label='dotted+round')\n",
        "\n",
        "plt.xlabel('X-Axis')\n",
        "plt.ylabel('Y-Axis')\n",
        "plt.axis([0.8, 3.2, 0.5, 5.0])\n",
        "plt.legend(loc='upper right', ncol=2)\n",
        "plt.tight_layout()\n",
        "plt.show()"
      ],
      "metadata": {
        "colab": {
          "base_uri": "https://localhost:8080/",
          "height": 297
        },
        "id": "NurHY817XquW",
        "outputId": "abb92823-161c-4de9-c8ea-f0a088fe0d17"
      },
      "execution_count": null,
      "outputs": [
        {
          "output_type": "display_data",
          "data": {
            "image/png": "[encoded data removed]",
            "text/plain": [
              "<Figure size 432x288 with 1 Axes>"
            ]
          },
          "metadata": {
            "needs_background": "light"
          }
        }
      ]
    },
    {
      "cell_type": "markdown",
      "source": [
        "출처: https://wikidocs.net/92083"
      ],
      "metadata": {
        "id": "s2F3_S3QYr6K"
      }
    }
  ]
}