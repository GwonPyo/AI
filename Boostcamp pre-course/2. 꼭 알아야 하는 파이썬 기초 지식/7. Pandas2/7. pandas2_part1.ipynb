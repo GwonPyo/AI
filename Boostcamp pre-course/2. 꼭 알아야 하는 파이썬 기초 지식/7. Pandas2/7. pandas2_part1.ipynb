{
  "nbformat": 4,
  "nbformat_minor": 0,
  "metadata": {
    "colab": {
      "name": "7.  pandas2-part1.ipynb",
      "provenance": [],
      "collapsed_sections": []
    },
    "kernelspec": {
      "name": "python3",
      "display_name": "Python 3"
    },
    "language_info": {
      "name": "python"
    }
  },
  "cells": [
    {
      "cell_type": "markdown",
      "metadata": {
        "id": "UWVXoiukPRdQ"
      },
      "source": [
        "<h3> Groupby 1 <h3>\n",
        "\n",
        "groupby 연산이란 split, apply, combine 과정을 거쳐 연산하는 것을 말한다. \n",
        "\n",
        "* **df.groupby(\"Team\")[\"Points\"].sum()** <br>\n",
        "df.groupby(묶음의 기준이 되는 컬럼)[적용받는 컬럼].적용 받는 연산\n",
        "* 한개 이상의 column을 묶을 수 있다. <br>\n",
        " **df.groupby([\"Team\", \"Year\"])[\"Points\"].sum()**"
      ]
    },
    {
      "cell_type": "code",
      "metadata": {
        "id": "QXszoc7mUUWr"
      },
      "source": [
        "import pandas as pd"
      ],
      "execution_count": null,
      "outputs": []
    },
    {
      "cell_type": "code",
      "metadata": {
        "id": "kMB_ZKW5PIVI"
      },
      "source": [
        "ipl_data = {\n",
        "    \"Team\": [\n",
        "             \"Riders\",\n",
        "             \"Riders\",\n",
        "             \"Devils\",\n",
        "             \"Devils\",\n",
        "             \"Kings\",\n",
        "             \"Kings\",\n",
        "             \"Kings\",\n",
        "             \"Kings\",\n",
        "             \"Riders\",\n",
        "             \"Royals\",\n",
        "             \"Royals\",\n",
        "             \"Riders\"\n",
        "    ],\n",
        "    \"Rank\": [1, 2, 2, 3, 3, 4, 1, 1, 2, 4, 1, 2],\n",
        "    \"Year\": [2014, 2015, 2014, 2015, 2014, 2015, 2016, 2017, 2016, 2014, 2015, 2017],\n",
        "    \"Points\": [876, 789, 863, 673, 741, 812, 756, 788, 694, 701, 804, 690]\n",
        "}\n",
        "df = pd.DataFrame(ipl_data) "
      ],
      "execution_count": null,
      "outputs": []
    },
    {
      "cell_type": "code",
      "metadata": {
        "colab": {
          "base_uri": "https://localhost:8080/"
        },
        "id": "IYQv8DjfUYrb",
        "outputId": "8b572618-d469-47e6-b40a-cda7f6367b3e"
      },
      "source": [
        "df.groupby(\"Team\")[\"Points\"].sum()"
      ],
      "execution_count": null,
      "outputs": [
        {
          "output_type": "execute_result",
          "data": {
            "text/plain": [
              "Team\n",
              "Devils    1536\n",
              "Kings     3097\n",
              "Riders    3049\n",
              "Royals    1505\n",
              "Name: Points, dtype: int64"
            ]
          },
          "metadata": {},
          "execution_count": 5
        }
      ]
    },
    {
      "cell_type": "markdown",
      "metadata": {
        "id": "yWPEiTlMXKAq"
      },
      "source": [
        "이번에는 두 개의 column을 기준으로 split해보자."
      ]
    },
    {
      "cell_type": "code",
      "metadata": {
        "colab": {
          "base_uri": "https://localhost:8080/"
        },
        "id": "LQCoIL7AUhjC",
        "outputId": "79fddfec-738d-4708-a7c1-9b80c12f4d16"
      },
      "source": [
        "# hierarchical index\n",
        "h_index= df.groupby(['Team', \"Year\"])[\"Points\"].sum()\n",
        "h_index"
      ],
      "execution_count": null,
      "outputs": [
        {
          "output_type": "execute_result",
          "data": {
            "text/plain": [
              "Team    Year\n",
              "Devils  2014    863\n",
              "        2015    673\n",
              "Kings   2014    741\n",
              "        2015    812\n",
              "        2016    756\n",
              "        2017    788\n",
              "Riders  2014    876\n",
              "        2015    789\n",
              "        2016    694\n",
              "        2017    690\n",
              "Royals  2014    701\n",
              "        2015    804\n",
              "Name: Points, dtype: int64"
            ]
          },
          "metadata": {},
          "execution_count": 7
        }
      ]
    },
    {
      "cell_type": "markdown",
      "metadata": {
        "id": "yQ98zieOaLKT"
      },
      "source": [
        "참고로 h_index는 시리즈 객체이다"
      ]
    },
    {
      "cell_type": "code",
      "metadata": {
        "colab": {
          "base_uri": "https://localhost:8080/"
        },
        "id": "EIA4WMekaKjL",
        "outputId": "f59041df-2887-4eab-a658-c03a9ee9e187"
      },
      "source": [
        "type(h_index)"
      ],
      "execution_count": null,
      "outputs": [
        {
          "output_type": "execute_result",
          "data": {
            "text/plain": [
              "pandas.core.series.Series"
            ]
          },
          "metadata": {},
          "execution_count": 13
        }
      ]
    },
    {
      "cell_type": "markdown",
      "metadata": {
        "id": "1Zyd-l1YXhYV"
      },
      "source": [
        "<h4> Hierachical index  </h4>\n",
        "\n",
        "위와 같이 두 칸의 index로 구성된 것을 hierarchical index라고 부른다.\n",
        "\n",
        "**unstack() 함수**를 사용하면 위와 같이 두개의 index로 구성된 데이터 프레임을 한 개의 index로 구성된 데이터 프레임으로 다시 풀어줄 수 있다. <br>\n",
        "**stack() 함수**를 사용하면 다시 원래대로 돌려준다."
      ]
    },
    {
      "cell_type": "code",
      "metadata": {
        "colab": {
          "base_uri": "https://localhost:8080/",
          "height": 204
        },
        "id": "q5CGmtRaYfIh",
        "outputId": "16cb3fb7-fd6b-4679-a7f9-f2369e044687"
      },
      "source": [
        "h_index.unstack()"
      ],
      "execution_count": null,
      "outputs": [
        {
          "output_type": "execute_result",
          "data": {
            "text/html": [
              "<div>\n",
              "<style scoped>\n",
              "    .dataframe tbody tr th:only-of-type {\n",
              "        vertical-align: middle;\n",
              "    }\n",
              "\n",
              "    .dataframe tbody tr th {\n",
              "        vertical-align: top;\n",
              "    }\n",
              "\n",
              "    .dataframe thead th {\n",
              "        text-align: right;\n",
              "    }\n",
              "</style>\n",
              "<table border=\"1\" class=\"dataframe\">\n",
              "  <thead>\n",
              "    <tr style=\"text-align: right;\">\n",
              "      <th>Year</th>\n",
              "      <th>2014</th>\n",
              "      <th>2015</th>\n",
              "      <th>2016</th>\n",
              "      <th>2017</th>\n",
              "    </tr>\n",
              "    <tr>\n",
              "      <th>Team</th>\n",
              "      <th></th>\n",
              "      <th></th>\n",
              "      <th></th>\n",
              "      <th></th>\n",
              "    </tr>\n",
              "  </thead>\n",
              "  <tbody>\n",
              "    <tr>\n",
              "      <th>Devils</th>\n",
              "      <td>863.0</td>\n",
              "      <td>673.0</td>\n",
              "      <td>NaN</td>\n",
              "      <td>NaN</td>\n",
              "    </tr>\n",
              "    <tr>\n",
              "      <th>Kings</th>\n",
              "      <td>741.0</td>\n",
              "      <td>812.0</td>\n",
              "      <td>756.0</td>\n",
              "      <td>788.0</td>\n",
              "    </tr>\n",
              "    <tr>\n",
              "      <th>Riders</th>\n",
              "      <td>876.0</td>\n",
              "      <td>789.0</td>\n",
              "      <td>694.0</td>\n",
              "      <td>690.0</td>\n",
              "    </tr>\n",
              "    <tr>\n",
              "      <th>Royals</th>\n",
              "      <td>701.0</td>\n",
              "      <td>804.0</td>\n",
              "      <td>NaN</td>\n",
              "      <td>NaN</td>\n",
              "    </tr>\n",
              "  </tbody>\n",
              "</table>\n",
              "</div>"
            ],
            "text/plain": [
              "Year     2014   2015   2016   2017\n",
              "Team                              \n",
              "Devils  863.0  673.0    NaN    NaN\n",
              "Kings   741.0  812.0  756.0  788.0\n",
              "Riders  876.0  789.0  694.0  690.0\n",
              "Royals  701.0  804.0    NaN    NaN"
            ]
          },
          "metadata": {},
          "execution_count": 8
        }
      ]
    },
    {
      "cell_type": "code",
      "metadata": {
        "colab": {
          "base_uri": "https://localhost:8080/"
        },
        "id": "KKEwPaQ8Y0q4",
        "outputId": "beaaba2d-dea9-458d-b529-a9ca7801df84"
      },
      "source": [
        "h_index.unstack().stack()"
      ],
      "execution_count": null,
      "outputs": [
        {
          "output_type": "execute_result",
          "data": {
            "text/plain": [
              "Team    Year\n",
              "Devils  2014    863.0\n",
              "        2015    673.0\n",
              "Kings   2014    741.0\n",
              "        2015    812.0\n",
              "        2016    756.0\n",
              "        2017    788.0\n",
              "Riders  2014    876.0\n",
              "        2015    789.0\n",
              "        2016    694.0\n",
              "        2017    690.0\n",
              "Royals  2014    701.0\n",
              "        2015    804.0\n",
              "dtype: float64"
            ]
          },
          "metadata": {},
          "execution_count": 9
        }
      ]
    },
    {
      "cell_type": "markdown",
      "metadata": {
        "id": "hD6cayjDY0Yo"
      },
      "source": [
        "**reset_index() 함수**를 사용하면 두 개의 인덱스를 열로 바꾸고 인덱스를 초기화할 수 있다."
      ]
    },
    {
      "cell_type": "code",
      "metadata": {
        "colab": {
          "base_uri": "https://localhost:8080/",
          "height": 421
        },
        "id": "0jtYNlY3YiPe",
        "outputId": "a96f5270-493a-425a-af17-b767fad76c4d"
      },
      "source": [
        "h_index.reset_index()"
      ],
      "execution_count": null,
      "outputs": [
        {
          "output_type": "execute_result",
          "data": {
            "text/html": [
              "<div>\n",
              "<style scoped>\n",
              "    .dataframe tbody tr th:only-of-type {\n",
              "        vertical-align: middle;\n",
              "    }\n",
              "\n",
              "    .dataframe tbody tr th {\n",
              "        vertical-align: top;\n",
              "    }\n",
              "\n",
              "    .dataframe thead th {\n",
              "        text-align: right;\n",
              "    }\n",
              "</style>\n",
              "<table border=\"1\" class=\"dataframe\">\n",
              "  <thead>\n",
              "    <tr style=\"text-align: right;\">\n",
              "      <th></th>\n",
              "      <th>Team</th>\n",
              "      <th>Year</th>\n",
              "      <th>Points</th>\n",
              "    </tr>\n",
              "  </thead>\n",
              "  <tbody>\n",
              "    <tr>\n",
              "      <th>0</th>\n",
              "      <td>Devils</td>\n",
              "      <td>2014</td>\n",
              "      <td>863</td>\n",
              "    </tr>\n",
              "    <tr>\n",
              "      <th>1</th>\n",
              "      <td>Devils</td>\n",
              "      <td>2015</td>\n",
              "      <td>673</td>\n",
              "    </tr>\n",
              "    <tr>\n",
              "      <th>2</th>\n",
              "      <td>Kings</td>\n",
              "      <td>2014</td>\n",
              "      <td>741</td>\n",
              "    </tr>\n",
              "    <tr>\n",
              "      <th>3</th>\n",
              "      <td>Kings</td>\n",
              "      <td>2015</td>\n",
              "      <td>812</td>\n",
              "    </tr>\n",
              "    <tr>\n",
              "      <th>4</th>\n",
              "      <td>Kings</td>\n",
              "      <td>2016</td>\n",
              "      <td>756</td>\n",
              "    </tr>\n",
              "    <tr>\n",
              "      <th>5</th>\n",
              "      <td>Kings</td>\n",
              "      <td>2017</td>\n",
              "      <td>788</td>\n",
              "    </tr>\n",
              "    <tr>\n",
              "      <th>6</th>\n",
              "      <td>Riders</td>\n",
              "      <td>2014</td>\n",
              "      <td>876</td>\n",
              "    </tr>\n",
              "    <tr>\n",
              "      <th>7</th>\n",
              "      <td>Riders</td>\n",
              "      <td>2015</td>\n",
              "      <td>789</td>\n",
              "    </tr>\n",
              "    <tr>\n",
              "      <th>8</th>\n",
              "      <td>Riders</td>\n",
              "      <td>2016</td>\n",
              "      <td>694</td>\n",
              "    </tr>\n",
              "    <tr>\n",
              "      <th>9</th>\n",
              "      <td>Riders</td>\n",
              "      <td>2017</td>\n",
              "      <td>690</td>\n",
              "    </tr>\n",
              "    <tr>\n",
              "      <th>10</th>\n",
              "      <td>Royals</td>\n",
              "      <td>2014</td>\n",
              "      <td>701</td>\n",
              "    </tr>\n",
              "    <tr>\n",
              "      <th>11</th>\n",
              "      <td>Royals</td>\n",
              "      <td>2015</td>\n",
              "      <td>804</td>\n",
              "    </tr>\n",
              "  </tbody>\n",
              "</table>\n",
              "</div>"
            ],
            "text/plain": [
              "      Team  Year  Points\n",
              "0   Devils  2014     863\n",
              "1   Devils  2015     673\n",
              "2    Kings  2014     741\n",
              "3    Kings  2015     812\n",
              "4    Kings  2016     756\n",
              "5    Kings  2017     788\n",
              "6   Riders  2014     876\n",
              "7   Riders  2015     789\n",
              "8   Riders  2016     694\n",
              "9   Riders  2017     690\n",
              "10  Royals  2014     701\n",
              "11  Royals  2015     804"
            ]
          },
          "metadata": {},
          "execution_count": 10
        }
      ]
    },
    {
      "cell_type": "markdown",
      "metadata": {
        "id": "K2LdiYmtZRYo"
      },
      "source": [
        "**swaplevel() 함수**를 사용해 index level을 변경할 수 있다."
      ]
    },
    {
      "cell_type": "code",
      "metadata": {
        "colab": {
          "base_uri": "https://localhost:8080/"
        },
        "id": "w6_CCyREZIXn",
        "outputId": "77dcf81a-6c85-4214-ac95-6edd304b734d"
      },
      "source": [
        "h_index.swaplevel()"
      ],
      "execution_count": null,
      "outputs": [
        {
          "output_type": "execute_result",
          "data": {
            "text/plain": [
              "Year  Team  \n",
              "2014  Devils    863\n",
              "2015  Devils    673\n",
              "2014  Kings     741\n",
              "2015  Kings     812\n",
              "2016  Kings     756\n",
              "2017  Kings     788\n",
              "2014  Riders    876\n",
              "2015  Riders    789\n",
              "2016  Riders    694\n",
              "2017  Riders    690\n",
              "2014  Royals    701\n",
              "2015  Royals    804\n",
              "Name: Points, dtype: int64"
            ]
          },
          "metadata": {},
          "execution_count": 11
        }
      ]
    },
    {
      "cell_type": "markdown",
      "metadata": {
        "id": "TlQeLGBEZtX8"
      },
      "source": [
        "**sort_index() 함수**를 사용해 해당 level을 기준으로 행들을 정렬할 수 있다."
      ]
    },
    {
      "cell_type": "code",
      "metadata": {
        "colab": {
          "base_uri": "https://localhost:8080/"
        },
        "id": "3GVH0VX3Zddv",
        "outputId": "3aa22777-16fa-4dcd-d63a-80ff73cb34ce"
      },
      "source": [
        "h_index.sort_index(level=1)"
      ],
      "execution_count": null,
      "outputs": [
        {
          "output_type": "execute_result",
          "data": {
            "text/plain": [
              "Team    Year\n",
              "Devils  2014    863\n",
              "Kings   2014    741\n",
              "Riders  2014    876\n",
              "Royals  2014    701\n",
              "Devils  2015    673\n",
              "Kings   2015    812\n",
              "Riders  2015    789\n",
              "Royals  2015    804\n",
              "Kings   2016    756\n",
              "Riders  2016    694\n",
              "Kings   2017    788\n",
              "Riders  2017    690\n",
              "Name: Points, dtype: int64"
            ]
          },
          "metadata": {},
          "execution_count": 12
        }
      ]
    },
    {
      "cell_type": "markdown",
      "metadata": {
        "id": "KyO902DacV3m"
      },
      "source": [
        "<h4> Hierarchical index-operation </h4>\n",
        "\n",
        "index level을 기준으로 기본 연산 수행이 가능하다."
      ]
    },
    {
      "cell_type": "code",
      "metadata": {
        "colab": {
          "base_uri": "https://localhost:8080/"
        },
        "id": "itdkU5o-Z7sF",
        "outputId": "4e52e610-135e-4813-c65c-156c08f92534"
      },
      "source": [
        "h_index.sum()"
      ],
      "execution_count": null,
      "outputs": [
        {
          "output_type": "execute_result",
          "data": {
            "text/plain": [
              "9187"
            ]
          },
          "metadata": {},
          "execution_count": 15
        }
      ]
    },
    {
      "cell_type": "code",
      "metadata": {
        "colab": {
          "base_uri": "https://localhost:8080/"
        },
        "id": "G04BFv8QclMG",
        "outputId": "bae457ef-b96f-48a5-81ed-cd9fc0f29c28"
      },
      "source": [
        "h_index.sum(level=0)"
      ],
      "execution_count": null,
      "outputs": [
        {
          "output_type": "execute_result",
          "data": {
            "text/plain": [
              "Team\n",
              "Devils    1536\n",
              "Kings     3097\n",
              "Riders    3049\n",
              "Royals    1505\n",
              "Name: Points, dtype: int64"
            ]
          },
          "metadata": {},
          "execution_count": 16
        }
      ]
    },
    {
      "cell_type": "code",
      "metadata": {
        "colab": {
          "base_uri": "https://localhost:8080/"
        },
        "id": "i6hdm2c6cqr8",
        "outputId": "6f26c39b-1d5f-4ee2-ff5a-81ad46e4de33"
      },
      "source": [
        "h_index.sum(level=1)"
      ],
      "execution_count": null,
      "outputs": [
        {
          "output_type": "execute_result",
          "data": {
            "text/plain": [
              "Year\n",
              "2014    3181\n",
              "2015    3078\n",
              "2016    1450\n",
              "2017    1478\n",
              "Name: Points, dtype: int64"
            ]
          },
          "metadata": {},
          "execution_count": 18
        }
      ]
    },
    {
      "cell_type": "markdown",
      "metadata": {
        "id": "1hmcv63_czzK"
      },
      "source": [
        "<h3> Groupby2 </h3>\n",
        "<h4> grouped </h4>\n",
        "\n",
        "Groupby에 의해 **Split된 상태를 아래와 같이 추출**할 수 있다."
      ]
    },
    {
      "cell_type": "code",
      "metadata": {
        "colab": {
          "base_uri": "https://localhost:8080/"
        },
        "id": "ZUtKvlzmcsl0",
        "outputId": "6222f1a7-45f3-4567-b839-80dc72893dd7"
      },
      "source": [
        "grouped = df.groupby(\"Team\")\n",
        "grouped"
      ],
      "execution_count": null,
      "outputs": [
        {
          "output_type": "execute_result",
          "data": {
            "text/plain": [
              "<pandas.core.groupby.generic.DataFrameGroupBy object at 0x7f6668c1fcd0>"
            ]
          },
          "metadata": {},
          "execution_count": 20
        }
      ]
    },
    {
      "cell_type": "code",
      "metadata": {
        "colab": {
          "base_uri": "https://localhost:8080/"
        },
        "id": "4svz86-EdK15",
        "outputId": "0ad91cf1-98a6-4170-8b97-caa6d853fe4a"
      },
      "source": [
        "for name, group in grouped:\n",
        "  print(name)\n",
        "  print(group)\n",
        "  print('\\n')"
      ],
      "execution_count": null,
      "outputs": [
        {
          "output_type": "stream",
          "name": "stdout",
          "text": [
            "Devils\n",
            "     Team  Rank  Year  Points\n",
            "2  Devils     2  2014     863\n",
            "3  Devils     3  2015     673\n",
            "\n",
            "\n",
            "Kings\n",
            "    Team  Rank  Year  Points\n",
            "4  Kings     3  2014     741\n",
            "5  Kings     4  2015     812\n",
            "6  Kings     1  2016     756\n",
            "7  Kings     1  2017     788\n",
            "\n",
            "\n",
            "Riders\n",
            "      Team  Rank  Year  Points\n",
            "0   Riders     1  2014     876\n",
            "1   Riders     2  2015     789\n",
            "8   Riders     2  2016     694\n",
            "11  Riders     2  2017     690\n",
            "\n",
            "\n",
            "Royals\n",
            "      Team  Rank  Year  Points\n",
            "9   Royals     4  2014     701\n",
            "10  Royals     1  2015     804\n",
            "\n",
            "\n"
          ]
        }
      ]
    },
    {
      "cell_type": "markdown",
      "metadata": {
        "id": "QgSJzN7ldoFg"
      },
      "source": [
        "아래처럼 **list형태로 출력**해 볼 수 있다."
      ]
    },
    {
      "cell_type": "code",
      "metadata": {
        "colab": {
          "base_uri": "https://localhost:8080/"
        },
        "id": "lxxUuIGndXak",
        "outputId": "85f38a63-b094-4bc5-9d34-ececed478fac"
      },
      "source": [
        "list(grouped)"
      ],
      "execution_count": null,
      "outputs": [
        {
          "output_type": "execute_result",
          "data": {
            "text/plain": [
              "[('Devils',      Team  Rank  Year  Points\n",
              "  2  Devils     2  2014     863\n",
              "  3  Devils     3  2015     673), ('Kings',     Team  Rank  Year  Points\n",
              "  4  Kings     3  2014     741\n",
              "  5  Kings     4  2015     812\n",
              "  6  Kings     1  2016     756\n",
              "  7  Kings     1  2017     788), ('Riders',       Team  Rank  Year  Points\n",
              "  0   Riders     1  2014     876\n",
              "  1   Riders     2  2015     789\n",
              "  8   Riders     2  2016     694\n",
              "  11  Riders     2  2017     690), ('Royals',       Team  Rank  Year  Points\n",
              "  9   Royals     4  2014     701\n",
              "  10  Royals     1  2015     804)]"
            ]
          },
          "metadata": {},
          "execution_count": 23
        }
      ]
    },
    {
      "cell_type": "markdown",
      "metadata": {
        "id": "I_6ImV50gcy2"
      },
      "source": [
        "특정 key값을 가진 그룹만 추출하려면 **get_group() 함수**를 사용하면 된다."
      ]
    },
    {
      "cell_type": "code",
      "metadata": {
        "colab": {
          "base_uri": "https://localhost:8080/",
          "height": 111
        },
        "id": "J7Fw2BZtdllo",
        "outputId": "dfb189a8-2eee-4367-91f5-0142fc0a8e1a"
      },
      "source": [
        "grouped.get_group('Devils')"
      ],
      "execution_count": null,
      "outputs": [
        {
          "output_type": "execute_result",
          "data": {
            "text/html": [
              "<div>\n",
              "<style scoped>\n",
              "    .dataframe tbody tr th:only-of-type {\n",
              "        vertical-align: middle;\n",
              "    }\n",
              "\n",
              "    .dataframe tbody tr th {\n",
              "        vertical-align: top;\n",
              "    }\n",
              "\n",
              "    .dataframe thead th {\n",
              "        text-align: right;\n",
              "    }\n",
              "</style>\n",
              "<table border=\"1\" class=\"dataframe\">\n",
              "  <thead>\n",
              "    <tr style=\"text-align: right;\">\n",
              "      <th></th>\n",
              "      <th>Team</th>\n",
              "      <th>Rank</th>\n",
              "      <th>Year</th>\n",
              "      <th>Points</th>\n",
              "    </tr>\n",
              "  </thead>\n",
              "  <tbody>\n",
              "    <tr>\n",
              "      <th>2</th>\n",
              "      <td>Devils</td>\n",
              "      <td>2</td>\n",
              "      <td>2014</td>\n",
              "      <td>863</td>\n",
              "    </tr>\n",
              "    <tr>\n",
              "      <th>3</th>\n",
              "      <td>Devils</td>\n",
              "      <td>3</td>\n",
              "      <td>2015</td>\n",
              "      <td>673</td>\n",
              "    </tr>\n",
              "  </tbody>\n",
              "</table>\n",
              "</div>"
            ],
            "text/plain": [
              "     Team  Rank  Year  Points\n",
              "2  Devils     2  2014     863\n",
              "3  Devils     3  2015     673"
            ]
          },
          "metadata": {},
          "execution_count": 24
        }
      ]
    },
    {
      "cell_type": "markdown",
      "metadata": {
        "id": "cMqLkPHrgsX9"
      },
      "source": [
        "추출된 group 정보에는 아래와 같은 유형의 apply가 가능하다.\n",
        "* Aggregation: 요약된 통계정보를 추출해준다.\n",
        "* Transformation: 해당 정보를 변환해준다.\n",
        "* Filtration: 특정 정보를 제거해 보여주는 필터링해준다."
      ]
    },
    {
      "cell_type": "markdown",
      "metadata": {
        "id": "ljTNONHbhDvN"
      },
      "source": [
        "<h4>aggregation</h4>"
      ]
    },
    {
      "cell_type": "code",
      "metadata": {
        "colab": {
          "base_uri": "https://localhost:8080/",
          "height": 204
        },
        "id": "m-tR79otglNf",
        "outputId": "c17b61e4-a2a5-46b7-cc3a-b77da5cfc714"
      },
      "source": [
        "grouped.agg(sum)"
      ],
      "execution_count": null,
      "outputs": [
        {
          "output_type": "execute_result",
          "data": {
            "text/html": [
              "<div>\n",
              "<style scoped>\n",
              "    .dataframe tbody tr th:only-of-type {\n",
              "        vertical-align: middle;\n",
              "    }\n",
              "\n",
              "    .dataframe tbody tr th {\n",
              "        vertical-align: top;\n",
              "    }\n",
              "\n",
              "    .dataframe thead th {\n",
              "        text-align: right;\n",
              "    }\n",
              "</style>\n",
              "<table border=\"1\" class=\"dataframe\">\n",
              "  <thead>\n",
              "    <tr style=\"text-align: right;\">\n",
              "      <th></th>\n",
              "      <th>Rank</th>\n",
              "      <th>Year</th>\n",
              "      <th>Points</th>\n",
              "    </tr>\n",
              "    <tr>\n",
              "      <th>Team</th>\n",
              "      <th></th>\n",
              "      <th></th>\n",
              "      <th></th>\n",
              "    </tr>\n",
              "  </thead>\n",
              "  <tbody>\n",
              "    <tr>\n",
              "      <th>Devils</th>\n",
              "      <td>5</td>\n",
              "      <td>4029</td>\n",
              "      <td>1536</td>\n",
              "    </tr>\n",
              "    <tr>\n",
              "      <th>Kings</th>\n",
              "      <td>9</td>\n",
              "      <td>8062</td>\n",
              "      <td>3097</td>\n",
              "    </tr>\n",
              "    <tr>\n",
              "      <th>Riders</th>\n",
              "      <td>7</td>\n",
              "      <td>8062</td>\n",
              "      <td>3049</td>\n",
              "    </tr>\n",
              "    <tr>\n",
              "      <th>Royals</th>\n",
              "      <td>5</td>\n",
              "      <td>4029</td>\n",
              "      <td>1505</td>\n",
              "    </tr>\n",
              "  </tbody>\n",
              "</table>\n",
              "</div>"
            ],
            "text/plain": [
              "        Rank  Year  Points\n",
              "Team                      \n",
              "Devils     5  4029    1536\n",
              "Kings      9  8062    3097\n",
              "Riders     7  8062    3049\n",
              "Royals     5  4029    1505"
            ]
          },
          "metadata": {},
          "execution_count": 25
        }
      ]
    },
    {
      "cell_type": "code",
      "metadata": {
        "colab": {
          "base_uri": "https://localhost:8080/",
          "height": 204
        },
        "id": "mVujReGchLmc",
        "outputId": "54ffcc8f-f0ad-4db7-a018-66317b2259ec"
      },
      "source": [
        "import numpy as np\n",
        "grouped.agg(np.mean)"
      ],
      "execution_count": null,
      "outputs": [
        {
          "output_type": "execute_result",
          "data": {
            "text/html": [
              "<div>\n",
              "<style scoped>\n",
              "    .dataframe tbody tr th:only-of-type {\n",
              "        vertical-align: middle;\n",
              "    }\n",
              "\n",
              "    .dataframe tbody tr th {\n",
              "        vertical-align: top;\n",
              "    }\n",
              "\n",
              "    .dataframe thead th {\n",
              "        text-align: right;\n",
              "    }\n",
              "</style>\n",
              "<table border=\"1\" class=\"dataframe\">\n",
              "  <thead>\n",
              "    <tr style=\"text-align: right;\">\n",
              "      <th></th>\n",
              "      <th>Rank</th>\n",
              "      <th>Year</th>\n",
              "      <th>Points</th>\n",
              "    </tr>\n",
              "    <tr>\n",
              "      <th>Team</th>\n",
              "      <th></th>\n",
              "      <th></th>\n",
              "      <th></th>\n",
              "    </tr>\n",
              "  </thead>\n",
              "  <tbody>\n",
              "    <tr>\n",
              "      <th>Devils</th>\n",
              "      <td>2.50</td>\n",
              "      <td>2014.5</td>\n",
              "      <td>768.00</td>\n",
              "    </tr>\n",
              "    <tr>\n",
              "      <th>Kings</th>\n",
              "      <td>2.25</td>\n",
              "      <td>2015.5</td>\n",
              "      <td>774.25</td>\n",
              "    </tr>\n",
              "    <tr>\n",
              "      <th>Riders</th>\n",
              "      <td>1.75</td>\n",
              "      <td>2015.5</td>\n",
              "      <td>762.25</td>\n",
              "    </tr>\n",
              "    <tr>\n",
              "      <th>Royals</th>\n",
              "      <td>2.50</td>\n",
              "      <td>2014.5</td>\n",
              "      <td>752.50</td>\n",
              "    </tr>\n",
              "  </tbody>\n",
              "</table>\n",
              "</div>"
            ],
            "text/plain": [
              "        Rank    Year  Points\n",
              "Team                        \n",
              "Devils  2.50  2014.5  768.00\n",
              "Kings   2.25  2015.5  774.25\n",
              "Riders  1.75  2015.5  762.25\n",
              "Royals  2.50  2014.5  752.50"
            ]
          },
          "metadata": {},
          "execution_count": 26
        }
      ]
    },
    {
      "cell_type": "markdown",
      "metadata": {
        "id": "ltsgYcfvhbTO"
      },
      "source": [
        "아래와 같이 특정 **column에 여러개의 function을 Apply**할 수 있다."
      ]
    },
    {
      "cell_type": "code",
      "metadata": {
        "colab": {
          "base_uri": "https://localhost:8080/",
          "height": 204
        },
        "id": "ueQxIQo-hjyk",
        "outputId": "35bfbb37-b930-413a-af70-1ecdfec40af0"
      },
      "source": [
        "grouped['Points'].agg([np.sum, np.mean, np.std])"
      ],
      "execution_count": null,
      "outputs": [
        {
          "output_type": "execute_result",
          "data": {
            "text/html": [
              "<div>\n",
              "<style scoped>\n",
              "    .dataframe tbody tr th:only-of-type {\n",
              "        vertical-align: middle;\n",
              "    }\n",
              "\n",
              "    .dataframe tbody tr th {\n",
              "        vertical-align: top;\n",
              "    }\n",
              "\n",
              "    .dataframe thead th {\n",
              "        text-align: right;\n",
              "    }\n",
              "</style>\n",
              "<table border=\"1\" class=\"dataframe\">\n",
              "  <thead>\n",
              "    <tr style=\"text-align: right;\">\n",
              "      <th></th>\n",
              "      <th>sum</th>\n",
              "      <th>mean</th>\n",
              "      <th>std</th>\n",
              "    </tr>\n",
              "    <tr>\n",
              "      <th>Team</th>\n",
              "      <th></th>\n",
              "      <th></th>\n",
              "      <th></th>\n",
              "    </tr>\n",
              "  </thead>\n",
              "  <tbody>\n",
              "    <tr>\n",
              "      <th>Devils</th>\n",
              "      <td>1536</td>\n",
              "      <td>768.00</td>\n",
              "      <td>134.350288</td>\n",
              "    </tr>\n",
              "    <tr>\n",
              "      <th>Kings</th>\n",
              "      <td>3097</td>\n",
              "      <td>774.25</td>\n",
              "      <td>31.899582</td>\n",
              "    </tr>\n",
              "    <tr>\n",
              "      <th>Riders</th>\n",
              "      <td>3049</td>\n",
              "      <td>762.25</td>\n",
              "      <td>88.567771</td>\n",
              "    </tr>\n",
              "    <tr>\n",
              "      <th>Royals</th>\n",
              "      <td>1505</td>\n",
              "      <td>752.50</td>\n",
              "      <td>72.831998</td>\n",
              "    </tr>\n",
              "  </tbody>\n",
              "</table>\n",
              "</div>"
            ],
            "text/plain": [
              "         sum    mean         std\n",
              "Team                            \n",
              "Devils  1536  768.00  134.350288\n",
              "Kings   3097  774.25   31.899582\n",
              "Riders  3049  762.25   88.567771\n",
              "Royals  1505  752.50   72.831998"
            ]
          },
          "metadata": {},
          "execution_count": 27
        }
      ]
    },
    {
      "cell_type": "markdown",
      "metadata": {
        "id": "8IxLJCAihR7T"
      },
      "source": [
        "위와 같은 통계학적 정보는 이전에 배웠던 **describe() 메소드**를 사용할 수도 있다."
      ]
    },
    {
      "cell_type": "code",
      "metadata": {
        "colab": {
          "base_uri": "https://localhost:8080/",
          "height": 297
        },
        "id": "1lxppqK5iC1O",
        "outputId": "377e8493-2ad3-46d1-fbfa-c0155e96eb9d"
      },
      "source": [
        "df.describe()"
      ],
      "execution_count": null,
      "outputs": [
        {
          "output_type": "execute_result",
          "data": {
            "text/html": [
              "<div>\n",
              "<style scoped>\n",
              "    .dataframe tbody tr th:only-of-type {\n",
              "        vertical-align: middle;\n",
              "    }\n",
              "\n",
              "    .dataframe tbody tr th {\n",
              "        vertical-align: top;\n",
              "    }\n",
              "\n",
              "    .dataframe thead th {\n",
              "        text-align: right;\n",
              "    }\n",
              "</style>\n",
              "<table border=\"1\" class=\"dataframe\">\n",
              "  <thead>\n",
              "    <tr style=\"text-align: right;\">\n",
              "      <th></th>\n",
              "      <th>Rank</th>\n",
              "      <th>Year</th>\n",
              "      <th>Points</th>\n",
              "    </tr>\n",
              "  </thead>\n",
              "  <tbody>\n",
              "    <tr>\n",
              "      <th>count</th>\n",
              "      <td>12.000000</td>\n",
              "      <td>12.000000</td>\n",
              "      <td>12.000000</td>\n",
              "    </tr>\n",
              "    <tr>\n",
              "      <th>mean</th>\n",
              "      <td>2.166667</td>\n",
              "      <td>2015.166667</td>\n",
              "      <td>765.583333</td>\n",
              "    </tr>\n",
              "    <tr>\n",
              "      <th>std</th>\n",
              "      <td>1.114641</td>\n",
              "      <td>1.114641</td>\n",
              "      <td>67.849376</td>\n",
              "    </tr>\n",
              "    <tr>\n",
              "      <th>min</th>\n",
              "      <td>1.000000</td>\n",
              "      <td>2014.000000</td>\n",
              "      <td>673.000000</td>\n",
              "    </tr>\n",
              "    <tr>\n",
              "      <th>25%</th>\n",
              "      <td>1.000000</td>\n",
              "      <td>2014.000000</td>\n",
              "      <td>699.250000</td>\n",
              "    </tr>\n",
              "    <tr>\n",
              "      <th>50%</th>\n",
              "      <td>2.000000</td>\n",
              "      <td>2015.000000</td>\n",
              "      <td>772.000000</td>\n",
              "    </tr>\n",
              "    <tr>\n",
              "      <th>75%</th>\n",
              "      <td>3.000000</td>\n",
              "      <td>2016.000000</td>\n",
              "      <td>806.000000</td>\n",
              "    </tr>\n",
              "    <tr>\n",
              "      <th>max</th>\n",
              "      <td>4.000000</td>\n",
              "      <td>2017.000000</td>\n",
              "      <td>876.000000</td>\n",
              "    </tr>\n",
              "  </tbody>\n",
              "</table>\n",
              "</div>"
            ],
            "text/plain": [
              "            Rank         Year      Points\n",
              "count  12.000000    12.000000   12.000000\n",
              "mean    2.166667  2015.166667  765.583333\n",
              "std     1.114641     1.114641   67.849376\n",
              "min     1.000000  2014.000000  673.000000\n",
              "25%     1.000000  2014.000000  699.250000\n",
              "50%     2.000000  2015.000000  772.000000\n",
              "75%     3.000000  2016.000000  806.000000\n",
              "max     4.000000  2017.000000  876.000000"
            ]
          },
          "metadata": {},
          "execution_count": 30
        }
      ]
    },
    {
      "cell_type": "code",
      "metadata": {
        "colab": {
          "base_uri": "https://localhost:8080/",
          "height": 793
        },
        "id": "Dg6pTlBkhQCz",
        "outputId": "afb6582b-3ac6-4c33-a923-c69a5899b13d"
      },
      "source": [
        "grouped.describe().T"
      ],
      "execution_count": null,
      "outputs": [
        {
          "output_type": "execute_result",
          "data": {
            "text/html": [
              "<div>\n",
              "<style scoped>\n",
              "    .dataframe tbody tr th:only-of-type {\n",
              "        vertical-align: middle;\n",
              "    }\n",
              "\n",
              "    .dataframe tbody tr th {\n",
              "        vertical-align: top;\n",
              "    }\n",
              "\n",
              "    .dataframe thead th {\n",
              "        text-align: right;\n",
              "    }\n",
              "</style>\n",
              "<table border=\"1\" class=\"dataframe\">\n",
              "  <thead>\n",
              "    <tr style=\"text-align: right;\">\n",
              "      <th></th>\n",
              "      <th>Team</th>\n",
              "      <th>Devils</th>\n",
              "      <th>Kings</th>\n",
              "      <th>Riders</th>\n",
              "      <th>Royals</th>\n",
              "    </tr>\n",
              "  </thead>\n",
              "  <tbody>\n",
              "    <tr>\n",
              "      <th rowspan=\"8\" valign=\"top\">Rank</th>\n",
              "      <th>count</th>\n",
              "      <td>2.000000</td>\n",
              "      <td>4.000000</td>\n",
              "      <td>4.000000</td>\n",
              "      <td>2.000000</td>\n",
              "    </tr>\n",
              "    <tr>\n",
              "      <th>mean</th>\n",
              "      <td>2.500000</td>\n",
              "      <td>2.250000</td>\n",
              "      <td>1.750000</td>\n",
              "      <td>2.500000</td>\n",
              "    </tr>\n",
              "    <tr>\n",
              "      <th>std</th>\n",
              "      <td>0.707107</td>\n",
              "      <td>1.500000</td>\n",
              "      <td>0.500000</td>\n",
              "      <td>2.121320</td>\n",
              "    </tr>\n",
              "    <tr>\n",
              "      <th>min</th>\n",
              "      <td>2.000000</td>\n",
              "      <td>1.000000</td>\n",
              "      <td>1.000000</td>\n",
              "      <td>1.000000</td>\n",
              "    </tr>\n",
              "    <tr>\n",
              "      <th>25%</th>\n",
              "      <td>2.250000</td>\n",
              "      <td>1.000000</td>\n",
              "      <td>1.750000</td>\n",
              "      <td>1.750000</td>\n",
              "    </tr>\n",
              "    <tr>\n",
              "      <th>50%</th>\n",
              "      <td>2.500000</td>\n",
              "      <td>2.000000</td>\n",
              "      <td>2.000000</td>\n",
              "      <td>2.500000</td>\n",
              "    </tr>\n",
              "    <tr>\n",
              "      <th>75%</th>\n",
              "      <td>2.750000</td>\n",
              "      <td>3.250000</td>\n",
              "      <td>2.000000</td>\n",
              "      <td>3.250000</td>\n",
              "    </tr>\n",
              "    <tr>\n",
              "      <th>max</th>\n",
              "      <td>3.000000</td>\n",
              "      <td>4.000000</td>\n",
              "      <td>2.000000</td>\n",
              "      <td>4.000000</td>\n",
              "    </tr>\n",
              "    <tr>\n",
              "      <th rowspan=\"8\" valign=\"top\">Year</th>\n",
              "      <th>count</th>\n",
              "      <td>2.000000</td>\n",
              "      <td>4.000000</td>\n",
              "      <td>4.000000</td>\n",
              "      <td>2.000000</td>\n",
              "    </tr>\n",
              "    <tr>\n",
              "      <th>mean</th>\n",
              "      <td>2014.500000</td>\n",
              "      <td>2015.500000</td>\n",
              "      <td>2015.500000</td>\n",
              "      <td>2014.500000</td>\n",
              "    </tr>\n",
              "    <tr>\n",
              "      <th>std</th>\n",
              "      <td>0.707107</td>\n",
              "      <td>1.290994</td>\n",
              "      <td>1.290994</td>\n",
              "      <td>0.707107</td>\n",
              "    </tr>\n",
              "    <tr>\n",
              "      <th>min</th>\n",
              "      <td>2014.000000</td>\n",
              "      <td>2014.000000</td>\n",
              "      <td>2014.000000</td>\n",
              "      <td>2014.000000</td>\n",
              "    </tr>\n",
              "    <tr>\n",
              "      <th>25%</th>\n",
              "      <td>2014.250000</td>\n",
              "      <td>2014.750000</td>\n",
              "      <td>2014.750000</td>\n",
              "      <td>2014.250000</td>\n",
              "    </tr>\n",
              "    <tr>\n",
              "      <th>50%</th>\n",
              "      <td>2014.500000</td>\n",
              "      <td>2015.500000</td>\n",
              "      <td>2015.500000</td>\n",
              "      <td>2014.500000</td>\n",
              "    </tr>\n",
              "    <tr>\n",
              "      <th>75%</th>\n",
              "      <td>2014.750000</td>\n",
              "      <td>2016.250000</td>\n",
              "      <td>2016.250000</td>\n",
              "      <td>2014.750000</td>\n",
              "    </tr>\n",
              "    <tr>\n",
              "      <th>max</th>\n",
              "      <td>2015.000000</td>\n",
              "      <td>2017.000000</td>\n",
              "      <td>2017.000000</td>\n",
              "      <td>2015.000000</td>\n",
              "    </tr>\n",
              "    <tr>\n",
              "      <th rowspan=\"8\" valign=\"top\">Points</th>\n",
              "      <th>count</th>\n",
              "      <td>2.000000</td>\n",
              "      <td>4.000000</td>\n",
              "      <td>4.000000</td>\n",
              "      <td>2.000000</td>\n",
              "    </tr>\n",
              "    <tr>\n",
              "      <th>mean</th>\n",
              "      <td>768.000000</td>\n",
              "      <td>774.250000</td>\n",
              "      <td>762.250000</td>\n",
              "      <td>752.500000</td>\n",
              "    </tr>\n",
              "    <tr>\n",
              "      <th>std</th>\n",
              "      <td>134.350288</td>\n",
              "      <td>31.899582</td>\n",
              "      <td>88.567771</td>\n",
              "      <td>72.831998</td>\n",
              "    </tr>\n",
              "    <tr>\n",
              "      <th>min</th>\n",
              "      <td>673.000000</td>\n",
              "      <td>741.000000</td>\n",
              "      <td>690.000000</td>\n",
              "      <td>701.000000</td>\n",
              "    </tr>\n",
              "    <tr>\n",
              "      <th>25%</th>\n",
              "      <td>720.500000</td>\n",
              "      <td>752.250000</td>\n",
              "      <td>693.000000</td>\n",
              "      <td>726.750000</td>\n",
              "    </tr>\n",
              "    <tr>\n",
              "      <th>50%</th>\n",
              "      <td>768.000000</td>\n",
              "      <td>772.000000</td>\n",
              "      <td>741.500000</td>\n",
              "      <td>752.500000</td>\n",
              "    </tr>\n",
              "    <tr>\n",
              "      <th>75%</th>\n",
              "      <td>815.500000</td>\n",
              "      <td>794.000000</td>\n",
              "      <td>810.750000</td>\n",
              "      <td>778.250000</td>\n",
              "    </tr>\n",
              "    <tr>\n",
              "      <th>max</th>\n",
              "      <td>863.000000</td>\n",
              "      <td>812.000000</td>\n",
              "      <td>876.000000</td>\n",
              "      <td>804.000000</td>\n",
              "    </tr>\n",
              "  </tbody>\n",
              "</table>\n",
              "</div>"
            ],
            "text/plain": [
              "Team               Devils        Kings       Riders       Royals\n",
              "Rank   count     2.000000     4.000000     4.000000     2.000000\n",
              "       mean      2.500000     2.250000     1.750000     2.500000\n",
              "       std       0.707107     1.500000     0.500000     2.121320\n",
              "       min       2.000000     1.000000     1.000000     1.000000\n",
              "       25%       2.250000     1.000000     1.750000     1.750000\n",
              "       50%       2.500000     2.000000     2.000000     2.500000\n",
              "       75%       2.750000     3.250000     2.000000     3.250000\n",
              "       max       3.000000     4.000000     2.000000     4.000000\n",
              "Year   count     2.000000     4.000000     4.000000     2.000000\n",
              "       mean   2014.500000  2015.500000  2015.500000  2014.500000\n",
              "       std       0.707107     1.290994     1.290994     0.707107\n",
              "       min    2014.000000  2014.000000  2014.000000  2014.000000\n",
              "       25%    2014.250000  2014.750000  2014.750000  2014.250000\n",
              "       50%    2014.500000  2015.500000  2015.500000  2014.500000\n",
              "       75%    2014.750000  2016.250000  2016.250000  2014.750000\n",
              "       max    2015.000000  2017.000000  2017.000000  2015.000000\n",
              "Points count     2.000000     4.000000     4.000000     2.000000\n",
              "       mean    768.000000   774.250000   762.250000   752.500000\n",
              "       std     134.350288    31.899582    88.567771    72.831998\n",
              "       min     673.000000   741.000000   690.000000   701.000000\n",
              "       25%     720.500000   752.250000   693.000000   726.750000\n",
              "       50%     768.000000   772.000000   741.500000   752.500000\n",
              "       75%     815.500000   794.000000   810.750000   778.250000\n",
              "       max     863.000000   812.000000   876.000000   804.000000"
            ]
          },
          "metadata": {},
          "execution_count": 29
        }
      ]
    },
    {
      "cell_type": "markdown",
      "metadata": {
        "id": "3s0XBOkQiIPd"
      },
      "source": [
        "<h4> transformation </h4>\n",
        "\n",
        "Aggregation과 달리 key값 별로 요약된 정보가 아니다. <br>\n",
        "**개별 데이터의 변환을 지원한다.**"
      ]
    },
    {
      "cell_type": "code",
      "metadata": {
        "colab": {
          "base_uri": "https://localhost:8080/",
          "height": 421
        },
        "id": "LfrioDgpi9UD",
        "outputId": "c49451fb-7faf-4b7d-be64-fad15bcedc8f"
      },
      "source": [
        "score = lambda x: ((x - x.mean()) / x.std())\n",
        "grouped.transform(score)"
      ],
      "execution_count": null,
      "outputs": [
        {
          "output_type": "execute_result",
          "data": {
            "text/html": [
              "<div>\n",
              "<style scoped>\n",
              "    .dataframe tbody tr th:only-of-type {\n",
              "        vertical-align: middle;\n",
              "    }\n",
              "\n",
              "    .dataframe tbody tr th {\n",
              "        vertical-align: top;\n",
              "    }\n",
              "\n",
              "    .dataframe thead th {\n",
              "        text-align: right;\n",
              "    }\n",
              "</style>\n",
              "<table border=\"1\" class=\"dataframe\">\n",
              "  <thead>\n",
              "    <tr style=\"text-align: right;\">\n",
              "      <th></th>\n",
              "      <th>Rank</th>\n",
              "      <th>Year</th>\n",
              "      <th>Points</th>\n",
              "    </tr>\n",
              "  </thead>\n",
              "  <tbody>\n",
              "    <tr>\n",
              "      <th>0</th>\n",
              "      <td>-1.500000</td>\n",
              "      <td>-1.161895</td>\n",
              "      <td>1.284327</td>\n",
              "    </tr>\n",
              "    <tr>\n",
              "      <th>1</th>\n",
              "      <td>0.500000</td>\n",
              "      <td>-0.387298</td>\n",
              "      <td>0.302029</td>\n",
              "    </tr>\n",
              "    <tr>\n",
              "      <th>2</th>\n",
              "      <td>-0.707107</td>\n",
              "      <td>-0.707107</td>\n",
              "      <td>0.707107</td>\n",
              "    </tr>\n",
              "    <tr>\n",
              "      <th>3</th>\n",
              "      <td>0.707107</td>\n",
              "      <td>0.707107</td>\n",
              "      <td>-0.707107</td>\n",
              "    </tr>\n",
              "    <tr>\n",
              "      <th>4</th>\n",
              "      <td>0.500000</td>\n",
              "      <td>-1.161895</td>\n",
              "      <td>-1.042333</td>\n",
              "    </tr>\n",
              "    <tr>\n",
              "      <th>5</th>\n",
              "      <td>1.166667</td>\n",
              "      <td>-0.387298</td>\n",
              "      <td>1.183401</td>\n",
              "    </tr>\n",
              "    <tr>\n",
              "      <th>6</th>\n",
              "      <td>-0.833333</td>\n",
              "      <td>0.387298</td>\n",
              "      <td>-0.572108</td>\n",
              "    </tr>\n",
              "    <tr>\n",
              "      <th>7</th>\n",
              "      <td>-0.833333</td>\n",
              "      <td>1.161895</td>\n",
              "      <td>0.431040</td>\n",
              "    </tr>\n",
              "    <tr>\n",
              "      <th>8</th>\n",
              "      <td>0.500000</td>\n",
              "      <td>0.387298</td>\n",
              "      <td>-0.770596</td>\n",
              "    </tr>\n",
              "    <tr>\n",
              "      <th>9</th>\n",
              "      <td>0.707107</td>\n",
              "      <td>-0.707107</td>\n",
              "      <td>-0.707107</td>\n",
              "    </tr>\n",
              "    <tr>\n",
              "      <th>10</th>\n",
              "      <td>-0.707107</td>\n",
              "      <td>0.707107</td>\n",
              "      <td>0.707107</td>\n",
              "    </tr>\n",
              "    <tr>\n",
              "      <th>11</th>\n",
              "      <td>0.500000</td>\n",
              "      <td>1.161895</td>\n",
              "      <td>-0.815759</td>\n",
              "    </tr>\n",
              "  </tbody>\n",
              "</table>\n",
              "</div>"
            ],
            "text/plain": [
              "        Rank      Year    Points\n",
              "0  -1.500000 -1.161895  1.284327\n",
              "1   0.500000 -0.387298  0.302029\n",
              "2  -0.707107 -0.707107  0.707107\n",
              "3   0.707107  0.707107 -0.707107\n",
              "4   0.500000 -1.161895 -1.042333\n",
              "5   1.166667 -0.387298  1.183401\n",
              "6  -0.833333  0.387298 -0.572108\n",
              "7  -0.833333  1.161895  0.431040\n",
              "8   0.500000  0.387298 -0.770596\n",
              "9   0.707107 -0.707107 -0.707107\n",
              "10 -0.707107  0.707107  0.707107\n",
              "11  0.500000  1.161895 -0.815759"
            ]
          },
          "metadata": {},
          "execution_count": 35
        }
      ]
    },
    {
      "cell_type": "markdown",
      "metadata": {
        "id": "GPo5ZyKJjvwX"
      },
      "source": [
        "<h4> filter </h4>\n",
        "\n",
        "아래와 같이 **filter() 함수**는 특정 조건으로 데이터를 검색할 때 사용할 수 있다."
      ]
    },
    {
      "cell_type": "code",
      "metadata": {
        "colab": {
          "base_uri": "https://localhost:8080/",
          "height": 297
        },
        "id": "Qya8N7aSjUPc",
        "outputId": "77c2ff96-7ec5-433c-9469-81e404b5782b"
      },
      "source": [
        "df.groupby('Team').filter(lambda x: len(x) >= 3)"
      ],
      "execution_count": null,
      "outputs": [
        {
          "output_type": "execute_result",
          "data": {
            "text/html": [
              "<div>\n",
              "<style scoped>\n",
              "    .dataframe tbody tr th:only-of-type {\n",
              "        vertical-align: middle;\n",
              "    }\n",
              "\n",
              "    .dataframe tbody tr th {\n",
              "        vertical-align: top;\n",
              "    }\n",
              "\n",
              "    .dataframe thead th {\n",
              "        text-align: right;\n",
              "    }\n",
              "</style>\n",
              "<table border=\"1\" class=\"dataframe\">\n",
              "  <thead>\n",
              "    <tr style=\"text-align: right;\">\n",
              "      <th></th>\n",
              "      <th>Team</th>\n",
              "      <th>Rank</th>\n",
              "      <th>Year</th>\n",
              "      <th>Points</th>\n",
              "    </tr>\n",
              "  </thead>\n",
              "  <tbody>\n",
              "    <tr>\n",
              "      <th>0</th>\n",
              "      <td>Riders</td>\n",
              "      <td>1</td>\n",
              "      <td>2014</td>\n",
              "      <td>876</td>\n",
              "    </tr>\n",
              "    <tr>\n",
              "      <th>1</th>\n",
              "      <td>Riders</td>\n",
              "      <td>2</td>\n",
              "      <td>2015</td>\n",
              "      <td>789</td>\n",
              "    </tr>\n",
              "    <tr>\n",
              "      <th>4</th>\n",
              "      <td>Kings</td>\n",
              "      <td>3</td>\n",
              "      <td>2014</td>\n",
              "      <td>741</td>\n",
              "    </tr>\n",
              "    <tr>\n",
              "      <th>5</th>\n",
              "      <td>Kings</td>\n",
              "      <td>4</td>\n",
              "      <td>2015</td>\n",
              "      <td>812</td>\n",
              "    </tr>\n",
              "    <tr>\n",
              "      <th>6</th>\n",
              "      <td>Kings</td>\n",
              "      <td>1</td>\n",
              "      <td>2016</td>\n",
              "      <td>756</td>\n",
              "    </tr>\n",
              "    <tr>\n",
              "      <th>7</th>\n",
              "      <td>Kings</td>\n",
              "      <td>1</td>\n",
              "      <td>2017</td>\n",
              "      <td>788</td>\n",
              "    </tr>\n",
              "    <tr>\n",
              "      <th>8</th>\n",
              "      <td>Riders</td>\n",
              "      <td>2</td>\n",
              "      <td>2016</td>\n",
              "      <td>694</td>\n",
              "    </tr>\n",
              "    <tr>\n",
              "      <th>11</th>\n",
              "      <td>Riders</td>\n",
              "      <td>2</td>\n",
              "      <td>2017</td>\n",
              "      <td>690</td>\n",
              "    </tr>\n",
              "  </tbody>\n",
              "</table>\n",
              "</div>"
            ],
            "text/plain": [
              "      Team  Rank  Year  Points\n",
              "0   Riders     1  2014     876\n",
              "1   Riders     2  2015     789\n",
              "4    Kings     3  2014     741\n",
              "5    Kings     4  2015     812\n",
              "6    Kings     1  2016     756\n",
              "7    Kings     1  2017     788\n",
              "8   Riders     2  2016     694\n",
              "11  Riders     2  2017     690"
            ]
          },
          "metadata": {},
          "execution_count": 36
        }
      ]
    },
    {
      "cell_type": "markdown",
      "metadata": {
        "id": "ffpBlh58kQJP"
      },
      "source": [
        "아래와 같이 **value_counts() 함수**로 그룹별 개수를 알 수 있다."
      ]
    },
    {
      "cell_type": "code",
      "metadata": {
        "colab": {
          "base_uri": "https://localhost:8080/"
        },
        "id": "Kdr3LlO6kVR3",
        "outputId": "35c39f2f-87b6-4fe7-a998-1f170f3237ff"
      },
      "source": [
        "df['Team'].value_counts()"
      ],
      "execution_count": null,
      "outputs": [
        {
          "output_type": "execute_result",
          "data": {
            "text/plain": [
              "Kings     4\n",
              "Riders    4\n",
              "Devils    2\n",
              "Royals    2\n",
              "Name: Team, dtype: int64"
            ]
          },
          "metadata": {},
          "execution_count": 38
        }
      ]
    },
    {
      "cell_type": "code",
      "metadata": {
        "colab": {
          "base_uri": "https://localhost:8080/"
        },
        "id": "RHqIaNSZkcyT",
        "outputId": "a37f4eed-5b15-49f3-e7b6-4afda6d6b0ad"
      },
      "source": [
        "df.value_counts()"
      ],
      "execution_count": null,
      "outputs": [
        {
          "output_type": "execute_result",
          "data": {
            "text/plain": [
              "Team    Rank  Year  Points\n",
              "Royals  4     2014  701       1\n",
              "        1     2015  804       1\n",
              "Riders  2     2017  690       1\n",
              "              2016  694       1\n",
              "              2015  789       1\n",
              "        1     2014  876       1\n",
              "Kings   4     2015  812       1\n",
              "        3     2014  741       1\n",
              "        1     2017  788       1\n",
              "              2016  756       1\n",
              "Devils  3     2015  673       1\n",
              "        2     2014  863       1\n",
              "dtype: int64"
            ]
          },
          "metadata": {},
          "execution_count": 39
        }
      ]
    }
  ]
}