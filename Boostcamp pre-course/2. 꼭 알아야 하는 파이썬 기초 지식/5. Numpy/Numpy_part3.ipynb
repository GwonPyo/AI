{
  "nbformat": 4,
  "nbformat_minor": 0,
  "metadata": {
    "colab": {
      "name": "Numpy_part3.ipynb",
      "provenance": [],
      "collapsed_sections": []
    },
    "kernelspec": {
      "name": "python3",
      "display_name": "Python 3"
    },
    "language_info": {
      "name": "python"
    }
  },
  "cells": [
    {
      "cell_type": "code",
      "metadata": {
        "id": "ye3Vr_thimUn"
      },
      "source": [
        "import numpy as np"
      ],
      "execution_count": 1,
      "outputs": []
    },
    {
      "cell_type": "markdown",
      "metadata": {
        "id": "jI3PtcZuipN9"
      },
      "source": [
        "<h4> comparisons </h4>\n",
        "all & any: Array의 데이터 전부(and)또는 일부(or)가 조건에 만족하는지 여부를 반환한다.\n",
        "\n",
        "* np.any(a > 5), np.any(a < 0)\n",
        "* np.all(a > 5), np.all(a < 10)"
      ]
    },
    {
      "cell_type": "code",
      "metadata": {
        "colab": {
          "base_uri": "https://localhost:8080/"
        },
        "id": "vcE7NpLKvFnp",
        "outputId": "44270f69-d56e-4ae5-8d66-235c0075d623"
      },
      "source": [
        "a = np.arange(10)\n",
        "# 브로드캐스팅이 일어나서 모든 원소에 해당 조건식을 적용한다.\n",
        "a < 4"
      ],
      "execution_count": 2,
      "outputs": [
        {
          "output_type": "execute_result",
          "data": {
            "text/plain": [
              "array([ True,  True,  True,  True, False, False, False, False, False,\n",
              "       False])"
            ]
          },
          "metadata": {},
          "execution_count": 2
        }
      ]
    },
    {
      "cell_type": "code",
      "metadata": {
        "colab": {
          "base_uri": "https://localhost:8080/"
        },
        "id": "VxumtmzxvIb3",
        "outputId": "39c1b614-7861-428c-ecd2-5582d33f0b5a"
      },
      "source": [
        "# 모두 True이므로 True 반환\n",
        "np.all(a < 10)"
      ],
      "execution_count": 3,
      "outputs": [
        {
          "output_type": "execute_result",
          "data": {
            "text/plain": [
              "True"
            ]
          },
          "metadata": {},
          "execution_count": 3
        }
      ]
    },
    {
      "cell_type": "code",
      "metadata": {
        "colab": {
          "base_uri": "https://localhost:8080/"
        },
        "id": "q6cywTNgvnBu",
        "outputId": "0c55badb-5f14-4c10-d46c-da98593b30cf"
      },
      "source": [
        "# 하나라도 False이므로 False 반환\n",
        "np.all(a > 5)"
      ],
      "execution_count": 4,
      "outputs": [
        {
          "output_type": "execute_result",
          "data": {
            "text/plain": [
              "False"
            ]
          },
          "metadata": {},
          "execution_count": 4
        }
      ]
    },
    {
      "cell_type": "code",
      "metadata": {
        "colab": {
          "base_uri": "https://localhost:8080/"
        },
        "id": "SBWsN2lyvqnO",
        "outputId": "c8cdf1dd-a0d7-4417-a6c1-e808eeb5b024"
      },
      "source": [
        "# 하나라도 True이므로 True 반환\n",
        "np.any(a > 5)"
      ],
      "execution_count": 5,
      "outputs": [
        {
          "output_type": "execute_result",
          "data": {
            "text/plain": [
              "True"
            ]
          },
          "metadata": {},
          "execution_count": 5
        }
      ]
    },
    {
      "cell_type": "code",
      "metadata": {
        "colab": {
          "base_uri": "https://localhost:8080/"
        },
        "id": "TGp6pimkvsBO",
        "outputId": "02d39afb-110a-4b32-dda7-8aa40f560149"
      },
      "source": [
        "# 모두 False이므로 False 반환\n",
        "np.any(a < 0)"
      ],
      "execution_count": 6,
      "outputs": [
        {
          "output_type": "execute_result",
          "data": {
            "text/plain": [
              "False"
            ]
          },
          "metadata": {},
          "execution_count": 6
        }
      ]
    },
    {
      "cell_type": "markdown",
      "metadata": {
        "id": "GRnDtiC7v7IP"
      },
      "source": [
        "numpy는 배열의 크기가 동일 할 때 element간 비교 결과를 Boolean type으로 반환한다."
      ]
    },
    {
      "cell_type": "code",
      "metadata": {
        "colab": {
          "base_uri": "https://localhost:8080/"
        },
        "id": "ZDBCVzr2wEBG",
        "outputId": "5e78041e-5f01-4667-edd1-d93b022b2a5e"
      },
      "source": [
        "test_a = np.array([1, 3, 0], float)\n",
        "test_b = np.array([5, 2, 1], float)\n",
        "test_a > test_b"
      ],
      "execution_count": 7,
      "outputs": [
        {
          "output_type": "execute_result",
          "data": {
            "text/plain": [
              "array([False,  True, False])"
            ]
          },
          "metadata": {},
          "execution_count": 7
        }
      ]
    },
    {
      "cell_type": "code",
      "metadata": {
        "colab": {
          "base_uri": "https://localhost:8080/"
        },
        "id": "qsrmYHEiwOHe",
        "outputId": "5dbc37dd-60cf-454a-9cde-a74ea4409221"
      },
      "source": [
        "test_a == test_b"
      ],
      "execution_count": 8,
      "outputs": [
        {
          "output_type": "execute_result",
          "data": {
            "text/plain": [
              "array([False, False, False])"
            ]
          },
          "metadata": {},
          "execution_count": 8
        }
      ]
    },
    {
      "cell_type": "code",
      "metadata": {
        "colab": {
          "base_uri": "https://localhost:8080/"
        },
        "id": "TNKN9vOZwQ12",
        "outputId": "72b5dff9-b131-4a02-8646-0b001640ade8"
      },
      "source": [
        "(test_a > test_b).any()"
      ],
      "execution_count": 9,
      "outputs": [
        {
          "output_type": "execute_result",
          "data": {
            "text/plain": [
              "True"
            ]
          },
          "metadata": {},
          "execution_count": 9
        }
      ]
    },
    {
      "cell_type": "markdown",
      "metadata": {
        "id": "YwuFyCLuA1wy"
      },
      "source": [
        "**np.logical_and, logical_not, logical_or 함수**로 두 array에 논리 연산자를 사용할 수 있다."
      ]
    },
    {
      "cell_type": "code",
      "metadata": {
        "colab": {
          "base_uri": "https://localhost:8080/"
        },
        "id": "C0CkBAx7wT-O",
        "outputId": "54fe7752-beac-480d-f951-0dad3c4a1d35"
      },
      "source": [
        "a = np.array([1, 3, 0], float)\n",
        "np.logical_and(a > 0, a < 3)"
      ],
      "execution_count": 10,
      "outputs": [
        {
          "output_type": "execute_result",
          "data": {
            "text/plain": [
              "array([ True, False, False])"
            ]
          },
          "metadata": {},
          "execution_count": 10
        }
      ]
    },
    {
      "cell_type": "code",
      "metadata": {
        "colab": {
          "base_uri": "https://localhost:8080/"
        },
        "id": "Rj3np1ZLBFHy",
        "outputId": "ac8a8c2d-a66d-4036-f9a9-ed17f99082c0"
      },
      "source": [
        "b = np.array([True, False, True], bool)\n",
        "np.logical_not(b)"
      ],
      "execution_count": 12,
      "outputs": [
        {
          "output_type": "execute_result",
          "data": {
            "text/plain": [
              "array([False,  True, False])"
            ]
          },
          "metadata": {},
          "execution_count": 12
        }
      ]
    },
    {
      "cell_type": "code",
      "metadata": {
        "colab": {
          "base_uri": "https://localhost:8080/"
        },
        "id": "XYqPdSLVBG2h",
        "outputId": "7aea0ee6-7c84-4ffb-c02d-6e789c892560"
      },
      "source": [
        "c = np.array([False, True, False], bool)\n",
        "np.logical_or(b, c)"
      ],
      "execution_count": 13,
      "outputs": [
        {
          "output_type": "execute_result",
          "data": {
            "text/plain": [
              "array([ True,  True,  True])"
            ]
          },
          "metadata": {},
          "execution_count": 13
        }
      ]
    },
    {
      "cell_type": "markdown",
      "metadata": {
        "id": "WM5WI4WmBvG1"
      },
      "source": [
        "**np.where(), np.isnan(), np.isfinite**"
      ]
    },
    {
      "cell_type": "markdown",
      "metadata": {
        "id": "ISQeBYLPCoVX"
      },
      "source": [
        "where 함수는 아래와 같은 방식으로 True인 곳과 False인 곳의 값을 원하는 값으로 바꿀 수 있다.\n",
        "\n",
        "* **np.where(조건식, True를 변환할 값, False를 변환할 값)**"
      ]
    },
    {
      "cell_type": "code",
      "metadata": {
        "colab": {
          "base_uri": "https://localhost:8080/"
        },
        "id": "zJafbNSQBW1x",
        "outputId": "411297b5-7432-45b3-ff7c-4ad1d755e1e4"
      },
      "source": [
        "a = np.array([1, 3, 0], float)\n",
        "np.where(a > 0, 3, 2)"
      ],
      "execution_count": 14,
      "outputs": [
        {
          "output_type": "execute_result",
          "data": {
            "text/plain": [
              "array([3, 3, 2])"
            ]
          },
          "metadata": {},
          "execution_count": 14
        }
      ]
    },
    {
      "cell_type": "markdown",
      "metadata": {
        "id": "_u6b-WXPC5IR"
      },
      "source": [
        "where 함수에 아래와 같이 조건식만 전달하면 True인 곳의 인덱스만 추출할 수 있다. **단, 튜플안에 array가 원소로 있는 형태로 반환한다.**\n",
        "\n",
        "* **np.where(조건식)**"
      ]
    },
    {
      "cell_type": "code",
      "metadata": {
        "colab": {
          "base_uri": "https://localhost:8080/"
        },
        "id": "s7vV0lqSCEko",
        "outputId": "c5e6da8f-44fb-4fb4-ca03-0b1bcfe4bb2d"
      },
      "source": [
        "b = np.array([5, 6, 1, 7, 8])\n",
        "np.where(b > 5)"
      ],
      "execution_count": 15,
      "outputs": [
        {
          "output_type": "execute_result",
          "data": {
            "text/plain": [
              "(array([1, 3, 4]),)"
            ]
          },
          "metadata": {},
          "execution_count": 15
        }
      ]
    },
    {
      "cell_type": "markdown",
      "metadata": {
        "id": "RF21y9PADBPK"
      },
      "source": [
        "**isnan 함수**는 np.NaN값을 가진 데이터는 True 아닌 값은 False로 반환한다. <br>\n",
        "**isfinite(a)**는 np.Inf값을 가진 데이터는 True 아닌 값은 False로 반환한다."
      ]
    },
    {
      "cell_type": "code",
      "metadata": {
        "colab": {
          "base_uri": "https://localhost:8080/"
        },
        "id": "Dg_Fq7y9Cmn4",
        "outputId": "f52cd156-68ff-4885-dbbf-be1668c90bac"
      },
      "source": [
        "c = np.array([1, np.NaN, np.Inf], float)\n",
        "np.isnan(c)"
      ],
      "execution_count": 17,
      "outputs": [
        {
          "output_type": "execute_result",
          "data": {
            "text/plain": [
              "array([False,  True, False])"
            ]
          },
          "metadata": {},
          "execution_count": 17
        }
      ]
    },
    {
      "cell_type": "code",
      "metadata": {
        "colab": {
          "base_uri": "https://localhost:8080/"
        },
        "id": "K1DzllSQDLGh",
        "outputId": "41d3bc30-77d4-425d-b61d-7eb9455fd0d3"
      },
      "source": [
        "np.isfinite(c)"
      ],
      "execution_count": 18,
      "outputs": [
        {
          "output_type": "execute_result",
          "data": {
            "text/plain": [
              "array([ True, False, False])"
            ]
          },
          "metadata": {},
          "execution_count": 18
        }
      ]
    },
    {
      "cell_type": "markdown",
      "metadata": {
        "id": "YGlmP-F7D8fK"
      },
      "source": [
        "**np.argmax(), np.argmin()**: array내 최대값 또는 최소값의 index를 반환한다. "
      ]
    },
    {
      "cell_type": "code",
      "metadata": {
        "colab": {
          "base_uri": "https://localhost:8080/"
        },
        "id": "hZym7ka1ENCO",
        "outputId": "aa7cb0dd-6e03-4d4d-b731-ceda626cad82"
      },
      "source": [
        "a = np.array([1, 2, 4, 5, 8, 78, 23, 3])\n",
        "print(np.argmax(a), np.argmin(a))"
      ],
      "execution_count": 19,
      "outputs": [
        {
          "output_type": "stream",
          "name": "stdout",
          "text": [
            "5 0\n"
          ]
        }
      ]
    },
    {
      "cell_type": "markdown",
      "metadata": {
        "id": "VgBcvyMKEaOh"
      },
      "source": [
        "axis 매개변수로 축을 지정할 수 있다."
      ]
    },
    {
      "cell_type": "code",
      "metadata": {
        "colab": {
          "base_uri": "https://localhost:8080/"
        },
        "id": "JyIEKDbUDmMZ",
        "outputId": "4ad9aa9a-46d2-46c7-8baa-db4551abfc58"
      },
      "source": [
        "a = np.array([[1, 2, 4, 7], [9, 88, 6, 45], [9, 76, 3, 4]])\n",
        "print(np.argmin(a, axis = 0), np.argmax(a, axis = 1))"
      ],
      "execution_count": 22,
      "outputs": [
        {
          "output_type": "stream",
          "name": "stdout",
          "text": [
            "[0 0 2 2] [3 1 1]\n"
          ]
        }
      ]
    },
    {
      "cell_type": "markdown",
      "metadata": {
        "id": "3YZZe8KHE83s"
      },
      "source": [
        "**np.argsort()**: 오름차순으로 index를 정렬한다."
      ]
    },
    {
      "cell_type": "code",
      "metadata": {
        "colab": {
          "base_uri": "https://localhost:8080/"
        },
        "id": "sXBAYFAsEqih",
        "outputId": "cad246ac-3c17-4e30-ff29-a816d63455b5"
      },
      "source": [
        "a = np.array([1, 2, 4, 5, 8, 78, 23, 3])\n",
        "a.argsort()"
      ],
      "execution_count": 23,
      "outputs": [
        {
          "output_type": "execute_result",
          "data": {
            "text/plain": [
              "array([0, 1, 7, 2, 3, 4, 6, 5])"
            ]
          },
          "metadata": {},
          "execution_count": 23
        }
      ]
    },
    {
      "cell_type": "code",
      "metadata": {
        "colab": {
          "base_uri": "https://localhost:8080/"
        },
        "id": "CKaqrJM8FGMq",
        "outputId": "831a36de-3b43-4df8-a501-51cc7b3f4e4e"
      },
      "source": [
        "a.argsort()[::-1]"
      ],
      "execution_count": 24,
      "outputs": [
        {
          "output_type": "execute_result",
          "data": {
            "text/plain": [
              "array([5, 6, 4, 3, 2, 7, 1, 0])"
            ]
          },
          "metadata": {},
          "execution_count": 24
        }
      ]
    },
    {
      "cell_type": "markdown",
      "metadata": {
        "id": "766e8xGoFRwh"
      },
      "source": [
        "<h3> boolean & fancy index </h3>\n",
        "\n",
        "<h4> boolean index </h4>\n",
        "\n",
        "boolean indexing을 사용하면 특정 조건에 따른 값을 배열 형태로 추출할 수 있다. <br>\n",
        "Comparison operation 함수들도 모두 사용할 수 있다.\n"
      ]
    },
    {
      "cell_type": "code",
      "metadata": {
        "colab": {
          "base_uri": "https://localhost:8080/"
        },
        "id": "ER4pM4Z-FKHR",
        "outputId": "f2bad0ad-d0f7-42ee-b8f3-7435cdb77c61"
      },
      "source": [
        "test_array = np.array([1, 4, 0, 2, 3, 8, 9, 7], float)\n",
        "test_array > 3"
      ],
      "execution_count": 27,
      "outputs": [
        {
          "output_type": "execute_result",
          "data": {
            "text/plain": [
              "array([False,  True, False, False, False,  True,  True,  True])"
            ]
          },
          "metadata": {},
          "execution_count": 27
        }
      ]
    },
    {
      "cell_type": "code",
      "metadata": {
        "colab": {
          "base_uri": "https://localhost:8080/"
        },
        "id": "xVKfsr7eGHq5",
        "outputId": "494634dc-f617-421d-f202-2e5969124d00"
      },
      "source": [
        "test_array[test_array > 3]"
      ],
      "execution_count": 28,
      "outputs": [
        {
          "output_type": "execute_result",
          "data": {
            "text/plain": [
              "array([4., 8., 9., 7.])"
            ]
          },
          "metadata": {},
          "execution_count": 28
        }
      ]
    },
    {
      "cell_type": "code",
      "metadata": {
        "colab": {
          "base_uri": "https://localhost:8080/"
        },
        "id": "7StN-GqeGJ7B",
        "outputId": "0625b8ae-c9b7-42c3-d9f6-c8e2fb3dbc91"
      },
      "source": [
        "condition = test_array < 3\n",
        "test_array[condition]"
      ],
      "execution_count": 30,
      "outputs": [
        {
          "output_type": "execute_result",
          "data": {
            "text/plain": [
              "array([1., 0., 2.])"
            ]
          },
          "metadata": {},
          "execution_count": 30
        }
      ]
    },
    {
      "cell_type": "markdown",
      "metadata": {
        "id": "xG7lJbA8Gd_7"
      },
      "source": [
        "<h4> fancy index </h4>\n",
        "\n",
        "**numpy는 array를 index value로 사용해 값을 추출할 수 있다.**"
      ]
    },
    {
      "cell_type": "code",
      "metadata": {
        "colab": {
          "base_uri": "https://localhost:8080/"
        },
        "id": "ttRx4ZyYGOHJ",
        "outputId": "173a5b1d-cf55-428e-93d5-bed6168143d9"
      },
      "source": [
        "a = np.array([2, 4, 6, 8], float)\n",
        "b = np.array([0, 0, 1, 3, 2, 1], int)\n",
        "a[b] # bracket index, b 배열의 값을 index로 하여 a의 값을 추출한다."
      ],
      "execution_count": 31,
      "outputs": [
        {
          "output_type": "execute_result",
          "data": {
            "text/plain": [
              "array([2., 2., 4., 8., 6., 4.])"
            ]
          },
          "metadata": {},
          "execution_count": 31
        }
      ]
    },
    {
      "cell_type": "code",
      "metadata": {
        "id": "_9iaCAWVGwXC"
      },
      "source": [
        "a.take(b) # take 함수: bracket index와 같은 효과"
      ],
      "execution_count": null,
      "outputs": []
    },
    {
      "cell_type": "markdown",
      "metadata": {
        "id": "NH8WhahiHMbG"
      },
      "source": [
        "matrix 형태의 데이터도 가능하다."
      ]
    },
    {
      "cell_type": "code",
      "metadata": {
        "colab": {
          "base_uri": "https://localhost:8080/"
        },
        "id": "JhAEbFXKHOie",
        "outputId": "584a9312-073d-4421-b57e-57ff86f80eb1"
      },
      "source": [
        "a = np.array([[1, 4], [9, 16]], float)\n",
        "b = np.array([0, 0, 1, 1, 0], int)\n",
        "c = np.array([0, 1, 1, 1, 1], int)\n",
        "a[b, c] # b: row index, c: col index"
      ],
      "execution_count": 32,
      "outputs": [
        {
          "output_type": "execute_result",
          "data": {
            "text/plain": [
              "array([ 1.,  4., 16., 16.,  4.])"
            ]
          },
          "metadata": {},
          "execution_count": 32
        }
      ]
    },
    {
      "cell_type": "markdown",
      "metadata": {
        "id": "6mV6Yv7zHyYi"
      },
      "source": [
        "<h3> numpy data I/O </h3>\n",
        "\n",
        "**np.loadtxt()**와 **np.savetxt()**를 이용해 text type의 데이터를 읽고 저장할 수 있다. <br>\n",
        "**np.load()**와 **np.save()**를 이용해 npy파일을 읽고 저장할 수 있다. npy파일은 pickle 형태로 저장된다.\n",
        "\n",
        "* pickle은 파이썬의 대표적인 데이터 저장 방식이다.(3장 참고)"
      ]
    }
  ]
}