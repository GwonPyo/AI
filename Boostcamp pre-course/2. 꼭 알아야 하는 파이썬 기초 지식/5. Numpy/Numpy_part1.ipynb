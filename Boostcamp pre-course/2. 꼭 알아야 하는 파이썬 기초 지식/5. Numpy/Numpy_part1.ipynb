{
  "nbformat": 4,
  "nbformat_minor": 0,
  "metadata": {
    "colab": {
      "name": "5. Numpy_part1.ipynb",
      "provenance": [],
      "collapsed_sections": []
    },
    "kernelspec": {
      "name": "python3",
      "display_name": "Python 3"
    },
    "language_info": {
      "name": "python"
    }
  },
  "cells": [
    {
      "cell_type": "markdown",
      "metadata": {
        "id": "yAB17KwOwXKt"
      },
      "source": [
        "행렬을 아래처럼 파이썬 기본 리스트로 선언했다고 해보자. <br>\n",
        "\n",
        "coefficient_matrix = [[2, 2, 1], [2, -1, 2], [1, -1, 2]] <br>\n",
        "constant_vector = [9, 6, 5]\n",
        "\n",
        "이렇게 매트릭스를 표현하면 다양한 Matrix 계산을 하기가 어려우며, 굉장히 큰 Matrix를 표현하기도 불편하다. <br>\n",
        "또한 파이썬 자체가 Interpreter 언어이므로 처리 속도가 느릴 것이다.\n",
        "\n",
        "이를 해결하기 위해 파이썬 과학 처리 패키지 numpy 모듈을 사용한다.\n",
        "\n",
        "<h3> Numpy(Numerical Python) </h3>\n",
        "\n",
        "파이썬의 고성능 과학 계산용 패키지이다. **Matrix와 Vector와 같은 Array 연산의 표준**이다. <br>\n",
        "일반 List에 비해 빠르고, 메모리에 효율적이며 반복문 없이 데이터 배열에 대한 처리를 지원한다. <br> 또한 선형 대수와 관련된 다양한 기능을 제공한다. C, C++, 포트란 등의 언어와 통합도 가능하다.\n",
        "\n",
        "<h4> ndarray </h4>\n",
        "\n",
        "* **import numpy as np**\n",
        "\n",
        "numpy를 호출하려면 보통 위와 같이 호출한다. 일반적으로 np라는 alias(별칭)를 이용한다. 특별한 이유는 없고, 세계적인 약속 같은 것이다.\n",
        "\n",
        "* test_array = np.array([1, 4, 5, 8], float) <br>\n",
        "print(test_array) <br>\n",
        "type(test_array[3]) <br>\n",
        "\n",
        "numpy는 **np.array 함수**를 활용해 배열(ndarray)을 생성한다. \n",
        "이때, C언어의 Array를 사용해 배열을 생성한다.\n",
        "List와 다르게 numpy는 하나의 데이터 type만 배열에 넣을 수 있다."
      ]
    },
    {
      "cell_type": "code",
      "metadata": {
        "id": "M3DEaGsqwYgF"
      },
      "source": [
        "import numpy as np"
      ],
      "execution_count": null,
      "outputs": []
    },
    {
      "cell_type": "code",
      "metadata": {
        "id": "ASpGa55p0yOG"
      },
      "source": [
        "a = [1, 2, 3, 4, 5]\n",
        "b = [5, 4, 3, 2, 1]"
      ],
      "execution_count": null,
      "outputs": []
    },
    {
      "cell_type": "code",
      "metadata": {
        "colab": {
          "base_uri": "https://localhost:8080/"
        },
        "id": "UzpjT5_-04hd",
        "outputId": "5c45fc32-266a-4552-db70-464300ceb67a"
      },
      "source": [
        "a = np.array(a, int)\n",
        "a"
      ],
      "execution_count": null,
      "outputs": [
        {
          "output_type": "execute_result",
          "data": {
            "text/plain": [
              "array([1, 2, 3, 4, 5])"
            ]
          },
          "metadata": {},
          "execution_count": 6
        }
      ]
    },
    {
      "cell_type": "code",
      "metadata": {
        "colab": {
          "base_uri": "https://localhost:8080/"
        },
        "id": "E6KyHyXU1IwF",
        "outputId": "09063c5e-ebcf-41ea-8d6b-335643789a91"
      },
      "source": [
        "# 하나의 데이터 type만 배열에 넣을 수 있지만\n",
        "# 변환 전에는 다른 type이 들어가 있어도 된다.\n",
        "test_array = np.array(['1', '4', 5.0, 8], float)\n",
        "print(test_array)\n",
        "print(type(test_array[3]))"
      ],
      "execution_count": null,
      "outputs": [
        {
          "output_type": "stream",
          "name": "stdout",
          "text": [
            "[1. 4. 5. 8.]\n",
            "<class 'numpy.float64'>\n"
          ]
        }
      ]
    },
    {
      "cell_type": "markdown",
      "metadata": {
        "id": "QKC2_Kjn08ms"
      },
      "source": [
        "**shape**: numpy array의 dimension 구성을 tuple 형태로 반환한다. <br>\n",
        "\n",
        "* array의 Rank에 따라 불리는 이름이 다르다. <br>\n",
        "0: scalar / ex) 7 <br>\n",
        "1: vector / ex) [10, 10] <br>\n",
        "2: matrix / ex) [[10, 10], [15, 15]] <br>\n",
        "3: 3-tensor / ex) [[[1, 5, 9], [2, 6, 10]], [[3, 7, 11], [4, 8, 12]]] <br>\n",
        "n: n-tensor\n"
      ]
    },
    {
      "cell_type": "code",
      "metadata": {
        "colab": {
          "base_uri": "https://localhost:8080/"
        },
        "id": "iLQiu2o9058U",
        "outputId": "859d11ea-3ad7-4448-e6c6-445e1cb95eb5"
      },
      "source": [
        "# vector\n",
        "vector = [1, 2, 3, 4]\n",
        "np.array(vector, int).shape"
      ],
      "execution_count": null,
      "outputs": [
        {
          "output_type": "execute_result",
          "data": {
            "text/plain": [
              "(4,)"
            ]
          },
          "metadata": {},
          "execution_count": 16
        }
      ]
    },
    {
      "cell_type": "code",
      "metadata": {
        "colab": {
          "base_uri": "https://localhost:8080/"
        },
        "id": "2A5EOgT44SJm",
        "outputId": "1df373b1-0e49-40d3-9114-eea2284484bd"
      },
      "source": [
        "# matrix\n",
        "matrix = [[1, 2, 5, 8], [1, 2, 5, 8], [1, 2, 5, 8]]\n",
        "np.array(matrix).shape"
      ],
      "execution_count": null,
      "outputs": [
        {
          "output_type": "execute_result",
          "data": {
            "text/plain": [
              "(3, 4)"
            ]
          },
          "metadata": {},
          "execution_count": 17
        }
      ]
    },
    {
      "cell_type": "code",
      "metadata": {
        "colab": {
          "base_uri": "https://localhost:8080/"
        },
        "id": "4C11s7sO8SlR",
        "outputId": "c2d0c1bc-385c-4859-fd85-a89cafffb17c"
      },
      "source": [
        "# tensor\n",
        "tensor = [\n",
        "          [[1, 2, 5, 8], [1, 2, 5, 8], [1, 2, 5, 8]],\n",
        "          [[1, 2, 5, 8], [1, 2, 5, 8], [1, 2, 5, 8]],\n",
        "          [[1, 2, 5, 8], [1, 2, 5, 8], [1, 2, 5, 8]]\n",
        "]\n",
        "np.array(tensor).shape"
      ],
      "execution_count": null,
      "outputs": [
        {
          "output_type": "execute_result",
          "data": {
            "text/plain": [
              "(3, 3, 4)"
            ]
          },
          "metadata": {},
          "execution_count": 18
        }
      ]
    },
    {
      "cell_type": "markdown",
      "metadata": {
        "id": "ce8AxJN28sRV"
      },
      "source": [
        "**ndim**: number of dimensions <br>\n",
        "**size**: data의 개수"
      ]
    },
    {
      "cell_type": "code",
      "metadata": {
        "colab": {
          "base_uri": "https://localhost:8080/"
        },
        "id": "kVi5e27l8x9e",
        "outputId": "d29ba246-2c32-4ab6-ce82-64aa3c3a8d6b"
      },
      "source": [
        "np.array(tensor, int).ndim"
      ],
      "execution_count": null,
      "outputs": [
        {
          "output_type": "execute_result",
          "data": {
            "text/plain": [
              "3"
            ]
          },
          "metadata": {},
          "execution_count": 19
        }
      ]
    },
    {
      "cell_type": "code",
      "metadata": {
        "colab": {
          "base_uri": "https://localhost:8080/"
        },
        "id": "nRPiNRT687J3",
        "outputId": "a3419a7e-7fe4-4830-d624-9a0600636959"
      },
      "source": [
        "np.array(tensor, int).size"
      ],
      "execution_count": null,
      "outputs": [
        {
          "output_type": "execute_result",
          "data": {
            "text/plain": [
              "36"
            ]
          },
          "metadata": {},
          "execution_count": 20
        }
      ]
    },
    {
      "cell_type": "markdown",
      "metadata": {
        "id": "pMCrQn164-R2"
      },
      "source": [
        "**dtype**: numpy array의 데이터 type을 반환한다."
      ]
    },
    {
      "cell_type": "code",
      "metadata": {
        "colab": {
          "base_uri": "https://localhost:8080/"
        },
        "id": "kqq6kpts4CgO",
        "outputId": "bdeec74e-77f7-466e-ecd2-0abfcc55fb6b"
      },
      "source": [
        "test_array.dtype"
      ],
      "execution_count": null,
      "outputs": [
        {
          "output_type": "execute_result",
          "data": {
            "text/plain": [
              "dtype('float64')"
            ]
          },
          "metadata": {},
          "execution_count": 11
        }
      ]
    },
    {
      "cell_type": "markdown",
      "metadata": {
        "id": "adH5vpsV4H-H"
      },
      "source": [
        "위처럼 float64의 64의 의미는 총 64bits로 데이터를 표현한다는 의미이다. 즉, int64는 64bits, int32는 32bits, int8은 8bits로 정수형 데이터를 표현한다는 의미이다. 32, 64bits를 많이 사용하며 일반적으로는 64bits를 사용한다.\n",
        "\n",
        "**nbytes**: ndarray object의 메모리 크기를 반환한다."
      ]
    },
    {
      "cell_type": "code",
      "metadata": {
        "colab": {
          "base_uri": "https://localhost:8080/"
        },
        "id": "nSztO1hA4EV9",
        "outputId": "04741ec0-bbe1-4177-9cf1-92b5f6f5b240"
      },
      "source": [
        "np.array([[1, 2, 3], [4.5, \"5\", \"6\"]], dtype = np.float32).nbytes\n",
        "# 32bits = 4bytes / 6 * 4 = 24"
      ],
      "execution_count": null,
      "outputs": [
        {
          "output_type": "execute_result",
          "data": {
            "text/plain": [
              "24"
            ]
          },
          "metadata": {},
          "execution_count": 12
        }
      ]
    },
    {
      "cell_type": "code",
      "metadata": {
        "colab": {
          "base_uri": "https://localhost:8080/"
        },
        "id": "tRtjF7aN7tKG",
        "outputId": "b25cdbf5-fded-4e63-f604-17f62cecc7d8"
      },
      "source": [
        "np.array([[1, 2, 3], [4.5, \"5\", \"6\"]], dtype = np.int8).nbytes\n",
        "# 8bits = 1bytes / 6 * 1 = 6"
      ],
      "execution_count": null,
      "outputs": [
        {
          "output_type": "execute_result",
          "data": {
            "text/plain": [
              "6"
            ]
          },
          "metadata": {},
          "execution_count": 13
        }
      ]
    },
    {
      "cell_type": "code",
      "metadata": {
        "colab": {
          "base_uri": "https://localhost:8080/"
        },
        "id": "x0O8gLub7uhW",
        "outputId": "cebebcb5-9cde-4375-93ee-849100ed981a"
      },
      "source": [
        "np.array([[1, 2, 3], [4.5, \"5\", \"6\"]], dtype = np.float64).nbytes\n",
        "# 64bits = 8bytes / 6 * 8 = 48"
      ],
      "execution_count": null,
      "outputs": [
        {
          "output_type": "execute_result",
          "data": {
            "text/plain": [
              "48"
            ]
          },
          "metadata": {},
          "execution_count": 15
        }
      ]
    }
  ]
}