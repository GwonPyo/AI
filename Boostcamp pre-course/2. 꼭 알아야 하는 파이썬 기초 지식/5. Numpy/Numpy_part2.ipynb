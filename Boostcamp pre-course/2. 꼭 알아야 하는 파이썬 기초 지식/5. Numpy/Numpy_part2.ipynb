{
  "nbformat": 4,
  "nbformat_minor": 0,
  "metadata": {
    "colab": {
      "name": "5. Numpy_part2.ipynb",
      "provenance": [],
      "collapsed_sections": []
    },
    "kernelspec": {
      "name": "python3",
      "display_name": "Python 3"
    },
    "language_info": {
      "name": "python"
    }
  },
  "cells": [
    {
      "cell_type": "code",
      "metadata": {
        "id": "V2jRSbvFBBXY"
      },
      "source": [
        "import numpy as np"
      ],
      "execution_count": 1,
      "outputs": []
    },
    {
      "cell_type": "markdown",
      "metadata": {
        "id": "Ni-GV4MpA-fg"
      },
      "source": [
        "**reshape**: Array의 shape의 크기를 변경한다. element의 갯수는 동일하다."
      ]
    },
    {
      "cell_type": "code",
      "metadata": {
        "colab": {
          "base_uri": "https://localhost:8080/"
        },
        "id": "jgArjQHhA40t",
        "outputId": "defcf82d-496b-480c-ee69-915c8851e2d1"
      },
      "source": [
        "test_matrix = [[1, 2, 3, 4], [1, 2, 5, 8]]\n",
        "np.array(test_matrix).shape"
      ],
      "execution_count": 2,
      "outputs": [
        {
          "output_type": "execute_result",
          "data": {
            "text/plain": [
              "(2, 4)"
            ]
          },
          "metadata": {},
          "execution_count": 2
        }
      ]
    },
    {
      "cell_type": "code",
      "metadata": {
        "colab": {
          "base_uri": "https://localhost:8080/"
        },
        "id": "66352hytBFnW",
        "outputId": "c72a3e52-7dab-42ad-a772-d6c8e70dce4e"
      },
      "source": [
        "np.array(test_matrix).reshape(4, 2)"
      ],
      "execution_count": 3,
      "outputs": [
        {
          "output_type": "execute_result",
          "data": {
            "text/plain": [
              "array([[1, 2],\n",
              "       [3, 4],\n",
              "       [1, 2],\n",
              "       [5, 8]])"
            ]
          },
          "metadata": {},
          "execution_count": 3
        }
      ]
    },
    {
      "cell_type": "code",
      "metadata": {
        "colab": {
          "base_uri": "https://localhost:8080/"
        },
        "id": "wb3b8VZfBG92",
        "outputId": "328db76d-04a0-464c-b817-956c103ef4df"
      },
      "source": [
        "np.array(test_matrix).reshape(2, 2, 2)"
      ],
      "execution_count": 4,
      "outputs": [
        {
          "output_type": "execute_result",
          "data": {
            "text/plain": [
              "array([[[1, 2],\n",
              "        [3, 4]],\n",
              "\n",
              "       [[1, 2],\n",
              "        [5, 8]]])"
            ]
          },
          "metadata": {},
          "execution_count": 4
        }
      ]
    },
    {
      "cell_type": "code",
      "metadata": {
        "colab": {
          "base_uri": "https://localhost:8080/"
        },
        "id": "_WFpeslxBIKX",
        "outputId": "6681e1b7-e973-45bb-dbf3-c1265acc1432"
      },
      "source": [
        "np.array(test_matrix).reshape(8)"
      ],
      "execution_count": 5,
      "outputs": [
        {
          "output_type": "execute_result",
          "data": {
            "text/plain": [
              "array([1, 2, 3, 4, 1, 2, 5, 8])"
            ]
          },
          "metadata": {},
          "execution_count": 5
        }
      ]
    },
    {
      "cell_type": "markdown",
      "metadata": {
        "id": "SF1gsUDiBKTu"
      },
      "source": [
        "**인자로 -1을 넘겨주면 알아서 크기가 설정된다.**"
      ]
    },
    {
      "cell_type": "code",
      "metadata": {
        "colab": {
          "base_uri": "https://localhost:8080/"
        },
        "id": "dacmQTKVBLFm",
        "outputId": "9f57599b-4146-4925-b4dc-457e87278bfe"
      },
      "source": [
        "np.array(test_matrix).reshape(1, -1).shape"
      ],
      "execution_count": 6,
      "outputs": [
        {
          "output_type": "execute_result",
          "data": {
            "text/plain": [
              "(1, 8)"
            ]
          },
          "metadata": {},
          "execution_count": 6
        }
      ]
    },
    {
      "cell_type": "code",
      "metadata": {
        "colab": {
          "base_uri": "https://localhost:8080/"
        },
        "id": "VNIJU9ZOBPX2",
        "outputId": "3bd43d09-60cf-4773-f030-f101a4d476bd"
      },
      "source": [
        "np.array(test_matrix).reshape(1, -1, 2).shape"
      ],
      "execution_count": 7,
      "outputs": [
        {
          "output_type": "execute_result",
          "data": {
            "text/plain": [
              "(1, 4, 2)"
            ]
          },
          "metadata": {},
          "execution_count": 7
        }
      ]
    },
    {
      "cell_type": "markdown",
      "metadata": {
        "id": "jwaBRN0cBT4e"
      },
      "source": [
        "**flatten**: 다차원 array를 1차원 array로 변환한다."
      ]
    },
    {
      "cell_type": "code",
      "metadata": {
        "colab": {
          "base_uri": "https://localhost:8080/"
        },
        "id": "mV4DM34vBUSO",
        "outputId": "464c7154-2147-4118-a61e-732017326147"
      },
      "source": [
        "test_matrix = [[[1, 2, 3, 4], [1, 2, 5, 8]], [[1, 2, 3, 4], [1, 2, 5, 8]]]\n",
        "np.array(test_matrix)"
      ],
      "execution_count": 8,
      "outputs": [
        {
          "output_type": "execute_result",
          "data": {
            "text/plain": [
              "array([[[1, 2, 3, 4],\n",
              "        [1, 2, 5, 8]],\n",
              "\n",
              "       [[1, 2, 3, 4],\n",
              "        [1, 2, 5, 8]]])"
            ]
          },
          "metadata": {},
          "execution_count": 8
        }
      ]
    },
    {
      "cell_type": "code",
      "metadata": {
        "colab": {
          "base_uri": "https://localhost:8080/"
        },
        "id": "U61Rz-QFBXc-",
        "outputId": "6df51262-1b47-4023-f934-8e800376324e"
      },
      "source": [
        "np.array(test_matrix).flatten().size"
      ],
      "execution_count": 9,
      "outputs": [
        {
          "output_type": "execute_result",
          "data": {
            "text/plain": [
              "16"
            ]
          },
          "metadata": {},
          "execution_count": 9
        }
      ]
    },
    {
      "cell_type": "code",
      "metadata": {
        "colab": {
          "base_uri": "https://localhost:8080/"
        },
        "id": "HTwPFyPZBY7W",
        "outputId": "3223347f-1760-4723-8573-455774174d4e"
      },
      "source": [
        "np.array(test_matrix).flatten().shape"
      ],
      "execution_count": 10,
      "outputs": [
        {
          "output_type": "execute_result",
          "data": {
            "text/plain": [
              "(16,)"
            ]
          },
          "metadata": {},
          "execution_count": 10
        }
      ]
    },
    {
      "cell_type": "markdown",
      "metadata": {
        "id": "JMv4n_5EDhrv"
      },
      "source": [
        "<h3> Indexing / Slicing </h3>\n",
        "\n",
        "list와 달리 이차원 배열에서 **[0 ,0] 표기법**을 제공한다. ([0][0]도 사용할 수 있다.) <br>\n",
        "matrix일 경우 앞은 row, 뒤는 column을 의미한다."
      ]
    },
    {
      "cell_type": "code",
      "metadata": {
        "colab": {
          "base_uri": "https://localhost:8080/"
        },
        "id": "TFTJn8h5Bauu",
        "outputId": "55c4d9d4-37c5-42ef-fd32-1a178b873c1a"
      },
      "source": [
        "a = np.array([[1, 2, 3], [4.5, 5, 6]], int)\n",
        "print(a)\n",
        "print(a[0, 0]) # Two dimensional array representation #1\n",
        "print(a[0][0]) # Two dimensional array representation #2\n",
        "\n",
        "a[0, 0] = 12\n",
        "print(a)\n",
        "a[0][0] = 5\n",
        "print(a)"
      ],
      "execution_count": 11,
      "outputs": [
        {
          "output_type": "stream",
          "name": "stdout",
          "text": [
            "[[1 2 3]\n",
            " [4 5 6]]\n",
            "1\n",
            "1\n",
            "[[12  2  3]\n",
            " [ 4  5  6]]\n",
            "[[5 2 3]\n",
            " [4 5 6]]\n"
          ]
        }
      ]
    },
    {
      "cell_type": "markdown",
      "metadata": {
        "id": "w_eLkDhtEij_"
      },
      "source": [
        "list와 달리 **행과 열 부분을 나눠서 slicing**이 가능하다. <br>\n",
        "matrix의 부분집합을  추출할 때 유용하다."
      ]
    },
    {
      "cell_type": "code",
      "metadata": {
        "colab": {
          "base_uri": "https://localhost:8080/"
        },
        "id": "-9SjztpOEEMu",
        "outputId": "45d5eacc-a62f-4905-f808-4698f7b26b27"
      },
      "source": [
        "a = np.array([[1, 2, 3, 4, 5], [6, 7, 8, 9, 10]], int)\n",
        "a[:, 2:]"
      ],
      "execution_count": 12,
      "outputs": [
        {
          "output_type": "execute_result",
          "data": {
            "text/plain": [
              "array([[ 3,  4,  5],\n",
              "       [ 8,  9, 10]])"
            ]
          },
          "metadata": {},
          "execution_count": 12
        }
      ]
    },
    {
      "cell_type": "code",
      "metadata": {
        "colab": {
          "base_uri": "https://localhost:8080/"
        },
        "id": "lyK_Y_OsE7fv",
        "outputId": "fe1a5890-3804-407f-fdfa-242de454643b"
      },
      "source": [
        "a[1, 1:3]"
      ],
      "execution_count": 13,
      "outputs": [
        {
          "output_type": "execute_result",
          "data": {
            "text/plain": [
              "array([7, 8])"
            ]
          },
          "metadata": {},
          "execution_count": 13
        }
      ]
    },
    {
      "cell_type": "code",
      "metadata": {
        "colab": {
          "base_uri": "https://localhost:8080/"
        },
        "id": "cCazdxCDE87P",
        "outputId": "34a7e255-6e2d-427c-f1d4-053adff5c497"
      },
      "source": [
        "a[1:3]"
      ],
      "execution_count": 15,
      "outputs": [
        {
          "output_type": "execute_result",
          "data": {
            "text/plain": [
              "array([[ 6,  7,  8,  9, 10]])"
            ]
          },
          "metadata": {},
          "execution_count": 15
        }
      ]
    },
    {
      "cell_type": "code",
      "metadata": {
        "colab": {
          "base_uri": "https://localhost:8080/"
        },
        "id": "7mx7w4_oE-Df",
        "outputId": "d5dc61b1-3dd5-46a5-8d3d-9296f305bee5"
      },
      "source": [
        "a[1:2, :2]"
      ],
      "execution_count": 16,
      "outputs": [
        {
          "output_type": "execute_result",
          "data": {
            "text/plain": [
              "array([[6, 7]])"
            ]
          },
          "metadata": {},
          "execution_count": 16
        }
      ]
    },
    {
      "cell_type": "markdown",
      "metadata": {
        "id": "OSBuDTjPJIFH"
      },
      "source": [
        "<h3> creation function </h3>\n",
        "\n",
        "<h4> arange </h4>\n",
        "\n",
        "array의 범우를 지정해 값의 list를 생성한다."
      ]
    },
    {
      "cell_type": "code",
      "metadata": {
        "colab": {
          "base_uri": "https://localhost:8080/"
        },
        "id": "JKEd7lHhJ6w8",
        "outputId": "c6fd5642-7897-4db5-959f-a4aa2505a23b"
      },
      "source": [
        "np.arange(30)"
      ],
      "execution_count": 17,
      "outputs": [
        {
          "output_type": "execute_result",
          "data": {
            "text/plain": [
              "array([ 0,  1,  2,  3,  4,  5,  6,  7,  8,  9, 10, 11, 12, 13, 14, 15, 16,\n",
              "       17, 18, 19, 20, 21, 22, 23, 24, 25, 26, 27, 28, 29])"
            ]
          },
          "metadata": {},
          "execution_count": 17
        }
      ]
    },
    {
      "cell_type": "code",
      "metadata": {
        "colab": {
          "base_uri": "https://localhost:8080/"
        },
        "id": "YU55ffpuJ8D4",
        "outputId": "b5ef5df1-44df-4dcc-e3ef-4468fc552dec"
      },
      "source": [
        "np.arange(0, 5, 0.5) \n",
        "# (시작, 끝, step)\n",
        "# step값으로 floating point도 가능하다."
      ],
      "execution_count": 20,
      "outputs": [
        {
          "output_type": "execute_result",
          "data": {
            "text/plain": [
              "array([0. , 0.5, 1. , 1.5, 2. , 2.5, 3. , 3.5, 4. , 4.5])"
            ]
          },
          "metadata": {},
          "execution_count": 20
        }
      ]
    },
    {
      "cell_type": "code",
      "metadata": {
        "colab": {
          "base_uri": "https://localhost:8080/"
        },
        "id": "tGdcQD6FJ-F3",
        "outputId": "f8337f0a-d9eb-48ba-d465-4cd2c5877e41"
      },
      "source": [
        "np.arange(30).reshape(5,6)"
      ],
      "execution_count": 21,
      "outputs": [
        {
          "output_type": "execute_result",
          "data": {
            "text/plain": [
              "array([[ 0,  1,  2,  3,  4,  5],\n",
              "       [ 6,  7,  8,  9, 10, 11],\n",
              "       [12, 13, 14, 15, 16, 17],\n",
              "       [18, 19, 20, 21, 22, 23],\n",
              "       [24, 25, 26, 27, 28, 29]])"
            ]
          },
          "metadata": {},
          "execution_count": 21
        }
      ]
    },
    {
      "cell_type": "markdown",
      "metadata": {
        "id": "sR-MAC48KA_f"
      },
      "source": [
        "<h4> ones, zeors, empty </h4>\n",
        "\n",
        "**zeros**: 0으로 가득찬 ndarray를 생성한다.\n",
        "* **np.zeros(shape, dtype, order)**"
      ]
    },
    {
      "cell_type": "code",
      "metadata": {
        "colab": {
          "base_uri": "https://localhost:8080/"
        },
        "id": "aV1F5AKWKhDY",
        "outputId": "87a6ebcb-fa42-4422-a1b4-6f256f55b9d6"
      },
      "source": [
        " np.zeros(shape = (10,), dtype = np.int8)"
      ],
      "execution_count": 22,
      "outputs": [
        {
          "output_type": "execute_result",
          "data": {
            "text/plain": [
              "array([0, 0, 0, 0, 0, 0, 0, 0, 0, 0], dtype=int8)"
            ]
          },
          "metadata": {},
          "execution_count": 22
        }
      ]
    },
    {
      "cell_type": "code",
      "metadata": {
        "colab": {
          "base_uri": "https://localhost:8080/"
        },
        "id": "fM3uKCfcKm_I",
        "outputId": "5224922d-1ab4-4003-f6a3-7d986d2b2442"
      },
      "source": [
        "np.zeros((2, 5))"
      ],
      "execution_count": 23,
      "outputs": [
        {
          "output_type": "execute_result",
          "data": {
            "text/plain": [
              "array([[0., 0., 0., 0., 0.],\n",
              "       [0., 0., 0., 0., 0.]])"
            ]
          },
          "metadata": {},
          "execution_count": 23
        }
      ]
    },
    {
      "cell_type": "markdown",
      "metadata": {
        "id": "qHob1oqCKuXw"
      },
      "source": [
        "**ones**: 1로 가득찬 ndarray를 생성한다.\n",
        "* **np.ones(shape, dtype, order)**"
      ]
    },
    {
      "cell_type": "code",
      "metadata": {
        "colab": {
          "base_uri": "https://localhost:8080/"
        },
        "id": "-NlItO3aKoQ4",
        "outputId": "ad1e8174-d1cb-43ca-e562-a506c5b5dc78"
      },
      "source": [
        "np.ones(shape = (10,), dtype = np.int8)"
      ],
      "execution_count": 24,
      "outputs": [
        {
          "output_type": "execute_result",
          "data": {
            "text/plain": [
              "array([1, 1, 1, 1, 1, 1, 1, 1, 1, 1], dtype=int8)"
            ]
          },
          "metadata": {},
          "execution_count": 24
        }
      ]
    },
    {
      "cell_type": "code",
      "metadata": {
        "colab": {
          "base_uri": "https://localhost:8080/"
        },
        "id": "5OAD0t9cK593",
        "outputId": "1495b867-b57e-4649-e839-97ace896ad2c"
      },
      "source": [
        "np.ones((2, 5))"
      ],
      "execution_count": 25,
      "outputs": [
        {
          "output_type": "execute_result",
          "data": {
            "text/plain": [
              "array([[1., 1., 1., 1., 1.],\n",
              "       [1., 1., 1., 1., 1.]])"
            ]
          },
          "metadata": {},
          "execution_count": 25
        }
      ]
    },
    {
      "cell_type": "markdown",
      "metadata": {
        "id": "Fw4pp48ELNqa"
      },
      "source": [
        "**empty**: shape만 주어지고 비어있는 ndarray를 생성한다. <br> memory initialization이 되지 않는다."
      ]
    },
    {
      "cell_type": "code",
      "metadata": {
        "colab": {
          "base_uri": "https://localhost:8080/"
        },
        "id": "PDGswd2wK6_Q",
        "outputId": "6ca39dc8-ef38-40fb-ae46-207d4e051ab8"
      },
      "source": [
        "# 실행마다 값이 계속 바뀜\n",
        "np.empty(shape = (10,), dtype = np.int8)"
      ],
      "execution_count": 31,
      "outputs": [
        {
          "output_type": "execute_result",
          "data": {
            "text/plain": [
              "array([ -96, -104,    1,  -22,  110,   85,    0,    0,   -8,   29],\n",
              "      dtype=int8)"
            ]
          },
          "metadata": {},
          "execution_count": 31
        }
      ]
    },
    {
      "cell_type": "code",
      "metadata": {
        "colab": {
          "base_uri": "https://localhost:8080/"
        },
        "id": "9YNaOCtBLaLQ",
        "outputId": "bbbb77dc-a111-4d56-eb23-67b5084ed496"
      },
      "source": [
        "np.empty((3, 5))"
      ],
      "execution_count": 32,
      "outputs": [
        {
          "output_type": "execute_result",
          "data": {
            "text/plain": [
              "array([[4.64099877e-310, 1.03977794e-312, 1.03977794e-312,\n",
              "        9.54898106e-313, 1.14587773e-312],\n",
              "       [1.01855798e-312, 1.23075756e-312, 1.20953760e-312,\n",
              "        1.06099790e-312, 9.76118064e-313],\n",
              "       [1.20953760e-312, 1.16709769e-312, 1.16709769e-312,\n",
              "        3.44981226e+175, 4.66642136e-072]])"
            ]
          },
          "metadata": {},
          "execution_count": 32
        }
      ]
    },
    {
      "cell_type": "markdown",
      "metadata": {
        "id": "9jINHNfzLcCA"
      },
      "source": [
        "**something_like**: 기존 ndarray의 shape 크기 만큼 1, 0 또는 empty array를 반환한다."
      ]
    },
    {
      "cell_type": "code",
      "metadata": {
        "colab": {
          "base_uri": "https://localhost:8080/"
        },
        "id": "q8r3gx2EL0jo",
        "outputId": "9d08d073-cefd-4721-e3cc-8644c4ac1b50"
      },
      "source": [
        "test_matrix = np.arange(30).reshape(5, 6)\n",
        "np.ones_like(test_matrix)"
      ],
      "execution_count": 28,
      "outputs": [
        {
          "output_type": "execute_result",
          "data": {
            "text/plain": [
              "array([[1, 1, 1, 1, 1, 1],\n",
              "       [1, 1, 1, 1, 1, 1],\n",
              "       [1, 1, 1, 1, 1, 1],\n",
              "       [1, 1, 1, 1, 1, 1],\n",
              "       [1, 1, 1, 1, 1, 1]])"
            ]
          },
          "metadata": {},
          "execution_count": 28
        }
      ]
    },
    {
      "cell_type": "markdown",
      "metadata": {
        "id": "l4nxcgFPL6d5"
      },
      "source": [
        "**identity**: 단위 행렬(i 행렬)을 생성한다."
      ]
    },
    {
      "cell_type": "code",
      "metadata": {
        "colab": {
          "base_uri": "https://localhost:8080/"
        },
        "id": "HDIGUu7HXs1s",
        "outputId": "cd13e5a1-4607-45ad-d613-eaa2d073d1a7"
      },
      "source": [
        "np.identity(n = 3, dtype = np.int8)"
      ],
      "execution_count": 33,
      "outputs": [
        {
          "output_type": "execute_result",
          "data": {
            "text/plain": [
              "array([[1, 0, 0],\n",
              "       [0, 1, 0],\n",
              "       [0, 0, 1]], dtype=int8)"
            ]
          },
          "metadata": {},
          "execution_count": 33
        }
      ]
    },
    {
      "cell_type": "code",
      "metadata": {
        "colab": {
          "base_uri": "https://localhost:8080/"
        },
        "id": "w2pqdOouXwcX",
        "outputId": "dda63f41-5e1f-4ad9-e7d1-a92da3f861ff"
      },
      "source": [
        "np.identity(5)"
      ],
      "execution_count": 34,
      "outputs": [
        {
          "output_type": "execute_result",
          "data": {
            "text/plain": [
              "array([[1., 0., 0., 0., 0.],\n",
              "       [0., 1., 0., 0., 0.],\n",
              "       [0., 0., 1., 0., 0.],\n",
              "       [0., 0., 0., 1., 0.],\n",
              "       [0., 0., 0., 0., 1.]])"
            ]
          },
          "metadata": {},
          "execution_count": 34
        }
      ]
    },
    {
      "cell_type": "markdown",
      "metadata": {
        "id": "xtMCdXhpX6OD"
      },
      "source": [
        "**eye**: 대각선이 1인 행렬, k값의 시작 index의 변경이 가능하다."
      ]
    },
    {
      "cell_type": "code",
      "metadata": {
        "colab": {
          "base_uri": "https://localhost:8080/"
        },
        "id": "PyEpIEQ5XxoR",
        "outputId": "1ab06e33-13ad-4569-b254-5bdafb8b82fe"
      },
      "source": [
        "np.eye(3)"
      ],
      "execution_count": 35,
      "outputs": [
        {
          "output_type": "execute_result",
          "data": {
            "text/plain": [
              "array([[1., 0., 0.],\n",
              "       [0., 1., 0.],\n",
              "       [0., 0., 1.]])"
            ]
          },
          "metadata": {},
          "execution_count": 35
        }
      ]
    },
    {
      "cell_type": "code",
      "metadata": {
        "colab": {
          "base_uri": "https://localhost:8080/"
        },
        "id": "pmE5estQYEnC",
        "outputId": "c344618a-0e36-4ffb-e9a9-381801d4b624"
      },
      "source": [
        "np.eye(3, 5, k = 2)"
      ],
      "execution_count": 37,
      "outputs": [
        {
          "output_type": "execute_result",
          "data": {
            "text/plain": [
              "array([[0., 0., 1., 0., 0.],\n",
              "       [0., 0., 0., 1., 0.],\n",
              "       [0., 0., 0., 0., 1.]])"
            ]
          },
          "metadata": {},
          "execution_count": 37
        }
      ]
    },
    {
      "cell_type": "code",
      "metadata": {
        "colab": {
          "base_uri": "https://localhost:8080/"
        },
        "id": "Q4Gih0--YGQC",
        "outputId": "3b4322e8-f9f0-4bc9-c765-5e087d22491f"
      },
      "source": [
        "np.eye(N = 3, M = 5, dtype = np.int8)"
      ],
      "execution_count": 38,
      "outputs": [
        {
          "output_type": "execute_result",
          "data": {
            "text/plain": [
              "array([[1, 0, 0, 0, 0],\n",
              "       [0, 1, 0, 0, 0],\n",
              "       [0, 0, 1, 0, 0]], dtype=int8)"
            ]
          },
          "metadata": {},
          "execution_count": 38
        }
      ]
    },
    {
      "cell_type": "markdown",
      "metadata": {
        "id": "SSZMgjUIYMDC"
      },
      "source": [
        "**diag**: 대각 행렬의 값을 추출한다."
      ]
    },
    {
      "cell_type": "code",
      "metadata": {
        "colab": {
          "base_uri": "https://localhost:8080/"
        },
        "id": "hi_zwN1dYUMs",
        "outputId": "d1e706a0-91cc-4055-faec-46f511a74aab"
      },
      "source": [
        "matrix = np.arange(9).reshape(3, 3)\n",
        "matrix"
      ],
      "execution_count": 39,
      "outputs": [
        {
          "output_type": "execute_result",
          "data": {
            "text/plain": [
              "array([[0, 1, 2],\n",
              "       [3, 4, 5],\n",
              "       [6, 7, 8]])"
            ]
          },
          "metadata": {},
          "execution_count": 39
        }
      ]
    },
    {
      "cell_type": "code",
      "metadata": {
        "colab": {
          "base_uri": "https://localhost:8080/"
        },
        "id": "xpDD89ylYY0i",
        "outputId": "91f00887-16ff-44f1-867e-af9d730562eb"
      },
      "source": [
        "np.diag(matrix, k = 1)"
      ],
      "execution_count": 44,
      "outputs": [
        {
          "output_type": "execute_result",
          "data": {
            "text/plain": [
              "array([1, 5])"
            ]
          },
          "metadata": {},
          "execution_count": 44
        }
      ]
    },
    {
      "cell_type": "code",
      "metadata": {
        "colab": {
          "base_uri": "https://localhost:8080/"
        },
        "id": "vnWPilznYanq",
        "outputId": "512c4b17-13a6-415d-a73a-4aa9120262ad"
      },
      "source": [
        "np.diag(matrix, k = -1)"
      ],
      "execution_count": 45,
      "outputs": [
        {
          "output_type": "execute_result",
          "data": {
            "text/plain": [
              "array([3, 7])"
            ]
          },
          "metadata": {},
          "execution_count": 45
        }
      ]
    },
    {
      "cell_type": "markdown",
      "metadata": {
        "id": "1z-ReiVpYhqa"
      },
      "source": [
        "<h4> random sampling(numpy.random) </h4>\n",
        "\n",
        "데이터 분포에 따른 sampling으로 array를 생성한다.\n",
        "* np.random.uniform(시작 값, 끝 값, 데이터 개수) (균등분포)\n",
        "* np.random.normal(시작 값, 끝 값, 데이터 개수)  (정규분포)\n"
      ]
    },
    {
      "cell_type": "code",
      "metadata": {
        "colab": {
          "base_uri": "https://localhost:8080/"
        },
        "id": "BK2V9RI3ZZ_u",
        "outputId": "1d297db0-b37c-4bb5-ee0d-9746738300cc"
      },
      "source": [
        "np.random.uniform(0, 1, 10).reshape(2, 5)"
      ],
      "execution_count": 46,
      "outputs": [
        {
          "output_type": "execute_result",
          "data": {
            "text/plain": [
              "array([[0.80812752, 0.09373739, 0.01942502, 0.43619607, 0.93084849],\n",
              "       [0.31140467, 0.0142916 , 0.1190888 , 0.47863354, 0.84247093]])"
            ]
          },
          "metadata": {},
          "execution_count": 46
        }
      ]
    },
    {
      "cell_type": "code",
      "metadata": {
        "colab": {
          "base_uri": "https://localhost:8080/"
        },
        "id": "m9RlmoG7ZeGK",
        "outputId": "78630eb7-5246-4468-f0da-7e0ad47afa8f"
      },
      "source": [
        "np.random.normal(0, 1, 10).reshape(2, 5)"
      ],
      "execution_count": 48,
      "outputs": [
        {
          "output_type": "execute_result",
          "data": {
            "text/plain": [
              "array([[ 1.63480181, -0.19430011, -2.17630403, -1.95666673,  0.7834084 ],\n",
              "       [ 0.88834848,  1.86278017,  1.47655073, -0.12817112, -0.83292018]])"
            ]
          },
          "metadata": {},
          "execution_count": 48
        }
      ]
    },
    {
      "cell_type": "markdown",
      "metadata": {
        "id": "AwMJMWucZjD6"
      },
      "source": [
        "<h4> operation function </h4>\n",
        "\n",
        "**sum**: ndarray의 element들 간의 합을 구한다. list의 sum 기능과 동일하다."
      ]
    },
    {
      "cell_type": "code",
      "metadata": {
        "colab": {
          "base_uri": "https://localhost:8080/"
        },
        "id": "4z8S3FBSaBxO",
        "outputId": "937d0bcb-ef0d-40b0-a86e-91f0fa95e476"
      },
      "source": [
        "test_array = np.arange(1, 11)\n",
        "test_array"
      ],
      "execution_count": 49,
      "outputs": [
        {
          "output_type": "execute_result",
          "data": {
            "text/plain": [
              "array([ 1,  2,  3,  4,  5,  6,  7,  8,  9, 10])"
            ]
          },
          "metadata": {},
          "execution_count": 49
        }
      ]
    },
    {
      "cell_type": "code",
      "metadata": {
        "colab": {
          "base_uri": "https://localhost:8080/"
        },
        "id": "vr_EBl9laFZK",
        "outputId": "46849862-4022-4c54-8861-21b8501dc3c8"
      },
      "source": [
        "test_array.sum(dtype = np.float)"
      ],
      "execution_count": 50,
      "outputs": [
        {
          "output_type": "execute_result",
          "data": {
            "text/plain": [
              "55.0"
            ]
          },
          "metadata": {},
          "execution_count": 50
        }
      ]
    },
    {
      "cell_type": "markdown",
      "metadata": {
        "id": "--6zLL3yafgD"
      },
      "source": [
        "**axis**: 모든 operation function을 실행할 때 기준이 되는 dimension 축이다.\n",
        "\n",
        "(3, 4) -> 3: axis = 0, 4: axis = 1"
      ]
    },
    {
      "cell_type": "code",
      "metadata": {
        "colab": {
          "base_uri": "https://localhost:8080/"
        },
        "id": "A1hJl71SaHIS",
        "outputId": "8033db9f-bdd2-4aeb-9213-7bfa57163b54"
      },
      "source": [
        "test_array = np.arange(1, 13). reshape(3, 4)\n",
        "test_array"
      ],
      "execution_count": 51,
      "outputs": [
        {
          "output_type": "execute_result",
          "data": {
            "text/plain": [
              "array([[ 1,  2,  3,  4],\n",
              "       [ 5,  6,  7,  8],\n",
              "       [ 9, 10, 11, 12]])"
            ]
          },
          "metadata": {},
          "execution_count": 51
        }
      ]
    },
    {
      "cell_type": "code",
      "metadata": {
        "colab": {
          "base_uri": "https://localhost:8080/"
        },
        "id": "stCMmTQJaSrD",
        "outputId": "48145f61-01a0-41cc-b22a-4900542e965e"
      },
      "source": [
        "test_array.sum()"
      ],
      "execution_count": 53,
      "outputs": [
        {
          "output_type": "execute_result",
          "data": {
            "text/plain": [
              "78"
            ]
          },
          "metadata": {},
          "execution_count": 53
        }
      ]
    },
    {
      "cell_type": "code",
      "metadata": {
        "colab": {
          "base_uri": "https://localhost:8080/"
        },
        "id": "0flCdUjFaUh7",
        "outputId": "871ddf55-9cee-4598-a271-3a03dbaf7ed3"
      },
      "source": [
        "# col 단위로 생성됨\n",
        "test_array.sum(axis = 0)"
      ],
      "execution_count": 54,
      "outputs": [
        {
          "output_type": "execute_result",
          "data": {
            "text/plain": [
              "array([15, 18, 21, 24])"
            ]
          },
          "metadata": {},
          "execution_count": 54
        }
      ]
    },
    {
      "cell_type": "code",
      "metadata": {
        "colab": {
          "base_uri": "https://localhost:8080/"
        },
        "id": "gjj79c6_aaPK",
        "outputId": "6a68a6eb-b90f-4923-f0f7-3c6caf7abae8"
      },
      "source": [
        "# row 단위로 생성됨\n",
        "test_array.sum(axis = 1)"
      ],
      "execution_count": 55,
      "outputs": [
        {
          "output_type": "execute_result",
          "data": {
            "text/plain": [
              "array([10, 26, 42])"
            ]
          },
          "metadata": {},
          "execution_count": 55
        }
      ]
    },
    {
      "cell_type": "markdown",
      "metadata": {
        "id": "DO6TqgTKac-a"
      },
      "source": [
        "**mean, std**: ndarray의 element들 간의 평균 또는 표준 편차를 반환한다.\n",
        "\n",
        "이외에도 다양한 수학 연산자를 제공한다.<br>\n",
        "np.something을 호출하면 확인할 수 있다."
      ]
    },
    {
      "cell_type": "code",
      "metadata": {
        "colab": {
          "base_uri": "https://localhost:8080/"
        },
        "id": "yovPffIjbeHb",
        "outputId": "f165a5b6-2844-4eaa-8384-c4600b1021d7"
      },
      "source": [
        "test_array.mean()"
      ],
      "execution_count": 56,
      "outputs": [
        {
          "output_type": "execute_result",
          "data": {
            "text/plain": [
              "6.5"
            ]
          },
          "metadata": {},
          "execution_count": 56
        }
      ]
    },
    {
      "cell_type": "code",
      "metadata": {
        "colab": {
          "base_uri": "https://localhost:8080/"
        },
        "id": "k6kmUU2JbhCl",
        "outputId": "a36da5c5-4c0a-46a7-e2a6-45c1d9122efd"
      },
      "source": [
        "test_array.mean(axis = 0)"
      ],
      "execution_count": 57,
      "outputs": [
        {
          "output_type": "execute_result",
          "data": {
            "text/plain": [
              "array([5., 6., 7., 8.])"
            ]
          },
          "metadata": {},
          "execution_count": 57
        }
      ]
    },
    {
      "cell_type": "code",
      "metadata": {
        "colab": {
          "base_uri": "https://localhost:8080/"
        },
        "id": "09FaVOhdbiyT",
        "outputId": "6fd92f63-21dc-4275-9b48-42d143186747"
      },
      "source": [
        "test_array.mean(axis = 1)"
      ],
      "execution_count": 58,
      "outputs": [
        {
          "output_type": "execute_result",
          "data": {
            "text/plain": [
              "array([ 2.5,  6.5, 10.5])"
            ]
          },
          "metadata": {},
          "execution_count": 58
        }
      ]
    },
    {
      "cell_type": "markdown",
      "metadata": {
        "id": "xxJOV4ZUbsRj"
      },
      "source": [
        "**concatenate**: numpy array를 합치는 함수이다. **두 array는 튜플로 전달해야 한다.**\n",
        "* np.vstack((a, b)) = np.concatenate((a, b), axis = 0) \n",
        "* np.hstack((a, b)) = np.concatenate((a, b), axis = 1) "
      ]
    },
    {
      "cell_type": "code",
      "metadata": {
        "colab": {
          "base_uri": "https://localhost:8080/"
        },
        "id": "aS565WJocWjs",
        "outputId": "057e2693-e0b1-4954-a469-216ad1adfc1d"
      },
      "source": [
        "a = np.array([1, 2, 3])\n",
        "b = np.array([2, 3, 4])\n",
        "np.vstack((a, b))"
      ],
      "execution_count": 59,
      "outputs": [
        {
          "output_type": "execute_result",
          "data": {
            "text/plain": [
              "array([[1, 2, 3],\n",
              "       [2, 3, 4]])"
            ]
          },
          "metadata": {},
          "execution_count": 59
        }
      ]
    },
    {
      "cell_type": "code",
      "metadata": {
        "colab": {
          "base_uri": "https://localhost:8080/"
        },
        "id": "p17Zw0-Lcc3r",
        "outputId": "9e07aebb-22e9-496d-917b-2bc9f7673667"
      },
      "source": [
        "a = np.array([[1], [2], [3]])\n",
        "b = np.array([[2], [3], [4]])\n",
        "np.hstack((a, b))"
      ],
      "execution_count": 60,
      "outputs": [
        {
          "output_type": "execute_result",
          "data": {
            "text/plain": [
              "array([[1, 2],\n",
              "       [2, 3],\n",
              "       [3, 4]])"
            ]
          },
          "metadata": {},
          "execution_count": 60
        }
      ]
    },
    {
      "cell_type": "code",
      "metadata": {
        "colab": {
          "base_uri": "https://localhost:8080/"
        },
        "id": "wi2wpTklcjrL",
        "outputId": "46693dec-2597-4811-eb59-73b3b4c790ea"
      },
      "source": [
        "a = np.array([[1, 2, 3]])\n",
        "b = np.array([[2, 3, 4]])\n",
        "np.concatenate((a, b), axis = 0)"
      ],
      "execution_count": 68,
      "outputs": [
        {
          "output_type": "execute_result",
          "data": {
            "text/plain": [
              "array([[1, 2, 3],\n",
              "       [2, 3, 4]])"
            ]
          },
          "metadata": {},
          "execution_count": 68
        }
      ]
    },
    {
      "cell_type": "code",
      "metadata": {
        "colab": {
          "base_uri": "https://localhost:8080/"
        },
        "id": "ECTyac19cpID",
        "outputId": "412a3831-77c3-4c8a-a42e-744a38f29a86"
      },
      "source": [
        "a = np.array([[1, 2], [3, 4]])\n",
        "b = np.array([[5], [6]])\n",
        "np.concatenate((a, b), axis = 1)"
      ],
      "execution_count": 65,
      "outputs": [
        {
          "output_type": "execute_result",
          "data": {
            "text/plain": [
              "array([[1, 2, 5],\n",
              "       [3, 4, 6]])"
            ]
          },
          "metadata": {},
          "execution_count": 65
        }
      ]
    },
    {
      "cell_type": "code",
      "metadata": {
        "colab": {
          "base_uri": "https://localhost:8080/"
        },
        "id": "VO1qAcebcyVq",
        "outputId": "c6263b02-2839-498e-c7cf-0019f8233a0b"
      },
      "source": [
        "a = np.array([[1, 2], [3, 4]])\n",
        "b = np.array([5, 6])\n",
        "# np.newaxis로 축을 추가할 수 있다.\n",
        "b = b[np.newaxis, :]\n",
        "print(b)"
      ],
      "execution_count": 70,
      "outputs": [
        {
          "output_type": "stream",
          "name": "stdout",
          "text": [
            "[[5 6]]\n"
          ]
        }
      ]
    },
    {
      "cell_type": "code",
      "metadata": {
        "colab": {
          "base_uri": "https://localhost:8080/"
        },
        "id": "7Lc-IGTFdT0T",
        "outputId": "5480614d-6cd7-4d7d-bd19-35b2187750de"
      },
      "source": [
        "np.concatenate((a, b.T), axis = 1)"
      ],
      "execution_count": 71,
      "outputs": [
        {
          "output_type": "execute_result",
          "data": {
            "text/plain": [
              "array([[1, 2, 5],\n",
              "       [3, 4, 6]])"
            ]
          },
          "metadata": {},
          "execution_count": 71
        }
      ]
    },
    {
      "cell_type": "markdown",
      "metadata": {
        "id": "e59e5a6QdZGb"
      },
      "source": [
        "<h4> array operations </h4> \n",
        "\n",
        "numpy는 array간의 기본적인 사칙 연산을 지원한다.\n",
        "이때 기본적으로 **Element-wise operations**을 지원한다.\n",
        "\n",
        "* Element-wise operations: Array간 shape가 같을 때 일어나는 연산"
      ]
    },
    {
      "cell_type": "code",
      "metadata": {
        "id": "8zHDDq-Od4zM"
      },
      "source": [
        "test_a = np.array([[1, 2, 3], [4, 5, 6]], float)"
      ],
      "execution_count": 72,
      "outputs": []
    },
    {
      "cell_type": "code",
      "metadata": {
        "colab": {
          "base_uri": "https://localhost:8080/"
        },
        "id": "S9rp_7qKd4x8",
        "outputId": "3c5e2670-7f84-465e-9a5c-d77d481845b4"
      },
      "source": [
        "test_a + test_a"
      ],
      "execution_count": 73,
      "outputs": [
        {
          "output_type": "execute_result",
          "data": {
            "text/plain": [
              "array([[ 2.,  4.,  6.],\n",
              "       [ 8., 10., 12.]])"
            ]
          },
          "metadata": {},
          "execution_count": 73
        }
      ]
    },
    {
      "cell_type": "code",
      "metadata": {
        "colab": {
          "base_uri": "https://localhost:8080/"
        },
        "id": "FY1WVL6ieZHa",
        "outputId": "0625048c-2f56-4b1e-8daa-181af1180c8d"
      },
      "source": [
        "test_a - test_a"
      ],
      "execution_count": 74,
      "outputs": [
        {
          "output_type": "execute_result",
          "data": {
            "text/plain": [
              "array([[0., 0., 0.],\n",
              "       [0., 0., 0.]])"
            ]
          },
          "metadata": {},
          "execution_count": 74
        }
      ]
    },
    {
      "cell_type": "code",
      "metadata": {
        "colab": {
          "base_uri": "https://localhost:8080/"
        },
        "id": "phHfhNh9eblb",
        "outputId": "a0b337d3-9a96-44dc-f85b-c57b42ea32a2"
      },
      "source": [
        "test_a * test_a"
      ],
      "execution_count": 75,
      "outputs": [
        {
          "output_type": "execute_result",
          "data": {
            "text/plain": [
              "array([[ 1.,  4.,  9.],\n",
              "       [16., 25., 36.]])"
            ]
          },
          "metadata": {},
          "execution_count": 75
        }
      ]
    },
    {
      "cell_type": "markdown",
      "metadata": {
        "id": "l4Az5af8edez"
      },
      "source": [
        "**Dot Product**: Matrix의 기본 연산인 dot 함수를 사용한다.(행렬의 곱셈)\n",
        "\n",
        "* **matrix1.dot(matrix2)**"
      ]
    },
    {
      "cell_type": "code",
      "metadata": {
        "id": "M6-rqvTfe1O0"
      },
      "source": [
        "test_a = np.arange(1, 7).reshape(2, 3)\n",
        "test_b = np.arange(7, 13).reshape(3, 2)"
      ],
      "execution_count": 76,
      "outputs": []
    },
    {
      "cell_type": "code",
      "metadata": {
        "colab": {
          "base_uri": "https://localhost:8080/"
        },
        "id": "-ixW1Vn_e8Xb",
        "outputId": "f9cad165-4313-49cf-f598-3dd2efe164a1"
      },
      "source": [
        "test_a.dot(test_b)"
      ],
      "execution_count": 77,
      "outputs": [
        {
          "output_type": "execute_result",
          "data": {
            "text/plain": [
              "array([[ 58,  64],\n",
              "       [139, 154]])"
            ]
          },
          "metadata": {},
          "execution_count": 77
        }
      ]
    },
    {
      "cell_type": "markdown",
      "metadata": {
        "id": "rY6JS7mde-Dz"
      },
      "source": [
        "**transpose(전치 행렬)**: transpose 혹은 T attribute를 사용한다.\n",
        "\n",
        "* **matrix.transpose() or matrix.T**"
      ]
    },
    {
      "cell_type": "code",
      "metadata": {
        "colab": {
          "base_uri": "https://localhost:8080/"
        },
        "id": "8Ci5OaAqfS2U",
        "outputId": "4e07626a-09f1-4fef-9121-e8a97b6867c1"
      },
      "source": [
        "test_a = np.arange(1, 7).reshape(2, 3)\n",
        "test_a"
      ],
      "execution_count": 78,
      "outputs": [
        {
          "output_type": "execute_result",
          "data": {
            "text/plain": [
              "array([[1, 2, 3],\n",
              "       [4, 5, 6]])"
            ]
          },
          "metadata": {},
          "execution_count": 78
        }
      ]
    },
    {
      "cell_type": "code",
      "metadata": {
        "colab": {
          "base_uri": "https://localhost:8080/"
        },
        "id": "N4Qfif3tfW1P",
        "outputId": "8bba659b-94c1-4397-ad15-1d9f4ed62f2d"
      },
      "source": [
        "test_a.transpose()"
      ],
      "execution_count": 79,
      "outputs": [
        {
          "output_type": "execute_result",
          "data": {
            "text/plain": [
              "array([[1, 4],\n",
              "       [2, 5],\n",
              "       [3, 6]])"
            ]
          },
          "metadata": {},
          "execution_count": 79
        }
      ]
    },
    {
      "cell_type": "code",
      "metadata": {
        "colab": {
          "base_uri": "https://localhost:8080/"
        },
        "id": "TwvQK14-fZsb",
        "outputId": "33c9b8f0-533c-4af6-af9b-9e4e9e62b1d0"
      },
      "source": [
        "test_a.T"
      ],
      "execution_count": 80,
      "outputs": [
        {
          "output_type": "execute_result",
          "data": {
            "text/plain": [
              "array([[1, 4],\n",
              "       [2, 5],\n",
              "       [3, 6]])"
            ]
          },
          "metadata": {},
          "execution_count": 80
        }
      ]
    },
    {
      "cell_type": "markdown",
      "metadata": {
        "id": "yAjOKQgLfb7D"
      },
      "source": [
        "**broadcasting**: Shape가 다른 배열 간 연산을 지원하는 기능이다."
      ]
    },
    {
      "cell_type": "code",
      "metadata": {
        "id": "Um5TkdMHfnfU"
      },
      "source": [
        "test_matrix = np.array([[1, 2, 3], [4, 5, 6]], float)\n",
        "scalar = 3"
      ],
      "execution_count": 81,
      "outputs": []
    },
    {
      "cell_type": "code",
      "metadata": {
        "colab": {
          "base_uri": "https://localhost:8080/"
        },
        "id": "tNGXpmYvfsuk",
        "outputId": "f43cd69c-1729-4c83-f0be-bf8d817a8385"
      },
      "source": [
        "test_matrix + scalar # Matrix + Scalar"
      ],
      "execution_count": 82,
      "outputs": [
        {
          "output_type": "execute_result",
          "data": {
            "text/plain": [
              "array([[4., 5., 6.],\n",
              "       [7., 8., 9.]])"
            ]
          },
          "metadata": {},
          "execution_count": 82
        }
      ]
    },
    {
      "cell_type": "code",
      "metadata": {
        "colab": {
          "base_uri": "https://localhost:8080/"
        },
        "id": "wpIZyiqrfwDs",
        "outputId": "7bea080f-6eb7-4f1b-9c40-b36b4a9e0121"
      },
      "source": [
        "test_matrix - scalar # Matrix - Scalar"
      ],
      "execution_count": 83,
      "outputs": [
        {
          "output_type": "execute_result",
          "data": {
            "text/plain": [
              "array([[-2., -1.,  0.],\n",
              "       [ 1.,  2.,  3.]])"
            ]
          },
          "metadata": {},
          "execution_count": 83
        }
      ]
    },
    {
      "cell_type": "code",
      "metadata": {
        "colab": {
          "base_uri": "https://localhost:8080/"
        },
        "id": "VUQFZefff5cz",
        "outputId": "66fc737c-87cc-4a69-dbf6-b52fb73545c6"
      },
      "source": [
        "test_matrix * 5 # Matrix * Scalar"
      ],
      "execution_count": 84,
      "outputs": [
        {
          "output_type": "execute_result",
          "data": {
            "text/plain": [
              "array([[ 5., 10., 15.],\n",
              "       [20., 25., 30.]])"
            ]
          },
          "metadata": {},
          "execution_count": 84
        }
      ]
    },
    {
      "cell_type": "code",
      "metadata": {
        "colab": {
          "base_uri": "https://localhost:8080/"
        },
        "id": "OxNYPXRFf9V7",
        "outputId": "8b4310ef-b13c-4e35-9fe4-363bc6407ea8"
      },
      "source": [
        "test_matrix / 5 # Matrix / Scalar"
      ],
      "execution_count": 86,
      "outputs": [
        {
          "output_type": "execute_result",
          "data": {
            "text/plain": [
              "array([[0.2, 0.4, 0.6],\n",
              "       [0.8, 1. , 1.2]])"
            ]
          },
          "metadata": {},
          "execution_count": 86
        }
      ]
    },
    {
      "cell_type": "code",
      "metadata": {
        "colab": {
          "base_uri": "https://localhost:8080/"
        },
        "id": "A-60hiexgA2U",
        "outputId": "d58558a5-5401-4b79-8b1e-516c36d6a563"
      },
      "source": [
        "test_matrix // 5 # Matrix // Scalar"
      ],
      "execution_count": 89,
      "outputs": [
        {
          "output_type": "execute_result",
          "data": {
            "text/plain": [
              "array([[0., 0., 0.],\n",
              "       [0., 1., 1.]])"
            ]
          },
          "metadata": {},
          "execution_count": 89
        }
      ]
    },
    {
      "cell_type": "code",
      "metadata": {
        "colab": {
          "base_uri": "https://localhost:8080/"
        },
        "id": "iwe5kaGegF8z",
        "outputId": "60205bbc-129d-41cd-d4fa-80d2663a1d16"
      },
      "source": [
        "test_matrix ** 2 # Matrix ** Scalar"
      ],
      "execution_count": 90,
      "outputs": [
        {
          "output_type": "execute_result",
          "data": {
            "text/plain": [
              "array([[ 1.,  4.,  9.],\n",
              "       [16., 25., 36.]])"
            ]
          },
          "metadata": {},
          "execution_count": 90
        }
      ]
    },
    {
      "cell_type": "markdown",
      "metadata": {
        "id": "of06UvfSgH97"
      },
      "source": [
        "Vector-Scalar, Matrix-Scalar 외에도 **Matrix-Vector 연산도 가능하다**."
      ]
    },
    {
      "cell_type": "code",
      "metadata": {
        "colab": {
          "base_uri": "https://localhost:8080/"
        },
        "id": "X05Jeh5-gbSV",
        "outputId": "950a7d7d-90ee-48c1-da92-8f8397c7a8c6"
      },
      "source": [
        "test_matrix = np.arange(1, 13).reshape(4, 3)\n",
        "test_vector = np.arange(10, 40, 10)\n",
        "test_matrix + test_vector"
      ],
      "execution_count": 92,
      "outputs": [
        {
          "output_type": "execute_result",
          "data": {
            "text/plain": [
              "array([[11, 22, 33],\n",
              "       [14, 25, 36],\n",
              "       [17, 28, 39],\n",
              "       [20, 31, 42]])"
            ]
          },
          "metadata": {},
          "execution_count": 92
        }
      ]
    },
    {
      "cell_type": "markdown",
      "metadata": {
        "id": "Jop2h_BohlzU"
      },
      "source": [
        "**timeit**: jupyter 환경에서 코드의 퍼포컨스를 체크하는 함수"
      ]
    },
    {
      "cell_type": "code",
      "metadata": {
        "colab": {
          "base_uri": "https://localhost:8080/"
        },
        "id": "VjJGVtmPgk9r",
        "outputId": "bcee46d7-7416-41f5-9efb-34935a980bb9"
      },
      "source": [
        "def scalar_vector_product(scalar, vector):\n",
        "  result = []\n",
        "  for value in vector:\n",
        "    result.append(scalar * value)\n",
        "  return result\n",
        "\n",
        "iteration_max = 100000000\n",
        "\n",
        "vector = list(range(iteration_max))\n",
        "scalar = 2\n",
        "\n",
        "%timeit scalar_vector_product(scalar, vector) # for loop를 이용한 성능\n",
        "%timeit [scalar * value for value in range(iteration_max)] # list comprehenstion을 사용한 성능\n",
        "%timeit np.arange(iteration_max) * scalar # numpy를 이용한 성능\n"
      ],
      "execution_count": 94,
      "outputs": [
        {
          "output_type": "stream",
          "name": "stdout",
          "text": [
            "1 loop, best of 5: 14.2 s per loop\n",
            "1 loop, best of 5: 11.8 s per loop\n",
            "1 loop, best of 5: 296 ms per loop\n"
          ]
        }
      ]
    },
    {
      "cell_type": "markdown",
      "metadata": {
        "id": "9ZssABSvhlSP"
      },
      "source": [
        "일반적으로 속도는 아래 순서로 빠르다.\n",
        "\n",
        "* for loop < list comprehension < numpy\n",
        "\n",
        "100,000,000 번의 loop를 돌 때 약 4배 이상의 성능 차이를 보인다.<br>\n",
        "Numpy는 C로 구현되어 있어, 성능을 확보하는 대신 파이썬의 가장 큰 특징인 dynamic typing을 포기한다. <br>\n",
        "하지만 빠른 속도 때문에 대용량 계산에서 가장 흔히 사용된다. 단, Concatenate처럼 계산이 아닌 할당에서는 연산 속도의 이점이 없다."
      ]
    }
  ]
}