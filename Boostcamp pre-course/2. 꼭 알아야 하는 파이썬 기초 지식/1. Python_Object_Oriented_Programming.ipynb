{
  "nbformat": 4,
  "nbformat_minor": 0,
  "metadata": {
    "colab": {
      "name": "Python Object-Oriented Programming.ipynb",
      "provenance": [],
      "collapsed_sections": []
    },
    "kernelspec": {
      "name": "python3",
      "display_name": "Python 3"
    },
    "language_info": {
      "name": "python"
    }
  },
  "cells": [
    {
      "cell_type": "markdown",
      "metadata": {
        "id": "gK5TZPuSXJv7"
      },
      "source": [
        "수강신청 프로그램을 작성한다고 가정하자. 어떻게 하면 좋을까?\n",
        "\n",
        "* 수강신청의 시작부터 끝을 순서대로 작성한다.\n",
        "* 수강신청 관련 주체들(교수, 학생, 관리자)의 행동(수강신청, 과목 입력)과 데이터(수강과목, 강의 과목) 들을 중심으로 프로그램 작성후 연결한다.\n",
        "\n",
        "2가지 모두 가능하지만 최근에는 2번 방식을 보편적으로 사용한다.\n",
        "이러한 기법을 **객체 지향 프로그램**이라고 한다.\n",
        "\n",
        "---\n",
        "<h4> 객체지향 프로그래밍 개요 <h4>\n",
        "\n",
        "- Object-Oriented Programming, OOP\n",
        "- 객체: 실생활에서 일종의 물건, **속성(Attribute)**와 **행동(Action)**을 가진다.\n",
        "- OOP는 이러한 객체 개념을 프로그램으로 표현한다. **속성은 변수(variable), 행동은 함수(method)**로 표현된다.\n",
        "- **파이썬 역시 객체 지향 프로그램 언어이다.**\n",
        "- OOP는 설계도에 해당하는 **클래스(class)**와 실제 구현체인 **인스턴스(instance)**로 나눈다.\n",
        "\n",
        "---\n",
        "<h3> Objects in Python </h3>\n",
        "<h4> 축구 선수 정보를 Class로 구현하기 </h4>\n",
        "\n",
        "class 선언해보자. object는 python3에서 자동 상속한다.\n",
        "\n",
        "* **class SoccerPlayer(object):**\n",
        "* (class 예약어) (class 이름) (상속받는 객체명)\n",
        "\n",
        "여기서 SoccerPlayer는 우리가 지금까지본 naming규칙과 살짝 다르다. 이유는 아래와 같다.\n",
        "\n",
        "* snake_case: 띄워쓰기 부분에 \"_\"를 추가한다. 파이썬 함수/변수명에 사용한다.\n",
        "* **CamelCase: 띄워쓰기 부분에 대문자를 사용한다. 파이썬 Class명에 사용한다.**\n",
        "\n",
        "Attribute 추가는 __init__, self와 함께 작성해야 한다. <br>\n",
        "__init__은 객체 초기화 예약 함수이다.\n",
        "\n",
        "* **언더바**는 특수한 예약 함수나 변수 그리고 함수명 변경(맨글링)으로 사용한다. <br>\n",
        "Ex) __main__, __add__, __str__, __eq__"
      ]
    },
    {
      "cell_type": "code",
      "metadata": {
        "id": "u_teg5qKXE1e"
      },
      "source": [
        "class SoccerPlayer(object):\n",
        "  # self란 생성된 instance 자신을 의미한다.\n",
        "  def __init__(self, name : str, position : str, back_number : int): \n",
        "    self.name = name\n",
        "    self.position = position\n",
        "    self.back_number = back_number\n",
        "  \n",
        "  def change_back_number(self, new_number):\n",
        "    print(\"선수의 등번호를 변경합니다 : From %d to %d\" % (self.back_number, new_number))\n",
        "    self.back_number = new_number\n",
        "  \n",
        "  # __str__을 선언하면 print문을 객체에 적용할 때 return값을 출력해준다.\n",
        "  def __str__(self):\n",
        "    return \"Hello, My name is %s. My back number is %d\" % (self.name, self.back_number)\n",
        "\n",
        "  # + 연산자를 사용해 더할 수 있다.\n",
        "  def __add__(self, other):\n",
        "    return self.name + other.name"
      ],
      "execution_count": null,
      "outputs": []
    },
    {
      "cell_type": "code",
      "metadata": {
        "id": "9PJv7YW1h5cU"
      },
      "source": [
        "son = SoccerPlayer(\"son\", \"FW\", 7)\n",
        "park = SoccerPlayer(\"park\", \"WF\", 13)"
      ],
      "execution_count": null,
      "outputs": []
    },
    {
      "cell_type": "code",
      "metadata": {
        "colab": {
          "base_uri": "https://localhost:8080/"
        },
        "id": "6wWu2XssjuWF",
        "outputId": "7215ee5b-e40d-41e7-d499-1003082475f3"
      },
      "source": [
        "son.change_back_number(10)\n",
        "print(son)"
      ],
      "execution_count": null,
      "outputs": [
        {
          "output_type": "stream",
          "name": "stdout",
          "text": [
            "선수의 등번호를 변경합니다 : From 7 to 10\n",
            "Hello, My name is son. My back number is 10\n"
          ]
        }
      ]
    },
    {
      "cell_type": "code",
      "metadata": {
        "colab": {
          "base_uri": "https://localhost:8080/"
        },
        "id": "33QrnxgPj_QN",
        "outputId": "dc5c61ef-0719-424e-efb4-26218ad79873"
      },
      "source": [
        "# 이런 식으로도 attribute를 바꿀 수 있지만 권장하지 않는다.\n",
        "son.back_number = 7\n",
        "print(son)"
      ],
      "execution_count": null,
      "outputs": [
        {
          "output_type": "stream",
          "name": "stdout",
          "text": [
            "Hello, My name is son. My back number is 7\n"
          ]
        }
      ]
    },
    {
      "cell_type": "code",
      "metadata": {
        "colab": {
          "base_uri": "https://localhost:8080/"
        },
        "id": "FprHVHNWi7gV",
        "outputId": "e3c857e1-45c2-4a6e-854a-0536eeb3c040"
      },
      "source": [
        "# 언더바 함수 사용(__str__, __add__)\n",
        "print(son)\n",
        "print(son + park)"
      ],
      "execution_count": null,
      "outputs": [
        {
          "output_type": "stream",
          "name": "stdout",
          "text": [
            "Hello, My name is son. My back number is 7\n",
            "sonpark\n"
          ]
        }
      ]
    },
    {
      "cell_type": "markdown",
      "metadata": {
        "id": "QKrhQYPAkZQ4"
      },
      "source": [
        "---\n",
        "<h3> OOP Implementation Example </h3>\n",
        "<h4> 구현 가능한 OOP 만들기 - 노트북 </h4>\n",
        "\n",
        "Note를 정리하는 프로그램을 만들어보자. 사용자는 **Note에 뭔가를 적을 수 있다**. Note에는 **Content**가 있고, **내용을 제거**할 수 있다. 두 개의 노트북을 합쳐 하나로 만들 수 있으며 Note는 Notebook에 삽입된다. Notebook은 Note가 삽일 될 때 페이지를 생성하며 최고 300페이지까지 저장 가능하다. 300 페이지가 넘으면 더 이상 노트를 삽입하지 못한다.\n",
        "\n",
        "* 필요한 클래스: Note, Notebook\n",
        "* Note의 attribute/method: content / write_content(), remove_all()\n",
        "* Notebook의 attribute/method: title, page_number, notes / add_note(), remove_note(), get_number_of_pages()\n"
      ]
    },
    {
      "cell_type": "code",
      "metadata": {
        "id": "DELW5BqKjsBk"
      },
      "source": [
        "# Note 클래스 생성\n",
        "class Note(object):\n",
        "  def __init__(self, content):\n",
        "    self.content = content\n",
        "\n",
        "  def write_content(self, content):\n",
        "    self.content = content\n",
        "  \n",
        "  def remove_all(self):\n",
        "    self.content = \"\"\n",
        "  \n",
        "  def __add__(self, other):\n",
        "    return self.content + other.content\n",
        "  \n",
        "  def __str__(self):\n",
        "    return self.content"
      ],
      "execution_count": null,
      "outputs": []
    },
    {
      "cell_type": "code",
      "metadata": {
        "id": "OQ6ConASeRkD"
      },
      "source": [
        "# Notebook 클래스 생성\n",
        "class Notebook(object):\n",
        "  def __init__(self, title):\n",
        "    self.title = title\n",
        "    self.page_number = 1\n",
        "    self.notes = {}\n",
        "  \n",
        "  def add_note(self, note, page = 0):\n",
        "    if self.page_number < 300:\n",
        "      if page == 0:\n",
        "        # page 매개변수를 입력하지 않으면 page_number를 키로 저장한다.\n",
        "        self.notes[self.page_number] = note\n",
        "        self.page_number += 1\n",
        "      else:\n",
        "        self.notes[page] = note\n",
        "        self.page_number += 1\n",
        "    else:\n",
        "      print(\"Page가 모두 채워졌습니다.\")\n",
        "    \n",
        "  def remove_note(self, page_number):\n",
        "    if page_number in self.notes.keys():\n",
        "      return self.notes.pop(page_number)\n",
        "    else:\n",
        "      print(\"해당 페이지는 존재하지 않습니다.\")\n",
        "\n",
        "  def get_number_of_pages(self):\n",
        "    return len(self.notes.keys())"
      ],
      "execution_count": null,
      "outputs": []
    },
    {
      "cell_type": "code",
      "metadata": {
        "colab": {
          "base_uri": "https://localhost:8080/"
        },
        "id": "kasLYfjnPvXb",
        "outputId": "965072aa-c8a1-4ed5-d6db-b958c80db6b3"
      },
      "source": [
        "# 노트북 객체 생성\n",
        "my_notebook = Notebook(\"팀랩 강의노트\")\n",
        "my_notebook"
      ],
      "execution_count": null,
      "outputs": [
        {
          "output_type": "execute_result",
          "data": {
            "text/plain": [
              "<__main__.Notebook at 0x7f4807c92950>"
            ]
          },
          "metadata": {},
          "execution_count": 106
        }
      ]
    },
    {
      "cell_type": "code",
      "metadata": {
        "colab": {
          "base_uri": "https://localhost:8080/",
          "height": 35
        },
        "id": "TOTR4fZcfwWF",
        "outputId": "81e6aa62-ad80-489e-d698-b571f3d983d4"
      },
      "source": [
        "# 노트북 attribute 출력\n",
        "my_notebook.title"
      ],
      "execution_count": null,
      "outputs": [
        {
          "output_type": "execute_result",
          "data": {
            "application/vnd.google.colaboratory.intrinsic+json": {
              "type": "string"
            },
            "text/plain": [
              "'팀랩 강의노트'"
            ]
          },
          "metadata": {},
          "execution_count": 107
        }
      ]
    },
    {
      "cell_type": "code",
      "metadata": {
        "colab": {
          "base_uri": "https://localhost:8080/"
        },
        "id": "5kCYcfDdfbE9",
        "outputId": "f9613120-f350-4da2-c80d-51b699b800af"
      },
      "source": [
        "new_note = Note('아 수업 하기 싫다.')\n",
        "print(new_note)"
      ],
      "execution_count": null,
      "outputs": [
        {
          "output_type": "stream",
          "name": "stdout",
          "text": [
            "아 수업 하기 싫다.\n"
          ]
        }
      ]
    },
    {
      "cell_type": "code",
      "metadata": {
        "colab": {
          "base_uri": "https://localhost:8080/"
        },
        "id": "6PmRu-FqfkPd",
        "outputId": "2f412d3a-1943-4b0d-ff3d-d6571686ec27"
      },
      "source": [
        "new_note_2 = Note('파이썬 강의')\n",
        "print(new_note_2)"
      ],
      "execution_count": null,
      "outputs": [
        {
          "output_type": "stream",
          "name": "stdout",
          "text": [
            "파이썬 강의\n"
          ]
        }
      ]
    },
    {
      "cell_type": "code",
      "metadata": {
        "colab": {
          "base_uri": "https://localhost:8080/"
        },
        "id": "2u6WhS0Afsq8",
        "outputId": "b02e4a76-c782-4626-c236-68ab400ea02a"
      },
      "source": [
        "my_notebook.add_note(new_note)\n",
        "my_notebook.add_note(new_note2, 100)\n",
        "print(my_notebook.notes.keys())"
      ],
      "execution_count": null,
      "outputs": [
        {
          "output_type": "stream",
          "name": "stdout",
          "text": [
            "dict_keys([1, 100])\n"
          ]
        }
      ]
    },
    {
      "cell_type": "code",
      "metadata": {
        "colab": {
          "base_uri": "https://localhost:8080/"
        },
        "id": "nkhhOtjzg1wP",
        "outputId": "1bdaa591-ee1a-42c7-a1bd-71084a1dfcef"
      },
      "source": [
        "print(my_notebook.notes[1])\n",
        "print(my_notebook.notes[100])"
      ],
      "execution_count": null,
      "outputs": [
        {
          "output_type": "stream",
          "name": "stdout",
          "text": [
            "아 수업 하기 싫다.\n",
            "파이썬 강의\n"
          ]
        }
      ]
    },
    {
      "cell_type": "markdown",
      "metadata": {
        "id": "jWOWHuX-2CKE"
      },
      "source": [
        ""
      ]
    },
    {
      "cell_type": "code",
      "metadata": {
        "colab": {
          "base_uri": "https://localhost:8080/"
        },
        "id": "hHutsuNGgMQc",
        "outputId": "884e549d-9248-44db-b167-f64df24c52cd"
      },
      "source": [
        "my_notebook.get_number_of_pages()"
      ],
      "execution_count": null,
      "outputs": [
        {
          "output_type": "execute_result",
          "data": {
            "text/plain": [
              "2"
            ]
          },
          "metadata": {},
          "execution_count": 112
        }
      ]
    },
    {
      "cell_type": "markdown",
      "metadata": {
        "id": "pRL7pj3noHdZ"
      },
      "source": [
        "<h3> OOP characteristics </h3>\n",
        "\n",
        "객체 지향 언어는 실제 세상을 컴퓨터 프로그래밍 속에 모델링하는 것이다. 이때 잘 모델링하기 위해서 필요한 것이 있다.\n",
        "\n",
        "* Inheritance(상속) \n",
        "* Polymorphism(다형성)\n",
        "* Visibility(가시성)\n",
        "\n",
        "<h4> 상속(inheritance) </h4>\n",
        "\n",
        "부모클래스로부터 속성과 Method를 물려받은 자식 클래스를 생성하는 것이다."
      ]
    },
    {
      "cell_type": "code",
      "metadata": {
        "id": "UFnuj-cfn7_x"
      },
      "source": [
        "class Person(object):\n",
        "  def __init__(self, name, age):\n",
        "    self.name = name\n",
        "    self.age = age\n",
        "  \n",
        "  def __str__(self):\n",
        "    return \"저의 이름은 {0} 입니다. 나이는 {1}입니다\".format(self.name, self.age)\n",
        "\n",
        "class Korean(Person):\n",
        "  # Korean 클래스는 아무런 정보가 들어있지 않다.\n",
        "  pass"
      ],
      "execution_count": null,
      "outputs": []
    },
    {
      "cell_type": "code",
      "metadata": {
        "colab": {
          "base_uri": "https://localhost:8080/"
        },
        "id": "bnwUdI773saM",
        "outputId": "0144a901-214c-4c33-a329-b725c8e57703"
      },
      "source": [
        "# 하지만 Person의 상속을 받았기 때문에 아래와 같이 사용이 가능하다.\n",
        "first_korean = Korean(\"Sungchul\", 35)\n",
        "print(first_korean.name)\n",
        "print(first_korean)"
      ],
      "execution_count": null,
      "outputs": [
        {
          "output_type": "stream",
          "name": "stdout",
          "text": [
            "Sungchul\n",
            "저의 이름은 Sungchul 입니다. 나이는 35입니다\n"
          ]
        }
      ]
    },
    {
      "cell_type": "markdown",
      "metadata": {
        "id": "XoVTypoh7knd"
      },
      "source": [
        "**super() 명령어**를 이용해 부모 클래스가 가지고 있는 속성 및 함수들을 불러올 수 있다."
      ]
    },
    {
      "cell_type": "code",
      "metadata": {
        "id": "75lSiRMQ3U1W"
      },
      "source": [
        "class Person:\n",
        "  def __init__(self, name, age, gender):\n",
        "    self.name = name\n",
        "    self.age = age\n",
        "  \n",
        "  def about_me(self):\n",
        "    print(\"저의 이름은 \", self.name, \"이구요, 제 나이는 \" , str(self.age), \"살 입니다.\")\n",
        "\n",
        "  def __str__(self):\n",
        "    return \"저의 이름은 \", self.name, \"이구요, 제 나이는 \" , str(self.age), \"살 입니다.\""
      ],
      "execution_count": null,
      "outputs": []
    },
    {
      "cell_type": "code",
      "metadata": {
        "id": "OsYPUl4o7HxS"
      },
      "source": [
        "class Employee(Person): # 부모 클래스 Person으로부터 상속\n",
        "  def __init__(self, name, age, gender, salary, hire_date):\n",
        "    super().__init__(name, age, gender) # 부모객체 사용\n",
        "    self.salary = salary\n",
        "    self.hire_date = hire_date # 속성값 추가\n",
        "  \n",
        "  def do_work(self): # 새로운 메서드 추가\n",
        "    print('열심히 일을 합니다.')\n",
        "\n",
        "  def about_me(self): # 부모 클래스 함수 재정의\n",
        "    super().about_me() # 부모 클래스 함수 사용\n",
        "    print('제 급여는 ', self.salary, '원이구요. 제 입사일은 ', self.hire_date, ' 입니다.')"
      ],
      "execution_count": null,
      "outputs": []
    },
    {
      "cell_type": "code",
      "metadata": {
        "colab": {
          "base_uri": "https://localhost:8080/"
        },
        "id": "UHwelVSd7iSK",
        "outputId": "60f0832c-3dd1-46a7-e81a-f20c8292f79e"
      },
      "source": [
        "myPerson = Person('John', 34, 'Male')\n",
        "myEmployee = Employee('Daeho', 34, 'Male', 300000, '2012/03/01')\n",
        "myPerson.about_me()"
      ],
      "execution_count": null,
      "outputs": [
        {
          "output_type": "stream",
          "name": "stdout",
          "text": [
            "저의 이름은  John 이구요, 제 나이는  34 살 입니다.\n"
          ]
        }
      ]
    },
    {
      "cell_type": "code",
      "metadata": {
        "colab": {
          "base_uri": "https://localhost:8080/"
        },
        "id": "QOmg2k1y8nBC",
        "outputId": "78091b80-c5b7-4499-be71-905978e3c11e"
      },
      "source": [
        "myEmployee.about_me()"
      ],
      "execution_count": null,
      "outputs": [
        {
          "output_type": "stream",
          "name": "stdout",
          "text": [
            "저의 이름은  Daeho 이구요, 제 나이는  34 살 입니다.\n",
            "제 급여는  300000 원이구요. 제 입사일은  2012/03/01  입니다.\n"
          ]
        }
      ]
    },
    {
      "cell_type": "markdown",
      "metadata": {
        "id": "wzS9RIJB88Ji"
      },
      "source": [
        "<h4> Polymorphism(다형성) </h4>\n",
        "\n",
        "같은 이름 메소드의 내부 로직을 다르게 작성할 수 있다. <br>\n",
        "Dynamic Typing 특성으로 인해 파이썬에서는 같은 부모클래스의 상속에서 주로 발생한다."
      ]
    },
    {
      "cell_type": "code",
      "metadata": {
        "id": "__5kuvwl8oJx"
      },
      "source": [
        "class Animal:\n",
        "  def __init__(self, name): # Constructor of the class\n",
        "    self.name = name\n",
        "\n",
        "  def talk(self): # Abstract method, defined by convention only\n",
        "    raise NotImplementedError(\"Subclass must implement abstract method\")"
      ],
      "execution_count": null,
      "outputs": []
    },
    {
      "cell_type": "code",
      "metadata": {
        "id": "9STTc6lt-cR5"
      },
      "source": [
        "# 각 클래스의 talk() 메소드를 다르게 만들 수 있다.\n",
        "class Cat(Animal):\n",
        "  def talk(self):\n",
        "    return \"Meow!\"\n",
        "\n",
        "class Dog(Animal):\n",
        "  def talk(self):\n",
        "    return \"Woof! Woof!\""
      ],
      "execution_count": null,
      "outputs": []
    },
    {
      "cell_type": "code",
      "metadata": {
        "colab": {
          "base_uri": "https://localhost:8080/"
        },
        "id": "EKEaTmIZ_Zhy",
        "outputId": "74c59a95-fed9-4cb6-f23b-c9012ac4dc94"
      },
      "source": [
        "animals = [Cat('Missy'), \n",
        "           Cat('Mr. Mistoffelees'), \n",
        "           Dog('Lassie')]\n",
        "\n",
        "for animal in animals:\n",
        "  print(animal.name + ': ' + animal.talk())"
      ],
      "execution_count": null,
      "outputs": [
        {
          "output_type": "stream",
          "name": "stdout",
          "text": [
            "Missy: Meow!\n",
            "Mr. Mistoffelees: Meow!\n",
            "Lassie: Woof! Woof!\n"
          ]
        }
      ]
    },
    {
      "cell_type": "markdown",
      "metadata": {
        "id": "znZXPFio_c3c"
      },
      "source": [
        "<h4> Visibility(가시성) </h4>\n",
        "\n",
        "누구나 객체 안에 모든 변수를 볼 필요는 없다. 이유는 아래와 같다.\n",
        "\n",
        "* 객체를 사용하는 사용자가 임의로 정보를 수정할 수 있다.\n",
        "* 필요 없는 정보에는 접근할 필요가 없다.\n",
        "* 만약 제품으로 판매한다면 소스의 보호가 필요하다.\n",
        "\n",
        "다른 단어로 Encapsulation(캡슐화) 또는 Information Hiding(정보 은닉)이라고 부른다. Class를 설계할 때, 클래스 간 간섭/정보공유를 최소화한다. 심판 클래스가 축구 선수 클래스의 가족 정보를 알 필요가 없는 것과 비슷하다.  \n",
        "\n",
        "**Visibility Example1**\n",
        "\n",
        "* Product 객체를 Inventory 객체에 추가한다.\n",
        "* Inventory에는 오직 Product 객체만 들어간다.\n",
        "* Inventory에 Product가 몇 개인지 확인이 필요하다.\n",
        "* Inventory에 Product items는 직접 접근이 불가하다."
      ]
    },
    {
      "cell_type": "code",
      "metadata": {
        "id": "KEBQZfMFCERY"
      },
      "source": [
        "class Product(object):\n",
        "  pass"
      ],
      "execution_count": null,
      "outputs": []
    },
    {
      "cell_type": "code",
      "metadata": {
        "id": "n2uZDccTCF_I"
      },
      "source": [
        "class Inventory(object):\n",
        "  def __init__(self):\n",
        "    self.items = [] \n",
        "    self.test = \"abo\"\n",
        "\n",
        "  def add_new_item(self, product):\n",
        "    if type(product) == Product:\n",
        "      self.items.append(product)\n",
        "      print(\"new item added\")\n",
        "    else:\n",
        "      raise ValueError(\"Invalid Item\")\n",
        "  \n",
        "  def get_number_of_items(self):\n",
        "    return len(self.__items)"
      ],
      "execution_count": null,
      "outputs": []
    },
    {
      "cell_type": "code",
      "metadata": {
        "colab": {
          "base_uri": "https://localhost:8080/"
        },
        "id": "tLrK_saSCLnQ",
        "outputId": "95714641-abf5-44f2-cb1b-9eebb92b155c"
      },
      "source": [
        "my_inventory = Inventory()\n",
        "my_inventory.add_new_item(Product())\n",
        "my_inventory.add_new_item(Product())"
      ],
      "execution_count": null,
      "outputs": [
        {
          "output_type": "stream",
          "name": "stdout",
          "text": [
            "new item added\n",
            "new item added\n"
          ]
        }
      ]
    },
    {
      "cell_type": "code",
      "metadata": {
        "id": "IrSmplShCjb6"
      },
      "source": [
        "# 외부에서 items 속성에 접근할 수 있으면\n",
        "# 마음대로 조작이 가능해진다.\n",
        "my_inventory.items.append(\"abc\")"
      ],
      "execution_count": null,
      "outputs": []
    },
    {
      "cell_type": "code",
      "metadata": {
        "colab": {
          "base_uri": "https://localhost:8080/"
        },
        "id": "zTsbU7HhCphw",
        "outputId": "074d4012-45d6-4fa7-947f-f3099872608c"
      },
      "source": [
        "my_inventory.items"
      ],
      "execution_count": null,
      "outputs": [
        {
          "output_type": "execute_result",
          "data": {
            "text/plain": [
              "[<__main__.Product at 0x7f4807be0e50>,\n",
              " <__main__.Product at 0x7f4807be0f50>,\n",
              " 'abc']"
            ]
          },
          "metadata": {},
          "execution_count": 162
        }
      ]
    },
    {
      "cell_type": "code",
      "metadata": {
        "id": "qeOtjoL7BRsB"
      },
      "source": [
        "class Inventory(object):\n",
        "  def __init__(self):\n",
        "    # 위의 문제를 해결하기 위해 Private 변수를 사용해야한다.\n",
        "    # 언더바(__)를 사용하면 Private 변수로 선언할 수 있다.\n",
        "    # 따라서 타객체가 접근할 수 없다.\n",
        "    self.__items = [] \n",
        "  \n",
        "  def add_new_item(self, product):\n",
        "    if type(product) == Product:\n",
        "      self.__items.append(product)\n",
        "      print(\"new item added\")\n",
        "    else:\n",
        "      raise ValueError(\"Invalid Item\")\n",
        "  \n",
        "  def get_number_of_items(self):\n",
        "    return len(self.__items)"
      ],
      "execution_count": null,
      "outputs": []
    },
    {
      "cell_type": "code",
      "metadata": {
        "colab": {
          "base_uri": "https://localhost:8080/"
        },
        "id": "M0ullXYeB7Wo",
        "outputId": "f5fc8344-9e27-409a-d90d-f9e1f76e5383"
      },
      "source": [
        "my_inventory = Inventory()\n",
        "my_inventory.add_new_item(Product())\n",
        "my_inventory.add_new_item(Product())"
      ],
      "execution_count": null,
      "outputs": [
        {
          "output_type": "stream",
          "name": "stdout",
          "text": [
            "new item added\n",
            "new item added\n"
          ]
        }
      ]
    },
    {
      "cell_type": "code",
      "metadata": {
        "colab": {
          "base_uri": "https://localhost:8080/",
          "height": 190
        },
        "id": "PCqztfu-DCYX",
        "outputId": "92c6c34f-5476-4a4f-cc50-d5eb3ef5febc"
      },
      "source": [
        "# 접근이 불가하다.\n",
        "my_inventory.__items"
      ],
      "execution_count": null,
      "outputs": [
        {
          "output_type": "error",
          "ename": "AttributeError",
          "evalue": "ignored",
          "traceback": [
            "\u001b[0;31m---------------------------------------------------------------------------\u001b[0m",
            "\u001b[0;31mAttributeError\u001b[0m                            Traceback (most recent call last)",
            "\u001b[0;32m<ipython-input-165-eed8811d9fc1>\u001b[0m in \u001b[0;36m<module>\u001b[0;34m()\u001b[0m\n\u001b[1;32m      1\u001b[0m \u001b[0;31m# 접근이 불가하다.\u001b[0m\u001b[0;34m\u001b[0m\u001b[0;34m\u001b[0m\u001b[0;34m\u001b[0m\u001b[0m\n\u001b[0;32m----> 2\u001b[0;31m \u001b[0mmy_inventory\u001b[0m\u001b[0;34m.\u001b[0m\u001b[0m__items\u001b[0m\u001b[0;34m\u001b[0m\u001b[0;34m\u001b[0m\u001b[0m\n\u001b[0m",
            "\u001b[0;31mAttributeError\u001b[0m: 'Inventory' object has no attribute '__items'"
          ]
        }
      ]
    },
    {
      "cell_type": "markdown",
      "metadata": {
        "id": "zcIY7WumDLSh"
      },
      "source": [
        "**Visibility Example 2**\n",
        "\n",
        "* Product 객체를 Inventory 객체에 추가한다.\n",
        "* Inventory에는 Product 객체만 들어간다.\n",
        "* Inventory에 Product가 몇 개인지 확인이 필요하다.\n",
        "* Inventory에 Product items 접근을 허용한다."
      ]
    },
    {
      "cell_type": "code",
      "metadata": {
        "id": "yvLT2Ow1DHKo"
      },
      "source": [
        "class Inventory(object):\n",
        "  def __init__(self):\n",
        "    self.__items = []\n",
        "\n",
        "  @property \n",
        "  # property decorator: 숨겨진 변수를 반환하게 해준다.\n",
        "  # 외부에서는 접근이 안 되지만 내부에서는 접근할 수 있다.\n",
        "  def items(self):\n",
        "    return self.__items\n",
        "\n",
        "  def add_new_item(self, product):\n",
        "    if type(product) == Product:\n",
        "      self.__items.append(product)\n",
        "      print(\"new item added\")\n",
        "    else:\n",
        "      raise ValueError(\"Invalid Item\")\n",
        "  \n",
        "  def get_number_of_items(self):\n",
        "    return len(self.__items)"
      ],
      "execution_count": null,
      "outputs": []
    },
    {
      "cell_type": "code",
      "metadata": {
        "colab": {
          "base_uri": "https://localhost:8080/"
        },
        "id": "ss7D19tqEXtX",
        "outputId": "d14262d1-298c-4cfb-e500-3b49775c7b99"
      },
      "source": [
        "my_inventory = Inventory()\n",
        "my_inventory.add_new_item(Product())\n",
        "my_inventory.add_new_item(Product())\n",
        "print(my_inventory.get_number_of_items())"
      ],
      "execution_count": null,
      "outputs": [
        {
          "output_type": "stream",
          "name": "stdout",
          "text": [
            "new item added\n",
            "new item added\n",
            "2\n"
          ]
        }
      ]
    },
    {
      "cell_type": "code",
      "metadata": {
        "colab": {
          "base_uri": "https://localhost:8080/",
          "height": 172
        },
        "id": "Kn0MdoLIEprn",
        "outputId": "c7d599f1-4445-44d8-f075-9eebf1d9b5a9"
      },
      "source": [
        "# 접근이 불가하다.\n",
        "my_inventory.__items"
      ],
      "execution_count": null,
      "outputs": [
        {
          "output_type": "error",
          "ename": "AttributeError",
          "evalue": "ignored",
          "traceback": [
            "\u001b[0;31m---------------------------------------------------------------------------\u001b[0m",
            "\u001b[0;31mAttributeError\u001b[0m                            Traceback (most recent call last)",
            "\u001b[0;32m<ipython-input-170-11cc93e1f4f4>\u001b[0m in \u001b[0;36m<module>\u001b[0;34m()\u001b[0m\n\u001b[0;32m----> 1\u001b[0;31m \u001b[0mmy_inventory\u001b[0m\u001b[0;34m.\u001b[0m\u001b[0m__items\u001b[0m\u001b[0;34m\u001b[0m\u001b[0;34m\u001b[0m\u001b[0m\n\u001b[0m",
            "\u001b[0;31mAttributeError\u001b[0m: 'Inventory' object has no attribute '__items'"
          ]
        }
      ]
    },
    {
      "cell_type": "code",
      "metadata": {
        "colab": {
          "base_uri": "https://localhost:8080/"
        },
        "id": "KX9yyUgTE5Ln",
        "outputId": "92243b8d-8ce5-4019-ca5c-97b57e2321be"
      },
      "source": [
        "# 접근이 가능하다.\n",
        "my_inventory.items"
      ],
      "execution_count": null,
      "outputs": [
        {
          "output_type": "execute_result",
          "data": {
            "text/plain": [
              "[<__main__.Product at 0x7f4807bd09d0>, <__main__.Product at 0x7f4807bd0bd0>]"
            ]
          },
          "metadata": {},
          "execution_count": 171
        }
      ]
    },
    {
      "cell_type": "code",
      "metadata": {
        "id": "KgddU5KgFA2G"
      },
      "source": [
        "# 추가도 가능하다.\n",
        "my_inventory.items.append(\"a\")\n",
        "# 이를 방지하기 위해서 __items 속성을 복사해서 반환하는 것이 보편적이다."
      ],
      "execution_count": null,
      "outputs": []
    },
    {
      "cell_type": "markdown",
      "metadata": {
        "id": "d0igrSCYFbon"
      },
      "source": [
        "<h3> decorate </h3>"
      ]
    },
    {
      "cell_type": "code",
      "metadata": {
        "id": "wgwP4BJSFHWf"
      },
      "source": [
        "class Student:\n",
        "  def __init__(self, name, marks):\n",
        "    self.name = name\n",
        "    self.marks = marks\n",
        "    # self.gotmarks = self.name + 'obtained' + self.marks + 'marks'\n",
        "\n",
        "  # 아래와 같은 것을 decorater 라고 부른다. \n",
        "  @property\n",
        "  def gotmarks(self):\n",
        "    return self.name + 'obtained' + self.marks + 'marks'"
      ],
      "execution_count": null,
      "outputs": []
    },
    {
      "cell_type": "markdown",
      "metadata": {
        "id": "O1Q-mU3BF_pI"
      },
      "source": [
        "decorate를 이해하기 위해 **first-class objects / inner function / decorator**를 이해해야 한다. \n",
        "\n",
        "**first-class objects**\n",
        "* 일등 함수 또는 일급 객체로 변역한다.\n",
        "* 변수나 데이터 구조에 할당이 가능한 객체이다.\n",
        "* 파라미터로 전달이 가능 + 리턴 값으로 사용할 수 있다.\n",
        "* **파이썬의 함수는 모두 일급함수이다.**"
      ]
    },
    {
      "cell_type": "code",
      "metadata": {
        "colab": {
          "base_uri": "https://localhost:8080/"
        },
        "id": "G_pUXkO8lnpX",
        "outputId": "2feeb459-1dd7-4240-bdb3-f4ad34c387bf"
      },
      "source": [
        "def square(x):\n",
        "  return x * x\n",
        "\n",
        "f = square\n",
        "f(5)"
      ],
      "execution_count": 1,
      "outputs": [
        {
          "output_type": "execute_result",
          "data": {
            "text/plain": [
              "25"
            ]
          },
          "metadata": {},
          "execution_count": 1
        }
      ]
    },
    {
      "cell_type": "code",
      "metadata": {
        "id": "9ar3sOgKlsQO"
      },
      "source": [
        "def square(x):\n",
        "  return x * x\n",
        "\n",
        "def cube(x):\n",
        "  return x * x * x\n",
        "\n",
        "# 함수를 파라미터로 사용할 수 있다.\n",
        "def formula(method, argument_list):\n",
        "  return [method(value) for value in argument_list]"
      ],
      "execution_count": 3,
      "outputs": []
    },
    {
      "cell_type": "markdown",
      "metadata": {
        "id": "Po_-QOhIrpx0"
      },
      "source": [
        "**Inner function**\n",
        "* 함수 내에 또 다른 함수가 존재한다."
      ]
    },
    {
      "cell_type": "code",
      "metadata": {
        "colab": {
          "base_uri": "https://localhost:8080/"
        },
        "id": "Zu7tmSmhrAFO",
        "outputId": "e987bc5e-b741-47b0-e46e-f454ce85e51f"
      },
      "source": [
        "def print_msg(msg):\n",
        "  def printer():\n",
        "    print(msg)\n",
        "  printer()\n",
        "\n",
        "print_msg(\"Hello, Python\")"
      ],
      "execution_count": 6,
      "outputs": [
        {
          "output_type": "stream",
          "name": "stdout",
          "text": [
            "Hello, Python\n"
          ]
        }
      ]
    },
    {
      "cell_type": "code",
      "metadata": {
        "colab": {
          "base_uri": "https://localhost:8080/"
        },
        "id": "RDWgNxFjrXIE",
        "outputId": "d36a5ca8-01ce-4c2f-ac4c-79ce4337a2e6"
      },
      "source": [
        "# closures: inner function을 return값으로 반환한다.\n",
        "def print_msg(msg):\n",
        "  def printer():\n",
        "    print(msg)\n",
        "  return printer\n",
        "\n",
        "another = print_msg(\"Hello, Python\")\n",
        "another()"
      ],
      "execution_count": 5,
      "outputs": [
        {
          "output_type": "stream",
          "name": "stdout",
          "text": [
            "Hello, Python\n"
          ]
        }
      ]
    },
    {
      "cell_type": "code",
      "metadata": {
        "id": "NPbQKTGyrf1E"
      },
      "source": [
        "# closures를 이용해 아래와 같은 것도 가능하다.\n",
        "# 즉, 비슷한 목적을 가진 여러 함수를 만들 수 있다.\n",
        "# 목적 자체는 Polymolphism과 비슷하다.\n",
        "def tag_func(tag, text):\n",
        "  text = text\n",
        "  tag = tag\n",
        "\n",
        "  def inner_func():\n",
        "    return '<{0}>{1}<{0}>'.format(tag, text)\n",
        "  return inner_func\n",
        "\n",
        "h1_func = tag_func('title', 'This is Python Class')\n",
        "p_func = tag_func('p', 'Data Academy')"
      ],
      "execution_count": 8,
      "outputs": []
    },
    {
      "cell_type": "markdown",
      "metadata": {
        "id": "ATT7iLR2zLR5"
      },
      "source": [
        "**decorator function**"
      ]
    },
    {
      "cell_type": "code",
      "metadata": {
        "colab": {
          "base_uri": "https://localhost:8080/"
        },
        "id": "_d-6frAXxsjM",
        "outputId": "b916c948-6ae0-4c19-c383-2654cf4fca98"
      },
      "source": [
        "def star(func):\n",
        "  def inner(*args, **kwargs):\n",
        "    print(args[1] * 30)\n",
        "    func(*args, **kwargs)\n",
        "    print(args[1] * 30)\n",
        "  return inner\n",
        "\n",
        "@star # 아래 function이 start의 인자로 들어간다.\n",
        "def printer(msg, mark):\n",
        "  print(msg)\n",
        "printer('Hello', '*')\n",
        "printer('Hello', 'T')"
      ],
      "execution_count": 14,
      "outputs": [
        {
          "output_type": "stream",
          "name": "stdout",
          "text": [
            "******************************\n",
            "Hello\n",
            "******************************\n",
            "TTTTTTTTTTTTTTTTTTTTTTTTTTTTTT\n",
            "Hello\n",
            "TTTTTTTTTTTTTTTTTTTTTTTTTTTTTT\n"
          ]
        }
      ]
    },
    {
      "cell_type": "code",
      "metadata": {
        "colab": {
          "base_uri": "https://localhost:8080/"
        },
        "id": "UExhrTm8ynSq",
        "outputId": "26e75888-3c05-4aea-c0ba-f2047f367ace"
      },
      "source": [
        "def star(func):\n",
        "  def inner(*args, **kwargs):\n",
        "    print(\"*\" * 30)\n",
        "    func(*args, **kwargs)\n",
        "    print(\"*\" * 30)\n",
        "  return inner\n",
        "\n",
        "def percent(func):\n",
        "  def inner(*args, **kwargs):\n",
        "    print('%' * 30)\n",
        "    func(*args, **kwargs)\n",
        "    print('%' * 30)\n",
        "  return inner\n",
        "\n",
        "@star\n",
        "@percent\n",
        "def printer(msg):\n",
        "  print(msg)\n",
        "printer('Hello')"
      ],
      "execution_count": 15,
      "outputs": [
        {
          "output_type": "stream",
          "name": "stdout",
          "text": [
            "******************************\n",
            "%%%%%%%%%%%%%%%%%%%%%%%%%%%%%%\n",
            "Hello\n",
            "%%%%%%%%%%%%%%%%%%%%%%%%%%%%%%\n",
            "******************************\n"
          ]
        }
      ]
    },
    {
      "cell_type": "code",
      "metadata": {
        "id": "CIz3bodW0CHR"
      },
      "source": [
        "def generate_power(exponent): # exponent = 2\n",
        "  def wrapper(f): # f = raise_two\n",
        "    def inner(*args): # *args = n\n",
        "      result = f(*args) # 7^2\n",
        "      return exponent**result # 2^(7^2)\n",
        "    return inner\n",
        "  return wrapper\n",
        "@generate_power(2)\n",
        "def raise_two(n):\n",
        "  return n ** 2"
      ],
      "execution_count": 21,
      "outputs": []
    },
    {
      "cell_type": "code",
      "metadata": {
        "colab": {
          "base_uri": "https://localhost:8080/"
        },
        "id": "AccPiNe50Wgg",
        "outputId": "abb0b1a6-5a08-49da-f893-296570fd9c32"
      },
      "source": [
        "print(raise_two(7))"
      ],
      "execution_count": 22,
      "outputs": [
        {
          "output_type": "stream",
          "name": "stdout",
          "text": [
            "562949953421312\n"
          ]
        }
      ]
    },
    {
      "cell_type": "code",
      "metadata": {
        "colab": {
          "base_uri": "https://localhost:8080/"
        },
        "id": "2-haNSKT0Y6B",
        "outputId": "5a03ac30-4e0b-4ff3-ff89-139cdfc7761f"
      },
      "source": [
        "2**(7**2)"
      ],
      "execution_count": 23,
      "outputs": [
        {
          "output_type": "execute_result",
          "data": {
            "text/plain": [
              "562949953421312"
            ]
          },
          "metadata": {},
          "execution_count": 23
        }
      ]
    },
    {
      "cell_type": "markdown",
      "metadata": {
        "id": "GV6O0_6wCI78"
      },
      "source": [
        "참고 - args(arguments), kwargs(keyword arguments)\n"
      ]
    },
    {
      "cell_type": "code",
      "metadata": {
        "colab": {
          "base_uri": "https://localhost:8080/"
        },
        "id": "phXFI7aKCU30",
        "outputId": "b9eb3045-de56-47b4-d018-026bb7c75fb8"
      },
      "source": [
        "def func(*arg, **kwargs):\n",
        "  print(type(arg), arg)\n",
        "  print(type(arg), kwargs)\n",
        "  print('\\n')\n",
        "\n",
        "func(0, 1, 2, x = 1, y = 2)\n",
        "func(3, 4, 5)\n",
        "func(x = 6, y = 7)"
      ],
      "execution_count": 25,
      "outputs": [
        {
          "output_type": "stream",
          "name": "stdout",
          "text": [
            "<class 'tuple'> (0, 1, 2)\n",
            "<class 'tuple'> {'x': 1, 'y': 2}\n",
            "\n",
            "\n",
            "<class 'tuple'> (3, 4, 5)\n",
            "<class 'tuple'> {}\n",
            "\n",
            "\n",
            "<class 'tuple'> ()\n",
            "<class 'tuple'> {'x': 6, 'y': 7}\n",
            "\n",
            "\n"
          ]
        }
      ]
    }
  ]
}