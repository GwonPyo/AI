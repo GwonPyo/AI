{
  "nbformat": 4,
  "nbformat_minor": 0,
  "metadata": {
    "colab": {
      "name": "3. Exception/File/Log Handling.ipynb",
      "provenance": [],
      "collapsed_sections": []
    },
    "kernelspec": {
      "name": "python3",
      "display_name": "Python 3"
    },
    "language_info": {
      "name": "python"
    }
  },
  "cells": [
    {
      "cell_type": "markdown",
      "metadata": {
        "id": "04qpKXWlIGp1"
      },
      "source": [
        "<h3> Exception Handling </h3>\n",
        "\n",
        "프로그래밍을 하다보면 예상치 못한 일이 발생한다. 우리가 사용자의 모든 행동을 예상하며 프로그래밍을 할 수 없다. <br>\n",
        "따라서 프로그램을 사용할 때 여러가지 오류들이 발생하게 된다.\n",
        "\n",
        "* 주소를 입력하지 않고 배송 요청, 저장도 안 했는데 컴퓨터 전원이 나감, 게임 아이템을 샀는데 게임에서 튕김 <br> -> 예상치 못한 많은 일(예외)들이 생긴다.\n",
        "\n",
        "위와 같은 일들을 'Exception'이라고 부른다. Exception에는 예상이 가능한 예외와 예상이 불가능한 예외가 있다.\n",
        "\n",
        "**예상 가능한 예외**\n",
        "* 발생 열부를 사전에 인지할 수 있는 예외이다.\n",
        "* 사용자의 잘못된 입력, 파일 호출시 파일 없음 등\n",
        "* 개발자가 반드시 명시적으로 정의(처리)해야 한다.\n",
        "\n",
        "**예상 불가능한 예외**\n",
        "* 인터프리터 과정에서 발생하는 예외로 인터프리터가 알아서 에러를 호출해주고 프로그램을 종료시킨다.\n",
        "* 리스트의 범위를 넘어가는 값 호출, 정수 0으로 나눔 등\n",
        "\n",
        "예외가 발생할 경우 후속 조치 등 대처가 필요하다. if문,  Exception Handling을 이용해 처리할 수 있다. 하지만 Exception Handling을 권장하는 경우들이 있다.\n",
        "\n",
        "* 없는 파일 호출 -> 파일 없음을 알림\n",
        "* 게임 이상 종료 -> 게임 정보 저장"
      ]
    },
    {
      "cell_type": "markdown",
      "metadata": {
        "id": "ry9gzK9ANd95"
      },
      "source": [
        "---\n",
        "<h4> 파이썬 예외 처리 <h4>\n",
        "\n",
        "* **try_except** <br>\n",
        "try: (예외 발생 가능 코드) <br>\n",
        "except (Exception Type): (예외 발생시 대응하는 코드)\n",
        "\n"
      ]
    },
    {
      "cell_type": "code",
      "metadata": {
        "colab": {
          "base_uri": "https://localhost:8080/"
        },
        "id": "z2f920SGR7qO",
        "outputId": "f2d1300c-492d-408e-8a16-779e633e28e8"
      },
      "source": [
        "# 0으로 숫자를 나눌 때 예외처리 하기\n",
        "for i in range(10):\n",
        "  try:\n",
        "    print(10 / i)\n",
        "  except ZeroDivisionError:\n",
        "    # ZeroDivisionError는 파이썬에 있는 에러인데 이를 built-in Exception라고 한다.\n",
        "    # except 부분에 ValueError를 사용하면 오류가 발생한다.(ValueError도 built-in Exception이다.)\n",
        "    print(\"Not divided by 0\")"
      ],
      "execution_count": null,
      "outputs": [
        {
          "output_type": "stream",
          "name": "stdout",
          "text": [
            "Not divided by 0\n",
            "10.0\n",
            "5.0\n",
            "3.3333333333333335\n",
            "2.5\n",
            "2.0\n",
            "1.6666666666666667\n",
            "1.4285714285714286\n",
            "1.25\n",
            "1.1111111111111112\n"
          ]
        }
      ]
    },
    {
      "cell_type": "markdown",
      "metadata": {
        "id": "M8P4dhUnTLcf"
      },
      "source": [
        "**Built-in Exception: 기본적으로 제공하는 예외**\n",
        "\n",
        "* IndexError: List의 Index 범위를 넘어갈 때\n",
        "* NameError: 존재하지 않은 변수를 호출할 때\n",
        "* ZeroDivisionError: 0으로 숫자를 나눌 때\n",
        "* ValueError: 변환할 수 없는 문자/숫자를 변환할 때\n",
        "* FileNotFoundError: 존재하지 않는 파일을 호출할 때\n",
        "* 이외에도 종류가 아주 많고, 직접 만들 수도 있다.\n",
        "\n"
      ]
    },
    {
      "cell_type": "code",
      "metadata": {
        "colab": {
          "base_uri": "https://localhost:8080/"
        },
        "id": "27ZEMRZOSKvA",
        "outputId": "7db6395e-1e08-4285-a6ed-a8cfa18d20e1"
      },
      "source": [
        "a = [1, 2, 3, 4, 5]\n",
        "for i in range(10):\n",
        "  try:\n",
        "    print(i, 10 // i)\n",
        "    print(a[i])\n",
        "  except ZeroDivisionError:\n",
        "    print('Not divided by 0')\n",
        "  # 에러가 두 개인 경우 exception을 한개 더 달아준다.\n",
        "  except IndexError as e:\n",
        "    print(e)\n",
        "  # 보통 맨 끝의 exception은 아래와 같이 달아준다.\n",
        "  # 특별한 exception을 지정하지 않아도 아래처럼쓰면 에러를 잡을 수 있다.\n",
        "  # 하지만 아래와 같이 쓰는 것은 권장하지 않는다.\n",
        "  # 왜냐하면 전체 Exception을 사용하면 exception이 어디서 발생했는지 알 수 없기 때문이다.\n",
        "  except Exception as e:\n",
        "    print(e)"
      ],
      "execution_count": null,
      "outputs": [
        {
          "output_type": "stream",
          "name": "stdout",
          "text": [
            "Not divided by 0\n",
            "1 10\n",
            "2\n",
            "2 5\n",
            "3\n",
            "3 3\n",
            "4\n",
            "4 2\n",
            "5\n",
            "5 2\n",
            "list index out of range\n",
            "6 1\n",
            "list index out of range\n",
            "7 1\n",
            "list index out of range\n",
            "8 1\n",
            "list index out of range\n",
            "9 1\n",
            "list index out of range\n"
          ]
        }
      ]
    },
    {
      "cell_type": "markdown",
      "metadata": {
        "id": "GSS1861ycV3N"
      },
      "source": [
        "---\n",
        "* **try_except_else** <br>\n",
        "try: (예외 발생 가능 코드) <br>\n",
        "except (Exception Type): (예외 발생시 동작하는 코드) <br>\n",
        "else: (예외가 발생하지 않을 때 동작하는 코드)\n",
        "\n",
        "교수님은 위와 같은 코드는 복잡하기 때문에 별로 권장하지 않는다고 하심."
      ]
    },
    {
      "cell_type": "code",
      "metadata": {
        "colab": {
          "base_uri": "https://localhost:8080/"
        },
        "id": "GwEXJ1F4drgz",
        "outputId": "fcac2d52-978c-4ae2-9ac0-879d81980ce5"
      },
      "source": [
        "for i in range(10):\n",
        "  try:\n",
        "    result = 10 // i\n",
        "  except ZeroDivisionError:\n",
        "    print(\"now divided by 0\")\n",
        "  else:\n",
        "    print(10//i)"
      ],
      "execution_count": null,
      "outputs": [
        {
          "output_type": "stream",
          "name": "stdout",
          "text": [
            "now divided by 0\n",
            "10\n",
            "5\n",
            "3\n",
            "2\n",
            "2\n",
            "1\n",
            "1\n",
            "1\n",
            "1\n"
          ]
        }
      ]
    },
    {
      "cell_type": "markdown",
      "metadata": {
        "id": "rkMe9aA5d1pr"
      },
      "source": [
        "---\n",
        "* **try_except_finally** <br>\n",
        "try: (예외 발생 가능 코드) <br>\n",
        "except (Exception Type): (예외 발생시 동작하는 코드) <br>\n",
        "finally: (예외 발생 여부와 상관없이 실행됨)"
      ]
    },
    {
      "cell_type": "code",
      "metadata": {
        "colab": {
          "base_uri": "https://localhost:8080/"
        },
        "id": "lY9DwiCAeLOM",
        "outputId": "471ea529-ba77-416d-a8a7-53a0db4001c2"
      },
      "source": [
        "try:\n",
        "  for i in range(10):\n",
        "    result = 10 // i\n",
        "    print(result)\n",
        "except ZeroDivisionError:\n",
        "  print(\"Not divided by 0\")\n",
        "finally:\n",
        "  print(\"종료되었습니다.\")"
      ],
      "execution_count": null,
      "outputs": [
        {
          "output_type": "stream",
          "name": "stdout",
          "text": [
            "Not divided by 0\n",
            "종료되었습니다.\n"
          ]
        }
      ]
    },
    {
      "cell_type": "markdown",
      "metadata": {
        "id": "XGtIPKZKekTM"
      },
      "source": [
        "---\n",
        "필요에 따라 **강제로 Exception을 발생**시킬 수 있다.\n",
        "\n",
        "* **raise (Exception Type) (예외 정보)**"
      ]
    },
    {
      "cell_type": "code",
      "metadata": {
        "colab": {
          "base_uri": "https://localhost:8080/",
          "height": 244
        },
        "id": "ih7D_h7FIBYJ",
        "outputId": "1e3a0a85-d04c-40ec-e582-ca9b64dabac2"
      },
      "source": [
        "while True:\n",
        "  value = input(\"변환할 정수 값을 입력해주세요\")\n",
        "  for digit in value:\n",
        "    if digit not in \"0123456789\":\n",
        "      raise ValueError(\"숫자값을 입력하지 않으셨습니다.\")\n",
        "  print('정수값으로 변환된 숫자 -', int(value))"
      ],
      "execution_count": null,
      "outputs": [
        {
          "name": "stdout",
          "output_type": "stream",
          "text": [
            "변환할 정수 값을 입력해주세요a\n"
          ]
        },
        {
          "output_type": "error",
          "ename": "ValueError",
          "evalue": "ignored",
          "traceback": [
            "\u001b[0;31m---------------------------------------------------------------------------\u001b[0m",
            "\u001b[0;31mValueError\u001b[0m                                Traceback (most recent call last)",
            "\u001b[0;32m<ipython-input-1-0865a88fb080>\u001b[0m in \u001b[0;36m<module>\u001b[0;34m()\u001b[0m\n\u001b[1;32m      3\u001b[0m   \u001b[0;32mfor\u001b[0m \u001b[0mdigit\u001b[0m \u001b[0;32min\u001b[0m \u001b[0mvalue\u001b[0m\u001b[0;34m:\u001b[0m\u001b[0;34m\u001b[0m\u001b[0;34m\u001b[0m\u001b[0m\n\u001b[1;32m      4\u001b[0m     \u001b[0;32mif\u001b[0m \u001b[0mdigit\u001b[0m \u001b[0;32mnot\u001b[0m \u001b[0;32min\u001b[0m \u001b[0;34m\"0123456789\"\u001b[0m\u001b[0;34m:\u001b[0m\u001b[0;34m\u001b[0m\u001b[0;34m\u001b[0m\u001b[0m\n\u001b[0;32m----> 5\u001b[0;31m       \u001b[0;32mraise\u001b[0m \u001b[0mValueError\u001b[0m\u001b[0;34m(\u001b[0m\u001b[0;34m\"숫자값을 입력하지 않으셨습니다.\"\u001b[0m\u001b[0;34m)\u001b[0m\u001b[0;34m\u001b[0m\u001b[0;34m\u001b[0m\u001b[0m\n\u001b[0m\u001b[1;32m      6\u001b[0m   \u001b[0mprint\u001b[0m\u001b[0;34m(\u001b[0m\u001b[0;34m'정수값으로 변환된 숫자 -'\u001b[0m\u001b[0;34m,\u001b[0m \u001b[0mint\u001b[0m\u001b[0;34m(\u001b[0m\u001b[0mvalue\u001b[0m\u001b[0;34m)\u001b[0m\u001b[0;34m)\u001b[0m\u001b[0;34m\u001b[0m\u001b[0;34m\u001b[0m\u001b[0m\n",
            "\u001b[0;31mValueError\u001b[0m: 숫자값을 입력하지 않으셨습니다."
          ]
        }
      ]
    },
    {
      "cell_type": "markdown",
      "metadata": {
        "id": "uXvhMsCWIv4w"
      },
      "source": [
        "---\n",
        "**특정 조건에 만족하지 않을 경우 예외를 발생**시킬 수 있다.\n",
        "\n",
        "* **assert (예외조건)**"
      ]
    },
    {
      "cell_type": "code",
      "metadata": {
        "id": "aMNb2aXVJQp2"
      },
      "source": [
        "def get_binary_number(decimal_number):\n",
        "  # isinstance()는 주어진 인스턴스가 주어진 클래스/데이터 타입과 일치하는지 검사하는 함수이다.\n",
        "  assert isinstance(decimal_number, int)\n",
        "  # bin() 함수는 10진수를 2진수로 바꿔주는 함수이다.\n",
        "  # 2진수를 10진수로 변화하려면 아래와 같이 int함수를 사용하면 된다.\n",
        "  # int('0b1010', 2)\n",
        "  return bin(decimal_number)"
      ],
      "execution_count": null,
      "outputs": []
    },
    {
      "cell_type": "code",
      "metadata": {
        "colab": {
          "base_uri": "https://localhost:8080/"
        },
        "id": "rLFceZfDJfVw",
        "outputId": "2e4a1371-e43d-4919-e819-7822d9662a2c"
      },
      "source": [
        "print(get_binary_number(10))"
      ],
      "execution_count": null,
      "outputs": [
        {
          "output_type": "stream",
          "name": "stdout",
          "text": [
            "0b1010\n"
          ]
        }
      ]
    },
    {
      "cell_type": "code",
      "metadata": {
        "colab": {
          "base_uri": "https://localhost:8080/",
          "height": 262
        },
        "id": "UPUGpsknJhDv",
        "outputId": "eeef8ccc-47d9-43d2-b77a-d499d9f7b1c7"
      },
      "source": [
        "# AssertionError가 발생된다.\n",
        "print(get_binary_number(10.0))"
      ],
      "execution_count": null,
      "outputs": [
        {
          "output_type": "error",
          "ename": "AssertionError",
          "evalue": "ignored",
          "traceback": [
            "\u001b[0;31m---------------------------------------------------------------------------\u001b[0m",
            "\u001b[0;31mAssertionError\u001b[0m                            Traceback (most recent call last)",
            "\u001b[0;32m<ipython-input-6-3015f621394c>\u001b[0m in \u001b[0;36m<module>\u001b[0;34m()\u001b[0m\n\u001b[0;32m----> 1\u001b[0;31m \u001b[0mprint\u001b[0m\u001b[0;34m(\u001b[0m\u001b[0mget_binary_number\u001b[0m\u001b[0;34m(\u001b[0m\u001b[0;36m10.0\u001b[0m\u001b[0;34m)\u001b[0m\u001b[0;34m)\u001b[0m\u001b[0;34m\u001b[0m\u001b[0;34m\u001b[0m\u001b[0m\n\u001b[0m",
            "\u001b[0;32m<ipython-input-2-9e92dee3271a>\u001b[0m in \u001b[0;36mget_binary_number\u001b[0;34m(decimal_number)\u001b[0m\n\u001b[1;32m      1\u001b[0m \u001b[0;32mdef\u001b[0m \u001b[0mget_binary_number\u001b[0m\u001b[0;34m(\u001b[0m\u001b[0mdecimal_number\u001b[0m\u001b[0;34m)\u001b[0m\u001b[0;34m:\u001b[0m\u001b[0;34m\u001b[0m\u001b[0;34m\u001b[0m\u001b[0m\n\u001b[0;32m----> 2\u001b[0;31m   \u001b[0;32massert\u001b[0m \u001b[0misinstance\u001b[0m\u001b[0;34m(\u001b[0m\u001b[0mdecimal_number\u001b[0m\u001b[0;34m,\u001b[0m \u001b[0mint\u001b[0m\u001b[0;34m)\u001b[0m\u001b[0;34m\u001b[0m\u001b[0;34m\u001b[0m\u001b[0m\n\u001b[0m\u001b[1;32m      3\u001b[0m   \u001b[0;32mreturn\u001b[0m \u001b[0mbin\u001b[0m\u001b[0;34m(\u001b[0m\u001b[0mdecimal_number\u001b[0m\u001b[0;34m)\u001b[0m\u001b[0;34m\u001b[0m\u001b[0;34m\u001b[0m\u001b[0m\n",
            "\u001b[0;31mAssertionError\u001b[0m: "
          ]
        }
      ]
    },
    {
      "cell_type": "markdown",
      "metadata": {
        "id": "4DPlZGSNKtrQ"
      },
      "source": [
        "---\n",
        "<h3> File Handling </h3>\n",
        "\n",
        "File system은 OS에서 파일을 저장하는 **트리구조 저장 체계**이다. <br>\n",
        "기본적인 파일 종류로 **text 파일과 binary 파일**로 나눈다. 컴퓨터는 text 파일을 처리하기 위해 binary 파일로 변환시킨다. <br> 모든 text 파일도 실제는 binary 파일이지만 ASCII/Unicode 문자열 집합으로 저장되어 사람이 읽을 수 있다. \n",
        "\n",
        "**text 파일**\n",
        "\n",
        "* 인간도 이해할 수 있는 형태인 **문자열 형식**으로 저장된 파일이다.\n",
        "* 메모장으로 열면 내용 확인이 가능하다.\n",
        "* 메모장에 저장된 파일, HTML 파일, 파이썬 코드 파일 등이 있다.\n",
        "\n",
        "**Binary 파일**\n",
        "\n",
        "* 컴퓨터만 이해할 수 있는 형태인 **이진(법)형식**으로 저장된 파일이다.\n",
        "* 일반적으로 메모장으로 열면 내용이 깨져보인다.\n",
        "* 엑셀, 워드 파일 등이 있다.\n",
        "---"
      ]
    },
    {
      "cell_type": "markdown",
      "metadata": {
        "id": "wtuv6mH8NEDZ"
      },
      "source": [
        "<h3> Python File I/O </h3>\n",
        "\n",
        "파이썬은 파일 처리를 위해 \"open\"키워드를 사용한다.\n",
        "\n",
        "* f = open(\"파일 이름\", \"접근 모드\") <br>\n",
        "f.close\n",
        "* r: 읽기 모드(파일을 읽음)<br> w: 쓰기 모드(파일에 내용을 씀)<br> a: 추가모드(파일의 마지막에 새로운 내용 추가)"
      ]
    },
    {
      "cell_type": "markdown",
      "metadata": {
        "id": "4rWSytdAcfL4"
      },
      "source": [
        "<h4> File Read </h4>"
      ]
    },
    {
      "cell_type": "code",
      "metadata": {
        "colab": {
          "base_uri": "https://localhost:8080/"
        },
        "id": "-E0VwgQlJkwX",
        "outputId": "5cbcc4d6-9688-406b-e229-e7f190186f3e"
      },
      "source": [
        "# read(): txt파일 안에 있는 내용을 문자열로 반환한다.\n",
        "f = open(\"i_have_a_dream.txt\", 'r')\n",
        "contents = f.read()\n",
        "print(contents)\n",
        "f.close()"
      ],
      "execution_count": null,
      "outputs": [
        {
          "output_type": "stream",
          "name": "stdout",
          "text": [
            "my dream is Ai Programmer\n",
            "\n"
          ]
        }
      ]
    },
    {
      "cell_type": "code",
      "metadata": {
        "colab": {
          "base_uri": "https://localhost:8080/"
        },
        "id": "T_wML6FJV1Kq",
        "outputId": "e0874f9f-196e-4484-9511-acb9a32d91e0"
      },
      "source": [
        "# with 구문\n",
        "with open('i_have_a_dream.txt', 'r') as my_file:\n",
        "  # f.close() 사용 x\n",
        "  contents2 = my_file.read()\n",
        "  print(type(contents2), contents2)\n",
        "print(contents2)\n",
        "# 자동으로 close 되므로 아래 코드는 오류가 발생한다.\n",
        "# print(my_file.read())\n",
        "# 교수님은 with구문보다 위 코드를 쓰는 거를 추천하심."
      ],
      "execution_count": 4,
      "outputs": [
        {
          "output_type": "stream",
          "name": "stdout",
          "text": [
            "<class 'str'> my dream is Ai Programmer\n",
            "\n",
            "my dream is Ai Programmer\n",
            "\n"
          ]
        }
      ]
    },
    {
      "cell_type": "code",
      "metadata": {
        "id": "_BC0SaAtWXGZ",
        "colab": {
          "base_uri": "https://localhost:8080/"
        },
        "outputId": "b5e843f8-ef14-4bb5-a7de-d8673e4078f0"
      },
      "source": [
        "# 한 줄씩 읽어 List Type으로 반환\n",
        "with open(\"i_have_a_dream.txt\", \"r\") as my_file:\n",
        "  content_list = my_file.readlines() # 파일 전체를 list로 반환\n",
        "  print(type(content_list)) # 타입 확인\n",
        "  print(content_list) # 리스트 값 출력"
      ],
      "execution_count": 6,
      "outputs": [
        {
          "output_type": "stream",
          "name": "stdout",
          "text": [
            "<class 'list'>\n",
            "['my dream is \\n', 'Ai Programmer']\n"
          ]
        }
      ]
    },
    {
      "cell_type": "code",
      "metadata": {
        "colab": {
          "base_uri": "https://localhost:8080/"
        },
        "id": "fM117t6VYC_p",
        "outputId": "4c099fca-9cd4-490d-a8a9-31868a44ee31"
      },
      "source": [
        "# 실행마다 한줄 씩 읽어오기\n",
        "with open(\"i_have_a_dream.txt\", \"r\") as my_file:\n",
        "  i = 0\n",
        "  while True:\n",
        "    line = my_file.readline()\n",
        "    if not line:\n",
        "      break\n",
        "    print(str(i) + \"===\" + line.replace(\"\\n\",\"\"))\n",
        "    i = i + 1"
      ],
      "execution_count": 10,
      "outputs": [
        {
          "output_type": "stream",
          "name": "stdout",
          "text": [
            "0===my dream \n",
            "1===is \n",
            "2===Ai \n",
            "3===Programmer\n"
          ]
        }
      ]
    },
    {
      "cell_type": "code",
      "metadata": {
        "colab": {
          "base_uri": "https://localhost:8080/"
        },
        "id": "mqPe9hPwY3ah",
        "outputId": "e5a8c969-2e15-46df-9827-130f0d5d7748"
      },
      "source": [
        "# 단어 통계 정보 산출\n",
        "with open(\"i_have_a_dream.txt\", \"r\") as my_file:\n",
        "  contents = my_file.read()\n",
        "  word_list = contents.split(\" \")\n",
        "  line_list = contents.split(\"\\n\")\n",
        "\n",
        "print(\"Total Number of Characters :\", len(contents))\n",
        "print(\"Total Number of Words: \", len(word_list))\n",
        "print(\"Total Number of Lines: \", len(line_list))"
      ],
      "execution_count": 12,
      "outputs": [
        {
          "output_type": "stream",
          "name": "stdout",
          "text": [
            "Total Number of Characters : 28\n",
            "Total Number of Words:  5\n",
            "Total Number of Lines:  4\n"
          ]
        }
      ]
    },
    {
      "cell_type": "markdown",
      "metadata": {
        "id": "DzmiBj6uceGC"
      },
      "source": [
        "<h4> File Write </h4>\n",
        "\n",
        "**mode는 \"w\", encoding은 \"utf8\"로 설정하자.** encoding은 문자나 글자를 컴퓨터에 저장하는 것과 관련된 표준에 관한 매개변순다. 한글과 동아시아에서는 utf8 혹은 utf16을 쓴다."
      ]
    },
    {
      "cell_type": "code",
      "metadata": {
        "id": "Gnx36iaEcLXI"
      },
      "source": [
        "# count_log 파일이 없어도 실행 가능하다.\n",
        "f = open(\"count_log.txt\", mode = 'w', encoding = 'utf8')\n",
        "for i in range(1, 11):\n",
        "  data = \"{0}번째 줄입니다.\\n\".format(i)\n",
        "  f.write(data)\n",
        "f.close()"
      ],
      "execution_count": 17,
      "outputs": []
    },
    {
      "cell_type": "code",
      "metadata": {
        "id": "KnJzecISdWvQ"
      },
      "source": [
        "# a = append\n",
        "# 기존 파일 내용에서 내용을 추가함.\n",
        "with open(\"count_log.txt\", mode = 'a', encoding = 'utf8') as f:\n",
        "  for i in range(11, 21):\n",
        "    data = '{0}번째 줄입니다.\\n'.format(i)\n",
        "    f.write(data)"
      ],
      "execution_count": 18,
      "outputs": []
    },
    {
      "cell_type": "code",
      "metadata": {
        "id": "lVoZk5UDeAyu"
      },
      "source": [
        "# 파일 내용이 전부 삭제되고 아래 내용만 기록됨.\n",
        "with open(\"count_log.txt\", mode = 'w', encoding = 'utf8') as f:\n",
        "  for i in range(11, 21):\n",
        "    data = '{0}번째 줄입니다.\\n'.format(i)\n",
        "    f.write(data)"
      ],
      "execution_count": 19,
      "outputs": []
    },
    {
      "cell_type": "markdown",
      "metadata": {
        "id": "ReWdffQreTwP"
      },
      "source": [
        "---\n",
        "<h3> 파이썬의 directory 다루기 </h3>\n"
      ]
    },
    {
      "cell_type": "markdown",
      "metadata": {
        "id": "idBqxgHret3q"
      },
      "source": [
        "os 모듈을 사용해 Directory 다루기\n",
        "* import os <br>\n",
        "os.mkdir(\"log\") \n",
        "mkdir() 함수를 사용하면 해당 파일을 만들 수 있다.\n",
        "\n",
        "Directory가 있는지 확인\n",
        "* if not os.path.isdir(\"log\"): <br>\n",
        "os.mkdir(\"log\")"
      ]
    },
    {
      "cell_type": "code",
      "metadata": {
        "id": "KV37-XWAeIv-"
      },
      "source": [
        "import os"
      ],
      "execution_count": 20,
      "outputs": []
    },
    {
      "cell_type": "code",
      "metadata": {
        "colab": {
          "base_uri": "https://localhost:8080/"
        },
        "id": "uZobtjjufFfP",
        "outputId": "575653a7-d4fb-4066-edcc-fc0a086a8188"
      },
      "source": [
        "try:\n",
        "  # log 파일 생성\n",
        "  os.mkdir(\"log\")\n",
        "  # 파일 생성 후 코드를 한번 더 실행하면 아래 코드가 실행됨.\n",
        "except FileExistsError as e:\n",
        "  print(\"Already created\")"
      ],
      "execution_count": 25,
      "outputs": [
        {
          "output_type": "stream",
          "name": "stdout",
          "text": [
            "Already created\n"
          ]
        }
      ]
    },
    {
      "cell_type": "code",
      "metadata": {
        "colab": {
          "base_uri": "https://localhost:8080/"
        },
        "id": "DsDaZViAfNPm",
        "outputId": "128d172d-bd46-43af-9efe-2973c787b0d2"
      },
      "source": [
        "# isdir() 메소드로 파일이 있는지 확인할 수 있다.\n",
        "os.path.isdir(\"log\")"
      ],
      "execution_count": 27,
      "outputs": [
        {
          "output_type": "execute_result",
          "data": {
            "text/plain": [
              "True"
            ]
          },
          "metadata": {},
          "execution_count": 27
        }
      ]
    },
    {
      "cell_type": "markdown",
      "metadata": {
        "id": "fPx0VOGQjFgd"
      },
      "source": [
        "**shutil 라이브러리**를 이용하면 폴더로 파일을 옮길 수 있다."
      ]
    },
    {
      "cell_type": "code",
      "metadata": {
        "colab": {
          "base_uri": "https://localhost:8080/",
          "height": 53
        },
        "id": "nPGMtxcdfxNG",
        "outputId": "66be7e63-24f2-4653-af76-17a570f0d643"
      },
      "source": [
        "import shutil\n",
        "\n",
        "try:\n",
        "  os.mkdir(\"abc\")\n",
        "except FileExistsError as e:\n",
        "  print(\"Already created\")\n",
        "source = \"i_have_a_dream.txt\"\n",
        "dest = os.path.join(\"abc\", \"i_have_a_dream.txt\")\n",
        "print(dest)\n",
        "# os.path.join()는 상대 경로를 만들어 준다. 이를 사용하지 않으면 아래와 같은 코드를 작성해야 한다.\n",
        "# 'abc'+'/'+'i_have_a_dream.txt'\n",
        "# 하지만 위와 같은 방식은 권장하지 않는다.\n",
        "\n",
        "# shutil.copy: 파일 복사 함수\n",
        "shutil.copy(source, dest)"
      ],
      "execution_count": 31,
      "outputs": [
        {
          "output_type": "stream",
          "name": "stdout",
          "text": [
            "Already created\n"
          ]
        },
        {
          "output_type": "execute_result",
          "data": {
            "application/vnd.google.colaboratory.intrinsic+json": {
              "type": "string"
            },
            "text/plain": [
              "'abc/i_have_a_dream.txt'"
            ]
          },
          "metadata": {},
          "execution_count": 31
        }
      ]
    },
    {
      "cell_type": "markdown",
      "metadata": {
        "id": "eLIR6P9ojC4d"
      },
      "source": [
        "하지만 최근에는 **pathlib 모듈**을 사용해 path를 객체로 다루는 방식을 주로 사용한다. <br>\n",
        "Windows path, Linux path, Mac path는 조금씩 다르다.\n",
        "하지만 path를 객체로 다루게 되면 이를 통일해 줄 수있다."
      ]
    },
    {
      "cell_type": "code",
      "metadata": {
        "id": "iOyu3kGTgTyu"
      },
      "source": [
        "import pathlib"
      ],
      "execution_count": 32,
      "outputs": []
    },
    {
      "cell_type": "code",
      "metadata": {
        "colab": {
          "base_uri": "https://localhost:8080/"
        },
        "id": "nibuNQhalv9E",
        "outputId": "1574c4f5-2b04-4f85-b463-0221ae7a259c"
      },
      "source": [
        "# cdw = current work directory\n",
        "cwd = pathlib.Path.cwd()\n",
        "cwd"
      ],
      "execution_count": 35,
      "outputs": [
        {
          "output_type": "execute_result",
          "data": {
            "text/plain": [
              "PosixPath('/content')"
            ]
          },
          "metadata": {},
          "execution_count": 35
        }
      ]
    },
    {
      "cell_type": "code",
      "metadata": {
        "colab": {
          "base_uri": "https://localhost:8080/"
        },
        "id": "0ykrhM-Zl3eT",
        "outputId": "46e8f6d9-3714-4fd3-c2cf-70e5ad8ba2ef"
      },
      "source": [
        "cwd.parent"
      ],
      "execution_count": 36,
      "outputs": [
        {
          "output_type": "execute_result",
          "data": {
            "text/plain": [
              "PosixPath('/')"
            ]
          },
          "metadata": {},
          "execution_count": 36
        }
      ]
    },
    {
      "cell_type": "code",
      "metadata": {
        "colab": {
          "base_uri": "https://localhost:8080/"
        },
        "id": "5ufRml62mDL7",
        "outputId": "51df1212-b79d-43d7-e411-3eeeabf6461b"
      },
      "source": [
        "list(cwd.glob('*'))"
      ],
      "execution_count": 39,
      "outputs": [
        {
          "output_type": "execute_result",
          "data": {
            "text/plain": [
              "[PosixPath('/content/.config'),\n",
              " PosixPath('/content/abc'),\n",
              " PosixPath('/content/count_log.txt'),\n",
              " PosixPath('/content/i_have_a_dream.txt'),\n",
              " PosixPath('/content/log'),\n",
              " PosixPath('/content/.ipynb_checkpoints'),\n",
              " PosixPath('/content/sample_data')]"
            ]
          },
          "metadata": {},
          "execution_count": 39
        }
      ]
    },
    {
      "cell_type": "markdown",
      "metadata": {
        "id": "VfqrRMUgmdKu"
      },
      "source": [
        "---\n",
        "Log 파일 생성하기\n",
        "* 디렉토리가 있는지, 파일이 있는지 확인한다."
      ]
    },
    {
      "cell_type": "code",
      "metadata": {
        "id": "_zXQ6Gb0mLbM"
      },
      "source": [
        "import os\n",
        "# 폴더가 존재하는지 확인한다.\n",
        "if not os.path.isdir(\"log2\"):\n",
        "  os.mkdir('log2')\n",
        "\n",
        "# 파일이 있는지 확인한다.\n",
        "if not os.path.exists(\"log2/count_log.txt\"):\n",
        "  f = open('log2/count_log.txt', 'w', encoding = 'utf8')\n",
        "  f.write('기록이 시작됩니다\\n')\n",
        "  f.close()\n",
        "\n",
        "with open('log2/count_log.txt', 'a', encoding = 'utf8') as f:\n",
        "  import random, datetime\n",
        "  for i in range(1, 11):\n",
        "    stamp = str(datetime.datetime.now())\n",
        "    value = random.random() * 1000000\n",
        "    log_line = stamp + '\\t' + str(value) + '값이 생성되었습니다.' + '\\n'\n",
        "    f.write(log_line)"
      ],
      "execution_count": 41,
      "outputs": []
    },
    {
      "cell_type": "markdown",
      "metadata": {
        "id": "NeVS8apOoA7z"
      },
      "source": [
        "---\n",
        "<h4> Pickle </h4>\n",
        "\n",
        "객체는 메모리에 저장된다. 하지만 프로그램이 종료되면 메모리에 적재됐던 객체역시 없어진다. 이때 객체를 저장(영속화)해서 이후에도 사용하고 싶다면 **Pickle**을 사용해 데이터를 영속화 시킨다. 저장해야하는 정보, 계산 결과(모델) 등 활용이 많다."
      ]
    },
    {
      "cell_type": "code",
      "metadata": {
        "id": "0Y-HHM8VncT8"
      },
      "source": [
        "import pickle\n",
        "\n",
        "# wb: 바이너리 모드로 작성, w: 텍스트 모드로 작성\n",
        "f = open(\"list.pickle\", 'wb')\n",
        "test = [1, 2, 3, 4, 5]\n",
        "# test를 f에 저장함.\n",
        "pickle.dump(test, f)\n",
        "f.close()"
      ],
      "execution_count": 46,
      "outputs": []
    },
    {
      "cell_type": "code",
      "metadata": {
        "id": "X_ZWNy_lpUSk"
      },
      "source": [
        "# test를 삭제한다.\n",
        "del test"
      ],
      "execution_count": 47,
      "outputs": []
    },
    {
      "cell_type": "code",
      "metadata": {
        "colab": {
          "base_uri": "https://localhost:8080/"
        },
        "id": "JFXAv06_pjja",
        "outputId": "22594ea0-fdcd-4362-819a-c5f20264593a"
      },
      "source": [
        "f = open('list.pickle', 'rb')\n",
        "test_pickle = pickle.load(f)\n",
        "print(test_pickle)\n",
        "f.close()"
      ],
      "execution_count": 48,
      "outputs": [
        {
          "output_type": "stream",
          "name": "stdout",
          "text": [
            "[1, 2, 3, 4, 5]\n"
          ]
        }
      ]
    },
    {
      "cell_type": "code",
      "metadata": {
        "id": "tC2uGkvopkGD"
      },
      "source": [
        "# 클래스의 객체도 영속화가 가능하다.\n",
        "class Multiply(object):\n",
        "  def __init__(self, multiplier):\n",
        "    self.multiplier = multiplier\n",
        "  \n",
        "  def multiply(self, number):\n",
        "    return number * self.multiplier"
      ],
      "execution_count": 49,
      "outputs": []
    },
    {
      "cell_type": "code",
      "metadata": {
        "id": "Fl0XsBcrqVuy"
      },
      "source": [
        "multiply = Multiply(5)\n",
        "multiply.multiply(10)\n",
        "\n",
        "f = open(\"multiply_object.pickle\", 'wb')\n",
        "pickle.dump(multiply, f)\n",
        "f.close()"
      ],
      "execution_count": 50,
      "outputs": []
    },
    {
      "cell_type": "code",
      "metadata": {
        "id": "4x_Lsu8bqtgi"
      },
      "source": [
        "del multiply"
      ],
      "execution_count": 51,
      "outputs": []
    },
    {
      "cell_type": "code",
      "metadata": {
        "colab": {
          "base_uri": "https://localhost:8080/"
        },
        "id": "vqCAEgbEqyNK",
        "outputId": "51d0436c-ddac-4a86-c580-101b0eaaf10c"
      },
      "source": [
        "f = open(\"multiply_object.pickle\", 'rb')\n",
        "multiply_pickle = pickle.load(f)\n",
        "multiply_pickle.multiply(100)"
      ],
      "execution_count": 52,
      "outputs": [
        {
          "output_type": "execute_result",
          "data": {
            "text/plain": [
              "500"
            ]
          },
          "metadata": {},
          "execution_count": 52
        }
      ]
    },
    {
      "cell_type": "markdown",
      "metadata": {
        "id": "T-rqr8AHrJqS"
      },
      "source": [
        "---\n",
        "\n",
        "<h3> Logging Handling </h3>\n",
        "\n",
        "게임을 만들었는데 핵을 쓰는 유저 때문에 망했다고 하자. 이때 핵은 어떻게 잡을 수 있을까? <br>\n",
        "일단 상황을 기록해야한다. 이렇게 상황을 기록하는 것을 **Logging**이라고 한다.\n",
        "\n",
        "**로그 남기기 - Logging**\n",
        "* 프로그램이 실행되는 동안 **일어나는 정보를 남기는 행위**이다.\n",
        "* 유저가 몇시 몇분에 접근했다, 어떤 프로그램의 Exception이 발생했다, 특정 함수가 사용됐다 등의 정보들이 기록된다.\n",
        "* Console 확면에 출력하거나, 파일에 남기거나, DB에 남기는 등 로그를 남길 수 있다.\n",
        "* 기록된 로그를 분석하여 의미있는 결과를 도출할 수 있다.\n",
        "* 실행 시점에서 남겨야 하는 기록, 개발 시점에서 남겨야하는 기록으로 나눌 수 있다.\n",
        "\n",
        "**print vs logging**\n",
        "* 기록을 print로 남기는 것도 가능하다.\n",
        "* 그러나 console 창에만 남기는 기록은 분석시 사용할 수 없다. <br>왜냐하면 console 창이 꺼지면 내용이 모두 사라지기 때문이다.\n",
        "* 때로는 레벨별(개발, 운영)로 기록을 남길 필요도 있다.\n",
        "* 따라서 이러한 기능을 체계적으로 지원하는 모듈이 필요하다.\n",
        "\n",
        "---\n",
        "`\n",
        "<h4> logging 모듈 </h4>\n",
        "\n",
        "logging 모듈로 Python의 기본 Log 관리를 수행할 수 있다. <br>\n",
        "프로그램 진행 상황에 따라 다른 Level의 Log를 출력할 수 있다. 개발 시점, 운영 시점 마다 다른 Log가 남을 수 있도록 지원한다.\n",
        "\n",
        "* Debug > Info > Warning > Error > Critical\n",
        "* debug: 개발시 처리 기록을 남겨야하는 로그 정보를 남긴다.\n",
        "* info: 처리가 진행되는 동안의 정보를 알린다.\n",
        "* warning: 사용자가 잘못 입력한 정보나 처리는 가능하나 원래 개발시 의도치 않는 정보가 들어왔을 때 알린다.\n",
        "* error: 잘못된 처리로 인해 에러가 났으나, 프로그램은 동작할 수 있음을 알린다.\n",
        "* critical: 잘못된 처리로 데이터 손실이나 더 이상 프로그램이 동작할 수 없음을 알린다."
      ]
    },
    {
      "cell_type": "code",
      "metadata": {
        "colab": {
          "base_uri": "https://localhost:8080/"
        },
        "id": "rJum6PfxrDIC",
        "outputId": "f1bce883-601a-449e-f2db-7ac73994f988"
      },
      "source": [
        "import logging\n",
        "\n",
        "logging.debug('틀렸어!')\n",
        "logging.info('확인해!')\n",
        "logging.warning('조심해!')\n",
        "logging.error('에러났어!')\n",
        "logging.critical('망했다!')"
      ],
      "execution_count": 53,
      "outputs": [
        {
          "output_type": "stream",
          "name": "stderr",
          "text": [
            "WARNING:root:조심해!\n",
            "ERROR:root:에러났어!\n",
            "CRITICAL:root:망했다!\n"
          ]
        }
      ]
    },
    {
      "cell_type": "markdown",
      "metadata": {
        "id": "5rlu6qdKzC-A"
      },
      "source": [
        "위 코드에서 결과가 warning부터 출력되었다. 이는 **기본 logging level**이 warning으로 설정되었기 때문이다."
      ]
    },
    {
      "cell_type": "markdown",
      "metadata": {
        "id": "YGtjS8vL0ELY"
      },
      "source": [
        "옛날에는 setLevel()만 사용했으면 됐지만 3.8버전 이상부터 basicConfig()로 바뀌었다. <br>\n",
        "즉, **basicConfig()로 기본 세팅을 하고 setLevel()로 변경할 수 있다.**\n",
        "\n",
        "Log를 화면에 출력하는 것도 좋지만 stream_handler를 등록해 주는 것도 좋다. <br>\n",
        " stream_handler란 출력을 어디로 할 것냐는 것이다."
      ]
    },
    {
      "cell_type": "code",
      "metadata": {
        "colab": {
          "base_uri": "https://localhost:8080/"
        },
        "id": "PwF_yk_Hy4qX",
        "outputId": "0e9ce508-ad9d-4fa9-d406-4983c94db040"
      },
      "source": [
        "logger = logging.getLogger()\n",
        "logging.basicConfig(level = logging.DEBUG)\n",
        "logger.setLevel(logging.INFO)\n",
        "\n",
        "stream_handler = logging.FileHandler(\n",
        "    \"my.log\", mode = 'w', encoding = 'utf-8')\n",
        "logger.addHandler(stream_handler)\n",
        "\n",
        "\n",
        "logging.debug('틀렸어!')\n",
        "logging.info('확인해!')\n",
        "logging.warning('조심해!')\n",
        "logging.error('에러났어!')\n",
        "logging.critical('망했다!')"
      ],
      "execution_count": 58,
      "outputs": [
        {
          "output_type": "stream",
          "name": "stderr",
          "text": [
            "INFO:root:확인해!\n",
            "WARNING:root:조심해!\n",
            "ERROR:root:에러났어!\n",
            "CRITICAL:root:망했다!\n"
          ]
        }
      ]
    },
    {
      "cell_type": "markdown",
      "metadata": {
        "id": "qdgRa9VS1iYP"
      },
      "source": [
        "---\n",
        "\n",
        "위 코드를 보면 세팅해야할 것들이 굉장히 많다. \n",
        "\n",
        "* 로그 파일, level 등 \n",
        "\n",
        "즉 실제 프로그램을 실행할 땐 여러 설정이 꼭 필요하다. 이때 설정하는 방법은 크게 두 가지가 있다. \n",
        "\n",
        "* configparser - 파일에\n",
        "* argparser - 실행지점에"
      ]
    },
    {
      "cell_type": "markdown",
      "metadata": {
        "id": "w_ECqUBa2E3a"
      },
      "source": [
        "<h4> configparser </h4>\n",
        "\n",
        "* 프로그램의 실행 설정을 file에 저장한다.\n",
        "* Sectioin, Key, Value 값의 형태로 설정된 설정 파일을 사용한다.\n",
        "* 설정파일을 Dict Type으로 호출 후 사용한다.\n",
        "\n",
        "**예시**\n",
        "* Section- 대괄호, 속성 - Key: Value\n",
        "* [SectionOne] <br>\n",
        "Status: Single <br>\n",
        "Name: Derek <br>\n",
        "Value: Yes <br>\n",
        "Age: 30 <br>\n",
        "Single: True <br>\n",
        "* [SectionTwo] <br>\n",
        "FavoriteColor = Green <br>\n",
        "* [SectionThree] <br>\n",
        "FamilyName: Johnson <br>"
      ]
    },
    {
      "cell_type": "code",
      "metadata": {
        "colab": {
          "base_uri": "https://localhost:8080/"
        },
        "id": "aUvPwotX0ZzX",
        "outputId": "1b17a41e-bded-49e8-beea-134fad2ac281"
      },
      "source": [
        "import configparser\n",
        "config = configparser.ConfigParser()\n",
        "\n",
        "config.read('example.cfg')\n",
        "print(config.sections())"
      ],
      "execution_count": 64,
      "outputs": [
        {
          "output_type": "stream",
          "name": "stdout",
          "text": [
            "['SectionOne', 'SectionTwo', 'SectionThree']\n"
          ]
        }
      ]
    },
    {
      "cell_type": "code",
      "metadata": {
        "colab": {
          "base_uri": "https://localhost:8080/"
        },
        "id": "fWVNp9z74AtG",
        "outputId": "3ab20740-2111-42da-e5ea-a0e87b3847d4"
      },
      "source": [
        "print(config['SectionThree'])"
      ],
      "execution_count": 65,
      "outputs": [
        {
          "output_type": "stream",
          "name": "stdout",
          "text": [
            "<Section: SectionThree>\n"
          ]
        }
      ]
    },
    {
      "cell_type": "code",
      "metadata": {
        "colab": {
          "base_uri": "https://localhost:8080/",
          "height": 125
        },
        "id": "F5a7j18l3qzV",
        "outputId": "05387124-4ac9-4807-dc23-de8243cf1368"
      },
      "source": [
        "for key in config['SectionOne']:\n",
        "  value = config['SectionOne'][key]\n",
        "  print('{0} : {1}'.format(key, value))\n",
        "\n",
        "config['SectionOne']['status']"
      ],
      "execution_count": 66,
      "outputs": [
        {
          "output_type": "stream",
          "name": "stdout",
          "text": [
            "status : Single\n",
            "name : Derek\n",
            "value : Yes\n",
            "age : 30\n",
            "single : True\n"
          ]
        },
        {
          "output_type": "execute_result",
          "data": {
            "application/vnd.google.colaboratory.intrinsic+json": {
              "type": "string"
            },
            "text/plain": [
              "'Single'"
            ]
          },
          "metadata": {},
          "execution_count": 66
        }
      ]
    },
    {
      "cell_type": "markdown",
      "metadata": {
        "id": "zm6uVcnP4buL"
      },
      "source": [
        "<h4> argparser </h4>\n",
        "\n",
        "* Console 창에서 프로그램 실행시 Setting 정보를 저장한다.\n",
        "* 거의 모든 Console 기반 Python 프로그램이 기본으로 제공한다.\n",
        "* 특수 모듈도 많이 존재하지만(TF), 일반적으로 argparse를 사용한다.\n",
        "* Command-Line Option이라고도 부른다.\n",
        "\n"
      ]
    },
    {
      "cell_type": "code",
      "metadata": {
        "colab": {
          "base_uri": "https://localhost:8080/"
        },
        "id": "Wm3huO7E3_-U",
        "outputId": "6c9f4e35-03d6-428f-ccb6-2381f724cb01"
      },
      "source": [
        "import argparse\n",
        "\n",
        "parser = argparse.ArgumentParser(description = 'Sum two integers.')\n",
        "\n",
        "# parser.add_argument(짧은 이름, 긴 이름, 표시명, Help 설명, Argument Type)\n",
        "parser.add_argument('-a', '--a_value', dest = 'A_value', help = 'A integers', type = int)\n",
        "parser.add_argument('-b', '--b_value', dest = 'B_value', help = 'B integers', type = int)"
      ],
      "execution_count": 67,
      "outputs": [
        {
          "output_type": "execute_result",
          "data": {
            "text/plain": [
              "_StoreAction(option_strings=['-b', '--b_value'], dest='B_value', nargs=None, const=None, default=None, type=<class 'int'>, choices=None, help='B integers', metavar=None)"
            ]
          },
          "metadata": {},
          "execution_count": 67
        }
      ]
    },
    {
      "cell_type": "code",
      "metadata": {
        "id": "QH_38dkk6Bb8"
      },
      "source": [
        "args = parser.parse_args()\n",
        "print(args)\n",
        "print(args.a)\n",
        "print(args.b)\n",
        "# print(args.a + args.b)"
      ],
      "execution_count": null,
      "outputs": []
    }
  ]
}