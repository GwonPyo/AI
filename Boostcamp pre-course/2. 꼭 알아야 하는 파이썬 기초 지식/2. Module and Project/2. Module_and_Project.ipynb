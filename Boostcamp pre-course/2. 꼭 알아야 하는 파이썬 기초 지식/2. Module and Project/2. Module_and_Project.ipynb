{
  "nbformat": 4,
  "nbformat_minor": 0,
  "metadata": {
    "colab": {
      "name": "2. Module and Project.ipynb",
      "provenance": [],
      "collapsed_sections": []
    },
    "kernelspec": {
      "name": "python3",
      "display_name": "Python 3"
    },
    "language_info": {
      "name": "python"
    }
  },
  "cells": [
    {
      "cell_type": "markdown",
      "metadata": {
        "id": "C9ommT_jb9fP"
      },
      "source": [
        "<h4>Module, Package overview</h4>\n",
        "\n",
        "모듈이란 **프로그램에서 사용하는 작은 프로그램 조각**들이다. **이 모듈들을 모아서 하나의 큰 프로그램을 개발할 수 있다.** 그래서 프로그램을 모듈화시키면 다른 프로그램에 사용하기 쉽다. 파이썬에서는 **Built-in Module**이라고 해서 파이썬 내부에서 만들어 놓은 많은 모듈이 있다. 아래처럼 Built-in Module을 사용하면 난수를 쉽게 생성할 수 있다."
      ]
    },
    {
      "cell_type": "code",
      "metadata": {
        "id": "LoTp7ELWBxos",
        "colab": {
          "base_uri": "https://localhost:8080/"
        },
        "outputId": "5d32b805-9d41-42bf-9f9c-2beebb8c59dd"
      },
      "source": [
        "import random\n",
        "arr = [random.randint(1, 1000) for _ in range(10)]\n",
        "print(arr)"
      ],
      "execution_count": null,
      "outputs": [
        {
          "output_type": "stream",
          "name": "stdout",
          "text": [
            "[610, 756, 594, 320, 62, 318, 405, 138, 126, 257]\n"
          ]
        }
      ]
    },
    {
      "cell_type": "markdown",
      "metadata": {
        "id": "fh1OBwZydYa8"
      },
      "source": [
        "모듈을 모아서 패키지를 만들고 이 패키지를 공개하는 것이 하나의 프로젝트이다. \n"
      ]
    },
    {
      "cell_type": "markdown",
      "metadata": {
        "id": "-xdEahkud7rj"
      },
      "source": [
        "---\n",
        "<h3> Module </h3>\n",
        "<h4> Module 만들기 </h4>\n",
        "\n",
        "사실 모듈이란 **파이썬의 py파일**을 의미한다. <br>\n",
        "같은 폴더에 Module에 해당하는 .py파일은 import문을 이용해 호출할 수 있다.\n",
        "\n",
        "* fah_converter.py, module_ex.py 참고\n",
        "---\n",
        "<h4> namespace </h4>\n",
        "\n",
        "모듈을 호출할 때 범위를 정할 수 있다. 모듈 안에는 함수와 클래스 등이 존재할 수 있는데, 이때 필요한 내용만 골라서 호출할 수 있다. from과 import 키워드를 사용하면 된다.\n",
        "\n",
        "**namespace example**\n",
        "* Alias(가명) 설정하기 - 모듈명을 별칭으로 써서 사용 <br>\n",
        "import fah_converter as fah <br>\n",
        "print(fah_covert_c_to_f(41.6))\n",
        "\n",
        "* 모듈에서 특정 함수 또는 클래스만 호출하기<br>\n",
        "from fah_converter import covert_c_to_f <br>\n",
        "print(convert_c_to_f(41.6))\n",
        "\n",
        "* 모듈에서 모든 함수 또는 클래스 호출하기 <br>\n",
        "from fah_converter import * <br>\n",
        "print(convert_c_to_f(41.6))\n",
        "\n",
        "기본적으로 첫 번째 방법을 써서 **함수 혹은 클래스를 어디서 가져왔는지를 밝혀주는 것이 좋다**.\n",
        "\n",
        "---"
      ]
    },
    {
      "cell_type": "markdown",
      "metadata": {
        "id": "FBQdg4aP8_XZ"
      },
      "source": [
        "<h4> Built-in Modules </h4>\n",
        "\n",
        "**Built-in Modules**는 파이썬이 기본 제공하는 라이브러리로 문자처리, 웹, 수학 등 다양한 모듈을 제공한다. import 문으로 활용 가능하다."
      ]
    },
    {
      "cell_type": "code",
      "metadata": {
        "colab": {
          "base_uri": "https://localhost:8080/"
        },
        "id": "GYfFWMny9THx",
        "outputId": "d78fdb93-3f72-4ebf-acd7-4443f8d6bdda"
      },
      "source": [
        "# 난수\n",
        "import random\n",
        "print(random.randint(0, 100)) # 0~100사이(0, 100 포함)의 정수 난수 생성\n",
        "print(random.random()) # 0.0 ~ 1.0 사이의 실수 난수 생성"
      ],
      "execution_count": null,
      "outputs": [
        {
          "output_type": "stream",
          "name": "stdout",
          "text": [
            "10\n",
            "0.38875104916620484\n"
          ]
        }
      ]
    },
    {
      "cell_type": "code",
      "metadata": {
        "colab": {
          "base_uri": "https://localhost:8080/"
        },
        "id": "lMp4z6009cQp",
        "outputId": "7dcd206d-fec1-443f-e57a-c2e6622ab7c3"
      },
      "source": [
        "# 시간\n",
        "import time\n",
        "print(time.localtime())"
      ],
      "execution_count": null,
      "outputs": [
        {
          "output_type": "stream",
          "name": "stdout",
          "text": [
            "time.struct_time(tm_year=2021, tm_mon=11, tm_mday=2, tm_hour=14, tm_min=5, tm_sec=28, tm_wday=1, tm_yday=306, tm_isdst=0)\n"
          ]
        }
      ]
    },
    {
      "cell_type": "markdown",
      "metadata": {
        "id": "hylUgJ5d9y4I"
      },
      "source": [
        "파이썬 모듈을 검색하려면 아래 방법을 사용하면 된다.\n",
        "\n",
        "* 구글에 검색한다.\n",
        "* 모듈을 import후 구글에 검색하거나 Help를 사용한다.\n",
        "* 공식 문서를 읽어본다.\n",
        "\n",
        "실습: 1부터 100까지 특정 난수 뽑기"
      ]
    },
    {
      "cell_type": "markdown",
      "metadata": {
        "id": "8wW9jIyT-zRX"
      },
      "source": [
        "---\n",
        "\n",
        "<h3> Package </h3>\n",
        "\n",
        "패키지란 하나의 대형 프로젝트를 만드는 코드의 묶음이다. 다양한 모듈들을 합친 것이고 하나의 폴더로 연결된다. __inin__, __main__ 등 키워드 파일명이 사용된다. 다양한 오픈 소스들이 모두 패키지로 관리된다.\n",
        "\n",
        "<h4> Package 만들기 </h4>\n",
        "\n",
        "* 기능들을 세부적으로 나눠 폴더로 만든다. <br>\n",
        "Ex) game 파일 안에 image, sound, stage 파일 생성\n",
        "* 각 폴더별로 필요한 모듈을 구현한다.\n",
        "* 폴더별로 __init__.py를 구성한다. <br>\n",
        "현재 폴더가 패키지임을 알리는 초기화 스크립트이다. 이전에는 __init__.py가 없으면 패키지로 간주하지 않았지만 3.3 이상 버전부터는 없어도 패키지로 간주한다. 하지만 보통은 생성한다.\n",
        "* __main__.py파일을 만든다. \n",
        "* game 파일 참고\n",
        "---"
      ]
    },
    {
      "cell_type": "markdown",
      "metadata": {
        "id": "5C2h7141GyyB"
      },
      "source": [
        "<h4> package namespace </h4>\n",
        "\n",
        "Package 내에서 다른 폴더의 모듈을 부를 때는 보통 **상대 참조를 호출**한다.\n",
        "\n",
        "* 절대 참조: from game.graphic.render import render_test\n",
        "* .: 현재 디렉토리 기준<br>\n",
        "from .render import render_test\n",
        "* ..: 부모 디렉토리 기준<br>\n",
        "from ..sound.echo import echo_test"
      ]
    },
    {
      "cell_type": "markdown",
      "metadata": {
        "id": "GS8GEq2JLmsD"
      },
      "source": [
        "<h3> 오픈소스 라이브러리 사용하기 </h3>\n",
        "\n",
        "프로젝트를 개발한다고 가정하자. 그러면 프로젝트에 필요한 패키지를 설치해야 할 것이다. 이때 웹과 데이터 분석 패키지를 설치를 하면 충돌이 발생할 수도 있다. 이를 방지하기 위해서 **가상환경(Virtual Environment)**를 설정한다. \n",
        "\n",
        "<h4> 가상환경 </h4>\n",
        "\n",
        "내 컴퓨터에 원래 파이썬 환경이 있지만 이 환경에서 조금 다른 환경을 설치하는 것을 가상환경이라고 부른다. 프로젝트 진행 시 필요한 패키지만 설치하는 환경이다. 기본 인터프리터와  프로젝트 종류별 패키지를 설치한다. <br>\n",
        "Ex) 웹 프로젝트, 데이터 분석 프로젝트 각각 패키지를 관리할 수 있다. \n",
        "\n",
        "대표적인 도구에는 virtualenv와 conda가 있다.\n",
        "\n",
        "* virtualenv + pip: 가장 **대표적인 가상환경 관리 도구**이다. **래퍼런스와 패키지 개수**면에서 유용하다.\n",
        "* conda: **상용 가상환경도구**이며 miniconda 기본도구이다. 설치가 용이하며 **Windows에서 유용**하게 쓸 수 있다.\n",
        "* Windows에서는 conda, linux, mac에서는 conda 또는 pip을 사용한다. (교수님은 mac에서도 conda 사용)"
      ]
    },
    {
      "cell_type": "markdown",
      "metadata": {
        "id": "reB2KAJEO4yK"
      },
      "source": [
        "<h3> conda 가상환경 </h3>\n",
        "\n",
        "* 가상환경 만들기: **conda create -n my_project python=3.8 **<br>\n",
        "(가상환경 생성 명령어) (가상환경 이름) (파이썬 버전)  \n",
        "* 가상환경 호출: **conda activate my_project**\n",
        "* 가상환경 해제: **conda deactivate**\n",
        "* 패키지 설치: conda install <패키지명> <br>\n",
        "Ex) conda install matplotlib\n",
        "\n",
        "matplotlib은 대표적인 파이썬 그래프 관리 패키지이며 엑셀과 같은 그래프들을 화면에 표시한다. 다양한 데이터 분석 도구들과 함께 사용된다.\n",
        "\n",
        "* 쥬피터 노트북 생성: conda install jupyter"
      ]
    },
    {
      "cell_type": "code",
      "metadata": {
        "colab": {
          "base_uri": "https://localhost:8080/",
          "height": 265
        },
        "id": "JTYgaceuQuA5",
        "outputId": "1680f988-ba33-473f-f847-9680ef2b8c3d"
      },
      "source": [
        "import matplotlib.pyplot as plt\n",
        "plt.plot([1, 2, 3, 4])\n",
        "plt.ylabel('some numbers')\n",
        "plt.show()"
      ],
      "execution_count": null,
      "outputs": [
        {
          "output_type": "display_data",
          "data": {
            "image/png": "[encoded data removed]",
            "text/plain": [
              "<Figure size 432x288 with 1 Axes>"
            ]
          },
          "metadata": {
            "needs_background": "light"
          }
        }
      ]
    },
    {
      "cell_type": "code",
      "metadata": {
        "colab": {
          "base_uri": "https://localhost:8080/"
        },
        "id": "ZsbV-YyfRZzB",
        "outputId": "b27fdb8d-1325-4946-ce72-9758b0ce9fbc"
      },
      "source": [
        "# tqdm: 프로그램 진행 상황을 볼 수 있음.\n",
        "from tqdm import tqdm\n",
        "import time\n",
        "\n",
        "for i in tqdm(range(100000)):\n",
        "  if i % 1000 == 0:\n",
        "    time.sleep(1)"
      ],
      "execution_count": null,
      "outputs": [
        {
          "output_type": "stream",
          "name": "stderr",
          "text": [
            "100%|██████████| 100000/100000 [01:40<00:00, 996.93it/s]\n"
          ]
        }
      ]
    }
  ]
}