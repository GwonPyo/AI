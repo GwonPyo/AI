{
  "nbformat": 4,
  "nbformat_minor": 0,
  "metadata": {
    "colab": {
      "name": "5-2. 교차검증과 그리드 서치.ipynb",
      "provenance": [],
      "collapsed_sections": []
    },
    "kernelspec": {
      "name": "python3",
      "display_name": "Python 3"
    },
    "language_info": {
      "name": "python"
    }
  },
  "cells": [
    {
      "cell_type": "markdown",
      "metadata": {
        "id": "2mESCo48cBXx"
      },
      "source": [
        "이전에 만든 결정 트리는 매개변수[ex) max_depth, min_impurity_decrease 등] 에 따라 성능이 바뀐다. 이때 배개변수를 바꾸어 가면서 테스트 세트로 지속적으로 평가하면 어떻게 될까? 결국 **모델을 테스트 세트에 점점 맞춰가게 되버린다**. \n",
        "\n",
        "지금까지 우리는 문제를 평가할 때 테스트 세트를 사용했다. 하지만 테스트 세트로 일반화 성능을 올바르게 예측하려면 가능한 테스트 세트를 사용하지 말아야한다. 즉, **모델을 만들고 딱 한 번만 사용하는 것이 좋다**."
      ]
    },
    {
      "cell_type": "markdown",
      "metadata": {
        "id": "qcjkj2skc4Hf"
      },
      "source": [
        "테스트 세트를 사용하지 않으면 모델이 과대적합인지 과소적합인지 판단하기 어렵다. 테스트 세트를 사용하지 않고 이를 측정하는 간단한 방법은 훈련 세트를 또 한 번 나누면 된다. 이 데이터를 **'검증 세트(validation set)'**라고 부른다.\n",
        "\n",
        "* 보통 20 ~ 30%를 테스트 세트와 검증 세트로 떼어 놓는다. 훈련 데이터가 많다면 조금만 떼어 놓아도 문제가 없다.\n",
        "\n",
        "훈련 세트에서 모델을 훈련하고 **검증 세트로 모델을 평가**한다. 이후 테스트하고 싶은 매개변수를 바꿔가며 가장 좋은 모델을 고른다. 그 다음 이 매개변수를 사용해 **훈련 세트와 검증 세트를 합쳐 전체 훈련 데이터에서 모델을 다시 훈련**한다. 그리고 마지막에 테스트 세트에서 최종 점수를 평가하면 실전에 투입했을 때 테스트 세트의 점수와 비슷한 성능을 기대할 수 있다.\n",
        "\n",
        "이전 절에서 사용한 데이터를 다시 불러와보자."
      ]
    },
    {
      "cell_type": "code",
      "metadata": {
        "id": "TcDYFuQ2w8wq"
      },
      "source": [
        "import pandas as pd\n",
        "wine = pd.read_csv(\"https://bit.ly/wine_csv_data\")"
      ],
      "execution_count": null,
      "outputs": []
    },
    {
      "cell_type": "markdown",
      "metadata": {
        "id": "hoBvp67Jd68g"
      },
      "source": [
        "class 열을 타깃으로 하고 나머지 열은 특성 배열에 저장한다."
      ]
    },
    {
      "cell_type": "code",
      "metadata": {
        "id": "4aSKRr18xFb4"
      },
      "source": [
        "data = wine[['alcohol', 'sugar', 'pH']].to_numpy()\n",
        "target = wine['class'].to_numpy()"
      ],
      "execution_count": null,
      "outputs": []
    },
    {
      "cell_type": "markdown",
      "metadata": {
        "id": "a3B37S9Xd_Mx"
      },
      "source": [
        "데이터를 훈련 세트와 테스트 세트로 나눈다."
      ]
    },
    {
      "cell_type": "code",
      "metadata": {
        "id": "zvcyLONRxTFY"
      },
      "source": [
        "from sklearn.model_selection import train_test_split\n",
        "train_input, test_input, train_target, test_target = train_test_split(data, target, test_size = 0.2, random_state = 42)"
      ],
      "execution_count": null,
      "outputs": []
    },
    {
      "cell_type": "markdown",
      "metadata": {
        "id": "HU1Jv3azeFZB"
      },
      "source": [
        "훈련 세트인 train_input과 train_target을 훈련 세트와 검증 세트로 나눈다. 이때 test_size 매개변수를 0.2로 지정하여 train_input의 약 20%를 val_input으로 만든다."
      ]
    },
    {
      "cell_type": "code",
      "metadata": {
        "id": "PCyLFLzWxzkX"
      },
      "source": [
        " sub_input, val_input, sub_target, val_target = train_test_split(train_input, train_target, test_size = 0.2, random_state = 42)"
      ],
      "execution_count": null,
      "outputs": []
    },
    {
      "cell_type": "markdown",
      "metadata": {
        "id": "zPy76PaueY7D"
      },
      "source": [
        "훈련 세트와 검증 세트의 크기를 확인해보자."
      ]
    },
    {
      "cell_type": "code",
      "metadata": {
        "colab": {
          "base_uri": "https://localhost:8080/"
        },
        "id": "VRdbYpJXyGIH",
        "outputId": "2248960c-d322-4182-e6fd-50bf5697ada6"
      },
      "source": [
        "print(sub_input.shape, val_input.shape)"
      ],
      "execution_count": null,
      "outputs": [
        {
          "output_type": "stream",
          "name": "stdout",
          "text": [
            "(4157, 3) (1040, 3)\n"
          ]
        }
      ]
    },
    {
      "cell_type": "markdown",
      "metadata": {
        "id": "NVCiXKtAecLG"
      },
      "source": [
        "결정 트리 모델을 만들고 평가해보자."
      ]
    },
    {
      "cell_type": "code",
      "metadata": {
        "colab": {
          "base_uri": "https://localhost:8080/"
        },
        "id": "_BjqoMScyKnI",
        "outputId": "3c28a351-ecde-40d2-a743-9b16f7dfa12c"
      },
      "source": [
        "from sklearn.tree import DecisionTreeClassifier\n",
        "dt = DecisionTreeClassifier(random_state = 42)\n",
        "dt.fit(sub_input, sub_target)\n",
        "print(dt.score(sub_input, sub_target))\n",
        "print(dt.score(val_input, val_target))"
      ],
      "execution_count": null,
      "outputs": [
        {
          "output_type": "stream",
          "name": "stdout",
          "text": [
            "0.9971133028626413\n",
            "0.864423076923077\n"
          ]
        }
      ]
    },
    {
      "cell_type": "markdown",
      "metadata": {
        "id": "2vpgcBZPegiM"
      },
      "source": [
        "훈련 세트에 과대 적합된 것으로 보인다. 따라서 매개변수를 바꿔서 더 좋은 모델을 찾아야 한다."
      ]
    },
    {
      "cell_type": "markdown",
      "metadata": {
        "id": "e1oeIsZVemdU"
      },
      "source": [
        "문제를 해결하기 앞서 생각해볼 문제가 있다.\n",
        "\n",
        "검증 세트를 만드느라 훈련 세트가 줄었다. 보통 많은 데이터를 훈련에 사용할수록 좋은 모델이 만들어진다. 하지만 검증 세트를 너무 조금 떼어 놓으면 검증 점수가 불안정할 것이다. 이때 **'교차 검증(cross validation)'**을 이용하면 안정적인 검증 점수를 얻고 훈련에 많은 데이터를 사용할 수 있다.\n",
        "\n",
        "교차 검증은 **검증 세트를 떼어 내어 평가하는 과정을 여러 번 반복**한다. 그다음 이 **점수를 평균하여 최종 검증 점수를 얻는다.**\n",
        "\n",
        "훈련 세트를 몇 부분으로 나누냐에 따라 **k-폴드 교차 검증(k-fold cross validation)**이라고 하며 보통 5-폴드 교차 검증이나 10-폴드 교차 검증을 많이 이용한다. 이렇게 하면 데이터의 80~90%까지 훈련에 사용할 수 있다. 검증 세트가 줄어들지만 각 폴드에서 계산한 검증 점수를 평균하므로 안정된 점수로 취급할 수 있다.\n",
        "\n",
        "사이킷런에는 **cross_validate()**라는 교차 검증 함수가 있다. 평가할 모델 객체를 첫 번째 매개변수로 전달하고 훈련 세트 전체를 함수에 전달하면 된다."
      ]
    },
    {
      "cell_type": "code",
      "metadata": {
        "colab": {
          "base_uri": "https://localhost:8080/"
        },
        "id": "3XOwPagQybeX",
        "outputId": "981d54cd-b8a7-4922-e376-a7ee5edbe164"
      },
      "source": [
        "from sklearn.model_selection import cross_validate\n",
        "scores = cross_validate(dt, train_input, train_target)\n",
        "print(scores)"
      ],
      "execution_count": null,
      "outputs": [
        {
          "output_type": "stream",
          "name": "stdout",
          "text": [
            "{'fit_time': array([0.00793862, 0.00693655, 0.00719666, 0.00711942, 0.00706482]), 'score_time': array([0.00067377, 0.00058055, 0.00055838, 0.00056124, 0.00057817]), 'test_score': array([0.86923077, 0.84615385, 0.87680462, 0.84889317, 0.83541867])}\n"
          ]
        }
      ]
    },
    {
      "cell_type": "markdown",
      "metadata": {
        "id": "_gx9773af52Q"
      },
      "source": [
        "이 함수는 fit_time, score_time, test_score 키를 가진 딕셔너리를 반환한다. 처음 2개의 키는 모델 훈련 시간과 검증 시간을 의미한다. 각 키마다 5개의 숫자가 담겨있는데 이는 cross_validate() 함수가 기본적으로 5-폴드 교차 검증을 수행하기 때문이다. **cv 매개변수**에서 폴드 수를 바꿀 수 있다.\n",
        "\n",
        "* fit_time, score_time은 코랩에서 리소스를 사용하는 상황에 따라 달라질 수 있으므로 컴퓨터마다 결과가 다를 수 있다.\n",
        "\n",
        "교차 검증의 최종 점수는 test_score 키에 담긴 점수들을 평균하여 얻을 수 있다."
      ]
    },
    {
      "cell_type": "code",
      "metadata": {
        "colab": {
          "base_uri": "https://localhost:8080/"
        },
        "id": "XPffIQDQAeXc",
        "outputId": "484199d2-8668-4365-914d-9174bb038b71"
      },
      "source": [
        "import numpy as np\n",
        "print(np.mean(scores['test_score']))"
      ],
      "execution_count": null,
      "outputs": [
        {
          "output_type": "stream",
          "name": "stdout",
          "text": [
            "0.855300214703487\n"
          ]
        }
      ]
    },
    {
      "cell_type": "markdown",
      "metadata": {
        "id": "mgFui2yr4zUX"
      },
      "source": [
        "교차 검증을 수행하면 입력한 모델에서 얻을 수 있는 최상의 검증 점수를 가늠해 볼 수 있다.\n",
        "\n",
        "cross_validate() 는 **훈련 세트를 섞어 폴드를 나누지 않는다.** 우리는 앞에서 train_test_split() 함수로 데이터를 섞은 후 훈련 세트를 준비했기 때문에 따로 섞을 필요가 없다. 하지만 교차 검증을 할 때 훈련 세트를 섞게 될 상황이 온다면 **'분할기(splitter)'**를 지정해야한다.\n",
        "\n",
        "사이킷런의 분할기는 교차 검증에서 폴드를 어떻게 나눌지 결정한다. cross_validate() 함수는 기본적으로 회귀 모델일 때는 **KFold 분할기**, 분류 모델일 때는 **StratifiedKFold**를 사용한다.\n",
        "\n",
        "이전에 실시한 교차 검증 코드는 다음 코드와 동일하다."
      ]
    },
    {
      "cell_type": "code",
      "metadata": {
        "colab": {
          "base_uri": "https://localhost:8080/"
        },
        "id": "B0BYtqq3Ev2s",
        "outputId": "aa013537-9796-4e90-b776-53e1894c4b7c"
      },
      "source": [
        "from sklearn.model_selection import StratifiedKFold\n",
        "scores = cross_validate(dt, train_input, train_target, cv = StratifiedKFold())\n",
        "print(np.mean(scores['test_score']))"
      ],
      "execution_count": null,
      "outputs": [
        {
          "output_type": "stream",
          "name": "stdout",
          "text": [
            "0.855300214703487\n"
          ]
        }
      ]
    },
    {
      "cell_type": "markdown",
      "metadata": {
        "id": "lJ4i5fBt5qxl"
      },
      "source": [
        "만약 훈련 세트를 섞은 후 10-폴드 교차 검증을 수행하려면 다음과 같이 작성하면 된다."
      ]
    },
    {
      "cell_type": "code",
      "metadata": {
        "colab": {
          "base_uri": "https://localhost:8080/"
        },
        "id": "t4m1cSMVGsqj",
        "outputId": "d6de03bb-a402-4841-9b90-4a38d9a743f4"
      },
      "source": [
        "splitter = StratifiedKFold(n_splits = 10, shuffle = True, random_state = 42)\n",
        "scores = cross_validate(dt, train_input, train_target, cv = splitter)\n",
        "print(np.mean(scores['test_score']))"
      ],
      "execution_count": null,
      "outputs": [
        {
          "output_type": "stream",
          "name": "stdout",
          "text": [
            "0.8574181117533719\n"
          ]
        }
      ]
    },
    {
      "cell_type": "markdown",
      "metadata": {
        "id": "73iJC1q15yCE"
      },
      "source": [
        "이제 매개변수 값을 바꿔가며 가장 좋은 성능이 나오는 모델을 찾아보자."
      ]
    },
    {
      "cell_type": "markdown",
      "metadata": {
        "id": "eQCFEWGG57Km"
      },
      "source": [
        "머신러닝 모델이 학습하는 파라미터를 '모델 파라미터'라고 한다. 반면 모델이 학습할 수 없어서 사용자가 지정해야 하는 파라미터를 '하이퍼 파라미터'라고 한다. \n",
        "\n",
        "우리는 이런 **하이퍼 파라미터를 튜닝해야 한다**. 우리는 다음과 같은 방식으로 파라미터를 튜닝할 수 있다.\n",
        "\n",
        "* 라이브러리가 제공하는 기본값을 그대로 사용해 모델을 훈련한다.\n",
        "* 검증 세트의 점수나 교차 검증을 통해 매개변수를 바꿔본다.\n",
        "\n",
        "여기서 중요한 점은 **모든 매개변수를 동시에 바꿔가며 최적의 값을 찾아야 한다**는 점이다. 결정 트리를 예로 들어보자. 결정 트리 모델에서 최적의 max_depth 값을 찾았다고 가정하자. 그 다음 이 값을 고정하고 min_samples_split을 바꿔 가며 최적의 값을 찾는다. 이렇게 한 매개변수의 최적값을 찾고 다른 매개변수의 최적값을 찾으면 틀린 결과가 나온다. 즉, max_depth의 최적값은 min_samples_split 매개변수의 값이 바뀌면 함께 달라진다."
      ]
    },
    {
      "cell_type": "markdown",
      "metadata": {
        "id": "01bL84Ba56EG"
      },
      "source": [
        "위와 같은 과정은 매개변수가 많아지면 복잡해진다. 우리가 직접 for문을 이용해 구현할 수 있지만 사이킷런에서는 **'그리드 서치(grid search)'**라는 도구를 제공한다.\n",
        "\n",
        "* 사람의 개입 없이 하이퍼파라미터 튜닝을 자동으로 수행하는 기술을 **'AutoML'**이라고 부른다.\n",
        "\n",
        "사이킷런의 **GridSearchCV 클래스**는 하이퍼파라미터 탐색과 교차 검증을 한 번에 수행한다. 먼저 결정 트리 모델에서 min_impurity_decrease 매개변수의 최적값을 찾아보자.\n",
        "\n",
        "GridSearchCV 클래스를 임포트하고 탐색할 매개변수와 탐색할 값의 리스트를 딕셔너리로 만들자."
      ]
    },
    {
      "cell_type": "code",
      "metadata": {
        "id": "3mvEas60HC3s"
      },
      "source": [
        "from sklearn.model_selection import GridSearchCV\n",
        "params = {\"min_impurity_decrease\": [0.0001, 0.0002, 0.0003, 0.0004, 0.0005]}"
      ],
      "execution_count": null,
      "outputs": []
    },
    {
      "cell_type": "markdown",
      "metadata": {
        "id": "Ov5AKp1A7sGW"
      },
      "source": [
        "GridSearchCV 클래스에 탐색 대상 모델과 params 변수를 전달하여 그리드 서치 객체를 만든다."
      ]
    },
    {
      "cell_type": "code",
      "metadata": {
        "id": "tXyfBrhmclOX"
      },
      "source": [
        "gs = GridSearchCV(DecisionTreeClassifier(random_state = 42), params, n_jobs = -1)"
      ],
      "execution_count": null,
      "outputs": []
    },
    {
      "cell_type": "markdown",
      "metadata": {
        "id": "GBvLo6FF7yYe"
      },
      "source": [
        "그다음 일반 모델을 훈련하는 것처럼 fit() 메서드를 호출한다. 이 메서드를 호출하면 결정 트리 모델 min_impurity_decrease 값을 바꿔가며 총 5번 실행한다.\n",
        "\n",
        "GridSearchCV의 **cv 매개변수의 기본 값은 5**이다. 따라서 min_impurity_decrease 값마다 5-폴드 교차 검증을 수행한다. 즉, 25개의 모델을 훈련한다. 많은 모델을 훈련하기 때문에 GridSearchCV 클래스의 **n_jobs 매개변수**에서 병렬 실행에 사용할 CPU 코어 수를 지정하는 것이 좋다. 이 매개변수의 기본값은 1이고, **-1로 지정하면 시스템에 있는 모든 코어를 사용**할 수 있다."
      ]
    },
    {
      "cell_type": "code",
      "metadata": {
        "colab": {
          "base_uri": "https://localhost:8080/"
        },
        "id": "q2zlY2njcISI",
        "outputId": "c0d7a31a-35cc-4e6c-ca46-1e67018fd1ad"
      },
      "source": [
        "gs.fit(train_input, train_target)"
      ],
      "execution_count": null,
      "outputs": [
        {
          "output_type": "execute_result",
          "data": {
            "text/plain": [
              "GridSearchCV(cv=None, error_score=nan,\n",
              "             estimator=DecisionTreeClassifier(ccp_alpha=0.0, class_weight=None,\n",
              "                                              criterion='gini', max_depth=None,\n",
              "                                              max_features=None,\n",
              "                                              max_leaf_nodes=None,\n",
              "                                              min_impurity_decrease=0.0,\n",
              "                                              min_impurity_split=None,\n",
              "                                              min_samples_leaf=1,\n",
              "                                              min_samples_split=2,\n",
              "                                              min_weight_fraction_leaf=0.0,\n",
              "                                              presort='deprecated',\n",
              "                                              random_state=42,\n",
              "                                              splitter='best'),\n",
              "             iid='deprecated', n_jobs=-1,\n",
              "             param_grid={'min_impurity_decrease': [0.0001, 0.0002, 0.0003,\n",
              "                                                   0.0004, 0.0005]},\n",
              "             pre_dispatch='2*n_jobs', refit=True, return_train_score=False,\n",
              "             scoring=None, verbose=0)"
            ]
          },
          "metadata": {},
          "execution_count": 14
        }
      ]
    },
    {
      "cell_type": "markdown",
      "metadata": {
        "id": "sglqDpCh8f7Z"
      },
      "source": [
        "교차 검증이 끝나고 최적의 파라미터를 찾으면 전체 훈련 세트로 모델을 다시 만들어야 한다. 사이킷런의 그리드 서치는 훈련이 끝나면 **25개의 모델 중에서 검증 점수가 가장 높은 모델의 매개변수 조합으로 전체 훈련 세트에서 자동으로 다시 모델을 훈련**한다. 이 모델은 gs 객체의 **best_estimator_ 속성**에 저장되어 있다. 이 모델을 일반 결정 트리처럼 똑같이 사용가능한다."
      ]
    },
    {
      "cell_type": "code",
      "metadata": {
        "colab": {
          "base_uri": "https://localhost:8080/"
        },
        "id": "nquYznCIcnhI",
        "outputId": "2367ddc5-cb6f-44f2-8ebc-51c6d6eb7147"
      },
      "source": [
        "dt = gs.best_estimator_\n",
        "print(dt.score(train_input, train_target))"
      ],
      "execution_count": null,
      "outputs": [
        {
          "output_type": "stream",
          "name": "stdout",
          "text": [
            "0.9615162593804117\n"
          ]
        }
      ]
    },
    {
      "cell_type": "markdown",
      "metadata": {
        "id": "o4RU0WRV886O"
      },
      "source": [
        "최적의 매개변수는 **best_params_ 속성**에 저장되어있다."
      ]
    },
    {
      "cell_type": "code",
      "metadata": {
        "colab": {
          "base_uri": "https://localhost:8080/"
        },
        "id": "HWjw9tFgcwOI",
        "outputId": "a25d28b3-fb43-4291-d937-50800d238928"
      },
      "source": [
        "print(gs.best_params_)"
      ],
      "execution_count": null,
      "outputs": [
        {
          "output_type": "stream",
          "name": "stdout",
          "text": [
            "{'min_impurity_decrease': 0.0001}\n"
          ]
        }
      ]
    },
    {
      "cell_type": "markdown",
      "metadata": {
        "id": "ls7MSl8E9BUu"
      },
      "source": [
        "각 매개변수에서 수행한 교차 검증의 평균 점수는 **cv_results_ 속성**의 **'mean_test_score' 키**에 저장되어 있다."
      ]
    },
    {
      "cell_type": "code",
      "metadata": {
        "colab": {
          "base_uri": "https://localhost:8080/"
        },
        "id": "KkFAlbnqc2DQ",
        "outputId": "7fa7f4d3-ed46-41b5-b414-fce7b2b56c48"
      },
      "source": [
        "print(gs.cv_results_['mean_test_score'])"
      ],
      "execution_count": null,
      "outputs": [
        {
          "output_type": "stream",
          "name": "stdout",
          "text": [
            "[0.86819297 0.86453617 0.86492226 0.86780891 0.86761605]\n"
          ]
        }
      ]
    },
    {
      "cell_type": "markdown",
      "metadata": {
        "id": "ejbNsVnj9Li_"
      },
      "source": [
        "가장 큰 값을 찾기 위해서는 수동으로 고르는 것 보다 **넘파이 argmax() 함수**를 사용하면 가장 큰 값의 인텍스를 추출할 수 있다. 그다음 이 인덱스를 사용해 **params 키에 저장된 매개변수를 출력**할 수 있다."
      ]
    },
    {
      "cell_type": "code",
      "metadata": {
        "colab": {
          "base_uri": "https://localhost:8080/"
        },
        "id": "AdHFRJQmc9JQ",
        "outputId": "2402309f-c50e-4a9f-f7e6-be3733bf4200"
      },
      "source": [
        "best_index = np.argmax(gs.cv_results_['mean_test_score'])\n",
        "print(gs.cv_results_['params'][best_index])"
      ],
      "execution_count": null,
      "outputs": [
        {
          "output_type": "stream",
          "name": "stdout",
          "text": [
            "{'min_impurity_decrease': 0.0001}\n"
          ]
        }
      ]
    },
    {
      "cell_type": "markdown",
      "metadata": {
        "id": "ttxgmfTq9dI3"
      },
      "source": [
        "과정을 정리해보자.\n",
        "\n",
        "* 탐색할 매개변수를 지정한다.\n",
        "* 훈련 세트에서 그리드 서치를 수행해 최상의 평균 검증 점수가 나오는 매개변수 조합을 찾는다. 이 조합은 그리드 서치 객체에 저장된다.\n",
        "* 그리드 서치는 최상의 매개변수에서 전체 훈련 세트를 사용해 최종 모델을 훈련한다.\n",
        "\n",
        "이제 다른 매개변수도 추가해서 그리드 서치를 진행해 보자."
      ]
    },
    {
      "cell_type": "code",
      "metadata": {
        "id": "ia7X61bPdJ7o"
      },
      "source": [
        "params = {'min_impurity_decrease': np.arange(0.0001, 0.001, 0.0001),\n",
        "          'max_depth': range(5, 20, 1),\n",
        "          'min_samples_split': range(2, 100, 10)}"
      ],
      "execution_count": null,
      "outputs": []
    },
    {
      "cell_type": "markdown",
      "metadata": {
        "id": "pXEYYrZa90A-"
      },
      "source": [
        "첫 번째 매개변수는 9개, 두 번째 매개변수는 15개, 세 번째 매개변수는 10개의 값을 만든다. \n",
        "\n",
        "따라서 이 매개변수로 수행할 교차 검증은 9 × 15 × 10 = 1,350개 이다. 기본 5-폴드 교차 검증을 수행하므로 총 6,750개의 모델이 만들어 진다. n_jobs를 -1로 지정하고 그리드 서치를 실행해 보자."
      ]
    },
    {
      "cell_type": "code",
      "metadata": {
        "colab": {
          "base_uri": "https://localhost:8080/"
        },
        "id": "xBliLpswdbZo",
        "outputId": "327f56e6-0ff3-495c-a71d-b2e7b7aedb96"
      },
      "source": [
        "gs = GridSearchCV(DecisionTreeClassifier(random_state = 42), params, n_jobs = -1)\n",
        "gs.fit(train_input, train_target)"
      ],
      "execution_count": null,
      "outputs": [
        {
          "output_type": "execute_result",
          "data": {
            "text/plain": [
              "GridSearchCV(cv=None, error_score=nan,\n",
              "             estimator=DecisionTreeClassifier(ccp_alpha=0.0, class_weight=None,\n",
              "                                              criterion='gini', max_depth=None,\n",
              "                                              max_features=None,\n",
              "                                              max_leaf_nodes=None,\n",
              "                                              min_impurity_decrease=0.0,\n",
              "                                              min_impurity_split=None,\n",
              "                                              min_samples_leaf=1,\n",
              "                                              min_samples_split=2,\n",
              "                                              min_weight_fraction_leaf=0.0,\n",
              "                                              presort='deprecated',\n",
              "                                              random_state=42,\n",
              "                                              splitter='best'),\n",
              "             iid='deprecated', n_jobs=-1,\n",
              "             param_grid={'max_depth': range(5, 20),\n",
              "                         'min_impurity_decrease': array([0.0001, 0.0002, 0.0003, 0.0004, 0.0005, 0.0006, 0.0007, 0.0008,\n",
              "       0.0009]),\n",
              "                         'min_samples_split': range(2, 100, 10)},\n",
              "             pre_dispatch='2*n_jobs', refit=True, return_train_score=False,\n",
              "             scoring=None, verbose=0)"
            ]
          },
          "metadata": {},
          "execution_count": 20
        }
      ]
    },
    {
      "cell_type": "markdown",
      "metadata": {
        "id": "P2jPBLqc-Sk2"
      },
      "source": [
        "최상의 매개변수 조합을 확인해보자."
      ]
    },
    {
      "cell_type": "code",
      "metadata": {
        "colab": {
          "base_uri": "https://localhost:8080/"
        },
        "id": "LnGhXQtTdo8f",
        "outputId": "68917fc7-55a3-4f79-9fde-09420105bb54"
      },
      "source": [
        "print(gs.best_params_)"
      ],
      "execution_count": null,
      "outputs": [
        {
          "output_type": "stream",
          "name": "stdout",
          "text": [
            "{'max_depth': 14, 'min_impurity_decrease': 0.0004, 'min_samples_split': 12}\n"
          ]
        }
      ]
    },
    {
      "cell_type": "markdown",
      "metadata": {
        "id": "PXVfg9bp-X42"
      },
      "source": [
        "최상의 교차 검즘 점수도 확인해보자"
      ]
    },
    {
      "cell_type": "code",
      "metadata": {
        "colab": {
          "base_uri": "https://localhost:8080/"
        },
        "id": "xEKA_3CEdr0f",
        "outputId": "f272e34d-1e7f-449c-b66a-8abf86e89341"
      },
      "source": [
        "print(np.max(gs.cv_results_['mean_test_score']))"
      ],
      "execution_count": null,
      "outputs": [
        {
          "output_type": "stream",
          "name": "stdout",
          "text": [
            "0.8683865773302731\n"
          ]
        }
      ]
    },
    {
      "cell_type": "markdown",
      "metadata": {
        "id": "wmr5iUZs-aqe"
      },
      "source": [
        "여기까지 그리드 서치를 사용해보았다.\n",
        "\n",
        "하지만 앞에서 탐색할 매개변수의 간격을 0.0001 혹은 1로 설정했는데, 이렇게 간격을 둔 특별한 근거가 없다. 즉, 더 좁거나 넓은 간격으로 시도해 볼 필요가 있다."
      ]
    },
    {
      "cell_type": "markdown",
      "metadata": {
        "id": "LzDr6PXnXux0"
      },
      "source": [
        "매개변수의 값이 수치일 때 값의 범위나 간격을 미리 정하기 어렵다. 또 너무 많은 매개변수 조건이 있어서 그리드 서치 수행 시간이 오래 걸릴 수 있다. 이럴 때 **'랜덤 서치(random search)'**를 사용할 수 있다.\n",
        "\n",
        "랜덤 서치는 매개변수 값의 목록을 전달하는 것이 아니라 **매개변수를 샘플링할 수 있는 확률 분포 객체를 전달**한다. 싸이파이에서 2개의 확률 분포 클래스를 임포트해 보자."
      ]
    },
    {
      "cell_type": "code",
      "metadata": {
        "id": "d6hqINxVd2dY"
      },
      "source": [
        "from scipy.stats import uniform, randint"
      ],
      "execution_count": null,
      "outputs": []
    },
    {
      "cell_type": "markdown",
      "metadata": {
        "id": "SuGBFg7hd5SW"
      },
      "source": [
        "사이파이 stats 패키지에 있는 uniform과 randint 클래스는 주어진 범위에서 고르게 값을 뽑는다. 이를 **'균등 분포에서 샘플링한다.'**라고 한다. randint는 정수, uniform은 실수를 뽑는다.\n",
        "\n",
        "randint 객체를 만들고 0 ~ 10사이의 정숫값 10개를 샘플링해보자."
      ]
    },
    {
      "cell_type": "code",
      "metadata": {
        "colab": {
          "base_uri": "https://localhost:8080/"
        },
        "id": "Z6uWKimed7Cg",
        "outputId": "0e90e6ca-8a7d-4e30-ca74-93938474be7d"
      },
      "source": [
        "rgen = randint(0, 10)\n",
        "rgen.rvs(10)"
      ],
      "execution_count": null,
      "outputs": [
        {
          "output_type": "execute_result",
          "data": {
            "text/plain": [
              "array([3, 4, 0, 6, 4, 6, 2, 2, 9, 1])"
            ]
          },
          "metadata": {},
          "execution_count": 25
        }
      ]
    },
    {
      "cell_type": "markdown",
      "metadata": {
        "id": "Jx6ib-n-eP49"
      },
      "source": [
        "10개밖에 되지 않기 때문에 고르게 샘플링되는 것 같지 않지만 샘플링 숫자를 늘리면 쉽게 확인할 수 있다."
      ]
    },
    {
      "cell_type": "code",
      "metadata": {
        "colab": {
          "base_uri": "https://localhost:8080/"
        },
        "id": "D4VR0nend9TA",
        "outputId": "b42128b2-97e0-474f-8f0b-b085ea22f46e"
      },
      "source": [
        "np.unique(rgen.rvs(1000), return_counts = True)"
      ],
      "execution_count": null,
      "outputs": [
        {
          "output_type": "execute_result",
          "data": {
            "text/plain": [
              "(array([0, 1, 2, 3, 4, 5, 6, 7, 8, 9]),\n",
              " array([102, 115,  94,  96,  97,  88,  95, 104, 100, 109]))"
            ]
          },
          "metadata": {},
          "execution_count": 26
        }
      ]
    },
    {
      "cell_type": "markdown",
      "metadata": {
        "id": "U8j6SeZ9eYyl"
      },
      "source": [
        "이번에는 uniform으로 0 ~ 1사이의 실숫값 10개를 출력해보자."
      ]
    },
    {
      "cell_type": "code",
      "metadata": {
        "colab": {
          "base_uri": "https://localhost:8080/"
        },
        "id": "0sKqHXGVeGEw",
        "outputId": "981e4232-f587-417d-abf4-a43cd0488e55"
      },
      "source": [
        "ugen = uniform(0, 1)\n",
        "ugen.rvs(10)"
      ],
      "execution_count": null,
      "outputs": [
        {
          "output_type": "execute_result",
          "data": {
            "text/plain": [
              "array([0.04292269, 0.41956693, 0.89440568, 0.07717534, 0.7216415 ,\n",
              "       0.2047173 , 0.80061002, 0.50674698, 0.85562119, 0.79445153])"
            ]
          },
          "metadata": {},
          "execution_count": 27
        }
      ]
    },
    {
      "cell_type": "markdown",
      "metadata": {
        "id": "xX3XzRKIemNB"
      },
      "source": [
        "랜덤 서치에 randint와 uniform 클래스 객체를 넘겨주고, 총 몇 번의 샘플링을 해서 최적의 매개변수를 찾으라고 명령할 수 있다. 샘플링 횟수는 시스템 자원이 허락하는 범위 내에서 최대한 크게 하는 것이 좋다.\n",
        "\n",
        "탐색할 매개변수의 딕셔너리를 만들어 보자."
      ]
    },
    {
      "cell_type": "code",
      "metadata": {
        "id": "JCReuxSNeMx4"
      },
      "source": [
        "params = {'min_impurity_decrease': uniform(0.0001, 0.001),\n",
        "          'max_depth': randint(20, 50),\n",
        "          'min_samples_split': randint(2, 25),\n",
        "          'min_samples_leaf': randint(1, 25)\n",
        "          }"
      ],
      "execution_count": null,
      "outputs": []
    },
    {
      "cell_type": "markdown",
      "metadata": {
        "id": "lxXDzV6ne99G"
      },
      "source": [
        "이를 이용해 사이킷런의 랜덤 서치 클래스인 RandomizedSearchCV 클래스를 임포트해 훈련시키자."
      ]
    },
    {
      "cell_type": "code",
      "metadata": {
        "colab": {
          "base_uri": "https://localhost:8080/"
        },
        "id": "4nTd6KiTemQg",
        "outputId": "e33fd21c-cc75-40a5-f371-70ccabae3f0d"
      },
      "source": [
        "from sklearn.model_selection import RandomizedSearchCV\n",
        "gs = RandomizedSearchCV(DecisionTreeClassifier(random_state = 42), params, n_iter = 100, n_jobs = -1, random_state = 42)\n",
        "gs.fit(train_input, train_target)"
      ],
      "execution_count": null,
      "outputs": [
        {
          "output_type": "execute_result",
          "data": {
            "text/plain": [
              "RandomizedSearchCV(cv=None, error_score=nan,\n",
              "                   estimator=DecisionTreeClassifier(ccp_alpha=0.0,\n",
              "                                                    class_weight=None,\n",
              "                                                    criterion='gini',\n",
              "                                                    max_depth=None,\n",
              "                                                    max_features=None,\n",
              "                                                    max_leaf_nodes=None,\n",
              "                                                    min_impurity_decrease=0.0,\n",
              "                                                    min_impurity_split=None,\n",
              "                                                    min_samples_leaf=1,\n",
              "                                                    min_samples_split=2,\n",
              "                                                    min_weight_fraction_leaf=0.0,\n",
              "                                                    presort='deprecated',\n",
              "                                                    random_state=42,\n",
              "                                                    splitter='best'),...\n",
              "                                        'min_impurity_decrease': <scipy.stats._distn_infrastructure.rv_frozen object at 0x7eff8dbc4a10>,\n",
              "                                        'min_samples_leaf': <scipy.stats._distn_infrastructure.rv_frozen object at 0x7eff8dda6cd0>,\n",
              "                                        'min_samples_split': <scipy.stats._distn_infrastructure.rv_frozen object at 0x7eff8dda6710>},\n",
              "                   pre_dispatch='2*n_jobs', random_state=42, refit=True,\n",
              "                   return_train_score=False, scoring=None, verbose=0)"
            ]
          },
          "metadata": {},
          "execution_count": 29
        }
      ]
    },
    {
      "cell_type": "markdown",
      "metadata": {
        "id": "LYXL9aZgfGud"
      },
      "source": [
        "n_iter 매개변수에 샘플링 횟수를 입력할 수 있다. 우리는 총 100번 샘플링을 하여 교차 검증을 수행했고 최적의 매개변수 조합을 찾았다. 앞서 **그리드 서치보다 교차 검증 수를 줄이면서 넓은 영역을 효과적으로 탐색**할 수 있다.\n",
        "\n",
        "최적의 매개변수 조합을 출력해보자."
      ]
    },
    {
      "cell_type": "code",
      "metadata": {
        "colab": {
          "base_uri": "https://localhost:8080/"
        },
        "id": "gCOmdNLPe6J4",
        "outputId": "e164d13e-474d-44e8-c0c8-374168b0243d"
      },
      "source": [
        "print(gs.best_params_)"
      ],
      "execution_count": null,
      "outputs": [
        {
          "output_type": "stream",
          "name": "stdout",
          "text": [
            "{'max_depth': 39, 'min_impurity_decrease': 0.00034102546602601173, 'min_samples_leaf': 7, 'min_samples_split': 13}\n"
          ]
        }
      ]
    },
    {
      "cell_type": "markdown",
      "metadata": {
        "id": "Q5tG4Oo_fbU9"
      },
      "source": [
        "최고의 교차 검증 점수도 확인해보자."
      ]
    },
    {
      "cell_type": "code",
      "metadata": {
        "colab": {
          "base_uri": "https://localhost:8080/"
        },
        "id": "F4kIB0pne904",
        "outputId": "37e657ab-cea1-4bce-8a97-22daa061c18f"
      },
      "source": [
        "print(np.max(gs.cv_results_['mean_test_score']))"
      ],
      "execution_count": null,
      "outputs": [
        {
          "output_type": "stream",
          "name": "stdout",
          "text": [
            "0.8695428296438884\n"
          ]
        }
      ]
    },
    {
      "cell_type": "markdown",
      "metadata": {
        "id": "doj93FZAffj9"
      },
      "source": [
        "최적의 모델은 이미 전체 훈련 세트로 훈련되어 best_estimator_ 속성에 저장되어 있다. 이 모델로 테스트 세트의 성능을 확인해보자."
      ]
    },
    {
      "cell_type": "code",
      "metadata": {
        "colab": {
          "base_uri": "https://localhost:8080/"
        },
        "id": "pqOb1QmHfGJQ",
        "outputId": "cfb106ef-a83f-427e-c3eb-f10849827ff5"
      },
      "source": [
        "dt = gs.best_estimator_\n",
        "print(dt.score(test_input, test_target))"
      ],
      "execution_count": null,
      "outputs": [
        {
          "output_type": "stream",
          "name": "stdout",
          "text": [
            "0.86\n"
          ]
        }
      ]
    },
    {
      "cell_type": "markdown",
      "metadata": {
        "id": "AhZLNi7Kft_Z"
      },
      "source": [
        "테스트 세트의 점수는 검증 세트에 대한 점수보다 조금 작은 것이 일반적이다."
      ]
    },
    {
      "cell_type": "markdown",
      "metadata": {
        "id": "cT4DSoZQf1N0"
      },
      "source": [
        "# 정리\n",
        "\n",
        "핵심 포인트\n",
        "* 검증 세트: 하이퍼파라미터 튜닝을 위해 모델을 평가할 때, **테스트 세트를 사용하지 않기 위해 훈련세트에서 다시 떼어낸 데이터 세트**이다.\n",
        "* 교차 검증: 훈련 세트를 여러 폴드로 나눈 다음 한 폴드가 검증 세트의 역할을 하고 나머지 폴드에서는 모델을 훈련한다.\n",
        "* 그리드 서치: **하이퍼파라미터 탐색을 자동화해 주는 도구**이다. 탐색할 매개변수를 나열하면 교차 검증을 수행하여 가장 좋은 검증 점수의 매개변수 조합을 선택한다. 마지막으로 이 매개변수 조합으로 최종 모델을 훈련한다.\n",
        "* 랜덤 서치: **연속된 매개변수 값을 탐색할 때 유용**하다. 탐색 값을 샘플링할 수 있는 **확률 분포 객체를 전달**한다. 지정된 횟수만큼 샘플링하여 교차 검증을 수행하기 때문에 시스템 자원이 허락하는 만큼 탐색량을 조절할 수 있다.\n",
        "\n",
        "핵심 패키지와 함수\n",
        "\n",
        "scikit-learn\n",
        "* cross_validate(): **교차 검증을 수행하는 함수**이다. 첫 번째 매개변수에 교차 검증을 수행할 **모델 객체를 절달**하고 두 번째와 세 번째 매개변수에 **특성과 타깃 데이터를 전달**한다. **scoring 매개변수**에 검증에 사용할 평가 지표를 선택할 수 있다. 기본적으로 분류 모델은 정확도를 의미하는 'accuracy', 회귀 모델은 결정계수를 의미하는 'r2'가 된다. **cv 매개변수**에 폴드 개수나 스플리터 객체를 지정할 수 있다. 기본값은 5이다. 회귀일 때는 KFold 클래스, 분류는 StratifiedKFold 클래스를 사용한다. **n_jobs 매개변수**는 교차 검증을 수행할 때 사용할 CPU 코어 수를 지정한다. **return_train_score 매개변수**를 True로 지정하면 훈련 세트의 점수도 반환한다. 기본값은 False이다.\n",
        "\n",
        "* GridSearchCV: **교차 검증으로 하이퍼파라미터 탐색을 수행**한다. 최상의 모델을 찾은 후 훈련 세트 전체를 사용해 최종 모델을 훈련한다. 첫 번째 매개변수로 그리드 서치를 수행할 **모델 객체를 전달**하고 두 번째 매개변수에는 탐색할 모델의 **매개변수와 값을 전달**한다. scoring, cv, n_jobs, return_train_score 매개변수는 cross_validate() 함수와 동일하다.\n",
        "\n",
        "* RandomizedSearchCV: **교차 검증으로 랜덤한 하이퍼파라미터 탐색을 수행**한다. 최상의 모델을 찾은 후 훈련 세트 전체를 사용해 최종 모델을 훈련한다. 첫 번째 매개변수로 **그리드 서치를 수행할 모델 객체를 전달**하고 두 번째 매개변수에는 탐색할 모델의 **매개변수와 확률 분포 객체를 전달**한다. scoring, cv, n_jobs, return_train_score 매개변수는 cross_validate() 함수와 동일하다."
      ]
    }
  ]
}