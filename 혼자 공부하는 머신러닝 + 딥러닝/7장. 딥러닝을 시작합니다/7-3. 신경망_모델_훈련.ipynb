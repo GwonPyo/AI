{
  "nbformat": 4,
  "nbformat_minor": 2,
  "metadata": {
    "colab": {
      "name": "7-3. 신경망 모델 훈련.ipynb",
      "provenance": [],
      "collapsed_sections": []
    },
    "kernelspec": {
      "name": "python3",
      "display_name": "Python 3"
    },
    "language_info": {
      "name": "python"
    }
  },
  "cells": [
    {
      "cell_type": "markdown",
      "source": [
        "지금까지 인공 신경망에 대해 배우고 텐서플로의 케라스 API를 사용해 직접 만들어보았다. 또한 1개 이상의 층을 추가해 심층 신경망을 구성하고 다양한 고급 옵티마이저를 적용하는 법도 알아보았다.\n",
        "\n",
        "이전 사이킷런에서 제공하는 머신러닝 알고리즘은 좋은 성능을 내기 위해 매개변수를 조정하고 훈련하는 과정을 반복했다. 하지만 모델의 구조가 어느 정도 고정되어 있다고 느꼈을 것이다. 하지만 딥러닝은 모델의 구조를 직접 만든다는 느낌이 강하다. \n",
        "\n",
        "이번에는 케라스 API를 사용해 모델을 훈련하는데 필요한 다양한 도구들을 알아보자."
      ],
      "metadata": {
        "id": "2yC02TmtvTMN"
      }
    },
    {
      "cell_type": "markdown",
      "source": [
        "2절에서 fit() 메서드로 모델을 훈련하면 훈련 과정이 상세하게 출력되어 확인할 수 있었다. 이때 아래와 같은 문장이 출력된다.\n",
        "\n",
        "* <tensorflow.python.keras.callbacks.History at 0x7fef38bfc080>\n",
        "\n",
        "노트북의 코드 셀은 print() 명령을 사용하지 않아도 마지막 라인의 실행 결과를 자동으로 출력한다. 즉, 위 문장은 fit() 메서드의 실행 결과를 출력한 것이다.\n",
        "\n",
        "**fit() 메서드는 History 클래스 객체를 반환한다.** History 객체는 훈련 과정에서 계산한 지표, 즉 손실과 정확도 값이 저장되어있다. 이 값을 사용하면 그래프를 그려볼 수 있다.\n",
        "\n",
        "먼저 이전 절에서 사용했던 데이터셋을 가져오고 훈련 세트와 검증 세트로 나누자."
      ],
      "metadata": {
        "id": "LB5frlozv3pg"
      }
    },
    {
      "cell_type": "code",
      "execution_count": 1,
      "source": [
        "from tensorflow import keras\r\n",
        "from sklearn.model_selection import train_test_split\r\n",
        "(train_input, train_target), (test_input, test_target) = keras.datasets.fashion_mnist.load_data()\r\n",
        "train_scaled = train_input / 255.0\r\n",
        "train_scaled, val_scaled, train_target, val_target = train_test_split(train_scaled, train_target, test_size = 0.2, random_state = 42)"
      ],
      "outputs": [
        {
          "output_type": "stream",
          "name": "stdout",
          "text": [
            "Downloading data from https://storage.googleapis.com/tensorflow/tf-keras-datasets/train-labels-idx1-ubyte.gz\n",
            "32768/29515 [=================================] - 0s 0us/step\n",
            "40960/29515 [=========================================] - 0s 0us/step\n",
            "Downloading data from https://storage.googleapis.com/tensorflow/tf-keras-datasets/train-images-idx3-ubyte.gz\n",
            "26427392/26421880 [==============================] - 0s 0us/step\n",
            "26435584/26421880 [==============================] - 0s 0us/step\n",
            "Downloading data from https://storage.googleapis.com/tensorflow/tf-keras-datasets/t10k-labels-idx1-ubyte.gz\n",
            "16384/5148 [===============================================================================================] - 0s 0us/step\n",
            "Downloading data from https://storage.googleapis.com/tensorflow/tf-keras-datasets/t10k-images-idx3-ubyte.gz\n",
            "4423680/4422102 [==============================] - 0s 0us/step\n",
            "4431872/4422102 [==============================] - 0s 0us/step\n"
          ]
        }
      ],
      "metadata": {
        "colab": {
          "base_uri": "https://localhost:8080/"
        },
        "id": "TPl_qEiMRoh7",
        "outputId": "e1b95cfe-e317-44d3-8411-aece746c3f1a"
      }
    },
    {
      "cell_type": "markdown",
      "source": [
        "모델을 만들어 보자. 단, 이번에는 모델을 만드는 간단한 함수를 정의해보자."
      ],
      "metadata": {
        "id": "QbdsKwYcxCMQ"
      }
    },
    {
      "cell_type": "code",
      "execution_count": 2,
      "source": [
        "def model_fn(a_layer = None):\r\n",
        "  model = keras.Sequential()\r\n",
        "  model.add(keras.layers.Flatten(input_shape = (28, 28)))\r\n",
        "  model.add(keras.layers.Dense(100, activation = 'relu'))\r\n",
        "  if a_layer:\r\n",
        "    model.add(a_layer)\r\n",
        "  model.add(keras.layers.Dense(10, activation = 'softmax'))\r\n",
        "  return model"
      ],
      "outputs": [],
      "metadata": {
        "id": "fgu2YaxsSftp"
      }
    },
    {
      "cell_type": "markdown",
      "source": [
        "model_fn() 함수에 케라스 층을 추가하면 은닉층 뒤에 또 하나의 층을 추가할 수 있다. 아래처럼 코드를 작성하면 이전 모델과 동일한 모델이 만들어진다."
      ],
      "metadata": {
        "id": "QWDRYb2ixNUI"
      }
    },
    {
      "cell_type": "code",
      "execution_count": 3,
      "source": [
        "model = model_fn()\r\n",
        "model.summary()"
      ],
      "outputs": [
        {
          "output_type": "stream",
          "name": "stdout",
          "text": [
            "Model: \"sequential\"\n",
            "_________________________________________________________________\n",
            "Layer (type)                 Output Shape              Param #   \n",
            "=================================================================\n",
            "flatten (Flatten)            (None, 784)               0         \n",
            "_________________________________________________________________\n",
            "dense (Dense)                (None, 100)               78500     \n",
            "_________________________________________________________________\n",
            "dense_1 (Dense)              (None, 10)                1010      \n",
            "=================================================================\n",
            "Total params: 79,510\n",
            "Trainable params: 79,510\n",
            "Non-trainable params: 0\n",
            "_________________________________________________________________\n"
          ]
        }
      ],
      "metadata": {
        "colab": {
          "base_uri": "https://localhost:8080/"
        },
        "id": "NGWydQPFTEvH",
        "outputId": "2fc35819-c3c3-47ca-fec6-b5ed6903e181"
      }
    },
    {
      "cell_type": "markdown",
      "source": [
        "이전 절과 동일하게 모델을 훈련해보자. 단, fit() 메서드의 결과를 history 변수에 담아보자.\n"
      ],
      "metadata": {
        "id": "d_VN-lp5xal_"
      }
    },
    {
      "cell_type": "code",
      "execution_count": 4,
      "source": [
        "model.compile(loss = 'sparse_categorical_crossentropy', metrics = 'accuracy')\r\n",
        "history = model.fit(train_scaled, train_target, epochs = 5, verbose = 0)"
      ],
      "outputs": [],
      "metadata": {
        "id": "_3guX-UTTOoY"
      }
    },
    {
      "cell_type": "markdown",
      "source": [
        "* **verbose 매개변수**는 훈련 과정 출력을 조절한다. 기본값은 1로 에포크마다 진행 막대와 함께 손실 등의 지표가 출력된다. 값이 2라면 진행 막대를 빼고 출력한다. 값을 0으로 지정하면 훈련 과정을 나타내지 않는다.\n",
        "\n",
        "**history 객체에는 훈련 측정값이 담겨 있는 history 딕셔너리가 들어있다.** 이 딕셔너리에 어떤 값이 들어 있는지 확인해보자."
      ],
      "metadata": {
        "id": "q9Cq2vqVxiyY"
      }
    },
    {
      "cell_type": "code",
      "execution_count": 5,
      "source": [
        "print(history.history.keys())"
      ],
      "outputs": [
        {
          "output_type": "stream",
          "name": "stdout",
          "text": [
            "dict_keys(['loss', 'accuracy'])\n"
          ]
        }
      ],
      "metadata": {
        "colab": {
          "base_uri": "https://localhost:8080/"
        },
        "id": "lYwEwz-ETiHo",
        "outputId": "8c67e83e-b5fe-4cc3-fe9a-f783ab89010d"
      }
    },
    {
      "cell_type": "code",
      "execution_count": 6,
      "source": [
        "print(history.history['loss'])\r\n",
        "print(history.history['accuracy'])"
      ],
      "outputs": [
        {
          "output_type": "stream",
          "name": "stdout",
          "text": [
            "[0.537104606628418, 0.39454910159111023, 0.35468095541000366, 0.3329482972621918, 0.3192276060581207]\n",
            "[0.8113750219345093, 0.8575208187103271, 0.8709166646003723, 0.8798333406448364, 0.8845000267028809]\n"
          ]
        }
      ],
      "metadata": {
        "colab": {
          "base_uri": "https://localhost:8080/"
        },
        "id": "jDOZeGpVyAno",
        "outputId": "41a01909-d15a-44f4-e1fd-a53fc880ed85"
      }
    },
    {
      "cell_type": "markdown",
      "source": [
        "**손실과 정확도가 포함되어 있다.** 케라스는 기본적으로 에포크마다 손실을 계산한다. 정확도는 compile() 메서드에서 metrics 매개변수에 추가했기 때문에 history 속성에 포함된다.\n",
        "\n",
        "맷플롯립을 사용해 손실 그래프를 그려보자."
      ],
      "metadata": {
        "id": "US9Pp1vIyID5"
      }
    },
    {
      "cell_type": "code",
      "execution_count": 7,
      "source": [
        "import matplotlib.pyplot as plt\r\n",
        "plt.plot(history.history['loss'])\r\n",
        "plt.xlabel('epoch')\r\n",
        "plt.ylabel('loss')\r\n",
        "plt.show()"
      ],
      "outputs": [
        {
          "output_type": "display_data",
          "data": {
            "text/plain": [
              "<Figure size 432x288 with 1 Axes>"
            ],
            "image/png": "[encoded data removed]"
          },
          "metadata": {
            "needs_background": "light"
          }
        }
      ],
      "metadata": {
        "colab": {
          "base_uri": "https://localhost:8080/",
          "height": 279
        },
        "id": "DG3rRmPNTySY",
        "outputId": "979ebfe0-f31a-4ff7-84f2-e74f01151b3f"
      }
    },
    {
      "cell_type": "markdown",
      "source": [
        "이번에는 정확도를 출력해보자."
      ],
      "metadata": {
        "id": "Tfg1txgEygxZ"
      }
    },
    {
      "cell_type": "code",
      "execution_count": 8,
      "source": [
        "plt.plot(history.history['accuracy'])\r\n",
        "plt.xlabel('epoch')\r\n",
        "plt.ylabel('accuracy')\r\n",
        "plt.show()"
      ],
      "outputs": [
        {
          "output_type": "display_data",
          "data": {
            "text/plain": [
              "<Figure size 432x288 with 1 Axes>"
            ],
            "image/png": "[encoded data removed]"
          },
          "metadata": {
            "needs_background": "light"
          }
        }
      ],
      "metadata": {
        "colab": {
          "base_uri": "https://localhost:8080/",
          "height": 279
        },
        "id": "v75PwrB5UP_Z",
        "outputId": "4ffcdaa3-3880-4db2-a6b7-96d6ee87c0a2"
      }
    },
    {
      "cell_type": "markdown",
      "source": [
        "에포크마다 손실이 감소하고 정확도가 향상된다. \n",
        "\n",
        "이번에는 에포크 횟수를 20으로 늘려서 모델을 훈련하고 손실 그래프를 그려보자."
      ],
      "metadata": {
        "id": "Q428gHe3yjCi"
      }
    },
    {
      "cell_type": "code",
      "execution_count": 9,
      "source": [
        "model = model_fn()\r\n",
        "model.compile(loss = 'sparse_categorical_crossentropy', metrics = 'accuracy')\r\n",
        "history = model.fit(train_scaled, train_target, epochs = 20, verbose = 0)\r\n",
        "plt.plot(history.history['loss'])\r\n",
        "plt.xlabel('epoch')\r\n",
        "plt.ylabel('loss')\r\n",
        "plt.show()"
      ],
      "outputs": [
        {
          "output_type": "display_data",
          "data": {
            "text/plain": [
              "<Figure size 432x288 with 1 Axes>"
            ],
            "image/png": "[encoded data removed]"
          },
          "metadata": {
            "needs_background": "light"
          }
        }
      ],
      "metadata": {
        "colab": {
          "base_uri": "https://localhost:8080/",
          "height": 279
        },
        "id": "cDT_tk6PUkMf",
        "outputId": "1d13fdb1-3286-4dfc-a35c-7f66b521ee2b"
      }
    },
    {
      "cell_type": "markdown",
      "source": [
        "예상대로 손실이 잘 감소한다. 하지만 너무 많은 에포크를 진행하면 과대적합의 문제가 발생한다. 즉, 우리는 에포크에 따른 과대적합과 과소적합을 고려해야한다. 이를 위해 훈련 세트에 대한 점수뿐만 아니라 검증 세트에 대한 점수도 필요하다. \n",
        "\n",
        "* **인공 신경망 모델 최적화하는 대상은 정확도가 아니라 손실 함수이다.** 종종 손실 감소에 비례해 정확도가 높아지지 않는 경우도 있다. 따라서 모델이 잘 훈련되었는지 판단하려면 정확도보다 손실 함수의 값을 확인하는 것이 더 좋다.\n",
        "\n",
        "에포크마다 검증 손실을 계산하기 위해 케라스 모델의 fit() 메서드에 검증 데이터를 전달할 수 있다. **validation_data 매개변수**에 검증에 사용할 입력과 타깃값을 튜플로 만들어 전달하면 된다."
      ],
      "metadata": {
        "id": "4kqBNQYLy1TA"
      }
    },
    {
      "cell_type": "code",
      "execution_count": 10,
      "source": [
        "model = model_fn()\r\n",
        "model.compile(loss = 'sparse_categorical_crossentropy', metrics = 'accuracy')\r\n",
        "history = model.fit(train_scaled, train_target, epochs = 20, verbose = 0, validation_data = (val_scaled, val_target))"
      ],
      "outputs": [],
      "metadata": {
        "id": "ENY_3LrTVAVA"
      }
    },
    {
      "cell_type": "markdown",
      "source": [
        "반환된 history.history 딕셔너리에 어떤 값이 들어있는지 확인해보자."
      ],
      "metadata": {
        "id": "mlp6tUMCzngB"
      }
    },
    {
      "cell_type": "code",
      "execution_count": 11,
      "source": [
        "print(history.history.keys())"
      ],
      "outputs": [
        {
          "output_type": "stream",
          "name": "stdout",
          "text": [
            "dict_keys(['loss', 'accuracy', 'val_loss', 'val_accuracy'])\n"
          ]
        }
      ],
      "metadata": {
        "colab": {
          "base_uri": "https://localhost:8080/"
        },
        "id": "Y3bMNFG2XNZB",
        "outputId": "8d124fea-1070-4da3-9fb5-b86d2ea16adf"
      }
    },
    {
      "cell_type": "markdown",
      "source": [
        "'val_loss'와 'val_accuracy'가 추가되었다. 훈련 손실과 검증 손실을 그래프로 그려보자."
      ],
      "metadata": {
        "id": "0SyODLQSzuyp"
      }
    },
    {
      "cell_type": "code",
      "execution_count": 12,
      "source": [
        "plt.plot(history.history['loss'])\r\n",
        "plt.plot(history.history['val_loss'])\r\n",
        "plt.xlabel('epoch')\r\n",
        "plt.ylabel('loss')\r\n",
        "plt.legend(['train', 'val'])\r\n",
        "plt.show()"
      ],
      "outputs": [
        {
          "output_type": "display_data",
          "data": {
            "text/plain": [
              "<Figure size 432x288 with 1 Axes>"
            ],
            "image/png": "[encoded data removed]"
          },
          "metadata": {
            "needs_background": "light"
          }
        }
      ],
      "metadata": {
        "colab": {
          "base_uri": "https://localhost:8080/",
          "height": 279
        },
        "id": "JG5sIPJGYleZ",
        "outputId": "db020709-8b83-4bcf-9a04-dccbb9686560"
      }
    },
    {
      "cell_type": "markdown",
      "source": [
        "검증 손실이 감소하다가 다섯 번째 에포크 만에 상승하기 시작한다. 훈련 손실은 꾸준히 감소하기 때문에 전형적인 과대적합 모델이 만들어진다. 검증 손실이 상승하는 시점을 가능한 뒤로 늦추면 검증 세트에 대한 손실이 줄어들 뿐만 아니라 검증 세트에 대한 정확도도 증가할 것이다.\n",
        "\n",
        "먼저 옵티마이저를 조정해 과대적합을 완화해보자. Adam을 사용해 훈련 손실과 검증 손실을 다시 그려보자."
      ],
      "metadata": {
        "id": "ciZz40-Gz4kx"
      }
    },
    {
      "cell_type": "code",
      "execution_count": 13,
      "source": [
        "model = model_fn()\r\n",
        "model.compile(optimizer = 'adam', loss = 'sparse_categorical_crossentropy', metrics = 'accuracy')\r\n",
        "history = model.fit(train_scaled, train_target, epochs = 20, verbose = 0, validation_data = (val_scaled, val_target))\r\n",
        "plt.plot(history.history['loss'])\r\n",
        "plt.plot(history.history['val_loss'])\r\n",
        "plt.xlabel('epoch')\r\n",
        "plt.ylabel('loss')\r\n",
        "plt.legend(['train', 'val'])\r\n",
        "plt.show()"
      ],
      "outputs": [
        {
          "output_type": "display_data",
          "data": {
            "text/plain": [
              "<Figure size 432x288 with 1 Axes>"
            ],
            "image/png": "[encoded data removed]"
          },
          "metadata": {
            "needs_background": "light"
          }
        }
      ],
      "metadata": {
        "colab": {
          "base_uri": "https://localhost:8080/",
          "height": 279
        },
        "id": "6kuLg2JDZRKr",
        "outputId": "f315d1aa-664e-4078-f2a8-141edc3ffb11"
      }
    },
    {
      "cell_type": "markdown",
      "source": [
        "과대 적합이 훨씬 줄었다. 검증 손실 그래프에 여전히 요동이 남아 있지만 열 번째 에포크까지 전반적인 감소 추세가 이어진다. 즉, Adam 옵티마이저가 이 데이터셋에 잘 맞는다는 것을 알 수 있다. 더 나은 곡선을 얻으려면 학습률을 조정해서 시도해 볼 수도 있다.\n",
        "\n",
        "학습률을 높여서 손실 그래프를 그려보자."
      ],
      "metadata": {
        "id": "KdwOeU-j0XFS"
      }
    },
    {
      "cell_type": "code",
      "execution_count": 14,
      "source": [
        "adam = keras.optimizers.Adam(learning_rate = 0.1)\r\n",
        "model = model_fn()\r\n",
        "model.compile(optimizer = adam, loss = 'sparse_categorical_crossentropy', metrics = 'accuracy')\r\n",
        "history = model.fit(train_scaled, train_target, epochs = 20, verbose = 0, validation_data = (val_scaled, val_target))\r\n",
        "plt.plot(history.history['loss'])\r\n",
        "plt.plot(history.history['val_loss'])\r\n",
        "plt.xlabel('epoch')\r\n",
        "plt.ylabel('loss')\r\n",
        "plt.legend(['train', 'val'])\r\n",
        "plt.show()"
      ],
      "outputs": [
        {
          "output_type": "display_data",
          "data": {
            "text/plain": [
              "<Figure size 432x288 with 1 Axes>"
            ],
            "image/png": "[encoded data removed]"
          },
          "metadata": {
            "needs_background": "light"
          }
        }
      ],
      "metadata": {
        "colab": {
          "base_uri": "https://localhost:8080/",
          "height": 279
        },
        "id": "hAzZc7cCaHlB",
        "outputId": "da2496a5-bf04-49ea-9bb0-d65f1c0ad7f7"
      }
    },
    {
      "cell_type": "markdown",
      "source": [
        "학습률을 높이니 훨씬 안좋은 결과를 가져왔다. 학습률을 낮춰보자."
      ],
      "metadata": {
        "id": "jllOJjdH0sGb"
      }
    },
    {
      "cell_type": "code",
      "execution_count": 15,
      "source": [
        "adam = keras.optimizers.Adam(learning_rate = 0.000001)\r\n",
        "model = model_fn()\r\n",
        "model.compile(optimizer = adam, loss = 'sparse_categorical_crossentropy', metrics = 'accuracy')\r\n",
        "history = model.fit(train_scaled, train_target, epochs = 20, verbose = 0, validation_data = (val_scaled, val_target))\r\n",
        "plt.plot(history.history['loss'])\r\n",
        "plt.plot(history.history['val_loss'])\r\n",
        "plt.xlabel('epoch')\r\n",
        "plt.ylabel('loss')\r\n",
        "plt.legend(['train', 'val'])\r\n",
        "plt.show()"
      ],
      "outputs": [
        {
          "output_type": "display_data",
          "data": {
            "text/plain": [
              "<Figure size 432x288 with 1 Axes>"
            ],
            "image/png": "[encoded data removed]"
          },
          "metadata": {
            "needs_background": "light"
          }
        }
      ],
      "metadata": {
        "colab": {
          "base_uri": "https://localhost:8080/",
          "height": 279
        },
        "id": "Ur4OmfSBaqqp",
        "outputId": "acdff23d-0507-4617-a344-d3461191a5a1"
      }
    },
    {
      "cell_type": "markdown",
      "source": [
        "학습률을 낮추니 과대적합을 잘 해결한 듯 하다. 이제 이외에 신경망에서 사용하는 대표적인 규제 방법을 알아보자."
      ],
      "metadata": {
        "id": "ILxxI3Vp0zMg"
      }
    },
    {
      "cell_type": "markdown",
      "source": [
        "**'드롭아웃(dropout)'**은 훈련 과정에서 층에 있는 일부 뉴런을 랜덤하게 꺼서(즉 뉴런의 출력을 0으로 만들어) 과대적합을 막는다. 뉴런은 랜덤하게 드롭아웃되고 얼마나 많은 뉴런을 드롭할지는 우리가 정해야 할 또 다른 하이퍼파라미터이다.\n",
        "\n",
        "**이전 층의 일부 뉴런이 랜덤하게 꺼지면 특정 뉴런에 과대하게 의존하는 것을 줄일 수 있고 모든 입력에 주의를 기울여야하므로 과대적합을 막을 수 있다.** 매번 랜덤하게 뉴런이 꺼지므로 여러개의 신경망을 학습시키는 효과를 볼 수 있다. 즉 신경망을 앙상블한다고 생각할 수 있다\n",
        "\n",
        "* 앙상블 학습은 더 좋은 예측 결과를 만들기 위해 여러 개의 모델을 훈련하는 머신러닝 알고리즘이다.\n",
        "\n",
        "케라스는 keras.layers 패키지 아래에 **Dropout 클래스**를 제공한다. 30% 정도를 드롭아웃해보자."
      ],
      "metadata": {
        "id": "RyAIDpgX09uD"
      }
    },
    {
      "cell_type": "code",
      "execution_count": 16,
      "source": [
        "model = model_fn(keras.layers.Dropout(0.3))\r\n",
        "model.summary()"
      ],
      "outputs": [
        {
          "output_type": "stream",
          "name": "stdout",
          "text": [
            "Model: \"sequential_6\"\n",
            "_________________________________________________________________\n",
            "Layer (type)                 Output Shape              Param #   \n",
            "=================================================================\n",
            "flatten_6 (Flatten)          (None, 784)               0         \n",
            "_________________________________________________________________\n",
            "dense_12 (Dense)             (None, 100)               78500     \n",
            "_________________________________________________________________\n",
            "dropout (Dropout)            (None, 100)               0         \n",
            "_________________________________________________________________\n",
            "dense_13 (Dense)             (None, 10)                1010      \n",
            "=================================================================\n",
            "Total params: 79,510\n",
            "Trainable params: 79,510\n",
            "Non-trainable params: 0\n",
            "_________________________________________________________________\n"
          ]
        }
      ],
      "metadata": {
        "colab": {
          "base_uri": "https://localhost:8080/"
        },
        "id": "z4uQ7hzSbWzp",
        "outputId": "269c0e1d-4c3f-42a3-83e4-e7a86c5670c1"
      }
    },
    {
      "cell_type": "markdown",
      "source": [
        "드롭아웃 층은 훈련되는 모델 파라미너가 없으며 입력과 출력의 크기가 같다. 일부 뉴런의 출력을 0으로 만들지만 전체 출력 배열의 크기를 바꾸지는 않는다.\n",
        "\n",
        "**훈련이 끝난 뒤에 평가나 예측을 수행할 때는 드롭아웃을 적용하지 말아야한다.** 훈련된 모든 뉴런을 사용해야 올바른 예측을 수행할 수 있기 때문이다. 텐서플로와 케라스는 모델을 평가와 예측할 때는 자동으로 드롭아웃을 적용하지 않는다. 이전과 같이 손실 그래프를 그려보자."
      ],
      "metadata": {
        "id": "6dfk7Jc39SDK"
      }
    },
    {
      "cell_type": "code",
      "execution_count": 17,
      "source": [
        "model.compile(optimizer = 'adam', loss = 'sparse_categorical_crossentropy', metrics = 'accuracy')\r\n",
        "history = model.fit(train_scaled, train_target, epochs = 20, verbose = 0, validation_data = (val_scaled, val_target))\r\n",
        "plt.plot(history.history['loss'])\r\n",
        "plt.plot(history.history['val_loss'])\r\n",
        "plt.xlabel('epoch')\r\n",
        "plt.ylabel('loss')\r\n",
        "plt.legend(['train', 'val'])\r\n",
        "plt.show()"
      ],
      "outputs": [
        {
          "output_type": "display_data",
          "data": {
            "text/plain": [
              "<Figure size 432x288 with 1 Axes>"
            ],
            "image/png": "[encoded data removed]"
          },
          "metadata": {
            "needs_background": "light"
          }
        }
      ],
      "metadata": {
        "colab": {
          "base_uri": "https://localhost:8080/",
          "height": 282
        },
        "id": "1s_mQCRWgJsT",
        "outputId": "1cf02fa7-2ed5-4fc0-8c05-83749f7d5ecc"
      }
    },
    {
      "cell_type": "markdown",
      "source": [
        "과대적합이 줄은 것을 확인할 수 있다. 열 번째 에포크 정도에서 검증 손실의 감소가 멈추지만 크게 상승하지 않고 어느 정도 유지되고 있다. 따라서 과대적합 되지 않은 모델을 얻기 위해 에포크 횟수를 10으로 하고 다시 훈련해보자."
      ],
      "metadata": {
        "id": "J1p12hFA-Fda"
      }
    },
    {
      "cell_type": "code",
      "execution_count": 18,
      "source": [
        "model = model_fn(keras.layers.Dropout(0.3))\r\n",
        "model.compile(optimizer = 'adam', loss = 'sparse_categorical_crossentropy', metrics = 'accuracy')\r\n",
        "history = model.fit(train_scaled, train_target, epochs = 10, verbose = 0, validation_data = (val_scaled, val_target))"
      ],
      "outputs": [],
      "metadata": {
        "id": "mLSjoDanhDNq"
      }
    },
    {
      "cell_type": "markdown",
      "source": [
        "에포크 횟수를 10으로 지정하고 모델을 훈련했다. 이 모델을 나중에 쓰기 위해 저장할 방법은 없을까? \n",
        "\n",
        "케라스에서는 훈련된 모델의 파라미터를 저장하기 위해 **save_weights() 메서드**를 제공한다. 기본적으로 텐서플로의 체크포인트 포맷으로 저장하지만 파일의 확장자가 '.h5'이면 HDF5 포맷으로 저장한다."
      ],
      "metadata": {
        "id": "MjulNJOR-fnj"
      }
    },
    {
      "cell_type": "code",
      "execution_count": 19,
      "source": [
        "model.save_weights('model-weights.h5')"
      ],
      "outputs": [],
      "metadata": {
        "id": "hB5zbxB1h0KC"
      }
    },
    {
      "cell_type": "markdown",
      "source": [
        "모델 구조와 모델 파라미터를 함게 저장하려면 save() 메서드를 사용하면된다. 기본적으로 SavedModel 포맷으로 저장하지만 파일의 확장자가 '.h5'일 경우 HDF5 포맷으로 저장한다."
      ],
      "metadata": {
        "id": "wdfoNX9sAdgi"
      }
    },
    {
      "cell_type": "code",
      "execution_count": 20,
      "source": [
        "model.save('model-whole.h5')"
      ],
      "outputs": [],
      "metadata": {
        "id": "7HgDNpUqiFka"
      }
    },
    {
      "cell_type": "markdown",
      "source": [
        "두 파일이 잘 만들어 졌는지 확인해보자."
      ],
      "metadata": {
        "id": "LQC4rRMEApGS"
      }
    },
    {
      "cell_type": "code",
      "execution_count": 21,
      "source": [
        "!ls -al *.h5"
      ],
      "outputs": [
        {
          "output_type": "stream",
          "name": "stdout",
          "text": [
            "-rw-r--r-- 1 root root 332480 Oct  1 14:07 model-weights.h5\n",
            "-rw-r--r-- 1 root root 981736 Oct  1 14:07 model-whole.h5\n"
          ]
        }
      ],
      "metadata": {
        "colab": {
          "base_uri": "https://localhost:8080/"
        },
        "id": "RSYTuqCHiQoS",
        "outputId": "12ae0bde-38fd-4d93-d76b-db757e1aaeb4"
      }
    },
    {
      "cell_type": "markdown",
      "source": [
        "훈련하지 않은 모델을 만들고 model-weights.h5 파일에서 훈련된 모델 파라미터를 일어서 사용해보자."
      ],
      "metadata": {
        "id": "tmJDznhWAtXc"
      }
    },
    {
      "cell_type": "code",
      "execution_count": 22,
      "source": [
        "model = model_fn(keras.layers.Dropout(0.3))\r\n",
        "model.load_weights('model-weights.h5')"
      ],
      "outputs": [],
      "metadata": {
        "id": "ZlECoAcLiT-K"
      }
    },
    {
      "cell_type": "markdown",
      "source": [
        "훈련하지 않은 새로운 모델을 만들고 이전에 저장했던 모델 파라미터를 적재했다. 이때 사용하는 메서드는 **load_weight() 메서드**이다.\n",
        "\n",
        "* load_weights() 메서드를 사용하려면 save_weights() 메서드로 저장했던 모델과 정확히 같은 구조를 가져야한다.\n",
        "\n",
        "이 모델의 검증 정확도를 확인해보자. 패션 MNIST 데이터셋은 다중 분류 문제이므로 케라스의 **predict() 메서드**는 샘플마다 10개의 클래스에 대한 확률을 반환한다. 패션 MNIST 데이터셋에서 덜어낸 검증 세트의 샘플은 12,000개이므로 predict() 메서드는 (12000, 10) 크기의 배열을 반환한다. 10개의 확률 중에 가장 큰 값의 인덱스를 골라 타깃 레이블과 비교하여 정확도를 계산해보자.\n",
        "\n",
        "* 모델 파라미터를 읽은 후 evaluate() 메서드를 사용하여 정확도를 출력할 수 있지만, **evaluate() 메서드는 손실을 계산하기 위해 먼저 compile() 메서드를 실행해야한다**. 여기서는 새로운 데이터에 대해 정확도만 계산하면 되는 상황이라고 가정하자."
      ],
      "metadata": {
        "id": "FAGtSRjBA2Oa"
      }
    },
    {
      "cell_type": "code",
      "execution_count": 23,
      "source": [
        "import numpy as np\r\n",
        "val_labels = np.argmax(model.predict(val_scaled), axis = -1)\r\n",
        "print(np.mean(val_labels == val_target))"
      ],
      "outputs": [
        {
          "output_type": "stream",
          "name": "stdout",
          "text": [
            "0.881\n"
          ]
        }
      ],
      "metadata": {
        "colab": {
          "base_uri": "https://localhost:8080/"
        },
        "id": "n3dJJ30Nikjy",
        "outputId": "17cb8622-02e1-452a-93ef-8425e776f238"
      }
    },
    {
      "cell_type": "markdown",
      "source": [
        "argmax() 함수의 axis = -1은 배열의 마지막 차원을 따라 최댓값을 고른다. 즉, axis = 1과 동일한 코드이다.\n",
        "\n",
        "* axis = 0이면 행을 따라 열의 최댓값 인덱스를 선택하고 axis = 1이면 열을 따라 행의 최댓값 인덱스를 선택한다."
      ],
      "metadata": {
        "id": "ruq32xGKB9Gc"
      }
    },
    {
      "cell_type": "markdown",
      "source": [
        "이번에는 모델 전체를 파일에서 읽고 검증 세트의 정확도를 출력해보자. 케라스의 **load_model() 함수**를 사용하면 된다."
      ],
      "metadata": {
        "id": "4egNojpWCR4B"
      }
    },
    {
      "cell_type": "code",
      "execution_count": 24,
      "source": [
        "model = keras.models.load_model('model-whole.h5')\r\n",
        "model.evaluate(val_scaled, val_target)"
      ],
      "outputs": [
        {
          "output_type": "stream",
          "name": "stdout",
          "text": [
            "375/375 [==============================] - 1s 1ms/step - loss: 0.3246 - accuracy: 0.8810\n"
          ]
        },
        {
          "output_type": "execute_result",
          "data": {
            "text/plain": [
              "[0.32456499338150024, 0.8809999823570251]"
            ]
          },
          "metadata": {},
          "execution_count": 24
        }
      ],
      "metadata": {
        "colab": {
          "base_uri": "https://localhost:8080/"
        },
        "id": "eJCZC6LXjznC",
        "outputId": "f91301f0-dd6c-4262-97f4-7ef9ee490802"
      }
    },
    {
      "cell_type": "markdown",
      "source": [
        "* load_model() 함수는 모델 파라미터뿐만 아니라 모델 구조와 옵티마이저 상태까지 모두 복원하여 evaluate() 메서드를 사용할 수 있다."
      ],
      "metadata": {
        "id": "d0USzvy3G8wk"
      }
    },
    {
      "cell_type": "markdown",
      "source": [
        "지금까지 20번의 에포크 동안 모델을 훈련하여 검증 점수가 상승하는 지점을 확인했다. 그리고 모델이 과대적합 되지 않는 에포크만큼 다시 훈련했다. 모델을 두 번씩 훈련하지 않고 한 번에 끝낼 수는 없을까?"
      ],
      "metadata": {
        "id": "tprN2rkwHAhU"
      }
    },
    {
      "cell_type": "markdown",
      "source": [
        "**'콜백(callback)'**은 훈련 과정 중간에 어떤 작업을 수행할 수 있게 하는 객체로 keras.callbacks 패키지 아래에 있는 클래스들이다. fit() 메서드의 callbacks 매개변수에 리스트로 전달하여 사용한다. 우리는 **ModelCheckpoint 콜백**을 사용할 것이다. ModelCheckpoint 콜백은 기본적으로 에포크마다 모델을 저장한다. **save_best_only 매개변수**를 True로 지정하여 가장 낮은 검증 점수를 만드는 모델을 저장할 수 있다. 저장될 파일 이름을 'best-model.h5'로 지정하여 콜백을 적용해보자."
      ],
      "metadata": {
        "id": "pKr5mafHHDPM"
      }
    },
    {
      "cell_type": "code",
      "execution_count": 25,
      "source": [
        "model = model_fn(keras.layers.Dropout(0.3))\r\n",
        "model.compile(optimizer = 'adam', loss = 'sparse_categorical_crossentropy', metrics = 'accuracy')\r\n",
        "checkpoint_cb = keras.callbacks.ModelCheckpoint('best-model.h5', save_best_only = True)\r\n",
        "model.fit(train_scaled, train_target, epochs = 20, verbose = 0, validation_data = (val_scaled, val_target), callbacks = [checkpoint_cb])"
      ],
      "outputs": [
        {
          "output_type": "execute_result",
          "data": {
            "text/plain": [
              "<keras.callbacks.History at 0x7f2f9e1cbe50>"
            ]
          },
          "metadata": {},
          "execution_count": 25
        }
      ],
      "metadata": {
        "colab": {
          "base_uri": "https://localhost:8080/"
        },
        "id": "8sUVDp0mkTl8",
        "outputId": "d4a3c8b8-d5a3-404f-a08e-68c23ca4288e"
      }
    },
    {
      "cell_type": "markdown",
      "source": [
        "이 모델을 load_mo최상의 검증 점수를 낸 모델을 load_model() 함수로 다시 읽어서 예측을 수행해보자."
      ],
      "metadata": {
        "id": "kOpvLPVBHNSU"
      }
    },
    {
      "cell_type": "code",
      "execution_count": 26,
      "source": [
        "model = keras.models.load_model('best-model.h5')\r\n",
        "model.evaluate(val_scaled, val_target)"
      ],
      "outputs": [
        {
          "output_type": "stream",
          "name": "stdout",
          "text": [
            "375/375 [==============================] - 1s 1ms/step - loss: 0.3127 - accuracy: 0.8899\n"
          ]
        },
        {
          "output_type": "execute_result",
          "data": {
            "text/plain": [
              "[0.3126643896102905, 0.8899166584014893]"
            ]
          },
          "metadata": {},
          "execution_count": 26
        }
      ],
      "metadata": {
        "colab": {
          "base_uri": "https://localhost:8080/"
        },
        "id": "1c4uEbmWlemb",
        "outputId": "b49209d9-a4f0-4992-e7b3-af4751c37a57"
      }
    },
    {
      "cell_type": "markdown",
      "source": [
        "ModelCheckpoint 콜백이 가장 낮은 검증 점수의 모델을 자동으로 저장해 준다. 하지만 여전히 20번의 에포크 동안 훈련을 한다.\n",
        "\n",
        "검증 점수가 상승하기 시작하면 그 이후에는 과대적합이 더 커지기 때문에 훈련을 계속할 필요가 없다. 이때 훈련을 중지하면 컴퓨터 자원과 시간을 아낄 수 있다. 이렇게 과대적합이 시작되기 전에 훈련을 미리 중지하는 것을 '조기 종료(early stopping)'라고 부른다.\n",
        "\n",
        "조기 종료는 훈련 에포크 횟수를 제한하는 역할이지만 모델이 과대적합되는 것을 막아주기 때문에 규제 방법 중 하나라고 생각할 수 있다.\n",
        "\n",
        "케라스에는 조기 종료를 위해 **EarlyStopping 콜백**을 제공한다. 이 콜백의 **patience 매개변수**는 검증 점수가 향상되지 않더라도 참을 에포크 횟수로 지정한다. 예를 들어 patience를 2로 지정하면 2번 연속 검증 점수가 향상되지 않으면 훈련을 중지한다. 또한 **restore_best_weights 매개변수**를 True로 지정하면 가장 낮은 검증 손실을 낸 모델 파라미터로 되돌린다.\n",
        "\n",
        "EarlyStopping 콜백을 ModelCheckpoint 콜백과 함께 사용하면 가장 낮은 검증 손실의 모델을 파일에 저장하고 검증 손실이 다시 상승할 때 훈련을 중지할 수 있다. 또한 훈련을 중지한 다음 현재 모델의 파라미터를 최상의 파라미터로 되돌린다."
      ],
      "metadata": {
        "id": "iOxUMs_9DhKz"
      }
    },
    {
      "cell_type": "code",
      "execution_count": 27,
      "source": [
        "model = model_fn(keras.layers.Dropout(0.3))\r\n",
        "model.compile(optimizer = 'adam', loss = 'sparse_categorical_crossentropy', metrics = 'accuracy')\r\n",
        "checkpoint_cb = keras.callbacks.ModelCheckpoint('best-model.h5', save_best_only = True)\r\n",
        "early_stopping_cb = keras.callbacks.EarlyStopping(patience = 2, restore_best_weights = True)\r\n",
        "history = model.fit(train_scaled, train_target, epochs = 20, verbose = 0, validation_data = (val_scaled, val_target), callbacks = [checkpoint_cb, early_stopping_cb])"
      ],
      "outputs": [],
      "metadata": {
        "id": "K-odkeWdl7Or"
      }
    },
    {
      "cell_type": "markdown",
      "source": [
        "훈련을 마치고 몇 번째 에포크에서 훈련이 중지되었는지 early_stopping_cb 객체의 **stopped_epoch 속성**에서 확인할 수 있다."
      ],
      "metadata": {
        "id": "876rRvu4Is5c"
      }
    },
    {
      "cell_type": "code",
      "execution_count": 28,
      "source": [
        "print(early_stopping_cb.stopped_epoch)"
      ],
      "outputs": [
        {
          "output_type": "stream",
          "name": "stdout",
          "text": [
            "9\n"
          ]
        }
      ],
      "metadata": {
        "colab": {
          "base_uri": "https://localhost:8080/"
        },
        "id": "0DZP7ZTnnVbb",
        "outputId": "d8acf4a3-262a-4087-be4f-5d9bcb3ff743"
      }
    },
    {
      "cell_type": "markdown",
      "source": [
        "에포크 횟수는 0부터 시작하므로 열 번째 에포크에서 훈련이 중지되었음을 의미한다. patience를 2로 지정했으니 최상의 모델은 여덟 번째 에포크일 것이다.\r\n",
        "\r\n",
        "훈련 손실과 검증 손실을 출력해보자."
      ],
      "metadata": {
        "id": "EU8orQBII8uX"
      }
    },
    {
      "cell_type": "code",
      "execution_count": 29,
      "source": [
        "plt.plot(history.history['loss'])\r\n",
        "plt.plot(history.history['val_loss'])\r\n",
        "plt.xlabel('epoch')\r\n",
        "plt.ylabel('loss')\r\n",
        "plt.legend(['train', 'val'])\r\n",
        "plt.show()"
      ],
      "outputs": [
        {
          "output_type": "display_data",
          "data": {
            "text/plain": [
              "<Figure size 432x288 with 1 Axes>"
            ],
            "image/png": "[encoded data removed]"
          },
          "metadata": {
            "needs_background": "light"
          }
        }
      ],
      "metadata": {
        "colab": {
          "base_uri": "https://localhost:8080/",
          "height": 279
        },
        "id": "jyZAkgjEngRb",
        "outputId": "2bd85674-6932-44fc-ce87-5f7a03726bd5"
      }
    },
    {
      "cell_type": "markdown",
      "source": [
        "여덟 번째 에포크에서 가장 낮은 손실을 기록했고 열 번째 에포크에서 훈련이 중지되었다. 조기 종료 기법을 사용하면 에포크 횟수를 크게 지정해도 괜찮다. 컴퓨터 자원과 시간을 아낄 수 있고 ModelCheckpoint 콜백과 함께 사용하면 최상의 모델을 자동으로 저장하므로 편리하다."
      ],
      "metadata": {
        "id": "Lud0hfdgJNOX"
      }
    },
    {
      "cell_type": "markdown",
      "source": [
        "마지막으로 조기 종료로 얻은 모델을 사용해 검증 세트에 대한 성능을 확인해보자."
      ],
      "metadata": {
        "id": "pwC50wyQJi8k"
      }
    },
    {
      "cell_type": "code",
      "execution_count": 30,
      "source": [
        "model.evaluate(val_scaled, val_target)"
      ],
      "outputs": [
        {
          "output_type": "stream",
          "name": "stdout",
          "text": [
            "375/375 [==============================] - 1s 1ms/step - loss: 0.3277 - accuracy: 0.8823\n"
          ]
        },
        {
          "output_type": "execute_result",
          "data": {
            "text/plain": [
              "[0.32772162556648254, 0.8823333382606506]"
            ]
          },
          "metadata": {},
          "execution_count": 30
        }
      ],
      "metadata": {
        "colab": {
          "base_uri": "https://localhost:8080/"
        },
        "id": "PGYzQydXJoXM",
        "outputId": "22a4df8b-a5d9-4dc6-f124-0d1e9b565b5d"
      }
    },
    {
      "cell_type": "markdown",
      "source": [
        "# 정리\n",
        "\n",
        "핵심 포인트\n",
        "* 드롭아웃: **은닉층에 있는 뉴런의 출력을 랜덤하게 꺼서 과대적합을 막는 기법**이다. 드롭아웃은 훈련 중에 적용되며 평가나 예측에서는 적용하지 않는다.\n",
        "* 콜백: **케라스 모델을 훈련하는 도중 어떤 작업을 수행할 수 있도록 도와주는 도구**이다. 대표적으로 최상의 모델을 자동으로 저장해 주거나 검증 점수가 더 이상 향상되지 않으면 일찍 종료하는 클래스 들이 있다.\n",
        "* 조기 종료: **검증 점수가 더 이상 감소하지 않고 상승하여 과대적합이 일어나면 훈련을 계속 진행하지 않고 멈추는 기법**이다. 계산 비용과 시간을 절약할 수 있다.\n",
        "\n",
        "핵심 패키지와 함수\n",
        "\n",
        "TensorFlow\n",
        "* Dropout: **드롭아웃 층**이다. 첫 번째 매개변수로 **드롭아웃 할 비율(r)**을 지정한다. 드롭아웃 하지 않는 뉴런의 출력은 1/(1-r)만큼 증가시켜 출력의 총합이 같도록 만든다.\n",
        "* save_weights(): **모든 층의 가중치와 절편을 파일에 저장한다.** 첫 번째 매개변수에 저장할 파일을 지정한다.\n",
        "* load_weigths(): **모든 층의 가중치와 절편을 파일에 읽는다.** 첫 번재 매개변수에 읽을 파일을 지정한다.\n",
        "* save(): **모델 구조와 모든 가중치와 절편을 파일에 저장한다.** 첫 번재 매개변수에 저장할 파일을 지정한다.\n",
        "* load_model(): **model_save() 로 저장된 모델을 로드한다.** 첫 번째 매개변수에 읽을 파일을 지정한다.\n",
        "* ModelCheckpoint: **케라스 모델과 가중치를 일정 간격으로 저장한다.** 첫 번째 매개변수에 저장할 파일을 지정한다. **monitor 매개변수**는 모니터링할 지표를 저장한다. 기본값은 'val_loss'로 검증 손실을 관찰한다. **save_weights_only 매개변수**의 기본값은 False로 전체 모델을 저장한다. True로 지정하면 모델의 가중치와 절편만 저장한다. **save_best_only 매개변수**를 True로 지정하면 가장 낮은 검증 점수를 만드는 모델을 저장한다.\n",
        "* Earlystopping: **관심 지표가 더이상 향상하지 않으면 훈련을 중지한다.** **monitor 매개변수**는 모니터링할 지표를 지정한다. 기본값은 'val_loss'로 검증 손실을 관찰한다. **patience 매개변수**에 모델이 더이상 향상되지 않고 지속할 수 있는 최대 에포크 횟수를 지정한다. **restore_best_weights 매개변수**에 최상의 모델 가중치를 복원할지 지정한다. 기본값은 False이다.\n",
        "\n",
        "Numpy\n",
        "* argmax: **배열에서 축을 따라 최댓값의 인덱스를 반환한다.** axis 매개변수에서 어떤 축을 따라 최댓값을 찾을지 지정한다. 기본값은 None으로 전체 배열에서 최댓값을 찾는다.\n"
      ],
      "metadata": {
        "id": "Zqt4DCqMJxHE"
      }
    }
  ]
}