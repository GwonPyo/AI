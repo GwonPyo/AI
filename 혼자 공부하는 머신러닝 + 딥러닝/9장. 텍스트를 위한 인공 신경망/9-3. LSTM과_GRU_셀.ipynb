{
  "nbformat": 4,
  "nbformat_minor": 0,
  "metadata": {
    "colab": {
      "name": "9-3. LSTM과 GRU 셀.ipynb",
      "provenance": [],
      "collapsed_sections": []
    },
    "kernelspec": {
      "name": "python3",
      "display_name": "Python 3"
    },
    "language_info": {
      "name": "python"
    }
  },
  "cells": [
    {
      "cell_type": "markdown",
      "metadata": {
        "id": "H-hjUfhI_kxb"
      },
      "source": [
        "이번에는 SimpleRNN보다 복잡한 순환층인 **LSTM**와 **GRU**에 대해 알아보자. SimpleRNN보다 복잡하지만 성능이 뛰어나 순환 신경망에 많이 채택되고 있다."
      ]
    },
    {
      "cell_type": "markdown",
      "metadata": {
        "id": "ji7qF3DoACtB"
      },
      "source": [
        "LSTM은 **Long Short-Term Memory**의 약자이다. 말 그대로 단기 기억을 오래 기억하기 위해 고안되었다. \n",
        "\n",
        "LSTM에는 **입력과 가중치를 곱하고 절편을 더해 활성화 함수를 통과시키는 구조를 여러 개 가지고 있다**. 이런 계산 결과는 다음 타임스텝에 재사용된다.\n",
        "\n",
        "먼저 은닉 상태를 만드는 방법을 알아보자. 은닉 상태는 입력과 이전 타임스텝의 은닉 상태를 가중치에 곱한 후 활성화 함수를 통과시켜 다음 은닉 상태를 만든다. 이때 기본 순환층과는 달리 **시그모이드 활성화 함수를 사용**한다. \n",
        "\n",
        "LSTM에는 순환되는 상태가 2개이다. 하나는 은닉 상태, 다른 하나는 **'셀 상태(cell state)'**이다. 은닉 상태와 달리 셀 상태는 다음 층으로 전달되지 않고 LSTM 셀에서 순환만 되는 값이다.\n",
        "\n",
        "셀 상태를 계산하는 방법은 다음과 같다. 먼저 **입력과 은닉 상태를 또 다른 가중치에 곱한 다음 시그모이드 함수를 통과시킨다**. 그 다음 이전 타임스텝의 셀 상태와 곱하여 새로운 셀 상태를 만든다. \n",
        "\n",
        "여기에 2개의 작은 셀이 더 추가되어 셀 상태를 만드는 데 기여한다. 이전과 마찬가지로 입력과 은닉 상태를 각기 다른 가중치에 곱한 다음, **하나는 시그모이드 함수를 통과시키고 다른 하나는 tanh 함수를 통과**시킨다. 그 다음 두 결과를 곱한 후 이전 셀 상태와 더한다. 이후 만들어진 셀 상태를 tanh 함수를 통과시켜 처음 시그모이드 함수를 통과했던 은닉 상태와 곱하면 최종 은닉 상태가 출력된다.\n",
        "\n",
        "* 시그모이드 함수는 3번, tanh 함수는 2번 사용한다.\n",
        "\n",
        "총 3번의 곱셈 계산을 했는데 이를 다음과 같이 부른다.\n",
        "* 이전 셀 상태와 곱하는 계산: **삭제 게이트(gate)**\n",
        "* 시그모이드 함수와 tanh 함수를 통과한 두 결과를 곱하는 계산: **입력 게이트**\n",
        "* 최종 셀 상태를 tanh함수에 통과시키고 시그모이드 함수에 통과 시켰던 은닉 상태와 곱하는 계산: **출력 게이트**\n",
        "\n",
        "삭제 게이트는 셀 상태에 있는 정보를 제거하는 역할을 하고 입력 게이트는 새로운 정보를 셀 상태에 추가한다. 출력 게이트를 통해 이 셀 상태가 다음 은닉 상태로 출력된다."
      ]
    },
    {
      "cell_type": "markdown",
      "metadata": {
        "id": "s5zY76NZRTdw"
      },
      "source": [
        "먼저 IMDB 리뷰 데이터를 로드하고 훈련 세트와 검증 세트로 나누어보자."
      ]
    },
    {
      "cell_type": "code",
      "metadata": {
        "id": "QlSw7rW3zQ2Z",
        "colab": {
          "base_uri": "https://localhost:8080/"
        },
        "outputId": "3524ea03-1c19-45f7-cbf6-58b92e790406"
      },
      "source": [
        "from tensorflow.keras.datasets import imdb\n",
        "from sklearn.model_selection import train_test_split\n",
        "(train_input, train_target), (test_input, test_target) = imdb.load_data(num_words = 500)\n",
        "train_input, val_input, train_target, val_target = train_test_split(train_input, train_target, test_size = 0.2, random_state = 42)"
      ],
      "execution_count": null,
      "outputs": [
        {
          "output_type": "stream",
          "name": "stdout",
          "text": [
            "Downloading data from https://storage.googleapis.com/tensorflow/tf-keras-datasets/imdb.npz\n",
            "17465344/17464789 [==============================] - 0s 0us/step\n",
            "17473536/17464789 [==============================] - 0s 0us/step\n"
          ]
        }
      ]
    },
    {
      "cell_type": "markdown",
      "metadata": {
        "id": "--Kvuu4xRXfI"
      },
      "source": [
        "샘플의 길이를 100으로 맞추자."
      ]
    },
    {
      "cell_type": "code",
      "metadata": {
        "id": "OBLKq2uIlHMS"
      },
      "source": [
        "from tensorflow.keras.preprocessing.sequence import pad_sequences\n",
        "train_seq = pad_sequences(train_input, maxlen = 100)\n",
        "val_seq = pad_sequences(val_input, maxlen = 100)"
      ],
      "execution_count": null,
      "outputs": []
    },
    {
      "cell_type": "markdown",
      "metadata": {
        "id": "ZuzSA69nRam4"
      },
      "source": [
        "LSTM 셀을 사용한 순환층을 만들어 보자. 케라스에서는 **LSTM 클래스**로 해당 기능을 제공한다."
      ]
    },
    {
      "cell_type": "code",
      "metadata": {
        "id": "v86odCmZlhGR"
      },
      "source": [
        "from tensorflow import keras\n",
        "model = keras.Sequential()\n",
        "model.add(keras.layers.Embedding(500, 16, input_length = 100))\n",
        "model.add(keras.layers.LSTM(8))\n",
        "model.add(keras.layers.Dense(1, activation = 'sigmoid'))"
      ],
      "execution_count": null,
      "outputs": []
    },
    {
      "cell_type": "markdown",
      "metadata": {
        "id": "Kkr96TQhRiVp"
      },
      "source": [
        "모델 구조를 출력해보자."
      ]
    },
    {
      "cell_type": "code",
      "metadata": {
        "colab": {
          "base_uri": "https://localhost:8080/"
        },
        "id": "waTYf5Hzl9lo",
        "outputId": "487ccd71-485b-4a09-f6c0-00f1ac0cb886"
      },
      "source": [
        "model.summary()"
      ],
      "execution_count": null,
      "outputs": [
        {
          "output_type": "stream",
          "name": "stdout",
          "text": [
            "Model: \"sequential_3\"\n",
            "_________________________________________________________________\n",
            "Layer (type)                 Output Shape              Param #   \n",
            "=================================================================\n",
            "embedding_3 (Embedding)      (None, 100, 16)           8000      \n",
            "_________________________________________________________________\n",
            "lstm_3 (LSTM)                (None, 8)                 800       \n",
            "_________________________________________________________________\n",
            "dense_3 (Dense)              (None, 1)                 9         \n",
            "=================================================================\n",
            "Total params: 8,809\n",
            "Trainable params: 8,809\n",
            "Non-trainable params: 0\n",
            "_________________________________________________________________\n"
          ]
        }
      ]
    },
    {
      "cell_type": "markdown",
      "metadata": {
        "id": "6uJ82MbrRlao"
      },
      "source": [
        "단순 신경망의 경우 16 × 8 ＋ 8 × 8 ＋ 8 = 200 개의 파라미터를 가진다. LSTM은 총 4개의 작은 셀이 존재하므로 정확히 4배의 파라미터를 가진다.\n",
        "\n",
        "모델을 컴파일 하고 훈련해보자. 배치크기는 64, 에프크 횟수는 100으로 지정하자."
      ]
    },
    {
      "cell_type": "code",
      "metadata": {
        "colab": {
          "base_uri": "https://localhost:8080/"
        },
        "id": "uoJfYt85l_w4",
        "outputId": "80ac6322-72d2-4ee0-914c-70d17c9c00d1"
      },
      "source": [
        "rmsprop = keras.optimizers.RMSprop(learning_rate = 1e-4)\n",
        "model.compile(optimizer = rmsprop, loss = 'binary_crossentropy', metrics = ['accuracy'])\n",
        "checkpoint_cb = keras.callbacks.ModelCheckpoint(\"best-lstm-model.h5\", save_best_only = True)\n",
        "early_stopping_cb = keras.callbacks.EarlyStopping(patience = 3, restore_best_weights = True)\n",
        "history = model.fit(train_seq, train_target, epochs = 100, batch_size = 64, validation_data = (val_seq, val_target), callbacks = [checkpoint_cb, early_stopping_cb])"
      ],
      "execution_count": null,
      "outputs": [
        {
          "output_type": "stream",
          "name": "stdout",
          "text": [
            "Epoch 1/100\n",
            "313/313 [==============================] - 19s 50ms/step - loss: 0.6921 - accuracy: 0.5324 - val_loss: 0.6907 - val_accuracy: 0.5760\n",
            "Epoch 2/100\n",
            "313/313 [==============================] - 15s 48ms/step - loss: 0.6882 - accuracy: 0.6092 - val_loss: 0.6849 - val_accuracy: 0.6328\n",
            "Epoch 3/100\n",
            "313/313 [==============================] - 16s 50ms/step - loss: 0.6762 - accuracy: 0.6586 - val_loss: 0.6628 - val_accuracy: 0.6804\n",
            "Epoch 4/100\n",
            "313/313 [==============================] - 15s 49ms/step - loss: 0.6165 - accuracy: 0.7063 - val_loss: 0.5774 - val_accuracy: 0.7232\n",
            "Epoch 5/100\n",
            "313/313 [==============================] - 15s 47ms/step - loss: 0.5575 - accuracy: 0.7417 - val_loss: 0.5466 - val_accuracy: 0.7422\n",
            "Epoch 6/100\n",
            "313/313 [==============================] - 15s 48ms/step - loss: 0.5326 - accuracy: 0.7572 - val_loss: 0.5309 - val_accuracy: 0.7484\n",
            "Epoch 7/100\n",
            "313/313 [==============================] - 16s 50ms/step - loss: 0.5126 - accuracy: 0.7674 - val_loss: 0.5109 - val_accuracy: 0.7690\n",
            "Epoch 8/100\n",
            "313/313 [==============================] - 15s 48ms/step - loss: 0.4952 - accuracy: 0.7779 - val_loss: 0.4973 - val_accuracy: 0.7760\n",
            "Epoch 9/100\n",
            "313/313 [==============================] - 15s 48ms/step - loss: 0.4805 - accuracy: 0.7856 - val_loss: 0.4848 - val_accuracy: 0.7834\n",
            "Epoch 10/100\n",
            "313/313 [==============================] - 15s 47ms/step - loss: 0.4682 - accuracy: 0.7906 - val_loss: 0.4754 - val_accuracy: 0.7844\n",
            "Epoch 11/100\n",
            "313/313 [==============================] - 15s 48ms/step - loss: 0.4584 - accuracy: 0.7969 - val_loss: 0.4726 - val_accuracy: 0.7878\n",
            "Epoch 12/100\n",
            "313/313 [==============================] - 15s 47ms/step - loss: 0.4500 - accuracy: 0.8003 - val_loss: 0.4617 - val_accuracy: 0.7856\n",
            "Epoch 13/100\n",
            "313/313 [==============================] - 15s 47ms/step - loss: 0.4434 - accuracy: 0.8023 - val_loss: 0.4559 - val_accuracy: 0.7928\n",
            "Epoch 14/100\n",
            "313/313 [==============================] - 15s 48ms/step - loss: 0.4380 - accuracy: 0.8060 - val_loss: 0.4543 - val_accuracy: 0.7912\n",
            "Epoch 15/100\n",
            "313/313 [==============================] - 15s 48ms/step - loss: 0.4342 - accuracy: 0.8064 - val_loss: 0.4535 - val_accuracy: 0.7940\n",
            "Epoch 16/100\n",
            "313/313 [==============================] - 15s 47ms/step - loss: 0.4301 - accuracy: 0.8070 - val_loss: 0.4487 - val_accuracy: 0.7938\n",
            "Epoch 17/100\n",
            "313/313 [==============================] - 15s 47ms/step - loss: 0.4279 - accuracy: 0.8094 - val_loss: 0.4456 - val_accuracy: 0.7952\n",
            "Epoch 18/100\n",
            "313/313 [==============================] - 15s 49ms/step - loss: 0.4255 - accuracy: 0.8109 - val_loss: 0.4464 - val_accuracy: 0.7918\n",
            "Epoch 19/100\n",
            "313/313 [==============================] - 15s 49ms/step - loss: 0.4232 - accuracy: 0.8111 - val_loss: 0.4432 - val_accuracy: 0.7958\n",
            "Epoch 20/100\n",
            "313/313 [==============================] - 16s 51ms/step - loss: 0.4211 - accuracy: 0.8114 - val_loss: 0.4419 - val_accuracy: 0.7964\n",
            "Epoch 21/100\n",
            "313/313 [==============================] - 15s 48ms/step - loss: 0.4195 - accuracy: 0.8119 - val_loss: 0.4423 - val_accuracy: 0.7946\n",
            "Epoch 22/100\n",
            "313/313 [==============================] - 15s 49ms/step - loss: 0.4176 - accuracy: 0.8134 - val_loss: 0.4411 - val_accuracy: 0.7968\n",
            "Epoch 23/100\n",
            "313/313 [==============================] - 16s 52ms/step - loss: 0.4163 - accuracy: 0.8138 - val_loss: 0.4392 - val_accuracy: 0.7982\n",
            "Epoch 24/100\n",
            "313/313 [==============================] - 16s 50ms/step - loss: 0.4147 - accuracy: 0.8143 - val_loss: 0.4379 - val_accuracy: 0.7966\n",
            "Epoch 25/100\n",
            "313/313 [==============================] - 17s 55ms/step - loss: 0.4135 - accuracy: 0.8134 - val_loss: 0.4397 - val_accuracy: 0.7986\n",
            "Epoch 26/100\n",
            "313/313 [==============================] - 16s 50ms/step - loss: 0.4126 - accuracy: 0.8152 - val_loss: 0.4368 - val_accuracy: 0.7966\n",
            "Epoch 27/100\n",
            "313/313 [==============================] - 16s 51ms/step - loss: 0.4116 - accuracy: 0.8146 - val_loss: 0.4357 - val_accuracy: 0.7992\n",
            "Epoch 28/100\n",
            "313/313 [==============================] - 15s 49ms/step - loss: 0.4105 - accuracy: 0.8148 - val_loss: 0.4345 - val_accuracy: 0.7988\n",
            "Epoch 29/100\n",
            "313/313 [==============================] - 16s 51ms/step - loss: 0.4093 - accuracy: 0.8156 - val_loss: 0.4344 - val_accuracy: 0.8008\n",
            "Epoch 30/100\n",
            "313/313 [==============================] - 16s 51ms/step - loss: 0.4089 - accuracy: 0.8159 - val_loss: 0.4351 - val_accuracy: 0.7932\n",
            "Epoch 31/100\n",
            "313/313 [==============================] - 15s 49ms/step - loss: 0.4078 - accuracy: 0.8151 - val_loss: 0.4337 - val_accuracy: 0.7966\n",
            "Epoch 32/100\n",
            "313/313 [==============================] - 16s 51ms/step - loss: 0.4067 - accuracy: 0.8170 - val_loss: 0.4341 - val_accuracy: 0.8010\n",
            "Epoch 33/100\n",
            "313/313 [==============================] - 15s 48ms/step - loss: 0.4063 - accuracy: 0.8163 - val_loss: 0.4337 - val_accuracy: 0.8030\n",
            "Epoch 34/100\n",
            "313/313 [==============================] - 15s 47ms/step - loss: 0.4051 - accuracy: 0.8180 - val_loss: 0.4318 - val_accuracy: 0.8034\n",
            "Epoch 35/100\n",
            "313/313 [==============================] - 15s 47ms/step - loss: 0.4046 - accuracy: 0.8173 - val_loss: 0.4327 - val_accuracy: 0.8040\n",
            "Epoch 36/100\n",
            "313/313 [==============================] - 15s 47ms/step - loss: 0.4034 - accuracy: 0.8176 - val_loss: 0.4348 - val_accuracy: 0.8028\n",
            "Epoch 37/100\n",
            "313/313 [==============================] - 15s 47ms/step - loss: 0.4031 - accuracy: 0.8177 - val_loss: 0.4312 - val_accuracy: 0.8034\n",
            "Epoch 38/100\n",
            "313/313 [==============================] - 15s 47ms/step - loss: 0.4025 - accuracy: 0.8180 - val_loss: 0.4292 - val_accuracy: 0.8030\n",
            "Epoch 39/100\n",
            "313/313 [==============================] - 14s 46ms/step - loss: 0.4015 - accuracy: 0.8186 - val_loss: 0.4308 - val_accuracy: 0.8012\n",
            "Epoch 40/100\n",
            "313/313 [==============================] - 14s 46ms/step - loss: 0.4009 - accuracy: 0.8186 - val_loss: 0.4292 - val_accuracy: 0.8024\n",
            "Epoch 41/100\n",
            "313/313 [==============================] - 15s 46ms/step - loss: 0.4003 - accuracy: 0.8190 - val_loss: 0.4291 - val_accuracy: 0.8052\n",
            "Epoch 42/100\n",
            "313/313 [==============================] - 15s 46ms/step - loss: 0.3998 - accuracy: 0.8195 - val_loss: 0.4278 - val_accuracy: 0.8046\n",
            "Epoch 43/100\n",
            "313/313 [==============================] - 14s 46ms/step - loss: 0.3992 - accuracy: 0.8205 - val_loss: 0.4281 - val_accuracy: 0.8034\n",
            "Epoch 44/100\n",
            "313/313 [==============================] - 15s 47ms/step - loss: 0.3980 - accuracy: 0.8212 - val_loss: 0.4306 - val_accuracy: 0.8030\n",
            "Epoch 45/100\n",
            "313/313 [==============================] - 15s 47ms/step - loss: 0.3974 - accuracy: 0.8205 - val_loss: 0.4269 - val_accuracy: 0.8062\n",
            "Epoch 46/100\n",
            "313/313 [==============================] - 15s 47ms/step - loss: 0.3967 - accuracy: 0.8185 - val_loss: 0.4268 - val_accuracy: 0.8056\n",
            "Epoch 47/100\n",
            "313/313 [==============================] - 15s 47ms/step - loss: 0.3964 - accuracy: 0.8203 - val_loss: 0.4267 - val_accuracy: 0.8064\n",
            "Epoch 48/100\n",
            "313/313 [==============================] - 15s 48ms/step - loss: 0.3956 - accuracy: 0.8206 - val_loss: 0.4255 - val_accuracy: 0.8068\n",
            "Epoch 49/100\n",
            "313/313 [==============================] - 15s 48ms/step - loss: 0.3949 - accuracy: 0.8208 - val_loss: 0.4263 - val_accuracy: 0.8062\n",
            "Epoch 50/100\n",
            "313/313 [==============================] - 15s 47ms/step - loss: 0.3941 - accuracy: 0.8207 - val_loss: 0.4252 - val_accuracy: 0.8058\n",
            "Epoch 51/100\n",
            "313/313 [==============================] - 15s 47ms/step - loss: 0.3937 - accuracy: 0.8207 - val_loss: 0.4268 - val_accuracy: 0.8042\n",
            "Epoch 52/100\n",
            "313/313 [==============================] - 15s 47ms/step - loss: 0.3930 - accuracy: 0.8207 - val_loss: 0.4271 - val_accuracy: 0.8064\n",
            "Epoch 53/100\n",
            "313/313 [==============================] - 15s 46ms/step - loss: 0.3925 - accuracy: 0.8231 - val_loss: 0.4258 - val_accuracy: 0.8070\n"
          ]
        }
      ]
    },
    {
      "cell_type": "markdown",
      "metadata": {
        "id": "AS_tEBLOSMBP"
      },
      "source": [
        "훈련 손실과 검증 손실을 그려보자."
      ]
    },
    {
      "cell_type": "code",
      "metadata": {
        "colab": {
          "base_uri": "https://localhost:8080/",
          "height": 279
        },
        "id": "c1gOX2VksYmo",
        "outputId": "51305773-167b-42d9-b276-3f9ffaa76c9b"
      },
      "source": [
        "import matplotlib.pyplot as plt\n",
        "plt.plot(history.history['loss'])\n",
        "plt.plot(history.history['val_loss'])\n",
        "plt.xlabel('epoch')\n",
        "plt.ylabel('loss')\n",
        "plt.legend(['train', 'val'])\n",
        "plt.show()"
      ],
      "execution_count": null,
      "outputs": [
        {
          "output_type": "display_data",
          "data": {
            "image/png": "[encoded data removed]",
            "text/plain": [
              "<Figure size 432x288 with 1 Axes>"
            ]
          },
          "metadata": {
            "needs_background": "light"
          }
        }
      ]
    },
    {
      "cell_type": "markdown",
      "metadata": {
        "id": "HbFIjCpGSPMY"
      },
      "source": [
        "기본 순환층보다 LSTM이 과대적합을 잘 억제하면서 훈련을 잘 수행한 것으로 보인다. 하지만 경우에 따라 과대적합을 더 강하게 제어할 필요가 있다."
      ]
    },
    {
      "cell_type": "markdown",
      "metadata": {
        "id": "cMnSLwr9SW8o"
      },
      "source": [
        "사실 순환층에도 드롭아웃 기능을 사용할 수 있다. SimpleRNN과 LSTM 클래스 모두 **dropout 매개변수**와 **recurrent_dropout 매개변수**를 가진다. dropout 매개변수는 셀의 입력에 드롭아웃을 지정하고 recurrent_dropout은 순환되는 은닉 상태에 드롭아웃을 적용한다. 기술적 문제로 recurrent_dropout을 사용하면 GPU를 사용하여 모델을 훈련하지 못한다. 따라서 모델의 훈련 속도가 크게 느려진다. 따라서 우리는 dropout만 사용해 보기로 하자.\n",
        "\n",
        "전체적인 모델 구조는 이전과 동일하며 dropout 매개변수는 0.3으로 지정하자."
      ]
    },
    {
      "cell_type": "code",
      "metadata": {
        "id": "PRm82epMqYtB"
      },
      "source": [
        "model2 = keras.Sequential()\n",
        "model2.add(keras.layers.Embedding(500, 16, input_length = 100))\n",
        "model2.add(keras.layers.LSTM(8, dropout = 0.3))\n",
        "model2.add(keras.layers.Dense(1, activation = 'sigmoid'))"
      ],
      "execution_count": null,
      "outputs": []
    },
    {
      "cell_type": "markdown",
      "metadata": {
        "id": "wNrgtJ48S-rA"
      },
      "source": [
        "모델을 이전과 동일한 조건으로 훈련해보자."
      ]
    },
    {
      "cell_type": "code",
      "metadata": {
        "colab": {
          "base_uri": "https://localhost:8080/"
        },
        "id": "ETI_b0sprJx3",
        "outputId": "abbebbe0-8af3-49e8-b3af-7109c1644510"
      },
      "source": [
        "rmsprop = keras.optimizers.RMSprop(learning_rate = 1e-4)\n",
        "model2.compile(optimizer = rmsprop, loss = 'binary_crossentropy', metrics = ['accuracy'])\n",
        "checkpoint_cb = keras.callbacks.ModelCheckpoint(\"best-dropout-model.h5\", save_best_only = True)\n",
        "early_stopping_cb = keras.callbacks.EarlyStopping(patience = 3, restore_best_weights = True)\n",
        "history = model2.fit(train_seq, train_target, epochs = 100, batch_size = 64, validation_data = (val_seq, val_target), callbacks = [checkpoint_cb, early_stopping_cb])"
      ],
      "execution_count": null,
      "outputs": [
        {
          "output_type": "stream",
          "name": "stdout",
          "text": [
            "Epoch 1/100\n",
            "313/313 [==============================] - 18s 51ms/step - loss: 0.6923 - accuracy: 0.5412 - val_loss: 0.6911 - val_accuracy: 0.5948\n",
            "Epoch 2/100\n",
            "313/313 [==============================] - 16s 51ms/step - loss: 0.6892 - accuracy: 0.5948 - val_loss: 0.6870 - val_accuracy: 0.6446\n",
            "Epoch 3/100\n",
            "313/313 [==============================] - 16s 52ms/step - loss: 0.6807 - accuracy: 0.6377 - val_loss: 0.6720 - val_accuracy: 0.5920\n",
            "Epoch 4/100\n",
            "313/313 [==============================] - 15s 49ms/step - loss: 0.6378 - accuracy: 0.6762 - val_loss: 0.6132 - val_accuracy: 0.7212\n",
            "Epoch 5/100\n",
            "313/313 [==============================] - 15s 48ms/step - loss: 0.5975 - accuracy: 0.7340 - val_loss: 0.5906 - val_accuracy: 0.7310\n",
            "Epoch 6/100\n",
            "313/313 [==============================] - 16s 52ms/step - loss: 0.5765 - accuracy: 0.7490 - val_loss: 0.5693 - val_accuracy: 0.7584\n",
            "Epoch 7/100\n",
            "313/313 [==============================] - 16s 50ms/step - loss: 0.5601 - accuracy: 0.7592 - val_loss: 0.5538 - val_accuracy: 0.7664\n",
            "Epoch 8/100\n",
            "313/313 [==============================] - 15s 49ms/step - loss: 0.5476 - accuracy: 0.7647 - val_loss: 0.5419 - val_accuracy: 0.7662\n",
            "Epoch 9/100\n",
            "313/313 [==============================] - 16s 51ms/step - loss: 0.5335 - accuracy: 0.7722 - val_loss: 0.5295 - val_accuracy: 0.7698\n",
            "Epoch 10/100\n",
            "313/313 [==============================] - 16s 51ms/step - loss: 0.5211 - accuracy: 0.7768 - val_loss: 0.5176 - val_accuracy: 0.7762\n",
            "Epoch 11/100\n",
            "313/313 [==============================] - 17s 56ms/step - loss: 0.5102 - accuracy: 0.7772 - val_loss: 0.5079 - val_accuracy: 0.7796\n",
            "Epoch 12/100\n",
            "313/313 [==============================] - 15s 49ms/step - loss: 0.5008 - accuracy: 0.7818 - val_loss: 0.5000 - val_accuracy: 0.7780\n",
            "Epoch 13/100\n",
            "313/313 [==============================] - 16s 52ms/step - loss: 0.4913 - accuracy: 0.7850 - val_loss: 0.4905 - val_accuracy: 0.7874\n",
            "Epoch 14/100\n",
            "313/313 [==============================] - 16s 50ms/step - loss: 0.4818 - accuracy: 0.7869 - val_loss: 0.4820 - val_accuracy: 0.7840\n",
            "Epoch 15/100\n",
            "313/313 [==============================] - 15s 49ms/step - loss: 0.4750 - accuracy: 0.7876 - val_loss: 0.4763 - val_accuracy: 0.7818\n",
            "Epoch 16/100\n",
            "313/313 [==============================] - 16s 51ms/step - loss: 0.4695 - accuracy: 0.7885 - val_loss: 0.4754 - val_accuracy: 0.7882\n",
            "Epoch 17/100\n",
            "313/313 [==============================] - 17s 54ms/step - loss: 0.4625 - accuracy: 0.7928 - val_loss: 0.4677 - val_accuracy: 0.7844\n",
            "Epoch 18/100\n",
            "313/313 [==============================] - 15s 48ms/step - loss: 0.4559 - accuracy: 0.7940 - val_loss: 0.4608 - val_accuracy: 0.7904\n",
            "Epoch 19/100\n",
            "313/313 [==============================] - 15s 47ms/step - loss: 0.4522 - accuracy: 0.7969 - val_loss: 0.4567 - val_accuracy: 0.7910\n",
            "Epoch 20/100\n",
            "313/313 [==============================] - 15s 48ms/step - loss: 0.4475 - accuracy: 0.7985 - val_loss: 0.4539 - val_accuracy: 0.7922\n",
            "Epoch 21/100\n",
            "313/313 [==============================] - 15s 47ms/step - loss: 0.4451 - accuracy: 0.7993 - val_loss: 0.4514 - val_accuracy: 0.7922\n",
            "Epoch 22/100\n",
            "313/313 [==============================] - 15s 49ms/step - loss: 0.4428 - accuracy: 0.7995 - val_loss: 0.4502 - val_accuracy: 0.7940\n",
            "Epoch 23/100\n",
            "313/313 [==============================] - 15s 48ms/step - loss: 0.4416 - accuracy: 0.7994 - val_loss: 0.4466 - val_accuracy: 0.7944\n",
            "Epoch 24/100\n",
            "313/313 [==============================] - 16s 50ms/step - loss: 0.4372 - accuracy: 0.8044 - val_loss: 0.4438 - val_accuracy: 0.7988\n",
            "Epoch 25/100\n",
            "313/313 [==============================] - 15s 49ms/step - loss: 0.4353 - accuracy: 0.8031 - val_loss: 0.4414 - val_accuracy: 0.7994\n",
            "Epoch 26/100\n",
            "313/313 [==============================] - 15s 47ms/step - loss: 0.4322 - accuracy: 0.8050 - val_loss: 0.4426 - val_accuracy: 0.7974\n",
            "Epoch 27/100\n",
            "313/313 [==============================] - 15s 48ms/step - loss: 0.4303 - accuracy: 0.8083 - val_loss: 0.4402 - val_accuracy: 0.7962\n",
            "Epoch 28/100\n",
            "313/313 [==============================] - 15s 48ms/step - loss: 0.4297 - accuracy: 0.8072 - val_loss: 0.4417 - val_accuracy: 0.7932\n",
            "Epoch 29/100\n",
            "313/313 [==============================] - 15s 48ms/step - loss: 0.4264 - accuracy: 0.8087 - val_loss: 0.4376 - val_accuracy: 0.8000\n",
            "Epoch 30/100\n",
            "313/313 [==============================] - 15s 48ms/step - loss: 0.4246 - accuracy: 0.8080 - val_loss: 0.4345 - val_accuracy: 0.8018\n",
            "Epoch 31/100\n",
            "313/313 [==============================] - 15s 49ms/step - loss: 0.4255 - accuracy: 0.8072 - val_loss: 0.4332 - val_accuracy: 0.8028\n",
            "Epoch 32/100\n",
            "313/313 [==============================] - 15s 49ms/step - loss: 0.4220 - accuracy: 0.8077 - val_loss: 0.4378 - val_accuracy: 0.7954\n",
            "Epoch 33/100\n",
            "313/313 [==============================] - 15s 47ms/step - loss: 0.4214 - accuracy: 0.8073 - val_loss: 0.4353 - val_accuracy: 0.8050\n",
            "Epoch 34/100\n",
            "313/313 [==============================] - 15s 47ms/step - loss: 0.4200 - accuracy: 0.8080 - val_loss: 0.4306 - val_accuracy: 0.8032\n",
            "Epoch 35/100\n",
            "313/313 [==============================] - 15s 49ms/step - loss: 0.4173 - accuracy: 0.8117 - val_loss: 0.4292 - val_accuracy: 0.8058\n",
            "Epoch 36/100\n",
            "313/313 [==============================] - 15s 48ms/step - loss: 0.4176 - accuracy: 0.8099 - val_loss: 0.4300 - val_accuracy: 0.8088\n",
            "Epoch 37/100\n",
            "313/313 [==============================] - 15s 48ms/step - loss: 0.4174 - accuracy: 0.8098 - val_loss: 0.4279 - val_accuracy: 0.8088\n",
            "Epoch 38/100\n",
            "313/313 [==============================] - 15s 48ms/step - loss: 0.4162 - accuracy: 0.8115 - val_loss: 0.4290 - val_accuracy: 0.7978\n",
            "Epoch 39/100\n",
            "313/313 [==============================] - 16s 50ms/step - loss: 0.4151 - accuracy: 0.8104 - val_loss: 0.4303 - val_accuracy: 0.8072\n",
            "Epoch 40/100\n",
            "313/313 [==============================] - 15s 48ms/step - loss: 0.4136 - accuracy: 0.8126 - val_loss: 0.4258 - val_accuracy: 0.8066\n",
            "Epoch 41/100\n",
            "313/313 [==============================] - 15s 48ms/step - loss: 0.4133 - accuracy: 0.8113 - val_loss: 0.4257 - val_accuracy: 0.8072\n",
            "Epoch 42/100\n",
            "313/313 [==============================] - 15s 48ms/step - loss: 0.4123 - accuracy: 0.8123 - val_loss: 0.4255 - val_accuracy: 0.8094\n",
            "Epoch 43/100\n",
            "313/313 [==============================] - 15s 48ms/step - loss: 0.4108 - accuracy: 0.8138 - val_loss: 0.4249 - val_accuracy: 0.8042\n",
            "Epoch 44/100\n",
            "313/313 [==============================] - 15s 48ms/step - loss: 0.4104 - accuracy: 0.8128 - val_loss: 0.4272 - val_accuracy: 0.8088\n",
            "Epoch 45/100\n",
            "313/313 [==============================] - 15s 48ms/step - loss: 0.4110 - accuracy: 0.8143 - val_loss: 0.4247 - val_accuracy: 0.8094\n",
            "Epoch 46/100\n",
            "313/313 [==============================] - 15s 48ms/step - loss: 0.4086 - accuracy: 0.8146 - val_loss: 0.4240 - val_accuracy: 0.8098\n",
            "Epoch 47/100\n",
            "313/313 [==============================] - 15s 49ms/step - loss: 0.4091 - accuracy: 0.8137 - val_loss: 0.4240 - val_accuracy: 0.8104\n",
            "Epoch 48/100\n",
            "313/313 [==============================] - 16s 50ms/step - loss: 0.4073 - accuracy: 0.8141 - val_loss: 0.4247 - val_accuracy: 0.8024\n",
            "Epoch 49/100\n",
            "313/313 [==============================] - 16s 50ms/step - loss: 0.4084 - accuracy: 0.8160 - val_loss: 0.4229 - val_accuracy: 0.8044\n",
            "Epoch 50/100\n",
            "313/313 [==============================] - 15s 49ms/step - loss: 0.4072 - accuracy: 0.8133 - val_loss: 0.4255 - val_accuracy: 0.8086\n",
            "Epoch 51/100\n",
            "313/313 [==============================] - 15s 49ms/step - loss: 0.4056 - accuracy: 0.8155 - val_loss: 0.4227 - val_accuracy: 0.8098\n",
            "Epoch 52/100\n",
            "313/313 [==============================] - 16s 50ms/step - loss: 0.4062 - accuracy: 0.8152 - val_loss: 0.4224 - val_accuracy: 0.8104\n",
            "Epoch 53/100\n",
            "313/313 [==============================] - 15s 49ms/step - loss: 0.4048 - accuracy: 0.8156 - val_loss: 0.4217 - val_accuracy: 0.8080\n",
            "Epoch 54/100\n",
            "313/313 [==============================] - 15s 48ms/step - loss: 0.4043 - accuracy: 0.8141 - val_loss: 0.4253 - val_accuracy: 0.8030\n",
            "Epoch 55/100\n",
            "313/313 [==============================] - 15s 49ms/step - loss: 0.4034 - accuracy: 0.8194 - val_loss: 0.4241 - val_accuracy: 0.8034\n",
            "Epoch 56/100\n",
            "313/313 [==============================] - 16s 50ms/step - loss: 0.4040 - accuracy: 0.8158 - val_loss: 0.4233 - val_accuracy: 0.8058\n"
          ]
        }
      ]
    },
    {
      "cell_type": "markdown",
      "metadata": {
        "id": "4LobM9zcTHFX"
      },
      "source": [
        "검증 손실이 약간 향상되었다. 훈련 손실과 검증 손실 그래프를 그려보자."
      ]
    },
    {
      "cell_type": "code",
      "metadata": {
        "colab": {
          "base_uri": "https://localhost:8080/",
          "height": 279
        },
        "id": "Pa5_-qn_sHmp",
        "outputId": "e1d59c7c-f91d-4a89-f795-0a1d645a0415"
      },
      "source": [
        "plt.plot(history.history['loss'])\n",
        "plt.plot(history.history['val_loss'])\n",
        "plt.xlabel('epoch')\n",
        "plt.ylabel('loss')\n",
        "plt.legend(['train', 'val'])\n",
        "plt.show()"
      ],
      "execution_count": null,
      "outputs": [
        {
          "output_type": "display_data",
          "data": {
            "image/png": "[encoded data removed]",
            "text/plain": [
              "<Figure size 432x288 with 1 Axes>"
            ]
          },
          "metadata": {
            "needs_background": "light"
          }
        }
      ]
    },
    {
      "cell_type": "markdown",
      "metadata": {
        "id": "zkmdKwz5TK-K"
      },
      "source": [
        "이전 그래프보다 훈련 손실과 검증 손실 간의 차이가 좁혀진 것을 확인할 수 있다."
      ]
    },
    {
      "cell_type": "markdown",
      "metadata": {
        "id": "LjMQlGSaTRlX"
      },
      "source": [
        "순환층도 이전 밀집층이나 합성곱 층 여러 개를 쌓을 수 있다. 단, 순환층을 쌓게 되면 모든 순환층에 순차 데이터가 필요하다. 따라서 앞쪽의 순환층은 모든 타임스텝에 대한 은닉 상태를 출력해야한다. 케라스의 순환층에서 모든 타임스텝의 은닉 상태를 출력하려면 마지막을 제외한 다른 모든 순환층에서 **return_sequences 매개변수**를 True로 지정하면된다."
      ]
    },
    {
      "cell_type": "code",
      "metadata": {
        "id": "WHZHHwtpsgfU"
      },
      "source": [
        "model3 = keras.Sequential()\n",
        "model3.add(keras.layers.Embedding(500, 16, input_length = 100))\n",
        "model3.add(keras.layers.LSTM(8, dropout = 0.3, return_sequences = True))\n",
        "model3.add(keras.layers.LSTM(8, dropout = 0.3))\n",
        "model3.add(keras.layers.Dense(1, activation = 'sigmoid'))"
      ],
      "execution_count": null,
      "outputs": []
    },
    {
      "cell_type": "markdown",
      "metadata": {
        "id": "NgSR_V-1TrV4"
      },
      "source": [
        "위와 같이 모델을 만들면 된다. 모델의 구조를 확인해보자."
      ]
    },
    {
      "cell_type": "code",
      "metadata": {
        "colab": {
          "base_uri": "https://localhost:8080/"
        },
        "id": "CthApyyv4OcX",
        "outputId": "89e0a01e-abcd-4dd9-ef3e-a014b845fb79"
      },
      "source": [
        "model3.summary()"
      ],
      "execution_count": null,
      "outputs": [
        {
          "output_type": "stream",
          "name": "stdout",
          "text": [
            "Model: \"sequential_5\"\n",
            "_________________________________________________________________\n",
            "Layer (type)                 Output Shape              Param #   \n",
            "=================================================================\n",
            "embedding_5 (Embedding)      (None, 100, 16)           8000      \n",
            "_________________________________________________________________\n",
            "lstm_5 (LSTM)                (None, 100, 8)            800       \n",
            "_________________________________________________________________\n",
            "lstm_6 (LSTM)                (None, 8)                 544       \n",
            "_________________________________________________________________\n",
            "dense_5 (Dense)              (None, 1)                 9         \n",
            "=================================================================\n",
            "Total params: 9,353\n",
            "Trainable params: 9,353\n",
            "Non-trainable params: 0\n",
            "_________________________________________________________________\n"
          ]
        }
      ]
    },
    {
      "cell_type": "markdown",
      "metadata": {
        "id": "WmSNobeMTuIx"
      },
      "source": [
        "타입스텝의 길이가 100이므로 첫 번째 순환층의 은닉 상태도 100개일 것이다. 총 뉴런이 8개이므로 출력의 크기는 (None, 100, 8)이 된다.\n",
        "\n",
        "앞의 조건과 동일하게 모델을 훈련해보자."
      ]
    },
    {
      "cell_type": "code",
      "metadata": {
        "colab": {
          "base_uri": "https://localhost:8080/"
        },
        "id": "642EnfeH4Z-H",
        "outputId": "7b330053-6f20-461a-9928-5152e03636a2"
      },
      "source": [
        "rmsprop = keras.optimizers.RMSprop(learning_rate = 1e-4)\n",
        "model3.compile(optimizer = rmsprop, loss = 'binary_crossentropy', metrics = ['accuracy'])\n",
        "checkpoint_cb = keras.callbacks.ModelCheckpoint('best-2rnn-model.h5', save_best_only = True)\n",
        "early_stopping_cb = keras.callbacks.EarlyStopping(patience = 3, restore_best_weights = True)\n",
        "history = model3.fit(train_seq, train_target, epochs = 100, batch_size = 64, validation_data = (val_seq, val_target), callbacks = [checkpoint_cb, early_stopping_cb])"
      ],
      "execution_count": null,
      "outputs": [
        {
          "output_type": "stream",
          "name": "stdout",
          "text": [
            "Epoch 1/100\n",
            "313/313 [==============================] - 52s 147ms/step - loss: 0.6928 - accuracy: 0.5154 - val_loss: 0.6926 - val_accuracy: 0.5198\n",
            "Epoch 2/100\n",
            "313/313 [==============================] - 32s 101ms/step - loss: 0.6917 - accuracy: 0.5708 - val_loss: 0.6907 - val_accuracy: 0.5718\n",
            "Epoch 3/100\n",
            "313/313 [==============================] - 30s 96ms/step - loss: 0.6864 - accuracy: 0.6075 - val_loss: 0.6795 - val_accuracy: 0.6150\n",
            "Epoch 4/100\n",
            "313/313 [==============================] - 31s 100ms/step - loss: 0.6517 - accuracy: 0.6498 - val_loss: 0.6177 - val_accuracy: 0.7048\n",
            "Epoch 5/100\n",
            "313/313 [==============================] - 30s 96ms/step - loss: 0.5899 - accuracy: 0.7134 - val_loss: 0.5694 - val_accuracy: 0.7278\n",
            "Epoch 6/100\n",
            "313/313 [==============================] - 30s 95ms/step - loss: 0.5564 - accuracy: 0.7326 - val_loss: 0.5420 - val_accuracy: 0.7456\n",
            "Epoch 7/100\n",
            "313/313 [==============================] - 30s 96ms/step - loss: 0.5328 - accuracy: 0.7498 - val_loss: 0.5191 - val_accuracy: 0.7612\n",
            "Epoch 8/100\n",
            "313/313 [==============================] - 30s 95ms/step - loss: 0.5164 - accuracy: 0.7607 - val_loss: 0.5049 - val_accuracy: 0.7652\n",
            "Epoch 9/100\n",
            "313/313 [==============================] - 30s 95ms/step - loss: 0.4999 - accuracy: 0.7686 - val_loss: 0.4918 - val_accuracy: 0.7710\n",
            "Epoch 10/100\n",
            "313/313 [==============================] - 31s 98ms/step - loss: 0.4879 - accuracy: 0.7782 - val_loss: 0.4819 - val_accuracy: 0.7784\n",
            "Epoch 11/100\n",
            "313/313 [==============================] - 32s 102ms/step - loss: 0.4786 - accuracy: 0.7818 - val_loss: 0.4734 - val_accuracy: 0.7820\n",
            "Epoch 12/100\n",
            "313/313 [==============================] - 29s 94ms/step - loss: 0.4710 - accuracy: 0.7856 - val_loss: 0.4688 - val_accuracy: 0.7810\n",
            "Epoch 13/100\n",
            "313/313 [==============================] - 29s 92ms/step - loss: 0.4662 - accuracy: 0.7869 - val_loss: 0.4627 - val_accuracy: 0.7856\n",
            "Epoch 14/100\n",
            "313/313 [==============================] - 30s 94ms/step - loss: 0.4582 - accuracy: 0.7924 - val_loss: 0.4628 - val_accuracy: 0.7844\n",
            "Epoch 15/100\n",
            "313/313 [==============================] - 29s 92ms/step - loss: 0.4546 - accuracy: 0.7917 - val_loss: 0.4537 - val_accuracy: 0.7918\n",
            "Epoch 16/100\n",
            "313/313 [==============================] - 31s 98ms/step - loss: 0.4494 - accuracy: 0.7955 - val_loss: 0.4531 - val_accuracy: 0.7884\n",
            "Epoch 17/100\n",
            "313/313 [==============================] - 36s 115ms/step - loss: 0.4465 - accuracy: 0.7972 - val_loss: 0.4533 - val_accuracy: 0.7952\n",
            "Epoch 18/100\n",
            "313/313 [==============================] - 29s 92ms/step - loss: 0.4420 - accuracy: 0.7991 - val_loss: 0.4452 - val_accuracy: 0.7960\n",
            "Epoch 19/100\n",
            "313/313 [==============================] - 24s 78ms/step - loss: 0.4405 - accuracy: 0.8005 - val_loss: 0.4431 - val_accuracy: 0.7954\n",
            "Epoch 20/100\n",
            "313/313 [==============================] - 25s 78ms/step - loss: 0.4369 - accuracy: 0.8038 - val_loss: 0.4423 - val_accuracy: 0.7954\n",
            "Epoch 21/100\n",
            "313/313 [==============================] - 25s 78ms/step - loss: 0.4370 - accuracy: 0.8011 - val_loss: 0.4396 - val_accuracy: 0.7990\n",
            "Epoch 22/100\n",
            "313/313 [==============================] - 24s 78ms/step - loss: 0.4349 - accuracy: 0.7997 - val_loss: 0.4394 - val_accuracy: 0.7950\n",
            "Epoch 23/100\n",
            "313/313 [==============================] - 24s 78ms/step - loss: 0.4331 - accuracy: 0.8037 - val_loss: 0.4366 - val_accuracy: 0.8016\n",
            "Epoch 24/100\n",
            "313/313 [==============================] - 24s 78ms/step - loss: 0.4303 - accuracy: 0.8041 - val_loss: 0.4357 - val_accuracy: 0.8014\n",
            "Epoch 25/100\n",
            "313/313 [==============================] - 24s 78ms/step - loss: 0.4277 - accuracy: 0.8061 - val_loss: 0.4363 - val_accuracy: 0.7982\n",
            "Epoch 26/100\n",
            "313/313 [==============================] - 24s 78ms/step - loss: 0.4275 - accuracy: 0.8069 - val_loss: 0.4346 - val_accuracy: 0.8014\n",
            "Epoch 27/100\n",
            "313/313 [==============================] - 29s 92ms/step - loss: 0.4244 - accuracy: 0.8086 - val_loss: 0.4331 - val_accuracy: 0.8038\n",
            "Epoch 28/100\n",
            "313/313 [==============================] - 26s 84ms/step - loss: 0.4234 - accuracy: 0.8080 - val_loss: 0.4331 - val_accuracy: 0.8004\n",
            "Epoch 29/100\n",
            "313/313 [==============================] - 24s 77ms/step - loss: 0.4242 - accuracy: 0.8099 - val_loss: 0.4313 - val_accuracy: 0.8056\n",
            "Epoch 30/100\n",
            "313/313 [==============================] - 24s 78ms/step - loss: 0.4218 - accuracy: 0.8094 - val_loss: 0.4356 - val_accuracy: 0.8040\n",
            "Epoch 31/100\n",
            "313/313 [==============================] - 24s 78ms/step - loss: 0.4218 - accuracy: 0.8094 - val_loss: 0.4329 - val_accuracy: 0.8044\n",
            "Epoch 32/100\n",
            "313/313 [==============================] - 24s 78ms/step - loss: 0.4205 - accuracy: 0.8109 - val_loss: 0.4306 - val_accuracy: 0.8034\n",
            "Epoch 33/100\n",
            "313/313 [==============================] - 24s 78ms/step - loss: 0.4176 - accuracy: 0.8098 - val_loss: 0.4309 - val_accuracy: 0.8044\n",
            "Epoch 34/100\n",
            "313/313 [==============================] - 24s 78ms/step - loss: 0.4181 - accuracy: 0.8102 - val_loss: 0.4309 - val_accuracy: 0.8014\n",
            "Epoch 35/100\n",
            "313/313 [==============================] - 24s 78ms/step - loss: 0.4171 - accuracy: 0.8116 - val_loss: 0.4287 - val_accuracy: 0.8052\n",
            "Epoch 36/100\n",
            "313/313 [==============================] - 24s 78ms/step - loss: 0.4185 - accuracy: 0.8077 - val_loss: 0.4283 - val_accuracy: 0.8062\n",
            "Epoch 37/100\n",
            "313/313 [==============================] - 24s 78ms/step - loss: 0.4175 - accuracy: 0.8130 - val_loss: 0.4381 - val_accuracy: 0.7990\n",
            "Epoch 38/100\n",
            "313/313 [==============================] - 25s 78ms/step - loss: 0.4171 - accuracy: 0.8104 - val_loss: 0.4280 - val_accuracy: 0.8066\n",
            "Epoch 39/100\n",
            "313/313 [==============================] - 24s 78ms/step - loss: 0.4160 - accuracy: 0.8113 - val_loss: 0.4331 - val_accuracy: 0.7980\n",
            "Epoch 40/100\n",
            "313/313 [==============================] - 24s 78ms/step - loss: 0.4140 - accuracy: 0.8101 - val_loss: 0.4297 - val_accuracy: 0.8036\n",
            "Epoch 41/100\n",
            "313/313 [==============================] - 24s 78ms/step - loss: 0.4151 - accuracy: 0.8110 - val_loss: 0.4279 - val_accuracy: 0.8074\n",
            "Epoch 42/100\n",
            "313/313 [==============================] - 24s 78ms/step - loss: 0.4144 - accuracy: 0.8123 - val_loss: 0.4272 - val_accuracy: 0.8042\n",
            "Epoch 43/100\n",
            "313/313 [==============================] - 24s 78ms/step - loss: 0.4122 - accuracy: 0.8092 - val_loss: 0.4290 - val_accuracy: 0.8066\n",
            "Epoch 44/100\n",
            "313/313 [==============================] - 24s 78ms/step - loss: 0.4118 - accuracy: 0.8120 - val_loss: 0.4310 - val_accuracy: 0.8068\n",
            "Epoch 45/100\n",
            "313/313 [==============================] - 25s 78ms/step - loss: 0.4145 - accuracy: 0.8121 - val_loss: 0.4284 - val_accuracy: 0.8042\n"
          ]
        }
      ]
    },
    {
      "cell_type": "markdown",
      "metadata": {
        "id": "wQlX-LXXUAry"
      },
      "source": [
        "일반적으로 순환층을 쌓으면 성능이 높아진다. 하지만 이 예제처럼 그러지 못한 경우도 있다. 손실 그래프를 그려 과대적합이 잘 억제되었는지 확인해보자."
      ]
    },
    {
      "cell_type": "code",
      "metadata": {
        "colab": {
          "base_uri": "https://localhost:8080/",
          "height": 279
        },
        "id": "IyE3CVLp5dkA",
        "outputId": "e7b7cab5-43f1-4deb-f45b-a7a6025efc28"
      },
      "source": [
        "plt.plot(history.history['loss'])\n",
        "plt.plot(history.history['val_loss'])\n",
        "plt.xlabel('epoch')\n",
        "plt.ylabel('loss')\n",
        "plt.legend(['train', 'val'])\n",
        "plt.show()"
      ],
      "execution_count": null,
      "outputs": [
        {
          "output_type": "display_data",
          "data": {
            "image/png": "[encoded data removed]",
            "text/plain": [
              "<Figure size 432x288 with 1 Axes>"
            ]
          },
          "metadata": {
            "needs_background": "light"
          }
        }
      ]
    },
    {
      "cell_type": "markdown",
      "metadata": {
        "id": "jBrHMy1ZULaX"
      },
      "source": [
        "과대적합을 잘 제어하면서 손실을 최대한 낮춘 것 같다. 지금까지 LSTM 셀을 사용한 훈련과 드롭아웃을 적용해보았고 2개의 층을 쌓은 순환 신경망을 만들어 보았다."
      ]
    },
    {
      "cell_type": "markdown",
      "metadata": {
        "id": "0XODjvZ8UUXQ"
      },
      "source": [
        "GRU는 **Gated Recurrent Unit**의 약자이다. 이 셀은 LSTM을 간소화한 버전이라고 생각할 수 있다. 이 셀은 LSTM처럼 **셀 상태를 계산하지 않는다**. \n",
        "\n",
        "GRU 셀에는 은닉 상태와 입력에 가중치를 곱하고 절편을 더하는 **작은 셀이 3개** 들어있다. **2개는 시그모이드 함수를 사용하고 1개는 tanh 함수를 사용한다.** 첫 번째 시그모이드 함수를 사용하는 셀의 출력은 은닉 상태에 바로 곱해져 삭제 게이트 역할을 수행한다. 이와 동일한 출력을 1에서 뺀 다음 tanh 함수를 거친 셀의 출력에 곱한다. 이는 입력되는 정보를 제어하는 역할을 수행한다. 그리고 두 번째 시그모이드 함수를 사용하는 셀의 출력은 tanh 함수를 사용하는 셀에서 사용할 이전 은닉 상태 정보에 곱해진다. 즉, 은닉 상태의 정보를 제어한다.\n",
        "\n",
        "GRU 셀은 LSTM보다 가중치가 적어 계산량이 적지만 LSTM 못지않은 성능을 낸다. GRU 셀을 사용한 순환 신경망을 만들어보자. keras.layers 패키지 아래에 **GRU 클래스**를 사용하면 된다."
      ]
    },
    {
      "cell_type": "code",
      "metadata": {
        "id": "YQOLH1iY5rnH"
      },
      "source": [
        "model4 = keras.Sequential()\n",
        "model4.add(keras.layers.Embedding(500, 16, input_length = 100))\n",
        "model4.add(keras.layers.GRU(8))\n",
        "model4.add(keras.layers.Dense(1, activation = 'sigmoid'))"
      ],
      "execution_count": null,
      "outputs": []
    },
    {
      "cell_type": "markdown",
      "metadata": {
        "id": "csp0siEEa874"
      },
      "source": [
        "모델의 구조를 살펴보자."
      ]
    },
    {
      "cell_type": "code",
      "metadata": {
        "colab": {
          "base_uri": "https://localhost:8080/"
        },
        "id": "PRRKH7nh7j3-",
        "outputId": "e63c710f-059d-413a-9059-8581066e24d5"
      },
      "source": [
        "model4.summary()"
      ],
      "execution_count": null,
      "outputs": [
        {
          "output_type": "stream",
          "name": "stdout",
          "text": [
            "Model: \"sequential_6\"\n",
            "_________________________________________________________________\n",
            "Layer (type)                 Output Shape              Param #   \n",
            "=================================================================\n",
            "embedding_6 (Embedding)      (None, 100, 16)           8000      \n",
            "_________________________________________________________________\n",
            "gru (GRU)                    (None, 8)                 624       \n",
            "_________________________________________________________________\n",
            "dense_6 (Dense)              (None, 1)                 9         \n",
            "=================================================================\n",
            "Total params: 8,633\n",
            "Trainable params: 8,633\n",
            "Non-trainable params: 0\n",
            "_________________________________________________________________\n"
          ]
        }
      ]
    },
    {
      "cell_type": "markdown",
      "metadata": {
        "id": "rRqcocyxa-pg"
      },
      "source": [
        "단순 신경망의 경우 총 200개의 파라미터를 가진다고 이전에 언급했었다. GRU의 경우 작은 셀 3개를 가지므로 3배인 600개를 가져야하지만 624라는 값을 가진다. 왜 이런 값을 출력할까?\n",
        "\n",
        "텐서플로에서 구현된 GRU 셀의 계산은 앞의 그림과 조금 다르다. GRU 셀의 초기 버전은 지금 설명하는 구조처럼 계산된다.\n",
        "\n",
        "이전에는 tanh를 사용하는 셀에는 시그모이드 함수가 사용된 셀의 출력과 은닉 상태가 곱해져 입력되었다. 하지만 초기버전에서는 **은닉 상태가 먼저 가중치와 곱해진 다음** 시그모이드를 사용한 셀과 곱해졌다. 이로 인해 은닉 상태에 곱해지는 절편이 별도로 필요하게 된다. 따라서 작은 셀마다 하나씩 절편이 추가되고 8개의 뉴런이 있으므로 3 × 8 = 24개의 모델 파라미터가 추가된다.\n",
        "\n",
        "이제 모델을 컴파일하고 훈련시켜보자."
      ]
    },
    {
      "cell_type": "code",
      "metadata": {
        "colab": {
          "base_uri": "https://localhost:8080/"
        },
        "id": "jdIWgIRR8dm_",
        "outputId": "590bc333-abea-4f57-dcc3-4c5ab6b9f579"
      },
      "source": [
        "rmsprop = keras.optimizers.RMSprop(learning_rate = 1e-4)\n",
        "model4.compile(optimizer = rmsprop, loss = 'binary_crossentropy', metrics = ['accuracy'])\n",
        "checkpoint_cb = keras.callbacks.ModelCheckpoint('best-2rnn-model.h5', save_best_only = True)\n",
        "early_stopping_cb = keras.callbacks.EarlyStopping(patience = 3, restore_best_weights = True)\n",
        "history = model4.fit(train_seq, train_target, epochs = 100, batch_size = 64, validation_data = (val_seq, val_target), callbacks = [checkpoint_cb, early_stopping_cb])"
      ],
      "execution_count": null,
      "outputs": [
        {
          "output_type": "stream",
          "name": "stdout",
          "text": [
            "Epoch 1/100\n",
            "313/313 [==============================] - 17s 45ms/step - loss: 0.6928 - accuracy: 0.5182 - val_loss: 0.6925 - val_accuracy: 0.5262\n",
            "Epoch 2/100\n",
            "313/313 [==============================] - 13s 42ms/step - loss: 0.6916 - accuracy: 0.5523 - val_loss: 0.6912 - val_accuracy: 0.5430\n",
            "Epoch 3/100\n",
            "313/313 [==============================] - 14s 43ms/step - loss: 0.6897 - accuracy: 0.5809 - val_loss: 0.6887 - val_accuracy: 0.5800\n",
            "Epoch 4/100\n",
            "313/313 [==============================] - 13s 42ms/step - loss: 0.6864 - accuracy: 0.6008 - val_loss: 0.6849 - val_accuracy: 0.6020\n",
            "Epoch 5/100\n",
            "313/313 [==============================] - 13s 42ms/step - loss: 0.6813 - accuracy: 0.6157 - val_loss: 0.6791 - val_accuracy: 0.6112\n",
            "Epoch 6/100\n",
            "313/313 [==============================] - 13s 42ms/step - loss: 0.6735 - accuracy: 0.6283 - val_loss: 0.6708 - val_accuracy: 0.6238\n",
            "Epoch 7/100\n",
            "313/313 [==============================] - 13s 42ms/step - loss: 0.6621 - accuracy: 0.6404 - val_loss: 0.6580 - val_accuracy: 0.6380\n",
            "Epoch 8/100\n",
            "313/313 [==============================] - 13s 42ms/step - loss: 0.6453 - accuracy: 0.6558 - val_loss: 0.6389 - val_accuracy: 0.6524\n",
            "Epoch 9/100\n",
            "313/313 [==============================] - 13s 42ms/step - loss: 0.6184 - accuracy: 0.6780 - val_loss: 0.6070 - val_accuracy: 0.6890\n",
            "Epoch 10/100\n",
            "313/313 [==============================] - 13s 42ms/step - loss: 0.5745 - accuracy: 0.7127 - val_loss: 0.5588 - val_accuracy: 0.7230\n",
            "Epoch 11/100\n",
            "313/313 [==============================] - 13s 43ms/step - loss: 0.5312 - accuracy: 0.7438 - val_loss: 0.5306 - val_accuracy: 0.7436\n",
            "Epoch 12/100\n",
            "313/313 [==============================] - 14s 45ms/step - loss: 0.5118 - accuracy: 0.7571 - val_loss: 0.5171 - val_accuracy: 0.7498\n",
            "Epoch 13/100\n",
            "313/313 [==============================] - 13s 42ms/step - loss: 0.5001 - accuracy: 0.7628 - val_loss: 0.5090 - val_accuracy: 0.7584\n",
            "Epoch 14/100\n",
            "313/313 [==============================] - 13s 42ms/step - loss: 0.4907 - accuracy: 0.7707 - val_loss: 0.5016 - val_accuracy: 0.7628\n",
            "Epoch 15/100\n",
            "313/313 [==============================] - 13s 42ms/step - loss: 0.4831 - accuracy: 0.7767 - val_loss: 0.4947 - val_accuracy: 0.7704\n",
            "Epoch 16/100\n",
            "313/313 [==============================] - 13s 43ms/step - loss: 0.4753 - accuracy: 0.7826 - val_loss: 0.4904 - val_accuracy: 0.7710\n",
            "Epoch 17/100\n",
            "313/313 [==============================] - 14s 43ms/step - loss: 0.4692 - accuracy: 0.7868 - val_loss: 0.4846 - val_accuracy: 0.7734\n",
            "Epoch 18/100\n",
            "313/313 [==============================] - 13s 43ms/step - loss: 0.4636 - accuracy: 0.7901 - val_loss: 0.4802 - val_accuracy: 0.7778\n",
            "Epoch 19/100\n",
            "313/313 [==============================] - 13s 42ms/step - loss: 0.4586 - accuracy: 0.7938 - val_loss: 0.4778 - val_accuracy: 0.7784\n",
            "Epoch 20/100\n",
            "313/313 [==============================] - 13s 42ms/step - loss: 0.4551 - accuracy: 0.7954 - val_loss: 0.4747 - val_accuracy: 0.7772\n",
            "Epoch 21/100\n",
            "313/313 [==============================] - 13s 43ms/step - loss: 0.4509 - accuracy: 0.7998 - val_loss: 0.4714 - val_accuracy: 0.7792\n",
            "Epoch 22/100\n",
            "313/313 [==============================] - 13s 43ms/step - loss: 0.4479 - accuracy: 0.8007 - val_loss: 0.4692 - val_accuracy: 0.7822\n",
            "Epoch 23/100\n",
            "313/313 [==============================] - 13s 42ms/step - loss: 0.4449 - accuracy: 0.8011 - val_loss: 0.4671 - val_accuracy: 0.7814\n",
            "Epoch 24/100\n",
            "313/313 [==============================] - 13s 42ms/step - loss: 0.4421 - accuracy: 0.8041 - val_loss: 0.4647 - val_accuracy: 0.7822\n",
            "Epoch 25/100\n",
            "313/313 [==============================] - 13s 42ms/step - loss: 0.4392 - accuracy: 0.8062 - val_loss: 0.4629 - val_accuracy: 0.7840\n",
            "Epoch 26/100\n",
            "313/313 [==============================] - 13s 42ms/step - loss: 0.4369 - accuracy: 0.8055 - val_loss: 0.4624 - val_accuracy: 0.7838\n",
            "Epoch 27/100\n",
            "313/313 [==============================] - 13s 43ms/step - loss: 0.4347 - accuracy: 0.8073 - val_loss: 0.4596 - val_accuracy: 0.7846\n",
            "Epoch 28/100\n",
            "313/313 [==============================] - 13s 43ms/step - loss: 0.4326 - accuracy: 0.8094 - val_loss: 0.4611 - val_accuracy: 0.7900\n",
            "Epoch 29/100\n",
            "313/313 [==============================] - 13s 43ms/step - loss: 0.4309 - accuracy: 0.8094 - val_loss: 0.4572 - val_accuracy: 0.7868\n",
            "Epoch 30/100\n",
            "313/313 [==============================] - 13s 42ms/step - loss: 0.4292 - accuracy: 0.8120 - val_loss: 0.4579 - val_accuracy: 0.7850\n",
            "Epoch 31/100\n",
            "313/313 [==============================] - 13s 42ms/step - loss: 0.4277 - accuracy: 0.8123 - val_loss: 0.4548 - val_accuracy: 0.7882\n",
            "Epoch 32/100\n",
            "313/313 [==============================] - 13s 43ms/step - loss: 0.4263 - accuracy: 0.8133 - val_loss: 0.4538 - val_accuracy: 0.7882\n",
            "Epoch 33/100\n",
            "313/313 [==============================] - 13s 42ms/step - loss: 0.4254 - accuracy: 0.8131 - val_loss: 0.4530 - val_accuracy: 0.7868\n",
            "Epoch 34/100\n",
            "313/313 [==============================] - 13s 43ms/step - loss: 0.4238 - accuracy: 0.8128 - val_loss: 0.4521 - val_accuracy: 0.7872\n",
            "Epoch 35/100\n",
            "313/313 [==============================] - 13s 42ms/step - loss: 0.4228 - accuracy: 0.8141 - val_loss: 0.4529 - val_accuracy: 0.7890\n",
            "Epoch 36/100\n",
            "313/313 [==============================] - 13s 42ms/step - loss: 0.4221 - accuracy: 0.8151 - val_loss: 0.4508 - val_accuracy: 0.7860\n",
            "Epoch 37/100\n",
            "313/313 [==============================] - 13s 42ms/step - loss: 0.4211 - accuracy: 0.8148 - val_loss: 0.4501 - val_accuracy: 0.7872\n",
            "Epoch 38/100\n",
            "313/313 [==============================] - 13s 42ms/step - loss: 0.4204 - accuracy: 0.8164 - val_loss: 0.4508 - val_accuracy: 0.7888\n",
            "Epoch 39/100\n",
            "313/313 [==============================] - 13s 42ms/step - loss: 0.4195 - accuracy: 0.8155 - val_loss: 0.4500 - val_accuracy: 0.7892\n",
            "Epoch 40/100\n",
            "313/313 [==============================] - 13s 42ms/step - loss: 0.4191 - accuracy: 0.8161 - val_loss: 0.4479 - val_accuracy: 0.7888\n",
            "Epoch 41/100\n",
            "313/313 [==============================] - 13s 42ms/step - loss: 0.4180 - accuracy: 0.8166 - val_loss: 0.4476 - val_accuracy: 0.7896\n",
            "Epoch 42/100\n",
            "313/313 [==============================] - 13s 42ms/step - loss: 0.4171 - accuracy: 0.8170 - val_loss: 0.4482 - val_accuracy: 0.7892\n",
            "Epoch 43/100\n",
            "313/313 [==============================] - 13s 43ms/step - loss: 0.4164 - accuracy: 0.8182 - val_loss: 0.4481 - val_accuracy: 0.7930\n",
            "Epoch 44/100\n",
            "313/313 [==============================] - 13s 42ms/step - loss: 0.4157 - accuracy: 0.8177 - val_loss: 0.4469 - val_accuracy: 0.7930\n",
            "Epoch 45/100\n",
            "313/313 [==============================] - 14s 43ms/step - loss: 0.4157 - accuracy: 0.8170 - val_loss: 0.4454 - val_accuracy: 0.7906\n",
            "Epoch 46/100\n",
            "313/313 [==============================] - 13s 43ms/step - loss: 0.4152 - accuracy: 0.8181 - val_loss: 0.4447 - val_accuracy: 0.7934\n",
            "Epoch 47/100\n",
            "313/313 [==============================] - 13s 43ms/step - loss: 0.4144 - accuracy: 0.8188 - val_loss: 0.4453 - val_accuracy: 0.7942\n",
            "Epoch 48/100\n",
            "313/313 [==============================] - 13s 43ms/step - loss: 0.4144 - accuracy: 0.8183 - val_loss: 0.4446 - val_accuracy: 0.7944\n",
            "Epoch 49/100\n",
            "313/313 [==============================] - 13s 42ms/step - loss: 0.4136 - accuracy: 0.8167 - val_loss: 0.4470 - val_accuracy: 0.7898\n",
            "Epoch 50/100\n",
            "313/313 [==============================] - 13s 42ms/step - loss: 0.4130 - accuracy: 0.8180 - val_loss: 0.4429 - val_accuracy: 0.7970\n",
            "Epoch 51/100\n",
            "313/313 [==============================] - 13s 42ms/step - loss: 0.4126 - accuracy: 0.8174 - val_loss: 0.4424 - val_accuracy: 0.7930\n",
            "Epoch 52/100\n",
            "313/313 [==============================] - 13s 42ms/step - loss: 0.4123 - accuracy: 0.8184 - val_loss: 0.4426 - val_accuracy: 0.7940\n",
            "Epoch 53/100\n",
            "313/313 [==============================] - 13s 42ms/step - loss: 0.4118 - accuracy: 0.8184 - val_loss: 0.4417 - val_accuracy: 0.7956\n",
            "Epoch 54/100\n",
            "313/313 [==============================] - 13s 42ms/step - loss: 0.4113 - accuracy: 0.8186 - val_loss: 0.4414 - val_accuracy: 0.7924\n",
            "Epoch 55/100\n",
            "313/313 [==============================] - 13s 42ms/step - loss: 0.4109 - accuracy: 0.8184 - val_loss: 0.4406 - val_accuracy: 0.7952\n",
            "Epoch 56/100\n",
            "313/313 [==============================] - 13s 42ms/step - loss: 0.4110 - accuracy: 0.8184 - val_loss: 0.4417 - val_accuracy: 0.7914\n",
            "Epoch 57/100\n",
            "313/313 [==============================] - 13s 42ms/step - loss: 0.4105 - accuracy: 0.8183 - val_loss: 0.4392 - val_accuracy: 0.7958\n",
            "Epoch 58/100\n",
            "313/313 [==============================] - 13s 42ms/step - loss: 0.4101 - accuracy: 0.8181 - val_loss: 0.4391 - val_accuracy: 0.7972\n",
            "Epoch 59/100\n",
            "313/313 [==============================] - 13s 42ms/step - loss: 0.4100 - accuracy: 0.8184 - val_loss: 0.4449 - val_accuracy: 0.7912\n",
            "Epoch 60/100\n",
            "313/313 [==============================] - 13s 42ms/step - loss: 0.4095 - accuracy: 0.8179 - val_loss: 0.4396 - val_accuracy: 0.7960\n",
            "Epoch 61/100\n",
            "313/313 [==============================] - 13s 43ms/step - loss: 0.4092 - accuracy: 0.8187 - val_loss: 0.4390 - val_accuracy: 0.7980\n",
            "Epoch 62/100\n",
            "313/313 [==============================] - 13s 42ms/step - loss: 0.4090 - accuracy: 0.8182 - val_loss: 0.4372 - val_accuracy: 0.7978\n",
            "Epoch 63/100\n",
            "313/313 [==============================] - 13s 43ms/step - loss: 0.4087 - accuracy: 0.8183 - val_loss: 0.4367 - val_accuracy: 0.7984\n",
            "Epoch 64/100\n",
            "313/313 [==============================] - 13s 43ms/step - loss: 0.4084 - accuracy: 0.8183 - val_loss: 0.4371 - val_accuracy: 0.7960\n",
            "Epoch 65/100\n",
            "313/313 [==============================] - 13s 43ms/step - loss: 0.4077 - accuracy: 0.8194 - val_loss: 0.4359 - val_accuracy: 0.7984\n",
            "Epoch 66/100\n",
            "313/313 [==============================] - 13s 42ms/step - loss: 0.4072 - accuracy: 0.8181 - val_loss: 0.4357 - val_accuracy: 0.8000\n",
            "Epoch 67/100\n",
            "313/313 [==============================] - 13s 42ms/step - loss: 0.4073 - accuracy: 0.8173 - val_loss: 0.4360 - val_accuracy: 0.7976\n",
            "Epoch 68/100\n",
            "313/313 [==============================] - 14s 43ms/step - loss: 0.4069 - accuracy: 0.8181 - val_loss: 0.4355 - val_accuracy: 0.7990\n",
            "Epoch 69/100\n",
            "313/313 [==============================] - 13s 42ms/step - loss: 0.4067 - accuracy: 0.8179 - val_loss: 0.4347 - val_accuracy: 0.8004\n",
            "Epoch 70/100\n",
            "313/313 [==============================] - 13s 43ms/step - loss: 0.4064 - accuracy: 0.8193 - val_loss: 0.4383 - val_accuracy: 0.7946\n",
            "Epoch 71/100\n",
            "313/313 [==============================] - 13s 43ms/step - loss: 0.4061 - accuracy: 0.8190 - val_loss: 0.4342 - val_accuracy: 0.7976\n",
            "Epoch 72/100\n",
            "313/313 [==============================] - 13s 42ms/step - loss: 0.4057 - accuracy: 0.8199 - val_loss: 0.4375 - val_accuracy: 0.7980\n",
            "Epoch 73/100\n",
            "313/313 [==============================] - 13s 43ms/step - loss: 0.4057 - accuracy: 0.8192 - val_loss: 0.4350 - val_accuracy: 0.7966\n",
            "Epoch 74/100\n",
            "313/313 [==============================] - 13s 42ms/step - loss: 0.4050 - accuracy: 0.8181 - val_loss: 0.4367 - val_accuracy: 0.7958\n"
          ]
        }
      ]
    },
    {
      "cell_type": "markdown",
      "metadata": {
        "id": "3jenuCrodL23"
      },
      "source": [
        "LSTM과 거의 비슷한 성능을 보여준다. 손실 그래프로 그려서 확인해보자."
      ]
    },
    {
      "cell_type": "code",
      "metadata": {
        "colab": {
          "base_uri": "https://localhost:8080/",
          "height": 279
        },
        "id": "o_RpnwsK8f2K",
        "outputId": "487b3b50-b211-4446-86eb-f74940479a89"
      },
      "source": [
        "plt.plot(history.history['loss'])\n",
        "plt.plot(history.history['val_loss'])\n",
        "plt.xlabel('epoch')\n",
        "plt.ylabel('loss')\n",
        "plt.legend(['train', 'val'])\n",
        "plt.show()"
      ],
      "execution_count": null,
      "outputs": [
        {
          "output_type": "display_data",
          "data": {
            "image/png": "[encoded data removed]",
            "text/plain": [
              "<Figure size 432x288 with 1 Axes>"
            ]
          },
          "metadata": {
            "needs_background": "light"
          }
        }
      ]
    },
    {
      "cell_type": "markdown",
      "metadata": {
        "id": "M4cdWuE_dQI_"
      },
      "source": [
        "드롭아웃을 사용하지 않았기 때문에 이전보다 훈련 손실과 검증 손실 사이에 차이가 있지만 훈련 과정이 잘 수렴되고 있는 것을 알 수 있다."
      ]
    },
    {
      "cell_type": "markdown",
      "metadata": {
        "id": "EL2C6XupgZ5h"
      },
      "source": [
        "모든 실습을 마쳤으니 2개의 순환층을 쌓은 모델을 다시 로드하여 성능을 확인해보자."
      ]
    },
    {
      "cell_type": "code",
      "metadata": {
        "colab": {
          "base_uri": "https://localhost:8080/"
        },
        "id": "kDLnQOGDgHiP",
        "outputId": "68a134c9-c517-40d6-be16-40cc37e683a9"
      },
      "source": [
        "test_seq = pad_sequences(test_input, maxlen = 100)\n",
        "rnn_model = keras.models.load_model('best-2rnn-model.h5')\n",
        "rnn_model.evaluate(test_seq, test_target)"
      ],
      "execution_count": null,
      "outputs": [
        {
          "output_type": "stream",
          "name": "stdout",
          "text": [
            "782/782 [==============================] - 6s 8ms/step - loss: 0.4284 - accuracy: 0.8015\n"
          ]
        },
        {
          "output_type": "execute_result",
          "data": {
            "text/plain": [
              "[0.42841240763664246, 0.8014799952507019]"
            ]
          },
          "metadata": {},
          "execution_count": 37
        }
      ]
    },
    {
      "cell_type": "markdown",
      "metadata": {
        "id": "oJz4dLzVgjzB"
      },
      "source": [
        "드롭아웃을 적용하여 과대적합을 잘 억제했기 때문에 테스트 세트의 성능이 검증 세트와 크게 차이나지 않았다."
      ]
    },
    {
      "cell_type": "markdown",
      "metadata": {
        "id": "xKACvBIkdYtG"
      },
      "source": [
        "# 정리\n",
        "\n",
        "핵심 포인트\n",
        "* LSTM: **타임스텝이 긴 데이터를 효과적으로 학습하기 위해 고안된 순환층**이다. 입력 게이트, 삭제 게이트, 출력 게이트 역할을 하는 작은 셀이 포함되어 있다.\n",
        "* 셀 상태: **LSTM이 은닉 상태 외에 출력하는 상태**이다. 셀 상태는 다음 층으로 전달되지 않고 현재 셀에서만 순환된다.\n",
        "* GRU: **LSTM 셀의 간소화 버전**으로 생각할 수 있지만 LSTM 못지않은 성능을 낸다.\n",
        "\n",
        "핵심 패키지와 함수\n",
        "\n",
        "TensorFlow\n",
        "* LSTM: **LSTM 셀을 사용한 순환층 클래스**이다. 첫 번째 매개변수에 뉴런의 개수를 지정한다. dropout 매개변수에서 입력에 대한 드롭아웃 비율을 지정할 수 있다. return_sequences 매개변수에서 모든 타임스텝의 은닉 상태를 출력할지 결정한다. 기본값은 False이다.\n",
        "* GRU: **GRU 셀을 사용한 순환층 클래스**이다. 첫 번째 매개변수에 뉴런의 개수를 지정한다. dropout 매개변수에서 입력에 대한 드롭아웃 비율을 지정할 수 있다. return_sequences 매개변수에서 모든 타임스텝의 은닉 상태를 출력할지 결정한다. 기본값은 False이다."
      ]
    }
  ]
}