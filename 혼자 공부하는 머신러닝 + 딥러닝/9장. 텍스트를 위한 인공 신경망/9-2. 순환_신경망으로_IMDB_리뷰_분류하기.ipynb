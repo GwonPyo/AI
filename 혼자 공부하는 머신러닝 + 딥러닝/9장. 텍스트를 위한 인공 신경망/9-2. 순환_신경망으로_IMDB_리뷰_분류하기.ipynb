{
  "nbformat": 4,
  "nbformat_minor": 0,
  "metadata": {
    "colab": {
      "name": "9-2. 순환 신경망으로 IMDB 리뷰 분류하기.ipynb",
      "provenance": [],
      "collapsed_sections": []
    },
    "kernelspec": {
      "name": "python3",
      "display_name": "Python 3"
    },
    "language_info": {
      "name": "python"
    }
  },
  "cells": [
    {
      "cell_type": "markdown",
      "metadata": {
        "id": "S6Nueyuhdf3h"
      },
      "source": [
        "1절에서 순환 신경망의 작동 원리를 알아보았다. 이번에는 IMDB 리뷰 데이터셋을 사용해 간단한 순환 신경망 모델을 훈련해보자. 우리는 이 데이터셋을 아래와 같은 두 가지 방식으로 나누어 해결해볼 예정이다. \n",
        "\n",
        "* 원-핫 인코딩\n",
        "* 단어 임베딩\n",
        "\n",
        "IMDB 리뷰 데이터셋은 유명한 인터넷 영화 데이터베이스인 imdb.com에서 수집한 리뷰를 감상평에 따라 긍정과 부정으로 분류해 놓은 데이터셋이다. 총 50,000개의 샘플로 이루어져 있고 훈련 데이터와 테스트데이터에 각각 25,000개식 나누어져있다.\n",
        "\n",
        "* **'자연어 처리(Natural Language processing, NLP)'**는 컴퓨터를 사용해 인간의 언어를 처리하는 분야이다. 대표적인 분야로는 음성 인식, 기계 번역, 감성 분석 등이 있다. IMDB 리뷰를 감상평에 따라 분류하는 작업은 감성 분석에 해당한다. 자연어 처리 분야에서는 훈련 데이터를 **'말뭉치(corpus)'**라고 부른다.\n",
        "\n",
        "위 데이터의 텍스트 자체를 신경망에 전달하지는 않는다. **컴퓨터에서 처리하는 모든 것은 숫자 데이터기 때문이다.** 앞서 이미지는 정수 픽셀값으로 이루어져 있어 변환하지 않고 사용가능했다. 하지만 텍스트 데이터의 경우 숫자 데이터로의 변환이 필요하다.\n",
        "\n",
        "단어를 숫자 데이터로 바꾸는 일반적인 방법은 **데이터에 등장하는 단어마다 고유한 정수를 부여**하는 것이다. 예를 들어, 'He'는 10, 'cat'은 13에 매핑하는 것이다. 단, 이 정수는 단어의 의미나 크기와 관련이 없다. 일반적으로 영어 문장은 모두 소문자로 바꾸고 구둣점을 삭제한 다음 공백을 기준으로 분리한다. 이렇게 분리된 단어를 **'토큰(token)'**이라고 부른다. 하나의 샘플은 여러 개의 토큰으로 이루어져 있고 1개의 토큰이 하나의 타임스텝에 해당한다.\n",
        "\n",
        "* 한국어는 영어 방식과 차이가 있다.\n",
        "\n",
        "토큰에 할당하는 정수 중에 몇 개는 특정한 용도로 예약되는 경우가 있다. 예를 들어, **0은 패딩, 1은 문장의 시작, 2는 어휘 사전에 없는 토큰**을 나타낸다.\n",
        "\n",
        "* 훈련 세트에서 고유한 단어를 뽑아 만든 목록을 **'어휘 사전'**이라고 말한다. 예를 들어 테스트 세트 안에 어휘 사전에 없는 단어가 있다면 2로 변환하여 신경망 모델에 주입한다."
      ]
    },
    {
      "cell_type": "markdown",
      "metadata": {
        "id": "fgoLOtwsgUAH"
      },
      "source": [
        "실제 IMDB 리뷰 데이터셋은 영어로 된 문장이지만 텐서플로에는 이미 정수로 바꾼 데이터가 포함되어 있다. 여기에서는 전체 데이터셋에서 가장 자주 등장하는 단어 500개만 사용하자. load_data() 함수의 num_words 매개변수를 500으로 지정하면 된다."
      ]
    },
    {
      "cell_type": "code",
      "metadata": {
        "colab": {
          "base_uri": "https://localhost:8080/"
        },
        "id": "9M-aDdwyDnZD",
        "outputId": "091b60b7-8d82-4dcf-8fc1-6f6924e36174"
      },
      "source": [
        "from tensorflow.keras.datasets import imdb\n",
        "(train_input, train_target), (test_input, test_target) = imdb.load_data(num_words = 500)"
      ],
      "execution_count": null,
      "outputs": [
        {
          "output_type": "stream",
          "name": "stdout",
          "text": [
            "Downloading data from https://storage.googleapis.com/tensorflow/tf-keras-datasets/imdb.npz\n",
            "17465344/17464789 [==============================] - 0s 0us/step\n",
            "17473536/17464789 [==============================] - 0s 0us/step\n"
          ]
        }
      ]
    },
    {
      "cell_type": "markdown",
      "metadata": {
        "id": "C5Phho4XgsU_"
      },
      "source": [
        "훈련 세트와 테스트 세트의 크기를 확인해보자."
      ]
    },
    {
      "cell_type": "code",
      "metadata": {
        "colab": {
          "base_uri": "https://localhost:8080/"
        },
        "id": "D85dnCXUHOWC",
        "outputId": "818e20e0-3c6c-4560-e7ef-80b45342646f"
      },
      "source": [
        "print(train_input.shape, test_input.shape)"
      ],
      "execution_count": null,
      "outputs": [
        {
          "output_type": "stream",
          "name": "stdout",
          "text": [
            "(25000,) (25000,)\n"
          ]
        }
      ]
    },
    {
      "cell_type": "markdown",
      "metadata": {
        "id": "YXRZz5zmgv2v"
      },
      "source": [
        "앞서 말한 것과 같이 25,000개씩 데이터를 가지고 있다. 이때 텍스트의 길이가 각각 다르므로2차원 배열에 담기보다 변도의 파이썬 리스트로 담아야 메모리를 효율적으로 사용할 수 있다. 따라서 (25000,)와 같이 1차원 배열로 이루어져 있는 것이다. 훈련 데이터 세트의 타입을 알아보자."
      ]
    },
    {
      "cell_type": "code",
      "metadata": {
        "colab": {
          "base_uri": "https://localhost:8080/"
        },
        "id": "zNp6uBmhHZ_R",
        "outputId": "e86f17fe-edfb-43df-b4ac-4a2c0b399144"
      },
      "source": [
        "print(type(train_input), type(train_input[0]))"
      ],
      "execution_count": null,
      "outputs": [
        {
          "output_type": "stream",
          "name": "stdout",
          "text": [
            "<class 'numpy.ndarray'> <class 'list'>\n"
          ]
        }
      ]
    },
    {
      "cell_type": "markdown",
      "metadata": {
        "id": "0phxEHS8kD9w"
      },
      "source": [
        "훈련 데이터는 넘파이 배열이며 내부의 원소들은 파이썬 리스트 객체이다. 이번에는 첫 번째 리뷰의 길이를 출력해보자."
      ]
    },
    {
      "cell_type": "code",
      "metadata": {
        "colab": {
          "base_uri": "https://localhost:8080/"
        },
        "id": "wDvkLom3H_lh",
        "outputId": "ae547c0f-49c7-4a0e-82ed-1cbb38dd05dc"
      },
      "source": [
        "print(len(train_input[0]))"
      ],
      "execution_count": null,
      "outputs": [
        {
          "output_type": "stream",
          "name": "stdout",
          "text": [
            "218\n"
          ]
        }
      ]
    },
    {
      "cell_type": "markdown",
      "metadata": {
        "id": "04F60olKkOpM"
      },
      "source": [
        "두 번째 리뷰의 길이를 출력해보자."
      ]
    },
    {
      "cell_type": "code",
      "metadata": {
        "colab": {
          "base_uri": "https://localhost:8080/"
        },
        "id": "KnK6e1kBILBJ",
        "outputId": "0e47e2d7-e5ba-4f89-9046-be12bc543bc0"
      },
      "source": [
        "print(len(train_input[1]))"
      ],
      "execution_count": null,
      "outputs": [
        {
          "output_type": "stream",
          "name": "stdout",
          "text": [
            "189\n"
          ]
        }
      ]
    },
    {
      "cell_type": "markdown",
      "metadata": {
        "id": "lhvSTuEqkScs"
      },
      "source": [
        "이와 같이 리뷰의 길이는 각각 다르다. 여기서 하나의 리뷰가 하나의 샘플이 된다. 이제 첫 번째 리뷰에 담긴 내용을 출력해보자."
      ]
    },
    {
      "cell_type": "code",
      "metadata": {
        "colab": {
          "base_uri": "https://localhost:8080/"
        },
        "id": "HMDwm2FpIOQh",
        "outputId": "4614d412-6103-4450-dc53-6a22f2df9f49"
      },
      "source": [
        "print(train_input[0])"
      ],
      "execution_count": null,
      "outputs": [
        {
          "output_type": "stream",
          "name": "stdout",
          "text": [
            "[1, 14, 22, 16, 43, 2, 2, 2, 2, 65, 458, 2, 66, 2, 4, 173, 36, 256, 5, 25, 100, 43, 2, 112, 50, 2, 2, 9, 35, 480, 284, 5, 150, 4, 172, 112, 167, 2, 336, 385, 39, 4, 172, 2, 2, 17, 2, 38, 13, 447, 4, 192, 50, 16, 6, 147, 2, 19, 14, 22, 4, 2, 2, 469, 4, 22, 71, 87, 12, 16, 43, 2, 38, 76, 15, 13, 2, 4, 22, 17, 2, 17, 12, 16, 2, 18, 2, 5, 62, 386, 12, 8, 316, 8, 106, 5, 4, 2, 2, 16, 480, 66, 2, 33, 4, 130, 12, 16, 38, 2, 5, 25, 124, 51, 36, 135, 48, 25, 2, 33, 6, 22, 12, 215, 28, 77, 52, 5, 14, 407, 16, 82, 2, 8, 4, 107, 117, 2, 15, 256, 4, 2, 7, 2, 5, 2, 36, 71, 43, 2, 476, 26, 400, 317, 46, 7, 4, 2, 2, 13, 104, 88, 4, 381, 15, 297, 98, 32, 2, 56, 26, 141, 6, 194, 2, 18, 4, 226, 22, 21, 134, 476, 26, 480, 5, 144, 30, 2, 18, 51, 36, 28, 224, 92, 25, 104, 4, 226, 65, 16, 38, 2, 88, 12, 16, 283, 5, 16, 2, 113, 103, 32, 15, 16, 2, 19, 178, 32]\n"
          ]
        }
      ]
    },
    {
      "cell_type": "markdown",
      "metadata": {
        "id": "rTNCo8yHkglw"
      },
      "source": [
        "앞서 말했듯이** 텐서플로에 있는 IMDB 리뷰 데이터는 이미 정수로 변환되어 있다**. 앞서 num_words = 500으로 지정했기 때문에 **어휘 사전에는 500개의 단어만 들어가있다**. 따라서 어휘 사전에 없는 단어는 모두 2로 표시된다.\n",
        "\n",
        "이번에는 타깃 테이터를 출력해보자."
      ]
    },
    {
      "cell_type": "code",
      "metadata": {
        "colab": {
          "base_uri": "https://localhost:8080/"
        },
        "id": "BZihFg-2IVaJ",
        "outputId": "39bb5c30-d50d-4bd3-a86a-67074ed57919"
      },
      "source": [
        "print(train_target[:20])"
      ],
      "execution_count": null,
      "outputs": [
        {
          "output_type": "stream",
          "name": "stdout",
          "text": [
            "[1 0 0 1 0 0 1 0 1 0 1 0 0 0 0 0 1 1 0 1]\n"
          ]
        }
      ]
    },
    {
      "cell_type": "markdown",
      "metadata": {
        "id": "O2MyBDDpk4Sz"
      },
      "source": [
        "해결할 문제는 리뷰가 긍정인지 부정인지 판단하는 것이다. 따라서 이진 분류 문제로 볼 수 있으므로 타깃값이 0(부정)과 1(긍정)로 나누어진다.\n",
        "\n",
        "이제 훈련 세트에서 검증 세트를 분리해보자."
      ]
    },
    {
      "cell_type": "code",
      "metadata": {
        "id": "I7440OVeInhJ"
      },
      "source": [
        "from sklearn.model_selection import train_test_split\n",
        "train_input, val_input, train_target, val_target = train_test_split(train_input, train_target, test_size = 0.2, random_state = 42)"
      ],
      "execution_count": null,
      "outputs": []
    },
    {
      "cell_type": "markdown",
      "metadata": {
        "id": "lzBJfPrGlKwz"
      },
      "source": [
        "이제 훈련 세트에 대해 몇 가지 조사를 해보자. 먼저 각 리뷰의 길이를 계산해 넘파이 배열에 담자. 넘파이 배열에 담는 이유는 평균적인 리뷰의 길이와 가장 짧은 리뷰의 길이 그리고 가장 긴 리뷰의 길이를 확인하기 위해서이다. "
      ]
    },
    {
      "cell_type": "code",
      "metadata": {
        "id": "c7bL2jcMI98h"
      },
      "source": [
        "import numpy as np\n",
        "lengths = np.array([len(x) for x in train_input])"
      ],
      "execution_count": null,
      "outputs": []
    },
    {
      "cell_type": "markdown",
      "metadata": {
        "id": "gPEB7tdClkUU"
      },
      "source": [
        "lengths 배열이 준비되었으므로 넘파이 **mean() 함수**와 **median() 함수**를 사용해 리뷰 길이의 평균과 중간값을 구해보자."
      ]
    },
    {
      "cell_type": "code",
      "metadata": {
        "colab": {
          "base_uri": "https://localhost:8080/"
        },
        "id": "UXfMPXhAJOqx",
        "outputId": "2977a73a-f7d1-47d2-c1a2-499048c038d4"
      },
      "source": [
        "print(np.mean(lengths), np.median(lengths))"
      ],
      "execution_count": null,
      "outputs": [
        {
          "output_type": "stream",
          "name": "stdout",
          "text": [
            "239.00925 178.0\n"
          ]
        }
      ]
    },
    {
      "cell_type": "markdown",
      "metadata": {
        "id": "CgDZCeg2lvHS"
      },
      "source": [
        "리뷰의 평균 단어 개수는 239개이고 중간값이 178인 것을 보아 리뷰 길이 데이터는 한쪽에 치우친 분포일 것이다. lengths 배열을 히스토그램에 표현해보자."
      ]
    },
    {
      "cell_type": "code",
      "metadata": {
        "colab": {
          "base_uri": "https://localhost:8080/",
          "height": 279
        },
        "id": "ruAn47zZJTT5",
        "outputId": "f4844f6b-a1e6-4585-a63b-b451f6801ce8"
      },
      "source": [
        "import matplotlib.pyplot as plt\n",
        "plt.hist(lengths)\n",
        "plt.xlabel('length')\n",
        "plt.ylabel('frequency')\n",
        "plt.show()"
      ],
      "execution_count": null,
      "outputs": [
        {
          "output_type": "display_data",
          "data": {
            "image/png": "[encoded data removed]",
            "text/plain": [
              "<Figure size 432x288 with 1 Axes>"
            ]
          },
          "metadata": {
            "needs_background": "light"
          }
        }
      ]
    },
    {
      "cell_type": "markdown",
      "metadata": {
        "id": "yBf_ZrENl7W_"
      },
      "source": [
        "데이터가 한 쪽으로 치우쳐있는 것을 알 수 있다. 대부분의 리뷰는 300 미만이며 평균이 중간값보다 높은 이유는 오른쪽 끝에 아주 큰 데이터가 있기 때문이다. \n",
        "\n",
        "리뷰는 대체로 짧으므로 100개의 단어만 사용하기로 하자. 이때 리뷰들의 길이를 100에 맞추기 위해 **100보다 짧은 리뷰는 패딩을 사용하고, 긴 리뷰는 길이가 100이 되도록 잘라야한다**. 일반적으로 패딩을 나타내는 토큰으로는 0을 사용한다. 케라스는 시퀀스 데이터의 길이를 맞추는 **pad_sequences() 함수**를 제공한다. 이 함수를 사용해 train_input의 길이를 100으로 맞춰보자."
      ]
    },
    {
      "cell_type": "code",
      "metadata": {
        "id": "2eZIgHlbJmAZ"
      },
      "source": [
        "from tensorflow.keras.preprocessing.sequence import pad_sequences\n",
        "train_seq = pad_sequences(train_input, maxlen = 100)"
      ],
      "execution_count": null,
      "outputs": []
    },
    {
      "cell_type": "markdown",
      "metadata": {
        "id": "qqQwLuIEm6tn"
      },
      "source": [
        "maxlen에 원하는 길이를 지정하면 이보다 긴 경우는 잘라내고 짧은 경우는 0으로 패딩한다. 패딩된 결과를 확인하기 위해 크기를 출력해보자."
      ]
    },
    {
      "cell_type": "code",
      "metadata": {
        "colab": {
          "base_uri": "https://localhost:8080/"
        },
        "id": "k7Hw1k3OKIsx",
        "outputId": "543e2926-283d-4ac9-8045-ba214f1ff6b2"
      },
      "source": [
        "print(train_seq.shape)"
      ],
      "execution_count": null,
      "outputs": [
        {
          "output_type": "stream",
          "name": "stdout",
          "text": [
            "(20000, 100)\n"
          ]
        }
      ]
    },
    {
      "cell_type": "markdown",
      "metadata": {
        "id": "NWDMsNbtnCRS"
      },
      "source": [
        "이번에는 train_seq에 저장된 첫 번째 샘플을 출력해보자."
      ]
    },
    {
      "cell_type": "code",
      "metadata": {
        "colab": {
          "base_uri": "https://localhost:8080/"
        },
        "id": "ZcgZu-EdKSZp",
        "outputId": "97f57aab-42ae-4c75-ac0c-89c66c9cd428"
      },
      "source": [
        "print(train_seq[0])"
      ],
      "execution_count": null,
      "outputs": [
        {
          "output_type": "stream",
          "name": "stdout",
          "text": [
            "[ 10   4  20   9   2 364 352   5  45   6   2   2  33 269   8   2 142   2\n",
            "   5   2  17  73  17 204   5   2  19  55   2   2  92  66 104  14  20  93\n",
            "  76   2 151  33   4  58  12 188   2 151  12 215  69 224 142  73 237   6\n",
            "   2   7   2   2 188   2 103  14  31  10  10 451   7   2   5   2  80  91\n",
            "   2  30   2  34  14  20 151  50  26 131  49   2  84  46  50  37  80  79\n",
            "   6   2  46   7  14  20  10  10 470 158]\n"
          ]
        }
      ]
    },
    {
      "cell_type": "markdown",
      "metadata": {
        "id": "FiFRWxw0nG44"
      },
      "source": [
        "앞뒤에 패딩값 0이 없다. 따라서 이전 첫 번째 샘플은 100보다 길이가 길었을 것이다. 이전 데이터 train_input에서 첫 번째 샘플의 끝을 확인해보자."
      ]
    },
    {
      "cell_type": "code",
      "metadata": {
        "colab": {
          "base_uri": "https://localhost:8080/"
        },
        "id": "IUwQCgN5KWrJ",
        "outputId": "0bb6e6bb-2aea-4f54-ed83-061994b80c15"
      },
      "source": [
        "print(train_input[0][-10:])"
      ],
      "execution_count": null,
      "outputs": [
        {
          "output_type": "stream",
          "name": "stdout",
          "text": [
            "[6, 2, 46, 7, 14, 20, 10, 10, 470, 158]\n"
          ]
        }
      ]
    },
    {
      "cell_type": "markdown",
      "metadata": {
        "id": "dnnJHi6XnS8P"
      },
      "source": [
        "원본 데이터의 끝과 변환한 데이터의 끝이 일치한다. 즉, pad_sequences() 함수는 기본적으로 샘플의 앞부분을 자른다는 사실을 알 수 있다.\n",
        "\n",
        "**pad_sequences() 함수는 기본으로 maxlen보다 긴 시퀀스의 앞부분을 자른다.** 일반적으로 시퀀스의 뒷부분의 정보가 더 유용할 것이라 기대하기 때문이다. 만약 시퀀스의 뒷부분을 자르고 싶다면 **truncating 매개변수**의 값을 기본값 'pre'가 아닌 'post'로 바꾸면 된다. \n",
        "\n",
        "이번에는 여섯 번째 샘플을 출력해보자."
      ]
    },
    {
      "cell_type": "code",
      "metadata": {
        "colab": {
          "base_uri": "https://localhost:8080/"
        },
        "id": "6tuXaI1QKa0x",
        "outputId": "602aedcd-906b-4f9b-fa8f-8b1d1ed0aa37"
      },
      "source": [
        "print(train_seq[5])"
      ],
      "execution_count": null,
      "outputs": [
        {
          "output_type": "stream",
          "name": "stdout",
          "text": [
            "[  0   0   0   0   1   2 195  19  49   2   2 190   4   2 352   2 183  10\n",
            "  10  13  82  79   4   2  36  71 269   8   2  25  19  49   7   4   2   2\n",
            "   2   2   2  10  10  48  25  40   2  11   2   2  40   2   2   5   4   2\n",
            "   2  95  14 238  56 129   2  10  10  21   2  94 364 352   2   2  11 190\n",
            "  24 484   2   7  94 205 405  10  10  87   2  34  49   2   7   2   2   2\n",
            "   2   2 290   2  46  48  64  18   4   2]\n"
          ]
        }
      ]
    },
    {
      "cell_type": "markdown",
      "metadata": {
        "id": "Jrc5kWaHoJIY"
      },
      "source": [
        "이전과 같은 이유로 100보다 길이가 짧으면 시퀀스의 앞에 0을 추가한다. 시퀀스의 마지막에 있는 단어가 셀의 은닉 상태에 가장 큰 영향을 미치게 되므로 마지막에 패딩을 추가하는 것은 일반적으로 선호하지 않는다. 하지만 원한다면 **padding 매개변수**의 기본값인 'pre'를 'post'로 바꾸면 된다.\n",
        "\n",
        "도일한 방식으로 검증 세트의 길이도 100으로 바꾸자."
      ]
    },
    {
      "cell_type": "code",
      "metadata": {
        "id": "0-v0w7LHWd8g"
      },
      "source": [
        "val_seq = pad_sequences(val_input, maxlen = 100)"
      ],
      "execution_count": null,
      "outputs": []
    },
    {
      "cell_type": "markdown",
      "metadata": {
        "id": "IOh1XYYXon3X"
      },
      "source": [
        "이제 순환 신경망 모델을 만들어보자.\n",
        "\n",
        "케라스는 여러 종류의 순환층 클래스를 제공한다. 그중 가장 간단한 것은 **SimpleRNN 클래스**이다. 이 클래스는 1절에서 설명한 것과 거의 비슷한 기능을 수행한다. 이진 분류이므로 마지막 출력층은 1개의 뉴런을 가지고 시그모이드 활성화 함수를 사용해야한다. 층을 구성해보자."
      ]
    },
    {
      "cell_type": "code",
      "metadata": {
        "id": "uwE00Q_ZK1tB"
      },
      "source": [
        "from tensorflow import keras\n",
        "model = keras.Sequential()\n",
        "model.add(keras.layers.SimpleRNN(8, input_shape = (100, 500)))\n",
        "model.add(keras.layers.Dense(1, activation = 'sigmoid'))"
      ],
      "execution_count": null,
      "outputs": []
    },
    {
      "cell_type": "markdown",
      "metadata": {
        "id": "u9ntRYN5pDt_"
      },
      "source": [
        "SimpleRNN 클래스의 **activation 매개변수**의 기본값은 **'tanh'**로 하이퍼볼릭 탄젠트 함수를 사용한다. 여기서는 기본값을 그대로 사용하기로 하자.\n",
        "\n",
        "입력 차원의 첫 번째 차원은 **샘플의 길이를 100으로 지정했기 때문에 100으로 지정**했다. \n",
        "\n",
        "그럼 500은 어디서 온 숫자일까? 이전 섹션에서 만든 train_seq와 val_seq에는 큰 문제가 있다. **토큰을 정수로 변환한 데이터를 신경망에 주입하면 큰 정수가 큰 활성화 출력을 만들기 때문이다.** 예를 들어, 20번 토큰을 10번 토큰보다 더 중요시해야 할 이유가 없다. 따라서 단순한 정숫값을 신경망에 입력하기 위해서 다른 방식을 찾아야 한다.\n",
        "\n",
        "정숫값에 있는 크기 속성을 없애고 각 정수를 고유하게 표현하는 방법에는 **'원-핫 인코딩'**이 있다. 예를 들어 토큰 10을 원-핫 인코딩으로 바꾸면 아래와 같다.\n",
        "\n",
        "* [0, 0, 0, 0, 0, 0, 0, 0, 0, 0, 1, ..., 0]\n",
        "* 원-핫 인코딩은 정숫값을 배열에서 해당 정수 위치의 원소만 1이고 나머지는 모두 0으로 변환한다. 따라서 토큰 10을 원-핫 인코딩으로 변환하면 열한 번째 원소만 1이고 나머지는 0이된다.\n",
        "\n",
        "우리는 imdb.data_load() 함수에서 num_words를 500으로 지정했다. 따라서 토큰의 범위는 0~499일 것이다. 따라서 **이 범위를 원-핫 인코딩으로 표현하려면 배열의 길이가 500이어야 한다**.\n",
        "\n",
        "케라스에서는 원-핫 인코딩을 위해서 keras.utils 패키지 아래에 **to_categorical() 함수**를 제공한다. 정수 배열을 입력하면 자동으로 원-핫 인코딩된 배열을 반환해준다."
      ]
    },
    {
      "cell_type": "code",
      "metadata": {
        "id": "m9fQx737LjwQ"
      },
      "source": [
        "train_oh = keras.utils.to_categorical(train_seq)"
      ],
      "execution_count": null,
      "outputs": []
    },
    {
      "cell_type": "markdown",
      "metadata": {
        "id": "kCMRoxG4rvE3"
      },
      "source": [
        "train_oh의 크기를 확인해보자."
      ]
    },
    {
      "cell_type": "code",
      "metadata": {
        "colab": {
          "base_uri": "https://localhost:8080/"
        },
        "id": "GyHQ9BkMVqup",
        "outputId": "2f29740f-2fc2-42a5-8203-5c10a35d24aa"
      },
      "source": [
        "print(train_oh.shape)"
      ],
      "execution_count": null,
      "outputs": [
        {
          "output_type": "stream",
          "name": "stdout",
          "text": [
            "(20000, 100, 500)\n"
          ]
        }
      ]
    },
    {
      "cell_type": "markdown",
      "metadata": {
        "id": "XC9oQKTErz7T"
      },
      "source": [
        "샘플 데이터의 크기가 1차원 정수 (100,)에서 2차원 배열 (100, 500)으로 바뀌었다. 따라서 input_shape 매개변수의 값을 (100, 500)으로 지정한 것이다.\n",
        "\n",
        "잘 인코딩 되었는지 첫 번째 샘플의 첫 번째 토큰 10을 확인해보자."
      ]
    },
    {
      "cell_type": "code",
      "metadata": {
        "colab": {
          "base_uri": "https://localhost:8080/"
        },
        "id": "tclpv5w9Vuq4",
        "outputId": "06a0251c-a96a-48c8-94b6-9dcd62e84eb7"
      },
      "source": [
        "print(train_oh[0][0][:12])"
      ],
      "execution_count": null,
      "outputs": [
        {
          "output_type": "stream",
          "name": "stdout",
          "text": [
            "[0. 0. 0. 0. 0. 0. 0. 0. 0. 0. 1. 0.]\n"
          ]
        }
      ]
    },
    {
      "cell_type": "markdown",
      "metadata": {
        "id": "PIaLBMAMsVrG"
      },
      "source": [
        "나머지 원소가 모두 1인지 확인해보자. 모든 원소의 값을 더했을 때 1이 되면 된다."
      ]
    },
    {
      "cell_type": "code",
      "metadata": {
        "colab": {
          "base_uri": "https://localhost:8080/"
        },
        "id": "RFXo34H0WHeg",
        "outputId": "30740d10-7c19-49df-f23d-910a0e7b8a2c"
      },
      "source": [
        "print(np.sum(train_oh[0][0]))"
      ],
      "execution_count": null,
      "outputs": [
        {
          "output_type": "stream",
          "name": "stdout",
          "text": [
            "1.0\n"
          ]
        }
      ]
    },
    {
      "cell_type": "markdown",
      "metadata": {
        "id": "K5nn41j3sd0r"
      },
      "source": [
        "같은 방식으로 val_seq도 원-핫 인코딩으로 바꾸자."
      ]
    },
    {
      "cell_type": "code",
      "metadata": {
        "id": "IRVh2qpZWML4"
      },
      "source": [
        "val_oh = keras.utils.to_categorical(val_seq)"
      ],
      "execution_count": null,
      "outputs": []
    },
    {
      "cell_type": "markdown",
      "metadata": {
        "id": "VBs1YVvwsiXb"
      },
      "source": [
        "앞서 만든 모델의 구조를 출력해보자."
      ]
    },
    {
      "cell_type": "code",
      "metadata": {
        "colab": {
          "base_uri": "https://localhost:8080/"
        },
        "id": "MwhR6zPCWVAH",
        "outputId": "3a66cd35-11cb-40e5-f3ff-ae325b6c094b"
      },
      "source": [
        "model.summary()"
      ],
      "execution_count": null,
      "outputs": [
        {
          "output_type": "stream",
          "name": "stdout",
          "text": [
            "Model: \"sequential\"\n",
            "_________________________________________________________________\n",
            "Layer (type)                 Output Shape              Param #   \n",
            "=================================================================\n",
            "simple_rnn (SimpleRNN)       (None, 8)                 4072      \n",
            "_________________________________________________________________\n",
            "dense (Dense)                (None, 1)                 9         \n",
            "=================================================================\n",
            "Total params: 4,081\n",
            "Trainable params: 4,081\n",
            "Non-trainable params: 0\n",
            "_________________________________________________________________\n"
          ]
        }
      ]
    },
    {
      "cell_type": "markdown",
      "metadata": {
        "id": "3YRrm9Xbsnv4"
      },
      "source": [
        "SimpleRNN에 전달할 샘플의 크기는 (100, 500)이다. 순환층의 모델 파라미터를 계산해보자. 500 차원의 원-핫 인코딩 배열이 순환층 뉴런 8개와 완전히 연결되므로 500 × 8 = 4,000개의 가중치가 존재한다. 타임스텝에 사용될 가중치는 8(은닉 상태의 크기) × 8(뉴런의 개수) = 64개가 존재한다. 그리고 절편은 뉴런의 개수만큼 존재하므로 총 8개가 있을 것이다. 따라서 4000 + 64 + 8 = 4072로 총 4072개의 모델 파라미터가 필요하다."
      ]
    },
    {
      "cell_type": "markdown",
      "metadata": {
        "id": "udcYBM2htVFo"
      },
      "source": [
        "모델을 훈련시켜보자. RMSprop의 학습률을 0.0001로 낮추기 위해 객체를 하나 생성하고 에포크 횟수를 100, 배치 크기는 64로 늘려 훈련하기로 하자."
      ]
    },
    {
      "cell_type": "code",
      "metadata": {
        "colab": {
          "base_uri": "https://localhost:8080/"
        },
        "id": "OFlN9SwUW6v_",
        "outputId": "c0066db4-f139-414a-cb70-f0becd0a4d75"
      },
      "source": [
        "rmsprop = keras.optimizers.RMSprop(learning_rate = 1e-4)\n",
        "model.compile(optimizer = rmsprop, loss = 'binary_crossentropy', metrics = ['accuracy'])\n",
        "checkpoint_cb = keras.callbacks.ModelCheckpoint(\"best-simplernn-model.h5\", save_best_only = True)\n",
        "early_stopping_cb = keras.callbacks.EarlyStopping(patience = 3, restore_best_weights = True)\n",
        "history = model.fit(train_oh, train_target, epochs = 100, batch_size = 64, validation_data = (val_oh, val_target), callbacks = [checkpoint_cb, early_stopping_cb])"
      ],
      "execution_count": null,
      "outputs": [
        {
          "output_type": "stream",
          "name": "stdout",
          "text": [
            "Epoch 1/100\n",
            "313/313 [==============================] - 16s 46ms/step - loss: 0.7041 - accuracy: 0.4987 - val_loss: 0.7011 - val_accuracy: 0.4960\n",
            "Epoch 2/100\n",
            "313/313 [==============================] - 14s 45ms/step - loss: 0.6970 - accuracy: 0.5120 - val_loss: 0.6972 - val_accuracy: 0.5036\n",
            "Epoch 3/100\n",
            "313/313 [==============================] - 14s 45ms/step - loss: 0.6925 - accuracy: 0.5245 - val_loss: 0.6939 - val_accuracy: 0.5110\n",
            "Epoch 4/100\n",
            "313/313 [==============================] - 13s 42ms/step - loss: 0.6891 - accuracy: 0.5361 - val_loss: 0.6913 - val_accuracy: 0.5234\n",
            "Epoch 5/100\n",
            "313/313 [==============================] - 13s 43ms/step - loss: 0.6861 - accuracy: 0.5484 - val_loss: 0.6890 - val_accuracy: 0.5326\n",
            "Epoch 6/100\n",
            "313/313 [==============================] - 13s 42ms/step - loss: 0.6824 - accuracy: 0.5639 - val_loss: 0.6855 - val_accuracy: 0.5464\n",
            "Epoch 7/100\n",
            "313/313 [==============================] - 13s 43ms/step - loss: 0.6731 - accuracy: 0.5908 - val_loss: 0.6586 - val_accuracy: 0.6204\n",
            "Epoch 8/100\n",
            "313/313 [==============================] - 13s 42ms/step - loss: 0.6355 - accuracy: 0.6612 - val_loss: 0.6271 - val_accuracy: 0.6690\n",
            "Epoch 9/100\n",
            "313/313 [==============================] - 13s 43ms/step - loss: 0.6067 - accuracy: 0.6913 - val_loss: 0.5997 - val_accuracy: 0.7114\n",
            "Epoch 10/100\n",
            "313/313 [==============================] - 13s 43ms/step - loss: 0.5822 - accuracy: 0.7176 - val_loss: 0.5792 - val_accuracy: 0.7188\n",
            "Epoch 11/100\n",
            "313/313 [==============================] - 13s 41ms/step - loss: 0.5620 - accuracy: 0.7338 - val_loss: 0.5615 - val_accuracy: 0.7394\n",
            "Epoch 12/100\n",
            "313/313 [==============================] - 13s 42ms/step - loss: 0.5443 - accuracy: 0.7485 - val_loss: 0.5470 - val_accuracy: 0.7462\n",
            "Epoch 13/100\n",
            "313/313 [==============================] - 13s 42ms/step - loss: 0.5295 - accuracy: 0.7578 - val_loss: 0.5347 - val_accuracy: 0.7522\n",
            "Epoch 14/100\n",
            "313/313 [==============================] - 13s 42ms/step - loss: 0.5153 - accuracy: 0.7644 - val_loss: 0.5243 - val_accuracy: 0.7524\n",
            "Epoch 15/100\n",
            "313/313 [==============================] - 13s 42ms/step - loss: 0.5022 - accuracy: 0.7732 - val_loss: 0.5104 - val_accuracy: 0.7628\n",
            "Epoch 16/100\n",
            "313/313 [==============================] - 13s 42ms/step - loss: 0.4909 - accuracy: 0.7796 - val_loss: 0.5004 - val_accuracy: 0.7710\n",
            "Epoch 17/100\n",
            "313/313 [==============================] - 13s 43ms/step - loss: 0.4813 - accuracy: 0.7836 - val_loss: 0.4954 - val_accuracy: 0.7684\n",
            "Epoch 18/100\n",
            "313/313 [==============================] - 13s 42ms/step - loss: 0.4711 - accuracy: 0.7898 - val_loss: 0.4893 - val_accuracy: 0.7710\n",
            "Epoch 19/100\n",
            "313/313 [==============================] - 13s 43ms/step - loss: 0.4630 - accuracy: 0.7923 - val_loss: 0.4792 - val_accuracy: 0.7792\n",
            "Epoch 20/100\n",
            "313/313 [==============================] - 14s 44ms/step - loss: 0.4557 - accuracy: 0.7952 - val_loss: 0.4742 - val_accuracy: 0.7776\n",
            "Epoch 21/100\n",
            "313/313 [==============================] - 14s 43ms/step - loss: 0.4496 - accuracy: 0.7996 - val_loss: 0.4727 - val_accuracy: 0.7796\n",
            "Epoch 22/100\n",
            "313/313 [==============================] - 13s 43ms/step - loss: 0.4441 - accuracy: 0.8030 - val_loss: 0.4654 - val_accuracy: 0.7808\n",
            "Epoch 23/100\n",
            "313/313 [==============================] - 14s 44ms/step - loss: 0.4391 - accuracy: 0.8066 - val_loss: 0.4614 - val_accuracy: 0.7850\n",
            "Epoch 24/100\n",
            "313/313 [==============================] - 13s 43ms/step - loss: 0.4345 - accuracy: 0.8078 - val_loss: 0.4632 - val_accuracy: 0.7834\n",
            "Epoch 25/100\n",
            "313/313 [==============================] - 14s 44ms/step - loss: 0.4314 - accuracy: 0.8105 - val_loss: 0.4565 - val_accuracy: 0.7866\n",
            "Epoch 26/100\n",
            "313/313 [==============================] - 13s 43ms/step - loss: 0.4276 - accuracy: 0.8125 - val_loss: 0.4578 - val_accuracy: 0.7874\n",
            "Epoch 27/100\n",
            "313/313 [==============================] - 13s 43ms/step - loss: 0.4250 - accuracy: 0.8133 - val_loss: 0.4563 - val_accuracy: 0.7848\n",
            "Epoch 28/100\n",
            "313/313 [==============================] - 13s 43ms/step - loss: 0.4226 - accuracy: 0.8159 - val_loss: 0.4589 - val_accuracy: 0.7888\n",
            "Epoch 29/100\n",
            "313/313 [==============================] - 13s 42ms/step - loss: 0.4200 - accuracy: 0.8160 - val_loss: 0.4524 - val_accuracy: 0.7912\n",
            "Epoch 30/100\n",
            "313/313 [==============================] - 13s 43ms/step - loss: 0.4180 - accuracy: 0.8159 - val_loss: 0.4676 - val_accuracy: 0.7788\n",
            "Epoch 31/100\n",
            "313/313 [==============================] - 13s 42ms/step - loss: 0.4163 - accuracy: 0.8171 - val_loss: 0.4498 - val_accuracy: 0.7926\n",
            "Epoch 32/100\n",
            "313/313 [==============================] - 13s 43ms/step - loss: 0.4147 - accuracy: 0.8188 - val_loss: 0.4586 - val_accuracy: 0.7882\n",
            "Epoch 33/100\n",
            "313/313 [==============================] - 13s 42ms/step - loss: 0.4128 - accuracy: 0.8177 - val_loss: 0.4485 - val_accuracy: 0.7924\n",
            "Epoch 34/100\n",
            "313/313 [==============================] - 13s 43ms/step - loss: 0.4110 - accuracy: 0.8207 - val_loss: 0.4504 - val_accuracy: 0.7960\n",
            "Epoch 35/100\n",
            "313/313 [==============================] - 14s 44ms/step - loss: 0.4107 - accuracy: 0.8213 - val_loss: 0.4628 - val_accuracy: 0.7826\n",
            "Epoch 36/100\n",
            "313/313 [==============================] - 14s 43ms/step - loss: 0.4090 - accuracy: 0.8203 - val_loss: 0.4464 - val_accuracy: 0.7968\n",
            "Epoch 37/100\n",
            "313/313 [==============================] - 13s 43ms/step - loss: 0.4078 - accuracy: 0.8220 - val_loss: 0.4463 - val_accuracy: 0.7954\n",
            "Epoch 38/100\n",
            "313/313 [==============================] - 14s 43ms/step - loss: 0.4067 - accuracy: 0.8231 - val_loss: 0.4471 - val_accuracy: 0.7984\n",
            "Epoch 39/100\n",
            "313/313 [==============================] - 14s 44ms/step - loss: 0.4056 - accuracy: 0.8231 - val_loss: 0.4465 - val_accuracy: 0.7956\n",
            "Epoch 40/100\n",
            "313/313 [==============================] - 14s 44ms/step - loss: 0.4050 - accuracy: 0.8237 - val_loss: 0.4488 - val_accuracy: 0.7952\n"
          ]
        }
      ]
    },
    {
      "cell_type": "markdown",
      "metadata": {
        "id": "iizqcXBmtj-X"
      },
      "source": [
        "마흔 번째 에포크에서 조기 종료되었다. 검증 세트에 대한 정확도는 약 80% 정도이다. 뛰어난 성능은 아니지만 어느 정도 분류는 가능하다고 판단할 수 있다. \n",
        "\n",
        "훈련 손실과 검증 손실 그래프를 그려 훈련 과정을 살펴보자."
      ]
    },
    {
      "cell_type": "code",
      "metadata": {
        "colab": {
          "base_uri": "https://localhost:8080/",
          "height": 279
        },
        "id": "Aixm1c4HYOM4",
        "outputId": "c8c9f60d-a811-4916-9edd-1e14e556d3fb"
      },
      "source": [
        "plt.plot(history.history['loss'])\n",
        "plt.plot(history.history['val_loss'])\n",
        "plt.xlabel('epoch')\n",
        "plt.ylabel('loss')\n",
        "plt.legend(['train', 'val'])\n",
        "plt.show()"
      ],
      "execution_count": null,
      "outputs": [
        {
          "output_type": "display_data",
          "data": {
            "image/png": "[encoded data removed]",
            "text/plain": [
              "<Figure size 432x288 with 1 Axes>"
            ]
          },
          "metadata": {
            "needs_background": "light"
          }
        }
      ]
    },
    {
      "cell_type": "markdown",
      "metadata": {
        "id": "w_jN4l_-t1mo"
      },
      "source": [
        "적절한 에포크에서 훈련을 멈춘 것 같다. 하지만 한 가지 생각할 점이 있다. 우리는 이 작업을 위해 입력 데이터를 원-핫 인코딩으로 변환했다. **원-핫 인코딩은 입력 데이터가 엄청 커지는 단점을 가진다.** 실제로 train_seq와 train_oh 배열의 **nbytes 속성**을 출력하여 크기를 확인해보자."
      ]
    },
    {
      "cell_type": "code",
      "metadata": {
        "colab": {
          "base_uri": "https://localhost:8080/"
        },
        "id": "kx_JwsXBYiC4",
        "outputId": "aba8a80d-507e-415b-ee1d-d09a45adf6a6"
      },
      "source": [
        "print(train_seq.nbytes, train_oh.nbytes)"
      ],
      "execution_count": null,
      "outputs": [
        {
          "output_type": "stream",
          "name": "stdout",
          "text": [
            "8000000 4000000000\n"
          ]
        }
      ]
    },
    {
      "cell_type": "markdown",
      "metadata": {
        "id": "MD1BbGVmuSnh"
      },
      "source": [
        "토큰 1개를 500차원으로 늘렸기 때문에 대략 500배가 커진다. 훈련 데이터가 커질수록 더 문제가 커질 것이다."
      ]
    },
    {
      "cell_type": "markdown",
      "metadata": {
        "id": "TT4fc0F-ucFt"
      },
      "source": [
        "순환 신경망에서 텍스트를 처리할 때 즐겨 사용하는 방법은 **'단어 임베딩(word embedding)'**이다. 단어 임베딩은 각 단어를 고정된 크기의 실수 벡터로 바꾼다.\n",
        "\n",
        "단어 임베딩으로 만들어진 벡터는 원-핫 인코딩된 벡터보다 훨씬 의미 있는 값으로 채워져 있기 때문에 자연어 처리에서 더 좋은 성능을 내는 경우가 많다. 케라스에서는 keras.layers 패키지 아래에 **Embedding 클래스**를 제공한다. 이 클래스를 다른 층처럼 모델에 추가하면 처음에는 모든 벡터가 랜덤하게 초기화되지만 훈련을 통해 데이터에서 좋은 단어 임베딩을 학습한다.\n",
        "\n",
        "앞서 원-핫 인코딩으로 데이터를 (100, 500)으로 변환했지만 임베딩을 사용하면 (100, 20)정도로 훨씬 작은 크기로 단어를 잘 표현할 수 있다. Embedding 클래스를 SimpleRNN 클래스 앞에 추가해 두 번째 순환 신경망을 만들어보자."
      ]
    },
    {
      "cell_type": "code",
      "metadata": {
        "id": "eSFYyxhFYxCN"
      },
      "source": [
        "model2 = keras.Sequential()\n",
        "model2.add(keras.layers.Embedding(500, 16, input_length = 100))\n",
        "model2.add(keras.layers.SimpleRNN(8))\n",
        "model2.add(keras.layers.Dense(1, activation = 'sigmoid'))"
      ],
      "execution_count": null,
      "outputs": []
    },
    {
      "cell_type": "markdown",
      "metadata": {
        "id": "clS1HBbRvYVH"
      },
      "source": [
        "Embedding 클래스의 첫 번째 매개변수는 **어휘 사전의 크기**이다. 두 번째 매개변수는 **임베딩 벡터의 크기**이다. 세 번째 **input_length 매개변수**는 입력 시퀀스의 길이이다. 앞서 샘플의 길이를 100으로 맞췄으므로 100으로 지정했다. 이후 구조는 이전과 동일하다."
      ]
    },
    {
      "cell_type": "code",
      "metadata": {
        "colab": {
          "base_uri": "https://localhost:8080/"
        },
        "id": "bXEinnFXaCAE",
        "outputId": "af5b9fce-07e3-4cec-bf72-87c8926c8017"
      },
      "source": [
        "model2.summary()"
      ],
      "execution_count": null,
      "outputs": [
        {
          "output_type": "stream",
          "name": "stdout",
          "text": [
            "Model: \"sequential_1\"\n",
            "_________________________________________________________________\n",
            "Layer (type)                 Output Shape              Param #   \n",
            "=================================================================\n",
            "embedding (Embedding)        (None, 100, 16)           8000      \n",
            "_________________________________________________________________\n",
            "simple_rnn_1 (SimpleRNN)     (None, 8)                 200       \n",
            "_________________________________________________________________\n",
            "dense_1 (Dense)              (None, 1)                 9         \n",
            "=================================================================\n",
            "Total params: 8,209\n",
            "Trainable params: 8,209\n",
            "Non-trainable params: 0\n",
            "_________________________________________________________________\n"
          ]
        }
      ]
    },
    {
      "cell_type": "markdown",
      "metadata": {
        "id": "zzVNxzRMvwBu"
      },
      "source": [
        "Embedding 클래스는 500개의 각 토큰을 크기가 16인 데이터로 변경한다. 따라서 총 500 × 16 = 8000 개의 모델 파라미터를 가진다. SimpleRNN은 이전과 같은 방식으로 계산하면 된다.\n",
        "\n",
        "이전과 동일하게 모델을 훈련해보자."
      ]
    },
    {
      "cell_type": "code",
      "metadata": {
        "colab": {
          "base_uri": "https://localhost:8080/"
        },
        "id": "evHB1wA0a01x",
        "outputId": "e97a40d4-6879-43d4-a953-5f76bd729bbb"
      },
      "source": [
        "rmsprop = keras.optimizers.RMSprop(learning_rate = 1e-4)\n",
        "model2.compile(optimizer = rmsprop, loss = 'binary_crossentropy', metrics = ['accuracy'])\n",
        "checkpoint_cb = keras.callbacks.ModelCheckpoint(\"best=embedding-model.h5\", save_best_only = True)\n",
        "early_stopping_cb = keras.callbacks.EarlyStopping(patience = 3, restore_best_weights = True)\n",
        "history = model2.fit(train_seq, train_target, epochs = 100, batch_size = 64, validation_data = (val_seq, val_target), callbacks = [checkpoint_cb, early_stopping_cb])"
      ],
      "execution_count": null,
      "outputs": [
        {
          "output_type": "stream",
          "name": "stdout",
          "text": [
            "Epoch 1/100\n",
            "313/313 [==============================] - 9s 25ms/step - loss: 0.6763 - accuracy: 0.5746 - val_loss: 0.6488 - val_accuracy: 0.6490\n",
            "Epoch 2/100\n",
            "313/313 [==============================] - 7s 24ms/step - loss: 0.6317 - accuracy: 0.6793 - val_loss: 0.6197 - val_accuracy: 0.6964\n",
            "Epoch 3/100\n",
            "313/313 [==============================] - 7s 24ms/step - loss: 0.6019 - accuracy: 0.7218 - val_loss: 0.5930 - val_accuracy: 0.7364\n",
            "Epoch 4/100\n",
            "313/313 [==============================] - 8s 24ms/step - loss: 0.5765 - accuracy: 0.7466 - val_loss: 0.5732 - val_accuracy: 0.7422\n",
            "Epoch 5/100\n",
            "313/313 [==============================] - 8s 25ms/step - loss: 0.5548 - accuracy: 0.7613 - val_loss: 0.5583 - val_accuracy: 0.7438\n",
            "Epoch 6/100\n",
            "313/313 [==============================] - 7s 24ms/step - loss: 0.5366 - accuracy: 0.7704 - val_loss: 0.5447 - val_accuracy: 0.7612\n",
            "Epoch 7/100\n",
            "313/313 [==============================] - 8s 24ms/step - loss: 0.5200 - accuracy: 0.7814 - val_loss: 0.5294 - val_accuracy: 0.7616\n",
            "Epoch 8/100\n",
            "313/313 [==============================] - 8s 24ms/step - loss: 0.5050 - accuracy: 0.7861 - val_loss: 0.5169 - val_accuracy: 0.7700\n",
            "Epoch 9/100\n",
            "313/313 [==============================] - 7s 24ms/step - loss: 0.4915 - accuracy: 0.7931 - val_loss: 0.5059 - val_accuracy: 0.7760\n",
            "Epoch 10/100\n",
            "313/313 [==============================] - 7s 24ms/step - loss: 0.4800 - accuracy: 0.7982 - val_loss: 0.4945 - val_accuracy: 0.7814\n",
            "Epoch 11/100\n",
            "313/313 [==============================] - 8s 24ms/step - loss: 0.4699 - accuracy: 0.8029 - val_loss: 0.4883 - val_accuracy: 0.7794\n",
            "Epoch 12/100\n",
            "313/313 [==============================] - 7s 24ms/step - loss: 0.4601 - accuracy: 0.8064 - val_loss: 0.4866 - val_accuracy: 0.7760\n",
            "Epoch 13/100\n",
            "313/313 [==============================] - 8s 25ms/step - loss: 0.4522 - accuracy: 0.8077 - val_loss: 0.4789 - val_accuracy: 0.7808\n",
            "Epoch 14/100\n",
            "313/313 [==============================] - 7s 24ms/step - loss: 0.4445 - accuracy: 0.8102 - val_loss: 0.4716 - val_accuracy: 0.7828\n",
            "Epoch 15/100\n",
            "313/313 [==============================] - 7s 23ms/step - loss: 0.4381 - accuracy: 0.8130 - val_loss: 0.4694 - val_accuracy: 0.7848\n",
            "Epoch 16/100\n",
            "313/313 [==============================] - 7s 23ms/step - loss: 0.4325 - accuracy: 0.8134 - val_loss: 0.4654 - val_accuracy: 0.7832\n",
            "Epoch 17/100\n",
            "313/313 [==============================] - 7s 23ms/step - loss: 0.4279 - accuracy: 0.8168 - val_loss: 0.4650 - val_accuracy: 0.7878\n",
            "Epoch 18/100\n",
            "313/313 [==============================] - 7s 24ms/step - loss: 0.4231 - accuracy: 0.8173 - val_loss: 0.4621 - val_accuracy: 0.7898\n",
            "Epoch 19/100\n",
            "313/313 [==============================] - 7s 24ms/step - loss: 0.4184 - accuracy: 0.8189 - val_loss: 0.4602 - val_accuracy: 0.7884\n",
            "Epoch 20/100\n",
            "313/313 [==============================] - 8s 24ms/step - loss: 0.4147 - accuracy: 0.8212 - val_loss: 0.4690 - val_accuracy: 0.7790\n",
            "Epoch 21/100\n",
            "313/313 [==============================] - 8s 24ms/step - loss: 0.4120 - accuracy: 0.8233 - val_loss: 0.4645 - val_accuracy: 0.7810\n",
            "Epoch 22/100\n",
            "313/313 [==============================] - 8s 24ms/step - loss: 0.4086 - accuracy: 0.8238 - val_loss: 0.4599 - val_accuracy: 0.7850\n",
            "Epoch 23/100\n",
            "313/313 [==============================] - 8s 24ms/step - loss: 0.4062 - accuracy: 0.8245 - val_loss: 0.4548 - val_accuracy: 0.7914\n",
            "Epoch 24/100\n",
            "313/313 [==============================] - 8s 24ms/step - loss: 0.4035 - accuracy: 0.8260 - val_loss: 0.4581 - val_accuracy: 0.7860\n",
            "Epoch 25/100\n",
            "313/313 [==============================] - 7s 24ms/step - loss: 0.4017 - accuracy: 0.8267 - val_loss: 0.4551 - val_accuracy: 0.7878\n",
            "Epoch 26/100\n",
            "313/313 [==============================] - 8s 24ms/step - loss: 0.3991 - accuracy: 0.8285 - val_loss: 0.4598 - val_accuracy: 0.7894\n"
          ]
        }
      ]
    },
    {
      "cell_type": "markdown",
      "metadata": {
        "id": "sRMLloWxwDQb"
      },
      "source": [
        "순환층의 가중치 개수가 훨씬 작아졌고 훈련 세트의 크기도 훨씬 줄었지만 원-핫 인코딩 모델과 비슷한 성능을 냈다. 마지막으로 훈련 손실과 검증 손실 그래프를 출력해보자."
      ]
    },
    {
      "cell_type": "code",
      "metadata": {
        "colab": {
          "base_uri": "https://localhost:8080/",
          "height": 279
        },
        "id": "ox-NxHQUcAQX",
        "outputId": "1f2e0e2a-4717-47b3-a9aa-d9084fdd4a85"
      },
      "source": [
        "plt.plot(history.history['loss'])\n",
        "plt.plot(history.history['val_loss'])\n",
        "plt.xlabel('epoch')\n",
        "plt.ylabel('loss')\n",
        "plt.legend(['train', 'val'])\n",
        "plt.show()"
      ],
      "execution_count": null,
      "outputs": [
        {
          "output_type": "display_data",
          "data": {
            "image/png": "[encoded data removed]",
            "text/plain": [
              "<Figure size 432x288 with 1 Axes>"
            ]
          },
          "metadata": {
            "needs_background": "light"
          }
        }
      ]
    },
    {
      "cell_type": "markdown",
      "metadata": {
        "id": "_vmj2rBfwUnA"
      },
      "source": [
        "검증 손실이 더 감소되지 않아 적절하게 조기 종료된 것 같다."
      ]
    },
    {
      "cell_type": "markdown",
      "metadata": {
        "id": "tlUBS9kKwZyH"
      },
      "source": [
        "# 정리\n",
        "\n",
        "핵심 포인트\n",
        "* 말뭉치: **자연어 처리에서 사용하는 텍스트 데이터의 모음, 즉 훈련 데이터 셋을 일컫는다.**\n",
        "* 토큰: **텍스트에서 공백으로 구분되는 문자열**을 말한다. 종종 소문자로 변환하고 구둣점은 삭제한다.\n",
        "* 원-핫 인코딩: **어떤 클래스에 해당하는 원소만 1이고 나머지는 모두 0인 벡터**이다. 정수로 변환된 토큰을 원-핫 인코딩으로 변화하려면 **어휘 사전 크기의 벡터가 만들어진다**.\n",
        "* 단어 임베딩: **정수로 변환된 토큰을 비교적 작은 크기의 실수 밀집 벡터로 변환한다.** 이런 밀집 벡터는 단어 사이의 관계를 표현할 수 있기 때문에 자연어 처리에서 좋은 성능을 발휘한다.\n",
        "\n",
        "핵심 패키지와 함수\n",
        "\n",
        "TensorFlow\n",
        "* pad_sequences(): **시퀀스의 길이를 맞추기 위해 패딩을 추가한다.** 이 함수는 (샘플 개수, 타임스텝 개수) 크기의 2차원 배열을 기대한다. **maxlen 매개변수**로 원하는 시퀀스 길이를 지정할 수 있다. 이 값보다 긴 시퀀스는 잘리고 짧은 시퀀스는 패딩된다. 매개변수를 지정하지 않으면 가장 긴 시퀀스의 길이가 된다. **padding 매개변수**는 패딩을 추가할 위치를 지정한다. 기본값인 'pre'는 시퀀스 앞에 패딩을 추가하고 'post'는 시퀀스 뒤에 패딩을 추가한다. **truncating 매개변수**는 긴 시퀀스에서 잘라버릴 위치를 지정한다. 기본값인 'pre'는 시퀀스 앞부분을 자르고 'post'는 시퀀스 뒷부분을 자른다.\n",
        "* to_categorical(): **정수 시퀀스를 원-핫 인코딩으로 변환한다.** 토큰을 원-핫 인코딩하거나 타깃값을 원-핫 인코딩할 때 사용한다. **num_classes 매개변수**에서 클래스 개수를 지정한다. 지정하지 않으면 데이터에서 자동으로 찾는다.\n",
        "* SimpleRNN: **케라스의 기본 순환층 클래스이다.** 첫 번째 매개변수에 **뉴런의 개수**를 지정한다. **activaion 매개변수**에 활성화 함수를 지정하며 기본값은 'tanh'이다. **dropout 매개변수**에서 입력에 대한 드롭아웃 비율을 지정할 수 있다. **return_sequences 매개변수**에서 모든 타임스텝의 은닉 상태를 출력할지 결정한다. 기본값은 False이다.\n",
        "* Embedding: **단어 임베딩을 위한 클래스이다.** 첫 번째 매개변수에서 **어휘 사전의 크기**를 지정한다. 두 번째 매개변수에서 Embedding 층이 출력할 **밀집 벡터의 크기**를 지정한다. **input_length 매개변수**에서 **입력 시퀀스의 길이**를 지정한다. 이 매개변수는 Embedding 층 바로 뒤에 Flatten이나 Dense 클래스가 올 때 꼭 필요하다."
      ]
    }
  ]
}