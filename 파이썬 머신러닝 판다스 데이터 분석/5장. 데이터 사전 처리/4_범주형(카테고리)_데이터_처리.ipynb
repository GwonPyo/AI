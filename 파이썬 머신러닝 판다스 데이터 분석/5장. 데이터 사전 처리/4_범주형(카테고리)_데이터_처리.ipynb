{
  "nbformat": 4,
  "nbformat_minor": 0,
  "metadata": {
    "colab": {
      "name": "4. 범주형(카테고리) 데이터 처리.ipynb",
      "provenance": [],
      "collapsed_sections": []
    },
    "kernelspec": {
      "name": "python3",
      "display_name": "Python 3"
    },
    "language_info": {
      "name": "python"
    }
  },
  "cells": [
    {
      "cell_type": "markdown",
      "metadata": {
        "id": "KYgy5uTyW2w6"
      },
      "source": [
        "<h3> 구간 분할 </h3>\n",
        "\n",
        "데이터 분석 알고리즘에 따라 연속 데이터보다 일정한 구간(bin)으로 나누어 분석하는 것이 효율적인 경우가 있다. 가격, 비용, 효율 등 연속적인 값을 일정한 수준이나 정도를 나타내는 이산적인 값으로 나타내어 구간별 차이를 드러내는 것이다. 이처럼 연속 변수를 일정한 구간으로 나누고, 각 구간을 범주형 이산 변수로 변화하는 과정을 **'구간 분할(binning)'**이라고 한다. <br>\n",
        "판다스의 **cut() 함수**를 사용하면 구간 분할이 가능하다.<br>\n",
        "먼저 'horsepower' 열의 값을 'float' 형으로 변환하고 numpy의 **histogram() 함수**를 활용해 구간을 나눠보자. **bins 매개변수**에 나누려는 구간의 개수를 입력한다. 각 구간에 속하는 값의 개수와 경계값 리스트를 반환한다. <br>\n",
        "(4개의 경계값과 3개의 구간이 만들어진다.)"
      ]
    },
    {
      "cell_type": "code",
      "metadata": {
        "id": "C7Dj9cuq5xuW",
        "colab": {
          "base_uri": "https://localhost:8080/"
        },
        "outputId": "b9f8bb1d-3ec6-4e94-d13b-79e2f7e5fee0"
      },
      "source": [
        "import pandas as pd\n",
        "import numpy as np\n",
        "\n",
        "df = pd.read_csv('auto-mpg.csv', header = None)\n",
        "df.columns = ['mpg','cylinders','displacement','horsepower','weight',\n",
        "              'acceleration','model year','origin','name'] \n",
        "\n",
        "df['horsepower'].replace('?', np.nan, inplace = True)\n",
        "df.dropna(subset = ['horsepower'], axis = 0, inplace = True)\n",
        "df['horsepower'] = df['horsepower'].astype('float')\n",
        "\n",
        "count, bin_dividers = np.histogram(df['horsepower'], bins = 3)\n",
        "print(count)\n",
        "print('\\n')\n",
        "print(bin_dividers)"
      ],
      "execution_count": 2,
      "outputs": [
        {
          "output_type": "stream",
          "name": "stdout",
          "text": [
            "[257 103  32]\n",
            "\n",
            "\n",
            "[ 46.         107.33333333 168.66666667 230.        ]\n"
          ]
        }
      ]
    },
    {
      "cell_type": "markdown",
      "metadata": {
        "id": "KlXXSGWMYQL7"
      },
      "source": [
        "cut() 함수에는 **x 매개변수**에 범주형 자료로 변환할 열을 지정해야 한다. <br>\n",
        "**bins 매개변수**에는 경계값 리스트를 전달하고, **labels 매개변수**에 각 구간의 이름을 지정한 리스트를 전달해야 한다. <br>\n",
        "**include_lowest 매개변수**를 True로 지정하면 각 구간의 가장 낮은 경계값을 포함한다."
      ]
    },
    {
      "cell_type": "code",
      "metadata": {
        "colab": {
          "base_uri": "https://localhost:8080/"
        },
        "id": "7M5oTGjuSyyp",
        "outputId": "7b04f336-9a8c-4bcf-cc7e-da7a5d89f838"
      },
      "source": [
        "bin_names = ['저출력', '보통출력', '고출력']\n",
        "\n",
        "df['hp_bin'] = pd.cut(x = df['horsepower'],\n",
        "                      bins = bin_dividers,\n",
        "                      labels = bin_names,\n",
        "                      include_lowest = True)\n",
        "\n",
        "df['hp_bin2'] = pd.cut(x = df['horsepower'],\n",
        "                      bins = bin_dividers,\n",
        "                      labels = bin_names,\n",
        "                      include_lowest = False)\n",
        "\n",
        "print(df[['horsepower', 'hp_bin', 'hp_bin2']].head(20))"
      ],
      "execution_count": 6,
      "outputs": [
        {
          "output_type": "stream",
          "name": "stdout",
          "text": [
            "    horsepower hp_bin hp_bin2\n",
            "0        130.0   보통출력    보통출력\n",
            "1        165.0   보통출력    보통출력\n",
            "2        150.0   보통출력    보통출력\n",
            "3        150.0   보통출력    보통출력\n",
            "4        140.0   보통출력    보통출력\n",
            "5        198.0    고출력     고출력\n",
            "6        220.0    고출력     고출력\n",
            "7        215.0    고출력     고출력\n",
            "8        225.0    고출력     고출력\n",
            "9        190.0    고출력     고출력\n",
            "10       170.0    고출력     고출력\n",
            "11       160.0   보통출력    보통출력\n",
            "12       150.0   보통출력    보통출력\n",
            "13       225.0    고출력     고출력\n",
            "14        95.0    저출력     저출력\n",
            "15        95.0    저출력     저출력\n",
            "16        97.0    저출력     저출력\n",
            "17        85.0    저출력     저출력\n",
            "18        88.0    저출력     저출력\n",
            "19        46.0    저출력     NaN\n"
          ]
        }
      ]
    },
    {
      "cell_type": "markdown",
      "metadata": {
        "id": "67uTgrXIYuto"
      },
      "source": [
        "<h3> 더미 변수 </h3>\n",
        "\n",
        "위와 같이 '저출력', '보통출력', '고출력'과 같은 문자열은 컴퓨터가 인식할 수 없다. 따라서 범주형 데이터를 회귀분석 등 머신러닝 알고리즘에 사용하려면 '컴퓨터가 인식 가능한 입력값'으로 변환해야 한다. <br>\n",
        "이럴 때 숫자 0 또는 1로 표현되는 **'더미 변수(dummy variable)'**를 사용해야한다. 범주형 데이터를 컴퓨터가 인식할 수 있도록 숫자 0과 1로만 구성되는 **'원핫벡터(one_hot_vector)'**로 변환하는 것을 **'원핫인코딩(one_hot_encoding)'**이라고 부른다. <br>\n",
        "판다스의 **get_dummies() 함수**를 사용하면 범주형 변수의 모든 고유값을 각각 새로운 더미 변수로 변환한다."
      ]
    },
    {
      "cell_type": "code",
      "metadata": {
        "colab": {
          "base_uri": "https://localhost:8080/"
        },
        "id": "iNTVbP_yT_yY",
        "outputId": "a29f0512-e4ee-4f77-acff-b5573c96f6c8"
      },
      "source": [
        "horsepower_dummies = pd.get_dummies(df['hp_bin'])\n",
        "print(horsepower_dummies.head(15))"
      ],
      "execution_count": 7,
      "outputs": [
        {
          "output_type": "stream",
          "name": "stdout",
          "text": [
            "    저출력  보통출력  고출력\n",
            "0     0     1    0\n",
            "1     0     1    0\n",
            "2     0     1    0\n",
            "3     0     1    0\n",
            "4     0     1    0\n",
            "5     0     0    1\n",
            "6     0     0    1\n",
            "7     0     0    1\n",
            "8     0     0    1\n",
            "9     0     0    1\n",
            "10    0     0    1\n",
            "11    0     1    0\n",
            "12    0     1    0\n",
            "13    0     0    1\n",
            "14    1     0    0\n"
          ]
        }
      ]
    },
    {
      "cell_type": "markdown",
      "metadata": {
        "id": "goRkDzfKZ_9q"
      },
      "source": [
        "sklearn 라이브러리를 이용하면 원핫인코딩을 편하게 처리할 수 있다. <br>\n",
        "데이터프레임 df의 'hp_bin'에 들어 있는 범주형 데이터를 0, 1을 원소로 갖는 원할벡터로 변환한다. 결과적으로 **희소행렬(sparse matrix)로 정리**된다. 희소행렬은 (행, 열) 좌표와 값 형태로 정리된다."
      ]
    },
    {
      "cell_type": "code",
      "metadata": {
        "colab": {
          "base_uri": "https://localhost:8080/"
        },
        "id": "50qrqxzlU8bY",
        "outputId": "8bcfa0be-aa01-423f-ca4e-20e971b431f1"
      },
      "source": [
        "from sklearn import preprocessing\n",
        "\n",
        "label_encoder = preprocessing.LabelEncoder()  # label encoder 생성\n",
        "onehot_encoder = preprocessing.OneHotEncoder()# one hot encoder 생성\n",
        "\n",
        "# label encoder로 문자열 범주를 숫자형 범주로 변환한다.\n",
        "onehot_labeled = label_encoder.fit_transform(df['hp_bin'].head(15))\n",
        "print(onehot_labeled)\n",
        "print(type(onehot_labeled))\n",
        "print('\\n')\n",
        "\n",
        "# 2차원 행렬로 변환한다.\n",
        "onehot_reshaped = onehot_labeled.reshape(len(onehot_labeled), 1)\n",
        "print(onehot_reshaped)\n",
        "print(type(onehot_reshaped))\n",
        "print('\\n')\n",
        "\n",
        "# 희소행렬로 변환한다.\n",
        "onehot_fitted = onehot_encoder.fit_transform(onehot_reshaped)\n",
        "print(onehot_fitted)\n",
        "print(type(onehot_fitted))"
      ],
      "execution_count": 9,
      "outputs": [
        {
          "output_type": "stream",
          "name": "stdout",
          "text": [
            "[1 1 1 1 1 0 0 0 0 0 0 1 1 0 2]\n",
            "<class 'numpy.ndarray'>\n",
            "\n",
            "\n",
            "[[1]\n",
            " [1]\n",
            " [1]\n",
            " [1]\n",
            " [1]\n",
            " [0]\n",
            " [0]\n",
            " [0]\n",
            " [0]\n",
            " [0]\n",
            " [0]\n",
            " [1]\n",
            " [1]\n",
            " [0]\n",
            " [2]]\n",
            "<class 'numpy.ndarray'>\n",
            "\n",
            "\n",
            "  (0, 1)\t1.0\n",
            "  (1, 1)\t1.0\n",
            "  (2, 1)\t1.0\n",
            "  (3, 1)\t1.0\n",
            "  (4, 1)\t1.0\n",
            "  (5, 0)\t1.0\n",
            "  (6, 0)\t1.0\n",
            "  (7, 0)\t1.0\n",
            "  (8, 0)\t1.0\n",
            "  (9, 0)\t1.0\n",
            "  (10, 0)\t1.0\n",
            "  (11, 1)\t1.0\n",
            "  (12, 1)\t1.0\n",
            "  (13, 0)\t1.0\n",
            "  (14, 2)\t1.0\n",
            "<class 'scipy.sparse.csr.csr_matrix'>\n"
          ]
        }
      ]
    }
  ]
}