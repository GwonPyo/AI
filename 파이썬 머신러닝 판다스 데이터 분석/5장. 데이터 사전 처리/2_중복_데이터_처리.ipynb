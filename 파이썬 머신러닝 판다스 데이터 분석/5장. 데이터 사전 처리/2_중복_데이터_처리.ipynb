{
  "nbformat": 4,
  "nbformat_minor": 0,
  "metadata": {
    "colab": {
      "name": "2. 중복 데이터 처리.ipynb",
      "provenance": [],
      "collapsed_sections": []
    },
    "kernelspec": {
      "name": "python3",
      "display_name": "Python 3"
    },
    "language_info": {
      "name": "python"
    }
  },
  "cells": [
    {
      "cell_type": "markdown",
      "metadata": {
        "id": "SNrFATns4E9x"
      },
      "source": [
        "데이터프레임에서 각 행은 분석 대상이 갖고 있는 모든 속성(변수)에 대한 관측값(레코드)을 뜻한다. 하나의 데이터셋에서 동일한 관측값이 2개 이상 중복되는 경우 중복 데이터를 찾아서 삭제해야 한다. 동일한 대상이 중복으로 존재하면 분석 결과를 왜곡하기 때문이다.\n",
        "\n",
        "<h3> 중복 데이터 확인 </h3>\n",
        "\n",
        "**duplicated() 메소드**를 사용하면 행이 중복되는지 확인할 수 있다. 전에 나온 행들과 비교해 중복되는 행이면 True, 중복되지 않으면 False를 반환한다."
      ]
    },
    {
      "cell_type": "code",
      "metadata": {
        "id": "LHI8fta3vHV5",
        "colab": {
          "base_uri": "https://localhost:8080/"
        },
        "outputId": "8d0913d3-880f-41ca-e604-9ed8ed313036"
      },
      "source": [
        "import pandas as pd\n",
        "\n",
        "df = pd.DataFrame({'c1': ['a', 'a', 'b', 'a', 'b'],\n",
        "                   'c2': [1, 1, 1, 2, 2],\n",
        "                   'c3': [1, 1, 2, 2, 2]})\n",
        "print(df)\n",
        "print('\\n')\n",
        "\n",
        "df_dup = df.duplicated()\n",
        "print(df_dup)"
      ],
      "execution_count": 4,
      "outputs": [
        {
          "output_type": "stream",
          "name": "stdout",
          "text": [
            "  c1  c2  c3\n",
            "0  a   1   1\n",
            "1  a   1   1\n",
            "2  b   1   2\n",
            "3  a   2   2\n",
            "4  b   2   2\n",
            "\n",
            "\n",
            "0    False\n",
            "1     True\n",
            "2    False\n",
            "3    False\n",
            "4    False\n",
            "dtype: bool\n"
          ]
        }
      ]
    },
    {
      "cell_type": "markdown",
      "metadata": {
        "id": "3vlfgYgC41rx"
      },
      "source": [
        "데이터프레임의 열은 시리즈 객체이므로 duplicated() 메소드를 적용할 수 있다."
      ]
    },
    {
      "cell_type": "code",
      "metadata": {
        "colab": {
          "base_uri": "https://localhost:8080/"
        },
        "id": "1ffRRhSB3IcC",
        "outputId": "de607477-e54d-4421-f1d6-374c587b44b9"
      },
      "source": [
        "col_dup = df['c2'].duplicated()\n",
        "print(col_dup)"
      ],
      "execution_count": 5,
      "outputs": [
        {
          "output_type": "stream",
          "name": "stdout",
          "text": [
            "0    False\n",
            "1     True\n",
            "2     True\n",
            "3    False\n",
            "4     True\n",
            "Name: c2, dtype: bool\n"
          ]
        }
      ]
    },
    {
      "cell_type": "markdown",
      "metadata": {
        "id": "z7DagDdL48t5"
      },
      "source": [
        "<h3> 중복 데이터 제거 </h3>\n",
        "\n",
        "**drop_duplicates() 메소드**를 사용하면 중복 데이터를 제거할 수 있다. 원본 객체를 변경하려면 inplace 매개변수를 True로 지정하면 된다."
      ]
    },
    {
      "cell_type": "code",
      "metadata": {
        "colab": {
          "base_uri": "https://localhost:8080/"
        },
        "id": "t7yBaryC3o0S",
        "outputId": "26805a00-ae7d-4991-b4ac-d874642f0a9c"
      },
      "source": [
        "df2 = df.drop_duplicates()\n",
        "print(df2)\n",
        "print('\\n')"
      ],
      "execution_count": 6,
      "outputs": [
        {
          "output_type": "stream",
          "name": "stdout",
          "text": [
            "  c1  c2  c3\n",
            "0  a   1   1\n",
            "2  b   1   2\n",
            "3  a   2   2\n",
            "4  b   2   2\n",
            "\n",
            "\n"
          ]
        }
      ]
    },
    {
      "cell_type": "markdown",
      "metadata": {
        "id": "XZhTexqt5Nvp"
      },
      "source": [
        "**subset 매개변수**로 열 이름의 리스트를 전달할 수 있다. subset 매개변수에 전달된 열들을 기준으로 중복 여부를 판단한다."
      ]
    },
    {
      "cell_type": "code",
      "metadata": {
        "colab": {
          "base_uri": "https://localhost:8080/"
        },
        "id": "FA_A4ac43zxQ",
        "outputId": "eb8c979a-e09e-479c-8450-dd45a8cd2310"
      },
      "source": [
        "df3 = df.drop_duplicates(subset = ['c2', 'c3'])\n",
        "print(df3)"
      ],
      "execution_count": 7,
      "outputs": [
        {
          "output_type": "stream",
          "name": "stdout",
          "text": [
            "  c1  c2  c3\n",
            "0  a   1   1\n",
            "2  b   1   2\n",
            "3  a   2   2\n"
          ]
        }
      ]
    }
  ]
}