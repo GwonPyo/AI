{
  "nbformat": 4,
  "nbformat_minor": 0,
  "metadata": {
    "colab": {
      "name": "5. 정규화.ipynb",
      "provenance": [],
      "collapsed_sections": []
    },
    "kernelspec": {
      "name": "python3",
      "display_name": "Python 3"
    },
    "language_info": {
      "name": "python"
    }
  },
  "cells": [
    {
      "cell_type": "markdown",
      "metadata": {
        "id": "__115Ul8QRKt"
      },
      "source": [
        "각 데이터프레임의 열에 들어 있는 숫자 데이터의 상대적 크기는 머신러닝 분석의 결과를 왜곡할 수 있다. 예를 들어 변수 A는 0 ~ 1000, 변수 B는 0 ~ 1 범위의 값을 가지면 변수 A의 영향이 더 크다. <br>\n",
        "따라서 숫자 데이터의 상대적인 크기 차이를 제거해야 한다. 각 열의 데이터 값을 동일한 기준으로 나눈 비율로 나타내는 과정을 **'정규화(normalization)'** 라고 한다. 정규화를 거친 데이터의 범위는 0 ~ 1 또는 -1 ~ 1이 된다. 아래와 같은 방법들이 있다.\n",
        "\n",
        "* 데이터를 해당 열의 최대값(의 절대값)으로 나눈다.\n"
      ]
    },
    {
      "cell_type": "code",
      "metadata": {
        "colab": {
          "base_uri": "https://localhost:8080/"
        },
        "id": "mf-6pfiUbdY8",
        "outputId": "4521abec-9469-461f-a8fd-db3e2596ec1a"
      },
      "source": [
        "import pandas as pd\n",
        "import numpy as np\n",
        "\n",
        "df = pd.read_csv('auto-mpg.csv', header = None)\n",
        "df.columns = ['mpg','cylinders','displacement','horsepower','weight',\n",
        "              'acceleration','model year','origin','name'] \n",
        "\n",
        "df['horsepower'].replace('?', np.nan, inplace = True)\n",
        "df.dropna(subset = ['horsepower'], axis = 0, inplace = True)\n",
        "df['horsepower'] = df['horsepower'].astype('float')\n",
        "\n",
        "print(df.horsepower.describe())"
      ],
      "execution_count": 2,
      "outputs": [
        {
          "output_type": "stream",
          "name": "stdout",
          "text": [
            "count    392.000000\n",
            "mean     104.469388\n",
            "std       38.491160\n",
            "min       46.000000\n",
            "25%       75.000000\n",
            "50%       93.500000\n",
            "75%      126.000000\n",
            "max      230.000000\n",
            "Name: horsepower, dtype: float64\n"
          ]
        }
      ]
    },
    {
      "cell_type": "code",
      "metadata": {
        "colab": {
          "base_uri": "https://localhost:8080/"
        },
        "id": "Av2ZIZ9jPq38",
        "outputId": "1eec6698-d00d-4a2b-9ce8-8e74a6d4e1f9"
      },
      "source": [
        "df.horsepower = df.horsepower / abs(df.horsepower.max())\n",
        "print(df.horsepower.head())\n",
        "print('\\n')\n",
        "print(df.horsepower.describe())"
      ],
      "execution_count": 3,
      "outputs": [
        {
          "output_type": "stream",
          "name": "stdout",
          "text": [
            "0    0.565217\n",
            "1    0.717391\n",
            "2    0.652174\n",
            "3    0.652174\n",
            "4    0.608696\n",
            "Name: horsepower, dtype: float64\n",
            "\n",
            "\n",
            "count    392.000000\n",
            "mean       0.454215\n",
            "std        0.167353\n",
            "min        0.200000\n",
            "25%        0.326087\n",
            "50%        0.406522\n",
            "75%        0.547826\n",
            "max        1.000000\n",
            "Name: horsepower, dtype: float64\n"
          ]
        }
      ]
    },
    {
      "cell_type": "markdown",
      "metadata": {
        "id": "xnEGg2l7RvNO"
      },
      "source": [
        "* 데이터에서 해당 열의 최소값을 뺀다. 그리고 이 값을 열의 최대값과 최소값을 뺀 값으로 나눈다."
      ]
    },
    {
      "cell_type": "code",
      "metadata": {
        "colab": {
          "base_uri": "https://localhost:8080/"
        },
        "id": "wsQVLl07P5P-",
        "outputId": "f0742949-6f80-4c5d-d103-a507f7e1366a"
      },
      "source": [
        "df = pd.read_csv('auto-mpg.csv', header = None)\n",
        "df.columns = ['mpg','cylinders','displacement','horsepower','weight',\n",
        "              'acceleration','model year','origin','name'] \n",
        "\n",
        "df['horsepower'].replace('?', np.nan, inplace = True)\n",
        "df.dropna(subset = ['horsepower'], axis = 0, inplace = True)\n",
        "df['horsepower'] = df['horsepower'].astype('float')\n",
        "\n",
        "min_x = df.horsepower - df.horsepower.min()\n",
        "min_max = df.horsepower.max() - df.horsepower.min()\n",
        "df.horsepower = min_x / min_max\n",
        "\n",
        "print(df.horsepower.head())\n",
        "print('\\n')\n",
        "print(df.horsepower.describe())"
      ],
      "execution_count": 4,
      "outputs": [
        {
          "output_type": "stream",
          "name": "stdout",
          "text": [
            "0    0.456522\n",
            "1    0.646739\n",
            "2    0.565217\n",
            "3    0.565217\n",
            "4    0.510870\n",
            "Name: horsepower, dtype: float64\n",
            "\n",
            "\n",
            "count    392.000000\n",
            "mean       0.317768\n",
            "std        0.209191\n",
            "min        0.000000\n",
            "25%        0.157609\n",
            "50%        0.258152\n",
            "75%        0.434783\n",
            "max        1.000000\n",
            "Name: horsepower, dtype: float64\n"
          ]
        }
      ]
    }
  ]
}