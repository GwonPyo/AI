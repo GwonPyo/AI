{
  "nbformat": 4,
  "nbformat_minor": 0,
  "metadata": {
    "colab": {
      "name": "3. 데이터 표준화.ipynb",
      "provenance": [],
      "collapsed_sections": []
    },
    "kernelspec": {
      "name": "python3",
      "display_name": "Python 3"
    },
    "language_info": {
      "name": "python"
    }
  },
  "cells": [
    {
      "cell_type": "markdown",
      "metadata": {
        "id": "cz6LTA6KFmz8"
      },
      "source": [
        "자료들은 단위, 대소문자, 약칭 등을 통해 여러 형태로 표현된다.\n",
        "때문에 서로 다른 단위가 섞여 있거나 같은 대상을 다른 형식으로 표현한 문제들이 발생한다. 이처럼 동일한 대상을 표현하는 방법에 차이가 있으면, 분석의 정확도는 낮아진다. 따라서 데이터를 표준화하는 작업이 필요하다.\n",
        "\n",
        "<h3> 단위 환산 </h3>\n",
        "\n",
        "같은 데이터셋 안에서 서로 다른 측정 단위를 사용하면 일관성 측면에서 문제가 발생한다. 따라서 **측정 단위를 동일하게 맞출 필요가 있다**. <br>\n",
        "CSV 파일의 'mpg'열은 영미권에서 사용하는 '갤런당 마일(mile per gallon)' 단위로 연비를 표현했다. 이를 '리터당 킬로미터(km/h)' 단위로 변환해 보자. 1마일은 1.60934km 이고, 1갤런은 3.78541리터이다."
      ]
    },
    {
      "cell_type": "code",
      "metadata": {
        "colab": {
          "base_uri": "https://localhost:8080/"
        },
        "id": "Tin52qN3ZSm3",
        "outputId": "a5e66407-2987-48e8-dfdd-f8e347d3b607"
      },
      "source": [
        "import pandas as pd\n",
        "\n",
        "df = pd.read_csv('auto-mpg.csv', header = None)\n",
        "\n",
        "df.columns = ['mpg','cylinders','displacement','horsepower','weight',\n",
        "              'acceleration','model year','origin','name'] \n",
        "print(df.head(3))    \n",
        "print('\\n')\n",
        "\n",
        "mpg_to_kpl = 1.60934 / 3.78541\n",
        "\n",
        "df['kpl'] = df['mpg'] * mpg_to_kpl\n",
        "print(df.head())\n",
        "print('\\n')\n",
        "\n",
        "df['kpl'] = df['kpl'].round(2) # 소숫점 둘째 자리까지 남긴다.\n",
        "print(df.head())"
      ],
      "execution_count": 15,
      "outputs": [
        {
          "output_type": "stream",
          "name": "stdout",
          "text": [
            "    mpg  cylinders  displacement  ... model year  origin                       name\n",
            "0  18.0          8         307.0  ...         70       1  chevrolet chevelle malibu\n",
            "1  15.0          8         350.0  ...         70       1          buick skylark 320\n",
            "2  18.0          8         318.0  ...         70       1         plymouth satellite\n",
            "\n",
            "[3 rows x 9 columns]\n",
            "\n",
            "\n",
            "    mpg  cylinders  displacement  ... origin                       name       kpl\n",
            "0  18.0          8         307.0  ...      1  chevrolet chevelle malibu  7.652571\n",
            "1  15.0          8         350.0  ...      1          buick skylark 320  6.377143\n",
            "2  18.0          8         318.0  ...      1         plymouth satellite  7.652571\n",
            "3  16.0          8         304.0  ...      1              amc rebel sst  6.802286\n",
            "4  17.0          8         302.0  ...      1                ford torino  7.227428\n",
            "\n",
            "[5 rows x 10 columns]\n",
            "\n",
            "\n",
            "    mpg  cylinders  displacement  ... origin                       name   kpl\n",
            "0  18.0          8         307.0  ...      1  chevrolet chevelle malibu  7.65\n",
            "1  15.0          8         350.0  ...      1          buick skylark 320  6.38\n",
            "2  18.0          8         318.0  ...      1         plymouth satellite  7.65\n",
            "3  16.0          8         304.0  ...      1              amc rebel sst  6.80\n",
            "4  17.0          8         302.0  ...      1                ford torino  7.23\n",
            "\n",
            "[5 rows x 10 columns]\n"
          ]
        }
      ]
    },
    {
      "cell_type": "markdown",
      "metadata": {
        "id": "7hyySiZAG-Zj"
      },
      "source": [
        "<h3> 자료형 반환 </h3>\n",
        "\n",
        "숫자가 문자열(object)로 저장된 경우 숫자형(int, float)으로 변환해야 한다. <br>\n",
        "**dtypes 속성**을 이용해 데이터프레임을 구성하는 각 열의 자료형을 확인할 수 있다.\n",
        "\n",
        "* info() 메소드를 사용해도 상관없다."
      ]
    },
    {
      "cell_type": "code",
      "metadata": {
        "colab": {
          "base_uri": "https://localhost:8080/"
        },
        "id": "fZ7RT47eB6rC",
        "outputId": "28f4a8fc-fa9f-4be0-c04b-bbd611f2d15a"
      },
      "source": [
        "df = pd.read_csv('auto-mpg.csv', header = None)\n",
        "\n",
        "df.columns = ['mpg','cylinders','displacement','horsepower','weight',\n",
        "              'acceleration','model year','origin','name'] \n",
        "\n",
        "print(df.dtypes)"
      ],
      "execution_count": 7,
      "outputs": [
        {
          "output_type": "stream",
          "name": "stdout",
          "text": [
            "mpg             float64\n",
            "cylinders         int64\n",
            "displacement    float64\n",
            "horsepower       object\n",
            "weight          float64\n",
            "acceleration    float64\n",
            "model year        int64\n",
            "origin            int64\n",
            "name             object\n",
            "dtype: object\n"
          ]
        }
      ]
    },
    {
      "cell_type": "markdown",
      "metadata": {
        "id": "VTAdW20wHSsB"
      },
      "source": [
        "'horsepower' 열은 엔진 출력을 나타내므로 숫자형이 적절하지만 문자열로 저장되어 있다. 엔진 출력이 문자열로 저장된 이유는 열의 고유값을 출력해보면 알 수 있다. <br>\n",
        "**unique() 함수**를 통해 고유값을 확인해보자."
      ]
    },
    {
      "cell_type": "code",
      "metadata": {
        "colab": {
          "base_uri": "https://localhost:8080/"
        },
        "id": "9yNJNjtHCJsx",
        "outputId": "129942af-df27-47f2-a344-c54f3e927dd0"
      },
      "source": [
        "print(df['horsepower'].unique())"
      ],
      "execution_count": 8,
      "outputs": [
        {
          "output_type": "stream",
          "name": "stdout",
          "text": [
            "['130.0' '165.0' '150.0' '140.0' '198.0' '220.0' '215.0' '225.0' '190.0'\n",
            " '170.0' '160.0' '95.00' '97.00' '85.00' '88.00' '46.00' '87.00' '90.00'\n",
            " '113.0' '200.0' '210.0' '193.0' '?' '100.0' '105.0' '175.0' '153.0'\n",
            " '180.0' '110.0' '72.00' '86.00' '70.00' '76.00' '65.00' '69.00' '60.00'\n",
            " '80.00' '54.00' '208.0' '155.0' '112.0' '92.00' '145.0' '137.0' '158.0'\n",
            " '167.0' '94.00' '107.0' '230.0' '49.00' '75.00' '91.00' '122.0' '67.00'\n",
            " '83.00' '78.00' '52.00' '61.00' '93.00' '148.0' '129.0' '96.00' '71.00'\n",
            " '98.00' '115.0' '53.00' '81.00' '79.00' '120.0' '152.0' '102.0' '108.0'\n",
            " '68.00' '58.00' '149.0' '89.00' '63.00' '48.00' '66.00' '139.0' '103.0'\n",
            " '125.0' '133.0' '138.0' '135.0' '142.0' '77.00' '62.00' '132.0' '84.00'\n",
            " '64.00' '74.00' '116.0' '82.00']\n"
          ]
        }
      ]
    },
    {
      "cell_type": "markdown",
      "metadata": {
        "id": "hSU4mP2BHoYq"
      },
      "source": [
        "문자열 '?'가 열에 포함되어 다른 숫자도 모두 문자열로 처리된 것이다. 나머지 값은 모두 숫자형으로 바꾸는 것이 적절하다. <br>\n",
        "먼저 **replace() 함수**를 사용해 '?'를 np.nan값으로 변환고 해당 열을 dropna() 메소드를 사용해 제거하자. 그러면 'horsepower'열에는 숫자형으로 변환 가능한 값들만 남으므로 **astype() 메소드**를 사용해 문자열을 실수형으로 변환할 수 있다.\n",
        "\n",
        "* 실수형이면 astype('float') 정수형이면 astype('int')를 사용한다."
      ]
    },
    {
      "cell_type": "code",
      "metadata": {
        "colab": {
          "base_uri": "https://localhost:8080/"
        },
        "id": "LgJ1-E4kCSmp",
        "outputId": "88b13213-010a-4977-d548-4d6aaf44d214"
      },
      "source": [
        "import numpy as np\n",
        "df['horsepower'].replace('?', np.nan, inplace = True)\n",
        "df.dropna(subset = ['horsepower'], axis = 0, inplace = True)\n",
        "df['horsepower'] = df['horsepower'].astype('float')\n",
        "\n",
        "print(df['horsepower'].dtypes)"
      ],
      "execution_count": 9,
      "outputs": [
        {
          "output_type": "stream",
          "name": "stdout",
          "text": [
            "float64\n"
          ]
        }
      ]
    },
    {
      "cell_type": "markdown",
      "metadata": {
        "id": "dmzAh-YBIXpS"
      },
      "source": [
        "'origin'열에는 1, 2, 3값이 들어있지만, 각각 'USA, EU, JPN'를 의미한다. replace() 메소드를 사용해 각 숫자 데이터를 국가이름으로 바꾸면 object 자료형으로 자동 변경된다."
      ]
    },
    {
      "cell_type": "code",
      "metadata": {
        "id": "K_iCIeetC_xi",
        "colab": {
          "base_uri": "https://localhost:8080/"
        },
        "outputId": "f8424565-35c4-4e75-e13a-ddde2e58e28b"
      },
      "source": [
        "print(df['origin'].unique())"
      ],
      "execution_count": 10,
      "outputs": [
        {
          "output_type": "stream",
          "name": "stdout",
          "text": [
            "[1 3 2]\n"
          ]
        }
      ]
    },
    {
      "cell_type": "code",
      "metadata": {
        "colab": {
          "base_uri": "https://localhost:8080/"
        },
        "id": "14urZTWfDTtJ",
        "outputId": "1bb528dc-80d4-45a6-f605-15dbceca6f27"
      },
      "source": [
        "df['origin'].replace({1: 'USA', 2: 'EU', 3: 'JPN'}, inplace = True)\n",
        "\n",
        "print(df['origin'].unique())\n",
        "print(df['origin'].dtypes)"
      ],
      "execution_count": 11,
      "outputs": [
        {
          "output_type": "stream",
          "name": "stdout",
          "text": [
            "['USA' 'JPN' 'EU']\n",
            "object\n"
          ]
        }
      ]
    },
    {
      "cell_type": "markdown",
      "metadata": {
        "id": "v-PlLUMAImDD"
      },
      "source": [
        "'origin'열과 같이 유한개의 고유값이 반복적으로 나타나는 경우 **범주형(category) 데이터**로 표현하는 것이 효율적이다. \n",
        "\n",
        "* 카테고리 데이터로 변환하려면 astype('category') 함수를 사용하면 된다."
      ]
    },
    {
      "cell_type": "code",
      "metadata": {
        "colab": {
          "base_uri": "https://localhost:8080/"
        },
        "id": "VMn_umd9Dk6I",
        "outputId": "69ffe876-b6f0-4226-971f-d872e5efacce"
      },
      "source": [
        "df['origin'] = df['origin'].astype('category')\n",
        "print(df['origin'].dtypes)\n",
        "\n",
        "df['origin'] = df['origin'].astype('str')\n",
        "print(df['origin'].dtypes)"
      ],
      "execution_count": 12,
      "outputs": [
        {
          "output_type": "stream",
          "name": "stdout",
          "text": [
            "category\n",
            "object\n"
          ]
        }
      ]
    },
    {
      "cell_type": "markdown",
      "metadata": {
        "id": "0-rz_IcTI5rq"
      },
      "source": [
        "'model year'열은 모델 출시연도를 숫자로 기록한 데이터이다. 연도를 뜻하므로 숫자형으로 남겨도 무방하지만 시간적인 순서의 의미는 있으나 숫자의 상대적인 크기는 별 의미가 없다. 따라서 데이터는 숫자 형태를 가져도 자료형은 범주형으로 표현하는 것이 적절하다."
      ]
    },
    {
      "cell_type": "code",
      "metadata": {
        "colab": {
          "base_uri": "https://localhost:8080/"
        },
        "id": "iDhI6IWHEW9R",
        "outputId": "b40fd381-fd03-4b33-9a02-c1b9a44d0c1d"
      },
      "source": [
        "print(df['model year'].sample(3))\n",
        "df['model year'] = df['model year'].astype('category')\n",
        "print(df['model year'].sample(3))"
      ],
      "execution_count": 13,
      "outputs": [
        {
          "output_type": "stream",
          "name": "stdout",
          "text": [
            "284    79\n",
            "163    75\n",
            "256    78\n",
            "Name: model year, dtype: int64\n",
            "24     70\n",
            "346    81\n",
            "304    79\n",
            "Name: model year, dtype: category\n",
            "Categories (13, int64): [70, 71, 72, 73, ..., 79, 80, 81, 82]\n"
          ]
        }
      ]
    }
  ]
}