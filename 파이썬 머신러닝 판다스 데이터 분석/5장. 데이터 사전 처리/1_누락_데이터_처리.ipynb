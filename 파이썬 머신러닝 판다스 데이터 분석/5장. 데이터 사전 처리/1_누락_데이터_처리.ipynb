{
  "nbformat": 4,
  "nbformat_minor": 0,
  "metadata": {
    "colab": {
      "name": "1. 누락 데이터 처리.ipynb",
      "provenance": [],
      "collapsed_sections": []
    },
    "kernelspec": {
      "name": "python3",
      "display_name": "Python 3"
    },
    "language_info": {
      "name": "python"
    }
  },
  "cells": [
    {
      "cell_type": "markdown",
      "metadata": {
        "id": "uiGzvKk99TLL"
      },
      "source": [
        "머신러닝 등 데이터 분석의 정확도는 분석 데이터의 품질에 의해 좌우된다. 데이터 품질을 높이기 위해서는 누락 데이터, 중복 데이터 등 오류를 수정하고 분석 목적에 맞게 변형해야 한다. 수집한 데이터를 분석에 적합하도록 처리하는 방법을 **'사전 처리(preprocessing)'** 이라고 한다. <br>\n",
        "데이터프레임에는 원소 데이터 값이 종종 누락된다. 데이터를 파일로 입력할 때 빠트리거나 파일 형식을 변환하는 과정에서 데이터가 소실되는 것이 주요 원인이다. 일반적으로 유효한 데이터 값이 존재하지 않는 누락 데이터를 **'NaN(Not a Number)'**으로 표시한다.\n",
        "\n",
        "<h3> 누락 데이터 확인 </h3>\n",
        "\n",
        "Seaborn 라이브러리의 'titanic' 데이터셋을 가져와보고 head() 메소드로 첫 5행을 출력해보자."
      ]
    },
    {
      "cell_type": "code",
      "metadata": {
        "colab": {
          "base_uri": "https://localhost:8080/"
        },
        "id": "OzuUKj4ihm6n",
        "outputId": "d8595645-165d-41fa-acd8-1e655d06fc70"
      },
      "source": [
        "import seaborn as sb\n",
        "\n",
        "# titanic 데이터셋\n",
        "df = sb.load_dataset('titanic')\n",
        "print(df.head())"
      ],
      "execution_count": 8,
      "outputs": [
        {
          "output_type": "stream",
          "name": "stdout",
          "text": [
            "   survived  pclass     sex   age  ...  deck  embark_town  alive  alone\n",
            "0         0       3    male  22.0  ...   NaN  Southampton     no  False\n",
            "1         1       1  female  38.0  ...     C    Cherbourg    yes  False\n",
            "2         1       3  female  26.0  ...   NaN  Southampton    yes   True\n",
            "3         1       1  female  35.0  ...     C  Southampton    yes  False\n",
            "4         0       3    male  35.0  ...   NaN  Southampton     no   True\n",
            "\n",
            "[5 rows x 15 columns]\n"
          ]
        }
      ]
    },
    {
      "cell_type": "markdown",
      "metadata": {
        "id": "9dASvx0c-Pm6"
      },
      "source": [
        "'deck' 열에 NaN값이 있는 것을 확인할 수 있다.\n",
        "\n",
        "info() 메소드를 사용해 데이터프레임의 요약 정보를 출력해보자."
      ]
    },
    {
      "cell_type": "code",
      "metadata": {
        "colab": {
          "base_uri": "https://localhost:8080/"
        },
        "id": "9YHdcVVOh2sH",
        "outputId": "ad7fc88e-e66b-4487-e9d1-07f724d1de68"
      },
      "source": [
        "print(df.info())"
      ],
      "execution_count": 9,
      "outputs": [
        {
          "output_type": "stream",
          "name": "stdout",
          "text": [
            "<class 'pandas.core.frame.DataFrame'>\n",
            "RangeIndex: 891 entries, 0 to 890\n",
            "Data columns (total 15 columns):\n",
            " #   Column       Non-Null Count  Dtype   \n",
            "---  ------       --------------  -----   \n",
            " 0   survived     891 non-null    int64   \n",
            " 1   pclass       891 non-null    int64   \n",
            " 2   sex          891 non-null    object  \n",
            " 3   age          714 non-null    float64 \n",
            " 4   sibsp        891 non-null    int64   \n",
            " 5   parch        891 non-null    int64   \n",
            " 6   fare         891 non-null    float64 \n",
            " 7   embarked     889 non-null    object  \n",
            " 8   class        891 non-null    category\n",
            " 9   who          891 non-null    object  \n",
            " 10  adult_male   891 non-null    bool    \n",
            " 11  deck         203 non-null    category\n",
            " 12  embark_town  889 non-null    object  \n",
            " 13  alive        891 non-null    object  \n",
            " 14  alone        891 non-null    bool    \n",
            "dtypes: bool(2), category(2), float64(2), int64(4), object(5)\n",
            "memory usage: 80.6+ KB\n",
            "None\n"
          ]
        }
      ]
    },
    {
      "cell_type": "markdown",
      "metadata": {
        "id": "_LSetl5q-ZBB"
      },
      "source": [
        "RangeIndex를 보면 각 열은 891개의 데이터를 가진다. 그리고 'deck' 열에는 203개의 유효한(non-null) 범주형 데이터가 있다. 따라서 'deck' 열에 있는 누락 데이터가 688개인 것을 확인할 수 있다.\n",
        "\n",
        "counts() 메소드를 이용해도 각 열의 유효한 데이터 개수를 반환해준다. "
      ]
    },
    {
      "cell_type": "code",
      "metadata": {
        "colab": {
          "base_uri": "https://localhost:8080/"
        },
        "id": "HQ1suTzgiwBn",
        "outputId": "cbb5de19-d542-40f6-a819-6632ae7008f1"
      },
      "source": [
        "print(df.count())"
      ],
      "execution_count": 10,
      "outputs": [
        {
          "output_type": "stream",
          "name": "stdout",
          "text": [
            "survived       891\n",
            "pclass         891\n",
            "sex            891\n",
            "age            714\n",
            "sibsp          891\n",
            "parch          891\n",
            "fare           891\n",
            "embarked       889\n",
            "class          891\n",
            "who            891\n",
            "adult_male     891\n",
            "deck           203\n",
            "embark_town    889\n",
            "alive          891\n",
            "alone          891\n",
            "dtype: int64\n"
          ]
        }
      ]
    },
    {
      "cell_type": "markdown",
      "metadata": {
        "id": "nL_9wqKH-9wL"
      },
      "source": [
        "value_counts() 메소드를 이용해서 'deck' 열의 NaN값의 개수를 확인해보자."
      ]
    },
    {
      "cell_type": "code",
      "metadata": {
        "colab": {
          "base_uri": "https://localhost:8080/"
        },
        "id": "IDxC_1gmh-O-",
        "outputId": "8ad01e55-af7b-4871-ec42-c9ca9b74d449"
      },
      "source": [
        "nan_deck = df['deck'].value_counts(dropna = False)\n",
        "print(nan_deck)"
      ],
      "execution_count": 11,
      "outputs": [
        {
          "output_type": "stream",
          "name": "stdout",
          "text": [
            "NaN    688\n",
            "C       59\n",
            "B       47\n",
            "D       33\n",
            "E       32\n",
            "A       15\n",
            "F       13\n",
            "G        4\n",
            "Name: deck, dtype: int64\n"
          ]
        }
      ]
    },
    {
      "cell_type": "markdown",
      "metadata": {
        "id": "N33E13kSsG0K"
      },
      "source": [
        "누락 데이터를 찾는 직접적인 방법에는 **isnull() 메소드**와 **notnull() 메소드**가 있다.\n",
        "\n",
        "* isnull(): 누락 데이터면 True, 유효한 데이터면 False 반환\n",
        "* notnull() 누락 데이터면 False, 유효한 데이터면 True 반환"
      ]
    },
    {
      "cell_type": "code",
      "metadata": {
        "colab": {
          "base_uri": "https://localhost:8080/"
        },
        "id": "v1RSq59BiUES",
        "outputId": "7890a284-4ac1-4849-eefe-f9c5af41949d"
      },
      "source": [
        "print(df.head())\n",
        "print(df.head().isnull())\n",
        "print(df.head().notnull())"
      ],
      "execution_count": 12,
      "outputs": [
        {
          "output_type": "stream",
          "name": "stdout",
          "text": [
            "   survived  pclass     sex   age  ...  deck  embark_town  alive  alone\n",
            "0         0       3    male  22.0  ...   NaN  Southampton     no  False\n",
            "1         1       1  female  38.0  ...     C    Cherbourg    yes  False\n",
            "2         1       3  female  26.0  ...   NaN  Southampton    yes   True\n",
            "3         1       1  female  35.0  ...     C  Southampton    yes  False\n",
            "4         0       3    male  35.0  ...   NaN  Southampton     no   True\n",
            "\n",
            "[5 rows x 15 columns]\n",
            "   survived  pclass    sex    age  ...   deck  embark_town  alive  alone\n",
            "0     False   False  False  False  ...   True        False  False  False\n",
            "1     False   False  False  False  ...  False        False  False  False\n",
            "2     False   False  False  False  ...   True        False  False  False\n",
            "3     False   False  False  False  ...  False        False  False  False\n",
            "4     False   False  False  False  ...   True        False  False  False\n",
            "\n",
            "[5 rows x 15 columns]\n",
            "   survived  pclass   sex   age  ...   deck  embark_town  alive  alone\n",
            "0      True    True  True  True  ...  False         True   True   True\n",
            "1      True    True  True  True  ...   True         True   True   True\n",
            "2      True    True  True  True  ...  False         True   True   True\n",
            "3      True    True  True  True  ...   True         True   True   True\n",
            "4      True    True  True  True  ...  False         True   True   True\n",
            "\n",
            "[5 rows x 15 columns]\n"
          ]
        }
      ]
    },
    {
      "cell_type": "markdown",
      "metadata": {
        "id": "tgCnH7Z0srmi"
      },
      "source": [
        "isnull() 메소드를 사용하고 sum(axis = 0) 메소드를 적용하면 각 열의 누락 데이터 개수를 확인할 수 있다."
      ]
    },
    {
      "cell_type": "code",
      "metadata": {
        "colab": {
          "base_uri": "https://localhost:8080/"
        },
        "id": "9NoL-Qg7i6Om",
        "outputId": "427b7e03-0100-440f-cab6-65e706522bce"
      },
      "source": [
        "print(df.head().isnull().sum(axis = 0))"
      ],
      "execution_count": 13,
      "outputs": [
        {
          "output_type": "stream",
          "name": "stdout",
          "text": [
            "survived       0\n",
            "pclass         0\n",
            "sex            0\n",
            "age            0\n",
            "sibsp          0\n",
            "parch          0\n",
            "fare           0\n",
            "embarked       0\n",
            "class          0\n",
            "who            0\n",
            "adult_male     0\n",
            "deck           3\n",
            "embark_town    0\n",
            "alive          0\n",
            "alone          0\n",
            "dtype: int64\n"
          ]
        }
      ]
    },
    {
      "cell_type": "markdown",
      "metadata": {
        "id": "WYL-qR1ks-ah"
      },
      "source": [
        "<h3> 누락 데이터 제거 </h3>\n",
        "\n",
        "누락 데이터가 들어 있는 열 또는 행을 제거하는 방법을 알아보자. <br>\n",
        "먼저 각 열의 누락 데이터 개수를 알아보자."
      ]
    },
    {
      "cell_type": "code",
      "metadata": {
        "id": "9cqDXFbEjNpO",
        "colab": {
          "base_uri": "https://localhost:8080/"
        },
        "outputId": "02ededa8-2cd8-47e2-dd43-c16812349250"
      },
      "source": [
        "missing_df = df.isnull()\n",
        "for col in missing_df.columns:\n",
        "  missing_count = missing_df[col].value_counts()\n",
        "  try:\n",
        "    print(col, ': ', missing_count[True])\n",
        "  except:\n",
        "    print(col, ': ', 0)"
      ],
      "execution_count": 14,
      "outputs": [
        {
          "output_type": "stream",
          "name": "stdout",
          "text": [
            "survived :  0\n",
            "pclass :  0\n",
            "sex :  0\n",
            "age :  177\n",
            "sibsp :  0\n",
            "parch :  0\n",
            "fare :  0\n",
            "embarked :  2\n",
            "class :  0\n",
            "who :  0\n",
            "adult_male :  0\n",
            "deck :  688\n",
            "embark_town :  2\n",
            "alive :  0\n",
            "alone :  0\n"
          ]
        }
      ]
    },
    {
      "cell_type": "markdown",
      "metadata": {
        "id": "FgSOtx7YtZ0T"
      },
      "source": [
        "891명의 승객 중 688명의 'deck' 값이 누락되어 있다. 따라서 누락 데이터를 가진 행을 제거하기 보다 'deck'열을 제거하는 것이 더 좋을 것이다. <br>\n",
        "**dropna() 메소드**를 사용하면 열 혹은 행을 지울 수 있다. <br>\n",
        "**thresh 매개변수**를 지정하면 지정한 값 이상의 누락 데이터를 가진 열을 모두 삭제한다."
      ]
    },
    {
      "cell_type": "code",
      "metadata": {
        "colab": {
          "base_uri": "https://localhost:8080/"
        },
        "id": "kxg7UIu5wY1f",
        "outputId": "7cff3e58-ca73-4fcd-9c0c-6c19a95c713c"
      },
      "source": [
        "df_thresh = df.dropna(axis = 1, thresh = 500)\n",
        "print(df_thresh.columns)"
      ],
      "execution_count": 15,
      "outputs": [
        {
          "output_type": "stream",
          "name": "stdout",
          "text": [
            "Index(['survived', 'pclass', 'sex', 'age', 'sibsp', 'parch', 'fare',\n",
            "       'embarked', 'class', 'who', 'adult_male', 'embark_town', 'alive',\n",
            "       'alone'],\n",
            "      dtype='object')\n"
          ]
        }
      ]
    },
    {
      "cell_type": "markdown",
      "metadata": {
        "id": "673I-f0It3nk"
      },
      "source": [
        "891명의 승객 중 177명의 'age'값이 누락되어 있다. 승객의 나이가 데이터 분석의 중요한 변수라면 나이 데이터가 없는 승객의 레코드(행)을 제거하는 것이 좋다. <br>\n",
        "**subset 매개변수**로 확인할 열의 이름들을 리스트로 전달할 수 있다. <br>\n",
        "**how 매개변수**로 삭제할 방식을 선택할 수 있다. 'any'는 확인할 열 데이터중 하나라도 NaN 값이라면 행을 삭제한다. 'all'은 모든 데이터가 NaN 값일 경우에만 삭제한다."
      ]
    },
    {
      "cell_type": "code",
      "metadata": {
        "colab": {
          "base_uri": "https://localhost:8080/"
        },
        "id": "Z50Ecyllw59_",
        "outputId": "77b536d0-f3b4-46e9-ec27-4832e7d2495f"
      },
      "source": [
        "df_age = df.dropna(subset = ['age'], how = 'any', axis = 0)\n",
        "print(len(df_age))"
      ],
      "execution_count": 16,
      "outputs": [
        {
          "output_type": "stream",
          "name": "stdout",
          "text": [
            "714\n"
          ]
        }
      ]
    },
    {
      "cell_type": "markdown",
      "metadata": {
        "id": "YyQMpwo7uiJ5"
      },
      "source": [
        "<h3> 누락 데이터 치환 </h3>\n",
        "\n",
        "데이터셋의 품질을 높일 목적으로 누락 데이터를 삭제하면 어렵게 수집한 데이터를 활용하지 못하게 된다. 데이터 분석의 정확도는 데이터의 품질 외에도 제공되는 데이터의 양에 의해 상당한 영향을 받는다. 따라서 데이터 중에서 일부가 누락되어 있더라도 나머지 데이터를 최대한 살려 데이터 분석에 활용하는 것이 좋은 결과를 얻는 경우가 많다. <br>\n",
        "**fillna() 메소드**로 누락 데이터를 대체할 수 있다. 새로운 객체를 반환하므로 원본 객체를 변경하려면 inplace 매개변수를 True로 지정해야한다. <br>\n",
        "'age'열의 누락 데이터를 'age' 열의 평균값으로 대체해보자."
      ]
    },
    {
      "cell_type": "code",
      "metadata": {
        "id": "Dw1O-9QxxMiS",
        "colab": {
          "base_uri": "https://localhost:8080/"
        },
        "outputId": "a76eb727-5f37-4f11-c848-86d7ee9c923d"
      },
      "source": [
        "df = sb.load_dataset('titanic')\n",
        "\n",
        "print(df['age'].head(10))\n",
        "print('\\n')\n",
        "\n",
        "mean_age = df['age'].mean(axis = 0)\n",
        "df['age'].fillna(mean_age, inplace = True)\n",
        "\n",
        "print(df['age'].head(10))"
      ],
      "execution_count": 18,
      "outputs": [
        {
          "output_type": "stream",
          "name": "stdout",
          "text": [
            "0    22.0\n",
            "1    38.0\n",
            "2    26.0\n",
            "3    35.0\n",
            "4    35.0\n",
            "5     NaN\n",
            "6    54.0\n",
            "7     2.0\n",
            "8    27.0\n",
            "9    14.0\n",
            "Name: age, dtype: float64\n",
            "\n",
            "\n",
            "0    22.000000\n",
            "1    38.000000\n",
            "2    26.000000\n",
            "3    35.000000\n",
            "4    35.000000\n",
            "5    29.699118\n",
            "6    54.000000\n",
            "7     2.000000\n",
            "8    27.000000\n",
            "9    14.000000\n",
            "Name: age, dtype: float64\n"
          ]
        }
      ]
    },
    {
      "cell_type": "markdown",
      "metadata": {
        "id": "O649AYWxvQA5"
      },
      "source": [
        "승선도시를 나타내는 'embark_town'열에 있는 NaN을 최빈값으로 바꿔보자. \n",
        "\n",
        "* idxmax(): 최대값을 가지는 인덱스 레이블을 출력한다.\n",
        "* idxmin(): 최소값을 가지는 인덱스 레이블을 출력한다."
      ]
    },
    {
      "cell_type": "code",
      "metadata": {
        "colab": {
          "base_uri": "https://localhost:8080/"
        },
        "id": "X44489nM8FD0",
        "outputId": "be1e2344-a95d-4cca-c145-5570a78ed8a4"
      },
      "source": [
        "print(df['embark_town'][825:830])\n",
        "print('\\n')\n",
        "\n",
        "most_freq = df['embark_town'].value_counts(dropna = True).idxmax()\n",
        "print(most_freq)\n",
        "print('\\n')\n",
        "\n",
        "df['embark_town'].fillna(most_freq, inplace = True)\n",
        "\n",
        "print(df['embark_town'][825:830])"
      ],
      "execution_count": 19,
      "outputs": [
        {
          "output_type": "stream",
          "name": "stdout",
          "text": [
            "825     Queenstown\n",
            "826    Southampton\n",
            "827      Cherbourg\n",
            "828     Queenstown\n",
            "829            NaN\n",
            "Name: embark_town, dtype: object\n",
            "\n",
            "\n",
            "Southampton\n",
            "\n",
            "\n",
            "825     Queenstown\n",
            "826    Southampton\n",
            "827      Cherbourg\n",
            "828     Queenstown\n",
            "829    Southampton\n",
            "Name: embark_town, dtype: object\n"
          ]
        }
      ]
    },
    {
      "cell_type": "markdown",
      "metadata": {
        "id": "BSZ4qCOZvsQz"
      },
      "source": [
        "* 누락 데이터가 NaN으로 입력되지 않고 ?와 같이 다른 문자로 입력되었다면 replace 메소드를 사용해 Numpy에서 지원하는 np.nan으로 변경해 주는 것이 좋다. <br>\n",
        "Ex) df.replace('?'. np.nan, inplace = True)\n",
        "\n",
        "데이터 특성상 서로 이웃하고 있는 데이터끼리 유사성을 가질 가능성이 높다. 이럴 때는 앞이나 뒤에서 이웃하고 있는 값으로 치환해 주는 것이 좋다. NaN값을 NaN이 있는 행의 직전 행에 있는 값으로 바꾸려면 **method 매개변수**를 'ffill'로 지정해야 한다. NaN이 있는 행의 바로 다음 행에 있는 값을 가지고 치환하려면 'bfill'로 지정하면 된다."
      ]
    },
    {
      "cell_type": "code",
      "metadata": {
        "colab": {
          "base_uri": "https://localhost:8080/"
        },
        "id": "3o2mJQ3j836S",
        "outputId": "44c96b39-d2bd-4df8-9edb-f8de119fbb98"
      },
      "source": [
        "df = sb.load_dataset('titanic')\n",
        "\n",
        "print(df['embark_town'][825:830])\n",
        "print('\\n')\n",
        "\n",
        "df['embark_town'].fillna(method = 'ffill', inplace = True)\n",
        "print(df['embark_town'][825:830])"
      ],
      "execution_count": 20,
      "outputs": [
        {
          "output_type": "stream",
          "name": "stdout",
          "text": [
            "825     Queenstown\n",
            "826    Southampton\n",
            "827      Cherbourg\n",
            "828     Queenstown\n",
            "829            NaN\n",
            "Name: embark_town, dtype: object\n",
            "\n",
            "\n",
            "825     Queenstown\n",
            "826    Southampton\n",
            "827      Cherbourg\n",
            "828     Queenstown\n",
            "829     Queenstown\n",
            "Name: embark_town, dtype: object\n"
          ]
        }
      ]
    }
  ]
}