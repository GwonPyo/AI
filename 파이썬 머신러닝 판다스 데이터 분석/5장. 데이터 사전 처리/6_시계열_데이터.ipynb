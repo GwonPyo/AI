{
  "nbformat": 4,
  "nbformat_minor": 0,
  "metadata": {
    "colab": {
      "name": "6. 시계열 데이터.ipynb",
      "provenance": [],
      "collapsed_sections": []
    },
    "kernelspec": {
      "name": "python3",
      "display_name": "Python 3"
    },
    "language_info": {
      "name": "python"
    }
  },
  "cells": [
    {
      "cell_type": "markdown",
      "metadata": {
        "id": "UF8fqES-a1rW"
      },
      "source": [
        "판다스는 시계열(time series) 데이터를 다루는 여러가지 기능을 제공한다. \n",
        "특정한 시점을 기록하는 것을 **Timestamp**, 두 시점 사이의 기간을 나타내는 **Period**가 있다.\n",
        "\n",
        "<h3> 다른 자료형을 시계열 객체로 변환 </h3>\n",
        "\n",
        "데이터를 처리할 때 시간 데이터들이 시간 자료형으로 기록되지 않고, 문자열이나 숫자로 저장되는 경우가 많다. 판다스는 다른 자료형 데이터를 시간 자료형으로 변환하는 기능을 제공한다.\n",
        "\n",
        "<h4> 문자열을 Timestamp로 변환 <h4>\n",
        "\n",
        "판다스의 **to_datetime() 함수는** 다른 자료형을 Timestamp를 나타내는 datetime64 자료형으로 변환할 수 있다. <br>\n",
        "아래 CSV 파일을 확인해보면 'Date' 열의 날짜 데이터가 문자열로 저장되어 있는 것을 확인할 수 있다."
      ]
    },
    {
      "cell_type": "code",
      "metadata": {
        "colab": {
          "base_uri": "https://localhost:8080/"
        },
        "id": "z1YHCuftkybf",
        "outputId": "3c44bcff-ce2d-4b7c-8807-3550132fbe9a"
      },
      "source": [
        "import pandas as pd\n",
        "\n",
        "df = pd.read_csv('stock-data.csv')\n",
        "\n",
        "print(df.head())\n",
        "print('\\n')\n",
        "print(df.info())"
      ],
      "execution_count": 6,
      "outputs": [
        {
          "output_type": "stream",
          "name": "stdout",
          "text": [
            "         Date  Close  Start   High    Low  Volume\n",
            "0  2018-07-02  10100  10850  10900  10000  137977\n",
            "1  2018-06-29  10700  10550  10900   9990  170253\n",
            "2  2018-06-28  10400  10900  10950  10150  155769\n",
            "3  2018-06-27  10900  10800  11050  10500  133548\n",
            "4  2018-06-26  10800  10900  11000  10700   63039\n",
            "\n",
            "\n",
            "<class 'pandas.core.frame.DataFrame'>\n",
            "RangeIndex: 20 entries, 0 to 19\n",
            "Data columns (total 6 columns):\n",
            " #   Column  Non-Null Count  Dtype \n",
            "---  ------  --------------  ----- \n",
            " 0   Date    20 non-null     object\n",
            " 1   Close   20 non-null     int64 \n",
            " 2   Start   20 non-null     int64 \n",
            " 3   High    20 non-null     int64 \n",
            " 4   Low     20 non-null     int64 \n",
            " 5   Volume  20 non-null     int64 \n",
            "dtypes: int64(5), object(1)\n",
            "memory usage: 1.1+ KB\n",
            "None\n"
          ]
        }
      ]
    },
    {
      "cell_type": "markdown",
      "metadata": {
        "id": "FRvZ5QMQf-QF"
      },
      "source": [
        "이 문자열 데이터를 datetime64 자료형을 변환해보자. <br>\n",
        "결과를 확인해보면 자료형은 datetime64이며 각 원소는 Timestamp 객체인 것을 확인할 수 있다."
      ]
    },
    {
      "cell_type": "code",
      "metadata": {
        "colab": {
          "base_uri": "https://localhost:8080/"
        },
        "id": "a7XuqMaMmJ7h",
        "outputId": "70d8ee0f-c6bf-4112-97ed-885c2de43264"
      },
      "source": [
        "df['new_Date'] = pd.to_datetime(df['Date'])\n",
        "\n",
        "print(df.head())\n",
        "print('\\n')\n",
        "print(df.info())\n",
        "print(type(df['new_Date'][0]))"
      ],
      "execution_count": 7,
      "outputs": [
        {
          "output_type": "stream",
          "name": "stdout",
          "text": [
            "         Date  Close  Start   High    Low  Volume   new_Date\n",
            "0  2018-07-02  10100  10850  10900  10000  137977 2018-07-02\n",
            "1  2018-06-29  10700  10550  10900   9990  170253 2018-06-29\n",
            "2  2018-06-28  10400  10900  10950  10150  155769 2018-06-28\n",
            "3  2018-06-27  10900  10800  11050  10500  133548 2018-06-27\n",
            "4  2018-06-26  10800  10900  11000  10700   63039 2018-06-26\n",
            "\n",
            "\n",
            "<class 'pandas.core.frame.DataFrame'>\n",
            "RangeIndex: 20 entries, 0 to 19\n",
            "Data columns (total 7 columns):\n",
            " #   Column    Non-Null Count  Dtype         \n",
            "---  ------    --------------  -----         \n",
            " 0   Date      20 non-null     object        \n",
            " 1   Close     20 non-null     int64         \n",
            " 2   Start     20 non-null     int64         \n",
            " 3   High      20 non-null     int64         \n",
            " 4   Low       20 non-null     int64         \n",
            " 5   Volume    20 non-null     int64         \n",
            " 6   new_Date  20 non-null     datetime64[ns]\n",
            "dtypes: datetime64[ns](1), int64(5), object(1)\n",
            "memory usage: 1.2+ KB\n",
            "None\n",
            "<class 'pandas._libs.tslibs.timestamps.Timestamp'>\n"
          ]
        }
      ]
    },
    {
      "cell_type": "markdown",
      "metadata": {
        "id": "UbuS5FMthcdt"
      },
      "source": [
        "자료형을 바꾼 'new_Date' 열을 행 인덱스로 설정해보자. 시계열 값을 행 인덱스로 지정하면 판다스는 DatetimeIndex로 저장한다. 시계열 인덱스를 행으로 지정하면 인덱싱 또는 슬라이싱에 편리하다."
      ]
    },
    {
      "cell_type": "code",
      "metadata": {
        "colab": {
          "base_uri": "https://localhost:8080/"
        },
        "id": "12gNCqIpme3I",
        "outputId": "4fd68656-a876-4650-d819-1e0f039acf56"
      },
      "source": [
        "df.set_index('new_Date', inplace = True)\n",
        "df.drop('Date', axis = 1, inplace = True)\n",
        "\n",
        "print(df.head())\n",
        "print('\\n')\n",
        "print(df.info())"
      ],
      "execution_count": 8,
      "outputs": [
        {
          "output_type": "stream",
          "name": "stdout",
          "text": [
            "            Close  Start   High    Low  Volume\n",
            "new_Date                                      \n",
            "2018-07-02  10100  10850  10900  10000  137977\n",
            "2018-06-29  10700  10550  10900   9990  170253\n",
            "2018-06-28  10400  10900  10950  10150  155769\n",
            "2018-06-27  10900  10800  11050  10500  133548\n",
            "2018-06-26  10800  10900  11000  10700   63039\n",
            "\n",
            "\n",
            "<class 'pandas.core.frame.DataFrame'>\n",
            "DatetimeIndex: 20 entries, 2018-07-02 to 2018-06-01\n",
            "Data columns (total 5 columns):\n",
            " #   Column  Non-Null Count  Dtype\n",
            "---  ------  --------------  -----\n",
            " 0   Close   20 non-null     int64\n",
            " 1   Start   20 non-null     int64\n",
            " 2   High    20 non-null     int64\n",
            " 3   Low     20 non-null     int64\n",
            " 4   Volume  20 non-null     int64\n",
            "dtypes: int64(5)\n",
            "memory usage: 960.0 bytes\n",
            "None\n"
          ]
        }
      ]
    },
    {
      "cell_type": "markdown",
      "metadata": {
        "id": "bcOHZiyGh-M4"
      },
      "source": [
        "<h4> Timestamp를 Period로 변환 </h4>\n",
        "\n",
        "to_period() 메소드로 Timestamp 객체를 Period 객체로 변환할 수 있다. <br>\n",
        "**freq 매개변수**에 기준이 되는 기간을 설정한다.\n",
        "\n",
        "* freq 매개변수의 종류 <br>\n",
        "D: day(1일) / W: week(1주일) / M: month end(월말) / MS: month begin(월초) /<br> Q: quarter end(분기말) / QS: quarter begin(분기초) / A: year end(연말) / AS: year begin(연초) 등등 ..."
      ]
    },
    {
      "cell_type": "code",
      "metadata": {
        "colab": {
          "base_uri": "https://localhost:8080/"
        },
        "id": "m2v3S13ZnCMw",
        "outputId": "e7f6b0b4-3f90-47f9-d927-b27c8432139c"
      },
      "source": [
        "dates = ['2019-01-01', '2020-03-01', '2021-06-01']\n",
        "\n",
        "ts_dates = pd.to_datetime(dates)\n",
        "print(ts_dates)\n",
        "print('\\n')\n",
        "\n",
        "pr_day = ts_dates.to_period(freq = 'D')\n",
        "pr_month = ts_dates.to_period(freq = 'M')\n",
        "pr_year = ts_dates.to_period(freq = 'A')\n",
        "print(pr_day)\n",
        "print(pr_month)\n",
        "print(pr_year)"
      ],
      "execution_count": 9,
      "outputs": [
        {
          "output_type": "stream",
          "name": "stdout",
          "text": [
            "DatetimeIndex(['2019-01-01', '2020-03-01', '2021-06-01'], dtype='datetime64[ns]', freq=None)\n",
            "\n",
            "\n",
            "PeriodIndex(['2019-01-01', '2020-03-01', '2021-06-01'], dtype='period[D]', freq='D')\n",
            "PeriodIndex(['2019-01', '2020-03', '2021-06'], dtype='period[M]', freq='M')\n",
            "PeriodIndex(['2019', '2020', '2021'], dtype='period[A-DEC]', freq='A-DEC')\n"
          ]
        }
      ]
    },
    {
      "cell_type": "markdown",
      "metadata": {
        "id": "dMgUNcsni1il"
      },
      "source": [
        "<h3> 시계열 데이터 만들기 </h3>\n",
        "<h4> Timestamp 배열 <h4>\n",
        "\n",
        "판다스의 **date_range() 함수**를 사용하면 여러 개의 날짜(Timestamp)가 들어 있는 배열 형태의 시계열 데이터를 만들 수 있다. <br>\n",
        "**start 매개변수**에 시작일을 설정해야하고, **end 매개변수**에 마지막 날을 설정해야한다. end 매개변수는 None으로 지정할 수 있다. **periods 매개변수**로 생성할 시계열 데이터의 개수를 입력한다. **freq 매개변수**에는 기준이 되는 기간을 입력해야한다. **tz 매개변수**로 한국 시간대를 설정할 수 있다."
      ]
    },
    {
      "cell_type": "code",
      "metadata": {
        "colab": {
          "base_uri": "https://localhost:8080/"
        },
        "id": "0Dc0exYQnsnJ",
        "outputId": "90f7aef5-05a1-41b6-fd6f-e760d03381fd"
      },
      "source": [
        "ts_ms = pd.date_range(start = '2019-01-01',\n",
        "                      end = None,\n",
        "                      periods = 6,\n",
        "                      freq = 'M',\n",
        "                      tz = 'Asia/Seoul')\n",
        "print(ts_ms)"
      ],
      "execution_count": 10,
      "outputs": [
        {
          "output_type": "stream",
          "name": "stdout",
          "text": [
            "DatetimeIndex(['2019-01-31 00:00:00+09:00', '2019-02-28 00:00:00+09:00',\n",
            "               '2019-03-31 00:00:00+09:00', '2019-04-30 00:00:00+09:00',\n",
            "               '2019-05-31 00:00:00+09:00', '2019-06-30 00:00:00+09:00'],\n",
            "              dtype='datetime64[ns, Asia/Seoul]', freq='M')\n"
          ]
        }
      ]
    },
    {
      "cell_type": "code",
      "metadata": {
        "colab": {
          "base_uri": "https://localhost:8080/"
        },
        "id": "MXyPeLamyBFs",
        "outputId": "48e8368d-b25b-43bd-b5f0-3d02ab07f41b"
      },
      "source": [
        "ts_ms = pd.date_range(start = '2019-01-01',\n",
        "                      end = None,\n",
        "                      periods = 6,\n",
        "                      freq = 'A',\n",
        "                      tz = 'Asia/Seoul')\n",
        "print(ts_ms)\n",
        "print('\\n')\n",
        "ts_ms = pd.date_range(start = '2019-01-01',\n",
        "                      end = None,\n",
        "                      periods = 6,\n",
        "                      freq = 'AS',\n",
        "                      tz = 'Asia/Seoul')\n",
        "print(ts_ms)"
      ],
      "execution_count": 11,
      "outputs": [
        {
          "output_type": "stream",
          "name": "stdout",
          "text": [
            "DatetimeIndex(['2019-12-31 00:00:00+09:00', '2020-12-31 00:00:00+09:00',\n",
            "               '2021-12-31 00:00:00+09:00', '2022-12-31 00:00:00+09:00',\n",
            "               '2023-12-31 00:00:00+09:00', '2024-12-31 00:00:00+09:00'],\n",
            "              dtype='datetime64[ns, Asia/Seoul]', freq='A-DEC')\n",
            "\n",
            "\n",
            "DatetimeIndex(['2019-01-01 00:00:00+09:00', '2020-01-01 00:00:00+09:00',\n",
            "               '2021-01-01 00:00:00+09:00', '2022-01-01 00:00:00+09:00',\n",
            "               '2023-01-01 00:00:00+09:00', '2024-01-01 00:00:00+09:00'],\n",
            "              dtype='datetime64[ns, Asia/Seoul]', freq='AS-JAN')\n"
          ]
        }
      ]
    },
    {
      "cell_type": "markdown",
      "metadata": {
        "id": "4aDmrfznjnIN"
      },
      "source": [
        "만약 1개월이 아니라 3개월 간격으로 만드려면 '3M'과 같이 입력하면 된다."
      ]
    },
    {
      "cell_type": "code",
      "metadata": {
        "colab": {
          "base_uri": "https://localhost:8080/"
        },
        "id": "fAG7-oToyKPD",
        "outputId": "f7de624a-3d56-44e3-a277-b2f867400ba0"
      },
      "source": [
        "ts_me = pd.date_range('2019-01-01', periods = 6, \n",
        "                      freq = 'M', \n",
        "                      tz = 'Asia/Seoul')\n",
        "print(ts_me)\n",
        "print('\\n')\n",
        "\n",
        "ts_3m = pd.date_range('2019-01-01', periods = 6,\n",
        "                      freq = '3M',\n",
        "                      tz = 'Asia/Seoul')\n",
        "print(ts_3m)"
      ],
      "execution_count": 12,
      "outputs": [
        {
          "output_type": "stream",
          "name": "stdout",
          "text": [
            "DatetimeIndex(['2019-01-31 00:00:00+09:00', '2019-02-28 00:00:00+09:00',\n",
            "               '2019-03-31 00:00:00+09:00', '2019-04-30 00:00:00+09:00',\n",
            "               '2019-05-31 00:00:00+09:00', '2019-06-30 00:00:00+09:00'],\n",
            "              dtype='datetime64[ns, Asia/Seoul]', freq='M')\n",
            "\n",
            "\n",
            "DatetimeIndex(['2019-01-31 00:00:00+09:00', '2019-04-30 00:00:00+09:00',\n",
            "               '2019-07-31 00:00:00+09:00', '2019-10-31 00:00:00+09:00',\n",
            "               '2020-01-31 00:00:00+09:00', '2020-04-30 00:00:00+09:00'],\n",
            "              dtype='datetime64[ns, Asia/Seoul]', freq='3M')\n"
          ]
        }
      ]
    },
    {
      "cell_type": "markdown",
      "metadata": {
        "id": "Ga6uMViVjx1u"
      },
      "source": [
        "<h4> Period 배열 </h4>\n",
        "\n",
        "판다스의 **period_range() 함수**로 여러 개의 기간(Period)이 들어 있는 시계열 데이터를 만들 수 있다. tz 매개변수를 제외하고 date_range() 함수와 동일하게 **start, end, periods, freq 매개변수**를 사용한다."
      ]
    },
    {
      "cell_type": "code",
      "metadata": {
        "colab": {
          "base_uri": "https://localhost:8080/"
        },
        "id": "ownLq5EazHls",
        "outputId": "40b64fa4-62ea-432f-c7d4-ce417475c41b"
      },
      "source": [
        "pr_m = pd.period_range(start = '2019-01-01',\n",
        "                      end = None,\n",
        "                      periods = 6,\n",
        "                      freq = 'A')\n",
        "print(pr_m)\n",
        "print('\\n')\n",
        "\n",
        "pr_m = pd.period_range(start = '2019-01-10',\n",
        "                      end = None,\n",
        "                      periods = 6,\n",
        "                      freq = 'A')\n",
        "print(pr_m)"
      ],
      "execution_count": 13,
      "outputs": [
        {
          "output_type": "stream",
          "name": "stdout",
          "text": [
            "PeriodIndex(['2019', '2020', '2021', '2022', '2023', '2024'], dtype='period[A-DEC]', freq='A-DEC')\n",
            "\n",
            "\n",
            "PeriodIndex(['2019', '2020', '2021', '2022', '2023', '2024'], dtype='period[A-DEC]', freq='A-DEC')\n"
          ]
        }
      ]
    },
    {
      "cell_type": "markdown",
      "metadata": {
        "id": "xrn4HT_akJpu"
      },
      "source": [
        "2019, 2020 과 같은 데이터는 해당 연도 전체 기간을 의미한다."
      ]
    },
    {
      "cell_type": "code",
      "metadata": {
        "colab": {
          "base_uri": "https://localhost:8080/"
        },
        "id": "UGDiJFdzzkUb",
        "outputId": "4834aee2-1f04-4a0a-b87a-d39399c1a545"
      },
      "source": [
        "pr_m = pd.period_range(start = '2019-01-01',\n",
        "                      end = None,\n",
        "                      periods = 6,\n",
        "                      freq = 'M')\n",
        "print(pr_m)\n",
        "print('\\n')\n",
        "\n",
        "pr_m = pd.period_range(start = '2019-01-10',\n",
        "                      end = None,\n",
        "                      periods = 6,\n",
        "                      freq = 'M')\n",
        "print(pr_m)"
      ],
      "execution_count": 14,
      "outputs": [
        {
          "output_type": "stream",
          "name": "stdout",
          "text": [
            "PeriodIndex(['2019-01', '2019-02', '2019-03', '2019-04', '2019-05', '2019-06'], dtype='period[M]', freq='M')\n",
            "\n",
            "\n",
            "PeriodIndex(['2019-01', '2019-02', '2019-03', '2019-04', '2019-05', '2019-06'], dtype='period[M]', freq='M')\n"
          ]
        }
      ]
    },
    {
      "cell_type": "markdown",
      "metadata": {
        "id": "BPFwIuJzkP_n"
      },
      "source": [
        "2019-01. 2019-02 와 같은 데이터는 2월과 3월 전체 기간을 나타낸다."
      ]
    },
    {
      "cell_type": "code",
      "metadata": {
        "colab": {
          "base_uri": "https://localhost:8080/"
        },
        "id": "3Uw6ggKOzunT",
        "outputId": "a7818d67-96eb-4944-9d46-cde72d95f69f"
      },
      "source": [
        "pr_h = pd.period_range(start = '2019-01-01',\n",
        "                       end = None,\n",
        "                       periods = 3,\n",
        "                       freq = 'H')\n",
        "print(pr_h)\n",
        "print('\\n')\n",
        "\n",
        "pr_2h = pd.period_range(start = '2019-01-01',\n",
        "                        end = None,\n",
        "                        periods = 3,\n",
        "                        freq = '2H')\n",
        "print(pr_2h)"
      ],
      "execution_count": 15,
      "outputs": [
        {
          "output_type": "stream",
          "name": "stdout",
          "text": [
            "PeriodIndex(['2019-01-01 00:00', '2019-01-01 01:00', '2019-01-01 02:00'], dtype='period[H]', freq='H')\n",
            "\n",
            "\n",
            "PeriodIndex(['2019-01-01 00:00', '2019-01-01 02:00', '2019-01-01 04:00'], dtype='period[2H]', freq='2H')\n"
          ]
        }
      ]
    },
    {
      "cell_type": "markdown",
      "metadata": {
        "id": "zZIWm1_7kW1m"
      },
      "source": [
        "간격을 다르게 하고 싶다면 date_range() 함수와 동일하게 숫자를 붙여 2H와 같이 사용할 수 있다."
      ]
    },
    {
      "cell_type": "markdown",
      "metadata": {
        "id": "4PBAfFjyk5Md"
      },
      "source": [
        "<h3> 시계열 데이터 활용 </h3>\n",
        "<h4> 날짜 데이터 분리 </h4>\n",
        "\n",
        "시계열 데이터의 **dt 속성**을 이용하면 연-월-일 날짜 데이터에서 일부를 분리하여 추출할 수 있다. dt.year로 연도, dt.month로 월, dt.day로 일 데이터를 추출할 수 있다."
      ]
    },
    {
      "cell_type": "code",
      "metadata": {
        "colab": {
          "base_uri": "https://localhost:8080/"
        },
        "id": "2_JCmH7J0tuB",
        "outputId": "f16ffbaf-0b62-46e6-8754-ffef32a104e9"
      },
      "source": [
        "df = pd.read_csv('stock-data.csv')\n",
        "\n",
        "df['new_Date'] = pd.to_datetime(df['Date'])\n",
        "print(df.head())\n",
        "print('\\n')\n",
        "\n",
        "df['Year'] = df['new_Date'].dt.year\n",
        "df['Month'] = df['new_Date'].dt.month\n",
        "df['Day'] = df['new_Date'].dt.day\n",
        "print(df.head())"
      ],
      "execution_count": 16,
      "outputs": [
        {
          "output_type": "stream",
          "name": "stdout",
          "text": [
            "         Date  Close  Start   High    Low  Volume   new_Date\n",
            "0  2018-07-02  10100  10850  10900  10000  137977 2018-07-02\n",
            "1  2018-06-29  10700  10550  10900   9990  170253 2018-06-29\n",
            "2  2018-06-28  10400  10900  10950  10150  155769 2018-06-28\n",
            "3  2018-06-27  10900  10800  11050  10500  133548 2018-06-27\n",
            "4  2018-06-26  10800  10900  11000  10700   63039 2018-06-26\n",
            "\n",
            "\n",
            "         Date  Close  Start   High    Low  Volume   new_Date  Year  Month  Day\n",
            "0  2018-07-02  10100  10850  10900  10000  137977 2018-07-02  2018      7    2\n",
            "1  2018-06-29  10700  10550  10900   9990  170253 2018-06-29  2018      6   29\n",
            "2  2018-06-28  10400  10900  10950  10150  155769 2018-06-28  2018      6   28\n",
            "3  2018-06-27  10900  10800  11050  10500  133548 2018-06-27  2018      6   27\n",
            "4  2018-06-26  10800  10900  11000  10700   63039 2018-06-26  2018      6   26\n"
          ]
        }
      ]
    },
    {
      "cell_type": "markdown",
      "metadata": {
        "id": "oDhi-MMUkhBl"
      },
      "source": [
        "to_period() 메소드로 Timestamp 객체를 Period 객체로 변환하여 연-월 또는 연도를 추출할 수 있다."
      ]
    },
    {
      "cell_type": "code",
      "metadata": {
        "id": "ufNKvqcF1BhL",
        "colab": {
          "base_uri": "https://localhost:8080/"
        },
        "outputId": "4f967376-2d01-404e-9729-5208d4b88be0"
      },
      "source": [
        "df['Date_yr'] = df['new_Date'].dt.to_period(freq = 'A')\n",
        "df['Date_m'] = df['new_Date'].dt.to_period(freq = 'M')\n",
        "print(df.head())\n",
        "print('\\n')\n",
        "\n",
        "print(type(df['Date_yr']), type(df['Date_m']))\n",
        "print(type(df['Date_yr'][0]), type(df['Date_m'][0]))"
      ],
      "execution_count": 19,
      "outputs": [
        {
          "output_type": "stream",
          "name": "stdout",
          "text": [
            "         Date  Close  Start   High    Low  ...  Year Month  Day  Date_yr   Date_m\n",
            "0  2018-07-02  10100  10850  10900  10000  ...  2018     7    2     2018  2018-07\n",
            "1  2018-06-29  10700  10550  10900   9990  ...  2018     6   29     2018  2018-06\n",
            "2  2018-06-28  10400  10900  10950  10150  ...  2018     6   28     2018  2018-06\n",
            "3  2018-06-27  10900  10800  11050  10500  ...  2018     6   27     2018  2018-06\n",
            "4  2018-06-26  10800  10900  11000  10700  ...  2018     6   26     2018  2018-06\n",
            "\n",
            "[5 rows x 12 columns]\n",
            "\n",
            "\n",
            "<class 'pandas.core.series.Series'> <class 'pandas.core.series.Series'>\n",
            "<class 'pandas._libs.tslibs.period.Period'> <class 'pandas._libs.tslibs.period.Period'>\n"
          ]
        }
      ]
    },
    {
      "cell_type": "markdown",
      "metadata": {
        "id": "4A1v4-hkk0_w"
      },
      "source": [
        "추출한 날짜 정보를 행 인덱스로 지정할 수 있다."
      ]
    },
    {
      "cell_type": "code",
      "metadata": {
        "colab": {
          "base_uri": "https://localhost:8080/"
        },
        "id": "BVIQDz5YYdy7",
        "outputId": "79a9230a-ae1c-4933-989b-3bb4acfcc69d"
      },
      "source": [
        "df.set_index('Date_m', inplace = True)\n",
        "print(df.head())"
      ],
      "execution_count": 20,
      "outputs": [
        {
          "output_type": "stream",
          "name": "stdout",
          "text": [
            "               Date  Close  Start   High  ...  Year  Month Day  Date_yr\n",
            "Date_m                                    ...                          \n",
            "2018-07  2018-07-02  10100  10850  10900  ...  2018      7   2     2018\n",
            "2018-06  2018-06-29  10700  10550  10900  ...  2018      6  29     2018\n",
            "2018-06  2018-06-28  10400  10900  10950  ...  2018      6  28     2018\n",
            "2018-06  2018-06-27  10900  10800  11050  ...  2018      6  27     2018\n",
            "2018-06  2018-06-26  10800  10900  11000  ...  2018      6  26     2018\n",
            "\n",
            "[5 rows x 11 columns]\n"
          ]
        }
      ]
    },
    {
      "cell_type": "markdown",
      "metadata": {
        "id": "IzwgddMQlTH-"
      },
      "source": [
        "<h4> 날짜 인덱스 활용 </h4>\n",
        "\n",
        "Timestamp로 구성된 열을 행 인덱스로 지정하면 DatetimeIndex라는 고유 속성으로 변환된다. Period로 구성된 열을 행 인덱스로 지정하면 PeriodIndex라는 속성을 갖는다. 이와 같은 날짜 인덱스를 활용하면 시계열 데이터에 대한 인덱싱과 슬라이싱이 편리하다."
      ]
    },
    {
      "cell_type": "code",
      "metadata": {
        "colab": {
          "base_uri": "https://localhost:8080/"
        },
        "id": "VIriK9ZKYzMz",
        "outputId": "c74b3e64-c332-4a7f-8341-a3ff100882b0"
      },
      "source": [
        "df = pd.read_csv('stock-data.csv')\n",
        "\n",
        "df['new_Date'] = pd.to_datetime(df['Date'])\n",
        "df.set_index('new_Date', inplace = True)\n",
        "\n",
        "print(df.head())\n",
        "print('\\n')\n",
        "print(df.index)"
      ],
      "execution_count": 21,
      "outputs": [
        {
          "output_type": "stream",
          "name": "stdout",
          "text": [
            "                  Date  Close  Start   High    Low  Volume\n",
            "new_Date                                                  \n",
            "2018-07-02  2018-07-02  10100  10850  10900  10000  137977\n",
            "2018-06-29  2018-06-29  10700  10550  10900   9990  170253\n",
            "2018-06-28  2018-06-28  10400  10900  10950  10150  155769\n",
            "2018-06-27  2018-06-27  10900  10800  11050  10500  133548\n",
            "2018-06-26  2018-06-26  10800  10900  11000  10700   63039\n",
            "\n",
            "\n",
            "DatetimeIndex(['2018-07-02', '2018-06-29', '2018-06-28', '2018-06-27',\n",
            "               '2018-06-26', '2018-06-25', '2018-06-22', '2018-06-21',\n",
            "               '2018-06-20', '2018-06-19', '2018-06-18', '2018-06-15',\n",
            "               '2018-06-14', '2018-06-12', '2018-06-11', '2018-06-08',\n",
            "               '2018-06-07', '2018-06-05', '2018-06-04', '2018-06-01'],\n",
            "              dtype='datetime64[ns]', name='new_Date', freq=None)\n"
          ]
        }
      ]
    },
    {
      "cell_type": "markdown",
      "metadata": {
        "id": "2jslx5YelqPe"
      },
      "source": [
        "날짜 인덱스를 사용하면 아래와 같이 데이터에 접근할 수 있다."
      ]
    },
    {
      "cell_type": "code",
      "metadata": {
        "colab": {
          "base_uri": "https://localhost:8080/"
        },
        "id": "xMpgOu3aZUBL",
        "outputId": "c9b17cee-bb69-4687-f91d-00342fa9b8d8"
      },
      "source": [
        "df_y = df['2018']\n",
        "print(df_y.head())\n",
        "print('\\n')\n",
        "\n",
        "df_ym = df.loc['2018-07'] # loc 인덱서 사용\n",
        "print(df_ym.head())\n",
        "print('\\n')\n",
        "\n",
        "df_ym_cols = df.loc['2018-07', 'Start':'High'] # 열 범위 슬라이싱\n",
        "print(df_ym_cols)\n",
        "print('\\n')\n",
        "\n",
        "df_ymd = df['2018-07-02'] \n",
        "print(df_ymd)\n",
        "print('\\n')\n",
        "\n",
        "df_ymd_range = df['2018-06-25':'2018-06-20']  # 날짜 범위 지정\n",
        "print(df_ymd_range)"
      ],
      "execution_count": 22,
      "outputs": [
        {
          "output_type": "stream",
          "name": "stdout",
          "text": [
            "                  Date  Close  Start   High    Low  Volume\n",
            "new_Date                                                  \n",
            "2018-07-02  2018-07-02  10100  10850  10900  10000  137977\n",
            "2018-06-29  2018-06-29  10700  10550  10900   9990  170253\n",
            "2018-06-28  2018-06-28  10400  10900  10950  10150  155769\n",
            "2018-06-27  2018-06-27  10900  10800  11050  10500  133548\n",
            "2018-06-26  2018-06-26  10800  10900  11000  10700   63039\n",
            "\n",
            "\n",
            "                  Date  Close  Start   High    Low  Volume\n",
            "new_Date                                                  \n",
            "2018-07-02  2018-07-02  10100  10850  10900  10000  137977\n",
            "\n",
            "\n",
            "            Start   High\n",
            "new_Date                \n",
            "2018-07-02  10850  10900\n",
            "\n",
            "\n",
            "                  Date  Close  Start   High    Low  Volume\n",
            "new_Date                                                  \n",
            "2018-07-02  2018-07-02  10100  10850  10900  10000  137977\n",
            "\n",
            "\n",
            "                  Date  Close  Start   High    Low  Volume\n",
            "new_Date                                                  \n",
            "2018-06-25  2018-06-25  11150  11400  11450  11000   55519\n",
            "2018-06-22  2018-06-22  11300  11250  11450  10750  134805\n",
            "2018-06-21  2018-06-21  11200  11350  11750  11200  133002\n",
            "2018-06-20  2018-06-20  11550  11200  11600  10900  308596\n"
          ]
        }
      ]
    },
    {
      "cell_type": "markdown",
      "metadata": {
        "id": "r2MTSTFDlyiH"
      },
      "source": [
        "Timestamp 객체로 두 날짜 사이의 시간 간격을 구할 수도 있다."
      ]
    },
    {
      "cell_type": "code",
      "metadata": {
        "colab": {
          "base_uri": "https://localhost:8080/"
        },
        "id": "bhVH8I9DaLQB",
        "outputId": "5208595b-eee5-45de-cc0a-bc2e511446c6"
      },
      "source": [
        "today = pd.to_datetime('2018-12-25')\n",
        "df['time_delta'] = today - df.index\n",
        "df.set_index('time_delta', inplace = True)\n",
        "df_180 = df['180 days':'189 days']\n",
        "print(df_180)"
      ],
      "execution_count": 25,
      "outputs": [
        {
          "output_type": "stream",
          "name": "stdout",
          "text": [
            "                  Date  Close  Start   High    Low  Volume\n",
            "time_delta                                                \n",
            "180 days    2018-06-28  10400  10900  10950  10150  155769\n",
            "181 days    2018-06-27  10900  10800  11050  10500  133548\n",
            "182 days    2018-06-26  10800  10900  11000  10700   63039\n",
            "183 days    2018-06-25  11150  11400  11450  11000   55519\n",
            "186 days    2018-06-22  11300  11250  11450  10750  134805\n",
            "187 days    2018-06-21  11200  11350  11750  11200  133002\n",
            "188 days    2018-06-20  11550  11200  11600  10900  308596\n",
            "189 days    2018-06-19  11300  11850  11950  11300  180656\n"
          ]
        }
      ]
    }
  ]
}