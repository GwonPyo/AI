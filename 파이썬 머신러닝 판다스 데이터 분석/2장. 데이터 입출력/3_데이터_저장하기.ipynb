{
  "nbformat": 4,
  "nbformat_minor": 0,
  "metadata": {
    "colab": {
      "name": "3. 데이터 저장하기.ipynb",
      "provenance": [],
      "collapsed_sections": []
    },
    "kernelspec": {
      "name": "python3",
      "display_name": "Python 3"
    },
    "language_info": {
      "name": "python"
    }
  },
  "cells": [
    {
      "cell_type": "markdown",
      "metadata": {
        "id": "YMlp_8_hG-Mp"
      },
      "source": [
        "<h3> CSV 파일로 저장 </h3>\n",
        "\n",
        "판다스 데이터프레임은 2차원 배열로 구조화된 데이터이기 때문에 2차원 구조를 갖는 CSV 파일로 변환할 수 있다. 데이터프레임을 CSV 파일로 저장하려면 **to_csv() 메소드**를 적용한다.\n",
        "\n",
        "* **CSV 파일로 저장: DataFrame 객체.to_csv( \"파일 이름(경로) \" )**"
      ]
    },
    {
      "cell_type": "code",
      "metadata": {
        "id": "e9jjFJYUIts6",
        "colab": {
          "base_uri": "https://localhost:8080/"
        },
        "outputId": "d09b39de-8d30-49cf-d818-d4b893fe5ebb"
      },
      "source": [
        "import pandas as pd\n",
        "\n",
        "# 데이터프레임을 생성한다.\n",
        "data = {'name': ['Jerry', 'Riah', 'Paul'],\n",
        "        'algol': [\"A\", \"A+\", \"B\"],\n",
        "        'basic': ['C', 'B', 'B+'],\n",
        "        'c++': ['B+', 'C', 'C+']}\n",
        "df = pd.DataFrame(data)\n",
        "df.set_index('name', inplace = True)\n",
        "print(df)\n",
        "\n",
        "# csv 파일로 저장한다.\n",
        "df.to_csv(\"df_sample.csv\")"
      ],
      "execution_count": null,
      "outputs": [
        {
          "output_type": "stream",
          "name": "stdout",
          "text": [
            "      algol basic c++\n",
            "name                 \n",
            "Jerry     A     C  B+\n",
            "Riah     A+     B   C\n",
            "Paul      B    B+  C+\n"
          ]
        }
      ]
    },
    {
      "cell_type": "markdown",
      "metadata": {
        "id": "2iwCQ7G7HX2d"
      },
      "source": [
        "<h3> JSON 파일로 저장 </h3>\n",
        "\n",
        "데이터프레임을 JSON 파일로 저장하려면 to_json() 메소드를 이용한다.\n",
        "\n",
        "* **JSON 파일로 저장: DataFrame 객체.to_json( \"파일 이름(경로)\" )**"
      ]
    },
    {
      "cell_type": "code",
      "metadata": {
        "colab": {
          "base_uri": "https://localhost:8080/"
        },
        "id": "crScHxzJoUOX",
        "outputId": "ac43a798-2449-4230-c132-f6decd598979"
      },
      "source": [
        "# 데이터프레임을 생성한다.\n",
        "data = {'name': ['Jerry', 'Riah', 'Paul'],\n",
        "        'algol': [\"A\", \"A+\", \"B\"],\n",
        "        'basic': ['C', 'B', 'B+'],\n",
        "        'c++': ['B+', 'C', 'C+']}\n",
        "df = pd.DataFrame(data)\n",
        "df.set_index('name', inplace = True)\n",
        "print(df)\n",
        "\n",
        "# JSON 파일로 저장한다.\n",
        "df.to_json('df_sample.json')"
      ],
      "execution_count": null,
      "outputs": [
        {
          "output_type": "stream",
          "name": "stdout",
          "text": [
            "      algol basic c++\n",
            "name                 \n",
            "Jerry     A     C  B+\n",
            "Riah     A+     B   C\n",
            "Paul      B    B+  C+\n"
          ]
        }
      ]
    },
    {
      "cell_type": "markdown",
      "metadata": {
        "id": "owgNIw6pIhwN"
      },
      "source": [
        "<h3> Excel 파일로 저장 </h3>\n",
        "\n",
        "데이터프레임을 Excel 파일로 저장할 때는 to_excel() 메소드를 적용한다.\n",
        "\n",
        "* **Excel 파일로 저장: DataFrame 객체.to_excel( \"파일 이름(경로)\" )**"
      ]
    },
    {
      "cell_type": "code",
      "metadata": {
        "colab": {
          "base_uri": "https://localhost:8080/"
        },
        "id": "DtkZQvFLohcP",
        "outputId": "04a693ec-aaac-4edb-99f5-c97ecc1cfb25"
      },
      "source": [
        "# 데이터프레임을 생성한다.\n",
        "data = {'name': ['Jerry', 'Riah', 'Paul'],\n",
        "        'algol': [\"A\", \"A+\", \"B\"],\n",
        "        'basic': ['C', 'B', 'B+'],\n",
        "        'c++': ['B+', 'C', 'C+']}\n",
        "df = pd.DataFrame(data)\n",
        "df.set_index('name', inplace = True)\n",
        "print(df)\n",
        "\n",
        "# excel 파일로 저장한다.\n",
        "df.to_excel('df_sample.xlsx')"
      ],
      "execution_count": null,
      "outputs": [
        {
          "output_type": "stream",
          "name": "stdout",
          "text": [
            "      algol basic c++\n",
            "name                 \n",
            "Jerry     A     C  B+\n",
            "Riah     A+     B   C\n",
            "Paul      B    B+  C+\n"
          ]
        }
      ]
    },
    {
      "cell_type": "markdown",
      "metadata": {
        "id": "L_ELVMJpICWu"
      },
      "source": [
        "<h3> 여러 개의 데이터프레임을 하나의 Excel 파일로 저장 </h3>\n",
        "\n",
        "판다스 ExcelWriter() 함수는 Excel 워크북 객체를 생성한다. 워크북 객체는 우리가 알고 있는 Excel 파일이라고 생각하면 된다. 데이터프레임에 to_excel() 메소드를 적용할 때 삽입하려는 워크북 객체(Excel 파일)를 인자로 전달한다. <br>\n",
        "sheet_name 옵션에 Excel 파일의 시트 이름을 입력하여 삽입되는 시트 위치를 지정할 수 있다.\n",
        "* **데이터프레임 여러 개를 Excel 파일로 저장: pandas.ExcelWriter( \"파일 이름(경로)\" )**"
      ]
    },
    {
      "cell_type": "code",
      "metadata": {
        "colab": {
          "base_uri": "https://localhost:8080/"
        },
        "id": "p05N1hNhpAIG",
        "outputId": "b4f1a44b-ce6b-49f4-87e4-03b62d03d233"
      },
      "source": [
        "# 데이터프레임을 생성한다.\n",
        "data1 = {'name': ['Jerry', 'Riah', 'Paul'],\n",
        "        'algol': [\"A\", \"A+\", \"B\"],\n",
        "        'basic': ['C', 'B', 'B+'],\n",
        "        'c++': ['B+', 'C', 'C+']}\n",
        "df1 = pd.DataFrame(data1)\n",
        "df1.set_index('name', inplace = True)\n",
        "print(df1)\n",
        "print('\\n')\n",
        "\n",
        "data2 = {'c0': [1, 2, 3],\n",
        "         'c1': [4, 5, 6],\n",
        "         'c2': [7, 8, 9],\n",
        "         'c3': [10, 11, 12],\n",
        "         'c4': [13, 14, 15]}\n",
        "df2 = pd.DataFrame(data2)\n",
        "df2.set_index('c0', inplace = True)\n",
        "print(df2)\n",
        "\n",
        "writer = pd.ExcelWriter(\"df_excelwriter.xlsx\")\n",
        "df1.to_excel(writer, sheet_name = \"sheet1\")\n",
        "df2.to_excel(writer, sheet_name = \"sheet2\")\n",
        "writer.save()"
      ],
      "execution_count": null,
      "outputs": [
        {
          "output_type": "stream",
          "name": "stdout",
          "text": [
            "      algol basic c++\n",
            "name                 \n",
            "Jerry     A     C  B+\n",
            "Riah     A+     B   C\n",
            "Paul      B    B+  C+\n",
            "\n",
            "\n",
            "    c1  c2  c3  c4\n",
            "c0                \n",
            "1    4   7  10  13\n",
            "2    5   8  11  14\n",
            "3    6   9  12  15\n"
          ]
        }
      ]
    }
  ]
}