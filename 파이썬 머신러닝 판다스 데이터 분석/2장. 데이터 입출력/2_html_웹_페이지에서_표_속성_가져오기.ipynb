{
  "nbformat": 4,
  "nbformat_minor": 0,
  "metadata": {
    "colab": {
      "name": "2. html 웹 페이지에서 표 속성 가져오기.ipynb",
      "provenance": [],
      "collapsed_sections": []
    },
    "kernelspec": {
      "name": "python3",
      "display_name": "Python 3"
    },
    "language_info": {
      "name": "python"
    }
  },
  "cells": [
    {
      "cell_type": "markdown",
      "metadata": {
        "id": "r4npyhi5Ai4X"
      },
      "source": [
        "판다스 **read_html() 함수**는 HTML 웹 페이지에 있는 <table> 태그에서 표 형식의 데이터를 모두 찾아서 데이터프레임으로 변환한다. 표 데이터들은 각각 별도의 데이터프레임으로 변환되기 때문에 **여러 개의 데이터프레임을 원소로 갖는 리스트가 반환**된다. <br>\n",
        "read_html() 함수로 웹 페이지의 표 정보를 파싱(parsing)하려면, HTML 웹페이지 주소(URL)를 입력해주면된다.\n",
        "\n",
        "* **HTML 표 속성 읽기: pandas.read_html( \" 웹 주소(URL) \" 또는 \" HTML 파일 경로 이름 \" )**"
      ]
    },
    {
      "cell_type": "code",
      "metadata": {
        "colab": {
          "base_uri": "https://localhost:8080/"
        },
        "id": "DMD3AC-iwUQ7",
        "outputId": "c978b105-988f-4344-afc4-940ff66bed8f"
      },
      "source": [
        "import pandas as pd\n",
        "\n",
        "# 변수 tables에 데이터프레임들을 원소로 가진 리스트를 저장한다.\n",
        "tables = pd.read_html('sample.html')\n",
        "\n",
        "# 데이터프레임 개수를 확인해본다.\n",
        "print(len(tables))\n",
        "print('\\n')\n",
        "\n",
        "# 모든 데이터프레임을 출력해본다.\n",
        "for i in range(len(tables)):\n",
        "  print('tabel[%s]' % i)\n",
        "  print(tables[i])\n",
        "  print('\\n')\n",
        "\n",
        "# 두 번째 데이터프레임을 선택해 df 변수에 저장한다.\n",
        "df = tables[1]\n",
        "\n",
        "# name 열을 인덱스로 지정한다.\n",
        "df.set_index('name', inplace = True)\n",
        "print(df)"
      ],
      "execution_count": null,
      "outputs": [
        {
          "output_type": "stream",
          "name": "stdout",
          "text": [
            "2\n",
            "\n",
            "\n",
            "tabel[0]\n",
            "   Unnamed: 0  c0  c1  c2  c3\n",
            "0           0   0   1   4   7\n",
            "1           1   1   2   5   8\n",
            "2           2   2   3   6   9\n",
            "\n",
            "\n",
            "tabel[1]\n",
            "         name  year        developer  opensource\n",
            "0       NumPy  2006  Travis Oliphant        True\n",
            "1  matplotlib  2003   John D. Hunter        True\n",
            "2      pandas  2008    Wes Mckinneye        True\n",
            "\n",
            "\n",
            "            year        developer  opensource\n",
            "name                                         \n",
            "NumPy       2006  Travis Oliphant        True\n",
            "matplotlib  2003   John D. Hunter        True\n",
            "pandas      2008    Wes Mckinneye        True\n"
          ]
        }
      ]
    }
  ]
}