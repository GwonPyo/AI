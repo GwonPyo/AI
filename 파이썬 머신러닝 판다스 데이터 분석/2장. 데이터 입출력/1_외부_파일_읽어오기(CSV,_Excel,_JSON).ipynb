{
  "nbformat": 4,
  "nbformat_minor": 0,
  "metadata": {
    "colab": {
      "name": "1. 외부 파일 읽어오기(CSV, Excel, JSON).ipynb",
      "provenance": [],
      "collapsed_sections": []
    },
    "kernelspec": {
      "name": "python3",
      "display_name": "Python 3"
    },
    "language_info": {
      "name": "python"
    }
  },
  "cells": [
    {
      "cell_type": "markdown",
      "metadata": {
        "id": "SedMFG7pvwmo"
      },
      "source": [
        "**판다스는 다양한 형태의 외부 파일을 읽어와서 데이터프레임으로 변환하는 함수를 제공한다.** 어떤 파일이든 판다스 객체인 데이터프레임으로 변환되고 나면 판다스의 모든 함수와 기능을 자유롭게 사용할 수 있다. 반대로 데이터프레임을 다양한 유형의 파일로 저장할 수도 있다."
      ]
    },
    {
      "cell_type": "markdown",
      "metadata": {
        "id": "3Sm7Nav4wHX_"
      },
      "source": [
        "<h3> CSV 파일 </h3>\n",
        "데이터 값을 쉼표(,)로 구분하고 있다는 의미로 **CSV(comma-seperated values)**라고 부르는 텍스트 파일이다. 쉼표(,)로 열을 구분하고 줄바꿈으로 행을 구분한다. 판다스 **read_csv() 함수**에 파일 경로 혹은 이름을 입력하면 CSV 파일을 읽어와서 데이터프레임으로 변환한다.\n",
        "\n",
        "* **CSV 파일 -> 데이터프레임: pandas.read_csv( \"파일 경로(이름)\" )**\n",
        "\n",
        "read_csv() 함수의 **header 옵션**은 데이터프레임의 열 이름으로 사용할 행을 지정한다. header 매개변수의 기본값은 0이고 0행을 열 이름으로 사용하게된다. 1행을 열 이름으로 사용하고 싶다면 header를 1로 지정하면된다. 혹은 열 이름을 지정하고 싶지 않다면 None으로 지정하면 된다. <br>\n",
        "**index_col() 옵션**은 데이터프레임의 행 인덱스가 되는 열을 지정한다. 기본값은 False로 인덱스를 지정하지 않아 정수 0, 1, 2가 자동으로 지정된다.\n",
        "\n",
        "CSV 파일에 따라 쉼표(,)대신 탭(\\t)이나 공백(\" \")으로 텍스트를 구분하기도 한다. 이때는 구분자(sep 또는 delimiter) 옵션을 알맞게 입력해야한다.\n",
        "\n",
        "* 매개변수 정리\n",
        "* path: 파일 위치(파일명 포함), URL\n",
        "* sep(또는 delimiter): 텍스트 데이터를 필드별로 구분하는 문자\n",
        "* header: 열 이름으로 사용될 행의 번호(기본값은 0), header가 없고 첫 행부터 데이터가 있는 경우 None으로 지정 가능\n",
        "* index_col: 행 인덱스로 사용할 열의 번호 또는 열 이름\n",
        "* names: 열 이름으로 사용할 문자열의 리스트\n",
        "* skiprows: 처음 몇 줄을 skip할 것인지 설정(숫자 입력), skip하려는 행의 번호를 담은 리스트로 설정 가능(예: [1, 3, 5])\n",
        "* parse_dates: 날짜 텍스트를 datetime64로 변환할 것인지 설정(기본값은 False)\n",
        "* skip_footer: 마지막 몇 줄을 skip할 것인지 설정(숫자 입력)\n",
        "* encoding: 텍스트 인코딩 종류를 지정(예: 'utf-8')"
      ]
    },
    {
      "cell_type": "code",
      "metadata": {
        "id": "qGnZc6xSrLkO",
        "colab": {
          "base_uri": "https://localhost:8080/"
        },
        "outputId": "dfccbfda-e1b2-4673-f41b-3afaa8b0c119"
      },
      "source": [
        "import pandas as pd\n",
        "\n",
        "# read_csv() 함수로 데이터프레임으로 변환한다.\n",
        "df1 = pd.read_csv('read_csv_sample.csv')\n",
        "print(df1)\n",
        "print('\\n')\n",
        "\n",
        "# header 매개변수를 None으로 지정하고 데이터프레임으로 변환한다.\n",
        "df2 = pd.read_csv('read_csv_sample.csv', header = None)\n",
        "print(df2)\n",
        "print('\\n')\n",
        "\n",
        "# index_col 매개변수를 None으로 지정하고 데이터프레임으로 변환한다.\n",
        "df3 = pd.read_csv('read_csv_sample.csv', index_col = None)\n",
        "print(df3)\n",
        "print('\\n')\n",
        "\n",
        "# index_col 매개변수를 c0로 지정하고 데이터프레임으로 변환한다.\n",
        "df4 = pd.read_csv('read_csv_sample.csv', index_col = 'c0')\n",
        "print(df4)"
      ],
      "execution_count": null,
      "outputs": [
        {
          "output_type": "stream",
          "name": "stdout",
          "text": [
            "   c0  c1  c2  c3\n",
            "0   0   1   4   7\n",
            "1   1   2   5   8\n",
            "2   2   3   6   9\n",
            "\n",
            "\n",
            "    0   1   2   3\n",
            "0  c0  c1  c2  c3\n",
            "1   0   1   4   7\n",
            "2   1   2   5   8\n",
            "3   2   3   6   9\n",
            "\n",
            "\n",
            "   c0  c1  c2  c3\n",
            "0   0   1   4   7\n",
            "1   1   2   5   8\n",
            "2   2   3   6   9\n",
            "\n",
            "\n",
            "    c1  c2  c3\n",
            "c0            \n",
            "0    1   4   7\n",
            "1    2   5   8\n",
            "2    3   6   9\n"
          ]
        }
      ]
    },
    {
      "cell_type": "markdown",
      "metadata": {
        "id": "SyyQpCJSx5Oe"
      },
      "source": [
        "<h3> Excel 파일 </h3>\n",
        "\n",
        "Excel 파일의 행과 열은 데이터프레임의 행, 열로 일대일 대응된다. **read_excel() 함수**의 사용법은 read_csv() 함수와 거의 동일하다.\n",
        "\n",
        "* **Excel 파일 -> 데이터프레임: pandas.read_excel( \"파일 경로(이름)\" )**\n",
        "\n",
        "**engine 매개변수**는 Excel 파일이 xlsx 확장자인 경우 'openpyxl'을 지정해야 하고, xls인 경우 'xlrd'를 지정해야한다."
      ]
    },
    {
      "cell_type": "code",
      "metadata": {
        "colab": {
          "base_uri": "https://localhost:8080/"
        },
        "id": "7OYxS2o9wvJW",
        "outputId": "c5270bf2-f815-43ad-f34d-01879ec831b2"
      },
      "source": [
        "df1 = pd.read_excel('남북한발전전력량.xlsx', engine = 'openpyxl') # header = 0 (default 옵션)\n",
        "df2 = pd.read_excel('남북한발전전력량.xlsx', engine = 'openpyxl', header = None) # header 옵션 미적용 \n",
        "\n",
        "print(df1)\n",
        "print('\\n')\n",
        "print(df2)"
      ],
      "execution_count": null,
      "outputs": [
        {
          "output_type": "stream",
          "name": "stdout",
          "text": [
            "  전력량 (억㎾h) 발전 전력별  1990  1991  1992  1993  ...  2011  2012  2013  2014  2015  2016\n",
            "0        남한     합계  1077  1186  1310  1444  ...  4969  5096  5171  5220  5281  5404\n",
            "1       NaN     수력    64    51    49    60  ...    78    77    84    78    58    66\n",
            "2       NaN     화력   484   573   696   803  ...  3343  3430  3581  3427  3402  3523\n",
            "3       NaN    원자력   529   563   565   581  ...  1547  1503  1388  1564  1648  1620\n",
            "4       NaN    신재생     -     -     -     -  ...     -    86   118   151   173   195\n",
            "5        북한     합계   277   263   247   221  ...   211   215   221   216   190   239\n",
            "6       NaN     수력   156   150   142   133  ...   132   135   139   130   100   128\n",
            "7       NaN     화력   121   113   105    88  ...    79    80    82    86    90   111\n",
            "8       NaN    원자력     -     -     -     -  ...     -     -     -     -     -     -\n",
            "\n",
            "[9 rows x 29 columns]\n",
            "\n",
            "\n",
            "          0       1     2     3     4   ...    24    25    26    27    28\n",
            "0  전력량 (억㎾h)  발전 전력별  1990  1991  1992  ...  2012  2013  2014  2015  2016\n",
            "1         남한      합계  1077  1186  1310  ...  5096  5171  5220  5281  5404\n",
            "2        NaN      수력    64    51    49  ...    77    84    78    58    66\n",
            "3        NaN      화력   484   573   696  ...  3430  3581  3427  3402  3523\n",
            "4        NaN     원자력   529   563   565  ...  1503  1388  1564  1648  1620\n",
            "5        NaN     신재생     -     -     -  ...    86   118   151   173   195\n",
            "6         북한      합계   277   263   247  ...   215   221   216   190   239\n",
            "7        NaN      수력   156   150   142  ...   135   139   130   100   128\n",
            "8        NaN      화력   121   113   105  ...    80    82    86    90   111\n",
            "9        NaN     원자력     -     -     -  ...     -     -     -     -     -\n",
            "\n",
            "[10 rows x 29 columns]\n"
          ]
        }
      ]
    },
    {
      "cell_type": "markdown",
      "metadata": {
        "id": "2s20Ufug_fZ4"
      },
      "source": [
        "<h3> JSON 파일 </h3>\n",
        "JSON 파일(확장자: .json)은 데이터 공유 목적으로 개발된 특수한 파일 형식이다. 파이썬 딕셔너리와 비슷하게 'key : value' 구조를 갖는데 구조가 중첩되는 방식에 따라 다르게 적용한다.\n",
        "\n",
        "* **JSON 파일 -> 데이터프레임: pandas.read_json(\" 파일 경로(이름) \")**\n",
        "\n",
        "**read_json() 함수**를 사용하면 JSON 파일을 데이터프레임으로 변환한다."
      ]
    },
    {
      "cell_type": "code",
      "metadata": {
        "colab": {
          "base_uri": "https://localhost:8080/"
        },
        "id": "kh1N4itoxKJv",
        "outputId": "c7a8ee9c-e39a-45ec-cf3d-8561ad49cdcf"
      },
      "source": [
        "df = pd.read_json('read_json_sample.json')\n",
        "print(df)\n",
        "print('\\n')\n",
        "print(df.index)"
      ],
      "execution_count": null,
      "outputs": [
        {
          "output_type": "stream",
          "name": "stdout",
          "text": [
            "           name  year        developer opensource\n",
            "pandas           2008    Wes Mckinneye       True\n",
            "NumPy            2006  Travis Oliphant       True\n",
            "matplotlib       2003   John D. Hunter       True\n",
            "\n",
            "\n",
            "Index(['pandas', 'NumPy', 'matplotlib'], dtype='object')\n"
          ]
        }
      ]
    }
  ]
}