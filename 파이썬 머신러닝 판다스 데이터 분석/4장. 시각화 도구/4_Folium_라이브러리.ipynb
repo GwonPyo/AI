{
  "nbformat": 4,
  "nbformat_minor": 0,
  "metadata": {
    "colab": {
      "name": "4. Folium 라이브러리.ipynb",
      "provenance": [],
      "collapsed_sections": []
    },
    "kernelspec": {
      "name": "python3",
      "display_name": "Python 3"
    },
    "language_info": {
      "name": "python"
    }
  },
  "cells": [
    {
      "cell_type": "markdown",
      "metadata": {
        "id": "mQoJPyv6ckFO"
      },
      "source": [
        "**Folium 라이브러리**는 지도 위에 시각화할 때 유용한 두구이다. 세계 지도를 기본 지원하고 다양한 스타일의 지도 이미지를 제공한다.\n",
        "\n",
        "<h3> 지도 만들기 </h3>\n",
        "\n",
        "Folium 라이브러리의 **Map() 함수**를 사용하면 지도 객체를 만들 수 있다. 지도 화면은 고정된 것이 아니고 줌 기능과 화면 이동이 모두 가능하다. <br>\n",
        "**location 매개변수**로 [위도, 경도] 수치를 입력하면 그 지점을 중심으로 지도를 만들어 준다.<br>\n",
        "**zoom_start 매개변수**를 사용하면 화면 확대 비율을 조정할 수 있다.<br>\n",
        "지도를 보려면 지도 객체에 **save() 메소드**를 적용해 HTML 파일로 저장하고, 웹브라우저로 파일을 열어서 확인할 수 있다. "
      ]
    },
    {
      "cell_type": "code",
      "metadata": {
        "id": "HbEfeI_5D_0q"
      },
      "source": [
        "import folium\n",
        "\n",
        "# 서울 지도를 만든다\n",
        "seoul_map = folium.Map(location = [37.55, 126.98], zoom_start = 12)\n",
        "\n",
        "# HTML 파일로 저장한다.\n",
        "seoul_map.save('seoul.html')"
      ],
      "execution_count": 1,
      "outputs": []
    },
    {
      "cell_type": "markdown",
      "metadata": {
        "id": "AF3t2hsBeAiO"
      },
      "source": [
        "<h3> 지도 스타일 적용하기 </h3>\n",
        "\n",
        "Map() 함수에 **tiles 매개변수**를 적용하면 지도에 적용하는 스타일을 변경하여 지정할 수 있다. <br>\n",
        "'Stamen Terrain' 맵과 'Stamen Toner' 맵의 스타일을 비교해보자."
      ]
    },
    {
      "cell_type": "code",
      "metadata": {
        "id": "GVmjrqjN3NwR"
      },
      "source": [
        "seoul_map2 = folium.Map(location = [37.55, 126.98], tiles = 'Stamen Terrain', zoom_start = 12)\n",
        "seoul_map3 = folium.Map(location = [37.55, 126.98], tiles = 'Stamen Toner', zoom_start = 12)\n",
        "\n",
        "seoul_map2.save('seoul2.html')\n",
        "seoul_map3.save('seoul3.html')"
      ],
      "execution_count": 2,
      "outputs": []
    },
    {
      "cell_type": "markdown",
      "metadata": {
        "id": "_aBXHiApeLhG"
      },
      "source": [
        "<h3> 지도에 마커 표시하기 </h3>\n",
        "\n",
        "마커 위치를 표시하려면 **Marker() 함수**에 위치, 경도 정보를 전달해야 한다. **popup 매개변수**로 마커를 클릭했을 때 팝업창에 표시해주는 텍스트를 넣을 수 있다.<br>\n",
        "서울 시내 주요 대학교의 위치 데이터를 데이터프레임으로 변환하고 Folium 지도에 위치를 표시해보자. "
      ]
    },
    {
      "cell_type": "code",
      "metadata": {
        "id": "mV0nqviB4Cth",
        "colab": {
          "base_uri": "https://localhost:8080/"
        },
        "outputId": "e3e6a6b0-42f1-4310-f6f2-d8b2558356f1"
      },
      "source": [
        "import pandas as pd\n",
        "\n",
        "df = pd.read_excel('서울지역 대학교 위치.xlsx', engine = 'openpyxl')\n",
        "df.set_index(['Unnamed: 0'], inplace = True)\n",
        "print(df)\n",
        "\n",
        "seoul_map = folium.Map(location = [37.55, 126.98], tiles = 'Stamen Terrain', zoom_start = 12)\n",
        "\n",
        "for name, lat, lng in zip(df.index, df.위도, df.경도):\n",
        "  folium.Marker([lat, lng], popup = name).add_to(seoul_map)\n",
        "\n",
        "seoul_map.save('seoul_colleges.html')"
      ],
      "execution_count": 5,
      "outputs": [
        {
          "output_type": "stream",
          "name": "stdout",
          "text": [
            "                       위도          경도\n",
            "Unnamed: 0                           \n",
            "KAIST 서울캠퍼스     37.592573  127.046737\n",
            "KC대학교           37.548345  126.854797\n",
            "가톨릭대학교(성신교정)    37.585922  127.004328\n",
            "가톨릭대학교(성의교정)    37.499623  127.006065\n",
            "감리교신학대학교        37.567645  126.961610\n",
            "건국대학교           37.540762  127.079343\n",
            "경기대학교 서울캠퍼스     37.300485  127.035833\n",
            "경희대학교 서울캠퍼스     37.596195  127.052544\n",
            "고려대학교           33.847782 -117.977748\n",
            "광운대학교           37.619496  127.059696\n",
            "국민대학교           37.609641  126.997697\n",
            "덕성여자대학교         37.651199  127.016160\n",
            "동국대학교           37.557477  127.002052\n",
            "동덕여자대학교         37.606320  127.041808\n",
            "명지대학교 서울캠퍼스     37.580205  126.923445\n",
            "삼육대학교           37.642952  127.105476\n",
            "상명대학교 서울캠퍼스     37.602638  126.955252\n",
            "서강대학교           37.550944  126.941002\n",
            "서경대학교           37.615095  127.013111\n",
            "서울과학기술대학교       37.631668  127.077481\n",
            "서울교육대학교         37.489961  127.016412\n",
            "서울기독대학교         37.600923  126.912382\n",
            "서울대학교           37.459882  126.951905\n",
            "서울시립대학교         37.583866  127.058777\n",
            "서울여자대학교         37.628113  127.090457\n",
            "서울한영대학교         37.496541  126.851262\n",
            "성공회대학교          37.487232  126.825320\n",
            "성균관대학교 서울캠퍼스    37.588227  126.993606\n",
            "성신여자대학교         37.591310  127.022131\n",
            "세종대학교           37.550260  127.073139\n",
            "숙명여자대학교         37.546364  126.964831\n",
            "숭실대학교           37.496311  126.957460\n",
            "연세대학교           37.565784  126.938572\n",
            "육군사관학교          37.623819  127.098878\n",
            "이화여자대학교         37.564308  126.950179\n",
            "장로회신학대학교        37.550511  127.103458\n",
            "중앙대학교 서울캠퍼스     37.505088  126.957101\n",
            "총신대학교           37.488623  126.966817\n",
            "추계예술대학교         37.562452  126.953417\n",
            "한국방송통신대학교       37.578613  127.003291\n",
            "한국성서대학교         37.648749  127.064320\n",
            "한국예술종합학교        37.604997  127.056740\n",
            "한국외국어대학교        37.597319  127.057843\n",
            "한국체육대학교         37.519627  127.130984\n",
            "한성대학교           37.581785  127.010369\n",
            "한양대학교           37.557232  127.045322\n",
            "홍익대학교           37.551464  126.925011\n"
          ]
        }
      ]
    },
    {
      "cell_type": "markdown",
      "metadata": {
        "id": "F3yr5SqHf2qW"
      },
      "source": [
        "원형 마커를 표시하려면 Marker() 함수 대신에 **CircleMarker() 함수**를 사용하면 된다. 크기, 색상, 투명도 등을 설정할 수 있다."
      ]
    },
    {
      "cell_type": "code",
      "metadata": {
        "id": "HcxJ5Cmb5ikK"
      },
      "source": [
        "df = pd.read_excel('서울지역 대학교 위치.xlsx', engine = 'openpyxl')\n",
        "df.index = df['Unnamed: 0']\n",
        "seoul_map = folium.Map(location = [37.55, 126.98], tiles = 'Stamen Terrain', zoom_start = 12)\n",
        "\n",
        "for name, lat, lng in zip(df.index, df.위도, df.경도):\n",
        "  folium.CircleMarker([lat, lng],\n",
        "                      radius = 10, # 반지름\n",
        "                      color = 'brown', # 원의 둘레 색\n",
        "                      fill = True,\n",
        "                      fill_color = 'coral', # 원을 채우는 색\n",
        "                      fill_opacity = 0.7 # 투명도\n",
        "                      ).add_to(seoul_map)\n",
        "\n",
        "seoul_map.save('seoul_colleges2.html')"
      ],
      "execution_count": null,
      "outputs": []
    },
    {
      "cell_type": "markdown",
      "metadata": {
        "id": "RFxdWBa6gHCj"
      },
      "source": [
        "<h3> 지도 영역에 단계 구분도(Chropleth Map) 표시하기 </h3>\n",
        "\n",
        "행정구역과 같이 지도상의 어떤 경계에 둘러싸인 영역에 색을 칠하거나 음영 등으로 정보를 나타내는 시각화 방법이다. **Choropleth()**함수를 사용하면 된다."
      ]
    },
    {
      "cell_type": "code",
      "metadata": {
        "id": "wkE9161dVf6F"
      },
      "source": [
        "import json\n",
        "\n",
        "df = pd.read_excel('경기도인구데이터.xlsx', index_col = '구분', engine = 'openpyxl')\n",
        "df.columns = df.columns.map(str)\n",
        "\n",
        "try:\n",
        "  geo_data = json.load(open('경기도행정구역경계.json', encoding = 'utf-8'))\n",
        "except:\n",
        "  geo_data = json.load(open('경기도행정구역경계.json', encoding = 'utf-8-sig'))\n",
        "\n",
        "g_map = folium.Map(location = [37.5502, 126.982], tiles = 'Stamen Terrain', zoom_start = 9)\n",
        "\n",
        "year = '2007'\n",
        "\n",
        "folium.Choropleth(geo_data = geo_data, # 지도 경계\n",
        "                  data = df[year], # 표시하려는 데이터\n",
        "                  columns = [df.index, df[year]], # 열 지정\n",
        "                  fill_color = 'YlOrRd', fill_opacity = 0.7, line_opacity = 0.3,\n",
        "                  threshold_scale = [10000, 100000, 300000, 500000, 700000],\n",
        "                  key_on = 'feature.properties.name'\n",
        "                  ).add_to(g_map)\n",
        "\n",
        "g_map.save('gyonggi_population_' + year + '.html')"
      ],
      "execution_count": null,
      "outputs": []
    }
  ]
}