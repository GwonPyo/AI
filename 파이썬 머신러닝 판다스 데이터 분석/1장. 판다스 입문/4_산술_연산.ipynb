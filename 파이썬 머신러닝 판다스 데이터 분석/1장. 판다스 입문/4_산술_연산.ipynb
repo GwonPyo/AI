{
  "nbformat": 4,
  "nbformat_minor": 0,
  "metadata": {
    "colab": {
      "name": "4. 산술 연산.ipynb",
      "provenance": [],
      "collapsed_sections": []
    },
    "kernelspec": {
      "name": "python3",
      "display_name": "Python 3"
    },
    "language_info": {
      "name": "python"
    }
  },
  "cells": [
    {
      "cell_type": "markdown",
      "metadata": {
        "id": "TmUyFDyYNX4J"
      },
      "source": [
        "판다스 객체의 산술연산은 내부적으로 아래와 같은 3단계 프로세스를 거친다.\n",
        "\n",
        "* 행/열 인덱스를 기준으로 모든 원소를 정렬한다.\n",
        "* 동일한 위치에 있는 원소끼리 일대일로 대응시킨다.\n",
        "* 일대일로 대응된 원소끼리 연산을 처리한다. 단. 대응되는 원소가 없으면 NaN으로 처리한다."
      ]
    },
    {
      "cell_type": "markdown",
      "metadata": {
        "id": "GgsojPRqNrsA"
      },
      "source": [
        "<h3> 시리즈 vs 숫자 </h3>\n",
        "\n",
        "시리즈 객체에 어떤 숫자를 더하면 시리즈의 **모든 원소에 해당 숫자를 더하고 계산한 결과를 시리즈 객체로 반환한다**. <br>\n",
        "덧셈, 뺄셈, 곱셈, 나눗셈 모두 가능하다.\n",
        "\n",
        "* **시리즈와 숫자 연산: Series 객체 + 연산자(+, -, *, /) + 숫자**"
      ]
    },
    {
      "cell_type": "code",
      "metadata": {
        "id": "77Jc8bNVUHyM",
        "colab": {
          "base_uri": "https://localhost:8080/"
        },
        "outputId": "cfb8496b-7d1d-4846-ed2d-7d8bf6faed6f"
      },
      "source": [
        "import pandas as pd\n",
        "\n",
        "student1 = pd.Series({'국어': 100, '영어': 80, '수학': 90})\n",
        "print(student1)\n",
        "print('\\n')\n",
        "\n",
        "percentage = student1 / 200\n",
        "print(percentage)\n",
        "print('\\n')\n",
        "print(type(percentage))"
      ],
      "execution_count": null,
      "outputs": [
        {
          "output_type": "stream",
          "name": "stdout",
          "text": [
            "국어    100\n",
            "영어     80\n",
            "수학     90\n",
            "dtype: int64\n",
            "\n",
            "\n",
            "국어    0.50\n",
            "영어    0.40\n",
            "수학    0.45\n",
            "dtype: float64\n",
            "\n",
            "\n",
            "<class 'pandas.core.series.Series'>\n"
          ]
        }
      ]
    },
    {
      "cell_type": "markdown",
      "metadata": {
        "id": "xqyHykQcOVbQ"
      },
      "source": [
        "<h3> 시리즈 vs 시리즈 </h3>\n",
        "\n",
        "시리즈와 시리즈끼리 사칙연산을 수행하면 시리즈의 모든 인덱스에 대하여 **같은 인덱스를 가진 원소끼리 계산한다**. 인덱스에 연산 결과를 매칭하여 새 시리즈를 반환한다.\n",
        "\n",
        "* 시리즈와 시리즈의 연산: Series1 + 연산자(+, -, *, /) + Series2\n",
        "\n",
        "두 시리즈 객체를 이용해 네 가지 사칙연산을 모두 처리해보고 DataFrame() 메소드를 이용해 하나의 데이터프레임으로 합쳐보자."
      ]
    },
    {
      "cell_type": "code",
      "metadata": {
        "colab": {
          "base_uri": "https://localhost:8080/"
        },
        "id": "Ox_X6vXCD1td",
        "outputId": "464569eb-60b9-4183-cb7c-994ee34632ec"
      },
      "source": [
        "student1 = pd.Series({'국어': 100, '영어': 80, '수학': 90})\n",
        "student2 = pd.Series({'수학': 80, '국어': 90, '영어': 80})\n",
        "\n",
        "print(student1)\n",
        "print('\\n')\n",
        "print(student2)\n",
        "print('\\n')\n",
        "\n",
        "addition = student1 + student2\n",
        "subtraction = student1 - student2\n",
        "multiplication = student1 * student2\n",
        "division = student1 / student2\n",
        "print(type(division))\n",
        "print('\\n')\n",
        "\n",
        "result = pd.DataFrame([addition, subtraction, multiplication, division], index = ['덧셈', '뺄셈', '곱셈', '나눗셈'])\n",
        "print(result)"
      ],
      "execution_count": null,
      "outputs": [
        {
          "output_type": "stream",
          "name": "stdout",
          "text": [
            "국어    100\n",
            "영어     80\n",
            "수학     90\n",
            "dtype: int64\n",
            "\n",
            "\n",
            "수학    80\n",
            "국어    90\n",
            "영어    80\n",
            "dtype: int64\n",
            "\n",
            "\n",
            "<class 'pandas.core.series.Series'>\n",
            "\n",
            "\n",
            "              국어        수학      영어\n",
            "덧셈    190.000000   170.000   160.0\n",
            "뺄셈     10.000000    10.000     0.0\n",
            "곱셈   9000.000000  7200.000  6400.0\n",
            "나눗셈     1.111111     1.125     1.0\n"
          ]
        }
      ]
    },
    {
      "cell_type": "markdown",
      "metadata": {
        "id": "WAWbmAjovYk3"
      },
      "source": [
        "위와 같이 **주어진 인덱스의 순서가 달라도 판단스는 같은 인덱스를 찾아 정렬한 후 같은 인덱스끼리의 값을 계산한다**.\n",
        "\n",
        "연산을 하는 두 시리즈의 원소 개수가 다르거나 시리즈의 크기가 같아도 인덱스 값이 다를 수 있다. **어느 한쪽에만 인덱스가 존재하고 다른 쪽에는 짝을 지을 수 있는 동일한 인덱스가 없는 경우 정상적으로 연산을 처리할 수 없다.** 이런 경우 계산의 결과는 모두 NaN값을 가지게 된다. <br>\n",
        "또한 동일한 인덱스가 양쪽에 있더라도 한쪽의 값이 NaN인 경우도 있다. 이런 경우에도 계산의 결과는 NaN이 된다."
      ]
    },
    {
      "cell_type": "code",
      "metadata": {
        "colab": {
          "base_uri": "https://localhost:8080/"
        },
        "id": "MrT61LHEE-Ld",
        "outputId": "06b20da0-b380-4a74-dfc7-6e2ad5fd64d6"
      },
      "source": [
        "import numpy as np\n",
        "\n",
        "student1 = pd.Series({'국어': np.nan, '영어': 80, '수학': 90})\n",
        "student2 = pd.Series({'수학': 80, '국어': 90, '미술': 100})\n",
        "\n",
        "print(student1)\n",
        "print('\\n')\n",
        "print(student2)\n",
        "print('\\n')\n",
        "\n",
        "addition = student1 + student2\n",
        "subtraction = student1 - student2\n",
        "multiplication = student1 * student2\n",
        "division = student1 / student2\n",
        "print(type(division))\n",
        "print('\\n')\n",
        "\n",
        "result = pd.DataFrame([addition, subtraction, multiplication, division], index = ['덧셈', '뺄셈', '곱셈', '나눗셈'])\n",
        "print(result)"
      ],
      "execution_count": null,
      "outputs": [
        {
          "output_type": "stream",
          "name": "stdout",
          "text": [
            "국어     NaN\n",
            "영어    80.0\n",
            "수학    90.0\n",
            "dtype: float64\n",
            "\n",
            "\n",
            "수학     80\n",
            "국어     90\n",
            "미술    100\n",
            "dtype: int64\n",
            "\n",
            "\n",
            "<class 'pandas.core.series.Series'>\n",
            "\n",
            "\n",
            "     국어  미술        수학  영어\n",
            "덧셈  NaN NaN   170.000 NaN\n",
            "뺄셈  NaN NaN    10.000 NaN\n",
            "곱셈  NaN NaN  7200.000 NaN\n",
            "나눗셈 NaN NaN     1.125 NaN\n"
          ]
        }
      ]
    },
    {
      "cell_type": "markdown",
      "metadata": {
        "id": "IB9SDed1wZEI"
      },
      "source": [
        "<h3> 연산 메소드 </h3>\n",
        "\n",
        "연산에서 객체 사이에 공통 인덱스가 없거나 NaN이 포함된 경우 연산 결과는 Nan으로 반환된다. 이런 상황을 피하려면 **연산 메소드**에 **fill_value 옵션**을 설정하여 적용하면된다.\n",
        "\n",
        "* **연산 메소드 사용(시리즈와 시리즈의 덧셈): Series1.add(Series2, fill_value = 0)** <br> \n",
        "**(이외 연산 메소드: sub(), mul(), div())**"
      ]
    },
    {
      "cell_type": "code",
      "metadata": {
        "colab": {
          "base_uri": "https://localhost:8080/"
        },
        "id": "dUW1LJEXFEOk",
        "outputId": "f35599ee-54a9-4402-cf1d-d3022255fce6"
      },
      "source": [
        "student1 = pd.Series({'국어': np.nan, '영어': 80, '수학': 90})\n",
        "student2 = pd.Series({'수학': 80, '국어': 90, '미술': 100})\n",
        "\n",
        "print(student1)\n",
        "print('\\n')\n",
        "print(student2)\n",
        "print('\\n')\n",
        "\n",
        "sr_add = student1.add(student2, fill_value = 0)\n",
        "sr_sub = student1.sub(student2, fill_value = 0)\n",
        "sr_mul = student1.mul(student2, fill_value = 0)\n",
        "sr_div = student1.div(student2, fill_value = 0)\n",
        "\n",
        "result = pd.DataFrame([sr_add, sr_sub, sr_mul, sr_div], index = ['덧셈', '뺄셈', '곱셈', '나눗셈'])\n",
        "print(result)"
      ],
      "execution_count": null,
      "outputs": [
        {
          "output_type": "stream",
          "name": "stdout",
          "text": [
            "국어     NaN\n",
            "영어    80.0\n",
            "수학    90.0\n",
            "dtype: float64\n",
            "\n",
            "\n",
            "수학     80\n",
            "국어     90\n",
            "미술    100\n",
            "dtype: int64\n",
            "\n",
            "\n",
            "       국어     미술        수학    영어\n",
            "덧셈   90.0  100.0   170.000  80.0\n",
            "뺄셈  -90.0 -100.0    10.000  80.0\n",
            "곱셈    0.0    0.0  7200.000   0.0\n",
            "나눗셈   0.0    0.0     1.125   inf\n"
          ]
        }
      ]
    },
    {
      "cell_type": "markdown",
      "metadata": {
        "id": "ICqyupokxH_4"
      },
      "source": [
        "<h3> 데이터프레임 vs 숫자 </h3>\n",
        "\n",
        "**데이터프레임에 어떤 숫자를 더하면 모든 원소에 숫자를 더한다.** 덧셈, 뺄셈, 곱셈, 나눗셈 모두 가능하다. 기존 데이터프레임의 형태를 그대로 유지한 채 원소 값만 새로운 계산값으로 바뀐다. 단, 계산 결과는 새로운 객체로 반환된다.\n",
        "\n",
        "* **데이터프레임과 숫자 연산: DataFrame 객체 + 연산자(+, -, *, /) + 숫자**\n",
        "\n",
        "**Seaborn 라이브러리**에서 제공하는 데이터셋중 하나인 타이타닉 데이터셋을 사용해서 계산해보자."
      ]
    },
    {
      "cell_type": "code",
      "metadata": {
        "colab": {
          "base_uri": "https://localhost:8080/"
        },
        "id": "ON-XdBv1D11D",
        "outputId": "dff2e5ee-291f-4099-badd-3d9ae74ac976"
      },
      "source": [
        "import seaborn as sns\n",
        "\n",
        "titanic = sns.load_dataset('titanic')\n",
        "df = titanic.loc[:, ['age', 'fare']]\n",
        "print(df.head())\n",
        "print('\\n')\n",
        "print(type(df))\n",
        "print('\\n')\n",
        "\n",
        "addition = df + 10\n",
        "print(addition.head())\n",
        "print('\\n')\n",
        "print(type(addition))"
      ],
      "execution_count": null,
      "outputs": [
        {
          "output_type": "stream",
          "name": "stdout",
          "text": [
            "    age     fare\n",
            "0  22.0   7.2500\n",
            "1  38.0  71.2833\n",
            "2  26.0   7.9250\n",
            "3  35.0  53.1000\n",
            "4  35.0   8.0500\n",
            "\n",
            "\n",
            "<class 'pandas.core.frame.DataFrame'>\n",
            "\n",
            "\n",
            "    age     fare\n",
            "0  32.0  17.2500\n",
            "1  48.0  81.2833\n",
            "2  36.0  17.9250\n",
            "3  45.0  63.1000\n",
            "4  45.0  18.0500\n",
            "\n",
            "\n",
            "<class 'pandas.core.frame.DataFrame'>\n"
          ]
        }
      ]
    },
    {
      "cell_type": "markdown",
      "metadata": {
        "id": "wVh0hSdpyIw3"
      },
      "source": [
        "<h3> 데이터프레임 vs 데이터프레임 </h3>\n",
        "\n",
        "**데이터프레임의 같은 행, 같은 열 위치에 있는 원소끼리 계산한다.** 이처럼 동일한 위치의 원소끼리 계산한 결과값을 원래 위치에 다시 입력하여 데이터프레임을 만든다. 데이터프레임 중에서 한쪽의 원소가 존재하지 않거나 NaN이면 계산결과는 NaN으로 처리된다.\n",
        "\n",
        "* **데이터프레임의 연산자 활용: DataFrame1 + 연산자(+, -, *, /) + DataFrame2**"
      ]
    },
    {
      "cell_type": "markdown",
      "metadata": {
        "id": "ccVuGLMwy09f"
      },
      "source": [
        "아래 코드는 데이터프레임의 **열의 개수와 동일한 개수의 원소를 가진 리스트를 데이터프레임 객체에 더해본 코드**이다. 이 경우 행마다 동일한 계산이 수행된다."
      ]
    },
    {
      "cell_type": "code",
      "metadata": {
        "colab": {
          "base_uri": "https://localhost:8080/"
        },
        "id": "oS3qswvaFngE",
        "outputId": "c086b0fd-dfa7-4076-f563-b2dbe289dc6f"
      },
      "source": [
        "import seaborn as sns\n",
        "\n",
        "titanic = sns.load_dataset('titanic')\n",
        "df = titanic.loc[:, ['age', 'fare']]\n",
        "print(df.head())\n",
        "print('\\n')\n",
        "print(type(df))\n",
        "print('\\n')\n",
        "\n",
        "result = df + [10, 10]\n",
        "print(result.head())\n",
        "print('\\n')\n",
        "print(type(result))"
      ],
      "execution_count": null,
      "outputs": [
        {
          "output_type": "stream",
          "name": "stdout",
          "text": [
            "    age     fare\n",
            "0  22.0   7.2500\n",
            "1  38.0  71.2833\n",
            "2  26.0   7.9250\n",
            "3  35.0  53.1000\n",
            "4  35.0   8.0500\n",
            "\n",
            "\n",
            "<class 'pandas.core.frame.DataFrame'>\n",
            "\n",
            "\n",
            "    age     fare\n",
            "0  32.0  17.2500\n",
            "1  48.0  81.2833\n",
            "2  36.0  17.9250\n",
            "3  45.0  63.1000\n",
            "4  45.0  18.0500\n",
            "\n",
            "\n",
            "<class 'pandas.core.frame.DataFrame'>\n"
          ]
        }
      ]
    },
    {
      "cell_type": "markdown",
      "metadata": {
        "id": "mRht1XRsyt5X"
      },
      "source": [
        "아래는 **이차원 배열 형태를 가지는 리스트를 데이터프레임 객체와 더해본 코드**이다. 행의 개수에 맞춰 계산되고 나머지 행의 결과는 NaN으로 반환된다."
      ]
    },
    {
      "cell_type": "code",
      "metadata": {
        "colab": {
          "base_uri": "https://localhost:8080/"
        },
        "id": "n-lpKrvJGje7",
        "outputId": "e5cae2f8-d045-433f-b3dd-6202dba16890"
      },
      "source": [
        "titanic = sns.load_dataset('titanic')\n",
        "df = titanic.loc[:, ['age', 'fare']]\n",
        "print(df.head())\n",
        "print('\\n')\n",
        "print(type(df))\n",
        "print('\\n')\n",
        "\n",
        "df2 = pd.DataFrame([[10, -10], [10, -10]], columns = ['age', 'fare'])\n",
        "\n",
        "result = df + df2\n",
        "print(result.head())\n",
        "print('\\n')\n",
        "print(type(result))"
      ],
      "execution_count": null,
      "outputs": [
        {
          "output_type": "stream",
          "name": "stdout",
          "text": [
            "    age     fare\n",
            "0  22.0   7.2500\n",
            "1  38.0  71.2833\n",
            "2  26.0   7.9250\n",
            "3  35.0  53.1000\n",
            "4  35.0   8.0500\n",
            "\n",
            "\n",
            "<class 'pandas.core.frame.DataFrame'>\n",
            "\n",
            "\n",
            "    age     fare\n",
            "0  32.0  -2.7500\n",
            "1  48.0  61.2833\n",
            "2   NaN      NaN\n",
            "3   NaN      NaN\n",
            "4   NaN      NaN\n",
            "\n",
            "\n",
            "<class 'pandas.core.frame.DataFrame'>\n"
          ]
        }
      ]
    },
    {
      "cell_type": "markdown",
      "metadata": {
        "id": "t7nTKE4xzVDA"
      },
      "source": [
        "아래는 데이터프레임과 데이터프레임간에 계산을 수행한 코드이다."
      ]
    },
    {
      "cell_type": "code",
      "metadata": {
        "colab": {
          "base_uri": "https://localhost:8080/"
        },
        "id": "juT1k80iGuMr",
        "outputId": "44ebe092-e63d-4790-cbda-3359fde9c739"
      },
      "source": [
        "titanic = sns.load_dataset('titanic')\n",
        "df = titanic.loc[:, ['age', 'fare']]\n",
        "print(df.tail())\n",
        "print('\\n')\n",
        "print(type(df))\n",
        "print('\\n')\n",
        "\n",
        "addition = df + 10\n",
        "print(addition.tail())\n",
        "print('\\n')\n",
        "print(type(addition))\n",
        "\n",
        "subtraction = addition - df\n",
        "print(subtraction.tail())\n",
        "print('\\n')\n",
        "print(type(subtraction))"
      ],
      "execution_count": null,
      "outputs": [
        {
          "output_type": "stream",
          "name": "stdout",
          "text": [
            "      age   fare\n",
            "886  27.0  13.00\n",
            "887  19.0  30.00\n",
            "888   NaN  23.45\n",
            "889  26.0  30.00\n",
            "890  32.0   7.75\n",
            "\n",
            "\n",
            "<class 'pandas.core.frame.DataFrame'>\n",
            "\n",
            "\n",
            "      age   fare\n",
            "886  37.0  23.00\n",
            "887  29.0  40.00\n",
            "888   NaN  33.45\n",
            "889  36.0  40.00\n",
            "890  42.0  17.75\n",
            "\n",
            "\n",
            "<class 'pandas.core.frame.DataFrame'>\n",
            "      age  fare\n",
            "886  10.0  10.0\n",
            "887  10.0  10.0\n",
            "888   NaN  10.0\n",
            "889  10.0  10.0\n",
            "890  10.0  10.0\n",
            "\n",
            "\n",
            "<class 'pandas.core.frame.DataFrame'>\n"
          ]
        }
      ]
    }
  ]
}