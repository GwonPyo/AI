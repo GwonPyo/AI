{
  "nbformat": 4,
  "nbformat_minor": 0,
  "metadata": {
    "colab": {
      "name": "1. 판다스 라이브러리와 시리즈 객체",
      "provenance": [],
      "collapsed_sections": []
    },
    "kernelspec": {
      "name": "python3",
      "display_name": "Python 3"
    },
    "language_info": {
      "name": "python"
    }
  },
  "cells": [
    {
      "cell_type": "markdown",
      "metadata": {
        "id": "45Mu42D4TbjP"
      },
      "source": [
        "데이터 과학은 데이터를 연구하는 분야이고, **데이터 자체가 가장 중요한 자원**이다. 실제로 **데이터 분석 업무의 80~90%는 데이터를 수집하고 정리하는 일이 차지**한다. 나머지 10~20%는 알고리즘을 선택하고, 모델링 결과를 분석하여 데이터로부터 유용한 정보를 뽑아내는 분석 프로세스의 몫이다. 즉, 데이터 과학자가 하는 가장 기초적이고 중요한 일은 데이터를 수집하고 분석 가능한 형태로 정리하는 것이다.\n",
        "\n",
        "**판다스 라이브러리는 데이터를 수집하고 정리하는 데 최적화된 도구이다.** 판다스를 배우면 데이터 과학의 80~90% 업무를 처리할 수 있고, 데이터 과학자에게 필요한 기본적이면서도 아주 중요한 도구를 갖추게 된다.\n",
        "\n",
        "\n",
        "---\n",
        "\n"
      ]
    },
    {
      "cell_type": "markdown",
      "metadata": {
        "id": "SZ5E2ppLUUkL"
      },
      "source": [
        "분석을 위해 다양한 소스(source)로부터 수집하는 **데이터는 형태나 속성이 매우 다양하다**. 이때 서로 다른 형식을 갖는 여러 종류의 데이터를 컴퓨터가 이해할 수 있도록 **동일한 형식을 갖는 구조로 통합할 필요가 있다**.\n",
        "\n",
        "이를 위해 판다스는 **'시리즈(Series)'**와 **'데이터프레임(DataFrame)'**이라는 구조화된 데이터 형식을 제공한다. 이 둘은 서로 다른 종류의 데이터를 한곳에 담는 그릇이다. 단, 시리즈는 1차원 배열, 데이터프레임은 2차원 배열이라는 차이점이 있다. \n",
        "\n",
        "판다스의 1차적인 목적은 **'서로 다른 여러 가지 유형의 데이터를 공통의 포맷으로 정리하는 것'**이다. 특히 행과 열로 이루어진 2차원 구조의 데이터프레임은 데이터 분석 실무에서 자주 사용된다.\n",
        "\n",
        "*  판다스 라이브러리는 여러 종류의 **클래스(class)**와 **내장 함수(built-in function)**로 구성된다. 시리즈와 데이터프레임은 데이터 구조를 표현하는 대표적인 클래스 객체이다.\n",
        "\n",
        "\n",
        "---\n",
        "\n"
      ]
    },
    {
      "cell_type": "markdown",
      "metadata": {
        "id": "zuY3t5h-eNGx"
      },
      "source": [
        "<h1>시리즈</h1>\n",
        "\n",
        "시리즈는 데이터가 순차적으로 나열된 **1차원 배열의 형태**를 가진다. 인덱스(index)는 데이터 값(value)과 일대일 대응이 된다. 키(key)와 값(value)이 'key:value'형태로 짝을 이루는 **딕셔너리 형태와 비슷한 구조**를 가진다고 생각할 수 있다.\n",
        "\n",
        "**시리즈의 인덱스는 데이터 값의 위치를 나타내는 이름표(데이터 주소) 역할을 한다.** 예를 들어, 'Index2'라는 주소를 알고 있으면 'Data2'라는 원소 데이터에 바로 접근할 수 있다."
      ]
    },
    {
      "cell_type": "markdown",
      "metadata": {
        "id": "PBhtwQIwfFRA"
      },
      "source": [
        "<h3> 판다스 시리즈 만들기 </h3>\n",
        "\n",
        "딕셔너리와 시리즈의 구조가 비슷하기 때문에 **딕셔너리를 시리즈로 변환하는 방법을 많이 사용한다**. 판다스 내장 함수인 **Series() 함수**에 딕셔너리를 전달해주면 된다.\n",
        "\n",
        "* 딕셔너리 -> 시리즈 변환: pandas.Series( 딕셔너리 )\n",
        " \n",
        "딕셔너리의 키는 시리즈의 인덱스로 변환되고, 각 키에 매칭되는 값은 시리즈의 데이터 값으로 변환된다. "
      ]
    },
    {
      "cell_type": "code",
      "metadata": {
        "colab": {
          "base_uri": "https://localhost:8080/"
        },
        "id": "0wbJCLD9WD60",
        "outputId": "6f1878ff-b459-4370-8191-912cb437b9a4"
      },
      "source": [
        "# 판다스 불러오기\n",
        "import pandas as pd\n",
        "\n",
        "# 딕셔너리를 만든다.\n",
        "dict_data = {'a': 1, 'b': 2, 'c': 3}\n",
        "\n",
        "# 딕셔너리 출력\n",
        "print(dict_data)\n",
        "print('\\n')\n",
        "\n",
        "# 판다스의 Series() 함수로 dictionary를 Series로 변환한다.\n",
        "sr = pd.Series(dict_data)\n",
        "\n",
        "# 자료형 출력\n",
        "print(type(sr))\n",
        "\n",
        "# 저장된 시리즈 객체 출력\n",
        "print(sr)"
      ],
      "execution_count": 1,
      "outputs": [
        {
          "output_type": "stream",
          "name": "stdout",
          "text": [
            "{'a': 1, 'b': 2, 'c': 3}\n",
            "\n",
            "\n",
            "<class 'pandas.core.series.Series'>\n",
            "a    1\n",
            "b    2\n",
            "c    3\n",
            "dtype: int64\n"
          ]
        }
      ]
    },
    {
      "cell_type": "markdown",
      "metadata": {
        "id": "2Gg4NPythApo"
      },
      "source": [
        "만들어진 변수(sr)의 자료형을 확인해 보면, 시리즈 객체임을 알 수 있다. 시리즈 객체를 출력해보면 인덱스(a, b, c)는 왼쪽, 값(1, 2, 3)은 오른쪽에 표시된다. 시리즈를 구성하는 데이터 값의 자료형은 맨 아래에 출력된다."
      ]
    },
    {
      "cell_type": "markdown",
      "metadata": {
        "id": "J5Yu-cy0hnYP"
      },
      "source": [
        "<h3> 인덱스 구조 </h3>\n",
        "\n",
        "인덱스는 자기와 짝을 이루는 데이터 값의 순서와 주소를 저장한다. 인덱스에는 크게 두 가지 종류가 있는데 구성은 아래와 같다.\n",
        "\n",
        "* **정수형 위치 인덱스(integer position)**\n",
        "* **인덱스 이름(index name) / 인덱스 라벨(index label)**\n",
        "\n",
        "시리즈 클래스의 index 속성을 이용하여 인덱스 배열을 따로 선택할 수 있다.\n",
        "\n",
        "* **인덱스 배열: Series객체.index**\n",
        "\n",
        "시리즈 클래스의 values 속성을 이용하여 데이터 값 배열만을 따로 선택할 수 있다.\n",
        "\n",
        "* **데이터 값 배열: Series객체.values**\n",
        "\n",
        "판다스 Series() 함수를 사용하면 **리스트도 시리즈 객체로 변환이 가능**하다. 단, 리스트를 시리즈로 변환할 때 딕셔너리의 키처럼 변환될 값이 없다. 따라서 인덱스를 별도로 정의하지 않으면, 디포트로 정수형 위치 인덱스가 자동으로 지정된다."
      ]
    },
    {
      "cell_type": "code",
      "metadata": {
        "colab": {
          "base_uri": "https://localhost:8080/"
        },
        "id": "ECXGC_vQXFY8",
        "outputId": "9432ecf5-722a-430e-ca52-cc2d5bc50eff"
      },
      "source": [
        "list_data = ['2021-10-07', 3.14, 'ABC', 100, True]\n",
        "sr = pd.Series(list_data)\n",
        "print(sr)"
      ],
      "execution_count": 2,
      "outputs": [
        {
          "output_type": "stream",
          "name": "stdout",
          "text": [
            "0    2021-10-07\n",
            "1          3.14\n",
            "2           ABC\n",
            "3           100\n",
            "4          True\n",
            "dtype: object\n"
          ]
        }
      ]
    },
    {
      "cell_type": "markdown",
      "metadata": {
        "id": "p6wnPMMYjJ_A"
      },
      "source": [
        "시리즈의 index 속성과 values 속성을 이용하면 인덱스 배열과 데이터 값 배열을 불러올 수 있다."
      ]
    },
    {
      "cell_type": "code",
      "metadata": {
        "colab": {
          "base_uri": "https://localhost:8080/"
        },
        "id": "LaDzLe_AYKDL",
        "outputId": "7cd65f54-b3b4-4875-94db-4486927556f3"
      },
      "source": [
        "# 인덱스 배열과 데이터 값 배열을 따로 저장해 출력한다.\n",
        "idx = sr.index\n",
        "val = sr.values\n",
        "print(idx)\n",
        "print(val)"
      ],
      "execution_count": 3,
      "outputs": [
        {
          "output_type": "stream",
          "name": "stdout",
          "text": [
            "RangeIndex(start=0, stop=5, step=1)\n",
            "['2021-10-07' 3.14 'ABC' 100 True]\n"
          ]
        }
      ]
    },
    {
      "cell_type": "markdown",
      "metadata": {
        "id": "JsrX0esKjToX"
      },
      "source": [
        "실행 결과 인덱스는 0~4 범위의 정수를 가지는 RangeIndex 객체로 표시된다. (5는 포함되지 않는다.) 데이터 값 배열은 원래 데이터의 순서를 유지한 상태로 입력된다."
      ]
    },
    {
      "cell_type": "markdown",
      "metadata": {
        "id": "DNMW7c7mjl-H"
      },
      "source": [
        "<h3> 원소 선택 </h3>\n",
        "\n",
        "**인덱스를 이용해 시리즈의 원소를 선택할 수 있다.** 하나의 원소를 선택할 수도 있고 여러 원소를 한꺼번에 사용할 수도 있다.\n",
        "\n",
        "인덱스의 두 가지 유형에 따라 사용법이 다르다. 정수형 위치 인덱스는 대괄호 안에 숫자를 입력하면 되지만 인덱스 라벨은 대괄호 안에 이름과 함께 따옴표를 입력해야한다. \n",
        "\n",
        "이번에는 Series() 함수로 튜플을 변환해보자. 튜플도 리스트 처럼 인덱스를 지정하지 않으면 디폴트로 정수형 위치 인덱스가 지정된다. 이번에는 인덱스 이름을 지정해보자."
      ]
    },
    {
      "cell_type": "code",
      "metadata": {
        "id": "366UxUOgZE-T",
        "colab": {
          "base_uri": "https://localhost:8080/"
        },
        "outputId": "2858786d-51e0-4ab7-ae15-a9adcb2b5c73"
      },
      "source": [
        "# 튜플을 시리즈로 변환(인덱스 옵션 지정)\n",
        "tup_data = ('영인', '2010-05-01', '여', True)\n",
        "sr = pd.Series(tup_data, index = ['이름', '생년월일', '성별', '학생여부'])\n",
        "print(sr)"
      ],
      "execution_count": 4,
      "outputs": [
        {
          "output_type": "stream",
          "name": "stdout",
          "text": [
            "이름              영인\n",
            "생년월일    2010-05-01\n",
            "성별               여\n",
            "학생여부          True\n",
            "dtype: object\n"
          ]
        }
      ]
    },
    {
      "cell_type": "code",
      "metadata": {
        "colab": {
          "base_uri": "https://localhost:8080/"
        },
        "id": "Sr2zMFCvp5zv",
        "outputId": "e80f7a82-2fe3-4dad-bc45-5c018d41f181"
      },
      "source": [
        "print(sr.values)"
      ],
      "execution_count": 5,
      "outputs": [
        {
          "output_type": "stream",
          "name": "stdout",
          "text": [
            "['영인' '2010-05-01' '여' True]\n"
          ]
        }
      ]
    },
    {
      "cell_type": "markdown",
      "metadata": {
        "id": "FI5z4eefp99X"
      },
      "source": [
        "index 옵션에 전달한 4개의 인덱스 이름이 출력되었다.\n",
        "\n",
        "이제 인덱스를 이용하여 원소를 선택해보자."
      ]
    },
    {
      "cell_type": "code",
      "metadata": {
        "colab": {
          "base_uri": "https://localhost:8080/"
        },
        "id": "lQM4HDwSFeiU",
        "outputId": "d01a089f-a6c1-44c5-a6d8-938bbe1b0889"
      },
      "source": [
        "# 원소 1개 선택\n",
        "print(sr[0]) # sr의 1번째 원소를 선택(정수형 위치 인덱스)\n",
        "print(sr['이름']) # '이름' 라벨을 가진 원소를 선택(인덱스 이름)"
      ],
      "execution_count": null,
      "outputs": [
        {
          "output_type": "stream",
          "name": "stdout",
          "text": [
            "영인\n",
            "영인\n"
          ]
        }
      ]
    },
    {
      "cell_type": "markdown",
      "metadata": {
        "id": "9q2ISLfrqQ63"
      },
      "source": [
        "**인덱스 이름이 문자열이라도 정수형 인덱스로 선택이 가능하다.**"
      ]
    },
    {
      "cell_type": "markdown",
      "metadata": {
        "id": "QTogSPgOqkVp"
      },
      "source": [
        "이번에는 여러 개의 원소를 선택해보자.\n",
        "\n",
        "**여러 개의 인덱스를 리스트 형태로 대괄호 안에 입력**하면 짝을 이루는 원소 데이터 모두 반환한다."
      ]
    },
    {
      "cell_type": "code",
      "metadata": {
        "colab": {
          "base_uri": "https://localhost:8080/"
        },
        "id": "7_T_dBN4GPPk",
        "outputId": "e93d0fd2-7653-483e-e8f6-4bdb3677d09b"
      },
      "source": [
        "# 여러 개의 원소 선택(인덱스 리스트 활용)\n",
        "print(sr[[1, 2]])\n",
        "print(sr[['생년월일', '성별']])"
      ],
      "execution_count": null,
      "outputs": [
        {
          "output_type": "stream",
          "name": "stdout",
          "text": [
            "생년월일    2010-05-01\n",
            "성별               여\n",
            "dtype: object\n",
            "생년월일    2010-05-01\n",
            "성별               여\n",
            "dtype: object\n"
          ]
        }
      ]
    },
    {
      "cell_type": "markdown",
      "metadata": {
        "id": "KQDgn1XHqxhQ"
      },
      "source": [
        "인덱스 범위를 지정해서 여러 원소를 선택할 수도 있다. 하지만 이번에는 인덱스 이름을 이용할 때와 정수형 인덱스를 이용할 때의 결과가 다르다. **정수형 인덱스의 경우 끝 값이 포함되지 않지만 인덱스 이름의 경우 끝 값까지 포함하게된다.**"
      ]
    },
    {
      "cell_type": "code",
      "metadata": {
        "colab": {
          "base_uri": "https://localhost:8080/"
        },
        "id": "s-Ns0E3nHKRc",
        "outputId": "7eec7c5c-254a-4133-ea81-c869208c1dc6"
      },
      "source": [
        "# 여러 개의 원소를 선택(인덱스 범위 지정)\n",
        "print(sr[1 : 2])\n",
        "print(sr['생년월일' : '성별'])"
      ],
      "execution_count": null,
      "outputs": [
        {
          "output_type": "stream",
          "name": "stdout",
          "text": [
            "생년월일    2010-05-01\n",
            "dtype: object\n",
            "생년월일    2010-05-01\n",
            "성별               여\n",
            "dtype: object\n"
          ]
        }
      ]
    }
  ]
}