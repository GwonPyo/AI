{
  "nbformat": 4,
  "nbformat_minor": 0,
  "metadata": {
    "colab": {
      "name": "3. 인덱스 활용.ipynb",
      "provenance": [],
      "collapsed_sections": []
    },
    "kernelspec": {
      "name": "python3",
      "display_name": "Python 3"
    },
    "language_info": {
      "name": "python"
    }
  },
  "cells": [
    {
      "cell_type": "markdown",
      "metadata": {
        "id": "Pp2mcXSSIT5p"
      },
      "source": [
        "<h3> 특정 열을 행 인덱스로 설정 </h3>\n",
        "\n",
        "**set_index() 메소드**를 사용하면 데이터프레임의 특정 열을 행 인덱스로 설정한다.  **여러 열을 행 인덱스로 설정할 수도 있다.** 이런 경우를 **'멀티인덱스(MultiIndex) '**라고 한다. 단, 원본 데이터프레임을 바꾸지 않고 새로운 데이터프레임 객체를 반환한다.\n",
        "\n",
        "* **특정 열을 행 인덱스로 설정: DataFrame 객체.set_index(['열 이름'] 또는 '열 이름')**\n",
        "\n",
        "원본 데이터프레임을 바꾸기 위해서는 df = df.set_index['열 이름'] 처럼 원래 변수에 할당하거나 inplace 매개변수를 True로 지정해주면된다.<br>\n",
        "set_index() 메소드를 사용해보자."
      ]
    },
    {
      "cell_type": "code",
      "metadata": {
        "colab": {
          "base_uri": "https://localhost:8080/"
        },
        "id": "7h-wO_lePtQS",
        "outputId": "61dcb348-75f5-4215-faf3-c9662e72447c"
      },
      "source": [
        "import pandas as pd\n",
        "\n",
        "exam_data = {'이름': ['서준', '우현', '인아'],\n",
        "             '수학': [90, 80, 79], \n",
        "             '영어': [98, 89, 95], \n",
        "             '음악': [85, 95, 100], \n",
        "             '체육': [100, 90, 90]}\n",
        "\n",
        "df = pd.DataFrame(exam_data)\n",
        "print(df)\n",
        "print('\\n')\n",
        "\n",
        "ndf1 = df.set_index(['이름'])\n",
        "print(ndf1)\n",
        "print('\\n')\n",
        "\n",
        "ndf2 = df.set_index('음악')\n",
        "print(ndf2)\n",
        "print('\\n')\n",
        "\n",
        "ndf3 = df.set_index(['수학', '음악'])\n",
        "print(ndf3)\n",
        "print('\\n')"
      ],
      "execution_count": null,
      "outputs": [
        {
          "output_type": "stream",
          "name": "stdout",
          "text": [
            "   이름  수학  영어   음악   체육\n",
            "0  서준  90  98   85  100\n",
            "1  우현  80  89   95   90\n",
            "2  인아  79  95  100   90\n",
            "\n",
            "\n",
            "    수학  영어   음악   체육\n",
            "이름                  \n",
            "서준  90  98   85  100\n",
            "우현  80  89   95   90\n",
            "인아  79  95  100   90\n",
            "\n",
            "\n",
            "     이름  수학  영어   체육\n",
            "음악                  \n",
            "85   서준  90  98  100\n",
            "95   우현  80  89   90\n",
            "100  인아  79  95   90\n",
            "\n",
            "\n",
            "        이름  영어   체육\n",
            "수학 음악              \n",
            "90 85   서준  98  100\n",
            "80 95   우현  89   90\n",
            "79 100  인아  95   90\n",
            "\n",
            "\n"
          ]
        }
      ]
    },
    {
      "cell_type": "markdown",
      "metadata": {
        "id": "9JbMDWAlJY9o"
      },
      "source": [
        "<h3> 행 인덱스 재배열 </h3>\n",
        "\n",
        "**reindex() 메소드**는 데이터프레임의 행 인덱스를 새로운 배열로 재지정할 수 있다. 기존 객체를 변경하지 않고 새로운 데이터프레임 객체를 반환한다.\n",
        "\n",
        "* **새로운 배열로 행 인덱스를 재지정: DataFrame 객체.reindex( 새로운 인덱스 배열 )**\n",
        "\n",
        "기존 데이터프레임에 존재하지 않는 행 인덱스가 새롭게 추가되는 경우 그 행의 데이터 값은 NaN값이 입력된다. 이때 **fill_value 매개변수**에 원하는 값을 입력하면 해당 값으로 NaN값을 채워준다."
      ]
    },
    {
      "cell_type": "code",
      "metadata": {
        "colab": {
          "base_uri": "https://localhost:8080/"
        },
        "id": "eeiOJIZwSKEg",
        "outputId": "6f9fc140-5768-4e7f-a69d-254d0704c895"
      },
      "source": [
        "dict_data = {'c0': [1, 2, 3], 'c1': [4, 5, 6], 'c2': [7, 8, 9], 'c3': [10, 11, 12], 'c4': [13, 14, 15]}\n",
        "\n",
        "df = pd.DataFrame(dict_data)\n",
        "print(df)\n",
        "print('\\n')\n",
        "\n",
        "new_index = ['r0', 'r1', 'r2']\n",
        "ndf = df.reindex(new_index)\n",
        "print(ndf)\n",
        "print('\\n')"
      ],
      "execution_count": null,
      "outputs": [
        {
          "output_type": "stream",
          "name": "stdout",
          "text": [
            "   c0  c1  c2  c3  c4\n",
            "0   1   4   7  10  13\n",
            "1   2   5   8  11  14\n",
            "2   3   6   9  12  15\n",
            "\n",
            "\n",
            "    c0  c1  c2  c3  c4\n",
            "r0 NaN NaN NaN NaN NaN\n",
            "r1 NaN NaN NaN NaN NaN\n",
            "r2 NaN NaN NaN NaN NaN\n",
            "\n",
            "\n"
          ]
        }
      ]
    },
    {
      "cell_type": "markdown",
      "metadata": {
        "id": "vS9gzGAqKNvw"
      },
      "source": [
        "위처럼 일치하는 행 이름이 없다면 모두 NaN값이 출력된다. <br>\n",
        "이번에는 fill_value 매개변수를 사용해 NaN값을 0으로 채워보자."
      ]
    },
    {
      "cell_type": "code",
      "metadata": {
        "colab": {
          "base_uri": "https://localhost:8080/"
        },
        "id": "3wP0C7W1Qil4",
        "outputId": "e7a8c4c5-892e-4948-853c-a34b43ae8362"
      },
      "source": [
        "dict_data = {'c0': [1, 2, 3], 'c1': [4, 5, 6], 'c2': [7, 8, 9], 'c3': [10, 11, 12], 'c4': [13, 14, 15]}\n",
        "\n",
        "df = pd.DataFrame(dict_data, index = ['r0', 'r1', 'r2'])\n",
        "print(df)\n",
        "print('\\n')\n",
        "\n",
        "new_index = ['r0', 'r1', 'r2', 'r3', 'r4']\n",
        "ndf = df.reindex(new_index)\n",
        "print(ndf)\n",
        "print('\\n')\n",
        "\n",
        "new_index = ['r0', 'r1', 'r2', 'r3', 'r4']\n",
        "ndf2 = df.reindex(new_index, fill_value = 0)\n",
        "print(ndf2)"
      ],
      "execution_count": null,
      "outputs": [
        {
          "output_type": "stream",
          "name": "stdout",
          "text": [
            "    c0  c1  c2  c3  c4\n",
            "r0   1   4   7  10  13\n",
            "r1   2   5   8  11  14\n",
            "r2   3   6   9  12  15\n",
            "\n",
            "\n",
            "     c0   c1   c2    c3    c4\n",
            "r0  1.0  4.0  7.0  10.0  13.0\n",
            "r1  2.0  5.0  8.0  11.0  14.0\n",
            "r2  3.0  6.0  9.0  12.0  15.0\n",
            "r3  NaN  NaN  NaN   NaN   NaN\n",
            "r4  NaN  NaN  NaN   NaN   NaN\n",
            "\n",
            "\n",
            "    c0  c1  c2  c3  c4\n",
            "r0   1   4   7  10  13\n",
            "r1   2   5   8  11  14\n",
            "r2   3   6   9  12  15\n",
            "r3   0   0   0   0   0\n",
            "r4   0   0   0   0   0\n"
          ]
        }
      ]
    },
    {
      "cell_type": "markdown",
      "metadata": {
        "id": "Tg_-HhJ-KfHH"
      },
      "source": [
        "<h3> 행 인덱스 초기화 </h3>\n",
        "\n",
        "**reset_index() 메소드**는 행 인덱스를 정수형 위치 인덱스로 초기화한다. 이때 **기존 행 인덱스는 열로 이동**한다. 다른 메소드와 마찬가지로 새로운 객체를 반환한다.\n",
        "\n",
        "* **정수형 위치 인덱스로 초기화: DataFrame 객체.reset_index()**"
      ]
    },
    {
      "cell_type": "code",
      "metadata": {
        "colab": {
          "base_uri": "https://localhost:8080/"
        },
        "id": "aTnmkEmnSEcX",
        "outputId": "450609aa-98a2-4e64-85c5-71efe1b00c33"
      },
      "source": [
        "dict_data = {'c0': [1, 2, 3], 'c1': [4, 5, 6], 'c2': [7, 8, 9], 'c3': [10, 11, 12], 'c4': [13, 14, 15]}\n",
        "\n",
        "df = pd.DataFrame(dict_data, index = ['r0', 'r1', 'r2'])\n",
        "print(df)\n",
        "print('\\n')\n",
        "\n",
        "ndf = df.reset_index()\n",
        "print(ndf)"
      ],
      "execution_count": null,
      "outputs": [
        {
          "output_type": "stream",
          "name": "stdout",
          "text": [
            "    c0  c1  c2  c3  c4\n",
            "r0   1   4   7  10  13\n",
            "r1   2   5   8  11  14\n",
            "r2   3   6   9  12  15\n",
            "\n",
            "\n",
            "  index  c0  c1  c2  c3  c4\n",
            "0    r0   1   4   7  10  13\n",
            "1    r1   2   5   8  11  14\n",
            "2    r2   3   6   9  12  15\n"
          ]
        }
      ]
    },
    {
      "cell_type": "markdown",
      "metadata": {
        "id": "QA0iLdsrK464"
      },
      "source": [
        "<h3> 행 인덱스를 기준으로 데이터프레임 정렬 </h3>\n",
        "\n",
        "**sort_index() 메소드**는 행 인덱스를 기준으로 데이터프레임의 값을 정렬한다.<br>\n",
        "**ascending 매개변수**를 사용해 오름차순 또는 내림차순을 설정할 수 있다. True인 경우 오름차순, False인 경우 내림차순을 반환한다. 다른 메소드와 마찬가지로 새로운 객체를 반환한다.\n",
        "\n",
        "* **행 인덱스를 기준으로 정렬: DataFrame 객체.sort_index()**"
      ]
    },
    {
      "cell_type": "code",
      "metadata": {
        "colab": {
          "base_uri": "https://localhost:8080/"
        },
        "id": "qFaxdfCnTGg-",
        "outputId": "cf01f46f-0ebe-4164-d768-731c6447fe67"
      },
      "source": [
        "dict_data = {'c0': [1, 2, 3], 'c1': [4, 5, 6], 'c2': [7, 8, 9], 'c3': [10, 11, 12], 'c4': [13, 14, 15]}\n",
        "\n",
        "df = pd.DataFrame(dict_data, index = ['r0', 'r1', 'r2'])\n",
        "print(df)\n",
        "print('\\n')\n",
        "\n",
        "ndf = df.sort_index(ascending = False)\n",
        "print(ndf)"
      ],
      "execution_count": null,
      "outputs": [
        {
          "output_type": "stream",
          "name": "stdout",
          "text": [
            "    c0  c1  c2  c3  c4\n",
            "r0   1   4   7  10  13\n",
            "r1   2   5   8  11  14\n",
            "r2   3   6   9  12  15\n",
            "\n",
            "\n",
            "    c0  c1  c2  c3  c4\n",
            "r2   3   6   9  12  15\n",
            "r1   2   5   8  11  14\n",
            "r0   1   4   7  10  13\n"
          ]
        }
      ]
    },
    {
      "cell_type": "markdown",
      "metadata": {
        "id": "Y2ezcihVLcko"
      },
      "source": [
        "특정 열의 데이터를 기준으로 데이터프레임을 정렬할 수도 있다. **sort_values() 메소드**를 활용하면 새롭게 정렬된 데이터프레임 객체를 반환한다.\n",
        "\n",
        "* **열 기준 정렬: DataFrame 객체.sort_values()**\n",
        "\n",
        "오름차순과 내림차순은 sort_index() 메소드와 동일하게 ascending 매개변수로 지정한다."
      ]
    },
    {
      "cell_type": "code",
      "metadata": {
        "colab": {
          "base_uri": "https://localhost:8080/"
        },
        "id": "NYkVTKbxTzYY",
        "outputId": "226a2bbc-6eca-4b5c-c56d-b674546ba9c3"
      },
      "source": [
        "dict_data = {'c0': [1, 2, 3], 'c1': [4, 5, 6], 'c2': [7, 8, 9], 'c3': [10, 11, 12], 'c4': [13, 14, 15]}\n",
        "\n",
        "df = pd.DataFrame(dict_data, index = ['r0', 'r1', 'r2'])\n",
        "print(df)\n",
        "print('\\n')\n",
        "\n",
        "ndf = df.sort_values(by = 'c1', ascending = False)\n",
        "print(ndf)"
      ],
      "execution_count": null,
      "outputs": [
        {
          "output_type": "stream",
          "name": "stdout",
          "text": [
            "    c0  c1  c2  c3  c4\n",
            "r0   1   4   7  10  13\n",
            "r1   2   5   8  11  14\n",
            "r2   3   6   9  12  15\n",
            "\n",
            "\n",
            "    c0  c1  c2  c3  c4\n",
            "r2   3   6   9  12  15\n",
            "r1   2   5   8  11  14\n",
            "r0   1   4   7  10  13\n"
          ]
        }
      ]
    }
  ]
}