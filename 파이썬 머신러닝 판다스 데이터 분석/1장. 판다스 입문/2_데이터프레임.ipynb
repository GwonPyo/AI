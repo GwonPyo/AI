{
  "nbformat": 4,
  "nbformat_minor": 0,
  "metadata": {
    "colab": {
      "name": "2. 데이터프레임.ipynb",
      "provenance": [],
      "collapsed_sections": []
    },
    "kernelspec": {
      "name": "python3",
      "display_name": "Python 3"
    },
    "language_info": {
      "name": "python"
    }
  },
  "cells": [
    {
      "cell_type": "markdown",
      "metadata": {
        "id": "7yeTg8dlQE4u"
      },
      "source": [
        "데이테프레임은 2차원 배열이다. 행과 열로 만들어지는 2차원 배열 구조는 엑셀(Excel), 관계형 데이터베이스(RDBMS) 등 컴퓨터 관련 다양한 분야에서 사용된다. 판다스의 데이터프레임 자료구조는 대표적인 통계 패키지인 R의 데이터프레임에서 유래됐다.\n",
        "\n",
        "데이터프레임은 **여러 개의 시리즈들이 열로 모여있는 구조**이다. 시리즈를 열벡터(vector)라고 하면, 데이터프레임은 여러 열벡터들이 같은 행 인덱스를 기준으로 줄지어 결합된 **2차원 벡터** 또는 **행렬(matrix)**이다.\n",
        "\n",
        "데이터 프레임은 행과 열을 나타내기 위해 '행 인덱스(row index)'와 '열 이름(column name 또는 column label)을 사용한다. 데이터프레임의 열은 공통의 속성을 갖는 일련의 데이터를 나타내고, 행은 개별 관측대상에 대한 다양한 속성 데이터들의 모임인 **레코드(record)**가 된다."
      ]
    },
    {
      "cell_type": "markdown",
      "metadata": {
        "id": "hOXeV3goRJEb"
      },
      "source": [
        "<h3> 데이터프레임 만들기 </h3>\n",
        "\n",
        "데이터 프레임을 만들기 위해서는 같은 길이의 1차원 배열 여러 개가 필요하다. 딕셔너리의 값에 해당하는 리스트는 시리즈 배열로 변환되어 데이터프레임의 열이 된다. 그리고 키는 각 시리즈의 이름으로 변환되어 데이터프레임의 열 이름이 된다. \n",
        "\n",
        "데이터프레임을 만들 때는 **DataFrame() 함수**를 사용한다. 아래와 같이 여러 개의 리스트를 원소로 갖는 딕셔너리를 함수의 인자로 전달하는 방식이 주로 활용된다.\n",
        "\n",
        "* **딕셔너리 -> 데이터프레임 변환: pandas.DataFrame( 딕셔너리 객체 )**\n",
        "\n",
        "아래 리스트 5개를 원소로 갖는 딕셔너리를 정의하고 판다스 DataFrame() 함수에 전달한 코드이다."
      ]
    },
    {
      "cell_type": "code",
      "metadata": {
        "id": "TInp89GJZ_ri",
        "colab": {
          "base_uri": "https://localhost:8080/"
        },
        "outputId": "d73769f2-690c-4d0a-9015-efba6aaeaed6"
      },
      "source": [
        "import pandas as pd\n",
        "\n",
        "# 딕셔너리를 정의한다.\n",
        "dict_data = {'c0': [1, 2, 3], 'c1': [4, 5, 6], 'c2': [7, 8, 9], 'c3': [10, 11, 12], 'c4': [13, 14, 15]}\n",
        "\n",
        "# 딕셔너리를 판다스 데이터프레임으로 변환한다.\n",
        "df = pd.DataFrame(dict_data)\n",
        "\n",
        "# df의 자료형을 출력한다.\n",
        "print(type(df))\n",
        "print('\\n')\n",
        "# 변수 df에 저장되어 있는 데이터프레임 객체를 출력한다.\n",
        "print(df)"
      ],
      "execution_count": null,
      "outputs": [
        {
          "output_type": "stream",
          "name": "stdout",
          "text": [
            "<class 'pandas.core.frame.DataFrame'>\n",
            "\n",
            "\n",
            "   c0  c1  c2  c3  c4\n",
            "0   1   4   7  10  13\n",
            "1   2   5   8  11  14\n",
            "2   3   6   9  12  15\n"
          ]
        }
      ]
    },
    {
      "cell_type": "markdown",
      "metadata": {
        "id": "b7VF8BOjgN1z"
      },
      "source": [
        "길이가 다른 여러 배열을 데이터프레임으로 바꿀 경우 에러가 발생한다."
      ]
    },
    {
      "cell_type": "code",
      "metadata": {
        "id": "zZgjHqgdRUOj"
      },
      "source": [
        "# dict_data = {'c0': [1, 2, 3], 'c1': [4, 5, 6], 'c2': [7, 8]}\n",
        "# df = pd.DataFrame(dict_data) \n",
        "# ValueError: arrays must all be same length 발생"
      ],
      "execution_count": null,
      "outputs": []
    },
    {
      "cell_type": "markdown",
      "metadata": {
        "id": "-cpeWN1-RSo6"
      },
      "source": [
        "<h3> 행 인덱스 / 열 이름 설정 </h3>\n",
        "\n",
        "데이터프레임의 구조적 특성 때문에 2차원 배열 형태의 데이터를 데이터프레임으로 변환하기 쉽다. 2차원 배열을 DataFrame() 함수의 인자로 전달하면 행 인덱스와 열 이름 속성을 사용자가 직접 지정할 수 있다.\n",
        "\n",
        "* **pandas.DataFrame( 2차원 배열, index = 행 인덱스 배열, columns = 열 이름 배열)**"
      ]
    },
    {
      "cell_type": "code",
      "metadata": {
        "colab": {
          "base_uri": "https://localhost:8080/"
        },
        "id": "K9tUX1aeRJm8",
        "outputId": "93668c12-dc69-4aa8-9367-305dbd1bb1ca"
      },
      "source": [
        "df = pd.DataFrame([[15, '남', '덕영중'], [17, '여', '수리중']])\n",
        "print(df)"
      ],
      "execution_count": null,
      "outputs": [
        {
          "output_type": "stream",
          "name": "stdout",
          "text": [
            "    0  1    2\n",
            "0  15  남  덕영중\n",
            "1  17  여  수리중\n"
          ]
        }
      ]
    },
    {
      "cell_type": "markdown",
      "metadata": {
        "id": "amR3qEUag-M7"
      },
      "source": [
        "**2차원 배열을 전달할 경우 딕셔너리와 다르게 한 리스트당 하나의 행으로 변환된다.** \n",
        "\n",
        "데이터프레임의 행 인덱스는 **index 속성**, 열 이름 배열은 **columns 속성**으로 접근할 수 있다. df.index와 df.columns의 속성에 새로운 배열을 할당하는 방식으로 행 인덱스와 열 이름을 변경할 수 있다.\n",
        "\n",
        "데이터프레임을 만들고 열 인덱스와 행 이름 배열을 출력해보자."
      ]
    },
    {
      "cell_type": "code",
      "metadata": {
        "colab": {
          "base_uri": "https://localhost:8080/"
        },
        "id": "nicNsQpQRNTD",
        "outputId": "8e2a8dc0-9ec9-4115-c4a2-e42d949f9b8d"
      },
      "source": [
        "# 행 인덱스, 열 이름 지정하여 데이터 프레임 생성\n",
        "df = pd.DataFrame([[15, '남', '덕영중'], [17, '여', '수리중']], index = ['준서', '예은'], columns = ['나이', '성별', '학교'])\n",
        "\n",
        "print(df)\n",
        "print('\\n')\n",
        "print(df.index)\n",
        "print(df.columns)"
      ],
      "execution_count": null,
      "outputs": [
        {
          "output_type": "stream",
          "name": "stdout",
          "text": [
            "    나이 성별   학교\n",
            "준서  15  남  덕영중\n",
            "예은  17  여  수리중\n",
            "\n",
            "\n",
            "Index(['준서', '예은'], dtype='object')\n",
            "Index(['나이', '성별', '학교'], dtype='object')\n"
          ]
        }
      ]
    },
    {
      "cell_type": "markdown",
      "metadata": {
        "id": "RbIoHqAKhjsL"
      },
      "source": [
        "행 인덱스와 열 이름을 바꿔보자."
      ]
    },
    {
      "cell_type": "code",
      "metadata": {
        "colab": {
          "base_uri": "https://localhost:8080/"
        },
        "id": "6gXvoGtVRnDD",
        "outputId": "2ae0c377-2a89-4adb-8fc8-8576d4122677"
      },
      "source": [
        "# 행 인덱스, 열 이름 변경\n",
        "df.index = ['학생1', '학생2']\n",
        "df.columns = ['연령', '남녀', '소속']\n",
        "\n",
        "print(df)\n",
        "print('\\n')\n",
        "print(df.index)\n",
        "print(df.columns)"
      ],
      "execution_count": null,
      "outputs": [
        {
          "output_type": "stream",
          "name": "stdout",
          "text": [
            "     연령 남녀   소속\n",
            "학생1  15  남  덕영중\n",
            "학생2  17  여  수리중\n",
            "\n",
            "\n",
            "Index(['학생1', '학생2'], dtype='object')\n",
            "Index(['연령', '남녀', '소속'], dtype='object')\n"
          ]
        }
      ]
    },
    {
      "cell_type": "markdown",
      "metadata": {
        "id": "9UQgo5gvhmEy"
      },
      "source": [
        "데이터프레임의 **rename() 메소드**를 적용하면 행 인덱스 또는 열 이름의 일부를 선택하여 변경할 수 있다. 단, 원복 객체를 수정하는 것이 아니라 새로운 데이터프레임 객체를 반환한다. 원본 객체를 변경하려면 **inplace 매개변수**를 True로 지정한다.\n",
        "\n",
        "* **행 인덱스 변경: DataFrame 객체.rename(index = {기존 인덱스:새 인덱스, ...})**\n",
        "* **열 이름 변경: DataFrame 객체.rename(columns = {기존 이름:새 이름, ...})**\n",
        "\n",
        "이 함수를 사용해 index, columns 속성을 사용했던 과정을 그대로 재현해보자."
      ]
    },
    {
      "cell_type": "code",
      "metadata": {
        "colab": {
          "base_uri": "https://localhost:8080/"
        },
        "id": "TNx3oA9GSDwi",
        "outputId": "af060673-a97b-44c5-ebe0-4a31e7a10b89"
      },
      "source": [
        "# 행 인덱스, 열 이름 지정하여 데이터 프레임 생성\n",
        "df = pd.DataFrame([[15, '남', '덕영중'], [17, '여', '수리중']], index = ['준서', '예은'], columns = ['나이', '성별', '학교'])\n",
        "\n",
        "print(df)\n",
        "print('\\n')\n",
        "\n",
        "# 행 이름 변경\n",
        "df.rename(columns = {'나이': '연령', '성별': '남녀', '학교': '소속'}, inplace = True)\n",
        "df.rename(index = {'준서': '학생1', '예은': '학생2'}, inplace = True)\n",
        "\n",
        "print(df)"
      ],
      "execution_count": null,
      "outputs": [
        {
          "output_type": "stream",
          "name": "stdout",
          "text": [
            "    나이 성별   학교\n",
            "준서  15  남  덕영중\n",
            "예은  17  여  수리중\n",
            "\n",
            "\n",
            "     연령 남녀   소속\n",
            "학생1  15  남  덕영중\n",
            "학생2  17  여  수리중\n"
          ]
        }
      ]
    },
    {
      "cell_type": "markdown",
      "metadata": {
        "id": "Y2ETK79zjF30"
      },
      "source": [
        "<h3> 행/열 삭제 </h3>\n",
        "\n",
        "데이터프레임의 행 또는 열을 삭제하는 명령으로 drop() 메소드가 있다. <br>\n",
        "행을 삭제할 때는 axis 매개변수를 0으로 지정하거나 별도로 입력하지 않아도 된다. <br>\n",
        "열을 삭제할 때는 axis 매개변수를 1로 지정하면된다.<br>\n",
        "동시에 여러 개의 행 또는 열을 삭제하려면 리스트 형태로 입력한다.\n",
        "\n",
        "drop() 메소드는 기존 객체를 변경하지 않고 새로운 객체를 반환한다. 원본 객체를 지접 변경하기 위해서는 inplace 매개변수를 True로 지정한다.\n",
        "\n",
        "* **행 삭제: 데이터프레임 객체.drop(행 인덱스 또는 배열, axis = 0)**\n",
        "* **열 삭제: 데이터프레임 객체.drop(열 이름 또는 배열, axis = 1)**\n",
        "\n",
        "행을 삭제해보자."
      ]
    },
    {
      "cell_type": "code",
      "metadata": {
        "colab": {
          "base_uri": "https://localhost:8080/"
        },
        "id": "yU5yGLSCSuWS",
        "outputId": "8c5701ac-ec33-4c1a-e967-10b0811c97ac"
      },
      "source": [
        "exam_data = {'수학': [90, 80, 79], '영어': [98, 89, 95], '음악': [85, 95, 100], '체육': [100, 90, 90]}\n",
        "\n",
        "df = pd.DataFrame(exam_data, index = ['서준', '우현', '인아'])\n",
        "print(df)\n",
        "print('\\n')\n",
        "\n",
        "df2 = df[:]\n",
        "# df2 = df로 코드를 작성하면 df2와 df가 동일한 곳을 가리키게 된다.\n",
        "# 따라서 df2나 df를 변경할 경우 둘다 바뀌게 된다.\n",
        "# 이때 df[:]처럼 슬라이싱으로 표현하여 전달하면 새로운 객체가 만들어져 위 문제를 해결할 수 있다.\n",
        "df2.drop('우현', inplace = True)\n",
        "# inplace 매개변수를 True로 지정하지 않아도 아래 코드로 대체 가능하다.\n",
        "# df2 = df2.drop('우현')\n",
        "print(df2)\n",
        "print('\\n')\n",
        "\n",
        "df3 = df[:]\n",
        "df3.drop(['우현', '인아'], axis = 0, inplace = True)\n",
        "print(df3)"
      ],
      "execution_count": null,
      "outputs": [
        {
          "output_type": "stream",
          "name": "stdout",
          "text": [
            "    수학  영어   음악   체육\n",
            "서준  90  98   85  100\n",
            "우현  80  89   95   90\n",
            "인아  79  95  100   90\n",
            "\n",
            "\n",
            "    수학  영어   음악   체육\n",
            "서준  90  98   85  100\n",
            "인아  79  95  100   90\n",
            "\n",
            "\n",
            "    수학  영어  음악   체육\n",
            "서준  90  98  85  100\n"
          ]
        },
        {
          "output_type": "stream",
          "name": "stderr",
          "text": [
            "/usr/local/lib/python3.7/dist-packages/pandas/core/frame.py:4174: SettingWithCopyWarning: \n",
            "A value is trying to be set on a copy of a slice from a DataFrame\n",
            "\n",
            "See the caveats in the documentation: https://pandas.pydata.org/pandas-docs/stable/user_guide/indexing.html#returning-a-view-versus-a-copy\n",
            "  errors=errors,\n",
            "/usr/local/lib/python3.7/dist-packages/pandas/core/frame.py:4174: SettingWithCopyWarning: \n",
            "A value is trying to be set on a copy of a slice from a DataFrame\n",
            "\n",
            "See the caveats in the documentation: https://pandas.pydata.org/pandas-docs/stable/user_guide/indexing.html#returning-a-view-versus-a-copy\n",
            "  errors=errors,\n"
          ]
        }
      ]
    },
    {
      "cell_type": "markdown",
      "metadata": {
        "id": "HdmuyHBXknID"
      },
      "source": [
        "이번에는 열을 삭제해보자.\n",
        "\n",
        "* 이번에는 df의 전체를 슬라이싱으로 표현해 전달하지 않고 데이터프레임의 **copy() 메서드**를 사용해보자."
      ]
    },
    {
      "cell_type": "code",
      "metadata": {
        "colab": {
          "base_uri": "https://localhost:8080/"
        },
        "id": "s9vWBiPCT-HM",
        "outputId": "f7be2213-1778-44ba-d9e3-51b5d3d05ee2"
      },
      "source": [
        "exam_data = {'수학': [90, 80, 79], '영어': [98, 89, 95], '음악': [85, 95, 100], '체육': [100, 90, 90]}\n",
        "\n",
        "df = pd.DataFrame(exam_data, index = ['서준', '우현', '인아'])\n",
        "print(df)\n",
        "print('\\n')\n",
        "\n",
        "df4 = df.copy()\n",
        "df4.drop('수학', axis = 1, inplace = True)\n",
        "print(df4)\n",
        "print('\\n')\n",
        "\n",
        "df5 = df.copy()\n",
        "df5.drop(['영어', '음악'], axis = 1, inplace = True)\n",
        "print(df5)"
      ],
      "execution_count": null,
      "outputs": [
        {
          "output_type": "stream",
          "name": "stdout",
          "text": [
            "    수학  영어   음악   체육\n",
            "서준  90  98   85  100\n",
            "우현  80  89   95   90\n",
            "인아  79  95  100   90\n",
            "\n",
            "\n",
            "    영어   음악   체육\n",
            "서준  98   85  100\n",
            "우현  89   95   90\n",
            "인아  95  100   90\n",
            "\n",
            "\n",
            "    수학   체육\n",
            "서준  90  100\n",
            "우현  80   90\n",
            "인아  79   90\n"
          ]
        }
      ]
    },
    {
      "cell_type": "markdown",
      "metadata": {
        "id": "6Dr8BulNlDAe"
      },
      "source": [
        "<h3> 행 선택 </h3>\n",
        "\n",
        "데이터프레임에서 행을 선택하기 위해서는 **loc 인덱서**와 **iloc 인덱서**를 사용한다. 인덱서 이름을 기준으로 행을 선택할 때는 loc 인덱서, 정수형 위치 인덱스를 사용하는 경우에는 iloc 인덱서를 사용한다.\n",
        "\n",
        "* **loc: 탐색 대상 - 인덱스 이름 / iloc: 탐색 대상 - 정수형 위치 인덱스**\n",
        "\n",
        "이때 **한 개의 행을 선택하는 경우 하나의 시리즈 객체를 반환**한다.<br>\n",
        "loc 인덱서와 iloc 인덱서로 하나의 행을 선택해보자.\n",
        "\n",
        "* 시리즈와 동일하게 인덱스 이름이 있더라도 정수형 위치 인덱스로 접근이 가능하다."
      ]
    },
    {
      "cell_type": "code",
      "metadata": {
        "id": "CCzM8iypU7TL",
        "colab": {
          "base_uri": "https://localhost:8080/"
        },
        "outputId": "754e87d4-3712-467f-bc85-f5e0f42ccdeb"
      },
      "source": [
        "exam_data = {'수학': [90, 80, 79], '영어': [98, 89, 95], '음악': [85, 95, 100], '체육': [100, 90, 90]}\n",
        "\n",
        "df = pd.DataFrame(exam_data, index = ['서준', '우현', '인아'])\n",
        "print(df)\n",
        "print('\\n')\n",
        "\n",
        "# loc 인덱서와 iloc 인덱서 사용\n",
        "label1 = df.loc['서준']\n",
        "position1 = df.iloc[0]\n",
        "print(label1)\n",
        "print(type(label1))\n",
        "print('\\n')\n",
        "print(position1)\n",
        "print(type(position1))"
      ],
      "execution_count": null,
      "outputs": [
        {
          "output_type": "stream",
          "name": "stdout",
          "text": [
            "    수학  영어   음악   체육\n",
            "서준  90  98   85  100\n",
            "우현  80  89   95   90\n",
            "인아  79  95  100   90\n",
            "\n",
            "\n",
            "수학     90\n",
            "영어     98\n",
            "음악     85\n",
            "체육    100\n",
            "Name: 서준, dtype: int64\n",
            "<class 'pandas.core.series.Series'>\n",
            "\n",
            "\n",
            "수학     90\n",
            "영어     98\n",
            "음악     85\n",
            "체육    100\n",
            "Name: 서준, dtype: int64\n",
            "<class 'pandas.core.series.Series'>\n"
          ]
        }
      ]
    },
    {
      "cell_type": "markdown",
      "metadata": {
        "id": "E4FdeYjwmE_7"
      },
      "source": [
        "2개 이상의 행 인덱스를 리스트 형태로 입력하면 데이터프레임 객체를 반환한다. <br>\n",
        "두 개 이상의 행을 선택하기 위해서는 아래와 같은 방식을 사용할 수 있다.\n",
        "\n",
        "* loc / iloc 인덱서에 행 이름 / 정수형 인덱스를 **리스트 형태로 전달**한다. <br>\n",
        "(리스트의 원소가 하나라도 데이터프레임 객체 반환한다.) \n",
        "* 슬라이싱을 이용해 **범위를 지정**한다. (행 이름: 끝 포함 / 정수형 인덱스: 끝 제외)\n",
        "\n",
        "인덱서에 리스트를 전달해보자. "
      ]
    },
    {
      "cell_type": "code",
      "metadata": {
        "colab": {
          "base_uri": "https://localhost:8080/"
        },
        "id": "MvBZSWr8ztqp",
        "outputId": "c7a60db7-66c7-4053-ef1d-464cd70b13d8"
      },
      "source": [
        "label1 = df.loc[['서준']]\n",
        "position1 = df.iloc[[0]]\n",
        "print(label1)\n",
        "print(type(label1))\n",
        "print('\\n')\n",
        "print(position1)\n",
        "print(type(position1))\n",
        "print('\\n')\n",
        "\n",
        "label2 = df.loc[['서준', '우현']]\n",
        "position2 = df.iloc[[0, 1]]\n",
        "print(label2)\n",
        "print(type(label2))\n",
        "print('\\n')\n",
        "print(position2)\n",
        "print(type(position2))"
      ],
      "execution_count": null,
      "outputs": [
        {
          "output_type": "stream",
          "name": "stdout",
          "text": [
            "    수학  영어  음악   체육\n",
            "서준  90  98  85  100\n",
            "<class 'pandas.core.frame.DataFrame'>\n",
            "\n",
            "\n",
            "    수학  영어  음악   체육\n",
            "서준  90  98  85  100\n",
            "<class 'pandas.core.frame.DataFrame'>\n",
            "\n",
            "\n",
            "    수학  영어  음악   체육\n",
            "서준  90  98  85  100\n",
            "우현  80  89  95   90\n",
            "<class 'pandas.core.frame.DataFrame'>\n",
            "\n",
            "\n",
            "    수학  영어  음악   체육\n",
            "서준  90  98  85  100\n",
            "우현  80  89  95   90\n",
            "<class 'pandas.core.frame.DataFrame'>\n"
          ]
        }
      ]
    },
    {
      "cell_type": "markdown",
      "metadata": {
        "id": "XPemvRmfot3z"
      },
      "source": [
        "인덱서에 범위를 전달해보자."
      ]
    },
    {
      "cell_type": "code",
      "metadata": {
        "colab": {
          "base_uri": "https://localhost:8080/"
        },
        "id": "pQTHznYB0P8Y",
        "outputId": "2bbe1f0e-a20b-48e9-fc19-c34e41061bcd"
      },
      "source": [
        "label3 = df.loc['서준':'우현']\n",
        "position3 = df.iloc[0:1]\n",
        "print(label3)\n",
        "print(type(label3))\n",
        "print('\\n')\n",
        "print(position3)\n",
        "print(type(position3))"
      ],
      "execution_count": null,
      "outputs": [
        {
          "output_type": "stream",
          "name": "stdout",
          "text": [
            "    수학  영어  음악   체육\n",
            "서준  90  98  85  100\n",
            "우현  80  89  95   90\n",
            "<class 'pandas.core.frame.DataFrame'>\n",
            "\n",
            "\n",
            "    수학  영어  음악   체육\n",
            "서준  90  98  85  100\n",
            "<class 'pandas.core.frame.DataFrame'>\n"
          ]
        }
      ]
    },
    {
      "cell_type": "markdown",
      "metadata": {
        "id": "kfPk8r0qrJjq"
      },
      "source": [
        "데이터프레임의 원소 데이터를 선택할 때 범위를 지정하여 슬라이싱하는 방법을 여러가지로 응용할 수 있다. iloc 인덱서를 예로 들어보자.\n",
        "\n",
        "* **범위 슬라이싱: DataFrame 객체.iloc[시작 인덱스:끝 인덱스:슬라이싱 간격]**\n",
        "\n",
        "범위 슬라이싱을 사용해 데이터프레임의 모든 행에 대해 0행 부터 2행 간격으로 선택해보자."
      ]
    },
    {
      "cell_type": "code",
      "metadata": {
        "colab": {
          "base_uri": "https://localhost:8080/"
        },
        "id": "443ZfZnDrB76",
        "outputId": "dd4f63ad-7130-4ac6-832f-7e117f92665f"
      },
      "source": [
        "print(df.iloc[ : : 2])"
      ],
      "execution_count": null,
      "outputs": [
        {
          "output_type": "stream",
          "name": "stdout",
          "text": [
            "    수학  영어   음악   체육\n",
            "서준  90  98   85  100\n",
            "인아  79  95  100   90\n"
          ]
        }
      ]
    },
    {
      "cell_type": "code",
      "metadata": {
        "colab": {
          "base_uri": "https://localhost:8080/"
        },
        "id": "ck4ZwbBUrDGz",
        "outputId": "c18d9947-1121-44ba-ccb6-1aa1653d24b8"
      },
      "source": [
        "print(df.iloc[0:3:2])"
      ],
      "execution_count": null,
      "outputs": [
        {
          "output_type": "stream",
          "name": "stdout",
          "text": [
            "    수학  영어   음악   체육\n",
            "서준  90  98   85  100\n",
            "인아  79  95  100   90\n"
          ]
        }
      ]
    },
    {
      "cell_type": "markdown",
      "metadata": {
        "id": "Po3yF8mVsLbz"
      },
      "source": [
        "역순으로 인덱싱하려면 아래와 같이 입력하면 된다."
      ]
    },
    {
      "cell_type": "code",
      "metadata": {
        "colab": {
          "base_uri": "https://localhost:8080/"
        },
        "id": "mDrQHdNPrDW1",
        "outputId": "9869a3b5-4ab6-4f36-f526-64ae7c1e9768"
      },
      "source": [
        "print(df.iloc[ : :-1])"
      ],
      "execution_count": null,
      "outputs": [
        {
          "output_type": "stream",
          "name": "stdout",
          "text": [
            "    수학  영어   음악   체육\n",
            "인아  79  95  100   90\n",
            "우현  80  89   95   90\n",
            "서준  90  98   85  100\n"
          ]
        }
      ]
    },
    {
      "cell_type": "markdown",
      "metadata": {
        "id": "0Gt9PXZTowrV"
      },
      "source": [
        "<h3> 열 선택 </h3>\n",
        "\n",
        "데이터프레임의 열 데이터를 1개만 선택할 때 사용할 수 있는 방식은 두 가지가 있다.\n",
        "\n",
        "* **대괄호 안에 열 이름을 따옴표와 함께 입력한다.**\n",
        "* **도트(.) 다음에 열 이름을 입력한다.** (열 이름이 문자열일 경우에만 가능하다.)\n",
        "\n",
        "열을 1개만 선택할 때는 시리즈 객체를 반환한다.\n",
        "\n",
        "* **열 1개 선택(시리즈 생성): DataFrame 객체[\"열 이름\"] 또는 DataFrame 객체.열 이름**\n",
        "\n",
        "대괄호 안에 **열 이름의 리스트를 입력**하면 리스트의 원소인 열을 모두 선택해 데이터프레임으로 반환된다. 또한 행과 동일하게 원소가 하나인 리스트를 전달해도 데이터프레임이 반환된다.\n",
        "\n",
        "* **열 n개 선택(데이터프레임 생성): DataFrame 객체[[ 열1, 열2, ..., 열n ]]**\n",
        "\n",
        "먼저 열 1개를 선택해보자."
      ]
    },
    {
      "cell_type": "code",
      "metadata": {
        "colab": {
          "base_uri": "https://localhost:8080/"
        },
        "id": "A5hyD-Lg0r2w",
        "outputId": "34184392-b409-4ee7-f4e8-e657c74e54ad"
      },
      "source": [
        "exam_data = {'이름': ['서준', '우현', '인아'],\n",
        "             '수학': [90, 80, 79], \n",
        "             '영어': [98, 89, 95], \n",
        "             '음악': [85, 95, 100], \n",
        "             '체육': [100, 90, 90]}\n",
        "\n",
        "df = pd.DataFrame(exam_data)\n",
        "print(df)\n",
        "print(type(df))\n",
        "print('\\n')\n",
        "\n",
        "math1 = df['수학']\n",
        "print(math1)\n",
        "print(type(math1))\n",
        "print('\\n')\n",
        "\n",
        "english = df.영어\n",
        "print(english)\n",
        "print(type(english))"
      ],
      "execution_count": null,
      "outputs": [
        {
          "output_type": "stream",
          "name": "stdout",
          "text": [
            "   이름  수학  영어   음악   체육\n",
            "0  서준  90  98   85  100\n",
            "1  우현  80  89   95   90\n",
            "2  인아  79  95  100   90\n",
            "<class 'pandas.core.frame.DataFrame'>\n",
            "\n",
            "\n",
            "0    90\n",
            "1    80\n",
            "2    79\n",
            "Name: 수학, dtype: int64\n",
            "<class 'pandas.core.series.Series'>\n",
            "\n",
            "\n",
            "0    98\n",
            "1    89\n",
            "2    95\n",
            "Name: 영어, dtype: int64\n",
            "<class 'pandas.core.series.Series'>\n"
          ]
        }
      ]
    },
    {
      "cell_type": "markdown",
      "metadata": {
        "id": "fkVebwlpq1ST"
      },
      "source": [
        "이번에는 열 2개를 선택해보자."
      ]
    },
    {
      "cell_type": "code",
      "metadata": {
        "colab": {
          "base_uri": "https://localhost:8080/"
        },
        "id": "csBmKv_o1B_w",
        "outputId": "35e741f7-950f-4fcc-bdf2-488b5e5c89f2"
      },
      "source": [
        "music_gym = df[['음악', '체육']]\n",
        "print(music_gym)\n",
        "print(type(music_gym))\n",
        "print('\\n')\n",
        "\n",
        "math2 = df[['수학']]\n",
        "print(math2)\n",
        "print(type(math2))"
      ],
      "execution_count": null,
      "outputs": [
        {
          "output_type": "stream",
          "name": "stdout",
          "text": [
            "    음악   체육\n",
            "0   85  100\n",
            "1   95   90\n",
            "2  100   90\n",
            "<class 'pandas.core.frame.DataFrame'>\n",
            "\n",
            "\n",
            "   수학\n",
            "0  90\n",
            "1  80\n",
            "2  79\n",
            "<class 'pandas.core.frame.DataFrame'>\n"
          ]
        }
      ]
    },
    {
      "cell_type": "markdown",
      "metadata": {
        "id": "SyGgarygq7Gc"
      },
      "source": [
        "<h3> 원소 선택 </h3>\n",
        "\n",
        "행 인덱스와 열 이름을 [행, 열] 형식의 2차원 좌표로 입력하여 원소 위치를 지정할 수 있다. 원소가 위치하는 행과 열의 좌표를 입력하면 해당 위치의 원소가 반환된다. 1개의 행과 2개 이상의 열 혹은 2개 이상의 행과 1개의 열을 선택할 경우 시리즈 객체가 반환된다. 2개 이상의 행과 2개 이상의 열을 선택하면, 데이터프레임 객체를 반환한다.\n",
        "\n",
        "* **인덱스 이름: DataFrame 객체.loc[행 인덱스, 열 이름]**\n",
        "* **정수형 위치 인덱스: DataFrame 객체.iloc[행 번호, 열 번호]**\n",
        "* [행][열]형식도 사용가능하다.\n",
        "\n",
        "딕셔너리를 데이터프레임으로 변환하고 '이름' 열을 **set_index() 메소드**를 이용해 행 인덱스로 지정하자. (set_index()는 1-3을 참고하자.)"
      ]
    },
    {
      "cell_type": "code",
      "metadata": {
        "colab": {
          "base_uri": "https://localhost:8080/"
        },
        "id": "1_5BIjQ75Yww",
        "outputId": "2b46518f-279a-483d-b1c7-2585b4b57133"
      },
      "source": [
        "exam_data = {'이름': ['서준', '우현', '인아'],\n",
        "             '수학': [90, 80, 79], \n",
        "             '영어': [98, 89, 95], \n",
        "             '음악': [85, 95, 100], \n",
        "             '체육': [100, 90, 90]}\n",
        "\n",
        "df = pd.DataFrame(exam_data)\n",
        "\n",
        "df = df.set_index('이름')\n",
        "print(df)"
      ],
      "execution_count": null,
      "outputs": [
        {
          "output_type": "stream",
          "name": "stdout",
          "text": [
            "    수학  영어   음악   체육\n",
            "이름                  \n",
            "서준  90  98   85  100\n",
            "우현  80  89   95   90\n",
            "인아  79  95  100   90\n"
          ]
        }
      ]
    },
    {
      "cell_type": "markdown",
      "metadata": {
        "id": "hKtPbrshtv8j"
      },
      "source": [
        "원소에 접근해보자."
      ]
    },
    {
      "cell_type": "code",
      "metadata": {
        "colab": {
          "base_uri": "https://localhost:8080/"
        },
        "id": "T_MqbepL5SHv",
        "outputId": "6f43f2b5-ce92-454b-e5f3-c105e012d722"
      },
      "source": [
        "a = df.loc['서준', '음악']\n",
        "print(a)\n",
        "b = df.iloc[0, 2]\n",
        "print(b)\n",
        "a2 = df.loc['서준']['음악']\n",
        "print(a2)\n",
        "b2 = df.iloc[0][2]\n",
        "print(b2)"
      ],
      "execution_count": null,
      "outputs": [
        {
          "output_type": "stream",
          "name": "stdout",
          "text": [
            "85\n",
            "85\n",
            "85\n",
            "85\n"
          ]
        }
      ]
    },
    {
      "cell_type": "markdown",
      "metadata": {
        "id": "rKA8et3Jub_d"
      },
      "source": [
        "이번에는 2개 이상의 원소를 선택해보자. 2개 이상의 원소를 가진 리스트를 입력할 수도 있고 슬라이싱을 사용할 수도 있다. <br>\n",
        "반환되는 객체는 모두 시리즈 객체이다."
      ]
    },
    {
      "cell_type": "code",
      "metadata": {
        "colab": {
          "base_uri": "https://localhost:8080/"
        },
        "id": "HmJbxZ4J65r_",
        "outputId": "1dce84bb-90d6-4226-cf2b-c52d4020a72a"
      },
      "source": [
        "c = df.loc['서준', ['음악', '체육']]\n",
        "print(c)\n",
        "d = df.iloc[0, [2, 3]]\n",
        "print(d)\n",
        "e = df.loc['서준', '음악': '체육']\n",
        "print(e)\n",
        "f = df.iloc[0, 2:]\n",
        "print(f)"
      ],
      "execution_count": null,
      "outputs": [
        {
          "output_type": "stream",
          "name": "stdout",
          "text": [
            "음악     85\n",
            "체육    100\n",
            "Name: 서준, dtype: int64\n",
            "음악     85\n",
            "체육    100\n",
            "Name: 서준, dtype: int64\n",
            "음악     85\n",
            "체육    100\n",
            "Name: 서준, dtype: int64\n",
            "음악     85\n",
            "체육    100\n",
            "Name: 서준, dtype: int64\n"
          ]
        }
      ]
    },
    {
      "cell_type": "markdown",
      "metadata": {
        "id": "CqYBUYsPumsS"
      },
      "source": [
        "행 인덱스와 열 인덱스를 각각 2개 이상 선택해보자. <br>\n",
        "이런 경우 데이터프레임 객체를 반환한다."
      ]
    },
    {
      "cell_type": "code",
      "metadata": {
        "colab": {
          "base_uri": "https://localhost:8080/"
        },
        "id": "SDwuiYae7RWw",
        "outputId": "6d7aa057-7f07-42c9-c5d8-3f5e5519c128"
      },
      "source": [
        "g = df.loc[['서준', '우현'], ['음악', '체육']]\n",
        "print(g)\n",
        "h = df.iloc[[0, 1], [2, 3]]\n",
        "print(h)\n",
        "i = df.loc['서준':'우현', '음악':'체육']\n",
        "print(i)\n",
        "j = df.iloc[0:2, 2:]\n",
        "print(j)"
      ],
      "execution_count": null,
      "outputs": [
        {
          "output_type": "stream",
          "name": "stdout",
          "text": [
            "    음악   체육\n",
            "이름         \n",
            "서준  85  100\n",
            "우현  95   90\n",
            "    음악   체육\n",
            "이름         \n",
            "서준  85  100\n",
            "우현  95   90\n",
            "    음악   체육\n",
            "이름         \n",
            "서준  85  100\n",
            "우현  95   90\n",
            "    음악   체육\n",
            "이름         \n",
            "서준  85  100\n",
            "우현  95   90\n"
          ]
        }
      ]
    },
    {
      "cell_type": "markdown",
      "metadata": {
        "id": "v6yaAce7u1Ha"
      },
      "source": [
        "<h3> 열 추가 </h3>\n",
        "\n",
        "데이터프레임에 열을 추가하려면 추가하려는 열 이름과 데이터 값을 아래와 같은 형식으로 입력해야한다.\n",
        "\n",
        "* **열 추가: DataFrame 객체[ '추가하려는 열 이름' ] = 데이터 값**\n",
        "\n",
        "이때 모든 행에 동일한 값이 입력된다. <br>\n",
        "단, 데이터 값이 아닌 행의 개수와 동일한 개수의 원소를 가진 리스트를 전달하면 각 값이 행에 입력된다."
      ]
    },
    {
      "cell_type": "code",
      "metadata": {
        "colab": {
          "base_uri": "https://localhost:8080/"
        },
        "id": "mQ2Bjx647sn4",
        "outputId": "74599c1c-45da-470f-9669-f7a78f5b5c3c"
      },
      "source": [
        "exam_data = {'이름': ['서준', '우현', '인아'],\n",
        "             '수학': [90, 80, 79], \n",
        "             '영어': [98, 89, 95], \n",
        "             '음악': [85, 95, 100], \n",
        "             '체육': [100, 90, 90]}\n",
        "\n",
        "df = pd.DataFrame(exam_data)\n",
        "\n",
        "print(df)\n",
        "print('\\n')\n",
        "\n",
        "df['국어'] = 80\n",
        "print(df)\n",
        "print('\\n')\n",
        "\n",
        "df['미술'] = [70, 80, 90]\n",
        "print(df)"
      ],
      "execution_count": null,
      "outputs": [
        {
          "output_type": "stream",
          "name": "stdout",
          "text": [
            "   이름  수학  영어   음악   체육\n",
            "0  서준  90  98   85  100\n",
            "1  우현  80  89   95   90\n",
            "2  인아  79  95  100   90\n",
            "\n",
            "\n",
            "   이름  수학  영어   음악   체육  국어\n",
            "0  서준  90  98   85  100  80\n",
            "1  우현  80  89   95   90  80\n",
            "2  인아  79  95  100   90  80\n",
            "\n",
            "\n",
            "   이름  수학  영어   음악   체육  국어  미술\n",
            "0  서준  90  98   85  100  80  70\n",
            "1  우현  80  89   95   90  80  80\n",
            "2  인아  79  95  100   90  80  90\n"
          ]
        }
      ]
    },
    {
      "cell_type": "markdown",
      "metadata": {
        "id": "WcDquceovcuL"
      },
      "source": [
        "<h3> 행 추가 </h3>\n",
        "\n",
        "데이터프레임에 행을 추가하려면 추가하려는 **행 이름과 데이터 값을 loc 인덱서를 사용하여 입력**하면된다. 하나의 데이터 값을 입력하거나, 열의 개수에 맞게 배열 형태로 여러 값을 입력할 수 있다. 이때 기존 행을 복사해 새로운 행에 그대로 추가할 수도 있다.\n",
        "\n",
        "* **행 추가: DataFrame.loc[ '새로운 행 이름' ] = 데이터 값(또는 배열)** <br>\n",
        "(iloc 사용시 오류가 발생한다.)\n",
        "\n",
        "데이터프레임에 새로운 행을 추가할 때는 기존 행 인덱스와 겹치지 않는 새로운 인덱스를 사용한다. **기존 인덱스와 중복되는 경우 새로운 행을 추가하지 않고 기존 행의 원소값을 변경한다.** <br>\n",
        "또한 행 인덱스를 지정할 때 기존 인덱스의 순서를 따르지 않아도 된다. 예를 들어 행이 3까지 있어도 df.loc[10] = 0을 사용해도 오류는 발생하지 않는다. 단, 행 인덱스는 10이 된다."
      ]
    },
    {
      "cell_type": "code",
      "metadata": {
        "colab": {
          "base_uri": "https://localhost:8080/"
        },
        "id": "AqSqKkUYaWYA",
        "outputId": "e6e788bf-a6ba-4194-c94c-f5ccb050cd64"
      },
      "source": [
        "exam_data = {'이름': ['서준', '우현', '인아'],\n",
        "             '수학': [90, 80, 79], \n",
        "             '영어': [98, 89, 95], \n",
        "             '음악': [85, 95, 100], \n",
        "             '체육': [100, 90, 90]}\n",
        "\n",
        "df = pd.DataFrame(exam_data)\n",
        "\n",
        "print(df)\n",
        "print('\\n')\n",
        "\n",
        "df.loc[3] = 0\n",
        "print(df)\n",
        "print('\\n')\n",
        "\n",
        "df.loc[4] = ['동규', 90, 80, 70, 60]\n",
        "print(df)\n",
        "print('\\n')\n",
        "\n",
        "df.loc['행5'] = df.loc[3]\n",
        "print(df)\n",
        "print('\\n')\n",
        "\n",
        "df.loc[10] = 11\n",
        "print(df)"
      ],
      "execution_count": null,
      "outputs": [
        {
          "output_type": "stream",
          "name": "stdout",
          "text": [
            "   이름  수학  영어   음악   체육\n",
            "0  서준  90  98   85  100\n",
            "1  우현  80  89   95   90\n",
            "2  인아  79  95  100   90\n",
            "\n",
            "\n",
            "   이름  수학  영어   음악   체육\n",
            "0  서준  90  98   85  100\n",
            "1  우현  80  89   95   90\n",
            "2  인아  79  95  100   90\n",
            "3   0   0   0    0    0\n",
            "\n",
            "\n",
            "   이름  수학  영어   음악   체육\n",
            "0  서준  90  98   85  100\n",
            "1  우현  80  89   95   90\n",
            "2  인아  79  95  100   90\n",
            "3   0   0   0    0    0\n",
            "4  동규  90  80   70   60\n",
            "\n",
            "\n",
            "    이름  수학  영어   음악   체육\n",
            "0   서준  90  98   85  100\n",
            "1   우현  80  89   95   90\n",
            "2   인아  79  95  100   90\n",
            "3    0   0   0    0    0\n",
            "4   동규  90  80   70   60\n",
            "행5   0   0   0    0    0\n",
            "\n",
            "\n",
            "    이름  수학  영어   음악   체육\n",
            "0   서준  90  98   85  100\n",
            "1   우현  80  89   95   90\n",
            "2   인아  79  95  100   90\n",
            "3    0   0   0    0    0\n",
            "4   동규  90  80   70   60\n",
            "행5   0   0   0    0    0\n",
            "10  11  11  11   11   11\n"
          ]
        }
      ]
    },
    {
      "cell_type": "markdown",
      "metadata": {
        "id": "dHDDc8IAwjZb"
      },
      "source": [
        "<h3> 원소 값 변경 </h3>\n",
        "\n",
        "데이터프레임의 특정 원소를 선택하고 새로운 데이터 값을 지정해주면 원소값이 변경된다. 원소를 1개 선택해 변경할 수도 있고, 여러 개의 원소를 선택해 한꺼번에 값을 변경할 수도 있다.\n",
        "\n",
        "* **원소 값 변경: DataFrame 객체의 일부분 또는 원소 선택 = 새로운 값**\n",
        "\n",
        "먼저 한 개의 원소를 선택해 값을 바꿔보자."
      ]
    },
    {
      "cell_type": "code",
      "metadata": {
        "colab": {
          "base_uri": "https://localhost:8080/"
        },
        "id": "BxKoqeijaf8P",
        "outputId": "e287a4ff-77fa-426e-87eb-63414d9b861f"
      },
      "source": [
        "exam_data = {'이름': ['서준', '우현', '인아'],\n",
        "             '수학': [90, 80, 79], \n",
        "             '영어': [98, 89, 95], \n",
        "             '음악': [85, 95, 100], \n",
        "             '체육': [100, 90, 90]}\n",
        "\n",
        "df = pd.DataFrame(exam_data)\n",
        "df.set_index('이름', inplace = True)\n",
        "print(df)\n",
        "print('\\n')\n",
        "\n",
        "df.iloc[0, 0] = 100\n",
        "print(df)\n",
        "print('\\n')\n",
        "\n",
        "df.iloc[0][3] = 80\n",
        "print(df)\n",
        "print('\\n')\n",
        "\n",
        "df.loc['서준']['체육'] = 90\n",
        "print(df)\n",
        "print('\\n')\n",
        "\n",
        "df.loc['서준', '체육'] = 100\n",
        "print(df)"
      ],
      "execution_count": null,
      "outputs": [
        {
          "output_type": "stream",
          "name": "stdout",
          "text": [
            "    수학  영어   음악   체육\n",
            "이름                  \n",
            "서준  90  98   85  100\n",
            "우현  80  89   95   90\n",
            "인아  79  95  100   90\n",
            "\n",
            "\n",
            "     수학  영어   음악   체육\n",
            "이름                   \n",
            "서준  100  98   85  100\n",
            "우현   80  89   95   90\n",
            "인아   79  95  100   90\n",
            "\n",
            "\n",
            "     수학  영어   음악  체육\n",
            "이름                  \n",
            "서준  100  98   85  80\n",
            "우현   80  89   95  90\n",
            "인아   79  95  100  90\n",
            "\n",
            "\n",
            "     수학  영어   음악  체육\n",
            "이름                  \n",
            "서준  100  98   85  90\n",
            "우현   80  89   95  90\n",
            "인아   79  95  100  90\n",
            "\n",
            "\n",
            "     수학  영어   음악   체육\n",
            "이름                   \n",
            "서준  100  98   85  100\n",
            "우현   80  89   95   90\n",
            "인아   79  95  100   90\n"
          ]
        }
      ]
    },
    {
      "cell_type": "markdown",
      "metadata": {
        "id": "2VmaXyZaxDvd"
      },
      "source": [
        "여러 개의 원소를 선택해 새로운 값을 할당해보자."
      ]
    },
    {
      "cell_type": "code",
      "metadata": {
        "colab": {
          "base_uri": "https://localhost:8080/"
        },
        "id": "r5pR8WM3cWdn",
        "outputId": "7a3b1145-3394-40a2-8b82-5444793e2131"
      },
      "source": [
        "df.loc['서준', ['음악', '체육']] = 50\n",
        "print(df)\n",
        "print('\\n')\n",
        "\n",
        "df.loc['서준', ['음악', '체육']] = 100, 50\n",
        "print(df)"
      ],
      "execution_count": null,
      "outputs": [
        {
          "output_type": "stream",
          "name": "stdout",
          "text": [
            "    수학  영어   음악  체육\n",
            "이름                 \n",
            "서준  10  10   50  50\n",
            "우현  10  10   95  90\n",
            "인아  79  95  100  90\n",
            "\n",
            "\n",
            "    수학  영어   음악  체육\n",
            "이름                 \n",
            "서준  10  10  100  50\n",
            "우현  10  10   95  90\n",
            "인아  79  95  100  90\n"
          ]
        }
      ]
    },
    {
      "cell_type": "markdown",
      "metadata": {
        "id": "mwsyw4XTyCUy"
      },
      "source": [
        "<h3> 행, 열의 위치 바꾸기 </h3>\n",
        "\n",
        "transpose() 메소드로 데이터프레임의 행과 열을 서로 바꿀 수 있다. 결과로 새로운 객체를 반환하므로 기존 객체를 변경하기 위해서는 df = df.transpose() 또는 df = df.T와 같이 기존 객체에 새로운 객체를 할당해주는 과정이 필요하다.\n",
        "* **행, 열 바꾸기: DataFrame 객체.transpose() 또는 DataFrame 객체.T**\n",
        "\n",
        "transpose() 메소드를 한 번 사용하고, 한 번 더 사용하게되면 원래 데이터프레임으로 돌아온다.\n",
        "\n",
        "* 행과 열이 바뀐 행렬을 **전치 행렬**이라고 한다."
      ]
    },
    {
      "cell_type": "code",
      "metadata": {
        "colab": {
          "base_uri": "https://localhost:8080/"
        },
        "id": "8XQ2F4k1dGbP",
        "outputId": "5bb75286-f50b-4e45-bfc4-828aaf508d06"
      },
      "source": [
        "exam_data = {'이름': ['서준', '우현', '인아'],\n",
        "             '수학': [90, 80, 79], \n",
        "             '영어': [98, 89, 95], \n",
        "             '음악': [85, 95, 100], \n",
        "             '체육': [100, 90, 90]}\n",
        "\n",
        "df = pd.DataFrame(exam_data)\n",
        "\n",
        "print(df)\n",
        "print('\\n')\n",
        "\n",
        "df = df.transpose()\n",
        "print(df)\n",
        "print('\\n')\n",
        "\n",
        "df = df.T\n",
        "print(df)"
      ],
      "execution_count": null,
      "outputs": [
        {
          "output_type": "stream",
          "name": "stdout",
          "text": [
            "   이름  수학  영어   음악   체육\n",
            "0  서준  90  98   85  100\n",
            "1  우현  80  89   95   90\n",
            "2  인아  79  95  100   90\n",
            "\n",
            "\n",
            "      0   1    2\n",
            "이름   서준  우현   인아\n",
            "수학   90  80   79\n",
            "영어   98  89   95\n",
            "음악   85  95  100\n",
            "체육  100  90   90\n",
            "\n",
            "\n",
            "   이름  수학  영어   음악   체육\n",
            "0  서준  90  98   85  100\n",
            "1  우현  80  89   95   90\n",
            "2  인아  79  95  100   90\n"
          ]
        }
      ]
    }
  ]
}