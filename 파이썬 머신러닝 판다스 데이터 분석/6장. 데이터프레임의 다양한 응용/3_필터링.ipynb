{
  "nbformat": 4,
  "nbformat_minor": 0,
  "metadata": {
    "colab": {
      "name": "3. 필터링.ipynb",
      "provenance": [],
      "collapsed_sections": []
    },
    "kernelspec": {
      "name": "python3",
      "display_name": "Python 3"
    },
    "language_info": {
      "name": "python"
    }
  },
  "cells": [
    {
      "cell_type": "markdown",
      "metadata": {
        "id": "wnFFRYa1_ynO"
      },
      "source": [
        "<h3> 불린 인덱싱 </h3>\n",
        "\n",
        "시리즈, 데이터프레임에 조건식을 전달하면 각 원소에 대해 참/거짓을 판별해 불린값으로 구성된 객체를 반환한다. 이때 참에 해당하는 데이터 값을 따로 선택할 수 있다. <br>\n",
        "조건식을 만들고 **행 인덱스 위치에 대입**하면 필터링을 할 수 있다.\n",
        "타이타닉 데이터셋을 불러오자. 그리고 나이가 10세 이상, 20세 미만인 승객을 필터링해보자."
      ]
    },
    {
      "cell_type": "code",
      "metadata": {
        "colab": {
          "base_uri": "https://localhost:8080/"
        },
        "id": "lQy9Cyv4L-f1",
        "outputId": "4d4d873e-3524-4833-f013-aca145c08b21"
      },
      "source": [
        "import seaborn as sns\n",
        "\n",
        "titanic = sns.load_dataset('titanic')\n",
        "\n",
        "mask1 = (titanic.age >= 10) & (titanic.age < 20)\n",
        "df_teenage = titanic.loc[mask1, :]\n",
        "print(df_teenage.head())"
      ],
      "execution_count": null,
      "outputs": [
        {
          "output_type": "stream",
          "name": "stdout",
          "text": [
            "    survived  pclass     sex   age  ...  deck  embark_town  alive  alone\n",
            "9          1       2  female  14.0  ...   NaN    Cherbourg    yes  False\n",
            "14         0       3  female  14.0  ...   NaN  Southampton     no   True\n",
            "22         1       3  female  15.0  ...   NaN   Queenstown    yes   True\n",
            "27         0       1    male  19.0  ...     C  Southampton     no  False\n",
            "38         0       3  female  18.0  ...   NaN  Southampton     no  False\n",
            "\n",
            "[5 rows x 15 columns]\n"
          ]
        }
      ]
    },
    {
      "cell_type": "markdown",
      "metadata": {
        "id": "tJebPo1MAlWX"
      },
      "source": [
        "이번에는 나이가 10세 미만인 여성 승객을 필터링해보자."
      ]
    },
    {
      "cell_type": "code",
      "metadata": {
        "colab": {
          "base_uri": "https://localhost:8080/"
        },
        "id": "f6vsfAPYMewE",
        "outputId": "7740b3ba-0427-4f26-ad91-ded26d3e7e18"
      },
      "source": [
        "mask2 = (titanic.age < 10) & (titanic.sex == 'female')\n",
        "df_female_under10 = titanic.loc[mask2, :]\n",
        "print(df_female_under10.head())"
      ],
      "execution_count": null,
      "outputs": [
        {
          "output_type": "stream",
          "name": "stdout",
          "text": [
            "     survived  pclass     sex  age  ...  deck  embark_town  alive  alone\n",
            "10          1       3  female  4.0  ...     G  Southampton    yes  False\n",
            "24          0       3  female  8.0  ...   NaN  Southampton     no  False\n",
            "43          1       2  female  3.0  ...   NaN    Cherbourg    yes  False\n",
            "58          1       2  female  5.0  ...   NaN  Southampton    yes  False\n",
            "119         0       3  female  2.0  ...   NaN  Southampton     no  False\n",
            "\n",
            "[5 rows x 15 columns]\n"
          ]
        }
      ]
    },
    {
      "cell_type": "markdown",
      "metadata": {
        "id": "G5WSkhYRBQz2"
      },
      "source": [
        "이번에는 OR 연산자를 활용해 10세 미만 혹은 60세 이상인 승객을 필터링해보자. <br>\n",
        "행 인덱스에 :가 아니라 열을 담은 리스트를 전달하면 해당 열의 데이터만 추출할 수 있다."
      ]
    },
    {
      "cell_type": "code",
      "metadata": {
        "colab": {
          "base_uri": "https://localhost:8080/"
        },
        "id": "NDJjH1caM1sL",
        "outputId": "ec32d595-8a31-417c-833e-4d543067cd49"
      },
      "source": [
        "mask3 = (titanic.age < 10) | (titanic.age >= 60)\n",
        "df_under10_morethan60 = titanic.loc[mask3, ['age', 'sex', 'alone']]\n",
        "print(df_under10_morethan60.head())"
      ],
      "execution_count": null,
      "outputs": [
        {
          "output_type": "stream",
          "name": "stdout",
          "text": [
            "     age     sex  alone\n",
            "7    2.0    male  False\n",
            "10   4.0  female  False\n",
            "16   2.0    male  False\n",
            "24   8.0  female  False\n",
            "33  66.0    male   True\n"
          ]
        }
      ]
    },
    {
      "cell_type": "markdown",
      "metadata": {
        "id": "uxESlwc7Brte"
      },
      "source": [
        "<h3> isin() 메소드 활용 </h3>\n",
        "\n",
        "데이터프레임 열에 **isin() 메소드**를 적용하면 특정 값을 가진 행들을 따로 추출할 수 있다. 인자로 추출할 값들로 만든 리스트를 전달하면 된다.\n",
        "\n",
        "* **isin() 메소드를 활용한 필터링: DataFrame의 열 객체.isin(추출 값의 리스트)**\n",
        "\n",
        "먼저 불린 인덱싱을 이용해 'sibsp' 열의 값이 3, 4, 5 중에서 하나인 행들을 추출해보자. <br>\n",
        "\n",
        "* 'sibsp'열은 같이 탑승한 형제 또는 배우자 수를 의미한다."
      ]
    },
    {
      "cell_type": "code",
      "metadata": {
        "colab": {
          "base_uri": "https://localhost:8080/"
        },
        "id": "lEDwBul0NLJ6",
        "outputId": "2bfcdae2-8d4e-4636-8ba6-477d9138bd1d"
      },
      "source": [
        "import pandas as pd\n",
        "\n",
        "# IPython 디스플레이 설정 변경 - 출력할 최대 열의 개수\n",
        "pd.set_option('display.max_columns', 10)\n",
        "\n",
        "# 함께 탑승한 형제 또는 배우자의 수가 3, 4, 5인 승객만 따로 추출\n",
        "mask3 = titanic['sibsp'] == 3\n",
        "mask4 = titanic['sibsp'] == 4\n",
        "mask5 = titanic['sibsp'] == 5\n",
        "\n",
        "df_boolean = titanic[mask3 | mask4 | mask5]\n",
        "print(df_boolean.head())"
      ],
      "execution_count": null,
      "outputs": [
        {
          "output_type": "stream",
          "name": "stdout",
          "text": [
            "    survived  pclass     sex   age  sibsp  ...  adult_male  deck  embark_town  \\\n",
            "7          0       3    male   2.0      3  ...       False   NaN  Southampton   \n",
            "16         0       3    male   2.0      4  ...       False   NaN   Queenstown   \n",
            "24         0       3  female   8.0      3  ...       False   NaN  Southampton   \n",
            "27         0       1    male  19.0      3  ...        True     C  Southampton   \n",
            "50         0       3    male   7.0      4  ...       False   NaN  Southampton   \n",
            "\n",
            "   alive  alone  \n",
            "7     no  False  \n",
            "16    no  False  \n",
            "24    no  False  \n",
            "27    no  False  \n",
            "50    no  False  \n",
            "\n",
            "[5 rows x 15 columns]\n"
          ]
        }
      ]
    },
    {
      "cell_type": "markdown",
      "metadata": {
        "id": "NF_bSH6yC3S2"
      },
      "source": [
        "이번에는 isin() 메소드를 활용해보자. 훨씬 코드 수가 줄은 것을 확인할 수 있다."
      ]
    },
    {
      "cell_type": "code",
      "metadata": {
        "colab": {
          "base_uri": "https://localhost:8080/"
        },
        "id": "XztkyrQUOL3q",
        "outputId": "f8f1f863-e8dd-4512-f2dd-afcaef6bbcea"
      },
      "source": [
        "isin_filter = titanic['sibsp'].isin([3, 4, 5])\n",
        "df_isin = titanic[isin_filter]\n",
        "print(df_isin.head())"
      ],
      "execution_count": null,
      "outputs": [
        {
          "output_type": "stream",
          "name": "stdout",
          "text": [
            "    survived  pclass     sex   age  sibsp  ...  adult_male  deck  embark_town  \\\n",
            "7          0       3    male   2.0      3  ...       False   NaN  Southampton   \n",
            "16         0       3    male   2.0      4  ...       False   NaN   Queenstown   \n",
            "24         0       3  female   8.0      3  ...       False   NaN  Southampton   \n",
            "27         0       1    male  19.0      3  ...        True     C  Southampton   \n",
            "50         0       3    male   7.0      4  ...       False   NaN  Southampton   \n",
            "\n",
            "   alive  alone  \n",
            "7     no  False  \n",
            "16    no  False  \n",
            "24    no  False  \n",
            "27    no  False  \n",
            "50    no  False  \n",
            "\n",
            "[5 rows x 15 columns]\n"
          ]
        }
      ]
    }
  ]
}