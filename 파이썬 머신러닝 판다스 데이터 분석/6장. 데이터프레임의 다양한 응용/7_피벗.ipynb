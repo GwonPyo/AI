{
  "nbformat": 4,
  "nbformat_minor": 0,
  "metadata": {
    "colab": {
      "name": "7. 피벗.ipynb",
      "provenance": [],
      "collapsed_sections": []
    },
    "kernelspec": {
      "name": "python3",
      "display_name": "Python 3"
    },
    "language_info": {
      "name": "python"
    }
  },
  "cells": [
    {
      "cell_type": "markdown",
      "metadata": {
        "id": "sSBfTJ9_zy7l"
      },
      "source": [
        "**pivot_table() 함수**로 피벗 테이블을 만들 수 있다. 행 인덱스, 열 인덱스, 데이터 값, 데이터 집계 함수를 인자로 전달해야한다. <br>\n",
        "먼저 titanic 데이터셋을 불러오고 데이터프레임을 생성하자. <br>\n",
        "행 인덱스는 'class'열, 열 인덱스는 'sex'열을 지정하자. 데이터 값은 'age'열을 지정하고 집계 함수는 'mean'함수로 설정하자. <br>\n",
        "결과적으로 행 인덱스에는 'class'열의 값, 열 인덱스에는 'sex'열의 값이 표시된다. 'age'열의 승객 나이 데이터의 평균값을 계산하여 출력한다."
      ]
    },
    {
      "cell_type": "code",
      "metadata": {
        "colab": {
          "base_uri": "https://localhost:8080/"
        },
        "id": "jUvoeF5u_axx",
        "outputId": "2f4eb4e1-8dc3-4f78-c41f-d2e06e7ac9d2"
      },
      "source": [
        "import pandas as pd\n",
        "import seaborn as sns\n",
        "\n",
        "pd.set_option('display.max_columns', 10)\n",
        "pd.set_option('display.max_colwidth', 20)\n",
        "\n",
        "titanic = sns.load_dataset('titanic')\n",
        "df = titanic.loc[:, ['age', 'sex', 'class', 'fare', 'survived']]\n",
        "print(df.head())\n",
        "print('\\n')\n",
        "\n",
        "pdf1 = pd.pivot_table(df,\n",
        "                      index = 'class',\n",
        "                      columns = 'sex',\n",
        "                      values = 'age',\n",
        "                      aggfunc = 'mean')\n",
        "\n",
        "print(pdf1.head())"
      ],
      "execution_count": null,
      "outputs": [
        {
          "output_type": "stream",
          "name": "stdout",
          "text": [
            "    age     sex  class     fare  survived\n",
            "0  22.0    male  Third   7.2500         0\n",
            "1  38.0  female  First  71.2833         1\n",
            "2  26.0  female  Third   7.9250         1\n",
            "3  35.0  female  First  53.1000         1\n",
            "4  35.0    male  Third   8.0500         0\n",
            "\n",
            "\n",
            "sex        female       male\n",
            "class                       \n",
            "First   34.611765  41.281386\n",
            "Second  28.722973  30.740707\n",
            "Third   21.750000  26.507589\n"
          ]
        }
      ]
    },
    {
      "cell_type": "markdown",
      "metadata": {
        "id": "plEZMi9W0ZVz"
      },
      "source": [
        "이번에는 survived 열을 데이터 값으로 사용하고 **집계 함수를 2개** 사용해보자. 집계 함수를 여러개 사용하려면 리스트 형태로 입력해주면 된다. <br>\n",
        "행 인덱스는 이전과 동일하게 출력되며 열 인덱스는 **2중 멀티 인덱스**가 된다. 집계 함수가 한 층을 이루가 'sex' 열의 값이 다음 층으로 사용된다."
      ]
    },
    {
      "cell_type": "code",
      "metadata": {
        "colab": {
          "base_uri": "https://localhost:8080/"
        },
        "id": "M9vsi0A6BCQZ",
        "outputId": "6e222075-5616-4061-e421-26663dd9c9ff"
      },
      "source": [
        "pdf2 = pd.pivot_table(df,\n",
        "                      index = 'class',\n",
        "                      columns = 'sex',\n",
        "                      values = 'survived',\n",
        "                      aggfunc = ['mean', 'sum'])\n",
        "print(pdf2.head())"
      ],
      "execution_count": null,
      "outputs": [
        {
          "output_type": "stream",
          "name": "stdout",
          "text": [
            "            mean              sum     \n",
            "sex       female      male female male\n",
            "class                                 \n",
            "First   0.968085  0.368852     91   45\n",
            "Second  0.921053  0.157407     70   17\n",
            "Third   0.500000  0.135447     72   47\n"
          ]
        }
      ]
    },
    {
      "cell_type": "markdown",
      "metadata": {
        "id": "EfC-FTqw1SYS"
      },
      "source": [
        "**pivot_table() 함수에 전달할 인자에 2개 이상의 열을 입력할 수 있다.** 이번에는 행 인덱스와\\, 데이터 값, 집계함수를 2개씩 지정해보자."
      ]
    },
    {
      "cell_type": "code",
      "metadata": {
        "colab": {
          "base_uri": "https://localhost:8080/"
        },
        "id": "n8ouR-73BetT",
        "outputId": "15e860ea-8dcd-4f20-a39e-9143a2594165"
      },
      "source": [
        "pdf3 = pd.pivot_table(df,\n",
        "                      index = ['class', 'sex'],\n",
        "                      columns = 'survived',\n",
        "                      values = ['age', 'fare'],\n",
        "                      aggfunc = ['mean', 'max'])\n",
        "\n",
        "pd.set_option('display.max_columns', 10)\n",
        "print(pdf3.head())\n",
        "print('\\n')\n",
        "\n",
        "print(pdf3.index)\n",
        "print(pdf3.columns)"
      ],
      "execution_count": null,
      "outputs": [
        {
          "output_type": "stream",
          "name": "stdout",
          "text": [
            "                    mean                                      max        \\\n",
            "                     age                   fare               age         \n",
            "survived               0          1           0           1     0     1   \n",
            "class  sex                                                                \n",
            "First  female  25.666667  34.939024  110.604167  105.978159  50.0  63.0   \n",
            "       male    44.581967  36.248000   62.894910   74.637320  71.0  80.0   \n",
            "Second female  36.000000  28.080882   18.250000   22.288989  57.0  55.0   \n",
            "       male    33.369048  16.022000   19.488965   21.095100  70.0  62.0   \n",
            "Third  female  23.818182  19.329787   19.773093   12.464526  48.0  63.0   \n",
            "\n",
            "                                 \n",
            "                 fare            \n",
            "survived            0         1  \n",
            "class  sex                       \n",
            "First  female  151.55  512.3292  \n",
            "       male    263.00  512.3292  \n",
            "Second female   26.00   65.0000  \n",
            "       male     73.50   39.0000  \n",
            "Third  female   69.55   31.3875  \n",
            "\n",
            "\n",
            "MultiIndex([( 'First', 'female'),\n",
            "            ( 'First',   'male'),\n",
            "            ('Second', 'female'),\n",
            "            ('Second',   'male'),\n",
            "            ( 'Third', 'female'),\n",
            "            ( 'Third',   'male')],\n",
            "           names=['class', 'sex'])\n",
            "MultiIndex([('mean',  'age', 0),\n",
            "            ('mean',  'age', 1),\n",
            "            ('mean', 'fare', 0),\n",
            "            ('mean', 'fare', 1),\n",
            "            ( 'max',  'age', 0),\n",
            "            ( 'max',  'age', 1),\n",
            "            ( 'max', 'fare', 0),\n",
            "            ( 'max', 'fare', 1)],\n",
            "           names=[None, None, 'survived'])\n"
          ]
        }
      ]
    },
    {
      "cell_type": "markdown",
      "metadata": {
        "id": "CMxfMPSQ1peq"
      },
      "source": [
        "데이터프레임에 접근하기 위한 **xs 인덱서**를 사용해보자. <br> axis 매개변수의 기본값은 0으로 기본적으로 행 인덱스에 접근한다. 먼저 행 인덱스가 'First'인 데이터를 출력해보자."
      ]
    },
    {
      "cell_type": "code",
      "metadata": {
        "colab": {
          "base_uri": "https://localhost:8080/"
        },
        "id": "XzvZxCwZCKLY",
        "outputId": "64a387cb-1245-4c53-9c4c-69e162cfa765"
      },
      "source": [
        "print(pdf3.xs('First'))"
      ],
      "execution_count": null,
      "outputs": [
        {
          "output_type": "stream",
          "name": "stdout",
          "text": [
            "               mean                                      max                \\\n",
            "                age                   fare               age          fare   \n",
            "survived          0          1           0           1     0     1       0   \n",
            "sex                                                                          \n",
            "female    25.666667  34.939024  110.604167  105.978159  50.0  63.0  151.55   \n",
            "male      44.581967  36.248000   62.894910   74.637320  71.0  80.0  263.00   \n",
            "\n",
            "                    \n",
            "                    \n",
            "survived         1  \n",
            "sex                 \n",
            "female    512.3292  \n",
            "male      512.3292  \n"
          ]
        }
      ]
    },
    {
      "cell_type": "markdown",
      "metadata": {
        "id": "4eyh4xg712ue"
      },
      "source": [
        "다음으로 행 인덱스 레벨 0에서 'First'를 가져오고, 레벨 1에서 'female'을 가져오자."
      ]
    },
    {
      "cell_type": "code",
      "metadata": {
        "colab": {
          "base_uri": "https://localhost:8080/"
        },
        "id": "2LFHk9uSDn54",
        "outputId": "5bd8346b-bc6a-4d05-acd3-b25a20389609"
      },
      "source": [
        "print(pdf3.xs(('First', 'female')))"
      ],
      "execution_count": null,
      "outputs": [
        {
          "output_type": "stream",
          "name": "stdout",
          "text": [
            "            survived\n",
            "mean  age   0            25.666667\n",
            "            1            34.939024\n",
            "      fare  0           110.604167\n",
            "            1           105.978159\n",
            "max   age   0            50.000000\n",
            "            1            63.000000\n",
            "      fare  0           151.550000\n",
            "            1           512.329200\n",
            "Name: (First, female), dtype: float64\n"
          ]
        }
      ]
    },
    {
      "cell_type": "markdown",
      "metadata": {
        "id": "C9Gv9IB92B_5"
      },
      "source": [
        "이번에는 **행 인덱스 레벨을 직접 지정**해보자. 'sex' 레벨에서 남성 승객만 추출해보자."
      ]
    },
    {
      "cell_type": "code",
      "metadata": {
        "colab": {
          "base_uri": "https://localhost:8080/"
        },
        "id": "vqmxwCMCD0dp",
        "outputId": "29ef90b9-72aa-497f-b6e4-82b05e84ea64"
      },
      "source": [
        "print(pdf3.xs('male', level = 'sex'))"
      ],
      "execution_count": null,
      "outputs": [
        {
          "output_type": "stream",
          "name": "stdout",
          "text": [
            "               mean                                    max                \\\n",
            "                age                  fare              age          fare   \n",
            "survived          0          1          0          1     0     1       0   \n",
            "class                                                                      \n",
            "First     44.581967  36.248000  62.894910  74.637320  71.0  80.0  263.00   \n",
            "Second    33.369048  16.022000  19.488965  21.095100  70.0  62.0   73.50   \n",
            "Third     27.255814  22.274211  12.204469  15.579696  74.0  45.0   69.55   \n",
            "\n",
            "                    \n",
            "                    \n",
            "survived         1  \n",
            "class               \n",
            "First     512.3292  \n",
            "Second     39.0000  \n",
            "Third      56.4958  \n"
          ]
        }
      ]
    },
    {
      "cell_type": "markdown",
      "metadata": {
        "id": "NhV84Jqy2KTv"
      },
      "source": [
        "마지막으로 행 인덱스 레벨 0에서 'Second', 레벨 1에서 'male'을 가져오자. <br>\n",
        "1대신 'sex'를 사용해도 결과는 동일하다."
      ]
    },
    {
      "cell_type": "code",
      "metadata": {
        "colab": {
          "base_uri": "https://localhost:8080/"
        },
        "id": "wg6ER_goEBKZ",
        "outputId": "87ccec1e-699d-4ae4-808e-bc4af1e471eb"
      },
      "source": [
        "print(pdf3.xs(('Second', 'male'), level = [0, 'sex']))"
      ],
      "execution_count": null,
      "outputs": [
        {
          "output_type": "stream",
          "name": "stdout",
          "text": [
            "                  mean                               max                  \n",
            "                   age               fare            age        fare      \n",
            "survived             0       1          0        1     0     1     0     1\n",
            "class  sex                                                                \n",
            "Second male  33.369048  16.022  19.488965  21.0951  70.0  62.0  73.5  39.0\n"
          ]
        }
      ]
    },
    {
      "cell_type": "markdown",
      "metadata": {
        "id": "7pU-XRFj2V_T"
      },
      "source": [
        "xs 인덱서로 **열 인덱스도 접근**할 수 있다. axis 매개변수를 1로 지정해야한다. <br>\n",
        "먼저 'mean'열을 가져와보자."
      ]
    },
    {
      "cell_type": "code",
      "metadata": {
        "colab": {
          "base_uri": "https://localhost:8080/"
        },
        "id": "t8j4pagLEcRA",
        "outputId": "7a8062a8-4b8d-4457-c838-472ef54eabf7"
      },
      "source": [
        "print(pdf3.xs('mean', axis = 1))"
      ],
      "execution_count": null,
      "outputs": [
        {
          "output_type": "stream",
          "name": "stdout",
          "text": [
            "                     age                   fare            \n",
            "survived               0          1           0           1\n",
            "class  sex                                                 \n",
            "First  female  25.666667  34.939024  110.604167  105.978159\n",
            "       male    44.581967  36.248000   62.894910   74.637320\n",
            "Second female  36.000000  28.080882   18.250000   22.288989\n",
            "       male    33.369048  16.022000   19.488965   21.095100\n",
            "Third  female  23.818182  19.329787   19.773093   12.464526\n",
            "       male    27.255814  22.274211   12.204469   15.579696\n"
          ]
        }
      ]
    },
    {
      "cell_type": "markdown",
      "metadata": {
        "id": "FBtxpVUN2j7C"
      },
      "source": [
        "열 인덱스 레벨 0에서 'mean', 레벨 1에서 'age'를 가져와보자."
      ]
    },
    {
      "cell_type": "code",
      "metadata": {
        "colab": {
          "base_uri": "https://localhost:8080/"
        },
        "id": "p1ay34ItEgfY",
        "outputId": "c49cd78f-8928-4029-ab16-25ebbe0169ad"
      },
      "source": [
        "print(pdf3.xs(('mean', 'age'), axis = 1))"
      ],
      "execution_count": null,
      "outputs": [
        {
          "output_type": "stream",
          "name": "stdout",
          "text": [
            "survived               0          1\n",
            "class  sex                         \n",
            "First  female  25.666667  34.939024\n",
            "       male    44.581967  36.248000\n",
            "Second female  36.000000  28.080882\n",
            "       male    33.369048  16.022000\n",
            "Third  female  23.818182  19.329787\n",
            "       male    27.255814  22.274211\n"
          ]
        }
      ]
    },
    {
      "cell_type": "markdown",
      "metadata": {
        "id": "mUy-q8Dw2svr"
      },
      "source": [
        "**열 인덱스 레벨을 직접 지정**해보자. 'survived' 레벨의 값이 1인 데이터만 추출하자."
      ]
    },
    {
      "cell_type": "code",
      "metadata": {
        "colab": {
          "base_uri": "https://localhost:8080/"
        },
        "id": "zZJuVEvFEyxh",
        "outputId": "8a17c5f3-4b8e-4c03-bd3c-2df66ac4f2fa"
      },
      "source": [
        "print(pdf3.xs(1, level = 'survived', axis = 1))"
      ],
      "execution_count": null,
      "outputs": [
        {
          "output_type": "stream",
          "name": "stdout",
          "text": [
            "                    mean               max          \n",
            "                     age        fare   age      fare\n",
            "class  sex                                          \n",
            "First  female  34.939024  105.978159  63.0  512.3292\n",
            "       male    36.248000   74.637320  80.0  512.3292\n",
            "Second female  28.080882   22.288989  55.0   65.0000\n",
            "       male    16.022000   21.095100  62.0   39.0000\n",
            "Third  female  19.329787   12.464526  63.0   31.3875\n",
            "       male    22.274211   15.579696  45.0   56.4958\n"
          ]
        }
      ]
    },
    {
      "cell_type": "markdown",
      "metadata": {
        "id": "EaOGv9Lz24Ey"
      },
      "source": [
        "열 인덱스 레벨 0은 'max', 레벨 1은 'fare', 레벨 2는 0(survived의 데이터값'인 데이터를 추출해보자."
      ]
    },
    {
      "cell_type": "code",
      "metadata": {
        "colab": {
          "base_uri": "https://localhost:8080/"
        },
        "id": "SWFCMX-kE8Mx",
        "outputId": "e03b2207-f082-4828-add6-0e140eac618e"
      },
      "source": [
        "print(pdf3.xs(('max', 'fare', 0), level = [0, 1, 2], axis = 1))"
      ],
      "execution_count": null,
      "outputs": [
        {
          "output_type": "stream",
          "name": "stdout",
          "text": [
            "                  max\n",
            "                 fare\n",
            "survived            0\n",
            "class  sex           \n",
            "First  female  151.55\n",
            "       male    263.00\n",
            "Second female   26.00\n",
            "       male     73.50\n",
            "Third  female   69.55\n",
            "       male     69.55\n"
          ]
        }
      ]
    }
  ]
}