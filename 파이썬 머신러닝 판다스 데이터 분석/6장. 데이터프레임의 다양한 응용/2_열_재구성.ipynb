{
  "nbformat": 4,
  "nbformat_minor": 2,
  "metadata": {
    "colab": {
      "name": "2. 열 재구성.ipynb",
      "provenance": [],
      "collapsed_sections": []
    },
    "kernelspec": {
      "name": "python3",
      "display_name": "Python 3"
    },
    "language_info": {
      "name": "python"
    }
  },
  "cells": [
    {
      "cell_type": "markdown",
      "source": [
        "<h3> 열 순서 변경 </h3>\n",
        "\n",
        "데이터프레임의 열 순서를 변경하려면 열 이름을 원하는 순서대로 정리해서 데이터프레임에 리스트 형태로 전달하면 된다.\n",
        "\n",
        "* **데이터프레임의 열 순서 변경: DataFrame 객체[재구성한 열 이름의 리스트]**\n",
        "\n",
        "먼저 타이타닉 데이터셋을 불러오자."
      ],
      "metadata": {
        "id": "1WIjgmrl4gnb"
      }
    },
    {
      "cell_type": "code",
      "execution_count": null,
      "source": [
        "import seaborn as sns\r\n",
        "\r\n",
        "titanic = sns.load_dataset('titanic')\r\n",
        "df = titanic.loc[0:4, 'survived' : 'age']\r\n",
        "print(df, '\\n')"
      ],
      "outputs": [
        {
          "output_type": "stream",
          "name": "stdout",
          "text": [
            "   survived  pclass     sex   age\n",
            "0         0       3    male  22.0\n",
            "1         1       1  female  38.0\n",
            "2         1       3  female  26.0\n",
            "3         1       1  female  35.0\n",
            "4         0       3    male  35.0 \n",
            "\n"
          ]
        }
      ],
      "metadata": {
        "colab": {
          "base_uri": "https://localhost:8080/"
        },
        "id": "VpDhI7sP1019",
        "outputId": "a703e3ad-4a67-44e9-f459-6f5ab8b97b5e"
      }
    },
    {
      "cell_type": "markdown",
      "source": [
        "데이터프레임의 columns 속성을 이용해 열 이름을 가진 리스트를 만들자.\n",
        "\n",
        "* df.columns를 바로 리스트로 바꿔도 되고 values 속성에서 바꿔도 된다. (책은 values 속성에서 바꿨다.)"
      ],
      "metadata": {
        "id": "ZDUhJFDT5S3j"
      }
    },
    {
      "cell_type": "code",
      "execution_count": null,
      "source": [
        "print(df.columns)\r\n",
        "print(type(df.columns))"
      ],
      "outputs": [
        {
          "output_type": "stream",
          "name": "stdout",
          "text": [
            "Index(['survived', 'pclass', 'sex', 'age'], dtype='object')\n",
            "<class 'pandas.core.indexes.base.Index'>\n"
          ]
        }
      ],
      "metadata": {
        "colab": {
          "base_uri": "https://localhost:8080/"
        },
        "id": "8SZQZ18j2SSb",
        "outputId": "aa5b3365-e894-4133-fb6d-925515f685cc"
      }
    },
    {
      "cell_type": "code",
      "execution_count": null,
      "source": [
        "columns = list(df.columns)\r\n",
        "print(columns)"
      ],
      "outputs": [
        {
          "output_type": "stream",
          "name": "stdout",
          "text": [
            "['survived', 'pclass', 'sex', 'age']\n"
          ]
        }
      ],
      "metadata": {
        "colab": {
          "base_uri": "https://localhost:8080/"
        },
        "id": "vn9NOpEp2Z2Z",
        "outputId": "6ec1ff4c-a52c-442d-f21a-b21de1691e31"
      }
    },
    {
      "cell_type": "code",
      "execution_count": null,
      "source": [
        "columns = list(df.columns.values)\r\n",
        "print(columns)"
      ],
      "outputs": [
        {
          "output_type": "stream",
          "name": "stdout",
          "text": [
            "['survived', 'pclass', 'sex', 'age']\n"
          ]
        }
      ],
      "metadata": {
        "colab": {
          "base_uri": "https://localhost:8080/"
        },
        "id": "5K4is4EY2mPi",
        "outputId": "3d071ef0-ad63-43e9-aa7a-ad7a6843f71d"
      }
    },
    {
      "cell_type": "markdown",
      "source": [
        "열 이름이 저장된 리스트(columns)를 알파벳 순서로 정렬하고 열 순서를 바꿔보자."
      ],
      "metadata": {
        "id": "4H6uzI-48tmy"
      }
    },
    {
      "cell_type": "code",
      "execution_count": null,
      "source": [
        "columns_sorted = sorted(columns)\r\n",
        "df_sorted = df[columns_sorted]\r\n",
        "print(df_sorted)"
      ],
      "outputs": [
        {
          "output_type": "stream",
          "name": "stdout",
          "text": [
            "    age  pclass     sex  survived\n",
            "0  22.0       3    male         0\n",
            "1  38.0       1  female         1\n",
            "2  26.0       3  female         1\n",
            "3  35.0       1  female         1\n",
            "4  35.0       3    male         0\n"
          ]
        }
      ],
      "metadata": {
        "colab": {
          "base_uri": "https://localhost:8080/"
        },
        "id": "6FJvg6H72oIK",
        "outputId": "e883b55b-8aa3-4c11-bbbb-5d44409a2f5d"
      }
    },
    {
      "cell_type": "markdown",
      "source": [
        "이번에는 리스트를 알파벳 역순으로 정렬하고 열 순서를 바꿔보자."
      ],
      "metadata": {
        "id": "Kejyi3cL80dq"
      }
    },
    {
      "cell_type": "code",
      "execution_count": null,
      "source": [
        "columns_reversed = list(reversed(columns))\r\n",
        "df_reversed = df[columns_reversed]\r\n",
        "print(df_reversed)"
      ],
      "outputs": [
        {
          "output_type": "stream",
          "name": "stdout",
          "text": [
            "    age     sex  pclass  survived\n",
            "0  22.0    male       3         0\n",
            "1  38.0  female       1         1\n",
            "2  26.0  female       3         1\n",
            "3  35.0  female       1         1\n",
            "4  35.0    male       3         0\n"
          ]
        }
      ],
      "metadata": {
        "colab": {
          "base_uri": "https://localhost:8080/"
        },
        "id": "tVHPJdsM22-5",
        "outputId": "26d5b5f6-484b-4079-9e0e-8ae0960ebfa7"
      }
    },
    {
      "cell_type": "markdown",
      "source": [
        "직접 순서를 정해 리스트를 만들고 열 순서를 조정할 수도 있다."
      ],
      "metadata": {
        "id": "QwmgohPz8-2i"
      }
    },
    {
      "cell_type": "code",
      "execution_count": null,
      "source": [
        "columns_customed = ['pclass', 'sex', 'age', 'survived']\r\n",
        "df_customed = df[columns_customed]\r\n",
        "print(df_customed)"
      ],
      "outputs": [
        {
          "output_type": "stream",
          "name": "stdout",
          "text": [
            "   pclass     sex   age  survived\n",
            "0       3    male  22.0         0\n",
            "1       1  female  38.0         1\n",
            "2       3  female  26.0         1\n",
            "3       1  female  35.0         1\n",
            "4       3    male  35.0         0\n"
          ]
        }
      ],
      "metadata": {
        "colab": {
          "base_uri": "https://localhost:8080/"
        },
        "id": "Hc8I9BKZ3DW5",
        "outputId": "122641cb-70df-4061-d128-da7fe0e50ad0"
      }
    },
    {
      "cell_type": "markdown",
      "source": [
        "<h3> 열 분리 </h3>\n",
        "\n",
        "하나의 열이 여러 정보를 담고 있을 때 각 정보를 분리해 사용하는 경우가 있다. 어떤 열에 '연월일' 정보가 있을 때 '연', '월', '일'로 구분하거나, 사람의 이름이 들어 있는 열을 '성'과 '이름'으로 구분하기도 한다. <br>\n",
        "우리는 **str 속성**을 이용해 문자열 데이터에 접근하는 방법을 이용하여 '연', '월', '일'을 구분할 것이다. <br>\n",
        "먼저 데이터셋을 불러오자."
      ],
      "metadata": {
        "id": "KCN-iq1F9D6G"
      }
    },
    {
      "cell_type": "code",
      "execution_count": null,
      "source": [
        "import pandas as pd\n",
        "\n",
        "df = pd.read_excel('주가데이터.xlsx', engine = 'openpyxl')\n",
        "print(df.head(), '\\n')\n",
        "print(df.dtypes)"
      ],
      "outputs": [
        {
          "output_type": "stream",
          "name": "stdout",
          "text": [
            "         연월일   당일종가  전일종가     시가     고가     저가     거래량\n",
            "0 2018-07-02  10100   600  10850  10900  10000  137977\n",
            "1 2018-06-29  10700   300  10550  10900   9990  170253\n",
            "2 2018-06-28  10400   500  10900  10950  10150  155769\n",
            "3 2018-06-27  10900   100  10800  11050  10500  133548\n",
            "4 2018-06-26  10800   350  10900  11000  10700   63039 \n",
            "\n",
            "연월일     datetime64[ns]\n",
            "당일종가             int64\n",
            "전일종가             int64\n",
            "시가               int64\n",
            "고가               int64\n",
            "저가               int64\n",
            "거래량              int64\n",
            "dtype: object\n"
          ]
        }
      ],
      "metadata": {
        "colab": {
          "base_uri": "https://localhost:8080/"
        },
        "id": "njAuJC3O3MI5",
        "outputId": "407ac9f2-950a-4cad-f47e-eb997e8d6e83"
      }
    },
    {
      "cell_type": "markdown",
      "source": [
        "'연월일' 열이 datetime64 자료형이므로 str 속성으로 바꾸자. 그리고 str 속성의 **split() 메소드**를 이용하면 '연', '월', '일'로 나눌 수 있다."
      ],
      "metadata": {
        "id": "GDmUH5fa9vmS"
      }
    },
    {
      "cell_type": "code",
      "execution_count": null,
      "source": [
        "df['연월일'] = df['연월일'].astype('str')\n",
        "dates = df['연월일'].str.split('-')\n",
        "print(dates.head())"
      ],
      "outputs": [
        {
          "output_type": "stream",
          "name": "stdout",
          "text": [
            "0    [2018, 07, 02]\n",
            "1    [2018, 06, 29]\n",
            "2    [2018, 06, 28]\n",
            "3    [2018, 06, 27]\n",
            "4    [2018, 06, 26]\n",
            "Name: 연월일, dtype: object\n"
          ]
        }
      ],
      "metadata": {
        "colab": {
          "base_uri": "https://localhost:8080/"
        },
        "id": "a2wgeeoU32VJ",
        "outputId": "c3fb8a0e-ee67-42cd-d65c-7f1625a91681"
      }
    },
    {
      "cell_type": "markdown",
      "source": [
        "str 속성의 **get() 메소드**를 이용하면 저장된 문자열 리스트의 원소를 선택할 수 있다. <br>\n",
        "즉, 0은 '연', 1은 '월', 2는 '일' 속성에 접근할 수 있다."
      ],
      "metadata": {
        "id": "EcLnKO42-JXD"
      }
    },
    {
      "cell_type": "code",
      "execution_count": null,
      "source": [
        "df['연'] = dates.str.get(0)\n",
        "df['월'] = dates.str.get(1)\n",
        "df['일'] = dates.str.get(2)\n",
        "print(df.head())"
      ],
      "outputs": [
        {
          "output_type": "stream",
          "name": "stdout",
          "text": [
            "          연월일   당일종가  전일종가     시가     고가     저가     거래량     연   월   일\n",
            "0  2018-07-02  10100   600  10850  10900  10000  137977  2018  07  02\n",
            "1  2018-06-29  10700   300  10550  10900   9990  170253  2018  06  29\n",
            "2  2018-06-28  10400   500  10900  10950  10150  155769  2018  06  28\n",
            "3  2018-06-27  10900   100  10800  11050  10500  133548  2018  06  27\n",
            "4  2018-06-26  10800   350  10900  11000  10700   63039  2018  06  26\n"
          ]
        }
      ],
      "metadata": {
        "colab": {
          "base_uri": "https://localhost:8080/"
        },
        "id": "sHmYPdq24Nra",
        "outputId": "2e7ca9da-7c39-41a2-d01e-81268c4c2f4d"
      }
    }
  ]
}