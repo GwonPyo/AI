{
  "nbformat": 4,
  "nbformat_minor": 0,
  "metadata": {
    "colab": {
      "name": "5. 그룹 연산.ipynb",
      "provenance": [],
      "collapsed_sections": []
    },
    "kernelspec": {
      "name": "python3",
      "display_name": "Python 3"
    },
    "language_info": {
      "name": "python"
    }
  },
  "cells": [
    {
      "cell_type": "markdown",
      "metadata": {
        "id": "GexmgVF_To2r"
      },
      "source": [
        "'그룹 연산'이란 특정한 기준을 적용해 몇 개의 그룹으로 분할하여 처리하는 것을 의미한다. 데이터를 집계, 변환, 필터링하는데 효율적이며 3단계의 과정으로 이루어진다.\n",
        "\n",
        "1단계) **분할(split)**: 데이터를 특정 조건에 의해 분할한다. <br>\n",
        "2단계) **적용(apply)**: 데이터를 집계, 반환, 필터링하는데 필요한 메소드를 적용한다. <br>\n",
        "3단계) **결합(combine)**: 2단계의 처리 결과를 하나로 결합한다.\n",
        "\n",
        "<h3> 그룹 객체 만들기 </h3>\n",
        "<h4> 1개의 열을 기준으로 그룹화 </h4>\n",
        "\n",
        "**groupby() 메소드**는 데이터프레임의 특정 열을 기준으로 데이터프레임을 분할해 그룹 객체를 반환한다. 기준이 되는 열은 1개도 가능하고, 여러 열을 리스트로 입력할 수도 있다. \n",
        "\n",
        "* **그룹 연산(분할): DataFrame 객체.groupby(기준이 되는 열)**\n",
        "\n",
        "먼저 열 1개를 기준으로 분할해보자. 'titanic' 데이터셋에서 5개의 열을 선택해 데이터프레임을 만들고, 'class' 열을 기준으로 그룹을 나눠보자."
      ]
    },
    {
      "cell_type": "code",
      "metadata": {
        "colab": {
          "base_uri": "https://localhost:8080/"
        },
        "id": "ake_ogHwTl5d",
        "outputId": "63d163a6-cd15-495d-cdbb-8794c00aeb68"
      },
      "source": [
        "import pandas as pd\n",
        "import seaborn as sns\n",
        "\n",
        "titanic = sns.load_dataset('titanic')\n",
        "df = titanic.loc[:, ['age', 'sex', 'class', 'fare', 'survived']]\n",
        "\n",
        "print('승객 수: ', len(df))\n",
        "print(df.head(), '\\n')\n",
        "\n",
        "grouped = df.groupby(['class'])\n",
        "print(grouped)"
      ],
      "execution_count": null,
      "outputs": [
        {
          "output_type": "stream",
          "name": "stdout",
          "text": [
            "승객 수:  891\n",
            "    age     sex  class     fare  survived\n",
            "0  22.0    male  Third   7.2500         0\n",
            "1  38.0  female  First  71.2833         1\n",
            "2  26.0  female  Third   7.9250         1\n",
            "3  35.0  female  First  53.1000         1\n",
            "4  35.0    male  Third   8.0500         0 \n",
            "\n",
            "<pandas.core.groupby.generic.DataFrameGroupBy object at 0x7efe960913d0>\n"
          ]
        }
      ]
    },
    {
      "cell_type": "markdown",
      "metadata": {
        "id": "tXkox5U6Vfjk"
      },
      "source": [
        "'class'열에는 'First', 'Second', 'Third' 3개의 값이있다. 이 값들을 기준으로 3개의 그룹으로 나누어진다. <br>그룹 객체(grouped)의 내용을 출력해보자. 각 **행 인덱스가 그대로 유지**되는 것을 알 수 있다."
      ]
    },
    {
      "cell_type": "code",
      "metadata": {
        "colab": {
          "base_uri": "https://localhost:8080/"
        },
        "id": "PxE2u3c0VD0H",
        "outputId": "e04b6814-036f-4157-d1e1-9f54673c0e7f"
      },
      "source": [
        "for key, group in grouped:\n",
        "  print('* key : ', key)\n",
        "  print('* number : ', len(group))\n",
        "  print(group.head(), '\\n')"
      ],
      "execution_count": null,
      "outputs": [
        {
          "output_type": "stream",
          "name": "stdout",
          "text": [
            "* key :  First\n",
            "* number :  216\n",
            "     age     sex  class     fare  survived\n",
            "1   38.0  female  First  71.2833         1\n",
            "3   35.0  female  First  53.1000         1\n",
            "6   54.0    male  First  51.8625         0\n",
            "11  58.0  female  First  26.5500         1\n",
            "23  28.0    male  First  35.5000         1 \n",
            "\n",
            "* key :  Second\n",
            "* number :  184\n",
            "     age     sex   class     fare  survived\n",
            "9   14.0  female  Second  30.0708         1\n",
            "15  55.0  female  Second  16.0000         1\n",
            "17   NaN    male  Second  13.0000         1\n",
            "20  35.0    male  Second  26.0000         0\n",
            "21  34.0    male  Second  13.0000         1 \n",
            "\n",
            "* key :  Third\n",
            "* number :  491\n",
            "    age     sex  class     fare  survived\n",
            "0  22.0    male  Third   7.2500         0\n",
            "2  26.0  female  Third   7.9250         1\n",
            "4  35.0    male  Third   8.0500         0\n",
            "5   NaN    male  Third   8.4583         0\n",
            "7   2.0    male  Third  21.0750         0 \n",
            "\n"
          ]
        }
      ]
    },
    {
      "cell_type": "markdown",
      "metadata": {
        "id": "TBPf3XyYV8Cn"
      },
      "source": [
        "**그룹 객체에 연산 메소드를 적용할 수 있다.** grouped 객체의 3개 그룹에 대해 그룹별 평균값을 구해보자. <br> \n",
        "이때 연산이 가능한 열에 대해서만 선택적으로 연산을 수행한다. 따라서 문자열 데이터를 갖는 'sex', 'class' 열은 제외하고 계산한다."
      ]
    },
    {
      "cell_type": "code",
      "metadata": {
        "colab": {
          "base_uri": "https://localhost:8080/"
        },
        "id": "LyT8dbhTZwe-",
        "outputId": "6025a1e4-3d0a-4c4c-b66d-002501d46415"
      },
      "source": [
        "average = grouped.mean()\n",
        "print(average)"
      ],
      "execution_count": null,
      "outputs": [
        {
          "output_type": "stream",
          "name": "stdout",
          "text": [
            "              age       fare  survived\n",
            "class                                 \n",
            "First   38.233441  84.154687  0.629630\n",
            "Second  29.877630  20.662183  0.472826\n",
            "Third   25.140620  13.675550  0.242363\n"
          ]
        }
      ]
    },
    {
      "cell_type": "markdown",
      "metadata": {
        "id": "fjm-HrPKWmcc"
      },
      "source": [
        "**get_group() 메소드**를 적용하면 특정 그룹만 서택할 수 있다."
      ]
    },
    {
      "cell_type": "code",
      "metadata": {
        "colab": {
          "base_uri": "https://localhost:8080/"
        },
        "id": "iICWaGq9aCYG",
        "outputId": "61b2511a-8298-4946-e840-046f39ebd6fc"
      },
      "source": [
        "group3 = grouped.get_group('Third')\n",
        "print(group3.head())"
      ],
      "execution_count": null,
      "outputs": [
        {
          "output_type": "stream",
          "name": "stdout",
          "text": [
            "    age     sex  class     fare  survived\n",
            "0  22.0    male  Third   7.2500         0\n",
            "2  26.0  female  Third   7.9250         1\n",
            "4  35.0    male  Third   8.0500         0\n",
            "5   NaN    male  Third   8.4583         0\n",
            "7   2.0    male  Third  21.0750         0\n"
          ]
        }
      ]
    },
    {
      "cell_type": "markdown",
      "metadata": {
        "id": "NTP5ESQjWsVl"
      },
      "source": [
        "<h4> 여러 열을 기준으로 그룹화 </h4>\n",
        "\n",
        "이번에는 groupby() 메소드에 여러 개의 열을 리스트로 전달해보자. <br> 여러 개의 기준 값을 사용하기 때문에 반환되는 그룹 객체의 인덱스는 **다중 구조**를 갖는다. <br>(멀티 인덱스는 6-6을 참고하자.)\n",
        "\n",
        "* 그룹 연산(분할): DataFrame 객체.groupby(기준이 되는 열의 리스트)\n",
        "\n",
        "groupby() 메소드에 두 열을 인자로 전달하면 **두 열이 갖는 원소 값들로 만들 수 있는 모든 조합으로 키를 생성**한다. 즉, 'class'와 'sex'열을 전달하면 총 6개의 키가 생성된다. 이때 키는 ('First', 'female')과 같이 튜플로 지정된다."
      ]
    },
    {
      "cell_type": "code",
      "metadata": {
        "colab": {
          "base_uri": "https://localhost:8080/"
        },
        "id": "sm1RJRT5aYq9",
        "outputId": "f693baf9-054f-45f7-d084-b6e0b3225bea"
      },
      "source": [
        "grouped_two = df.groupby(['class', 'sex'])\n",
        "\n",
        "for key, group in grouped_two:\n",
        "  print('* key : ', key)\n",
        "  print('* number : ', len(group))\n",
        "  print(group.head(), '\\n')"
      ],
      "execution_count": null,
      "outputs": [
        {
          "output_type": "stream",
          "name": "stdout",
          "text": [
            "* key :  ('First', 'female')\n",
            "* number :  94\n",
            "     age     sex  class      fare  survived\n",
            "1   38.0  female  First   71.2833         1\n",
            "3   35.0  female  First   53.1000         1\n",
            "11  58.0  female  First   26.5500         1\n",
            "31   NaN  female  First  146.5208         1\n",
            "52  49.0  female  First   76.7292         1 \n",
            "\n",
            "* key :  ('First', 'male')\n",
            "* number :  122\n",
            "     age   sex  class      fare  survived\n",
            "6   54.0  male  First   51.8625         0\n",
            "23  28.0  male  First   35.5000         1\n",
            "27  19.0  male  First  263.0000         0\n",
            "30  40.0  male  First   27.7208         0\n",
            "34  28.0  male  First   82.1708         0 \n",
            "\n",
            "* key :  ('Second', 'female')\n",
            "* number :  76\n",
            "     age     sex   class     fare  survived\n",
            "9   14.0  female  Second  30.0708         1\n",
            "15  55.0  female  Second  16.0000         1\n",
            "41  27.0  female  Second  21.0000         0\n",
            "43   3.0  female  Second  41.5792         1\n",
            "53  29.0  female  Second  26.0000         1 \n",
            "\n",
            "* key :  ('Second', 'male')\n",
            "* number :  108\n",
            "     age   sex   class  fare  survived\n",
            "17   NaN  male  Second  13.0         1\n",
            "20  35.0  male  Second  26.0         0\n",
            "21  34.0  male  Second  13.0         1\n",
            "33  66.0  male  Second  10.5         0\n",
            "70  32.0  male  Second  10.5         0 \n",
            "\n",
            "* key :  ('Third', 'female')\n",
            "* number :  144\n",
            "     age     sex  class     fare  survived\n",
            "2   26.0  female  Third   7.9250         1\n",
            "8   27.0  female  Third  11.1333         1\n",
            "10   4.0  female  Third  16.7000         1\n",
            "14  14.0  female  Third   7.8542         0\n",
            "18  31.0  female  Third  18.0000         0 \n",
            "\n",
            "* key :  ('Third', 'male')\n",
            "* number :  347\n",
            "     age   sex  class     fare  survived\n",
            "0   22.0  male  Third   7.2500         0\n",
            "4   35.0  male  Third   8.0500         0\n",
            "5    NaN  male  Third   8.4583         0\n",
            "7    2.0  male  Third  21.0750         0\n",
            "12  20.0  male  Third   8.0500         0 \n",
            "\n"
          ]
        }
      ]
    },
    {
      "cell_type": "markdown",
      "metadata": {
        "id": "xG9C_cjMX_Rt"
      },
      "source": [
        "그룹 객체에 **mean() 메소드**를 적용해보자. <br>\n",
        "이전과 같이 데이터프레임이 반환되며 2중 멀티 인덱스가 지정된다."
      ]
    },
    {
      "cell_type": "code",
      "metadata": {
        "colab": {
          "base_uri": "https://localhost:8080/"
        },
        "id": "PcPmsWBLbFz3",
        "outputId": "c8d6c2e8-1d4e-4688-db85-40a2f59b59ef"
      },
      "source": [
        "average_two = grouped_two.mean()\n",
        "print(average_two, '\\n')\n",
        "print(type(average_two))"
      ],
      "execution_count": null,
      "outputs": [
        {
          "output_type": "stream",
          "name": "stdout",
          "text": [
            "                     age        fare  survived\n",
            "class  sex                                    \n",
            "First  female  34.611765  106.125798  0.968085\n",
            "       male    41.281386   67.226127  0.368852\n",
            "Second female  28.722973   21.970121  0.921053\n",
            "       male    30.740707   19.741782  0.157407\n",
            "Third  female  21.750000   16.118810  0.500000\n",
            "       male    26.507589   12.661633  0.135447 \n",
            "\n",
            "<class 'pandas.core.frame.DataFrame'>\n"
          ]
        }
      ]
    },
    {
      "cell_type": "markdown",
      "metadata": {
        "id": "22pz0iyBaSt1"
      },
      "source": [
        "**get_group() 메소드**를 사용하면 특정 그룹만 골라서 추출할 수 있다. 단, **인자로 전달하는 키는 튜플로 입력**해야한다."
      ]
    },
    {
      "cell_type": "code",
      "metadata": {
        "colab": {
          "base_uri": "https://localhost:8080/"
        },
        "id": "fPFHkAiqbch_",
        "outputId": "2a91e2ec-6053-48f1-a993-d67cd9a5bc3f"
      },
      "source": [
        "group_3f = grouped_two.get_group(('Third', 'female'))\n",
        "print(group_3f.head())"
      ],
      "execution_count": null,
      "outputs": [
        {
          "output_type": "stream",
          "name": "stdout",
          "text": [
            "     age     sex  class     fare  survived\n",
            "2   26.0  female  Third   7.9250         1\n",
            "8   27.0  female  Third  11.1333         1\n",
            "10   4.0  female  Third  16.7000         1\n",
            "14  14.0  female  Third   7.8542         0\n",
            "18  31.0  female  Third  18.0000         0\n"
          ]
        }
      ]
    },
    {
      "cell_type": "markdown",
      "metadata": {
        "id": "F2qUrUb1agZ1"
      },
      "source": [
        "<h3> 그룹 연산 메소드(적용-결합 단계) </h3>\n",
        "<h4> 데이터 집계 </h4>\n",
        "\n",
        "이전에 각 그룹별 평균을 계산한 것처럼 그룹 객체에 다양한 연산을 적용할 수 있다. 이 과정을 **'데이터 집계(aggreagation)'**라고 부른다. <br>\n",
        "집계 기능을 내장하고 있는 판다스 기본 함수에는 mean(), max(), min(), sum(), count(), size(), var(), std(), describe(), info(), first(), last() 등이 있다. \n",
        "\n",
        "* **표준편차 데이터 집계: group 객체.std()**\n",
        "\n",
        "먼저 그룹 별로 표준편차를 계산해보고, 'fare' 열만 따로 표준편차를 집계해보자."
      ]
    },
    {
      "cell_type": "code",
      "metadata": {
        "colab": {
          "base_uri": "https://localhost:8080/"
        },
        "id": "zk2to8DHcB9f",
        "outputId": "23895017-c128-4d59-db3f-d96741cf861d"
      },
      "source": [
        "grouped = df.groupby('class')\n",
        "\n",
        "std_all = grouped.std()\n",
        "print(std_all, '\\n')\n",
        "print(type(std_all), '\\n')\n",
        "\n",
        "std_fare = grouped.fare.std()\n",
        "print(std_fare, '\\n')\n",
        "print(type(std_fare))"
      ],
      "execution_count": null,
      "outputs": [
        {
          "output_type": "stream",
          "name": "stdout",
          "text": [
            "              age       fare  survived\n",
            "class                                 \n",
            "First   14.802856  78.380373  0.484026\n",
            "Second  14.001077  13.417399  0.500623\n",
            "Third   12.495398  11.778142  0.428949 \n",
            "\n",
            "<class 'pandas.core.frame.DataFrame'> \n",
            "\n",
            "class\n",
            "First     78.380373\n",
            "Second    13.417399\n",
            "Third     11.778142\n",
            "Name: fare, dtype: float64 \n",
            "\n",
            "<class 'pandas.core.series.Series'>\n"
          ]
        }
      ]
    },
    {
      "cell_type": "markdown",
      "metadata": {
        "id": "4pDlrIGWbrHP"
      },
      "source": [
        "agg() 메소드를 사용하면 사용자 정의 함수를 그룹 함수에 적용할 수 있다. \n",
        "\n",
        "* **agg() 메소드 데이터 집계: group 객체.agg(매핑 함수)**\n",
        "\n",
        "최대값과 최소값의 차를 계산하는 함수를 정의해 사용해보자.\n",
        "\n",
        "* 최대값과 최소값의 차를 계산하면 데이터의 분포 범위를 알 수 있다."
      ]
    },
    {
      "cell_type": "code",
      "metadata": {
        "colab": {
          "base_uri": "https://localhost:8080/"
        },
        "id": "IXikB6gHc8gH",
        "outputId": "2954d837-73bb-4f27-a696-288a0841a450"
      },
      "source": [
        "def min_max(x):\n",
        "  # 최대값 - 최솟값\n",
        "  return x.max() - x.min()\n",
        "\n",
        "agg_minmax = grouped.agg(min_max)\n",
        "print(agg_minmax.head())"
      ],
      "execution_count": null,
      "outputs": [
        {
          "output_type": "stream",
          "name": "stdout",
          "text": [
            "          age      fare  survived\n",
            "class                            \n",
            "First   79.08  512.3292         1\n",
            "Second  69.33   73.5000         1\n",
            "Third   73.58   69.5500         1\n"
          ]
        }
      ]
    },
    {
      "cell_type": "markdown",
      "metadata": {
        "id": "R776oD_gcAQ1"
      },
      "source": [
        "동시에 여러 개의 함수를 사용하여 각 그룹별 데이터에 대한 집계 연산을 처리할 수 있다. <br>\n",
        "각각의 열에 여러 개의 함수를 일괄 적용할 때는 리스트로 인수를 전달하고, 열마다 다른 종류의 함수를 적용하려면 딕셔너리를 전달한다.\n",
        "\n",
        "* **모든 열에 여러 함수를 매핑: group 객체.agg([함수1, 함수, 함수3, ...])**\n",
        "* **각 열마다 다른 함수를 매핑: group 객체.agg({'열1': 함수1, '열2': 함수2, ...})**\n",
        "\n",
        "먼저 min, max 함수를 모든 열에 적용해보자. 그리고 'fare'열에는 min, max 함수, 'age'열에는 mean 함수를 적용해보자. <br>\n",
        "2개의 함수를 리스트 형태로 입력하면 각 열에 대해 2개의 함수의 연산 결과를 각각 집계해 다른 열로 구분하여 표시한다. <br> 이때 함수명을 열 이름에 추가해 2중 열 구조를 만든다."
      ]
    },
    {
      "cell_type": "code",
      "metadata": {
        "colab": {
          "base_uri": "https://localhost:8080/"
        },
        "id": "DuuQOf_HdjPv",
        "outputId": "9bd8b3f7-a8b1-4ae4-d946-831095de15cd"
      },
      "source": [
        "agg_all = grouped.agg(['min', 'max'])\n",
        "print(agg_all.head(), '\\n')\n",
        "\n",
        "agg_sep = grouped.agg({'fare': ['min', 'max'], 'age':'mean'})\n",
        "print(agg_sep.head())"
      ],
      "execution_count": null,
      "outputs": [
        {
          "output_type": "stream",
          "name": "stdout",
          "text": [
            "         age           sex       fare           survived    \n",
            "         min   max     min   max  min       max      min max\n",
            "class                                                       \n",
            "First   0.92  80.0  female  male  0.0  512.3292        0   1\n",
            "Second  0.67  70.0  female  male  0.0   73.5000        0   1\n",
            "Third   0.42  74.0  female  male  0.0   69.5500        0   1 \n",
            "\n",
            "       fare                  age\n",
            "        min       max       mean\n",
            "class                           \n",
            "First   0.0  512.3292  38.233441\n",
            "Second  0.0   73.5000  29.877630\n",
            "Third   0.0   69.5500  25.140620\n"
          ]
        }
      ]
    },
    {
      "cell_type": "markdown",
      "metadata": {
        "id": "hHYMLM3aerH_"
      },
      "source": [
        "<h4> 그룹 연산 데이터 변환 </h4>\n",
        "\n",
        "agg() 메소드는 각 그룹별 데이터에 함수를 구분 적용하고, 그룹별로 연산 결과를 집계한다. **transform() 메소드**는 그룹별로 구분하여 각 원소에 함수를 적용하지만 그룹별 집계 대신 각 원소의 본래 행 인덱스와 열 이름을 기준으로 연산 결과를 반환한다. 즉, 원본 데이터프레임과 같은 형태로 변형하여 정리한다.\n",
        "\n",
        "* **데이터 변환 연산: group 객체.transform(매핑 함수)**\n",
        "\n",
        "'age'열에 포함된 개별 데이터의 z-score를 구해보자."
      ]
    },
    {
      "cell_type": "code",
      "metadata": {
        "id": "Yqx_M63Debyo",
        "colab": {
          "base_uri": "https://localhost:8080/"
        },
        "outputId": "80af4d0d-5f0d-4f90-c0af-6b86f0fcd1d1"
      },
      "source": [
        "age_mean = grouped.age.mean()\n",
        "print(age_mean, '\\n')\n",
        "\n",
        "age_std = grouped.age.std()\n",
        "print(age_std, '\\n')\n",
        "\n",
        "for key, group in grouped.age:\n",
        "  group_zscore = (group - age_mean.loc[key]) / age_std.loc[key]\n",
        "  print('* origin: ', key)\n",
        "  print(group_zscore.head(3), '\\n')"
      ],
      "execution_count": null,
      "outputs": [
        {
          "output_type": "stream",
          "name": "stdout",
          "text": [
            "class\n",
            "First     38.233441\n",
            "Second    29.877630\n",
            "Third     25.140620\n",
            "Name: age, dtype: float64 \n",
            "\n",
            "class\n",
            "First     14.802856\n",
            "Second    14.001077\n",
            "Third     12.495398\n",
            "Name: age, dtype: float64 \n",
            "\n",
            "* origin:  First\n",
            "1   -0.015770\n",
            "3   -0.218434\n",
            "6    1.065103\n",
            "Name: age, dtype: float64 \n",
            "\n",
            "* origin:  Second\n",
            "9    -1.134029\n",
            "15    1.794317\n",
            "17         NaN\n",
            "Name: age, dtype: float64 \n",
            "\n",
            "* origin:  Third\n",
            "0   -0.251342\n",
            "2    0.068776\n",
            "4    0.789041\n",
            "Name: age, dtype: float64 \n",
            "\n"
          ]
        }
      ]
    },
    {
      "cell_type": "markdown",
      "metadata": {
        "id": "8yX6pUJHlvYQ"
      },
      "source": [
        "이번에는 transfrom() 메소드를 사용해보자. z-score를 계산하는 사용자 함수를 정의하고 transform() 메소드의 인자로 전달하자."
      ]
    },
    {
      "cell_type": "code",
      "metadata": {
        "colab": {
          "base_uri": "https://localhost:8080/"
        },
        "id": "lQl8zvFSyuIv",
        "outputId": "7360b7c4-aa61-4649-f072-6b9bef916321"
      },
      "source": [
        "def z_score(x):\n",
        "  return (x - x.mean()) / x.std()\n",
        "\n",
        "age_zscore = grouped.age.transform(z_score)\n",
        "print(age_zscore.loc[[1, 9, 0]], '\\n')\n",
        "print(len(age_zscore), '\\n')\n",
        "print(age_zscore.loc[0:9], '\\n')\n",
        "print(type(age_zscore))"
      ],
      "execution_count": null,
      "outputs": [
        {
          "output_type": "stream",
          "name": "stdout",
          "text": [
            "1   -0.015770\n",
            "9   -1.134029\n",
            "0   -0.251342\n",
            "Name: age, dtype: float64 \n",
            "\n",
            "891 \n",
            "\n",
            "0   -0.251342\n",
            "1   -0.015770\n",
            "2    0.068776\n",
            "3   -0.218434\n",
            "4    0.789041\n",
            "5         NaN\n",
            "6    1.065103\n",
            "7   -1.851931\n",
            "8    0.148805\n",
            "9   -1.134029\n",
            "Name: age, dtype: float64 \n",
            "\n",
            "<class 'pandas.core.series.Series'>\n"
          ]
        }
      ]
    },
    {
      "cell_type": "markdown",
      "metadata": {
        "id": "igBantZxl-EL"
      },
      "source": [
        "<h4> 그룹 객체 필터링 </h4>\n",
        "\n",
        "**filter() 메소드**를 적용해 **조건식을 가진 함수**를 전달하면 조건이 참인 그룹만 남긴다.\n",
        "\n",
        "* **그룹 객체 필터링: group 객체.filter(조건식 함수)**\n",
        "\n",
        "데이터 개수가 200개 이상인 그룹만 필터링해보자."
      ]
    },
    {
      "cell_type": "code",
      "metadata": {
        "colab": {
          "base_uri": "https://localhost:8080/"
        },
        "id": "4Ja1Gfjsz6ex",
        "outputId": "6cb52a99-01a5-441f-d9a8-ee1a2d33d635"
      },
      "source": [
        "grouped_filter = grouped.filter(lambda x: len(x) >= 200)\n",
        "print(grouped_filter.head(), '\\n')\n",
        "print(type(grouped_filter))"
      ],
      "execution_count": null,
      "outputs": [
        {
          "output_type": "stream",
          "name": "stdout",
          "text": [
            "    age     sex  class     fare  survived\n",
            "0  22.0    male  Third   7.2500         0\n",
            "1  38.0  female  First  71.2833         1\n",
            "2  26.0  female  Third   7.9250         1\n",
            "3  35.0  female  First  53.1000         1\n",
            "4  35.0    male  Third   8.0500         0 \n",
            "\n",
            "<class 'pandas.core.frame.DataFrame'>\n"
          ]
        }
      ]
    },
    {
      "cell_type": "markdown",
      "metadata": {
        "id": "m3Mn4MHhmj2L"
      },
      "source": [
        "'age'열의 평균값이 30보다 작은 그룹만 선택해보자."
      ]
    },
    {
      "cell_type": "code",
      "metadata": {
        "colab": {
          "base_uri": "https://localhost:8080/"
        },
        "id": "ykpWaGg-0eEG",
        "outputId": "c30cea60-a9df-413a-8de2-51901275fd55"
      },
      "source": [
        "age_filter = grouped.filter(lambda x: x.age.mean() < 30)\n",
        "print(age_filter.tail(), '\\n')\n",
        "print(type(age_filter))"
      ],
      "execution_count": null,
      "outputs": [
        {
          "output_type": "stream",
          "name": "stdout",
          "text": [
            "      age     sex   class    fare  survived\n",
            "884  25.0    male   Third   7.050         0\n",
            "885  39.0  female   Third  29.125         0\n",
            "886  27.0    male  Second  13.000         0\n",
            "888   NaN  female   Third  23.450         0\n",
            "890  32.0    male   Third   7.750         0 \n",
            "\n",
            "<class 'pandas.core.frame.DataFrame'>\n"
          ]
        }
      ]
    },
    {
      "cell_type": "markdown",
      "metadata": {
        "id": "HYM1a200msmA"
      },
      "source": [
        "<h4> 그룹 객체에 함수 매핑 </h4>\n",
        "\n",
        "apply() 메소드는 판다스 객체의 개별 원소를 특정 함수에 일대일로 매핑한다. \n",
        "\n",
        "* **범용 메소드: group 객체.apply(매핑 함수)**\n",
        "\n",
        "그룹별로 describe() 메소드를 적용해보자."
      ]
    },
    {
      "cell_type": "code",
      "metadata": {
        "colab": {
          "base_uri": "https://localhost:8080/"
        },
        "id": "rQ6BWko305eO",
        "outputId": "35950c20-4a75-4c0d-dffc-f65353cc9410"
      },
      "source": [
        "agg_grouped = grouped.apply(lambda x: x.describe())\n",
        "print(agg_grouped)"
      ],
      "execution_count": null,
      "outputs": [
        {
          "output_type": "stream",
          "name": "stdout",
          "text": [
            "                     age        fare    survived\n",
            "class                                           \n",
            "First  count  186.000000  216.000000  216.000000\n",
            "       mean    38.233441   84.154687    0.629630\n",
            "       std     14.802856   78.380373    0.484026\n",
            "       min      0.920000    0.000000    0.000000\n",
            "       25%     27.000000   30.923950    0.000000\n",
            "       50%     37.000000   60.287500    1.000000\n",
            "       75%     49.000000   93.500000    1.000000\n",
            "       max     80.000000  512.329200    1.000000\n",
            "Second count  173.000000  184.000000  184.000000\n",
            "       mean    29.877630   20.662183    0.472826\n",
            "       std     14.001077   13.417399    0.500623\n",
            "       min      0.670000    0.000000    0.000000\n",
            "       25%     23.000000   13.000000    0.000000\n",
            "       50%     29.000000   14.250000    0.000000\n",
            "       75%     36.000000   26.000000    1.000000\n",
            "       max     70.000000   73.500000    1.000000\n",
            "Third  count  355.000000  491.000000  491.000000\n",
            "       mean    25.140620   13.675550    0.242363\n",
            "       std     12.495398   11.778142    0.428949\n",
            "       min      0.420000    0.000000    0.000000\n",
            "       25%     18.000000    7.750000    0.000000\n",
            "       50%     24.000000    8.050000    0.000000\n",
            "       75%     32.000000   15.500000    0.000000\n",
            "       max     74.000000   69.550000    1.000000\n"
          ]
        }
      ]
    },
    {
      "cell_type": "markdown",
      "metadata": {
        "id": "GdueelqCnHfo"
      },
      "source": [
        "z-score를 계산하는 사용자 정의 함수를 사용해보자."
      ]
    },
    {
      "cell_type": "code",
      "metadata": {
        "colab": {
          "base_uri": "https://localhost:8080/"
        },
        "id": "J1X40eSM1hGX",
        "outputId": "6500ea55-6ea8-4fd5-82c4-a1409131928c"
      },
      "source": [
        "def z_score(x):\n",
        "  return (x - x.mean()) / x.std()\n",
        "\n",
        "age_zscore = grouped.age.apply(z_score) # axis 기본값은 0이다.\n",
        "print(age_zscore.head())"
      ],
      "execution_count": null,
      "outputs": [
        {
          "output_type": "stream",
          "name": "stdout",
          "text": [
            "0   -0.251342\n",
            "1   -0.015770\n",
            "2    0.068776\n",
            "3   -0.218434\n",
            "4    0.789041\n",
            "Name: age, dtype: float64\n"
          ]
        }
      ]
    },
    {
      "cell_type": "markdown",
      "metadata": {
        "id": "wqnNJyixnN_p"
      },
      "source": [
        "'age'열의 평균값이 30보다 작은 그룹을 판별해보자."
      ]
    },
    {
      "cell_type": "code",
      "metadata": {
        "colab": {
          "base_uri": "https://localhost:8080/"
        },
        "id": "vgvwr89413WW",
        "outputId": "3d75a81f-ec5c-4db1-976e-e6610f05bd66"
      },
      "source": [
        "age_filter = grouped.apply(lambda x: x.age.mean() < 30)\n",
        "print(age_filter)\n",
        "print('\\n')\n",
        "\n",
        "for x in age_filter.index:\n",
        "  if age_filter[x] == True:\n",
        "    age_filter_df = grouped.get_group(x)\n",
        "    print(age_filter_df.head())\n",
        "    print('\\n')"
      ],
      "execution_count": null,
      "outputs": [
        {
          "output_type": "stream",
          "name": "stdout",
          "text": [
            "class\n",
            "First     False\n",
            "Second     True\n",
            "Third      True\n",
            "dtype: bool\n",
            "\n",
            "\n",
            "     age     sex   class     fare  survived\n",
            "9   14.0  female  Second  30.0708         1\n",
            "15  55.0  female  Second  16.0000         1\n",
            "17   NaN    male  Second  13.0000         1\n",
            "20  35.0    male  Second  26.0000         0\n",
            "21  34.0    male  Second  13.0000         1\n",
            "\n",
            "\n",
            "    age     sex  class     fare  survived\n",
            "0  22.0    male  Third   7.2500         0\n",
            "2  26.0  female  Third   7.9250         1\n",
            "4  35.0    male  Third   8.0500         0\n",
            "5   NaN    male  Third   8.4583         0\n",
            "7   2.0    male  Third  21.0750         0\n",
            "\n",
            "\n"
          ]
        }
      ]
    }
  ]
}