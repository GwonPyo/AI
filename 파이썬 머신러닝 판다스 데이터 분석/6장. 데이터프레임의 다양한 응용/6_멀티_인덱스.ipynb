{
  "nbformat": 4,
  "nbformat_minor": 0,
  "metadata": {
    "colab": {
      "name": "6. 멀티 인덱스.ipynb",
      "provenance": [],
      "collapsed_sections": []
    },
    "kernelspec": {
      "name": "python3",
      "display_name": "Python 3"
    },
    "language_info": {
      "name": "python"
    }
  },
  "cells": [
    {
      "cell_type": "markdown",
      "metadata": {
        "id": "ggHDlCx6nyAK"
      },
      "source": [
        "판다스는  행 인덱스를 여러 레벨로 구현할 수 있도록 멀티 인덱스 클래스를 지원한다. <br>\n",
        "먼저 'class', 'sex' 열을 기준으로 데이터를 나눠보자."
      ]
    },
    {
      "cell_type": "code",
      "metadata": {
        "colab": {
          "base_uri": "https://localhost:8080/"
        },
        "id": "7fdHRwTG2y3_",
        "outputId": "b4471d9b-ff09-4bfc-ab04-04073e697341"
      },
      "source": [
        "import pandas as pd\n",
        "import seaborn as sns\n",
        "\n",
        "titanic = sns.load_dataset('titanic')\n",
        "df = titanic.loc[:, ['age', 'sex', 'class', 'fare', 'survived']]\n",
        "\n",
        "grouped = df.groupby(['class', 'sex'])\n",
        "\n",
        "gdf = grouped.mean()\n",
        "print(gdf, '\\n')\n",
        "print(type(gdf))"
      ],
      "execution_count": null,
      "outputs": [
        {
          "output_type": "stream",
          "name": "stdout",
          "text": [
            "                     age        fare  survived\n",
            "class  sex                                    \n",
            "First  female  34.611765  106.125798  0.968085\n",
            "       male    41.281386   67.226127  0.368852\n",
            "Second female  28.722973   21.970121  0.921053\n",
            "       male    30.740707   19.741782  0.157407\n",
            "Third  female  21.750000   16.118810  0.500000\n",
            "       male    26.507589   12.661633  0.135447 \n",
            "\n",
            "<class 'pandas.core.frame.DataFrame'>\n"
          ]
        }
      ]
    },
    {
      "cell_type": "markdown",
      "metadata": {
        "id": "R0ZbrdCRn33Z"
      },
      "source": [
        "**하나의 인덱스만 사용**해보자."
      ]
    },
    {
      "cell_type": "code",
      "metadata": {
        "colab": {
          "base_uri": "https://localhost:8080/"
        },
        "id": "wGbkWykA3YFQ",
        "outputId": "e6e76dc4-21d5-4e15-aabb-ba1b5cfc292a"
      },
      "source": [
        "print(gdf.loc['First'])"
      ],
      "execution_count": null,
      "outputs": [
        {
          "output_type": "stream",
          "name": "stdout",
          "text": [
            "              age        fare  survived\n",
            "sex                                    \n",
            "female  34.611765  106.125798  0.968085\n",
            "male    41.281386   67.226127  0.368852\n"
          ]
        }
      ]
    },
    {
      "cell_type": "markdown",
      "metadata": {
        "id": "0uJQd4hioAF5"
      },
      "source": [
        "**두 개의 인덱스를 사용**해보자. 단, 튜플 형태로 입력해야한다."
      ]
    },
    {
      "cell_type": "code",
      "metadata": {
        "colab": {
          "base_uri": "https://localhost:8080/"
        },
        "id": "KEcVzy66DGb8",
        "outputId": "938507d7-ac32-493f-9fc9-7dc7677b72fd"
      },
      "source": [
        "print(gdf.loc[('First', 'female')])"
      ],
      "execution_count": null,
      "outputs": [
        {
          "output_type": "stream",
          "name": "stdout",
          "text": [
            "age          34.611765\n",
            "fare        106.125798\n",
            "survived      0.968085\n",
            "Name: (First, female), dtype: float64\n"
          ]
        }
      ]
    },
    {
      "cell_type": "markdown",
      "metadata": {
        "id": "nATfm5dvoJm5"
      },
      "source": [
        "위의 loc 인덱서 대신 **xs 인덱서**를 사용할 수 있다. 'sex' 인덱스에서 'male' 값을 갖는 행을 추출해보자."
      ]
    },
    {
      "cell_type": "code",
      "metadata": {
        "colab": {
          "base_uri": "https://localhost:8080/"
        },
        "id": "4pJjfcsVDoz7",
        "outputId": "a095c523-e437-41e9-d58e-62cab6c777e7"
      },
      "source": [
        "print(gdf.xs('male', level = 'sex'))"
      ],
      "execution_count": null,
      "outputs": [
        {
          "output_type": "stream",
          "name": "stdout",
          "text": [
            "              age       fare  survived\n",
            "class                                 \n",
            "First   41.281386  67.226127  0.368852\n",
            "Second  30.740707  19.741782  0.157407\n",
            "Third   26.507589  12.661633  0.135447\n"
          ]
        }
      ]
    }
  ]
}