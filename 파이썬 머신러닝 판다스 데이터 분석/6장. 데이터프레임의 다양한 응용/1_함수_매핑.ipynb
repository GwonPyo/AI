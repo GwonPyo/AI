{
  "nbformat": 4,
  "nbformat_minor": 0,
  "metadata": {
    "colab": {
      "name": "1. 함수 매핑.ipynb",
      "provenance": [],
      "collapsed_sections": []
    },
    "kernelspec": {
      "name": "python3",
      "display_name": "Python 3"
    },
    "language_info": {
      "name": "python"
    }
  },
  "cells": [
    {
      "cell_type": "markdown",
      "metadata": {
        "id": "nrb_BBkG3-78"
      },
      "source": [
        "함수 매핑이란 시리즈 또는 데이터프레임의 개별 원소를 특정 함수에 일대일 대응시키는 과정을 의미한다. 사용자 함수를 적용할 수 있어 판다스 기본함수로 처리하기 힘든 연산을 판다스 객체에 적용할 수 있다.\n",
        "\n",
        "<h3> 개별 원소에 함수 매핑 </h3>\n",
        "<h4> 시리즈 원소에 함수 매핑 </h4>\n",
        "\n",
        "시리즈 객체에 **apply() 메소드**를 적용하면 인자로 전달하는 매핑 함수에 시리즈의 모든 원소를 하나씩 입력하고 함수의 리턴값을 돌려받는다. 시리즈 원소의 개수만큼 리턴값을 받아서 같은 크기의 시리즈 객체로 반환한다.\n",
        "\n",
        "* **시리즈 원소에 함수 매핑: Series 객체.apply(매핑함수)**\n",
        "\n",
        "먼저 seaborn 라이브러리의 titanic 데이터셋을 가져오자."
      ]
    },
    {
      "cell_type": "code",
      "metadata": {
        "colab": {
          "base_uri": "https://localhost:8080/"
        },
        "id": "gbd76weHxQFb",
        "outputId": "963244e6-aa38-4061-e3a2-fd588e7d96a2"
      },
      "source": [
        "import seaborn as sns\n",
        "\n",
        "titanic = sns.load_dataset('titanic')\n",
        "df = titanic.loc[:, ['age', 'fare']]\n",
        "df['ten'] = 10\n",
        "print(df.head())"
      ],
      "execution_count": null,
      "outputs": [
        {
          "output_type": "stream",
          "name": "stdout",
          "text": [
            "    age     fare  ten\n",
            "0  22.0   7.2500   10\n",
            "1  38.0  71.2833   10\n",
            "2  26.0   7.9250   10\n",
            "3  35.0  53.1000   10\n",
            "4  35.0   8.0500   10\n"
          ]
        }
      ]
    },
    {
      "cell_type": "markdown",
      "metadata": {
        "id": "BPOqASfd48Y0"
      },
      "source": [
        "매핑할 사용자 함수 2개를 제작하자."
      ]
    },
    {
      "cell_type": "code",
      "metadata": {
        "colab": {
          "base_uri": "https://localhost:8080/"
        },
        "id": "FFBgmQeOx2gq",
        "outputId": "60babef0-fb17-44cb-8f94-0878f465eb90"
      },
      "source": [
        "def add_10(n):\n",
        "  return n + 10\n",
        "\n",
        "def add_two_obj(a, b):\n",
        "  return a + b\n",
        "\n",
        "print(add_10(10))\n",
        "print(add_two_obj(10, 10))"
      ],
      "execution_count": null,
      "outputs": [
        {
          "output_type": "stream",
          "name": "stdout",
          "text": [
            "20\n",
            "20\n"
          ]
        }
      ]
    },
    {
      "cell_type": "markdown",
      "metadata": {
        "id": "OksxffB25BiU"
      },
      "source": [
        "df의 'age'열을 이용해 apply() 메소드를 적용해보자. <br>\n",
        "lambda 함수 역시 사용자 함수이므로 apply() 메소드의 인자로 전달할 수 있다."
      ]
    },
    {
      "cell_type": "code",
      "metadata": {
        "colab": {
          "base_uri": "https://localhost:8080/"
        },
        "id": "2JhuKUxVyHHQ",
        "outputId": "62280184-177f-41ad-bba6-728f513fb3f1"
      },
      "source": [
        "sr1 = df['age'].apply(add_10) # n = df['age']의 모든 원소\n",
        "print(sr1.head())\n",
        "print('\\n')\n",
        "\n",
        "sr2 = df['age'].apply(add_two_obj, b = 10) # n = df['age']의 모든 원소, b = 10\n",
        "print(sr2.head())\n",
        "print('\\n')\n",
        "\n",
        "sr3 = df['age'].apply(lambda x: add_10(x)) # x = df['age']\n",
        "print(sr3.head())"
      ],
      "execution_count": null,
      "outputs": [
        {
          "output_type": "stream",
          "name": "stdout",
          "text": [
            "0    32.0\n",
            "1    48.0\n",
            "2    36.0\n",
            "3    45.0\n",
            "4    45.0\n",
            "Name: age, dtype: float64\n",
            "\n",
            "\n",
            "0    32.0\n",
            "1    48.0\n",
            "2    36.0\n",
            "3    45.0\n",
            "4    45.0\n",
            "Name: age, dtype: float64\n",
            "\n",
            "\n",
            "0    32.0\n",
            "1    48.0\n",
            "2    36.0\n",
            "3    45.0\n",
            "4    45.0\n",
            "Name: age, dtype: float64\n"
          ]
        }
      ]
    },
    {
      "cell_type": "markdown",
      "metadata": {
        "id": "45SJEUNj5Qcc"
      },
      "source": [
        "<h4> 데이터프레임 원소에 함수 매핑 </h4>\n",
        "\n",
        "데이터프레임의 개별 원소에 특정 함수를 매핑하려면 **applymap() 메소드**를 사용한다. 매핑 함수에 데이터프레임의 각 원소를 하나씩 넣어 리턴값으로 돌려받는다. 원소의 원래 위치에 리턴값을 입력해 동일한 형태의 데이터프레임이 만들어진다. \n",
        "\n",
        "* **데이터프레임 원소에 함수 매핑: DataFrame 객체.applymap(매핑 함수)**\n",
        "\n",
        "'age'와 'fare'열로 구성된 데이터프레임에 applymap() 메소드를 사용해보자."
      ]
    },
    {
      "cell_type": "code",
      "metadata": {
        "colab": {
          "base_uri": "https://localhost:8080/"
        },
        "id": "Nv1x8tNuy1po",
        "outputId": "cf1be3e3-07bb-408e-c65a-206d2219a289"
      },
      "source": [
        "df = titanic.loc[:, ['age', 'fare']]\n",
        "print(df.head())\n",
        "print('\\n')\n",
        "\n",
        "df_map = df.applymap(add_10)\n",
        "print(df_map.head())"
      ],
      "execution_count": null,
      "outputs": [
        {
          "output_type": "stream",
          "name": "stdout",
          "text": [
            "    age     fare\n",
            "0  22.0   7.2500\n",
            "1  38.0  71.2833\n",
            "2  26.0   7.9250\n",
            "3  35.0  53.1000\n",
            "4  35.0   8.0500\n",
            "\n",
            "\n",
            "    age     fare\n",
            "0  32.0  17.2500\n",
            "1  48.0  81.2833\n",
            "2  36.0  17.9250\n",
            "3  45.0  63.1000\n",
            "4  45.0  18.0500\n"
          ]
        }
      ]
    },
    {
      "cell_type": "markdown",
      "metadata": {
        "id": "p2xiE5GW6AY8"
      },
      "source": [
        "<h3> 시리즈 객체에 함수 매핑 </h3>\n",
        "<h4> 데이터프레임의 각 열에 함수 매핑 </h4>\n",
        "\n",
        "데이터프레임에 **apply(axis = 0) 메소드**를 적용하면 모든 열을 하나씩 분리해 매핑 함수의 인자로 각 열(시리즈)이 전달된다. 매핑 함수에 따라 반환되는 객체의 종류가 다르다. \n",
        "\n",
        "* **데이터프레임의 열에 함수 매핑: DataFrame 객체.apply(매핑 함수, axis = 0)**\n",
        "\n",
        "시리즈를 입력받고 시리즈를 반환하는 함수를 매핑하면, 데이터프레임을 반환한다. <br>\n",
        "시리즈를 인자로 받고 시리즈를 반환하는 missing_value() 함수를 만들어 apply() 메소드를 사용해보자. \n",
        "\n",
        "* apply() 메소드의 axis 기본값은 0이다. 따라서 굳이 axis 값을 설정할 필요는 없다."
      ]
    },
    {
      "cell_type": "code",
      "metadata": {
        "colab": {
          "base_uri": "https://localhost:8080/"
        },
        "id": "sNXUeYWZ1ZUp",
        "outputId": "e35c475f-077b-430a-fc02-e30e1c1fda98"
      },
      "source": [
        "df = titanic.loc[:, ['age', 'fare']]\n",
        "print(df.head())\n",
        "print('\\n')\n",
        "\n",
        "def missing_value(series):\n",
        "  return series.isnull()\n",
        "\n",
        "result = df.apply(missing_value, axis = 0)\n",
        "print(result.head())\n",
        "print('\\n')\n",
        "print(type(result))\n",
        "\n",
        "result = df.apply(missing_value)\n",
        "print(result.head())\n",
        "print('\\n')\n",
        "print(type(result))"
      ],
      "execution_count": null,
      "outputs": [
        {
          "output_type": "stream",
          "name": "stdout",
          "text": [
            "    age     fare\n",
            "0  22.0   7.2500\n",
            "1  38.0  71.2833\n",
            "2  26.0   7.9250\n",
            "3  35.0  53.1000\n",
            "4  35.0   8.0500\n",
            "\n",
            "\n",
            "     age   fare\n",
            "0  False  False\n",
            "1  False  False\n",
            "2  False  False\n",
            "3  False  False\n",
            "4  False  False\n",
            "\n",
            "\n",
            "<class 'pandas.core.frame.DataFrame'>\n",
            "     age   fare\n",
            "0  False  False\n",
            "1  False  False\n",
            "2  False  False\n",
            "3  False  False\n",
            "4  False  False\n",
            "\n",
            "\n",
            "<class 'pandas.core.frame.DataFrame'>\n"
          ]
        }
      ]
    },
    {
      "cell_type": "markdown",
      "metadata": {
        "id": "AU6QqeIU66nd"
      },
      "source": [
        "시리즈를 입력받아서 하나의 값을 반환하는 함수를 매핑하면 시리즈를 반환한다. 이때 각 열의 이름이 시리즈의 인덱스가 된다. <br>\n",
        "시리즈의 최대값과 최솟값의 차이를 계산해주는 함수 min_max() 를 만들고 apply() 메소드를 적용해보자."
      ]
    },
    {
      "cell_type": "code",
      "metadata": {
        "colab": {
          "base_uri": "https://localhost:8080/"
        },
        "id": "jx7YYYXV2vb5",
        "outputId": "e58a73f3-dc55-4a90-eaaf-c791961aa807"
      },
      "source": [
        "def min_max(series):\n",
        "  return series.max() - series.min()\n",
        "\n",
        "result = df.apply(min_max)\n",
        "print(result)\n",
        "print('\\n')\n",
        "print(type(result))"
      ],
      "execution_count": null,
      "outputs": [
        {
          "output_type": "stream",
          "name": "stdout",
          "text": [
            "age      79.5800\n",
            "fare    512.3292\n",
            "dtype: float64\n",
            "\n",
            "\n",
            "<class 'pandas.core.series.Series'>\n"
          ]
        }
      ]
    },
    {
      "cell_type": "markdown",
      "metadata": {
        "id": "qW8CcN1J7exU"
      },
      "source": [
        "<h4> 데이터프레임의 각 행에 함수 매핑 </h4>\n",
        "\n",
        "데이터프레임 객체에 **(axis = 1) 메소드**를 적용하면 데이터프레임의 각 행을 매핑 함수의 인자로 전달한다. 데이터프레임의 행 인덱스가 매핑 결과로 반환되는 시리즈의 인덱스가 된다.\n",
        "\n",
        "* **데이터프레임의 행에 함수 매핑: DataFrame 객체.apply(매핑 함수, axis = 1)**\n",
        "\n",
        "행이 동일한 'age'와 'ten'의 데이터를 더해보자."
      ]
    },
    {
      "cell_type": "code",
      "metadata": {
        "colab": {
          "base_uri": "https://localhost:8080/"
        },
        "id": "THIvYX2h3-Hx",
        "outputId": "22fa59aa-b3a0-4fa4-abb4-5c0b07c63006"
      },
      "source": [
        "df = titanic.loc[:, ['age', 'fare']]\n",
        "df['ten'] = 10\n",
        "print(df.head())\n",
        "print('\\n')\n",
        "\n",
        "def add_two_obj(a, b):\n",
        "  return a + b\n",
        "\n",
        "df['add'] = df.apply(lambda x: add_two_obj(x['age'], x['ten']), axis = 1)\n",
        "print(df.head())"
      ],
      "execution_count": null,
      "outputs": [
        {
          "output_type": "stream",
          "name": "stdout",
          "text": [
            "    age     fare  ten\n",
            "0  22.0   7.2500   10\n",
            "1  38.0  71.2833   10\n",
            "2  26.0   7.9250   10\n",
            "3  35.0  53.1000   10\n",
            "4  35.0   8.0500   10\n",
            "\n",
            "\n",
            "    age     fare  ten   add\n",
            "0  22.0   7.2500   10  32.0\n",
            "1  38.0  71.2833   10  48.0\n",
            "2  26.0   7.9250   10  36.0\n",
            "3  35.0  53.1000   10  45.0\n",
            "4  35.0   8.0500   10  45.0\n"
          ]
        }
      ]
    },
    {
      "cell_type": "markdown",
      "metadata": {
        "id": "pg5YwfMJ8l11"
      },
      "source": [
        "<h3> 데이터프레임 객체에 함수 매핑 </h3>\n",
        "\n",
        "데이터프레임 객체를 함수에 매핑하려면 pipe() 함수를 사용할 수 있다. 사용하는 함수가 반환하는 리턴값에 따라 반환하는 객체의 종류가 달라진다. 데이터프레임, 시리즈, 개별 값을 반환할 수 있다.\n",
        "\n",
        "* **데이터프레임 객체에 함수 매핑: DataFrame 객체.pipe(매핑 함수)**\n",
        "\n",
        "먼저 데이터프레임을 인자로 받아 데이터프레임, 시리즈, 개별 값을 반환하는 3가지 사용자 함수를 만들어보자."
      ]
    },
    {
      "cell_type": "code",
      "metadata": {
        "id": "4uOhIJl34US5"
      },
      "source": [
        "df = titanic.loc[:, ['age', 'fare']]\n",
        "\n",
        "# 각 열의 NaN값을 찾는다.\n",
        "def missing_value(x):\n",
        "  return x.isnull()\n",
        "\n",
        "# 각 열의 NaN값 개수를 반환한다.\n",
        "def missing_count(x):\n",
        "  return missing_value(x).sum()\n",
        "\n",
        "# 데이터프레임의 총 NaN값 개수를 반환한다.\n",
        "def total_number_missing(x):\n",
        "  return missing_count(x).sum()"
      ],
      "execution_count": null,
      "outputs": []
    },
    {
      "cell_type": "markdown",
      "metadata": {
        "id": "ihg-pvf89KDF"
      },
      "source": [
        "pipe() 함수를 이용해 모든 함수를 매핑해보면 각각 데이터프레임, 시리즈, 개별 값을 반환한다."
      ]
    },
    {
      "cell_type": "code",
      "metadata": {
        "colab": {
          "base_uri": "https://localhost:8080/"
        },
        "id": "j6_BZEr85BAT",
        "outputId": "487f4189-3c20-4f9b-9fd7-f50a161424fc"
      },
      "source": [
        "result_df = df.pipe(missing_value)\n",
        "print(result_df.head())\n",
        "print(type(result_df))"
      ],
      "execution_count": null,
      "outputs": [
        {
          "output_type": "stream",
          "name": "stdout",
          "text": [
            "     age   fare\n",
            "0  False  False\n",
            "1  False  False\n",
            "2  False  False\n",
            "3  False  False\n",
            "4  False  False\n",
            "<class 'pandas.core.frame.DataFrame'>\n"
          ]
        }
      ]
    },
    {
      "cell_type": "code",
      "metadata": {
        "colab": {
          "base_uri": "https://localhost:8080/"
        },
        "id": "7dOsS7pE5J3p",
        "outputId": "11c3acf0-8530-4b7a-86ae-2f3dd27aff48"
      },
      "source": [
        "result_series = df.pipe(missing_count)\n",
        "print(result_series)\n",
        "print(type(result_series))"
      ],
      "execution_count": null,
      "outputs": [
        {
          "output_type": "stream",
          "name": "stdout",
          "text": [
            "age     177\n",
            "fare      0\n",
            "dtype: int64\n",
            "<class 'pandas.core.series.Series'>\n"
          ]
        }
      ]
    },
    {
      "cell_type": "code",
      "metadata": {
        "colab": {
          "base_uri": "https://localhost:8080/"
        },
        "id": "9xm2qgvL5Zdx",
        "outputId": "04b36912-81dc-40cd-cae9-a0c2011e055f"
      },
      "source": [
        "result_value = df.pipe(total_number_missing)\n",
        "print(result_value)\n",
        "print(type(result_value))"
      ],
      "execution_count": null,
      "outputs": [
        {
          "output_type": "stream",
          "name": "stdout",
          "text": [
            "177\n",
            "<class 'numpy.int64'>\n"
          ]
        }
      ]
    }
  ]
}