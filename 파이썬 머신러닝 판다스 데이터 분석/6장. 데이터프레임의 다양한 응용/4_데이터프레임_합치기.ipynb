{
  "nbformat": 4,
  "nbformat_minor": 0,
  "metadata": {
    "colab": {
      "name": "4. 데이터프레임 합치기.ipynb",
      "provenance": [],
      "collapsed_sections": []
    },
    "kernelspec": {
      "name": "python3",
      "display_name": "Python 3"
    },
    "language_info": {
      "name": "python"
    }
  },
  "cells": [
    {
      "cell_type": "markdown",
      "metadata": {
        "id": "OcqYHu7SDWgI"
      },
      "source": [
        "데이터가 나누어져 있을 때 데이터를 합치거나 연결해야 하는 경우가 있다. 이를 위해 판다스의 concat(), merge(), join() 함수를 사용할 수 있다.\n",
        "\n",
        "<h3> 데이터프레임 연결 </h3>\n",
        "\n",
        "데이터프레임들을 기존 형태를 유지하면서 이어 붙이기 위해 **concat() 함수**를 사용할 수 있다. \n",
        "\n",
        "* **데이터프레임 연결: pandas.concat(데이터프레임의 리스트)**\n",
        "\n",
        "concat() 함수에 데이터프레임을 원소로 갖는 리스트를 전달하면 여러 개의 데이터프레임을 연결한다. <br>\n",
        "**axis 매개변수**의 기본값은 0이며 위 아래 행 방향으로 연결된다. 이때 각 데이터프레임의 행 인덱스는 본래 형태를 유지한다. <br>\n",
        "**join 매개변수**를 **'outer'**로 지정하면 열 이름의 합집합으로 데이터프레임을 연결한다. 예를 들어, df1의 열 이름이 A, B, C고 df2의 열 이름이 B, C, D, E이면 A, B, C, D, E의 열로 구성된다. **'inner'**로 지정할 경우 교집합으로 연결하여 위 경우 B, C로 구성된다. 기본값은 'outer'이다. <br>\n",
        "먼저 'outer' 방식으로 연결해보자."
      ]
    },
    {
      "cell_type": "code",
      "metadata": {
        "colab": {
          "base_uri": "https://localhost:8080/"
        },
        "id": "gOfsLd0dO7gX",
        "outputId": "d0e54bc9-c6a1-4e3d-af76-5aaaa58baa27"
      },
      "source": [
        "import pandas as pd\n",
        "\n",
        "df1 = pd.DataFrame({'a': ['a0', 'a1', 'a2', 'a3'],\n",
        "                    'b': ['b0', 'b1', 'b2', 'b3'],\n",
        "                    'c': ['c0', 'c1', 'c2', 'c3']}, \n",
        "                    index = [0, 1, 2, 3])\n",
        "\n",
        "df2 = pd.DataFrame({'a': ['a2', 'a3', 'a4', 'a5'],\n",
        "                    'b': ['b2', 'b3', 'b4', 'b5'],\n",
        "                    'c': ['c2', 'c3', 'c4', 'c5'],\n",
        "                    'd': ['d2', 'd3', 'd4', 'd5']},\n",
        "                    index = [2, 3, 4, 5])\n",
        "\n",
        "print(df1, '\\n')\n",
        "print(df2, '\\n')\n",
        "\n",
        "result1 = pd.concat([df1, df2])\n",
        "print(result1)"
      ],
      "execution_count": null,
      "outputs": [
        {
          "output_type": "stream",
          "name": "stdout",
          "text": [
            "    a   b   c\n",
            "0  a0  b0  c0\n",
            "1  a1  b1  c1\n",
            "2  a2  b2  c2\n",
            "3  a3  b3  c3 \n",
            "\n",
            "    a   b   c   d\n",
            "2  a2  b2  c2  d2\n",
            "3  a3  b3  c3  d3\n",
            "4  a4  b4  c4  d4\n",
            "5  a5  b5  c5  d5 \n",
            "\n",
            "    a   b   c    d\n",
            "0  a0  b0  c0  NaN\n",
            "1  a1  b1  c1  NaN\n",
            "2  a2  b2  c2  NaN\n",
            "3  a3  b3  c3  NaN\n",
            "2  a2  b2  c2   d2\n",
            "3  a3  b3  c3   d3\n",
            "4  a4  b4  c4   d4\n",
            "5  a5  b5  c5   d5\n"
          ]
        }
      ]
    },
    {
      "cell_type": "markdown",
      "metadata": {
        "id": "y0kZCqyVL0Sp"
      },
      "source": [
        "겹치는 행 인덱스 두 개를 모두 접근하려면 iloc() 메서드를 사용하면 된다."
      ]
    },
    {
      "cell_type": "code",
      "metadata": {
        "colab": {
          "base_uri": "https://localhost:8080/"
        },
        "id": "XTgFLC97QxAD",
        "outputId": "3f1e9029-e296-4739-a2fb-6598cc80d334"
      },
      "source": [
        "print(result1.index, '\\n')\n",
        "print(result1.loc[2], '\\n')\n",
        "print(result1.iloc[2])"
      ],
      "execution_count": null,
      "outputs": [
        {
          "output_type": "stream",
          "name": "stdout",
          "text": [
            "Int64Index([0, 1, 2, 3, 2, 3, 4, 5], dtype='int64') \n",
            "\n",
            "    a   b   c    d\n",
            "2  a2  b2  c2  NaN\n",
            "2  a2  b2  c2   d2 \n",
            "\n",
            "a     a2\n",
            "b     b2\n",
            "c     c2\n",
            "d    NaN\n",
            "Name: 2, dtype: object\n"
          ]
        }
      ]
    },
    {
      "cell_type": "markdown",
      "metadata": {
        "id": "NBvIWA0OL-8h"
      },
      "source": [
        "위와 같이 행 인덱스가 겹치는 것을 방지하려면 기존 행 인덱스를 없애면 된다. <br>\n",
        "**ignore_index 매개변수**를 True로 지정하면 기존 행 인덱스를 무시한다."
      ]
    },
    {
      "cell_type": "code",
      "metadata": {
        "colab": {
          "base_uri": "https://localhost:8080/"
        },
        "id": "zr4AnHGjQ10i",
        "outputId": "06585b7c-16f3-49d6-a110-15bd9e66c1bf"
      },
      "source": [
        "result2 = pd.concat([df1, df2], ignore_index = True)\n",
        "print(result2)"
      ],
      "execution_count": null,
      "outputs": [
        {
          "output_type": "stream",
          "name": "stdout",
          "text": [
            "    a   b   c    d\n",
            "0  a0  b0  c0  NaN\n",
            "1  a1  b1  c1  NaN\n",
            "2  a2  b2  c2  NaN\n",
            "3  a3  b3  c3  NaN\n",
            "4  a2  b2  c2   d2\n",
            "5  a3  b3  c3   d3\n",
            "6  a4  b4  c4   d4\n",
            "7  a5  b5  c5   d5\n"
          ]
        }
      ]
    },
    {
      "cell_type": "markdown",
      "metadata": {
        "id": "QZ9oje4xMN-i"
      },
      "source": [
        "**axis 매개변수를 1로 지정**하면 좌우 열 방향으로 연결한다. 따라서 기존 열 이름이 그대로 유지된다. 행 인덱스는 join 매개변수가 'outer'면 합집합으로 구성된다. 물론 기본값은 'outer'이다."
      ]
    },
    {
      "cell_type": "code",
      "metadata": {
        "colab": {
          "base_uri": "https://localhost:8080/"
        },
        "id": "vA1xN43eRa8J",
        "outputId": "c39cd05e-9643-4b52-fce5-c832b89ea6fc"
      },
      "source": [
        "result3 = pd.concat([df1, df2], axis = 1)\n",
        "print(result3)"
      ],
      "execution_count": null,
      "outputs": [
        {
          "output_type": "stream",
          "name": "stdout",
          "text": [
            "     a    b    c    a    b    c    d\n",
            "0   a0   b0   c0  NaN  NaN  NaN  NaN\n",
            "1   a1   b1   c1  NaN  NaN  NaN  NaN\n",
            "2   a2   b2   c2   a2   b2   c2   d2\n",
            "3   a3   b3   c3   a3   b3   c3   d3\n",
            "4  NaN  NaN  NaN   a4   b4   c4   d4\n",
            "5  NaN  NaN  NaN   a5   b5   c5   d5\n"
          ]
        }
      ]
    },
    {
      "cell_type": "markdown",
      "metadata": {
        "id": "BceN0dGOMkVj"
      },
      "source": [
        "이번에는 join 매개변수를 'inner'로 지정해보자. 행 인덱스의 교집합을 기준으로 연결하므로 2, 3 행만 남는다."
      ]
    },
    {
      "cell_type": "code",
      "metadata": {
        "colab": {
          "base_uri": "https://localhost:8080/"
        },
        "id": "uAj_t2i0R42o",
        "outputId": "9d976ba6-970f-4840-fcb0-80e6b0bd2917"
      },
      "source": [
        "result3_in = pd.concat([df1, df2], axis = 1, join = 'inner')\n",
        "print(result3_in)"
      ],
      "execution_count": null,
      "outputs": [
        {
          "output_type": "stream",
          "name": "stdout",
          "text": [
            "    a   b   c   a   b   c   d\n",
            "2  a2  b2  c2  a2  b2  c2  d2\n",
            "3  a3  b3  c3  a3  b3  c3  d3\n"
          ]
        }
      ]
    },
    {
      "cell_type": "markdown",
      "metadata": {
        "id": "1AZEHOmKMxQK"
      },
      "source": [
        "**데이터프레임과 시리즈를 좌우 열 방향으로 연결**할 수도 있다. 이때 데이터프레임의 행 인덱스와 시리즈의 인덱스가 같아야한다. <br>\n",
        "데이터프레임에 열을 추가하는 것과 동일한 결과를 가지며 열의 이름은 시리즈의 이름으로 변환된다.\n",
        "\n",
        "* 행 인덱스가 같지 않으면 NaN 값으로 입력된다."
      ]
    },
    {
      "cell_type": "code",
      "metadata": {
        "id": "byuyyJRpSDEw",
        "colab": {
          "base_uri": "https://localhost:8080/"
        },
        "outputId": "d193c2b3-dd45-48fb-8e00-692d4e5e7a12"
      },
      "source": [
        "sr1 = pd.Series(['e0', 'e1', 'e2', 'e3'], name = 'e')\n",
        "sr2 = pd.Series(['f0', 'f1', 'f2'], name = 'f', index = [3, 4, 5])\n",
        "sr3 = pd.Series(['g0', 'g1', 'g2', 'g3'], name = 'g')\n",
        "sr4 = pd.Series(['h0', 'h1', 'h2', 'h3'], name = 'h', index = [1, 2, 3, 4])\n",
        "\n",
        "result4 = pd.concat([df1, sr1], axis = 1)\n",
        "print(result4, '\\n')\n",
        "\n",
        "result5 = pd.concat([df2, sr2], axis = 1, sort = False)\n",
        "print(result5, '\\n')\n",
        "\n",
        "result5_sort = pd.concat([df2, sr2], axis = 1, sort = True)\n",
        "print(result5_sort, '\\n')\n",
        "\n",
        "result6 = pd.concat([df1, sr4], axis = 1)\n",
        "print(result6)"
      ],
      "execution_count": null,
      "outputs": [
        {
          "output_type": "stream",
          "name": "stdout",
          "text": [
            "    a   b   c   e\n",
            "0  a0  b0  c0  e0\n",
            "1  a1  b1  c1  e1\n",
            "2  a2  b2  c2  e2\n",
            "3  a3  b3  c3  e3 \n",
            "\n",
            "    a   b   c   d    f\n",
            "2  a2  b2  c2  d2  NaN\n",
            "3  a3  b3  c3  d3   f0\n",
            "4  a4  b4  c4  d4   f1\n",
            "5  a5  b5  c5  d5   f2 \n",
            "\n",
            "    a   b   c   d    f\n",
            "2  a2  b2  c2  d2  NaN\n",
            "3  a3  b3  c3  d3   f0\n",
            "4  a4  b4  c4  d4   f1\n",
            "5  a5  b5  c5  d5   f2 \n",
            "\n",
            "     a    b    c    h\n",
            "0   a0   b0   c0  NaN\n",
            "1   a1   b1   c1   h0\n",
            "2   a2   b2   c2   h1\n",
            "3   a3   b3   c3   h2\n",
            "4  NaN  NaN  NaN   h3\n"
          ]
        }
      ]
    },
    {
      "cell_type": "markdown",
      "metadata": {
        "id": "rDubO97GONk6"
      },
      "source": [
        "**시리즈들로 만든 리스트를 concat() 함수에 전달**하면 시리즈가 서로 연결된다. axis 매개변수를 1로 지정하면 데이터프레임, 0으로 지정하면 시리즈가 반환된다."
      ]
    },
    {
      "cell_type": "code",
      "metadata": {
        "colab": {
          "base_uri": "https://localhost:8080/"
        },
        "id": "m2ZZ1S9qUnzu",
        "outputId": "4ab9bbf0-ab42-4589-cdce-6f85987fc4d2"
      },
      "source": [
        "result6 = pd.concat([sr1, sr3], axis = 1)\n",
        "print(result6, '\\n')\n",
        "\n",
        "result7 = pd.concat([sr1, sr3], axis = 0)\n",
        "print(result7)"
      ],
      "execution_count": null,
      "outputs": [
        {
          "output_type": "stream",
          "name": "stdout",
          "text": [
            "    e   g\n",
            "0  e0  g0\n",
            "1  e1  g1\n",
            "2  e2  g2\n",
            "3  e3  g3 \n",
            "\n",
            "0    e0\n",
            "1    e1\n",
            "2    e2\n",
            "3    e3\n",
            "0    g0\n",
            "1    g1\n",
            "2    g2\n",
            "3    g3\n",
            "dtype: object\n"
          ]
        }
      ]
    },
    {
      "cell_type": "markdown",
      "metadata": {
        "id": "bMhf139gOdka"
      },
      "source": [
        "<h3> 데이터프레임 병합 </h3>\n",
        "\n",
        "판다스의 **merge() 함수**를 이용하면 어떤 기준에 의해 두 데이터프레임을 병합할 수 있다. 이때 기준이 되는 열이나 인덱스를 키(key)라고 부른다. 키가 되는 열이나 인덱스는 반드시 양쪽 데이터프레임에 존재해야 한다.\n",
        "\n",
        "* **데이터프레임 병합: pandas.merge(df_left, df_right, how = 'inner', on = None)**\n",
        "* how 매개변수에 가능한 옵션: 'inner', 'outer', 'left', 'right'\n",
        "\n",
        "여러 종목의 주가 정보를 담고 있는 Excel 파일과 밸류에이션 정보를 정리한 Excel 파일을 불러오자."
      ]
    },
    {
      "cell_type": "code",
      "metadata": {
        "colab": {
          "base_uri": "https://localhost:8080/"
        },
        "id": "iNlZHfaDVrhV",
        "outputId": "463812aa-e893-40a8-ba5b-6638cca34b6a"
      },
      "source": [
        "pd.set_option('display.max_columns', 10)                # 출력할 최대 열의 개수\n",
        "pd.set_option('display.max_colwidth', 20)               # 출력할 열의 너비\n",
        "pd.set_option('display.unicode.east_asian_width', True) # 유니코드 사용 너비 조정\n",
        "\n",
        "# 주식 데이터를 가져온다.\n",
        "df1 = pd.read_excel('stock price.xlsx', engine = 'openpyxl')\n",
        "df2 = pd.read_excel('stock valuation.xlsx', engine = 'openpyxl')\n",
        "\n",
        "print(df1)\n",
        "print('\\n')\n",
        "print(df2)"
      ],
      "execution_count": null,
      "outputs": [
        {
          "output_type": "stream",
          "name": "stdout",
          "text": [
            "       id    stock_name          value   price\n",
            "0  128940      한미약품   59385.666667  421000\n",
            "1  130960        CJ E&M   58540.666667   98900\n",
            "2  138250    엔에스쇼핑   14558.666667   13200\n",
            "3  139480        이마트  239230.833333  254500\n",
            "4  142280  녹십자엠에스     468.833333   10200\n",
            "5  145990        삼양사   82750.000000   82000\n",
            "6  185750        종근당   40293.666667  100500\n",
            "7  192400    쿠쿠홀딩스  179204.666667  177500\n",
            "8  199800          툴젠   -2514.333333  115400\n",
            "9  204210  모두투어리츠    3093.333333    3475\n",
            "\n",
            "\n",
            "       id              name           eps     bps        per       pbr\n",
            "0  130960            CJ E&M   6301.333333   54068  15.695091  1.829178\n",
            "1  136480              하림    274.166667    3551  11.489362  0.887074\n",
            "2  138040    메리츠금융지주   2122.333333   14894   6.313806  0.899691\n",
            "3  139480            이마트  18268.166667  295780  13.931338  0.860437\n",
            "4  145990            삼양사   5741.000000  108090  14.283226  0.758627\n",
            "5  161390        한국타이어   5648.500000   51341   7.453306  0.820007\n",
            "6  181710   NHN엔터테인먼트   2110.166667   78434  30.755864  0.827447\n",
            "7  185750            종근당   3990.333333   40684  25.185866  2.470259\n",
            "8  204210      모두투어리츠     85.166667    5335  40.802348  0.651359\n",
            "9  207940  삼성바이오로직스   4644.166667   60099  89.790059  6.938551\n"
          ]
        }
      ]
    },
    {
      "cell_type": "markdown",
      "metadata": {
        "id": "9XS4-HbTF9Fb"
      },
      "source": [
        "두 데이터프레임을 병합해보자. how = 'inner', on = None 옵션이 기본값으로 적용된다. <br>\n",
        "**how = 'inner' 옵션**은 기준 열의 데이터가 양쪽 데이터프레임에 공통으로 존재하는 (교집합일) 경우에만 추출한다는 의미이다. <br>\n",
        "**on = None 옵션**은 두 데이터프레임에 공통으로 속하는 모든 열을 기준(키)으로 병합한다는 의미이다. <br>\n",
        "위 데이터프레임들의 공통 열은 'id'하나 이고 'id'열에서 겹치는 데이터는 총 5개이다. 따라서 merge() 함수를 실행하면 총 5개의 행이 출력된다."
      ]
    },
    {
      "cell_type": "code",
      "metadata": {
        "colab": {
          "base_uri": "https://localhost:8080/"
        },
        "id": "NcojpfjaWpIv",
        "outputId": "2d5ee80f-de6e-42cf-c650-bd8b0efbe727"
      },
      "source": [
        "# how = 'inner', on = None\n",
        "merge_inner = pd.merge(df1, df2)\n",
        "print(merge_inner)"
      ],
      "execution_count": null,
      "outputs": [
        {
          "output_type": "stream",
          "name": "stdout",
          "text": [
            "       id    stock_name          value   price          name           eps  \\\n",
            "0  130960        CJ E&M   58540.666667   98900        CJ E&M   6301.333333   \n",
            "1  139480        이마트  239230.833333  254500        이마트  18268.166667   \n",
            "2  145990        삼양사   82750.000000   82000        삼양사   5741.000000   \n",
            "3  185750        종근당   40293.666667  100500        종근당   3990.333333   \n",
            "4  204210  모두투어리츠    3093.333333    3475  모두투어리츠     85.166667   \n",
            "\n",
            "      bps        per       pbr  \n",
            "0   54068  15.695091  1.829178  \n",
            "1  295780  13.931338  0.860437  \n",
            "2  108090  14.283226  0.758627  \n",
            "3   40684  25.185866  2.470259  \n",
            "4    5335  40.802348  0.651359  \n"
          ]
        }
      ]
    },
    {
      "cell_type": "markdown",
      "metadata": {
        "id": "bb9zvDJJGiDH"
      },
      "source": [
        "이번에는 how 매개변수를 'outer'로 지정해보자. 'outer'를 사용하면 기준 열의 데이터가 데이터프레임 중 한쪽에만 존재해도 포함한다. <br>\n",
        "on 매개변수는 'id'열을 지정하자. 이는 두 데이터프레임의 공통 열 중에서 'id' 열을 키로 병합한다는 의미이다."
      ]
    },
    {
      "cell_type": "code",
      "metadata": {
        "colab": {
          "base_uri": "https://localhost:8080/"
        },
        "id": "lyxYlvpZXah2",
        "outputId": "339fcf26-1851-41f8-a838-27868f7ec010"
      },
      "source": [
        "# how = 'outer', on = 'id'\n",
        "merge_outer = pd.merge(df1, df2, how = 'outer', on = 'id') \n",
        "print(merge_outer)"
      ],
      "execution_count": null,
      "outputs": [
        {
          "output_type": "stream",
          "name": "stdout",
          "text": [
            "        id    stock_name          value     price              name  \\\n",
            "0   128940      한미약품   59385.666667  421000.0               NaN   \n",
            "1   130960        CJ E&M   58540.666667   98900.0            CJ E&M   \n",
            "2   138250    엔에스쇼핑   14558.666667   13200.0               NaN   \n",
            "3   139480        이마트  239230.833333  254500.0            이마트   \n",
            "4   142280  녹십자엠에스     468.833333   10200.0               NaN   \n",
            "5   145990        삼양사   82750.000000   82000.0            삼양사   \n",
            "6   185750        종근당   40293.666667  100500.0            종근당   \n",
            "7   192400    쿠쿠홀딩스  179204.666667  177500.0               NaN   \n",
            "8   199800          툴젠   -2514.333333  115400.0               NaN   \n",
            "9   204210  모두투어리츠    3093.333333    3475.0      모두투어리츠   \n",
            "10  136480           NaN            NaN       NaN              하림   \n",
            "11  138040           NaN            NaN       NaN    메리츠금융지주   \n",
            "12  161390           NaN            NaN       NaN        한국타이어   \n",
            "13  181710           NaN            NaN       NaN   NHN엔터테인먼트   \n",
            "14  207940           NaN            NaN       NaN  삼성바이오로직스   \n",
            "\n",
            "             eps       bps        per       pbr  \n",
            "0            NaN       NaN        NaN       NaN  \n",
            "1    6301.333333   54068.0  15.695091  1.829178  \n",
            "2            NaN       NaN        NaN       NaN  \n",
            "3   18268.166667  295780.0  13.931338  0.860437  \n",
            "4            NaN       NaN        NaN       NaN  \n",
            "5    5741.000000  108090.0  14.283226  0.758627  \n",
            "6    3990.333333   40684.0  25.185866  2.470259  \n",
            "7            NaN       NaN        NaN       NaN  \n",
            "8            NaN       NaN        NaN       NaN  \n",
            "9      85.166667    5335.0  40.802348  0.651359  \n",
            "10    274.166667    3551.0  11.489362  0.887074  \n",
            "11   2122.333333   14894.0   6.313806  0.899691  \n",
            "12   5648.500000   51341.0   7.453306  0.820007  \n",
            "13   2110.166667   78434.0  30.755864  0.827447  \n",
            "14   4644.166667   60099.0  89.790059  6.938551  \n"
          ]
        }
      ]
    },
    {
      "cell_type": "markdown",
      "metadata": {
        "id": "eRa-fXxiHtcT"
      },
      "source": [
        "how 매개변수를 **'left'**로 지정하면 왼쪽 데이터프레임의 키 열에 속하는 데이터 값을 기준으로 병합한다. 또한 **left_on, right_on 매개변수**를 사용해 좌우 데이터프레임에 각각 다르게 키를 지정할 수 있다."
      ]
    },
    {
      "cell_type": "code",
      "metadata": {
        "colab": {
          "base_uri": "https://localhost:8080/"
        },
        "id": "WwBpX89bXxb2",
        "outputId": "00c43bec-d0f6-4539-85c3-d329001549f3"
      },
      "source": [
        "merge_left = pd.merge(df1, df2, how = 'left', left_on = 'stock_name', right_on = 'name')\n",
        "print(merge_left)"
      ],
      "execution_count": null,
      "outputs": [
        {
          "output_type": "stream",
          "name": "stdout",
          "text": [
            "     id_x    stock_name          value   price      id_y          name  \\\n",
            "0  128940      한미약품   59385.666667  421000       NaN           NaN   \n",
            "1  130960        CJ E&M   58540.666667   98900  130960.0        CJ E&M   \n",
            "2  138250    엔에스쇼핑   14558.666667   13200       NaN           NaN   \n",
            "3  139480        이마트  239230.833333  254500  139480.0        이마트   \n",
            "4  142280  녹십자엠에스     468.833333   10200       NaN           NaN   \n",
            "5  145990        삼양사   82750.000000   82000  145990.0        삼양사   \n",
            "6  185750        종근당   40293.666667  100500  185750.0        종근당   \n",
            "7  192400    쿠쿠홀딩스  179204.666667  177500       NaN           NaN   \n",
            "8  199800          툴젠   -2514.333333  115400       NaN           NaN   \n",
            "9  204210  모두투어리츠    3093.333333    3475  204210.0  모두투어리츠   \n",
            "\n",
            "            eps       bps        per       pbr  \n",
            "0           NaN       NaN        NaN       NaN  \n",
            "1   6301.333333   54068.0  15.695091  1.829178  \n",
            "2           NaN       NaN        NaN       NaN  \n",
            "3  18268.166667  295780.0  13.931338  0.860437  \n",
            "4           NaN       NaN        NaN       NaN  \n",
            "5   5741.000000  108090.0  14.283226  0.758627  \n",
            "6   3990.333333   40684.0  25.185866  2.470259  \n",
            "7           NaN       NaN        NaN       NaN  \n",
            "8           NaN       NaN        NaN       NaN  \n",
            "9     85.166667    5335.0  40.802348  0.651359  \n"
          ]
        }
      ]
    },
    {
      "cell_type": "markdown",
      "metadata": {
        "id": "BEnH661aIod3"
      },
      "source": [
        "how 매개변수를 **'right'**로 지정하면 오른쪽 데이터프레임의 키 열에 속하는 데이터 값을 기준으로 병합한다."
      ]
    },
    {
      "cell_type": "code",
      "metadata": {
        "colab": {
          "base_uri": "https://localhost:8080/"
        },
        "id": "RwP8is5WYsQG",
        "outputId": "042ac480-503b-4dcd-9d40-4b3f81e6e892"
      },
      "source": [
        "merge_right = pd.merge(df1, df2, how = 'right', left_on = 'stock_name', right_on = 'name')\n",
        "print(merge_right)"
      ],
      "execution_count": null,
      "outputs": [
        {
          "output_type": "stream",
          "name": "stdout",
          "text": [
            "       id_x    stock_name          value     price    id_y              name  \\\n",
            "0  130960.0        CJ E&M   58540.666667   98900.0  130960            CJ E&M   \n",
            "1       NaN           NaN            NaN       NaN  136480              하림   \n",
            "2       NaN           NaN            NaN       NaN  138040    메리츠금융지주   \n",
            "3  139480.0        이마트  239230.833333  254500.0  139480            이마트   \n",
            "4  145990.0        삼양사   82750.000000   82000.0  145990            삼양사   \n",
            "5       NaN           NaN            NaN       NaN  161390        한국타이어   \n",
            "6       NaN           NaN            NaN       NaN  181710   NHN엔터테인먼트   \n",
            "7  185750.0        종근당   40293.666667  100500.0  185750            종근당   \n",
            "8  204210.0  모두투어리츠    3093.333333    3475.0  204210      모두투어리츠   \n",
            "9       NaN           NaN            NaN       NaN  207940  삼성바이오로직스   \n",
            "\n",
            "            eps     bps        per       pbr  \n",
            "0   6301.333333   54068  15.695091  1.829178  \n",
            "1    274.166667    3551  11.489362  0.887074  \n",
            "2   2122.333333   14894   6.313806  0.899691  \n",
            "3  18268.166667  295780  13.931338  0.860437  \n",
            "4   5741.000000  108090  14.283226  0.758627  \n",
            "5   5648.500000   51341   7.453306  0.820007  \n",
            "6   2110.166667   78434  30.755864  0.827447  \n",
            "7   3990.333333   40684  25.185866  2.470259  \n",
            "8     85.166667    5335  40.802348  0.651359  \n",
            "9   4644.166667   60099  89.790059  6.938551  \n"
          ]
        }
      ]
    },
    {
      "cell_type": "markdown",
      "metadata": {
        "id": "Yutoj0VuJC3q"
      },
      "source": [
        "merge() 함수를 불린 인덱싱과 함께 사용하면 원하는 데이터를 추출할 수 있다.<br>\n",
        "주가 50,000원 미만인 종목을 찾고 해당 종목의 밸류에이션 지표를 확인해보자. <br>"
      ]
    },
    {
      "cell_type": "code",
      "metadata": {
        "colab": {
          "base_uri": "https://localhost:8080/"
        },
        "id": "zJIaIJjnY5Xe",
        "outputId": "173eb041-61c5-4495-8f19-a61c62a368e0"
      },
      "source": [
        "price = df1[df1['price'] < 50000]\n",
        "print(price.head())\n",
        "print('\\n')\n",
        "\n",
        "value = pd.merge(price, df2)\n",
        "print(value)\n",
        "# 결과: 주가 50,000인 종목은 3개이고, 밸류에이션 데이터를 가진 회사는 1개이다."
      ],
      "execution_count": null,
      "outputs": [
        {
          "output_type": "stream",
          "name": "stdout",
          "text": [
            "       id    stock_name         value  price\n",
            "2  138250    엔에스쇼핑  14558.666667  13200\n",
            "4  142280  녹십자엠에스    468.833333  10200\n",
            "9  204210  모두투어리츠   3093.333333   3475\n",
            "\n",
            "\n",
            "       id    stock_name        value  price          name        eps   bps  \\\n",
            "0  204210  모두투어리츠  3093.333333   3475  모두투어리츠  85.166667  5335   \n",
            "\n",
            "         per       pbr  \n",
            "0  40.802348  0.651359  \n"
          ]
        }
      ]
    },
    {
      "cell_type": "markdown",
      "metadata": {
        "id": "4k20bkaPJoUZ"
      },
      "source": [
        "<h3> 데이터프레임 결합 </h3>\n",
        "\n",
        "판다스 **join() 메소드**는 merge() 함수를 기반으로 만들어져 기본 작동 방식이 비슷하다. 하지만 join() 메소드는 열이 아니라 행 인덱스를 기준으로 결합한다. 단, on 매개변수를 keys로 설정하면 열을 기준으로 결합할 수 있다.\n",
        "\n",
        "* **행 인덱스 기준으로 결합: DataFrame1.join(DataFrame2, how = 'left')**\n",
        "\n",
        "**index_col 옵션**을 사용해 두 데이터프레임의 행 인덱스를 'id'열로 설정하자. df1에 join() 메소드를 적용하면 왼쪽에 위치한 df1의 행 인덱스를 기준으로 결합하는 **how = 'left' 옵션**이 기본 적용된다."
      ]
    },
    {
      "cell_type": "code",
      "metadata": {
        "colab": {
          "base_uri": "https://localhost:8080/"
        },
        "id": "IzDaC4w7ZGhf",
        "outputId": "9a27fd63-13f3-409f-cb0b-c2ede9dc44e8"
      },
      "source": [
        "pd.set_option('display.max_columns', 10)                # 출력할 최대 열의 개수\n",
        "pd.set_option('display.max_colwidth', 20)               # 출력할 열의 너비\n",
        "pd.set_option('display.unicode.east_asian_width', True) # 유니코드 사용 너비 조정\n",
        "\n",
        "# 주식 데이터를 가져온다.\n",
        "df1 = pd.read_excel('stock price.xlsx', index_col = 'id', engine = 'openpyxl')\n",
        "df2 = pd.read_excel('stock valuation.xlsx', index_col = 'id', engine = 'openpyxl')\n",
        "\n",
        "df3 = df1.join(df2)\n",
        "print(df3)"
      ],
      "execution_count": null,
      "outputs": [
        {
          "output_type": "stream",
          "name": "stdout",
          "text": [
            "          stock_name          value   price          name           eps  \\\n",
            "id                                                                        \n",
            "128940      한미약품   59385.666667  421000           NaN           NaN   \n",
            "130960        CJ E&M   58540.666667   98900        CJ E&M   6301.333333   \n",
            "138250    엔에스쇼핑   14558.666667   13200           NaN           NaN   \n",
            "139480        이마트  239230.833333  254500        이마트  18268.166667   \n",
            "142280  녹십자엠에스     468.833333   10200           NaN           NaN   \n",
            "145990        삼양사   82750.000000   82000        삼양사   5741.000000   \n",
            "185750        종근당   40293.666667  100500        종근당   3990.333333   \n",
            "192400    쿠쿠홀딩스  179204.666667  177500           NaN           NaN   \n",
            "199800          툴젠   -2514.333333  115400           NaN           NaN   \n",
            "204210  모두투어리츠    3093.333333    3475  모두투어리츠     85.166667   \n",
            "\n",
            "             bps        per       pbr  \n",
            "id                                     \n",
            "128940       NaN        NaN       NaN  \n",
            "130960   54068.0  15.695091  1.829178  \n",
            "138250       NaN        NaN       NaN  \n",
            "139480  295780.0  13.931338  0.860437  \n",
            "142280       NaN        NaN       NaN  \n",
            "145990  108090.0  14.283226  0.758627  \n",
            "185750   40684.0  25.185866  2.470259  \n",
            "192400       NaN        NaN       NaN  \n",
            "199800       NaN        NaN       NaN  \n",
            "204210    5335.0  40.802348  0.651359  \n"
          ]
        }
      ]
    },
    {
      "cell_type": "markdown",
      "metadata": {
        "id": "HnfsrJPneBXF"
      },
      "source": [
        "how 매개변수를 'inner'로 설정하면 두 데이터프레임의 공통 행 인덱스를 기준으로 추출한다."
      ]
    },
    {
      "cell_type": "code",
      "metadata": {
        "colab": {
          "base_uri": "https://localhost:8080/"
        },
        "id": "x_WJxTe2baL3",
        "outputId": "7c2e7d06-6a33-43bc-f93a-e704ef152540"
      },
      "source": [
        "df4 = df1.join(df2, how = 'inner')\n",
        "print(df4)"
      ],
      "execution_count": null,
      "outputs": [
        {
          "output_type": "stream",
          "name": "stdout",
          "text": [
            "          stock_name          value   price          name           eps  \\\n",
            "id                                                                        \n",
            "130960        CJ E&M   58540.666667   98900        CJ E&M   6301.333333   \n",
            "139480        이마트  239230.833333  254500        이마트  18268.166667   \n",
            "145990        삼양사   82750.000000   82000        삼양사   5741.000000   \n",
            "185750        종근당   40293.666667  100500        종근당   3990.333333   \n",
            "204210  모두투어리츠    3093.333333    3475  모두투어리츠     85.166667   \n",
            "\n",
            "           bps        per       pbr  \n",
            "id                                   \n",
            "130960   54068  15.695091  1.829178  \n",
            "139480  295780  13.931338  0.860437  \n",
            "145990  108090  14.283226  0.758627  \n",
            "185750   40684  25.185866  2.470259  \n",
            "204210    5335  40.802348  0.651359  \n"
          ]
        }
      ]
    }
  ]
}