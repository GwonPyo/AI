{
  "nbformat": 4,
  "nbformat_minor": 0,
  "metadata": {
    "colab": {
      "name": "1. 데이터프레임의 구조.ipynb",
      "provenance": [],
      "collapsed_sections": []
    },
    "kernelspec": {
      "name": "python3",
      "display_name": "Python 3"
    },
    "language_info": {
      "name": "python"
    }
  },
  "cells": [
    {
      "cell_type": "markdown",
      "metadata": {
        "id": "fByvgVutJmEI"
      },
      "source": [
        "<h3> 데이터 내용 미리보기 </h3>\n",
        "\n",
        "**head() 메소드**는 데이터프레임의 앞부분 일부 내용을 출력한다. 데이터셋의 내용과 구조를 개략적으로 살펴볼 수 있기 때문에 분석 방향을 정하는데 필요한 정보를 얻을 수 있다. 또한 데이터프레임이 너무 커서 화면에 출력하기 어려울 때 사용해도 좋다. 단, 데이터프레임의 마지막 부분을 보고 싶다면, **tail() 메소드**를 사용한다.\n",
        "\n",
        "head(), tail() 메소드는 인자로 **정수 n을 전달**하면 처음 n개 혹은 마지막 n개의 행을 보여준다. 단, 아무런 값도 전달하지 않으면 5개의 행만 출력한다.\n",
        "\n",
        "* **앞부분 미리보기: DataFrame 객체.head(n)**\n",
        "* **뒷부분 미리보기: DataFrame 객체.tail(n)**"
      ]
    },
    {
      "cell_type": "code",
      "metadata": {
        "id": "SeAR35EytC36",
        "colab": {
          "base_uri": "https://localhost:8080/"
        },
        "outputId": "6d7247b1-1478-46ad-d81b-1285da3bd6f8"
      },
      "source": [
        "import pandas as pd\n",
        "\n",
        "df = pd.read_csv('auto-mpg.csv', header = None)\n",
        "\n",
        "df.columns = ['mpg','cylinders','displacement','horsepower','weight',\n",
        "              'acceleration','model year','origin','name']\n",
        "\n",
        "print(df.head())\n",
        "print('\\n')\n",
        "print(df.tail())"
      ],
      "execution_count": null,
      "outputs": [
        {
          "output_type": "stream",
          "name": "stdout",
          "text": [
            "    mpg  cylinders  displacement  ... model year  origin                       name\n",
            "0  18.0          8         307.0  ...         70       1  chevrolet chevelle malibu\n",
            "1  15.0          8         350.0  ...         70       1          buick skylark 320\n",
            "2  18.0          8         318.0  ...         70       1         plymouth satellite\n",
            "3  16.0          8         304.0  ...         70       1              amc rebel sst\n",
            "4  17.0          8         302.0  ...         70       1                ford torino\n",
            "\n",
            "[5 rows x 9 columns]\n",
            "\n",
            "\n",
            "      mpg  cylinders  displacement  ... model year  origin             name\n",
            "393  27.0          4         140.0  ...         82       1  ford mustang gl\n",
            "394  44.0          4          97.0  ...         82       2        vw pickup\n",
            "395  32.0          4         135.0  ...         82       1    dodge rampage\n",
            "396  28.0          4         120.0  ...         82       1      ford ranger\n",
            "397  31.0          4         119.0  ...         82       1       chevy s-10\n",
            "\n",
            "[5 rows x 9 columns]\n"
          ]
        }
      ]
    },
    {
      "cell_type": "markdown",
      "metadata": {
        "id": "v9lwrZMxK1-2"
      },
      "source": [
        "<h3> 데이터프레임의 크기(행, 열) </h3>\n",
        "\n",
        "데이터프레임 클래스의 **shape 속성**은 행과 열의 개수를 투플 형태로 보여준다. \n",
        "\n",
        "* **데이터프레임의 크기 확인: DataFrame 객체.shape**"
      ]
    },
    {
      "cell_type": "code",
      "metadata": {
        "colab": {
          "base_uri": "https://localhost:8080/"
        },
        "id": "sBxXmjpaWV-i",
        "outputId": "f540d3ad-74c5-4f05-d1a7-ba5f79e18d91"
      },
      "source": [
        "print(df.shape)"
      ],
      "execution_count": null,
      "outputs": [
        {
          "output_type": "stream",
          "name": "stdout",
          "text": [
            "(398, 9)\n"
          ]
        }
      ]
    },
    {
      "cell_type": "markdown",
      "metadata": {
        "id": "RlIhtXxwLNtc"
      },
      "source": [
        "<h3> 데이터프레임의 기본 정보 </h3>\n",
        "\n",
        "**info() 메소드**를 데이터프레임에 적용하면 데이터프레임에 대한 기본 정보를 화면에 출력한다. 클래스 유형, 행 인덱스의 구성, 열 이름의 종류와 개수, 각 열의 자료형과 개수, 메모리 할당량에 관한 정보가 포함된다.\n",
        "\n",
        "* **데이터프레임의 기본 정보 출력: DataFrame 객체.info()**"
      ]
    },
    {
      "cell_type": "code",
      "metadata": {
        "colab": {
          "base_uri": "https://localhost:8080/"
        },
        "id": "BZ2LeNUJWlPA",
        "outputId": "9f99042f-cbb8-43ba-b45e-b074f3205a0c"
      },
      "source": [
        "print(df.info())"
      ],
      "execution_count": null,
      "outputs": [
        {
          "output_type": "stream",
          "name": "stdout",
          "text": [
            "<class 'pandas.core.frame.DataFrame'>\n",
            "RangeIndex: 398 entries, 0 to 397\n",
            "Data columns (total 9 columns):\n",
            " #   Column        Non-Null Count  Dtype  \n",
            "---  ------        --------------  -----  \n",
            " 0   mpg           398 non-null    float64\n",
            " 1   cylinders     398 non-null    int64  \n",
            " 2   displacement  398 non-null    float64\n",
            " 3   horsepower    398 non-null    object \n",
            " 4   weight        398 non-null    float64\n",
            " 5   acceleration  398 non-null    float64\n",
            " 6   model year    398 non-null    int64  \n",
            " 7   origin        398 non-null    int64  \n",
            " 8   name          398 non-null    object \n",
            "dtypes: float64(4), int64(3), object(2)\n",
            "memory usage: 28.1+ KB\n",
            "None\n"
          ]
        }
      ]
    },
    {
      "cell_type": "markdown",
      "metadata": {
        "id": "lIhz8-4wLpl9"
      },
      "source": [
        "데이터프레임 클래스의 **dtypes 속성**을 활용하여 각 열의 자료형을 확인할 수 있다. 특정 열만 선택하여 적용하는 것도 가능하다."
      ]
    },
    {
      "cell_type": "code",
      "metadata": {
        "colab": {
          "base_uri": "https://localhost:8080/"
        },
        "id": "0HNbsts3XAOh",
        "outputId": "6cf2101b-1908-4d65-b155-9bc8ff88110c"
      },
      "source": [
        "print(df.dtypes)\n",
        "print('\\n')\n",
        "\n",
        "print(df.mpg.dtypes)"
      ],
      "execution_count": null,
      "outputs": [
        {
          "output_type": "stream",
          "name": "stdout",
          "text": [
            "mpg             float64\n",
            "cylinders         int64\n",
            "displacement    float64\n",
            "horsepower       object\n",
            "weight          float64\n",
            "acceleration    float64\n",
            "model year        int64\n",
            "origin            int64\n",
            "name             object\n",
            "dtype: object\n",
            "\n",
            "\n",
            "float64\n"
          ]
        }
      ]
    },
    {
      "cell_type": "markdown",
      "metadata": {
        "id": "M89QjDbSL14s"
      },
      "source": [
        "<h3> 데이터프레임의 기술 통계 정보 요약 </h3>\n",
        "\n",
        "데이터프레임에 **describe() 메소드**를 적용하면, 산술(숫자) 데이터를 갖는 열에 대한 주요 기술 통계 정보(평균, 표준편차, 최대값, 최소값, 중간값 등)를 요약하여 출력한다. <br>\n",
        "산술 데이터가 아닌 열에 대한 정보를 포함하고 싶을 때는 **include 매개변수**를 'all'로 지정하면 된다. 이를 이용하면 문자열 데이터가 들어 있는 열의 unique(고유값 개수), top(최빈값), freq(빈도수)에 대한 정보가 추가된다. 하지만 산술 데이터를 가진 열에 대해서 해당 값들은 NaN 으로 표시된다.\n",
        "\n",
        "* **데이터프레임의 기술 통계 정보 요약: DataFrame 객체.describe()**"
      ]
    },
    {
      "cell_type": "code",
      "metadata": {
        "colab": {
          "base_uri": "https://localhost:8080/"
        },
        "id": "BMrqdEQgXqin",
        "outputId": "3e173e7f-2f23-4e44-9fac-e37ad868711e"
      },
      "source": [
        "print(df.describe())\n",
        "print('\\n')\n",
        "print(df.describe(include = 'all'))"
      ],
      "execution_count": null,
      "outputs": [
        {
          "output_type": "stream",
          "name": "stdout",
          "text": [
            "              mpg   cylinders  ...  model year      origin\n",
            "count  398.000000  398.000000  ...  398.000000  398.000000\n",
            "mean    23.514573    5.454774  ...   76.010050    1.572864\n",
            "std      7.815984    1.701004  ...    3.697627    0.802055\n",
            "min      9.000000    3.000000  ...   70.000000    1.000000\n",
            "25%     17.500000    4.000000  ...   73.000000    1.000000\n",
            "50%     23.000000    4.000000  ...   76.000000    1.000000\n",
            "75%     29.000000    8.000000  ...   79.000000    2.000000\n",
            "max     46.600000    8.000000  ...   82.000000    3.000000\n",
            "\n",
            "[8 rows x 7 columns]\n",
            "\n",
            "\n",
            "               mpg   cylinders  ...      origin        name\n",
            "count   398.000000  398.000000  ...  398.000000         398\n",
            "unique         NaN         NaN  ...         NaN         305\n",
            "top            NaN         NaN  ...         NaN  ford pinto\n",
            "freq           NaN         NaN  ...         NaN           6\n",
            "mean     23.514573    5.454774  ...    1.572864         NaN\n",
            "std       7.815984    1.701004  ...    0.802055         NaN\n",
            "min       9.000000    3.000000  ...    1.000000         NaN\n",
            "25%      17.500000    4.000000  ...    1.000000         NaN\n",
            "50%      23.000000    4.000000  ...    1.000000         NaN\n",
            "75%      29.000000    8.000000  ...    2.000000         NaN\n",
            "max      46.600000    8.000000  ...    3.000000         NaN\n",
            "\n",
            "[11 rows x 9 columns]\n"
          ]
        }
      ]
    },
    {
      "cell_type": "markdown",
      "metadata": {
        "id": "EPN4UwAnObVt"
      },
      "source": [
        "<h3> 각 열의 데이터 개수 </h3>\n",
        "\n",
        "info() 메소드는 화면에 각 열의 데이터 개수 정보를 출력하지만 반환하는 값이 없어서 다시 사용하는데 어려움이 있다. **count() 메소드**는 데이터프레임의 각 열이 가지고 있는 데이터 개수를 시리즈 객체로 반환한다. 단, 유효한 값의 개수만 계산한다.\n",
        "\n",
        "* **열 데이터 개수 확인: DataFrame 객체.count()**"
      ]
    },
    {
      "cell_type": "code",
      "metadata": {
        "colab": {
          "base_uri": "https://localhost:8080/"
        },
        "id": "2gFkCmYhYKf4",
        "outputId": "c978dbf6-4d9b-41ce-df22-369e23041926"
      },
      "source": [
        "print(df.count())\n",
        "print('\\n')\n",
        "print(type(df.count()))"
      ],
      "execution_count": null,
      "outputs": [
        {
          "output_type": "stream",
          "name": "stdout",
          "text": [
            "mpg             398\n",
            "cylinders       398\n",
            "displacement    398\n",
            "horsepower      398\n",
            "weight          398\n",
            "acceleration    398\n",
            "model year      398\n",
            "origin          398\n",
            "name            398\n",
            "dtype: int64\n",
            "\n",
            "\n",
            "<class 'pandas.core.series.Series'>\n"
          ]
        }
      ]
    },
    {
      "cell_type": "markdown",
      "metadata": {
        "id": "dB7ip3lSO5sN"
      },
      "source": [
        "<h3> 각 열의 고유값 개수 </h3>\n",
        "\n",
        "**value_counts() 메소드**는 시리즈 객체의 고유값(unique value) 개수를 세는 데 사용한다. 데이터프레임의 열은 시리즈이므로, value_counts() 메소드로 각 열의 고유값의 종류와 개수를 확인할 수 있다. 고유값이 행 인덱스가 되고, 고유값의 개수가 데이터 값이 되는 시리즈 객체가 만들어진다. <br>\n",
        "**dropna 매개변수**를 True로 지정하면 NaN 값을 제외하고 개수를 계산하고 기본값은 False이다.\n",
        "\n",
        "* **열 데이터의 고유값 개수: DataFrame 객체[\"열 이름\"].value_counts()**"
      ]
    },
    {
      "cell_type": "code",
      "metadata": {
        "colab": {
          "base_uri": "https://localhost:8080/"
        },
        "id": "ns7ytcPY-p3g",
        "outputId": "2c0ac87e-1065-4f8b-a312-bc4a20bbd652"
      },
      "source": [
        "unique_values = df['origin'].value_counts()\n",
        "print(unique_values)\n",
        "print('\\n')\n",
        "\n",
        "print(type(unique_values))"
      ],
      "execution_count": null,
      "outputs": [
        {
          "output_type": "stream",
          "name": "stdout",
          "text": [
            "1    249\n",
            "3     79\n",
            "2     70\n",
            "Name: origin, dtype: int64\n",
            "\n",
            "\n",
            "<class 'pandas.core.series.Series'>\n"
          ]
        }
      ]
    }
  ]
}