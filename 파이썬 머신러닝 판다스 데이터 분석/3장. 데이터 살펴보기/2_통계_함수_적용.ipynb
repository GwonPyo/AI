{
  "nbformat": 4,
  "nbformat_minor": 0,
  "metadata": {
    "colab": {
      "name": "2. 통계 함수 적용.ipynb",
      "provenance": [],
      "collapsed_sections": []
    },
    "kernelspec": {
      "name": "python3",
      "display_name": "Python 3"
    },
    "language_info": {
      "name": "python"
    }
  },
  "cells": [
    {
      "cell_type": "markdown",
      "metadata": {
        "id": "lJ-PBuKAUi6R"
      },
      "source": [
        "<h3> 평균값 </h3>\n",
        "\n",
        "데이터프레임에 **mean() 메소드**를 적용하면, 산술 데이터를 갖는 모든 열의 평균값을 계산해 시리즈 객체로 반환한다. 데이터프레임의 특정 열을 선택해 평균값을 계산할 수도 있다.\n",
        "\n",
        "* **모든 열의 평균값: DataFrame 객체.mean()**\n",
        "* **특정 열의 평균값: DataFrame 객체[\"열 이름\"].mean()**"
      ]
    },
    {
      "cell_type": "code",
      "metadata": {
        "colab": {
          "base_uri": "https://localhost:8080/"
        },
        "id": "6kSfvzye_kJw",
        "outputId": "008c96cf-343c-4e5d-cc5f-6a3bb964a84c"
      },
      "source": [
        "import pandas as pd\n",
        "\n",
        "df = pd.read_csv('auto-mpg.csv')\n",
        "\n",
        "df.columns = ['mpg','cylinders','displacement','horsepower','weight',\n",
        "              'acceleration','model year','origin','name']\n",
        "\n",
        "print(df.mean())\n",
        "print('\\n')\n",
        "print(df['mpg'].mean())\n",
        "print(df.mpg.mean())\n",
        "print('\\n')\n",
        "print(df[['mpg', 'weight']].mean())"
      ],
      "execution_count": null,
      "outputs": [
        {
          "output_type": "stream",
          "name": "stdout",
          "text": [
            "mpg               23.528463\n",
            "cylinders          5.448363\n",
            "displacement     193.139798\n",
            "weight          2969.080605\n",
            "acceleration      15.577078\n",
            "model year        76.025189\n",
            "origin             1.574307\n",
            "dtype: float64\n",
            "\n",
            "\n",
            "23.528463476070538\n",
            "23.528463476070538\n",
            "\n",
            "\n",
            "mpg         23.528463\n",
            "weight    2969.080605\n",
            "dtype: float64\n"
          ]
        }
      ]
    },
    {
      "cell_type": "markdown",
      "metadata": {
        "id": "miqQjktKU9IP"
      },
      "source": [
        "<h3> 중간값 </h3>\n",
        "\n",
        "데이터프레임에 **median() 메소드**를 적용하면 산술 데이터를 갖는 모든 열의 중간값을 계산하여 시리즈로 반환한다. 특정 열을 선택해 중간값을 계산할 수도 있다.\n",
        "\n",
        "* **모든 열의 중간값: DataFrame 객체.median()**\n",
        "* **특정 열의 중간값: DataFrame 객체[\"열 이름\"].median()**"
      ]
    },
    {
      "cell_type": "code",
      "metadata": {
        "colab": {
          "base_uri": "https://localhost:8080/"
        },
        "id": "QR2f28uRAs3A",
        "outputId": "1a91ce97-fe54-4cd4-85ca-e1e7d8d69afe"
      },
      "source": [
        "print(df.median())\n",
        "print('\\n')\n",
        "print(df['mpg'].median())"
      ],
      "execution_count": null,
      "outputs": [
        {
          "output_type": "stream",
          "name": "stdout",
          "text": [
            "mpg               23.0\n",
            "cylinders          4.0\n",
            "displacement     146.0\n",
            "weight          2800.0\n",
            "acceleration      15.5\n",
            "model year        76.0\n",
            "origin             1.0\n",
            "dtype: float64\n",
            "\n",
            "\n",
            "23.0\n"
          ]
        }
      ]
    },
    {
      "cell_type": "markdown",
      "metadata": {
        "id": "SvTmsdanVX0u"
      },
      "source": [
        "<h3> 최대값 </h3>\n",
        "\n",
        "데이터프레임에 **max() 메소드**를 적용하면 데이터프레임을 각 열이 갖는 데이터 값 중에서 최대값을 계산해 시리즈로 반환한다. 특정 열을 선택해 계산할 수도 있다.\n",
        "<br>\n",
        "문자열 데이터를 가진 열은 문자열을 ASCII 숫자로 변환하여 크고 작음을 비교한다.\n",
        "\n",
        "* **모든 열의 최대값: DataFrame 객체.max()**\n",
        "* **특정 열의 최대값: DataFrame 객체[\"열 이름\"].max()**"
      ]
    },
    {
      "cell_type": "code",
      "metadata": {
        "colab": {
          "base_uri": "https://localhost:8080/"
        },
        "id": "w1TmSDxnBNn2",
        "outputId": "8e6ac169-8bb6-48a2-b44e-d4cf466347a8"
      },
      "source": [
        "print(df.max())\n",
        "print('\\n')\n",
        "print(df['mpg'].max())"
      ],
      "execution_count": null,
      "outputs": [
        {
          "output_type": "stream",
          "name": "stdout",
          "text": [
            "mpg                         46.6\n",
            "cylinders                      8\n",
            "displacement                 455\n",
            "horsepower                     ?\n",
            "weight                      5140\n",
            "acceleration                24.8\n",
            "model year                    82\n",
            "origin                         3\n",
            "name            vw rabbit custom\n",
            "dtype: object\n",
            "\n",
            "\n",
            "46.6\n"
          ]
        }
      ]
    },
    {
      "cell_type": "markdown",
      "metadata": {
        "id": "4aGJ93yYWFV2"
      },
      "source": [
        "<h3> 최소값 </h3>\n",
        "\n",
        "데이터프레임에 **min() 메소드**를 적용하면 데이터프레임의 각 열이 갖는 데이터 값 중에서 최소값을 계산해 시리즈로 반환한다. 특정 열을 선택해 계산할 수도 있다.\n",
        "<br>\n",
        "문자열 데이터를 가진 열은 문자열을 ASCII 숫자로 변환하여 크고 작음을 비교한다.\n",
        "\n",
        "* **모든 열의 최소값: DataFrame 객체.min()**\n",
        "* **특정 열의 최소값: DataFrame 객체[\"열 이름\"].min()**\n"
      ]
    },
    {
      "cell_type": "code",
      "metadata": {
        "colab": {
          "base_uri": "https://localhost:8080/"
        },
        "id": "cMbxfOHsBrFN",
        "outputId": "83c0e53c-1278-4688-f6c1-0dcd607ec28e"
      },
      "source": [
        "print(df.min())\n",
        "print('\\n')\n",
        "print(df['mpg'].min())"
      ],
      "execution_count": null,
      "outputs": [
        {
          "output_type": "stream",
          "name": "stdout",
          "text": [
            "mpg                                   9\n",
            "cylinders                             3\n",
            "displacement                         68\n",
            "horsepower                        100.0\n",
            "weight                             1613\n",
            "acceleration                          8\n",
            "model year                           70\n",
            "origin                                1\n",
            "name            amc ambassador brougham\n",
            "dtype: object\n",
            "\n",
            "\n",
            "9.0\n"
          ]
        }
      ]
    },
    {
      "cell_type": "markdown",
      "metadata": {
        "id": "CbIWZhwjWoqt"
      },
      "source": [
        "<h3> 표준편차 </h3>\n",
        "\n",
        "데이터프레임에 **std() 메소드**를 적용하면 산술 데이터를 갖는 열의 표준편차를 계산하여 시리즈로 반환한다. 특정 열을 선택해 계산할 수도 있다.\n",
        "\n",
        "* **모든 열의 표준편차: DataFrame 객체.std()**\n",
        "* **특정 열의 표준편차: DataFrame 객체[\"열 이름\"].std()**"
      ]
    },
    {
      "cell_type": "code",
      "metadata": {
        "colab": {
          "base_uri": "https://localhost:8080/"
        },
        "id": "O36harXICEBu",
        "outputId": "581c7fc3-cc35-40af-e3bb-61b077798937"
      },
      "source": [
        "print(df.std())\n",
        "print('\\n')\n",
        "print(df['mpg'].std())"
      ],
      "execution_count": null,
      "outputs": [
        {
          "output_type": "stream",
          "name": "stdout",
          "text": [
            "mpg               7.820926\n",
            "cylinders         1.698329\n",
            "displacement    104.244898\n",
            "weight          847.485218\n",
            "acceleration      2.755326\n",
            "model year        3.689922\n",
            "origin            0.802549\n",
            "dtype: float64\n",
            "\n",
            "\n",
            "7.820926403236991\n"
          ]
        }
      ]
    },
    {
      "cell_type": "markdown",
      "metadata": {
        "id": "JCkc1bGSWqwG"
      },
      "source": [
        "<h3> 상관계수 </h3>\n",
        "\n",
        "데이터프레임에 **corr() 메소드**를 적용하면 두 열 간의 상관계수를 계산한다. 산술 데이터를 갖는 모든 열에 대해 2개씩 짝을 짓고 각각의 경우에 대해 상관계수를 계산한다. <br>\n",
        "산술 데이터를 가진 열의 개수만큼 행과 열을 만들어 데이터프레임을 구성하고 각 경우에 따라 상관계수를 표시한다."
      ]
    },
    {
      "cell_type": "code",
      "metadata": {
        "colab": {
          "base_uri": "https://localhost:8080/"
        },
        "id": "XNlSREtyCQKl",
        "outputId": "01f0aca3-e28e-4ffa-97a5-cffbfd34281e"
      },
      "source": [
        "print(df.corr())\n",
        "print('\\n')\n",
        "print(df[['mpg', 'weight']].corr())"
      ],
      "execution_count": null,
      "outputs": [
        {
          "output_type": "stream",
          "name": "stdout",
          "text": [
            "                   mpg  cylinders  ...  model year    origin\n",
            "mpg           1.000000  -0.775412  ...    0.578667  0.562894\n",
            "cylinders    -0.775412   1.000000  ...   -0.344729 -0.561796\n",
            "displacement -0.803972   0.950718  ...   -0.367470 -0.608749\n",
            "weight       -0.831558   0.896623  ...   -0.305150 -0.580552\n",
            "acceleration  0.419133  -0.503016  ...    0.284376  0.204102\n",
            "model year    0.578667  -0.344729  ...    1.000000  0.178441\n",
            "origin        0.562894  -0.561796  ...    0.178441  1.000000\n",
            "\n",
            "[7 rows x 7 columns]\n",
            "\n",
            "\n",
            "             mpg    weight\n",
            "mpg     1.000000 -0.831558\n",
            "weight -0.831558  1.000000\n"
          ]
        }
      ]
    }
  ]
}