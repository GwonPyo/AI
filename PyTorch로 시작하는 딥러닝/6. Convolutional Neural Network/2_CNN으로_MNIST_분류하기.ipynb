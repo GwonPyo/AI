{
  "nbformat": 4,
  "nbformat_minor": 0,
  "metadata": {
    "colab": {
      "name": "2. CNN으로 MNIST 분류하기.ipynb",
      "provenance": [],
      "collapsed_sections": []
    },
    "kernelspec": {
      "name": "python3",
      "display_name": "Python 3"
    },
    "language_info": {
      "name": "python"
    },
    "accelerator": "GPU"
  },
  "cells": [
    {
      "cell_type": "markdown",
      "source": [
        "## <strong> 1. 모델 구현 </strong>"
      ],
      "metadata": {
        "id": "k2AgvPY0cm9B"
      }
    },
    {
      "cell_type": "markdown",
      "source": [
        "2개의 합성곱 층(합성곱, 활성화 함수, 풀링)과 1개의 전결합층(Fully connected layer)로 구성된 모델을 만들어보자."
      ],
      "metadata": {
        "id": "6O6-VYzpcxB1"
      }
    },
    {
      "cell_type": "markdown",
      "source": [
        "<h3> <strong> 1.1 도구 임포트, 입력 정의 </strong> </h3>"
      ],
      "metadata": {
        "id": "mL8G38S6dYbb"
      }
    },
    {
      "cell_type": "code",
      "source": [
        "# 도구 임포트\n",
        "import torch\n",
        "import torch.nn as nn"
      ],
      "metadata": {
        "id": "g-BLdoBNdBzP"
      },
      "execution_count": 1,
      "outputs": []
    },
    {
      "cell_type": "markdown",
      "source": [
        "임의의 텐서를 만들어 주자."
      ],
      "metadata": {
        "id": "lbbc8tv4dE_H"
      }
    },
    {
      "cell_type": "code",
      "source": [
        "inputs = torch.Tensor(1, 1, 28, 28)"
      ],
      "metadata": {
        "id": "p-Jo-VP9dI3E"
      },
      "execution_count": 2,
      "outputs": []
    },
    {
      "cell_type": "markdown",
      "source": [
        "<h3> <strong> 1.2 합성곱층과 풀링 선언 </strong> </h3>"
      ],
      "metadata": {
        "id": "zXZyzMlYdW5l"
      }
    },
    {
      "cell_type": "code",
      "source": [
        "conv1 = nn.Conv2d(1, 32, 3, padding=1)              # 입력 차원:1, 출력 차원: 32\n",
        "conv2 = nn.Conv2d(32, 64, kernel_size=3, padding=1) # 입력 차원:32, 출력 차원: 64\n",
        "pool = nn.MaxPool2d(2)                    "
      ],
      "metadata": {
        "id": "mtb3bh8gdpb7"
      },
      "execution_count": 3,
      "outputs": []
    },
    {
      "cell_type": "markdown",
      "source": [
        "<h3> <strong> 1.3 구현체 연결 </strong> </h3>"
      ],
      "metadata": {
        "id": "hTLCTLkYeJ6K"
      }
    },
    {
      "cell_type": "markdown",
      "source": [
        "위에서 만든 입력 텐서를 conv1에 넣어보자."
      ],
      "metadata": {
        "id": "RB36MIB_ez3k"
      }
    },
    {
      "cell_type": "code",
      "source": [
        "out = conv1(inputs)\n",
        "print(out.shape)"
      ],
      "metadata": {
        "colab": {
          "base_uri": "https://localhost:8080/"
        },
        "id": "X14uc0LDeNZv",
        "outputId": "30ffdb22-91bb-44dc-c71c-64c2f5d198fd"
      },
      "execution_count": 4,
      "outputs": [
        {
          "output_type": "stream",
          "name": "stdout",
          "text": [
            "torch.Size([1, 32, 28, 28])\n"
          ]
        }
      ]
    },
    {
      "cell_type": "markdown",
      "source": [
        "1차원 입력을 32개의 차원을 가진 텐서로 출력해주었다."
      ],
      "metadata": {
        "id": "Wu5WncGHe3bd"
      }
    },
    {
      "cell_type": "code",
      "source": [
        "# fully connected Layer를 만들기 전까지 수행하여 out에 저장한다.\n",
        "out = pool(out)\n",
        "out = conv2(out)\n",
        "out = pool(out)\n",
        "print(out.shape)"
      ],
      "metadata": {
        "id": "sIrq9JkYfRK2",
        "colab": {
          "base_uri": "https://localhost:8080/"
        },
        "outputId": "5653148c-db1c-485d-b3ab-1e71f31b6b39"
      },
      "execution_count": 5,
      "outputs": [
        {
          "output_type": "stream",
          "name": "stdout",
          "text": [
            "torch.Size([1, 64, 7, 7])\n"
          ]
        }
      ]
    },
    {
      "cell_type": "markdown",
      "source": [
        "[참고] .size(i)를 하면 i번째 차원의 크기를 알 수 있다."
      ],
      "metadata": {
        "id": "vK2zExJgfsC6"
      }
    },
    {
      "cell_type": "code",
      "source": [
        "print(out.size(0), out.size(1), out.size(2), out.size(3))"
      ],
      "metadata": {
        "colab": {
          "base_uri": "https://localhost:8080/"
        },
        "id": "HVYx4MWIfx1X",
        "outputId": "9c918299-ed0f-449e-c2d4-f11bad1f1bae"
      },
      "execution_count": 6,
      "outputs": [
        {
          "output_type": "stream",
          "name": "stdout",
          "text": [
            "1 64 7 7\n"
          ]
        }
      ]
    },
    {
      "cell_type": "markdown",
      "source": [
        "이제 해당 출력 텐서를 **.view()**를 사용해 펼쳐보자."
      ],
      "metadata": {
        "id": "28Tju2Tgfgnk"
      }
    },
    {
      "cell_type": "code",
      "source": [
        "out = out.view(out.size(0), -1)\n",
        "print(out.shape)"
      ],
      "metadata": {
        "colab": {
          "base_uri": "https://localhost:8080/"
        },
        "id": "g5E1dWmMfoRh",
        "outputId": "dfb48835-62c5-47ec-8850-11a79d48a485"
      },
      "execution_count": 7,
      "outputs": [
        {
          "output_type": "stream",
          "name": "stdout",
          "text": [
            "torch.Size([1, 3136])\n"
          ]
        }
      ]
    },
    {
      "cell_type": "markdown",
      "source": [
        "배치 차원을 제외하고 모두 하나의 차원으로 통합되었다. <br>\n",
        "이제 출력층으로 10개의 뉴런을 배치해서 10개의 차원의 텐서로 변환하면 된다."
      ],
      "metadata": {
        "id": "asBM2ZcigD_L"
      }
    },
    {
      "cell_type": "code",
      "source": [
        "fc = nn.Linear(3136, 10)\n",
        "out = fc(out)\n",
        "print(out.shape)"
      ],
      "metadata": {
        "colab": {
          "base_uri": "https://localhost:8080/"
        },
        "id": "ODxl8VdmhJ5b",
        "outputId": "52a7371d-8bcd-452b-b230-ada2517a5889"
      },
      "execution_count": 8,
      "outputs": [
        {
          "output_type": "stream",
          "name": "stdout",
          "text": [
            "torch.Size([1, 10])\n"
          ]
        }
      ]
    },
    {
      "cell_type": "markdown",
      "source": [
        "## <strong> 2. CNN으로 MNIST 분류하기 </strong>"
      ],
      "metadata": {
        "id": "OgpxUTD8hPni"
      }
    },
    {
      "cell_type": "code",
      "source": [
        "# import tools\n",
        "import torch\n",
        "import torch.nn\n",
        "import torch.nn.init\n",
        "import torchvision.datasets as dsets\n",
        "import torchvision.transforms as transforms\n",
        "from torch.utils.data import DataLoader\n",
        "\n",
        "# set device\n",
        "device = 'cuda' if torch.cuda.is_available else 'cpu'\n",
        "\n",
        "torch.manual_seed(777)  # fix random seed\n",
        "\n",
        "if device == 'cuda':    # if use cuda fix random seed\n",
        "  torch.cuda.manual_seed_all(777)\n",
        "\n",
        "# set hyper-parameters\n",
        "learning_rate = 0.001\n",
        "training_epochs = 15\n",
        "batch_size = 100\n",
        "\n",
        "# define datasets\n",
        "mnist_train = dsets.MNIST(root='MNIST_data/', \n",
        "                          train=True,         \n",
        "                          transform=transforms.ToTensor(),\n",
        "                          download=True)\n",
        "\n",
        "mnist_test = dsets.MNIST(root='MNIST_data/', \n",
        "                          train=False,         \n",
        "                          transform=transforms.ToTensor(),\n",
        "                          download=True)\n",
        "\n",
        "data_loader = DataLoader(mnist_train, batch_size, shuffle=True, drop_last=True)\n",
        "\n",
        "# design model\n",
        "class CNN(torch.nn.Module):\n",
        "  def __init__(self):\n",
        "    super().__init__()\n",
        "    # first layer(convolution)\n",
        "    self.layer1 = torch.nn.Sequential(\n",
        "        torch.nn.Conv2d(1, 32, kernel_size=3, stride=1, padding=1),\n",
        "        torch.nn.ReLU(),\n",
        "        torch.nn.MaxPool2d(kernel_size=2, stride=2)\n",
        "    )\n",
        "    # second layer(convolution)\n",
        "    self.layer2 = torch.nn.Sequential(\n",
        "        torch.nn.Conv2d(32, 64, kernel_size=3, stride=1, padding=1),\n",
        "        torch.nn.ReLU(),\n",
        "        torch.nn.MaxPool2d(kernel_size=2, stride=2)\n",
        "    )\n",
        "    # third layer(fully-connected layer)\n",
        "    self.layer3 = torch.nn.Linear(7*7*64, 10, bias=True)\n",
        "    \n",
        "    # fully-connected layer's weight initialize\n",
        "    torch.nn.init.xavier_uniform_(self.layer3.weight)\n",
        "  \n",
        "  def forward(self, x):\n",
        "    out = self.layer1(x)\n",
        "    out = self.layer2(out)\n",
        "    out = out.view(out.size(0), -1)\n",
        "    out = self.layer3(out)\n",
        "    return out\n",
        "  \n",
        "model = CNN().to(device)\n",
        "criterion = torch.nn.CrossEntropyLoss()\n",
        "optimizer = torch.optim.Adam(model.parameters(), lr=learning_rate)\n",
        "\n",
        "total_batch = len(data_loader)\n",
        "\n",
        "model.train()\n",
        "for epoch in range(training_epochs):\n",
        "  avg_cost = 0\n",
        "  for x, y in data_loader:\n",
        "    x = x.to(device)\n",
        "    y = y.to(device)\n",
        "    \n",
        "    hypothesis = model(x)\n",
        "    cost = criterion(hypothesis, y)\n",
        "\n",
        "    optimizer.zero_grad()\n",
        "    cost.backward()\n",
        "    optimizer.step()\n",
        "\n",
        "    avg_cost += cost / total_batch\n",
        "  \n",
        "  print('[Epoch: {:>4}] cost = {:>.9}'.format(epoch + 1, avg_cost))\n"
      ],
      "metadata": {
        "colab": {
          "base_uri": "https://localhost:8080/"
        },
        "id": "lFrmFvMIhW2L",
        "outputId": "d3b1c096-2ec7-479d-c6b9-7de336eb7bc8"
      },
      "execution_count": 51,
      "outputs": [
        {
          "output_type": "stream",
          "name": "stdout",
          "text": [
            "[Epoch:    1] cost = 0.225604847\n",
            "[Epoch:    2] cost = 0.0630015135\n",
            "[Epoch:    3] cost = 0.0462957956\n",
            "[Epoch:    4] cost = 0.037392702\n",
            "[Epoch:    5] cost = 0.031350553\n",
            "[Epoch:    6] cost = 0.0260586087\n",
            "[Epoch:    7] cost = 0.0217555109\n",
            "[Epoch:    8] cost = 0.0182944853\n",
            "[Epoch:    9] cost = 0.016116567\n",
            "[Epoch:   10] cost = 0.0133719705\n",
            "[Epoch:   11] cost = 0.0103800893\n",
            "[Epoch:   12] cost = 0.0103182914\n",
            "[Epoch:   13] cost = 0.0077088601\n",
            "[Epoch:   14] cost = 0.00677035563\n",
            "[Epoch:   15] cost = 0.00714943279\n"
          ]
        }
      ]
    },
    {
      "cell_type": "code",
      "source": [
        "# [참고용]\n",
        "print(len(data_loader))              # DataLoader의 총 iteration\n",
        "print(len(list(data_loader)[0]))     # feature matrix, label\n",
        "print(list(data_loader)[0][0].shape) # bach size에 맞게 짝지어진 feature matrix"
      ],
      "metadata": {
        "colab": {
          "base_uri": "https://localhost:8080/"
        },
        "id": "OGel_wasGcw5",
        "outputId": "5620341b-3b4a-4f1c-cb57-b564752c8cca"
      },
      "execution_count": 52,
      "outputs": [
        {
          "output_type": "stream",
          "name": "stdout",
          "text": [
            "600\n",
            "2\n",
            "torch.Size([100, 1, 28, 28])\n"
          ]
        }
      ]
    },
    {
      "cell_type": "code",
      "source": [
        "test_loader = DataLoader(mnist_test, batch_size=len(mnist_test), shuffle=False) # (10,000, 1, 28, 28) 크기로 바꾸기 위함\n",
        "\n",
        "model.eval()\n",
        "\n",
        "with torch.no_grad():\n",
        "  for x, y in test_loader:\n",
        "    x = x.to(device)\n",
        "    y = y.to(device)\n",
        "    prediction = model(x)\n",
        "    correct_prediction = torch.argmax(prediction, 1) == y\n",
        "    accuracy = correct_prediction.float().mean()\n",
        "    print('Accuracy:', accuracy.item())"
      ],
      "metadata": {
        "colab": {
          "base_uri": "https://localhost:8080/"
        },
        "id": "rDBZgAmZBpLf",
        "outputId": "74841c61-26b3-458c-e29a-6d8df758ec10"
      },
      "execution_count": 53,
      "outputs": [
        {
          "output_type": "stream",
          "name": "stdout",
          "text": [
            "Accuracy: 0.9884999990463257\n"
          ]
        }
      ]
    },
    {
      "cell_type": "markdown",
      "source": [
        "출처: https://wikidocs.net/63565"
      ],
      "metadata": {
        "id": "YdOByqYDOn4r"
      }
    }
  ]
}