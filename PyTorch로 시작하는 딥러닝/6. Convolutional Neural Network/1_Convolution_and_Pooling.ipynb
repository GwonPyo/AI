{
  "nbformat": 4,
  "nbformat_minor": 0,
  "metadata": {
    "colab": {
      "name": "1. Convolution and Pooling.ipynb",
      "provenance": [],
      "collapsed_sections": []
    },
    "kernelspec": {
      "name": "python3",
      "display_name": "Python 3"
    },
    "language_info": {
      "name": "python"
    }
  },
  "cells": [
    {
      "cell_type": "markdown",
      "source": [
        "**합성곱 신경망(Convolutional Neural Network)**은 이미지 처리에 탁월한 성능을 보인는 신경망이다. <br>\n",
        "합성곱 신경망은 **합성곱 층(Convolution layer)**과 **풀링 층(Pooling layer)**으로 구성된다.\n"
      ],
      "metadata": {
        "id": "wiL8N5O04zBw"
      }
    },
    {
      "cell_type": "markdown",
      "source": [
        "## <strong> 1. 합성곱 신경망의 대두 </strong>"
      ],
      "metadata": {
        "id": "TYYVZeKQ6SJQ"
      }
    },
    {
      "cell_type": "markdown",
      "source": [
        "이미지 처리를 위해 MLP를 사용할 수 있었지만 한계가 있었다. <br>\n",
        "아래와 같은 앞파벳 Y는 사람의 입장에서 구분하기 쉽다. <br> 하지만 기계의 입장에서 각 픽셀이 가진 값이 거의 상이하므로 다른 값을 가진 입력이 된다.\n",
        "\n",
        "![image.png](data:image/png;base64,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)\n",
        "\n",
        "이미지는 위 처럼 **같은 대상이라도 휘어지거나, 이동되는 등 다양한 변형이 존재한다.** <br>\n",
        "하지만 MLP는 몇 가지 픽셀만 값이 달라져도 민감하게 예측에 영향을 받는다. <br>\n",
        "MLP는 학습을 위해 **이미지를 1차원 텐서로 변환하여 입력을 받는다.** <br>\n",
        "위에서 두 번째 y를 1차원 벡터로 풀면 다음과 같다.\n",
        "\n",
        "![image.png](data:image/png;base64,iVBORw0KGgoAAAANSUhEUgAAAfoAAAAaCAYAAABfJp5/AAAAzklEQVR4nO3cwQqDMBBF0U7p///ydNVlSApW4+s5S5UwonBBiNXd/QAAIj2vHgAA+B2hB4BgQg8AwYQeAIIJPQAEE3oACCb0ABBM6AEgmNADQLDX7IKqOmMOAOBLKz+3nYZ+tFBV/d3xkbusP3ohzpjpqHWuesYju82f+lzcl/vaYc6djn/OrfDpHgCCCT0ABBN6AAgm9AAQTOgBIJjQA0Cw6skmPPvoAWBPh+yjX1kEANiTT/cAEEzoASCY0ANAMKEHgGBCDwDBhB4Agr0B9ozmLlvn5oQAAAAASUVORK5CYII=)\n",
        "\n",
        "위와 같은 입력은 **공간적인 구조(spatial structure)** 정보가 유실된 상태이다. <br>\n",
        "공간적인 구조 정보는 거리가 가까운 어떤 픽셀들끼리는 어떤 연관이 있다, 어떤 픽셀들끼리는 값이 비슷하다 등의 정보를 포함한다. <br>\n",
        "즉, 이미지의 공간적 구조 정보를 보존하면서 학습할 수 있는 방법이 필요했고, 이를 위해 사용하는 것이 합성곱 신경망이다."
      ],
      "metadata": {
        "id": "3N7jjQxr6TKX"
      }
    },
    {
      "cell_type": "markdown",
      "source": [
        "## <strong> 2. 채널 </strong>"
      ],
      "metadata": {
        "id": "ItZbZO6n_6-O"
      }
    },
    {
      "cell_type": "markdown",
      "source": [
        "기계는 글자나 이미지보다 숫자 즉, 텐서를 더 잘 처리한다. <br>\n",
        "이미지는 **(높이, 너비, 채널)** 총 3차원 텐서이다.\n",
        "\n",
        "* 높이(height): 세로 방향 픽셀 수\n",
        "* 너비(width): 가로 방향 픽셀 수\n",
        "* 채널(channel): 색 성분\n",
        "\n",
        "흑색 이미지는 채널 수가 1이며 각 픽셀은 0부터 255 사이의 값을 가진다. <br>\n",
        "컬러 이미지는 채널 수가 3개(R, G, B)이다. <br>\n",
        "채널을 **깊이(depth)**라고 부르기도 한다."
      ],
      "metadata": {
        "id": "z7oks5wYAAqW"
      }
    },
    {
      "cell_type": "markdown",
      "source": [
        "## <strong> 3. 합성곱 연산 </strong>"
      ],
      "metadata": {
        "id": "BTVWCqBkAsq4"
      }
    },
    {
      "cell_type": "markdown",
      "source": [
        "합성곱층은 합성곱 연산을 통해 **이미지의 특징을 추출하는 역할**을 한다. <br>\n",
        "합성곱층에서는 **커널(kernel)** 혹은 **필터(filter)**라고 불리는 $n\\times m$크기의 행렬로 이미지를 처음부터 끝까지 겹치며 흝는다. <br>\n",
        "이때 이미지와 겹쳐지는 이미지의 각 원소를 커널의 원소들과 곱해서 모두 더한 값을 출력으로 만든다.\n",
        "\n",
        "* 커널(kernel)은 일반적으로 $3\\times 3$ 혹은 $5\\times 5$를 사용한다."
      ],
      "metadata": {
        "id": "Y2OLYt0ZA0ok"
      }
    },
    {
      "cell_type": "markdown",
      "source": [
        "$\n",
        "conv\\begin{pmatrix}\n",
        "\\begin{pmatrix}\n",
        "1 \\, 2 \\, 3 \\, 4 \\, 5 \\\\\n",
        "2 \\, 1 \\, 0 \\, 1 \\, 2 \\\\\n",
        "3 \\, 0 \\, 1 \\, 1 \\, 0 \\\\\n",
        "1 \\, 4 \\, 1 \\, 1 \\, 2 \\\\\n",
        "2 \\, 1 \\, 1 \\, 0 \\, 0 \n",
        "\\end{pmatrix} ,\n",
        "\\begin{pmatrix}\n",
        "1 \\, 0 \\, 1 \\\\\n",
        "1 \\, 0 \\, 1 \\\\\n",
        "0 \\, 1 \\, 0 \n",
        "\\end{pmatrix}\n",
        "\\end{pmatrix} = \n",
        "\\begin{pmatrix}\n",
        "6 & 9 & 11 \\\\\n",
        "10 & 4 & 4 \\\\\n",
        "7 & 7 & 4 \n",
        "\\end{pmatrix}\n",
        "$"
      ],
      "metadata": {
        "id": "5Fmp8N02CBiY"
      }
    },
    {
      "cell_type": "markdown",
      "source": [
        "**(1) 첫 번째 스텝**<br>\n",
        "- \n",
        "$\n",
        "(1\\times1) + (2\\times0) + (3\\times1) +\n",
        "(2\\times1) + (1\\times0) + (0\\times1) +\n",
        "(3\\times0) + (0\\times1) + (1\\times0) =\n",
        "6\n",
        "$\n",
        "\n",
        "**(2) 두 번째 스텝**<br>\n",
        "- \n",
        "$\n",
        "(2\\times1) + (3\\times0) + (4\\times1) +\n",
        "(1\\times1) + (0\\times0) + (1\\times1) +\n",
        "(0\\times0) + (1\\times1) + (1\\times0) =\n",
        "9\n",
        "$\n",
        "\n",
        "**(3) 세 번째 스텝**<br>\n",
        "- \n",
        "$\n",
        "(3\\times1) + (4\\times0) + (5\\times1) +\n",
        "(0\\times1) + (1\\times0) + (2\\times1) +\n",
        "(1\\times0) + (1\\times1) + (0\\times0) =\n",
        "11\n",
        "$\n",
        "\n",
        "합성곱은 위와 같은 방식으로 진행되며 이후 6개의 결과값도 동일하게 계산해주면 된다. <br>\n",
        "위 계산의 결과로 나온 텐서를 **특성 맵(feature map)**이라고 한다.\n",
        "\n",
        "위에서 커널의 이동 범위는 한 칸이었지만 이는 사용자가 직접 지정할 수 있다. <br>\n",
        "이러한 이동 범위를 **스트라이드(stride)**라고 한다."
      ],
      "metadata": {
        "id": "qg2xQEDgDTKt"
      }
    },
    {
      "cell_type": "markdown",
      "source": [
        "## <strong> 4. 패딩 </strong>"
      ],
      "metadata": {
        "id": "FDGm06eWEbLe"
      }
    },
    {
      "cell_type": "markdown",
      "source": [
        "위 예에서 $5\\times 5$ 이미지에 $3\\times 3$의 커널을 적용하면 $3\\times 3$ 특성 맵을 얻을 수 있다. <br>\n",
        "이와 같이 **합성곱 연산의 결과로 얻은 특성 맵은 입력보다 크기가 작아진다.** <br>\n",
        "즉, 합성곱 층을 여러 개 쌓게되면 최종적으로 얻은 특성맵의 크기는 매우 작아진다. <br>\n",
        "합성곱 연산 이후에도 특성 맵의 크기가 입력의 크기와 동일하게 유지되도록 하고 싶다면 **패딩(padding)**을 사용하면 된다.\n",
        "\n",
        "패딩은 **합성곱 연산 전에 입력의 가장자리에 지정된 개수의 폭만큼 행과 열을 추가해는 것**을 말한다. <br>\n",
        "이때 각 행과 열의 원소값에는 주로 0을 채워준다.**(zero padding)**\n",
        "\n",
        "\n",
        "\n"
      ],
      "metadata": {
        "id": "6Cwk-TADIUSy"
      }
    },
    {
      "cell_type": "markdown",
      "source": [
        "## <strong> 5. 가중치와 편향 </strong>"
      ],
      "metadata": {
        "id": "DR4DtOCXJdkQ"
      }
    },
    {
      "cell_type": "markdown",
      "source": [
        "<h3> <strong> 5.1 합성곱 신경망의 가중치 </strong> </h3>\n",
        "\n",
        "MLP로 $3 \\times 3$ 이미지를 처리한다고 가정하자. <br>\n",
        "입력을 위해 해당 이미지를 9차원의 1차원 벡터로 만들어준다. <br>\n",
        "이때 출력층의 뉴런이 4개라고 하면 총 가중치는 **36(9×4)**개가 될 것이다.\n",
        "\n",
        "이번에는 합성곱 신경망으로 이미지를 처리한다고 가정하자. <br>\n",
        "커널의 크기는 2×2 크기, 스트라이드는 1로 가정하자. <br>\n",
        "\n",
        "![image.png](data:image/png;base64,iVBORw0KGgoAAAANSUhEUgAAARkAAAB8CAYAAABdXsRKAAAQ2ElEQVR4nO3df3BTZboH8G8uDO4WKMt0QKhtKkkUwVvEO4AVU70X0JQry8xS1BZ1XFhWCdwrUNl2B7uw6/TqpsMiONeG4Zc4V0h0gUVW2AYWdpcUZBaGq9QL4s1JaSgtyHorCM7KP7l/4DkmbZLmx3nSJv1+Zs5MkybPeZvmPHnf95y8jyEYDAZBRCTkH3q7AUSU3ZhkiEgUkwwRiWKSISJRTDJEJIpJhohEMckQkSgmGSISxSRDRKKYZIhIFJMMEYlikiEiUUwyRCSKSYaIRDHJEJEoJhkiEjUw2Se+++67GD58OAYNGqRnezSBQACjRo0Si3/p0iUMGTIEQ4YMEYs/fvx4TJgwQSQ+UaYwJLsy3rhx41Dy0L8gN3eY3m0CABz07MMDD1rF4h//sAkFhUYUFBjF4j8+81GsWrVKJD5Rpki6JzNq1Cj8eOESFBQU6tkezcW2gGh8rH0NUx4sRcmDVrH4RqNMAiPKJJyTISJRTDJEJIpJhohEMckQkai0JZlAoBXTrBN1j/vB3l2wFA7Tto3O9brvQzo+UTZL+uxSIqZZJyLQ2gJj0RjdY+96bwd8F65qty2Fw5B/RwFmzS7XJf7qlVWi8YmynXhPZqNzPYruNMO92yMS/613doXdrl75Ck4cP6pb/F+9ujbs9tPP/kS32ET9gXhP5nn7UjxvX4qTJ45L70pzR2GRSNxAoBXb/2tLt8TTVxUXF2PSpEli8Zubm1FcXCwW/+TJk2hubhaLL23kyJEYf4/MexEAzn7qx7h7TGLx/S1teH/vftx///0pxUnLcCldAoFW1L+6CoePntY1rqXw1lXHxqIxYUOnvq7z8mXUPP6vYvGfO/FX0fgz9u0Ti50OgwcPxuF9m8XiT3t8oWj8BfZVGD58eMpxsibJnDxxHBVzbHDv9sBo1PfTQ00sgUArLIXDsO7NrRkxJzNwwAAUjRolFv97gwaJxh84YIBYbEqfrDiFvXplFaqXL4LvwlVMmlwith+jsQju3R7sem+H2D6Isk3GJ5nVK6sAAIebPurllhBRJBmdZNIxETv/mfBhUcUcG8qfnCe2P6JskxVzMurErMpYNEa3nk35k/PC4mfKfAxRX5G2JDNpconuQxqjsUj8bM+s2eVMKkQpyOjhEhH1fUwyRCSKSYaIRDHJ9EPHmpuRU/owZq9Yod23+f29YbdzSh9GTunDfTI+ZZasOLtEiZlaXIy506fhy+vXtfuO/Pcp+C+0abfr7Ha0dnT0yfiUWZJOMjdv3sSljot6tiXMjRs3RONfu3YVf7tyGW1tF8Tif/PNNyKx9TDx7rHY/afDAICW9nacOvsp/O3t2u9bOzqwrLKiz8anzJF0krl06RK2bW7A4MGD9WyP5uyZZry9xYmcnByR+GfOfAK/4oP3z3+Uif8/zci/PfUvl0kZbxqDWuc5AMA6lxtrli/DnJ9VAwBO+3z4wdChGJOfDwD47aFDWPqbtfjyq69QZ7ejal6lrvGPNTfj12+/jZ8/9xymCn6rm3pH0knGaDTi57/4D7GSJTVVdvx71Uqx+G8Il0R5Y+1ruOuuu0Ri6yH32w+H0z4fWjraUVZSot1e8847eL2qSnvs0t+sReMb6zE0JwcPLfwpfvTPj2gJItX4vz10CADChlKUXTjx20+NzssDANRu2ID13x7wpvx8LHY4sKi8HHm5uQBu9TImjR+HCRYLxuTnY9L4cTh59qxu8Z+YPh1PTJ8OU2GB7n8j9Q2c+O2n1J7IszNnaj+bCgtw/91jexyyXLj8uWh8yi5MMv3Y194jYbf3rlkT8XH/dzX8qxvjTfGt1RxvfMpuTDIU09iiIpz69BxO+3wYmpODk2fOYqzO5Xe/uHYN/gttuHbjhq5xqW9gkqGY8nJz8fYvV6PsxaUAgPUvVfU46ZuItTtcqHU6AQBzflaNGQ9MYY8ny4hP/KajLhIgV9cJuLUwltr+ruvL9AdPTJ+O9v370L5/H56YPl3X2FXzKvG194i2McFkH/Eko9ZFUrf6V1fhg727en5iAqZZJ2LaQxN0jana6FyPQKBVaz/w3Wp80gwGAz7++OO07Ku/KCsrg8FgiLi53e7ebl5WEh8uRauLpNcaLWpdp/rXN6B6+SJdYoZyb38L23a8r93+1atrMe2hCWkri3Lfffcl/dwvr19H3da3dGxNuNaOS6LxQ7+WoJfGxkbdY0Zz5coVTHt8oVj8j0+fE41/7rMWLFl6BXfeeWdKcXplTkbPukiSdZ0CgVYACKt+YDQWwVg0BoFAq+5VEQDg5ZdfRmdnJ1544QUAgN/vx5pvhxANDQ0JxRo4YACKRstVE7ht0CDR+JlerWDEiBEZXxJlxIgRKcdJa5KRqosk5fPL0b/A9/nlDpEkU1VVhYMHD6KmpgYA8NRTT2HhwoV49NFHE4415Pvfx7MzZ+rdRM32P/xBNP6rAr2ksrIyeDyRq5m6XC5UVPD7VHpLW5KRrIuUTfLy8lBRUYEjR47AZrMBgNarodSlc7hEt6TlawXpqoukt5G3j07qd6nav38/Dhw4gO3btwMA6uvrxfZFJE08yWRyXSSjsQiB1hZtbgaIPE+jt08++QR1dXXIy8tDbW0tTp06JbYvImmiwyW1LlIm1Y/u6ulnf4LVK6u0s2SrV1ah4un5ovusrq7WfrZarbBaZb4pTpQOaRkuhV6MZykcJnbRnAT1VLXadqOxCM/bl/Zyq4gyh2hPJh11kVQSdZ1UXa/1IaL4cT0ZIhLFJENEophk+iGWRKF04lIP/RBLolA6sSfTT028e6y24p1USRTJ+JQ5ku7J+Hw+LFsyH7fd9j0926Px+z6DovyvWPy2C604eGA/cnOHicUfaJgrElsP8ZYsaWlvxzqXG5v27MEPhg7F1lW/0CoP6BG/8fhx1G3ZglOfnksoPmWOpJOMxWLBL1/7T5ZEiRG/uHisSGw9xFuy5Hd//guKLRZ87T2C1Rs3oWHnzriSQLzxz/hb8ONZP0TTpk0JxafMwTmZfipWyZL6F1/USpaEFnL7R7MJw4YMEYnf0t6OlvaLqFuk/5pA1Ls4J9NPRStZMn3ylIglS764dg2/93rjqh6ZaPy1O1y496kKkUWqqPexJ9OPxVuy5Itr1/DKps1hVSX1jF81rxJV8ypvLSq+YQPX+c0y7MlQTGqCWfXThcjLzcXqjZt0jT97xQo0Hr+1qmGuUF116l3syVBMr2zajE179mDTnj0AgBkPTNE1/uK5c7Hi9XWY096Of7pnLBq+XRGQsod4kgkEWsMqCax7c6tui4ir5j9TDu9f/gjg1tIMUot8WwqHZfSyFclY/1IV1r8kV52hrKQEZe+ySkA2Ex8ubdmwXisncvjoaSxbskDXRb9Xr6zSvu3tu3AV3iOHda/tNP+ZclgKZa6nIcp24j2Z0F6F0ViE0kdm6Bq/66JYamkUvdZ8+WDvLrSeV3D46Gmx2k5S/n7zJo58JLci4ZdfXReN//ebN8Vip0NnZycW2FeJxT/3WYto/KMffoTOzs7MKoly8sRxtJ5XdFvn9+SJ492S1qTJJQi0tugSHwBmzS7HrNnlYUtwZoqJkyfjw799IRZ/zL33isafOHmyWOx0OHjwoC4lRaJZsvSKaPzOzk6MGzcu5ThpnZMpfWSGrgtLXeq4GHO//b0qAlfm712ThZNkqj2MdMUXTzKhq+OdPHEclsJhcO/2ZFTVAiJKXlqvk5k0uQTr3tyK3//uPV3ijRp9R9Tf9fdeDFFfkdEX4428fbR26loVaZ6GiHqPaJIJBFq1ukvq7WVLFuCHP3pSl/jq2arQfVQvX4TyJ+fpEp+IUidereCOwqKwa0z0no95651dmGadqO2jeuUrul/sR0TJE5/4fd6+VLxOUTqqU6azvAtRNsnoORki6vuYZIhIFJMMEYlikiEiUUwyRCQq6bNLHR0dWP5vCzBo0G16tkcTaG2B3+8Ti3+p4yIOHWzEkKFDxeIPzYlvPVyibGYIBoPB3m4EEWUvDpeISBSTDBGJYpIhIlFMMkQkikmGiEQxyRCRKCYZIhLFJENEosSSjNvthsFgQH19fcLPLSsrg8FggN/vT7kdTU1NMBgMWLx4cdLtSHafyfztmWDx4sVJ/X9SeU9QdMm+T0NZLBZYLBYAgMFg0H7WQ9JJxu/3w2AwaFtZWVnCzwnd3O7kS5VaLJaE2gEgajt6enGjPU/dMpmaHCNtPb2uagJJ5f+YzdTEHGuL9UGoxwdv6HGS6PGSiqSSTFNTE8xmM+x2O4LBIILBIDweT48HqMlk0h6vbg6HQ/u9+od7PJ6426LuMxgMQlEUeDyeuF84s9kc1pZ4hD7ebDZ3uy+TWa3Wbv8fr9cL4Nb/jlLn9Xq7vcbq1tDQIL7/0Pd8uiSVZOrq6gAg7EVxuVxQFCWlTzL1j7fZbHE93u12Q1EUrT0mkwkOhwMejwdNTU1Jt4O+c+zYMQDJFfrq2nOtrOQXRktLS5Pqzft8vrDbob2SRD6Ue0NSScbn82mf4qqCggIAQCAQiPq8SMOlmpqaZJoAANi2bRsAYMqUKdp9U6dOBfDdwUHxi9SdVv8/c+fOTThe156ry+XSu8kZJ1ZPpqKiIuJz/H4/FEUBAOzcuRPArWMw0Q/lniiKIjLkTyrJWCwW7Y9WtbW1AQCMRmOPzw8dZoW+wMlm5tCufH5+PgDg/PnzCcVIhvoa6DFB3ReEvnFD37w2mw2PPfaY9v9xOp293NLMFasnE22Yv2bNGgC3jpuamhqxXro6lNJbUkmmtrYWAMImqiorK2E2m6Nm43jonZklhXZt1U+XbOJ2u7VkX1tbG5aA7HZ71OdVVlZGPID6+/C1oaEhag9G3SLVLq+vr4fT6YSiKGhoaIDNZkNpaWnS0xJqbyWdJymSSjJWqxWKosDpdGoNttls3caN0YQ+L5VZbrUHE9qTaG9vByBfjHzbtm2w2+1wOBwpDfn6KnX+xOFwwGq19vj4ioqKmAeQ1WrVHlNdXS3d/D4jnrNK0c4yWSwWbNy4EcFgUHuvNzY2wuFwoLKyMuFLAbr2VEMTm8/n047fYDAY97Ecl2AGc7lcQQBBl8ul3edwOIIAgl6vNxgMBoNerzcIIGi328OeCyBoNptj3mez2YKRXiI1pspsNofFV3/vcDhS+wN7idlsjviaqex2exBAUFGUqL+LtWXq65JOiqJEfH0jifY+jSbaMaGKdGykIqWL8WJdlBXrwqtY12OEbj3NdVRUVMBsNmvDN7/fj5qaGthstrg+fUO7jol0H0tLS8MmMQ8cOACn05kVF5mp820OhyOpU6qxhgX9eeI30qR6rOtkTCZTt8sG1GOq66ZOsPdVvfK1gkjXY4Ruscb8XandOoPBALPZDJvNFnFs21W0fffUTTQYDHA4HGFzTyaTCV6vFzU1NRl9MZrBYICiKFAUJekhTazhQX8+hR1pqKJu6rVIsZSVlaGyshIul6vbc51OZ1JX6EaatpCYq9GlTG3X09nppuv4MQa32x31E0NNnAAydpJTz09DRVF4AZ9O/H4/PB4PbDZbtxMrVqsVdrsdTqcTTU1NcfXgVXa7PWJvVe9Eo0tPRlGUftE1TuXMGVGyTCYTbDYbPB5Pt56y3+/XLilIJMGkky5Jxmw2s2tMYSK9J9RNzy/f9ReNjY1wuVzdLhEI/XpPotI1XGJJFCISxfVkiEgUkwwRiWKSISJRTDJEJIpJhohEMckQkSgmGSISxSRDRKKYZIhIFJMMEYlikiEiUUwyRCTq/wEKJ5TX6O/OLwAAAABJRU5ErkJggg==)\n",
        "\n",
        "이때 우리가 학습해야할 가중치는 $w_1, w_2, w_3, w_4$ 즉, 커널의 원소 밖에 없다. <br>\n",
        "또한 합성곱 연산마다 이미지의 모든 픽셀을 사용하는 것이 아니라, 커널과 맵핑되는 픽셀만을 사용한다. <br>\n",
        "이처럼 **합성곱 신경망은 MLP에 비해 훨씬 적은 수의 가중치를 사용하여 공간적 구조 정보를 보존한다.**\n",
        "\n",
        "합성곱 신경망의 은닉층은 MLP와 동일하게 비성형성 추가를 위해 활성화 함수를 사용한다. <br>\n",
        "일반적으로 렐루 혹은 그 변형을 사용한다.\n",
        "\n",
        "위처럼 합성곱 연산을 통해 특성 맵을 얻고, 활성화 함수를 지나는 연산을 하는 합성곱 신경망의 은닉층을 **합성곱 층(convolution layer)**라고 한다."
      ],
      "metadata": {
        "id": "r0p2g35EJqGS"
      }
    },
    {
      "cell_type": "markdown",
      "source": [
        "<h3> <strong> 5.2 합성곱 신경망의 편향 </strong> </h3>\n",
        "\n",
        "편향을 사용하게 되면 **커널을 적용한 뒤에 더해진다.** <br>\n",
        "편향은 **하나의 값만 존재하며 커널이 적용된 결과의 모든 원소에 더해진다.**"
      ],
      "metadata": {
        "id": "35vhrHgDJ1ss"
      }
    },
    {
      "cell_type": "markdown",
      "source": [
        "## <strong> 6. 특성 맵의 크기 계산 방법 </strong>"
      ],
      "metadata": {
        "id": "DL-_oDjHM3ue"
      }
    },
    {
      "cell_type": "markdown",
      "source": [
        "입력의 크기와 커널의 크기, 스트라이드의 값만 알면 특성 맵의 크기를 계산할 수 있다.\n",
        "\n",
        "$O_h=floor(\\frac{I_h-K_h}{S}+1)$\n",
        "\n",
        "$O_w=floor(\\frac{I_w-K_w}{S}+1)$\n",
        "\n",
        "**floor() 함수는 소수점 발생시 소수점 이하를 버리는 역할을 한다.** <br>\n",
        "패딩을 고려한 경우 식은 다음과 같다. (P: 패딩 폭)\n",
        "\n",
        "$O_h=floor(\\frac{I_h-K_h+2P}{S}+1)$\n",
        "\n",
        "$O_w=floor(\\frac{I_w-K_w+2P}{S}+1)$\n"
      ],
      "metadata": {
        "id": "Y2ZW1-aqM9WQ"
      }
    },
    {
      "cell_type": "markdown",
      "source": [
        "## <strong> 7. 다수 채널을 가질 경우 합성곱 연산 </strong>"
      ],
      "metadata": {
        "id": "osY_vPlEQiLP"
      }
    },
    {
      "cell_type": "markdown",
      "source": [
        "입력 데이터가 다수의 채널을 가지고 있다면 **커널의 채널 수는 입력의 채널 수 만큼 존재해야 한다.** <br>\n",
        "채널 수가 같으므로 합성곱 연산을 채널마다 수행한다. <br>\n",
        "그리고 그 결과를 모두 더해 최종 특성 맵을 얻는다.\n",
        "\n",
        "![image.png](data:image/png;base64,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)\n",
        "\n",
        "위에서 중요한 점은 위의 **연산에 사용되는 커널은 3개가 아니라 3개의 채널을 가진 1개의 커널이라는 것이다.**"
      ],
      "metadata": {
        "id": "ATjdhSQ6QoDR"
      }
    },
    {
      "cell_type": "markdown",
      "source": [
        "## <strong> 8. 3차원 텐서의 합성곱 연산 </strong>"
      ],
      "metadata": {
        "id": "D574-56pRjHM"
      }
    },
    {
      "cell_type": "markdown",
      "source": [
        "합성곱 연산에서 다수의 커널을 사용할 경우 가중치 매개변수의 총 수는 다음과 같다.\n",
        "\n",
        "$가중치 \\, 매개변수 \\, 총 \\, 수: K_h \\times K_w \\times C_i \\times C_o = (커널의 \\, 높이) \\times (커널의 \\, 너비) \\times (입력 \\, 채널) \\times (출력 \\, 채널)$"
      ],
      "metadata": {
        "id": "GqW3NPRmRnZB"
      }
    },
    {
      "cell_type": "markdown",
      "source": [
        "## <strong> 9. 폴링 </strong>"
      ],
      "metadata": {
        "id": "BucT2t7KUKJv"
      }
    },
    {
      "cell_type": "markdown",
      "source": [
        "일반적으로 합성곱 층 다음에는 폴링 층을 추가하는 것이 일반적이다. <br>\n",
        "폴링 층에서는 특성 맵을 다운 샘플링하여 특성 맵의 크기를 줄이는 **풀링 연산**이 이루어진다. <br>\n",
        "폴링 연산에는 일반적으로 **최대 풀링(max pooling)**과 **평균 풀링(average pooling)**이 사용된다.\n",
        "\n",
        "풀링 연산에서도 커널과 스트라이드가 사용된다. <br>\n",
        "단, 학습할 가중치가 없으며 연산 후에도 채널 수는 변하지 않는다."
      ],
      "metadata": {
        "id": "Cs5EsW_4Uiaz"
      }
    },
    {
      "cell_type": "markdown",
      "source": [
        "출처: https://wikidocs.net/62306"
      ],
      "metadata": {
        "id": "jVSxsTz1VhfC"
      }
    }
  ]
}