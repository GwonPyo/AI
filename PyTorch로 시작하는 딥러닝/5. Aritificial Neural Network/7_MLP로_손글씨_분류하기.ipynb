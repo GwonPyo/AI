{
  "cells": [
    {
      "cell_type": "markdown",
      "metadata": {
        "id": "rtseKzp1X4Kb"
      },
      "source": [
        "## <strong> 1. 숫자 필기 데이터 소개 </strong>"
      ]
    },
    {
      "cell_type": "markdown",
      "metadata": {
        "id": "30p3wH43cTXm"
      },
      "source": [
        "숫자 필기 데이터는 사이킷런 패키지에서 제공하는 분류용 예제 데이터이다. <br>\n",
        "0~9 까지의 숫자를 손으로 쓴 이미지 데이터를 **load_digits()** 명령으로 로드할 수 있다. <br>\n",
        "각 이미지는 0부터 15까지의 명암을 가지는 $8 \\times 8$ 픽셀 해상도의 흑백 이미지이다. <br>\n",
        "총 이미지는 1,797개 이다."
      ]
    },
    {
      "cell_type": "code",
      "execution_count": 1,
      "metadata": {
        "id": "CPC0OZSbe8ii"
      },
      "outputs": [],
      "source": [
        "%matplotlib inline\n",
        "import matplotlib.pyplot as plt\n",
        "from sklearn.datasets import load_digits\n",
        "digits = load_digits()"
      ]
    },
    {
      "cell_type": "markdown",
      "metadata": {
        "id": "GdZWW1cAfHYD"
      },
      "source": [
        "첫 번째 샘플을 출력해보자. <br>\n",
        "**.images[인덱스]**를 사용하면 해당 인덱스의 이미지를 형렬로 출력할 수 있다."
      ]
    },
    {
      "cell_type": "code",
      "execution_count": 2,
      "metadata": {
        "colab": {
          "base_uri": "https://localhost:8080/"
        },
        "id": "oSrc50jnfSIi",
        "outputId": "b9fa14f4-3a54-45c8-bc8e-9a12eb2528de"
      },
      "outputs": [
        {
          "name": "stdout",
          "output_type": "stream",
          "text": [
            "[[ 0.  0.  5. 13.  9.  1.  0.  0.]\n",
            " [ 0.  0. 13. 15. 10. 15.  5.  0.]\n",
            " [ 0.  3. 15.  2.  0. 11.  8.  0.]\n",
            " [ 0.  4. 12.  0.  0.  8.  8.  0.]\n",
            " [ 0.  5.  8.  0.  0.  9.  8.  0.]\n",
            " [ 0.  4. 11.  0.  1. 12.  7.  0.]\n",
            " [ 0.  2. 14.  5. 10. 12.  0.  0.]\n",
            " [ 0.  0.  6. 13. 10.  0.  0.  0.]]\n"
          ]
        }
      ],
      "source": [
        "print(digits.images[0])"
      ]
    },
    {
      "cell_type": "markdown",
      "metadata": {
        "id": "khnx4MH2fVPx"
      },
      "source": [
        "위처럼 샘플은 $8\\times 8$ 크기를 가지며 0은 흰색, 큰 숫자는 검은색에 가깝다. <br>\n",
        "해당 샘플의 레이블을 확인해보자."
      ]
    },
    {
      "cell_type": "code",
      "execution_count": 3,
      "metadata": {
        "colab": {
          "base_uri": "https://localhost:8080/"
        },
        "id": "2pr0nEUSgjAn",
        "outputId": "65bb2f34-f460-48a5-b3a0-db113f9b011d"
      },
      "outputs": [
        {
          "name": "stdout",
          "output_type": "stream",
          "text": [
            "0\n"
          ]
        }
      ],
      "source": [
        "print(digits.target[0])"
      ]
    },
    {
      "cell_type": "markdown",
      "metadata": {
        "id": "6RRzNp4HglpF"
      },
      "source": [
        "총 몇 개의 샘플이 있는지도 확인해보자."
      ]
    },
    {
      "cell_type": "code",
      "execution_count": 4,
      "metadata": {
        "colab": {
          "base_uri": "https://localhost:8080/"
        },
        "id": "4fDebQhfgpTN",
        "outputId": "3d37388e-e47b-41ce-ede9-2fc58b03490e"
      },
      "outputs": [
        {
          "name": "stdout",
          "output_type": "stream",
          "text": [
            "전체 샘플의 수 : 1797\n"
          ]
        }
      ],
      "source": [
        "print('전체 샘플의 수 : {}'.format(len(digits.images)))"
      ]
    },
    {
      "cell_type": "markdown",
      "metadata": {
        "id": "ECc8KcH6gqyr"
      },
      "source": [
        "5개의 샘플만 시각화해보자."
      ]
    },
    {
      "cell_type": "code",
      "execution_count": 15,
      "metadata": {
        "colab": {
          "base_uri": "https://localhost:8080/",
          "height": 105
        },
        "id": "_ejRn_EGhBp_",
        "outputId": "99752862-fef2-4096-f8bb-b9008a109f4a"
      },
      "outputs": [
        {
          "data": {
            "image/png": "[encoded data removed]",
            "text/plain": [
              "<Figure size 432x288 with 5 Axes>"
            ]
          },
          "metadata": {
            "needs_background": "light"
          },
          "output_type": "display_data"
        }
      ],
      "source": [
        "images_and_labels = list(zip(digits.images, digits.target))\n",
        "\n",
        "for index, (image, label) in enumerate(images_and_labels[:5]):\n",
        "  plt.subplot(1, 5, index+1)  # nrows=2, ncols=1, index=1\n",
        "  plt.axis('off')             # 축 제거\n",
        "  plt.imshow(image, cmap=plt.cm.gray_r, interpolation='nearest')\n",
        "  plt.title('sample: %i' % label)"
      ]
    },
    {
      "cell_type": "markdown",
      "metadata": {
        "id": "m8cAsHA8jtWU"
      },
      "source": [
        "**digits.images**는 모든 샘플을 $8\\times 8$ 행렬로 저장한다. <br>\n",
        "이와 다르게 **digits.data**는 해당 행렬을 64차원의 벡터로 변환해서 저장한다."
      ]
    },
    {
      "cell_type": "code",
      "execution_count": 16,
      "metadata": {
        "colab": {
          "base_uri": "https://localhost:8080/"
        },
        "id": "hPtlRba3lMws",
        "outputId": "de6c93ca-beaf-4d50-ecec-c8c347badbdc"
      },
      "outputs": [
        {
          "name": "stdout",
          "output_type": "stream",
          "text": [
            "[ 0.  0.  5. 13.  9.  1.  0.  0.  0.  0. 13. 15. 10. 15.  5.  0.  0.  3.\n",
            " 15.  2.  0. 11.  8.  0.  0.  4. 12.  0.  0.  8.  8.  0.  0.  5.  8.  0.\n",
            "  0.  9.  8.  0.  0.  4. 11.  0.  1. 12.  7.  0.  0.  2. 14.  5. 10. 12.\n",
            "  0.  0.  0.  0.  6. 13. 10.  0.  0.  0.]\n"
          ]
        }
      ],
      "source": [
        "print(digits.data[0])"
      ]
    },
    {
      "cell_type": "markdown",
      "metadata": {
        "id": "HHwA-kjBlO1-"
      },
      "source": [
        "x(특성 행렬)과 y(레이블)을 선언해보자."
      ]
    },
    {
      "cell_type": "code",
      "execution_count": 17,
      "metadata": {
        "id": "9zPT2FSglXxk"
      },
      "outputs": [],
      "source": [
        "x = digits.data\n",
        "y = digits.target"
      ]
    },
    {
      "cell_type": "code",
      "execution_count": 18,
      "metadata": {
        "colab": {
          "base_uri": "https://localhost:8080/"
        },
        "id": "7W2ozzfSnEZx",
        "outputId": "8bcf38c9-8adc-4a2a-e095-a26e7a2eb968"
      },
      "outputs": [
        {
          "name": "stdout",
          "output_type": "stream",
          "text": [
            "[0 1 2 ... 8 9 8]\n"
          ]
        }
      ],
      "source": []
    },
    {
      "cell_type": "markdown",
      "metadata": {
        "id": "ImhPQj5sleSJ"
      },
      "source": [
        "## <strong> 2. 다층 퍼셉트론 분류기 만들기 </strong>"
      ]
    },
    {
      "cell_type": "code",
      "execution_count": 23,
      "metadata": {
        "colab": {
          "base_uri": "https://localhost:8080/"
        },
        "id": "uXrvRhrtlbNP",
        "outputId": "9ab63654-874e-4a1b-ff0b-29e6938dfca0"
      },
      "outputs": [
        {
          "name": "stderr",
          "output_type": "stream",
          "text": [
            "/usr/local/lib/python3.7/dist-packages/ipykernel_launcher.py:13: UserWarning: To copy construct from a tensor, it is recommended to use sourceTensor.clone().detach() or sourceTensor.clone().detach().requires_grad_(True), rather than torch.tensor(sourceTensor).\n",
            "  del sys.path[0]\n",
            "/usr/local/lib/python3.7/dist-packages/ipykernel_launcher.py:14: UserWarning: To copy construct from a tensor, it is recommended to use sourceTensor.clone().detach() or sourceTensor.clone().detach().requires_grad_(True), rather than torch.tensor(sourceTensor).\n",
            "  \n"
          ]
        },
        {
          "name": "stdout",
          "output_type": "stream",
          "text": [
            "Epoch    0/100 Cost: 2.698668\n",
            "Epoch   20/100 Cost: 1.998588\n",
            "Epoch   40/100 Cost: 1.496816\n",
            "Epoch   60/100 Cost: 0.932948\n",
            "Epoch   80/100 Cost: 0.500194\n"
          ]
        }
      ],
      "source": [
        "import torch\n",
        "import torch.nn as nn\n",
        "import torch.optim as optim\n",
        "\n",
        "model = nn.Sequential(\n",
        "    nn.Linear(64, 32),\n",
        "    nn.ReLU(),\n",
        "    nn.Linear(32, 16),\n",
        "    nn.ReLU(),\n",
        "    nn.Linear(16, 10)\n",
        ")\n",
        "\n",
        "x = torch.tensor(x, dtype=torch.float32)\n",
        "y = torch.tensor(y, dtype=torch.int64)\n",
        "\n",
        "loss_fn = nn.CrossEntropyLoss() # including Softmax / == nn.functional.cross_entropy() [softmax 3장 참고]\n",
        "optimizer = optim.Adam(model.parameters())\n",
        "losses = []\n",
        "\n",
        "for epoch in range(100):\n",
        "  y_pred = model(x)\n",
        "  loss = loss_fn(y_pred, y)\n",
        "  \n",
        "  optimizer.zero_grad()\n",
        "  loss.backward()\n",
        "  optimizer.step()\n",
        "\n",
        "  if epoch % 20 == 0:\n",
        "    print('Epoch {:4d}/{} Cost: {:.6f}'.format(\n",
        "            epoch, 100, loss.item()\n",
        "        ))\n",
        "    \n",
        "  losses.append(loss.item())"
      ]
    },
    {
      "cell_type": "code",
      "execution_count": 24,
      "metadata": {
        "colab": {
          "base_uri": "https://localhost:8080/",
          "height": 283
        },
        "id": "rC0pvIS9nMKp",
        "outputId": "108b3cd6-936e-41b4-e2ac-82725997154e"
      },
      "outputs": [
        {
          "data": {
            "text/plain": [
              "[<matplotlib.lines.Line2D at 0x7f1b881a2bd0>]"
            ]
          },
          "execution_count": 24,
          "metadata": {},
          "output_type": "execute_result"
        },
        {
          "data": {
            "image/png": "[encoded data removed]",
            "text/plain": [
              "<Figure size 432x288 with 1 Axes>"
            ]
          },
          "metadata": {
            "needs_background": "light"
          },
          "output_type": "display_data"
        }
      ],
      "source": [
        "# loss 추세\n",
        "plt.plot(losses)"
      ]
    },
    {
      "cell_type": "markdown",
      "metadata": {
        "id": "o1YGDxzhoQMp"
      },
      "source": [
        "출처: https://wikidocs.net/61046"
      ]
    }
  ],
  "metadata": {
    "colab": {
      "collapsed_sections": [],
      "name": "7. MLP로 손글씨 분류하기.ipynb",
      "provenance": []
    },
    "kernelspec": {
      "display_name": "Python 3",
      "name": "python3"
    },
    "language_info": {
      "name": "python"
    }
  },
  "nbformat": 4,
  "nbformat_minor": 0
}
