{
  "nbformat": 4,
  "nbformat_minor": 0,
  "metadata": {
    "colab": {
      "name": "5. XOR Problem - MLP.ipynb",
      "provenance": [],
      "collapsed_sections": []
    },
    "kernelspec": {
      "name": "python3",
      "display_name": "Python 3"
    },
    "language_info": {
      "name": "python"
    },
    "accelerator": "GPU"
  },
  "cells": [
    {
      "cell_type": "markdown",
      "source": [
        "## <strong> 1. 파이토치로 다층 퍼셉트론 구현하기 </strong>"
      ],
      "metadata": {
        "id": "kQauUxyeEsY3"
      }
    },
    {
      "cell_type": "markdown",
      "source": [
        "도구 임포트와 GPU 연산 설정을 해주자."
      ],
      "metadata": {
        "id": "E4zdq4U5E3s5"
      }
    },
    {
      "cell_type": "code",
      "source": [
        "import torch\n",
        "import torch.nn as nn"
      ],
      "metadata": {
        "id": "ySEtbewME69N"
      },
      "execution_count": 1,
      "outputs": []
    },
    {
      "cell_type": "code",
      "source": [
        "device = 'cuda' if torch.cuda.is_available else 'cpu'\n",
        "\n",
        "torch.manual_seed(777)\n",
        "if device == 'cuda':\n",
        "  torch.cuda.manual_seed_all(777)"
      ],
      "metadata": {
        "id": "oPpmLMP6FTMu"
      },
      "execution_count": 2,
      "outputs": []
    },
    {
      "cell_type": "markdown",
      "source": [
        "XOR의 입력과 출력을 정의하자."
      ],
      "metadata": {
        "id": "wBa9gZppFx0j"
      }
    },
    {
      "cell_type": "code",
      "source": [
        "x = torch.FloatTensor([[0, 0], [0, 1], [1, 0], [1, 1]]).to(device)\n",
        "y = torch.FloatTensor([[0], [1], [1], [0]]).to(device)"
      ],
      "metadata": {
        "id": "JGzMhtewF0lr"
      },
      "execution_count": 3,
      "outputs": []
    },
    {
      "cell_type": "markdown",
      "source": [
        "다층 퍼셉트론을 설계해보자. <br>\n",
        "아래는 입력층, 은닉층 3개, 출력층 총 5개의 층으로 이루어진 인공 신경망이다."
      ],
      "metadata": {
        "id": "BT7lBePXGM0q"
      }
    },
    {
      "cell_type": "code",
      "source": [
        "model = nn.Sequential(\n",
        "    nn.Linear(2, 10, bias=True),\n",
        "    nn.Sigmoid(),\n",
        "    nn.Linear(10, 10, bias=True),\n",
        "    nn.Sigmoid(),\n",
        "    nn.Linear(10, 10, bias=True),\n",
        "    nn.Sigmoid(),\n",
        "    nn.Linear(10, 1, bias=True),\n",
        "    nn.Sigmoid()\n",
        ").to(device)"
      ],
      "metadata": {
        "id": "sCz8XNC5Ga_p"
      },
      "execution_count": 4,
      "outputs": []
    },
    {
      "cell_type": "markdown",
      "source": [
        "옵티마이저와 비용함수를 선언하고 에포크를 수행해 학습시켜보자."
      ],
      "metadata": {
        "id": "QUCmlavpG-TP"
      }
    },
    {
      "cell_type": "code",
      "source": [
        "criterion = nn.BCELoss().to(device)\n",
        "optimizer = torch.optim.SGD(model.parameters(), lr=1)"
      ],
      "metadata": {
        "id": "HF_qCgSqG9In"
      },
      "execution_count": 5,
      "outputs": []
    },
    {
      "cell_type": "code",
      "source": [
        "for epoch in range(10001):\n",
        "  hypothesis = model(x)\n",
        "  cost = criterion(hypothesis, y)\n",
        "\n",
        "  optimizer.zero_grad()\n",
        "  cost.backward()\n",
        "  optimizer.step()\n",
        "\n",
        "  if epoch % 2000 == 0:\n",
        "        print(epoch, cost.item())"
      ],
      "metadata": {
        "colab": {
          "base_uri": "https://localhost:8080/"
        },
        "id": "Om14p0ZnHTws",
        "outputId": "dd9062fb-d0b5-4e9c-f431-4cffbc4345b9"
      },
      "execution_count": 6,
      "outputs": [
        {
          "output_type": "stream",
          "name": "stdout",
          "text": [
            "0 0.6948983669281006\n",
            "2000 0.6931171417236328\n",
            "4000 0.6929102540016174\n",
            "6000 0.001303493045270443\n",
            "8000 0.00028908095555379987\n",
            "10000 0.0001565642305649817\n"
          ]
        }
      ]
    },
    {
      "cell_type": "markdown",
      "source": [
        "XOR 문제를 풀 수 있는지 확인해보자."
      ],
      "metadata": {
        "id": "tHZx3LphHqt_"
      }
    },
    {
      "cell_type": "code",
      "source": [
        "with torch.no_grad():\n",
        "  hypothesis = model(x)\n",
        "  predicted = (hypothesis > 0.5).float()\n",
        "  accuracy = (predicted == y).float().mean()\n",
        "  print('예측값: ', predicted.detach().cpu().numpy())\n",
        "  print('실제값: ', y.cpu().numpy())"
      ],
      "metadata": {
        "colab": {
          "base_uri": "https://localhost:8080/"
        },
        "id": "lkfAqQQYHvAy",
        "outputId": "deef0d1e-9b2a-4883-b2b5-3ffd94eba8a4"
      },
      "execution_count": 7,
      "outputs": [
        {
          "output_type": "stream",
          "name": "stdout",
          "text": [
            "예측값:  [[0.]\n",
            " [1.]\n",
            " [1.]\n",
            " [0.]]\n",
            "실제값:  [[0.]\n",
            " [1.]\n",
            " [1.]\n",
            " [0.]]\n"
          ]
        }
      ]
    },
    {
      "cell_type": "markdown",
      "source": [
        "출처: https://wikidocs.net/61010"
      ],
      "metadata": {
        "id": "tO9mbdFEIThp"
      }
    }
  ]
}