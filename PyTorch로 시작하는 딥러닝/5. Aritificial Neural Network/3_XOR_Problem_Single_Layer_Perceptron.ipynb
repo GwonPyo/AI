{
  "nbformat": 4,
  "nbformat_minor": 0,
  "metadata": {
    "colab": {
      "name": "3. XOR Problem-Single Layer Perceptron.ipynb",
      "provenance": [],
      "collapsed_sections": []
    },
    "kernelspec": {
      "name": "python3",
      "display_name": "Python 3"
    },
    "language_info": {
      "name": "python"
    },
    "accelerator": "GPU"
  },
  "cells": [
    {
      "cell_type": "markdown",
      "source": [
        "## <strong> 1. 파이토치로 단층 퍼셉트론 구현하기 </strong>"
      ],
      "metadata": {
        "id": "vuWWbL6WObqw"
      }
    },
    {
      "cell_type": "markdown",
      "source": [
        "먼저 GPU 연산을 할 수 있도록 설정해주자."
      ],
      "metadata": {
        "id": "XW7OyiW6ZFHs"
      }
    },
    {
      "cell_type": "code",
      "source": [
        "import torch"
      ],
      "metadata": {
        "id": "7b9sG0njZHcs"
      },
      "execution_count": 1,
      "outputs": []
    },
    {
      "cell_type": "code",
      "source": [
        "device = 'cuda' if torch.cuda.is_available else 'cpu'\n",
        "torch.manual_seed(777)\n",
        "if device == 'cuda':\n",
        "  torch.cuda.manual_seed_all(777)"
      ],
      "metadata": {
        "id": "OaQMx415ZIjA"
      },
      "execution_count": 2,
      "outputs": []
    },
    {
      "cell_type": "markdown",
      "source": [
        "XOR의 입력과 출력을 정의하자."
      ],
      "metadata": {
        "id": "omFThf__Z7In"
      }
    },
    {
      "cell_type": "code",
      "source": [
        "x = torch.FloatTensor([[0, 0], [0, 1], [1, 0], [1, 1]]).to(device)\n",
        "y = torch.FloatTensor([[0], [1], [1], [0]]).to(device)"
      ],
      "metadata": {
        "id": "HAQ2oSzmZjMe"
      },
      "execution_count": 3,
      "outputs": []
    },
    {
      "cell_type": "markdown",
      "source": [
        "1개의 뉴런을 가지는 단층 퍼셉트론을 구현해보자. <br>\n",
        "활성화 함수로는 시그모이드 함수를 사용하자."
      ],
      "metadata": {
        "id": "ejyJUOp-Zyqd"
      }
    },
    {
      "cell_type": "code",
      "source": [
        "linear = torch.nn.Linear(2, 1, bias=True)\n",
        "sigmoid = torch.nn.Sigmoid()\n",
        "model = torch.nn.Sequential(linear, sigmoid).to(device)"
      ],
      "metadata": {
        "id": "pcQUNuGPaGko"
      },
      "execution_count": 5,
      "outputs": []
    },
    {
      "cell_type": "markdown",
      "source": [
        "0 혹은 1로 분류하는 이진 분류 문제이므로 손실 함수는 크로스엔트로피 함수를 사용해야 한다. <br>\n",
        "**nn.BCELoss()**를 사용하면 이진 분류의 크로스 엔트로피 함수(바이너리 크로스 엔트로피)를 수행해준다."
      ],
      "metadata": {
        "id": "JLXxi36vaZCY"
      }
    },
    {
      "cell_type": "code",
      "source": [
        "criterion = torch.nn.BCELoss().to(device)\n",
        "optimizer = torch.optim.SGD(model.parameters(), lr=1)"
      ],
      "metadata": {
        "id": "AMq2AefAbObB"
      },
      "execution_count": 6,
      "outputs": []
    },
    {
      "cell_type": "code",
      "source": [
        "for step in range(10001):\n",
        "  optimizer.zero_grad()\n",
        "  hypothesis = model(x)\n",
        "\n",
        "  cost = criterion(hypothesis, y)\n",
        "  cost.backward()\n",
        "  optimizer.step()\n",
        "\n",
        "  if step % 2000 == 0: # 100번째 에포크마다 비용 출력\n",
        "        print(step, cost.item())"
      ],
      "metadata": {
        "colab": {
          "base_uri": "https://localhost:8080/"
        },
        "id": "FcEokleYbonf",
        "outputId": "b8fa71eb-26c0-4f47-b58c-9dc07410fa77"
      },
      "execution_count": 8,
      "outputs": [
        {
          "output_type": "stream",
          "name": "stdout",
          "text": [
            "0 0.6931471824645996\n",
            "2000 0.6931471824645996\n",
            "4000 0.6931471824645996\n",
            "6000 0.6931471824645996\n",
            "8000 0.6931471824645996\n",
            "10000 0.6931471824645996\n"
          ]
        }
      ]
    },
    {
      "cell_type": "markdown",
      "source": [
        "학습 이후에도 아래와 같이 제대로 된 예측은 수행하지 못한다."
      ],
      "metadata": {
        "id": "BIav8pksffaJ"
      }
    },
    {
      "cell_type": "code",
      "source": [
        "predicted = (hypothesis > 0.5).float()\n",
        "accuracy = (predicted == y).float().mean()\n",
        "print('모델의 출력값(Hypothesis): ', hypothesis.detach().cpu().numpy())\n",
        "print('모델의 예측값(Predicted): ', predicted.detach().cpu().numpy())\n",
        "print('실제값(Y): ', y.cpu().numpy())\n",
        "print('정확도(Accuracy): ', accuracy.item())"
      ],
      "metadata": {
        "colab": {
          "base_uri": "https://localhost:8080/"
        },
        "id": "VrOBDRbMb2ty",
        "outputId": "9efb691c-0d18-48bf-fbb6-afcf5f25f197"
      },
      "execution_count": 12,
      "outputs": [
        {
          "output_type": "stream",
          "name": "stdout",
          "text": [
            "모델의 출력값(Hypothesis):  [[0.5]\n",
            " [0.5]\n",
            " [0.5]\n",
            " [0.5]]\n",
            "모델의 예측값(Predicted):  [[0.]\n",
            " [0.]\n",
            " [0.]\n",
            " [0.]]\n",
            "실제값(Y):  [[0.]\n",
            " [1.]\n",
            " [1.]\n",
            " [0.]]\n",
            "정확도(Accuracy):  0.5\n"
          ]
        }
      ]
    },
    {
      "cell_type": "markdown",
      "source": [
        "출처: https://wikidocs.net/60848"
      ],
      "metadata": {
        "id": "5fcIq-i1fo8T"
      }
    }
  ]
}