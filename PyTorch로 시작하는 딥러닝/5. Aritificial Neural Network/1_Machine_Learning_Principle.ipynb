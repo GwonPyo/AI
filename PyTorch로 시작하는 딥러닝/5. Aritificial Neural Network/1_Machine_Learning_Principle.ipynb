{
  "nbformat": 4,
  "nbformat_minor": 0,
  "metadata": {
    "colab": {
      "name": "1. Machine Learning Principle.ipynb",
      "provenance": []
    },
    "kernelspec": {
      "name": "python3",
      "display_name": "Python 3"
    },
    "language_info": {
      "name": "python"
    }
  },
  "cells": [
    {
      "cell_type": "markdown",
      "source": [
        "## <strong> 1. 머신 러닝 모델의 평가 </strong>"
      ],
      "metadata": {
        "id": "xhq7u9cYlLSM"
      }
    },
    {
      "cell_type": "markdown",
      "source": [
        "![image.png](data:image/png;base64,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)\n",
        "\n",
        "실제 모델을 평가하기 위해서 데이터를 **훈련용, 검증용, 테스트용 세 가지로 분류**하는 것이 일반적이다. <br>\n",
        "**검증용 데이터**는 모델의 성능을 평가하기 위한 것이 아니라 **모델의 성능을 조정하기 위한 것**이다. <br>\n",
        "즉, 과적합이 되고 있는지 판단하거나 하이퍼 파라미터의 조정을 위한 용도이다.\n",
        "\n",
        "만약, 검증 데이터와 테스트 데이터를 나눌 만큼 데이터가 충분하지 않다면 **k-폴드 교차 검증 방법**을 사용하기도 한다."
      ],
      "metadata": {
        "id": "FyfDUN9KMV7z"
      }
    },
    {
      "cell_type": "markdown",
      "source": [
        "## <strong> 2. 분류와 회귀 </strong>"
      ],
      "metadata": {
        "id": "xBAIFPRQPG5w"
      }
    },
    {
      "cell_type": "markdown",
      "source": [
        "<h3> <strong> 2.1 이진 분류 문제(Binary Classification) </strong> </h3>\n",
        "\n",
        "이진 분류는 주어진 입력에 대해 둘 중 하나의 답을 정하는 문제다."
      ],
      "metadata": {
        "id": "O51yBt4xPMRB"
      }
    },
    {
      "cell_type": "markdown",
      "source": [
        "<h3> <strong> 2.2 다중 클래스 분류(Multi-class Classification) </strong> </h3>\n",
        "\n",
        "다중 클래스 분류는 주어진 입력에 대해서 세 개 이상의 정해진 선택지 중에서 답을 정하는 문제다. <br>\n"
      ],
      "metadata": {
        "id": "LyDKH5CePg61"
      }
    },
    {
      "cell_type": "markdown",
      "source": [
        "<h3> <strong> 2.3 회귀 문제(Regression) </strong> </h3>\n",
        "\n",
        "회귀 문제는 분리 문제와 달리 연속된 값을 결과로 가진다. <br>\n",
        "시계열 데이터를 이용한 주가 예측, 생산량 예측 등이 이에 해당한다."
      ],
      "metadata": {
        "id": "bmOQkak0P2G1"
      }
    },
    {
      "cell_type": "markdown",
      "source": [
        "## <strong> 3. 지도 학습과 비지도 학습</strong>"
      ],
      "metadata": {
        "id": "zU0B3z12QQai"
      }
    },
    {
      "cell_type": "markdown",
      "source": [
        "<h3> <strong> 3.1 지도 학습(Supervised Learning) </strong> </h3>\n",
        "\n",
        "지도 학습이란 **레이블(Label)**이라는 정답과 함께 학습하는 것을 말한다. <br>\n",
        "기계는 예측값과 실제값의 오차를 줄이는 방식으로 학습되며 예측값은 $\\hat{y}$와 같이 표현되기도 한다."
      ],
      "metadata": {
        "id": "shbsmMdEQWwN"
      }
    },
    {
      "cell_type": "markdown",
      "source": [
        "<h3> <strong> 3.2 비지도 학습(Unsupervised Learning) </strong> </h3>\n",
        "\n",
        "비지도 학습은 기본적으로 목적 데이터(레이블)이 없는 학습 방법이다. <br>\n",
        "군집 혹은 차원 축소와 같은 학습 방법을 비지도 학습이라고 한다."
      ],
      "metadata": {
        "id": "Xnc34PxTRRHE"
      }
    },
    {
      "cell_type": "markdown",
      "source": [
        "## <strong> 4. 샘플과 특성</strong>"
      ],
      "metadata": {
        "id": "Mq-YfUJPRhrR"
      }
    },
    {
      "cell_type": "markdown",
      "source": [
        "많은 머신 러닝 문제는 1개 이상의 독립 변수 $x$를 가지고 종속 변수 $y$를 예측하는 문제이다. <br>\n",
        "이때 독립 변수 $x$의 행렬을 $X$라고 했을 때, 독립 변수의 개수가 $n$개 이고 데이터의 개수가 $m$인 행렬 $X$는 다음과 같다.\n",
        "\n",
        "![image.png](data:image/png;base64,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)\n",
        "\n",
        "이때 하나의 행을 **샘플(Sample)**이라고 부르고 각각의 독립 변수 $x$를 **특성(Feature)**라고 부른다."
      ],
      "metadata": {
        "id": "6quoVhFMRpLc"
      }
    },
    {
      "cell_type": "markdown",
      "source": [
        "## <strong> 5. 혼동 행렬</strong>"
      ],
      "metadata": {
        "id": "q3G3KT9eVQIz"
      }
    },
    {
      "cell_type": "markdown",
      "source": [
        "머신 러닝에서는 맞춘 문제수를 전체 문제 수로 나눈 값을 **정확도(Accuracy)**라고 한다. <br> 하지만 정확도는 맞춘 결과와 틀린 결과에 대한 세부적인 내용을 알려주지는 않는다. <br> 이를 위해 사용하는 것이 **혼동 행렬(Confusion Matrix)**이다. <br> 양성(Positive)과 음성(Negative)을 구분하는 이진 분류의 혼동 행렬은 아래와 같다.\n",
        "\n",
        "\n",
        "![image.png](data:image/png;base64,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)\n",
        "\n",
        "이 혼돈 행렬의 개념을 사용하면 정밀도(Precision)과 재현률(Recall)을 이해할 수 있다.\n"
      ],
      "metadata": {
        "id": "9vCv8xPKVY48"
      }
    },
    {
      "cell_type": "markdown",
      "source": [
        "<h3> <strong> 5.1 정밀도 </strong> </h3>\n",
        "\n",
        "정밀도는 양성이라고 대답한 전체 케이스에 대한 TP의 비율을 의미한다.\n",
        "\n",
        "$precision=\\frac{TP}{TP+FP}$"
      ],
      "metadata": {
        "id": "a7h1tCkSWNfb"
      }
    },
    {
      "cell_type": "markdown",
      "source": [
        "<h3> <strong> 5.2 재현률 </strong> </h3>\n",
        "\n",
        "재현률은 실제값이 양성인 데이터의 전체 개수에 대한 TP의 비율을 의미한다.\n",
        "\n",
        "$Recall=\\frac{TP}{TP+FN}$"
      ],
      "metadata": {
        "id": "L2eF67tJWzQz"
      }
    },
    {
      "cell_type": "markdown",
      "source": [
        "## <strong> 6. 과적합과 과소 적합</strong>"
      ],
      "metadata": {
        "id": "cFT3Aeb5Wxyr"
      }
    },
    {
      "cell_type": "markdown",
      "source": [
        "**과적합(Overfitting)**이란 훈련 데이터를 과하게 학습한 경우를 말한다. <br>\n",
        "기계가 훈련 데이터에 대해서만 과하게 학습하면 테스트 데이터나 실제 서비스 데이터에 대해서는 정확도가 좋지 않은 현상이 발생한다. <br>\n",
        "반대로 테스트 데이터의 성능이 올라갈 여지가 있음에도 훈련을 덜 한 상태를 **과소적합(Underfitting)**이라고 합니다.\n",
        "\n",
        "과적합을 막을 수 있는 방법에는 **드롭아웃(Dropout), 조기 종료(Early Stopping)** 등이 있다."
      ],
      "metadata": {
        "id": "UzMha_t2XuD5"
      }
    },
    {
      "cell_type": "markdown",
      "source": [
        "출처: https://wikidocs.net/60021"
      ],
      "metadata": {
        "id": "kPwJiUmWU6vs"
      }
    }
  ]
}