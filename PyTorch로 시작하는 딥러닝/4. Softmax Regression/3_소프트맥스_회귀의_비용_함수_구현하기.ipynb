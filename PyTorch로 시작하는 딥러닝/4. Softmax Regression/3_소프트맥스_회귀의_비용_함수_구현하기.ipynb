{
  "nbformat": 4,
  "nbformat_minor": 0,
  "metadata": {
    "colab": {
      "name": "3. 소프트맥스 회귀의 비용 함수 구현하기.ipynb",
      "provenance": [],
      "collapsed_sections": []
    },
    "kernelspec": {
      "name": "python3",
      "display_name": "Python 3"
    },
    "language_info": {
      "name": "python"
    }
  },
  "cells": [
    {
      "cell_type": "code",
      "execution_count": 1,
      "metadata": {
        "colab": {
          "base_uri": "https://localhost:8080/"
        },
        "id": "bRmzPl6K6bGv",
        "outputId": "a0d46a53-6843-4b07-a068-cabea3b134b1"
      },
      "outputs": [
        {
          "output_type": "execute_result",
          "data": {
            "text/plain": [
              "<torch._C.Generator at 0x7f25490753d0>"
            ]
          },
          "metadata": {},
          "execution_count": 1
        }
      ],
      "source": [
        "import torch\n",
        "import torch.nn.functional as F\n",
        "\n",
        "torch.manual_seed(1)"
      ]
    },
    {
      "cell_type": "markdown",
      "source": [
        "## <strong> 1. 파이토치로 소프트맥스의 비용 함수 구현하기 (로우-레벨) </strong>"
      ],
      "metadata": {
        "id": "Ofn3Wlzb6n79"
      }
    },
    {
      "cell_type": "markdown",
      "source": [
        "소프트맥스 회귀를 구현하기 전에 비용 함수를 로우-레벨로 구현해보자."
      ],
      "metadata": {
        "id": "S7qTSCav8AMv"
      }
    },
    {
      "cell_type": "code",
      "source": [
        "z = torch.FloatTensor([1, 2, 3])\n"
      ],
      "metadata": {
        "id": "dodiGUMR35R9"
      },
      "execution_count": 2,
      "outputs": []
    },
    {
      "cell_type": "markdown",
      "source": [
        "이 텐서를 소프트맥스 함수에 입력해보자."
      ],
      "metadata": {
        "id": "PZFYi_lZZ48H"
      }
    },
    {
      "cell_type": "code",
      "source": [
        "hypothesis = F.softmax(z, dim=0)\n",
        "print(hypothesis)\n",
        "print(hypothesis.sum())"
      ],
      "metadata": {
        "colab": {
          "base_uri": "https://localhost:8080/"
        },
        "id": "hq3y8meTaGXX",
        "outputId": "2ce6872f-0b9f-42ae-dcba-7e6b43967c5c"
      },
      "execution_count": 4,
      "outputs": [
        {
          "output_type": "stream",
          "name": "stdout",
          "text": [
            "tensor([0.0900, 0.2447, 0.6652])\n",
            "tensor(1.)\n"
          ]
        }
      ]
    },
    {
      "cell_type": "markdown",
      "source": [
        "위처럼 총 원소의 값의 합은 1이 된다. <br>\n",
        "이번에는 비용 함수를 직접 구현해보자. <br>\n",
        "먼저 $3 \\times 5$ 크기의 행렬을 소프트맥스 함수에 통과시켜보자."
      ],
      "metadata": {
        "id": "_VerQt-7aLlU"
      }
    },
    {
      "cell_type": "code",
      "source": [
        "z = torch.rand((3, 5), requires_grad=True)\n",
        "hypothesis = F.softmax(z, dim=1)\n",
        "print(hypothesis)"
      ],
      "metadata": {
        "colab": {
          "base_uri": "https://localhost:8080/"
        },
        "id": "m8Qc_CjTaiCg",
        "outputId": "dbe86735-5ce4-42e3-e8b4-9a049d3909c0"
      },
      "execution_count": 8,
      "outputs": [
        {
          "output_type": "stream",
          "name": "stdout",
          "text": [
            "tensor([[0.2570, 0.1524, 0.2303, 0.1721, 0.1882],\n",
            "        [0.1178, 0.1501, 0.2499, 0.1687, 0.3135],\n",
            "        [0.2615, 0.1711, 0.1254, 0.2375, 0.2045]], grad_fn=<SoftmaxBackward0>)\n"
          ]
        }
      ]
    },
    {
      "cell_type": "markdown",
      "source": [
        "각 셈플의 레이블을 선언하고 원-핫 인코딩을 수행해보자."
      ],
      "metadata": {
        "id": "IA8NPdWEbhCn"
      }
    },
    {
      "cell_type": "code",
      "source": [
        "y = torch.randint(5, (3,))\n",
        "print(y)"
      ],
      "metadata": {
        "colab": {
          "base_uri": "https://localhost:8080/"
        },
        "id": "HNgce4n_bnPC",
        "outputId": "fb2378c5-c42e-4296-8e1d-950e6f19e483"
      },
      "execution_count": 14,
      "outputs": [
        {
          "output_type": "stream",
          "name": "stdout",
          "text": [
            "tensor([3, 0, 4])\n"
          ]
        }
      ]
    },
    {
      "cell_type": "code",
      "source": [
        "y_one_hot = torch.zeros_like(hypothesis)\n",
        "y_one_hot.scatter_(1, y.unsqueeze(1), 1)"
      ],
      "metadata": {
        "colab": {
          "base_uri": "https://localhost:8080/"
        },
        "id": "AOBkVJvnb4Er",
        "outputId": "e7540b92-90e5-4aa3-c22d-80bcfc9587f9"
      },
      "execution_count": 15,
      "outputs": [
        {
          "output_type": "execute_result",
          "data": {
            "text/plain": [
              "tensor([[0., 0., 0., 1., 0.],\n",
              "        [1., 0., 0., 0., 0.],\n",
              "        [0., 0., 0., 0., 1.]])"
            ]
          },
          "metadata": {},
          "execution_count": 15
        }
      ]
    },
    {
      "cell_type": "markdown",
      "source": [
        "위 코드에서 unsqueeze의 경우 해당 벡터의 주어진 차원을 늘려준다. <br>\n",
        "즉, y의 크기가 $3 \\times 1$이 된다."
      ],
      "metadata": {
        "id": "m4NcuX3tf4x5"
      }
    },
    {
      "cell_type": "code",
      "source": [
        "print(y.unsqueeze(1))"
      ],
      "metadata": {
        "colab": {
          "base_uri": "https://localhost:8080/"
        },
        "id": "FZekpJRccOzM",
        "outputId": "9fc77c04-a96c-4631-dea4-fd1ecbf50670"
      },
      "execution_count": 16,
      "outputs": [
        {
          "output_type": "stream",
          "name": "stdout",
          "text": [
            "tensor([[3],\n",
            "        [0],\n",
            "        [4]])\n"
          ]
        }
      ]
    },
    {
      "cell_type": "markdown",
      "source": [
        "**scatter 함수**는 지정한 차원을 0~n까지 차례로 이동하면서 주어진 인덱스에 맞게 주어진 값을 채운다."
      ],
      "metadata": {
        "id": "2eL3yvR8gRX9"
      }
    },
    {
      "cell_type": "code",
      "source": [
        "y_one_hot.scatter_(1, y.unsqueeze(1), 1)"
      ],
      "metadata": {
        "colab": {
          "base_uri": "https://localhost:8080/"
        },
        "id": "Ytio-rVyh7Fp",
        "outputId": "37a32e20-3cce-4c6b-8eb2-4b08da46e00b"
      },
      "execution_count": 17,
      "outputs": [
        {
          "output_type": "execute_result",
          "data": {
            "text/plain": [
              "tensor([[0., 0., 0., 1., 0.],\n",
              "        [1., 0., 0., 0., 0.],\n",
              "        [0., 0., 0., 0., 1.]])"
            ]
          },
          "metadata": {},
          "execution_count": 17
        }
      ]
    },
    {
      "cell_type": "code",
      "source": [
        "src = torch.arange(1, 11).reshape((2, 5))\n",
        "index = torch.tensor([[0, 1, 2, 0]])\n",
        "torch.zeros(3, 5, dtype=src.dtype).scatter_(0, index, src)"
      ],
      "metadata": {
        "colab": {
          "base_uri": "https://localhost:8080/"
        },
        "id": "swwR1NQ1h8sp",
        "outputId": "a8383d1b-62de-446c-b435-2c4c3812c833"
      },
      "execution_count": 21,
      "outputs": [
        {
          "output_type": "execute_result",
          "data": {
            "text/plain": [
              "tensor([[1, 0, 0, 4, 0],\n",
              "        [0, 2, 0, 0, 0],\n",
              "        [0, 0, 3, 0, 0]])"
            ]
          },
          "metadata": {},
          "execution_count": 21
        }
      ]
    },
    {
      "cell_type": "markdown",
      "source": [
        "$cost(W) = -\\frac{1}{n}\\sum_{i=1}^{n}\\sum_{j=1}^{k}{y_j^{(i)}log(p_j^{(i)})}$\n",
        "\n",
        "해당 식을 코드로 구현하면 아래와 같다."
      ],
      "metadata": {
        "id": "AZhkggLgiUwB"
      }
    },
    {
      "cell_type": "code",
      "source": [
        "cost = (y_one_hot * -torch.log(hypothesis)).sum(dim=1).mean()\n",
        "print(cost)"
      ],
      "metadata": {
        "colab": {
          "base_uri": "https://localhost:8080/"
        },
        "id": "nmGLlxtRrxhp",
        "outputId": "831636c1-16ba-4d2b-822d-3bbbc2314c8b"
      },
      "execution_count": 22,
      "outputs": [
        {
          "output_type": "stream",
          "name": "stdout",
          "text": [
            "tensor(1.8286, grad_fn=<MeanBackward0>)\n"
          ]
        }
      ]
    },
    {
      "cell_type": "markdown",
      "source": [
        "## <strong> 2. 파이토치로 소프트맥스의 비용 함수 구현하기 (하이-레벨) </strong>"
      ],
      "metadata": {
        "id": "6MQ7UWrGsAGf"
      }
    },
    {
      "cell_type": "markdown",
      "source": [
        "<h3> <strong> 2.1 F.softmax() + torch.log() = F.log_softmax() </strong> </h3>\n",
        "\n",
        "앞에서 소프트맥스 함수의 결과에 로그를 씌울 때는 소프트맥스 함수의 출력값에 로그 함수를 적용했다. <br>\n",
        "이때 파이토치의 **F.log_softmax()**를 활용하면 이를 한 번에 해결할 수 있다. "
      ],
      "metadata": {
        "id": "MqgiLeQrsEWw"
      }
    },
    {
      "cell_type": "code",
      "source": [
        "# Low level\n",
        "torch.log(F.softmax(z, dim=1))"
      ],
      "metadata": {
        "colab": {
          "base_uri": "https://localhost:8080/"
        },
        "id": "WcxN02OSseuK",
        "outputId": "ab153b59-3628-486e-dbf9-4f4720406744"
      },
      "execution_count": 23,
      "outputs": [
        {
          "output_type": "execute_result",
          "data": {
            "text/plain": [
              "tensor([[-1.3585, -1.8809, -1.4685, -1.7599, -1.6704],\n",
              "        [-2.1387, -1.8964, -1.3867, -1.7796, -1.1600],\n",
              "        [-1.3414, -1.7656, -2.0759, -1.4377, -1.5870]], grad_fn=<LogBackward0>)"
            ]
          },
          "metadata": {},
          "execution_count": 23
        }
      ]
    },
    {
      "cell_type": "code",
      "source": [
        "# High level\n",
        "F.log_softmax(z, dim=1)"
      ],
      "metadata": {
        "colab": {
          "base_uri": "https://localhost:8080/"
        },
        "id": "GxvrL8aysuEB",
        "outputId": "c92bec6e-d9ec-4b31-d097-647d5e9bfae8"
      },
      "execution_count": 24,
      "outputs": [
        {
          "output_type": "execute_result",
          "data": {
            "text/plain": [
              "tensor([[-1.3585, -1.8809, -1.4685, -1.7599, -1.6704],\n",
              "        [-2.1387, -1.8964, -1.3867, -1.7796, -1.1600],\n",
              "        [-1.3414, -1.7656, -2.0759, -1.4377, -1.5870]],\n",
              "       grad_fn=<LogSoftmaxBackward0>)"
            ]
          },
          "metadata": {},
          "execution_count": 24
        }
      ]
    },
    {
      "cell_type": "markdown",
      "source": [
        "<h3> <strong> 2.2 F.log_softmax() + F.nll_loss() = F.cross_entropy() </strong> </h3>\n",
        "\n",
        "이전에 구현한 비용 함수는 다음과 같다."
      ],
      "metadata": {
        "id": "pr5xUzMNs54j"
      }
    },
    {
      "cell_type": "code",
      "source": [
        "(y_one_hot * -torch.log(F.softmax(z, dim=1))).sum(dim=1).mean()"
      ],
      "metadata": {
        "colab": {
          "base_uri": "https://localhost:8080/"
        },
        "id": "82KddJlztNS-",
        "outputId": "a0069eb9-06bd-4855-cee9-269ea269df8b"
      },
      "execution_count": 25,
      "outputs": [
        {
          "output_type": "execute_result",
          "data": {
            "text/plain": [
              "tensor(1.8286, grad_fn=<MeanBackward0>)"
            ]
          },
          "metadata": {},
          "execution_count": 25
        }
      ]
    },
    {
      "cell_type": "markdown",
      "source": [
        "**F.log_softmax()**를 활용하면 다음과 같이 사용할 수 있다."
      ],
      "metadata": {
        "id": "h7y7EndJtOZH"
      }
    },
    {
      "cell_type": "code",
      "source": [
        "(y_one_hot * -F.log_softmax(z, dim=1)).sum(dim=1).mean()"
      ],
      "metadata": {
        "id": "zHW3Z2zZtUFQ",
        "colab": {
          "base_uri": "https://localhost:8080/"
        },
        "outputId": "beb503cd-c277-411f-dc14-2d578f2eb45a"
      },
      "execution_count": 27,
      "outputs": [
        {
          "output_type": "execute_result",
          "data": {
            "text/plain": [
              "tensor(1.8286, grad_fn=<MeanBackward0>)"
            ]
          },
          "metadata": {},
          "execution_count": 27
        }
      ]
    },
    {
      "cell_type": "markdown",
      "source": [
        "**F.nll_loss()**를 사용하면 원-핫 벡터를 넣을 필요없이 실제값을 인자로 사용할 수 있다."
      ],
      "metadata": {
        "id": "72vRRvFktbpE"
      }
    },
    {
      "cell_type": "code",
      "source": [
        "F.nll_loss(F.log_softmax(z, dim=1), y)"
      ],
      "metadata": {
        "colab": {
          "base_uri": "https://localhost:8080/"
        },
        "id": "aTRGP1BTuBiJ",
        "outputId": "1cca8d0c-1365-49f4-9c3f-5677baf7f544"
      },
      "execution_count": 29,
      "outputs": [
        {
          "output_type": "execute_result",
          "data": {
            "text/plain": [
              "tensor(1.8286, grad_fn=<NllLossBackward0>)"
            ]
          },
          "metadata": {},
          "execution_count": 29
        }
      ]
    },
    {
      "cell_type": "markdown",
      "source": [
        "**F.cross_entropy()**를 사용하면 해당 비용 함수의 기능을 한 번에 수행해준다."
      ],
      "metadata": {
        "id": "6zspQ4tAuSmC"
      }
    },
    {
      "cell_type": "code",
      "source": [
        "F.cross_entropy(z, y)"
      ],
      "metadata": {
        "colab": {
          "base_uri": "https://localhost:8080/"
        },
        "id": "pM8oNNrZud0L",
        "outputId": "1e379fe2-be99-4f07-f457-279ee7010abb"
      },
      "execution_count": 30,
      "outputs": [
        {
          "output_type": "execute_result",
          "data": {
            "text/plain": [
              "tensor(1.8286, grad_fn=<NllLossBackward0>)"
            ]
          },
          "metadata": {},
          "execution_count": 30
        }
      ]
    },
    {
      "cell_type": "markdown",
      "source": [
        "출처: https://wikidocs.net/60572"
      ],
      "metadata": {
        "id": "XRGdatbpujDl"
      }
    }
  ]
}