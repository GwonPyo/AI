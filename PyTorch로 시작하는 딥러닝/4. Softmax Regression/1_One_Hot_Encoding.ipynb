{
  "nbformat": 4,
  "nbformat_minor": 0,
  "metadata": {
    "colab": {
      "name": "1. One Hot Encoding.ipynb",
      "provenance": [],
      "collapsed_sections": []
    },
    "kernelspec": {
      "name": "python3",
      "display_name": "Python 3"
    },
    "language_info": {
      "name": "python"
    }
  },
  "cells": [
    {
      "cell_type": "markdown",
      "source": [
        "## <strong> 1. 원-핫 인코딩이란? </strong>"
      ],
      "metadata": {
        "id": "-6cxVXJiB3GP"
      }
    },
    {
      "cell_type": "markdown",
      "source": [
        "**원-핫 인코딩**은 선택지의 개수만큼 차원을 가지고 각 선택지에 해당하는 원소에는 1, 나머지는 0의 값을 가지도록 하는 표현 방법이다. <br>\n",
        "\n",
        "* 강아지 = [1, 0, 0]\n",
        "* 고양이 = [0, 1, 0]\n",
        "* 냉장고 = [0, 0, 1]\n",
        "\n",
        "위와 같이 원-핫 인코딩으로 표현된 벡터를 **원-핫 벡터(one-hot vector)**라고 한다."
      ],
      "metadata": {
        "id": "hluiyIvHECbd"
      }
    },
    {
      "cell_type": "markdown",
      "source": [
        "## <strong> 2. 원-핫 벡터의 무작위성 </strong>"
      ],
      "metadata": {
        "id": "uYyGXB0GIwyL"
      }
    },
    {
      "cell_type": "markdown",
      "source": [
        "다중 분류 문제를 푼다고 가정하자. <br>\n",
        "각 클래스를 1~n까지 레이블링 한다면 어떻게 될까? <br>\n",
        "\n",
        "Banana, Tomato, Apple 3개의 클래스가 존재하고 각각의 정수 인코딩은 1, 2, 3이라고 가정하자. <br>\n",
        "또한 이때 손실 함수로 MSE를 사용하여 위와 같은 방식의 문제점을 파악해보자.\n",
        "\n",
        "$Loss = \\frac{1}{2}\\sum_i^n(y_i-\\hat{y_i})^2$\n",
        "\n",
        "실제값이 Tomato일 때 예측값이 Banana였다면 오차는 다음과 같다.\n",
        "\n",
        "$(2-1)^2=1$\n",
        "\n",
        "실제값이 Apple일 때 예측값이 Banana였다면 오차는 다음과 같다.\n",
        "\n",
        "$(3-1)^2=4$\n",
        "\n",
        "위 값들은 **Banana가 Apple보다 Tomato에 가깝다는 정보와 다를 것이 없다.** <br>\n",
        "하지만 원-핫 인코딩을 통해 레이블을 인코딩하면 각 클래스 간 제곱 오차가 균등해진다.\n",
        "\n",
        "$((1, 0, 0)-(0,1,0))^2=2$\n",
        "\n",
        "$((1, 0, 0)-(0,0,1))^2=2$\n",
        "\n",
        "즉, 원-핫 인코딩을 통해 얻은 원-핫 벡터들은 모든 쌍에 대해 유클리드 거리가 동일하다. <br>\n",
        "원-핫 벡터의 이와 같은 성질을 **'무작위성을 가진다'**\n",
        "고 표현할 수 있다.\n"
      ],
      "metadata": {
        "id": "aPF3BS73I1P5"
      }
    },
    {
      "cell_type": "markdown",
      "source": [
        "출처: https://wikidocs.net/59678"
      ],
      "metadata": {
        "id": "WXWtwMzwpovN"
      }
    }
  ]
}