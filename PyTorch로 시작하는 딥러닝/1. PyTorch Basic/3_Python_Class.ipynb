{
  "nbformat": 4,
  "nbformat_minor": 0,
  "metadata": {
    "colab": {
      "name": "3. Python Class.ipynb",
      "provenance": [],
      "collapsed_sections": []
    },
    "kernelspec": {
      "name": "python3",
      "display_name": "Python 3"
    },
    "language_info": {
      "name": "python"
    }
  },
  "cells": [
    {
      "cell_type": "markdown",
      "source": [
        "## <strong> 1. Function & Class </strong>"
      ],
      "metadata": {
        "id": "NfeLEhNyxNQi"
      }
    },
    {
      "cell_type": "markdown",
      "source": [
        "<h3> <strong> 1.1 함수로 덧셈기 구현 </strong> </h3>\n",
        "\n",
        "add라는 함수를 구현해보자."
      ],
      "metadata": {
        "id": "8bRYFZ-4xPyB"
      }
    },
    {
      "cell_type": "code",
      "source": [
        "result = 0\n",
        "\n",
        "def add(num):\n",
        "  global result\n",
        "  result += num\n",
        "  return result\n",
        "\n",
        "print(add(3))\n",
        "print(add(4))"
      ],
      "metadata": {
        "id": "F98GDVV8xUah",
        "colab": {
          "base_uri": "https://localhost:8080/"
        },
        "outputId": "fdde99d9-59bd-4716-c989-66894394324a"
      },
      "execution_count": 1,
      "outputs": [
        {
          "output_type": "stream",
          "name": "stdout",
          "text": [
            "3\n",
            "7\n"
          ]
        }
      ]
    },
    {
      "cell_type": "markdown",
      "source": [
        "<h3> <strong> 1.2 함수로 두 개의 덧셈기 구현 </strong> </h3>\n",
        "\n",
        "이번에는 독립적인 두 개의 덧셈기를 만들어보자. <br>\n",
        "첫 번째 계산기로는 3+7, 두 번째 계산기로는 3+10을 해보자"
      ],
      "metadata": {
        "id": "uEyPXvoMwhQ2"
      }
    },
    {
      "cell_type": "code",
      "source": [
        "result1 = 0\n",
        "result2 = 0\n",
        "\n",
        "def add1(num):\n",
        "    global result1\n",
        "    result1 += num\n",
        "    return result1\n",
        "\n",
        "def add2(num):\n",
        "    global result2\n",
        "    result2 += num\n",
        "    return result2\n",
        "\n",
        "print(add1(3))\n",
        "print(add1(4))\n",
        "print(add2(3))\n",
        "print(add2(7))"
      ],
      "metadata": {
        "colab": {
          "base_uri": "https://localhost:8080/"
        },
        "id": "RROsxJmMxNB4",
        "outputId": "b15f3575-a4c4-43dd-dd6f-910e3f30bcac"
      },
      "execution_count": 2,
      "outputs": [
        {
          "output_type": "stream",
          "name": "stdout",
          "text": [
            "3\n",
            "7\n",
            "3\n",
            "10\n"
          ]
        }
      ]
    },
    {
      "cell_type": "markdown",
      "source": [
        "위와 같이 **서로의 값에 영향을 주지 않고 서로 다른 연산을 수행**할 수 있다."
      ],
      "metadata": {
        "id": "dIk4N6SkxOVl"
      }
    },
    {
      "cell_type": "markdown",
      "source": [
        "<h3> <strong> 1.3 클래스로 덧셈기 구현하기 </strong> </h3>\n",
        "\n",
        "이번에는 클래스로 덧셈기를 구현해보자."
      ],
      "metadata": {
        "id": "Dbvg-qg2xTfT"
      }
    },
    {
      "cell_type": "code",
      "source": [
        "class Calculator:\n",
        "  def __init__(self): # 생성자\n",
        "    self.result = 0\n",
        "  \n",
        "  def add(self, num): # 객체 생성 후 사용할 수 있는 함수\n",
        "    self.result += num\n",
        "    return self.result"
      ],
      "metadata": {
        "id": "QZ5knfbbxcMR"
      },
      "execution_count": 3,
      "outputs": []
    },
    {
      "cell_type": "markdown",
      "source": [
        "클래스는 생성 후 객체라는 것을 만들어 낼 수 있다. <br>\n",
        "아래처럼 **'(객체 이름)=(클래스 이름)(인자)'** 형식으로 선언하면 된다."
      ],
      "metadata": {
        "id": "puwQPBrNxtC6"
      }
    },
    {
      "cell_type": "code",
      "source": [
        "cal1 = Calculator()\n",
        "cal2 = Calculator()"
      ],
      "metadata": {
        "id": "_Wt2-429x-u4"
      },
      "execution_count": 4,
      "outputs": []
    },
    {
      "cell_type": "markdown",
      "source": [
        "두 개의 객체를 이용해 독립적인 덧셈 연산을 수행해보자."
      ],
      "metadata": {
        "id": "UElVC_XAyD8F"
      }
    },
    {
      "cell_type": "code",
      "source": [
        "print(cal1.add(3))\n",
        "print(cal1.add(4))\n",
        "print(cal2.add(3))\n",
        "print(cal2.add(7))"
      ],
      "metadata": {
        "colab": {
          "base_uri": "https://localhost:8080/"
        },
        "id": "0vmWXY8eyG3n",
        "outputId": "00db7e83-40a9-4129-8444-291d7694f98d"
      },
      "execution_count": 5,
      "outputs": [
        {
          "output_type": "stream",
          "name": "stdout",
          "text": [
            "3\n",
            "7\n",
            "3\n",
            "10\n"
          ]
        }
      ]
    },
    {
      "cell_type": "markdown",
      "source": [
        "이전에는 독립적인 두 개의 함수를 만들어 계산했지만 클래스를 하나 선언해 한 번에 수행이 가능하다."
      ],
      "metadata": {
        "id": "0ErJa5JTyIZ7"
      }
    }
  ]
}