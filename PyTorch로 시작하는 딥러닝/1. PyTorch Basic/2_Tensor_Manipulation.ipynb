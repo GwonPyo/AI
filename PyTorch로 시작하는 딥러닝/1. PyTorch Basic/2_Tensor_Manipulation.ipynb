{
  "nbformat": 4,
  "nbformat_minor": 0,
  "metadata": {
    "colab": {
      "name": "2. Tensor Manipulation 1.ipynb",
      "provenance": [],
      "collapsed_sections": []
    },
    "kernelspec": {
      "name": "python3",
      "display_name": "Python 3"
    },
    "language_info": {
      "name": "python"
    }
  },
  "cells": [
    {
      "cell_type": "markdown",
      "source": [
        "## <strong> 1. Numpy Basic </strong>"
      ],
      "metadata": {
        "id": "m_egliwHPBKK"
      }
    },
    {
      "cell_type": "markdown",
      "source": [
        "<h3> <strong>1.1 1D with Numpy </strong> </h3>\n",
        "\n",
        "Numpy로 1차원 텐서인 벡터를 만들어보자."
      ],
      "metadata": {
        "id": "FAg4ZaXJPOuI"
      }
    },
    {
      "cell_type": "code",
      "source": [
        "import numpy as np"
      ],
      "metadata": {
        "id": "l8iKg_KXQhEN"
      },
      "execution_count": 30,
      "outputs": []
    },
    {
      "cell_type": "code",
      "source": [
        "t = np.array([0., 1., 2., 3., 4., 5., 6.])\n",
        "print(t)"
      ],
      "metadata": {
        "colab": {
          "base_uri": "https://localhost:8080/"
        },
        "id": "RIUdGXJaQWSi",
        "outputId": "09f274a4-5fc1-4097-b242-50162512d7b9"
      },
      "execution_count": 3,
      "outputs": [
        {
          "output_type": "stream",
          "name": "stdout",
          "text": [
            "[0. 1. 2. 3. 4. 5. 6.]\n"
          ]
        }
      ]
    },
    {
      "cell_type": "markdown",
      "source": [
        "벡터의 차원과 크기를 출력해보자."
      ],
      "metadata": {
        "id": "e6tsjQV8Qav0"
      }
    },
    {
      "cell_type": "code",
      "source": [
        "print('dim of t:', t.ndim)    # ndim: 텐서가 몇 차원인지 출력해준다.\n",
        "print('shape of t', t.shape)  # shape: 텐서의 크기를 출력한다."
      ],
      "metadata": {
        "colab": {
          "base_uri": "https://localhost:8080/"
        },
        "id": "hrDwIHn6Qnhb",
        "outputId": "92a29690-9250-440b-85d5-af63ceca2aac"
      },
      "execution_count": 4,
      "outputs": [
        {
          "output_type": "stream",
          "name": "stdout",
          "text": [
            "dim of t: 1\n",
            "shape of t (7,)\n"
          ]
        }
      ]
    },
    {
      "cell_type": "markdown",
      "source": [
        "넘파이의 텐서는 **인덱스를 이용해 원소에 접근할 수 있다.**"
      ],
      "metadata": {
        "id": "YBvFedmbRD5W"
      }
    },
    {
      "cell_type": "code",
      "source": [
        "print('t[0] t[1] t[-1]:', t[0], t[1], t[-1])"
      ],
      "metadata": {
        "colab": {
          "base_uri": "https://localhost:8080/"
        },
        "id": "SA18Fnc6QxT2",
        "outputId": "9f16ec67-485a-45ca-ed86-fcbdcc2cf81f"
      },
      "execution_count": 5,
      "outputs": [
        {
          "output_type": "stream",
          "name": "stdout",
          "text": [
            "t[0] t[1] t[-1]: 0.0 1.0 6.0\n"
          ]
        }
      ]
    },
    {
      "cell_type": "markdown",
      "source": [
        "또한 **슬라이싱(Slicing)**을 이용해 범위를 지정하여 원소를 불러올 수 있다."
      ],
      "metadata": {
        "id": "eLfa5mCCRWKs"
      }
    },
    {
      "cell_type": "code",
      "source": [
        "print('t[2:5] t[:2]]:', t[2:5], t[:2])"
      ],
      "metadata": {
        "id": "7SKX6aPQRia1",
        "colab": {
          "base_uri": "https://localhost:8080/"
        },
        "outputId": "9a24b64a-dcfc-4d59-8515-d6f375e3f82d"
      },
      "execution_count": 7,
      "outputs": [
        {
          "output_type": "stream",
          "name": "stdout",
          "text": [
            "t[2:5] t[:2]]: [2. 3. 4.] [0. 1.]\n"
          ]
        }
      ]
    },
    {
      "cell_type": "markdown",
      "source": [
        "<h3> <strong>1.2 2D with Numpy </strong> </h3>\n",
        "\n",
        "Numpy로 2차원 행렬을 만들어보자."
      ],
      "metadata": {
        "id": "L-iO_yMTRl_S"
      }
    },
    {
      "cell_type": "code",
      "source": [
        "t = np.array([[1., 2., 3.], [4., 5., 6.], [7., 8., 9.], [10., 11., 12.]])\n",
        "print(t)"
      ],
      "metadata": {
        "colab": {
          "base_uri": "https://localhost:8080/"
        },
        "id": "xaivPpjGR24B",
        "outputId": "4e39f2ab-96db-4c9d-e5e0-ec76cdfe8a15"
      },
      "execution_count": 8,
      "outputs": [
        {
          "output_type": "stream",
          "name": "stdout",
          "text": [
            "[[ 1.  2.  3.]\n",
            " [ 4.  5.  6.]\n",
            " [ 7.  8.  9.]\n",
            " [10. 11. 12.]]\n"
          ]
        }
      ]
    },
    {
      "cell_type": "code",
      "source": [
        "print('dim of t:', t.ndim)    # ndim: 텐서가 몇 차원인지 출력해준다.\n",
        "print('shape of t', t.shape)  # shape: 텐서의 크기를 출력한다."
      ],
      "metadata": {
        "colab": {
          "base_uri": "https://localhost:8080/"
        },
        "id": "7n-GoGcrR5Wp",
        "outputId": "6b15c35e-af03-4445-84f6-2c8ee0e123fe"
      },
      "execution_count": 9,
      "outputs": [
        {
          "output_type": "stream",
          "name": "stdout",
          "text": [
            "dim of t: 2\n",
            "shape of t (4, 3)\n"
          ]
        }
      ]
    },
    {
      "cell_type": "markdown",
      "source": [
        "## <strong> 2. PyTorch Tensor Allocation </strong>"
      ],
      "metadata": {
        "id": "lvPb98dYR9gp"
      }
    },
    {
      "cell_type": "markdown",
      "source": [
        "먼저 torch를 임포트하자."
      ],
      "metadata": {
        "id": "gwtf2ci0SSN9"
      }
    },
    {
      "cell_type": "code",
      "source": [
        "import torch"
      ],
      "metadata": {
        "id": "D8TdrjdxSYWA"
      },
      "execution_count": 2,
      "outputs": []
    },
    {
      "cell_type": "markdown",
      "source": [
        "<h3> <strong> 2.1 1D with PyTorch </strong> </h3>\n",
        "\n",
        "파이터치로 벡터를 만들어보자."
      ],
      "metadata": {
        "id": "KuBGH4IzSZLO"
      }
    },
    {
      "cell_type": "code",
      "source": [
        "t = torch.FloatTensor([0., 1., 2., 3., 4., 5., 6.])\n",
        "print(t)"
      ],
      "metadata": {
        "colab": {
          "base_uri": "https://localhost:8080/"
        },
        "id": "SVTB9dOFSiFg",
        "outputId": "bf38d663-9fa5-4bd3-8c4c-137d078392d3"
      },
      "execution_count": 11,
      "outputs": [
        {
          "output_type": "stream",
          "name": "stdout",
          "text": [
            "tensor([0., 1., 2., 3., 4., 5., 6.])\n"
          ]
        }
      ]
    },
    {
      "cell_type": "markdown",
      "source": [
        "벡터의 차원과 크기를 출력해보자."
      ],
      "metadata": {
        "id": "h-74XWxdSowg"
      }
    },
    {
      "cell_type": "code",
      "source": [
        "print(t.dim())  # dim: 텐서가 몇 차원인지 출력해준다.\n",
        "print(t.shape)  # shape: 텐서의 크기를 출력한다.\n",
        "print(t.size()) # size: 텐서의 크기를 출력한다."
      ],
      "metadata": {
        "colab": {
          "base_uri": "https://localhost:8080/"
        },
        "id": "JZyf1bLvSvGu",
        "outputId": "7238a233-d127-4a45-86dc-f84a0968ddde"
      },
      "execution_count": 12,
      "outputs": [
        {
          "output_type": "stream",
          "name": "stdout",
          "text": [
            "1\n",
            "torch.Size([7])\n",
            "torch.Size([7])\n"
          ]
        }
      ]
    },
    {
      "cell_type": "markdown",
      "source": [
        "원소에 접근하려면 인덱싱, 슬라이싱 등 Numpy와 동일하게 접근할 수 있다."
      ],
      "metadata": {
        "id": "hKgnVsHjS3ra"
      }
    },
    {
      "cell_type": "markdown",
      "source": [
        "<h3> <strong> 2.2 2D with PyTorch </strong> </h3>\n",
        "\n",
        "2차원 행렬을 만들어보자."
      ],
      "metadata": {
        "id": "pIYAMmMvTBfU"
      }
    },
    {
      "cell_type": "code",
      "source": [
        "t = torch.FloatTensor([[1., 2., 3.],\n",
        "                       [4., 5., 6.],\n",
        "                       [7., 8., 9.],\n",
        "                       [10., 11., 12.]\n",
        "                      ])\n",
        "print(t)"
      ],
      "metadata": {
        "id": "GRConpUlTEAF",
        "colab": {
          "base_uri": "https://localhost:8080/"
        },
        "outputId": "d6b7327d-cf43-49e5-8ab1-c332a8cad9aa"
      },
      "execution_count": 13,
      "outputs": [
        {
          "output_type": "stream",
          "name": "stdout",
          "text": [
            "tensor([[ 1.,  2.,  3.],\n",
            "        [ 4.,  5.,  6.],\n",
            "        [ 7.,  8.,  9.],\n",
            "        [10., 11., 12.]])\n"
          ]
        }
      ]
    },
    {
      "cell_type": "code",
      "source": [
        "print(t.dim())  # dim: 텐서가 몇 차원인지 출력해준다.\n",
        "print(t.shape)  # shape: 텐서의 크기를 출력한다.\n",
        "print(t.size()) # size: 텐서의 크기를 출력한다."
      ],
      "metadata": {
        "colab": {
          "base_uri": "https://localhost:8080/"
        },
        "id": "7mTOXS1LTIPc",
        "outputId": "f6f277d4-24ae-4ec3-f296-a528e69a36ac"
      },
      "execution_count": 14,
      "outputs": [
        {
          "output_type": "stream",
          "name": "stdout",
          "text": [
            "2\n",
            "torch.Size([4, 3])\n",
            "torch.Size([4, 3])\n"
          ]
        }
      ]
    },
    {
      "cell_type": "markdown",
      "source": [
        "<h3> <strong> 2.3 Broadcasting </strong> </h3>\n",
        "\n",
        "**크기가 다른 두 텐서를 자동으로 크기를 맞춰 연산을 수행해주는 기능**을 Broadcasting이라고 한다.\n",
        "\n",
        "아래의 경우 두 텐서의 크기는 동일하므로 연산이 올바르게 수행된다."
      ],
      "metadata": {
        "id": "OnxpKnhHTLSF"
      }
    },
    {
      "cell_type": "code",
      "source": [
        "m1 = torch.FloatTensor([[3, 3]])\n",
        "m2 = torch.FloatTensor([[2, 2]])\n",
        "print(m1 + m2)"
      ],
      "metadata": {
        "colab": {
          "base_uri": "https://localhost:8080/"
        },
        "id": "_U4ll_54ZdjL",
        "outputId": "aa98036c-ecdf-4780-9f88-00db342cb35e"
      },
      "execution_count": 15,
      "outputs": [
        {
          "output_type": "stream",
          "name": "stdout",
          "text": [
            "tensor([[5., 5.]])\n"
          ]
        }
      ]
    },
    {
      "cell_type": "markdown",
      "source": [
        "하지만 아래의 경우 벡터와 스칼라의 덧셈 연산이 수행된다. "
      ],
      "metadata": {
        "id": "aqY4x3lAZyX-"
      }
    },
    {
      "cell_type": "code",
      "source": [
        "# Vector + scalar\n",
        "m1 = torch.FloatTensor([[1, 2]])\n",
        "m2 = torch.FloatTensor([3]) # [3] -> [3, 3]\n",
        "print(m1 + m2)"
      ],
      "metadata": {
        "colab": {
          "base_uri": "https://localhost:8080/"
        },
        "id": "i87xkC5rasg3",
        "outputId": "f2962c24-072b-44b3-effe-c1defe976833"
      },
      "execution_count": 16,
      "outputs": [
        {
          "output_type": "stream",
          "name": "stdout",
          "text": [
            "tensor([[4., 5.]])\n"
          ]
        }
      ]
    },
    {
      "cell_type": "markdown",
      "source": [
        "두 벡터간의 덧셈에서도 브로드캐스팅이 가능하다."
      ],
      "metadata": {
        "id": "-uS3ER5RatsE"
      }
    },
    {
      "cell_type": "code",
      "source": [
        "# 2 x 1 Vector + 1 x 2 Vector\n",
        "m1 = torch.FloatTensor([[1, 2]])\n",
        "m2 = torch.FloatTensor([[3], [4]])\n",
        "print(m1 + m2)"
      ],
      "metadata": {
        "colab": {
          "base_uri": "https://localhost:8080/"
        },
        "id": "qgz0hotga6Td",
        "outputId": "1b9bdc4f-d1e1-4f17-9bff-e68fc6d80e0e"
      },
      "execution_count": 17,
      "outputs": [
        {
          "output_type": "stream",
          "name": "stdout",
          "text": [
            "tensor([[4., 5.],\n",
            "        [5., 6.]])\n"
          ]
        }
      ]
    },
    {
      "cell_type": "markdown",
      "source": [
        "## <strong> 3. 자주 사용되는 기능들 </strong>\n"
      ],
      "metadata": {
        "id": "sKwGv1KJa7tF"
      }
    },
    {
      "cell_type": "markdown",
      "source": [
        "<h3> <strong> (1) Matrix Multiplication Vs. Multiplication</strong> </h3>\n",
        "\n",
        "행렬로 곱셈을 하려면 행렬 곱셈(.matmul) 혹은 원소 별 곱셈(.mul)을 사용하면 된다. <br>\n",
        "아래는 matmul()을 사용해 수행한 행렬 곱이다."
      ],
      "metadata": {
        "id": "ZEeQFlbNd-81"
      }
    },
    {
      "cell_type": "code",
      "source": [
        "m1 = torch.FloatTensor([[1, 2], [3, 4]])\n",
        "m2 = torch.FloatTensor([[1], [2]])\n",
        "print('Shape of Matrix 1: ', m1.shape) # 2 x 2\n",
        "print('Shape of Matrix 2: ', m2.shape) # 2 x 1\n",
        "print(m1.matmul(m2)) # 2 x 1"
      ],
      "metadata": {
        "colab": {
          "base_uri": "https://localhost:8080/"
        },
        "id": "HJylwFKsPjBs",
        "outputId": "c072043b-69b4-4436-a35a-34c72173318b"
      },
      "execution_count": 4,
      "outputs": [
        {
          "output_type": "stream",
          "name": "stdout",
          "text": [
            "Shape of Matrix 1:  torch.Size([2, 2])\n",
            "Shape of Matrix 2:  torch.Size([2, 1])\n",
            "tensor([[ 5.],\n",
            "        [11.]])\n"
          ]
        }
      ]
    },
    {
      "cell_type": "markdown",
      "source": [
        "위 처럼 행렬 곱이 아니라 element-wise 곱셈이 존재한다. <br>\n",
        "동일한 크기의 행렬이 동일한 위치에 있는 원소끼리 곱하는 것을 의미한다. <br>\n",
        "'*' 혹은 mul()을 통해 수행할 수 있다."
      ],
      "metadata": {
        "id": "ir6lMHYuL6Cz"
      }
    },
    {
      "cell_type": "code",
      "source": [
        "m1 = torch.FloatTensor([[1, 2], [3, 4]])\n",
        "m2 = torch.FloatTensor([[1], [2]])\n",
        "print('Shape of Matrix 1: ', m1.shape) # 2 x 2\n",
        "print('Shape of Matrix 2: ', m2.shape) # 2 x 1\n",
        "print(m1 * m2) # 2 x 2\n",
        "print(m1.mul(m2))"
      ],
      "metadata": {
        "colab": {
          "base_uri": "https://localhost:8080/"
        },
        "id": "OmTP1VHXQGD0",
        "outputId": "0c6870be-727b-429e-b44f-fd8c9fea0a3a"
      },
      "execution_count": 5,
      "outputs": [
        {
          "output_type": "stream",
          "name": "stdout",
          "text": [
            "Shape of Matrix 1:  torch.Size([2, 2])\n",
            "Shape of Matrix 2:  torch.Size([2, 1])\n",
            "tensor([[1., 2.],\n",
            "        [6., 8.]])\n",
            "tensor([[1., 2.],\n",
            "        [6., 8.]])\n"
          ]
        }
      ]
    },
    {
      "cell_type": "markdown",
      "source": [
        "<h3> <strong> (2) Mean </strong> </h3>\n",
        "\n",
        "평균을 구하려면 .mean() 메서드를 사용하면 된다."
      ],
      "metadata": {
        "id": "9cgD2loSQKLF"
      }
    },
    {
      "cell_type": "code",
      "source": [
        "t = torch.FloatTensor([1, 2])\n",
        "print(t.mean())"
      ],
      "metadata": {
        "colab": {
          "base_uri": "https://localhost:8080/"
        },
        "id": "Rel0IPKvQW1M",
        "outputId": "c50652d7-1fd5-4959-99c5-0fdf09a663a8"
      },
      "execution_count": 6,
      "outputs": [
        {
          "output_type": "stream",
          "name": "stdout",
          "text": [
            "tensor(1.5000)\n"
          ]
        }
      ]
    },
    {
      "cell_type": "markdown",
      "source": [
        "이번에는 2차원 행렬의 평균을 구해보자."
      ],
      "metadata": {
        "id": "WvSt6ih9Qc0r"
      }
    },
    {
      "cell_type": "code",
      "source": [
        "t = torch.FloatTensor([[1, 2], [3, 4]])\n",
        "print(t.mean())"
      ],
      "metadata": {
        "colab": {
          "base_uri": "https://localhost:8080/"
        },
        "id": "pScWCAOOZn2s",
        "outputId": "0de8d473-8b38-41dd-b420-0d66b70f11e8"
      },
      "execution_count": 8,
      "outputs": [
        {
          "output_type": "stream",
          "name": "stdout",
          "text": [
            "tensor(2.5000)\n"
          ]
        }
      ]
    },
    {
      "cell_type": "markdown",
      "source": [
        "위처럼 2차원 행렬에 .mean()을 적용하면 모든 원소의 평균을 구해준다. <br>\n",
        "이번에는 dim(차원)을 인자로 전달해보자."
      ],
      "metadata": {
        "id": "xWderNJPZplC"
      }
    },
    {
      "cell_type": "code",
      "source": [
        "print(t.mean(dim=0))"
      ],
      "metadata": {
        "colab": {
          "base_uri": "https://localhost:8080/"
        },
        "id": "rrvnVJOPZ31o",
        "outputId": "edd62abf-f1bb-4a3a-eced-f1d950bca132"
      },
      "execution_count": 9,
      "outputs": [
        {
          "output_type": "stream",
          "name": "stdout",
          "text": [
            "tensor([2., 3.])\n"
          ]
        }
      ]
    },
    {
      "cell_type": "markdown",
      "source": [
        "dim=0이라는 것은 첫번째 차원인 **행**을 의미한다. <br>\n",
        "그리고 인자로 dim을 준다면 해당 차원을 제거한다는 의미이다. <br>\n",
        "즉, 행렬에서 '열'만 남기게 된다. <br>\n",
        "이번에는 dim=1을 전달해보자."
      ],
      "metadata": {
        "id": "fBsa8KRlZ6YX"
      }
    },
    {
      "cell_type": "code",
      "source": [
        "print(t.mean(dim=1))"
      ],
      "metadata": {
        "id": "Rji4Zdn9aYjR",
        "colab": {
          "base_uri": "https://localhost:8080/"
        },
        "outputId": "6166ff0d-3e2e-440a-de78-1fe386c8ca86"
      },
      "execution_count": 10,
      "outputs": [
        {
          "output_type": "stream",
          "name": "stdout",
          "text": [
            "tensor([1.5000, 3.5000])\n"
          ]
        }
      ]
    },
    {
      "cell_type": "markdown",
      "source": [
        "예상대로 **(모든 열을 제거해서)** 모든 행의 평균을 구해준다."
      ],
      "metadata": {
        "id": "WKHuTa7eaaVI"
      }
    },
    {
      "cell_type": "markdown",
      "source": [
        "<h3> <strong> (3) Sum</strong> </h3>\n",
        "\n",
        "덧셈은 평균과 연산 방법, 인자가 동일하다."
      ],
      "metadata": {
        "id": "4md1Vm2sayS3"
      }
    },
    {
      "cell_type": "code",
      "source": [
        "t = torch.FloatTensor([[1, 2], [3, 4]])\n",
        "\n",
        "print(t.sum()) # 전체 원소의 합 출력\n",
        "print(t.sum(dim=0)) # (1+3, 2+4) / 행 제거\n",
        "print(t.sum(dim=1)) # (1+2, 3+4) / 열 제거\n",
        "print(t.sum(dim=-1)) # (1+2, 3+4) / 열 제거"
      ],
      "metadata": {
        "colab": {
          "base_uri": "https://localhost:8080/"
        },
        "id": "q0VkjXAvbCg8",
        "outputId": "b41652a3-d900-47cd-edce-574da672480a"
      },
      "execution_count": 11,
      "outputs": [
        {
          "output_type": "stream",
          "name": "stdout",
          "text": [
            "tensor(10.)\n",
            "tensor([4., 6.])\n",
            "tensor([3., 7.])\n",
            "tensor([3., 7.])\n"
          ]
        }
      ]
    },
    {
      "cell_type": "markdown",
      "source": [
        "<h3> <strong> (4) Max와 ArgMax </strong> </h3>\n",
        "\n",
        "**Max는 원소의 최대값을 리턴**하고, **ArgMax는 최대값을 가진 인덱스를 리턴**한다. <br>\n",
        "먼저 .max를 사용해보자."
      ],
      "metadata": {
        "id": "h3GQH5t1bVyG"
      }
    },
    {
      "cell_type": "code",
      "source": [
        "t = torch.FloatTensor([[1, 2], [3, 4]])\n",
        "print(t.max())"
      ],
      "metadata": {
        "colab": {
          "base_uri": "https://localhost:8080/"
        },
        "id": "B3bNOLGzbxmN",
        "outputId": "d045368a-89cd-4d19-ecb0-7c0a31aebb1a"
      },
      "execution_count": 12,
      "outputs": [
        {
          "output_type": "stream",
          "name": "stdout",
          "text": [
            "tensor(4.)\n"
          ]
        }
      ]
    },
    {
      "cell_type": "markdown",
      "source": [
        "이번에는 dim=0을 전달해보자."
      ],
      "metadata": {
        "id": "qpYQbvRLb1YY"
      }
    },
    {
      "cell_type": "code",
      "source": [
        "print(t.max(dim=0))"
      ],
      "metadata": {
        "colab": {
          "base_uri": "https://localhost:8080/"
        },
        "id": "3rUkAzeqb0oh",
        "outputId": "d051f245-21c6-4f5c-9911-e32f87fbe15a"
      },
      "execution_count": 13,
      "outputs": [
        {
          "output_type": "stream",
          "name": "stdout",
          "text": [
            "torch.return_types.max(\n",
            "values=tensor([3., 4.]),\n",
            "indices=tensor([1, 1]))\n"
          ]
        }
      ]
    },
    {
      "cell_type": "markdown",
      "source": [
        "위처럼 max에 dim 인자를 주면 argmax도 함께 리턴한다. <br>\n",
        "이때 max혹은 argmax만 리턴받고 싶다면 아래처럼 리턴값에 인덱스를 부여하면 된다."
      ],
      "metadata": {
        "id": "iYOTxBMab7pc"
      }
    },
    {
      "cell_type": "code",
      "source": [
        "print('Max:', t.max(dim=0)[0])\n",
        "print('Argmax:', t.max(dim=0)[1])"
      ],
      "metadata": {
        "colab": {
          "base_uri": "https://localhost:8080/"
        },
        "id": "U3JMSH21cti-",
        "outputId": "5646adf5-1930-4e6a-90a7-a64d363eacb5"
      },
      "execution_count": 15,
      "outputs": [
        {
          "output_type": "stream",
          "name": "stdout",
          "text": [
            "Max: tensor([3., 4.])\n",
            "Argmax: tensor([1, 1])\n"
          ]
        }
      ]
    },
    {
      "cell_type": "markdown",
      "source": [
        "만약 각 행의 최대값을 보고 싶다면 dim=1을 인자로 전달하면 된다."
      ],
      "metadata": {
        "id": "Kb3ZB2kUczgK"
      }
    },
    {
      "cell_type": "code",
      "source": [
        "print(t.max(dim=1))"
      ],
      "metadata": {
        "id": "DPBF0VikdHi1",
        "colab": {
          "base_uri": "https://localhost:8080/"
        },
        "outputId": "39009f42-bece-413f-cfd2-ab7eb48314c6"
      },
      "execution_count": 16,
      "outputs": [
        {
          "output_type": "stream",
          "name": "stdout",
          "text": [
            "torch.return_types.max(\n",
            "values=tensor([2., 4.]),\n",
            "indices=tensor([1, 1]))\n"
          ]
        }
      ]
    },
    {
      "cell_type": "markdown",
      "source": [
        "<h3> <strong> (5) View </strong> </h3>\n",
        "\n",
        ".view()를 사용하면 원소의 수를 유지하면서 텐서의 크기를 변경할 수 있다. <br> numpy의 reshape() 메서드와 동일한 역할을 한다.\n",
        "\n",
        "먼저 3차원 텐서를 만들어보자.\n"
      ],
      "metadata": {
        "id": "LgBPEmjgd1t3"
      }
    },
    {
      "cell_type": "code",
      "source": [
        "t = np.array([[[0, 1, 2],\n",
        "               [3, 4, 5]],\n",
        "              [[6, 7, 8],\n",
        "               [9, 10, 11]]])\n",
        "ft = torch.FloatTensor(t)"
      ],
      "metadata": {
        "id": "qJ4SUFyle4JO"
      },
      "execution_count": 19,
      "outputs": []
    },
    {
      "cell_type": "markdown",
      "source": [
        "ft 텐서에 view를 사용해 2차원 행렬로 바꿔보자."
      ],
      "metadata": {
        "id": "O-Tv9yPke5o0"
      }
    },
    {
      "cell_type": "code",
      "source": [
        "print(ft.view([-1, 3])) # ft 텐서를 (?, 3)의 크기로 변경\n",
        "print(ft.view([-1, 3]).shape)"
      ],
      "metadata": {
        "id": "8SHIp__TfAL-",
        "colab": {
          "base_uri": "https://localhost:8080/"
        },
        "outputId": "9c60138c-7c0f-4506-ed23-09ba17a8277e"
      },
      "execution_count": 20,
      "outputs": [
        {
          "output_type": "stream",
          "name": "stdout",
          "text": [
            "tensor([[ 0.,  1.,  2.],\n",
            "        [ 3.,  4.,  5.],\n",
            "        [ 6.,  7.,  8.],\n",
            "        [ 9., 10., 11.]])\n",
            "torch.Size([4, 3])\n"
          ]
        }
      ]
    },
    {
      "cell_type": "markdown",
      "source": [
        "이번에는 3차원 텐서에서 차원은 유지하고 형태를 바꿔보자."
      ],
      "metadata": {
        "id": "OqrkC2UVfDK2"
      }
    },
    {
      "cell_type": "code",
      "source": [
        "print(ft.view([-1, 1, 3]))\n",
        "print(ft.view([-1, 1, 3]).shape)"
      ],
      "metadata": {
        "id": "IfU3LUjQfj70",
        "colab": {
          "base_uri": "https://localhost:8080/"
        },
        "outputId": "956f387f-280a-453f-d800-3f920b3867f9"
      },
      "execution_count": 21,
      "outputs": [
        {
          "output_type": "stream",
          "name": "stdout",
          "text": [
            "tensor([[[ 0.,  1.,  2.]],\n",
            "\n",
            "        [[ 3.,  4.,  5.]],\n",
            "\n",
            "        [[ 6.,  7.,  8.]],\n",
            "\n",
            "        [[ 9., 10., 11.]]])\n",
            "torch.Size([4, 1, 3])\n"
          ]
        }
      ]
    },
    {
      "cell_type": "markdown",
      "source": [
        "<h3> <strong> (6) Squeeze </strong> </h3>\n",
        "\n",
        "Squeeze는 차원이 1인 경우 해당 차원을 제거한다. <br>\n",
        "$(3 \\times 1)$ 크기의 2차원 텐서르 만들고 1차원 텐서로 바꿔보자."
      ],
      "metadata": {
        "id": "ghNriArbfk6M"
      }
    },
    {
      "cell_type": "code",
      "source": [
        "ft = torch.FloatTensor([[0], [1], [2]])\n",
        "print(ft.shape)\n",
        "print(ft.squeeze())\n",
        "print(ft.squeeze().shape)"
      ],
      "metadata": {
        "colab": {
          "base_uri": "https://localhost:8080/"
        },
        "id": "0nGjFWeOf_Ui",
        "outputId": "11b936be-04de-4fc5-f61b-23672f302c0f"
      },
      "execution_count": 22,
      "outputs": [
        {
          "output_type": "stream",
          "name": "stdout",
          "text": [
            "torch.Size([3, 1])\n",
            "tensor([0., 1., 2.])\n",
            "torch.Size([3])\n"
          ]
        }
      ]
    },
    {
      "cell_type": "markdown",
      "source": [
        "<h3> <strong> (7) Unsqueeze </strong> </h3>\n",
        "\n",
        "Squeeze와 다르게 특정 위치에 1인 차원을 추가할 수 있다."
      ],
      "metadata": {
        "id": "7WlHZl6lgJG9"
      }
    },
    {
      "cell_type": "code",
      "source": [
        "ft = torch.Tensor([0, 1, 2])\n",
        "print(ft.shape)\n",
        "print(ft.unsqueeze(0)) # 0은 첫번째 차원을 의미한다.\n",
        "print(ft.unsqueeze(0).shape)"
      ],
      "metadata": {
        "colab": {
          "base_uri": "https://localhost:8080/"
        },
        "id": "NmkazFg6goaM",
        "outputId": "db93fac3-198b-4bed-98a2-a04c101dc9db"
      },
      "execution_count": 23,
      "outputs": [
        {
          "output_type": "stream",
          "name": "stdout",
          "text": [
            "torch.Size([3])\n",
            "tensor([[0., 1., 2.]])\n",
            "torch.Size([1, 3])\n"
          ]
        }
      ]
    },
    {
      "cell_type": "code",
      "source": [
        "print(ft.unsqueeze(1))\n",
        "print(ft.unsqueeze(1).shape)"
      ],
      "metadata": {
        "colab": {
          "base_uri": "https://localhost:8080/"
        },
        "id": "HHbh6fxNgsmr",
        "outputId": "fb9aa93a-1dac-4ee1-d15f-a843454c58ac"
      },
      "execution_count": 24,
      "outputs": [
        {
          "output_type": "stream",
          "name": "stdout",
          "text": [
            "tensor([[0.],\n",
            "        [1.],\n",
            "        [2.]])\n",
            "torch.Size([3, 1])\n"
          ]
        }
      ]
    },
    {
      "cell_type": "markdown",
      "source": [
        "<h3> <strong> (8) Type Casting </strong> </h3>\n",
        "\n",
        "텐서에는 자료형이 존재한다. <br>\n",
        "예를 들어, 32bit 부동 소수점은 torch.FloatTensor, 64비트 정수는 torch.LongTensor를 사용한다. <br>\n",
        "torch.cuda.FloatTensor와 같이 GPU 연산을 위한 자료형도 존재한다.\n",
        "\n",
        "이때 이 **자료형을 변환하는 것을 Type Casting**이라고 한다.\n",
        "\n",
        "먼저 long 타입의 텐서를 선언하자."
      ],
      "metadata": {
        "id": "afGObYGPgvYj"
      }
    },
    {
      "cell_type": "code",
      "source": [
        "lt = torch.LongTensor([1, 2, 3, 4])\n",
        "print(lt)"
      ],
      "metadata": {
        "colab": {
          "base_uri": "https://localhost:8080/"
        },
        "id": "6VJTDC6fjyoW",
        "outputId": "9246808f-202b-4469-88f5-c2315fc0e625"
      },
      "execution_count": 25,
      "outputs": [
        {
          "output_type": "stream",
          "name": "stdout",
          "text": [
            "tensor([1, 2, 3, 4])\n"
          ]
        }
      ]
    },
    {
      "cell_type": "markdown",
      "source": [
        "이때 .float()를 붙이면 float형으로 타입이 변경된다."
      ],
      "metadata": {
        "id": "ugpuq6uFj5v-"
      }
    },
    {
      "cell_type": "code",
      "source": [
        "print(lt.float())"
      ],
      "metadata": {
        "colab": {
          "base_uri": "https://localhost:8080/"
        },
        "id": "woRHN0F8kC-X",
        "outputId": "5bf5b6ef-d43f-4d9b-bc75-10a1500f67fa"
      },
      "execution_count": 26,
      "outputs": [
        {
          "output_type": "stream",
          "name": "stdout",
          "text": [
            "tensor([1., 2., 3., 4.])\n"
          ]
        }
      ]
    },
    {
      "cell_type": "markdown",
      "source": [
        "이번에는 Byte 타입의 텐서를 만들어보자."
      ],
      "metadata": {
        "id": "Ia-nRA61kFiL"
      }
    },
    {
      "cell_type": "code",
      "source": [
        "bt = torch.ByteTensor([True, False, False, True])\n",
        "print(bt)"
      ],
      "metadata": {
        "colab": {
          "base_uri": "https://localhost:8080/"
        },
        "id": "X9fXdLXmkUgf",
        "outputId": "8e73275b-b683-4a4d-f698-b9977af381dc"
      },
      "execution_count": 27,
      "outputs": [
        {
          "output_type": "stream",
          "name": "stdout",
          "text": [
            "tensor([1, 0, 0, 1], dtype=torch.uint8)\n"
          ]
        }
      ]
    },
    {
      "cell_type": "markdown",
      "source": [
        "이때 .long()을 사용하면 long 타입의 텐서로 변경되고, float()를 사용하면 float 타입의 텐서로 변경된다."
      ],
      "metadata": {
        "id": "vX0Wg0ODkXSH"
      }
    },
    {
      "cell_type": "code",
      "source": [
        "print(bt.long())\n",
        "print(bt.float())"
      ],
      "metadata": {
        "colab": {
          "base_uri": "https://localhost:8080/"
        },
        "id": "ZfoeRUCCkjGK",
        "outputId": "75cb3f31-1603-4a49-ee89-6463fba19935"
      },
      "execution_count": 28,
      "outputs": [
        {
          "output_type": "stream",
          "name": "stdout",
          "text": [
            "tensor([1, 0, 0, 1])\n",
            "tensor([1., 0., 0., 1.])\n"
          ]
        }
      ]
    },
    {
      "cell_type": "markdown",
      "source": [
        "<h3> <strong> (9) Type Casting </strong> </h3>\n",
        "\n",
        "먼저 2차원 텐서 2개를 만들어보자."
      ],
      "metadata": {
        "id": "1w_gSvSAkkqA"
      }
    },
    {
      "cell_type": "code",
      "source": [
        "x = torch.FloatTensor([[1, 2], [3, 4]])\n",
        "y = torch.FloatTensor([[5, 6], [7, 8]])"
      ],
      "metadata": {
        "id": "hLzcw8G5k0dn"
      },
      "execution_count": 29,
      "outputs": []
    },
    {
      "cell_type": "markdown",
      "source": [
        "torch.cat([])통해 연결해보자. <br>\n",
        "이때 dim을 전달하면 어느 차원으로 늘릴 것인지를 인자로 줄 수 있다."
      ],
      "metadata": {
        "id": "488RTCmCk2Lk"
      }
    },
    {
      "cell_type": "code",
      "source": [
        "print(torch.cat([x, y], dim=0))"
      ],
      "metadata": {
        "colab": {
          "base_uri": "https://localhost:8080/"
        },
        "id": "d_syYETu3YuH",
        "outputId": "86e37821-2850-4316-9098-6a9281e45b66"
      },
      "execution_count": 31,
      "outputs": [
        {
          "output_type": "stream",
          "name": "stdout",
          "text": [
            "tensor([[1., 2.],\n",
            "        [3., 4.],\n",
            "        [5., 6.],\n",
            "        [7., 8.]])\n"
          ]
        }
      ]
    },
    {
      "cell_type": "code",
      "source": [
        "print(torch.cat([x, y], dim=1))"
      ],
      "metadata": {
        "id": "i93-9J_j8qmP",
        "colab": {
          "base_uri": "https://localhost:8080/"
        },
        "outputId": "5e1f163a-bf52-4e71-cfda-51ef2db046cc"
      },
      "execution_count": 32,
      "outputs": [
        {
          "output_type": "stream",
          "name": "stdout",
          "text": [
            "tensor([[1., 2., 5., 6.],\n",
            "        [3., 4., 7., 8.]])\n"
          ]
        }
      ]
    },
    {
      "cell_type": "markdown",
      "source": [
        "위처럼 dim=0을 전달하면 행을 늘려주고 dim=1을 전달하면 열을 늘려준다. <br>\n"
      ],
      "metadata": {
        "id": "j3Cu2GPG3cGm"
      }
    },
    {
      "cell_type": "markdown",
      "source": [
        "<h3> <strong> (10) Stacking </strong> </h3>\n",
        "\n",
        "Stacking은 텐서를 연결하는 또 다른 방법이다. <br>\n",
        "이때 cat보다 Stacking이 더 편할 때가 있는데, 이는 Stacking이 많은 연산을 포함하고 있기 때문이다.\n",
        "\n",
        "먼저 크기가 같은 3개의 벡터를 만들고 torch.stack을 이용해 합쳐보자."
      ],
      "metadata": {
        "id": "j_NMZeLW8tXf"
      }
    },
    {
      "cell_type": "code",
      "source": [
        "x = torch.FloatTensor([1, 4])\n",
        "y = torch.FloatTensor([2, 5])\n",
        "z = torch.FloatTensor([3, 6])\n",
        "print(torch.stack([x, y, z]))"
      ],
      "metadata": {
        "colab": {
          "base_uri": "https://localhost:8080/"
        },
        "id": "oUL6JmikN63y",
        "outputId": "eeed483a-2f30-4b74-9f5b-9dfe19954c51"
      },
      "execution_count": 33,
      "outputs": [
        {
          "output_type": "stream",
          "name": "stdout",
          "text": [
            "tensor([[1., 4.],\n",
            "        [2., 5.],\n",
            "        [3., 6.]])\n"
          ]
        }
      ]
    },
    {
      "cell_type": "markdown",
      "source": [
        "해당 코드를 torch.cat()으로 수행하려면 아래와 같다."
      ],
      "metadata": {
        "id": "VBEmkQffN9Um"
      }
    },
    {
      "cell_type": "code",
      "source": [
        "print(torch.cat([x.unsqueeze(0), y.unsqueeze(0), z.unsqueeze(0)], dim=0))"
      ],
      "metadata": {
        "colab": {
          "base_uri": "https://localhost:8080/"
        },
        "id": "LcTxif3dOBD_",
        "outputId": "e3f351c0-6f80-4b38-c0df-d91c65295839"
      },
      "execution_count": 34,
      "outputs": [
        {
          "output_type": "stream",
          "name": "stdout",
          "text": [
            "tensor([[1., 4.],\n",
            "        [2., 5.],\n",
            "        [3., 6.]])\n"
          ]
        }
      ]
    },
    {
      "cell_type": "markdown",
      "source": [
        "위처럼 cat에 비해 더 편하게 합칠 수 있다. <br>\n",
        "Stacking 역시 dim을 인자로 줄 수 있는데 해당 차원이 증가하도록 쌓으라는 의미로 해석할 수 있다."
      ],
      "metadata": {
        "id": "nzrRo55uODFW"
      }
    },
    {
      "cell_type": "code",
      "source": [
        "print(torch.stack([x, y, z], dim=1))"
      ],
      "metadata": {
        "colab": {
          "base_uri": "https://localhost:8080/"
        },
        "id": "GmDtQkKFOQ-i",
        "outputId": "7fc5f7d0-e30e-4a53-8ef2-e96428d6d773"
      },
      "execution_count": 35,
      "outputs": [
        {
          "output_type": "stream",
          "name": "stdout",
          "text": [
            "tensor([[1., 2., 3.],\n",
            "        [4., 5., 6.]])\n"
          ]
        }
      ]
    },
    {
      "cell_type": "markdown",
      "source": [
        "<h3> <strong> (11) ones/zeros_like </strong> </h3>\n",
        "\n",
        "이차원 행렬을 만들어보자."
      ],
      "metadata": {
        "id": "dLaJPjzEOSuc"
      }
    },
    {
      "cell_type": "code",
      "source": [
        "x = torch.FloatTensor([[0, 1, 2], [2, 1, 0]])\n",
        "print(torch.ones_like(x)) # 입력 텐서의 크기와 동일하게 값을 1로 채우기\n",
        "print(torch.zeros_like(x)) # 입력 텐서의 크기와 동일하게 하면서 값을 0으로 채우기"
      ],
      "metadata": {
        "id": "AdXk3NpMOmGZ",
        "colab": {
          "base_uri": "https://localhost:8080/"
        },
        "outputId": "0ab8bfd6-fcdd-4f77-f04d-89543f819d7c"
      },
      "execution_count": 36,
      "outputs": [
        {
          "output_type": "stream",
          "name": "stdout",
          "text": [
            "tensor([[1., 1., 1.],\n",
            "        [1., 1., 1.]])\n",
            "tensor([[0., 0., 0.],\n",
            "        [0., 0., 0.]])\n"
          ]
        }
      ]
    },
    {
      "cell_type": "markdown",
      "source": [
        "<h3> <strong> (12) In-place Operation </strong> </h3>\n",
        "\n",
        "이차원 배열을 만들어보자."
      ],
      "metadata": {
        "id": "6UjHDwkEO4FK"
      }
    },
    {
      "cell_type": "code",
      "source": [
        "x = torch.FloatTensor([[1, 2], [3, 4]])"
      ],
      "metadata": {
        "id": "G6rfwtkNPEnJ"
      },
      "execution_count": 37,
      "outputs": []
    },
    {
      "cell_type": "markdown",
      "source": [
        "곱하기 연산을 한 값과 기존의 값을 출력해보자."
      ],
      "metadata": {
        "id": "SWKvO1uvPGw5"
      }
    },
    {
      "cell_type": "code",
      "source": [
        "print(x.mul(2.)) # 곱하기 2를 수행한 결과 출력\n",
        "print(x)         # 기존의 값 출력"
      ],
      "metadata": {
        "id": "GjHbJMG9PLkd",
        "colab": {
          "base_uri": "https://localhost:8080/"
        },
        "outputId": "6d8fdf21-10a8-43cc-cf54-8568ddff4e61"
      },
      "execution_count": 38,
      "outputs": [
        {
          "output_type": "stream",
          "name": "stdout",
          "text": [
            "tensor([[2., 4.],\n",
            "        [6., 8.]])\n",
            "tensor([[1., 2.],\n",
            "        [3., 4.]])\n"
          ]
        }
      ]
    },
    {
      "cell_type": "markdown",
      "source": [
        "이때 x의 값은 변하지 않은 것을 확인할 수 있다.<br>\n",
        "x값을 바꾸고 싶다면 연산 뒤에 _를 붙이면 된다."
      ],
      "metadata": {
        "id": "7S368JhaPOb5"
      }
    },
    {
      "cell_type": "code",
      "source": [
        "print(x.mul_(2.)) \n",
        "print(x)           "
      ],
      "metadata": {
        "colab": {
          "base_uri": "https://localhost:8080/"
        },
        "id": "zJC-dYvrPb6E",
        "outputId": "a2cbbdee-d7c3-4b32-d5bf-f400ed04c428"
      },
      "execution_count": 39,
      "outputs": [
        {
          "output_type": "stream",
          "name": "stdout",
          "text": [
            "tensor([[2., 4.],\n",
            "        [6., 8.]])\n",
            "tensor([[2., 4.],\n",
            "        [6., 8.]])\n"
          ]
        }
      ]
    }
  ]
}