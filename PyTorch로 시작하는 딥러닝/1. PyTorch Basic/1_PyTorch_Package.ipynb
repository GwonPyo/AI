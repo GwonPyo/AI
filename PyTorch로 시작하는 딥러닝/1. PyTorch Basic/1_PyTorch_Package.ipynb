{
  "nbformat": 4,
  "nbformat_minor": 0,
  "metadata": {
    "colab": {
      "name": "1. PyTorch Package.ipynb",
      "provenance": [],
      "collapsed_sections": []
    },
    "kernelspec": {
      "name": "python3",
      "display_name": "Python 3"
    },
    "language_info": {
      "name": "python"
    }
  },
  "cells": [
    {
      "cell_type": "markdown",
      "source": [
        "<h3> <strong> torch </strong> </h3>\n",
        "\n",
        "메인 네임스페이스이다. <br>\n",
        "텐서 등의 다양한 수학 함수가 포함되어 있으며 Numpy와 유사한 구조를 가진다."
      ],
      "metadata": {
        "id": "abhlmGRDNeia"
      }
    },
    {
      "cell_type": "markdown",
      "source": [
        "<h3> <strong> torch.autograd </strong> </h3>\n",
        "\n",
        "자동 미분을 위한 함수들이 포함되어 있다. <br>\n",
        "자동 미분의 on/off를 제어하는 콘텍스트 매니저(enable_grad/no_grad), <br> 자체 미분 가능 함수를 정의할 때 사용하는 기반 클래스인 'Function'등이 포함되어 있다."
      ],
      "metadata": {
        "id": "3C2xcVgtNyxW"
      }
    },
    {
      "cell_type": "markdown",
      "source": [
        "<h3> <strong> torch.nn </strong> </h3>\n",
        "\n",
        "신경망을 구축하기 위한 다양한 데이터 구조나 레이어 등이 정의되어 있다. <br>\n",
        "RNN, LSTM과 같은 레이어, ReLU와 같은 활성화 함수, MSELoss와 같은 손실 함수들이 있다."
      ],
      "metadata": {
        "id": "aEqV5pydOOn4"
      }
    },
    {
      "cell_type": "markdown",
      "source": [
        "<h3> <strong> torch.optim </strong> </h3>\n",
        "\n",
        "확률적 경사 하강법을 중심으로 한 파라미터 최적화 알고리즘이 구현되어 있다."
      ],
      "metadata": {
        "id": "wR981niQN7HX"
      }
    },
    {
      "cell_type": "markdown",
      "source": [
        "<h3> <strong> torch.utils.data </strong> </h3>\n",
        "\n",
        "SGD의 반복 연산을 실행할 때 사용하는 미니 배치용 유틸리티 함수가 포함되어 있다."
      ],
      "metadata": {
        "id": "8OHsGYFpObxF"
      }
    },
    {
      "cell_type": "markdown",
      "source": [
        "<h3> <strong> torch.onnx </strong> </h3>\n",
        "\n",
        "ONNX(Open Neural Network Exchange)의 포맷으로 모델을 export할 때 사용한다. "
      ],
      "metadata": {
        "id": "xKrjQLB-Ok9O"
      }
    }
  ]
}