{
  "nbformat": 4,
  "nbformat_minor": 0,
  "metadata": {
    "colab": {
      "name": "5. 클래스로 파이토치 모델 구현하기.ipynb",
      "provenance": []
    },
    "kernelspec": {
      "name": "python3",
      "display_name": "Python 3"
    },
    "language_info": {
      "name": "python"
    }
  },
  "cells": [
    {
      "cell_type": "markdown",
      "source": [
        "파이토치의 대부분의 구현체들은 대부분 모델을 생성할 때 클래스를 사용한다. <br>\n",
        "앞에서 배운 선형 회귀를 클래스로 구현해보자."
      ],
      "metadata": {
        "id": "wEL0IqBAZIN8"
      }
    },
    {
      "cell_type": "markdown",
      "source": [
        "## <strong> 1. 모델을 클래스로 구현하기 </strong>"
      ],
      "metadata": {
        "id": "j_Hnp-BAZT73"
      }
    },
    {
      "cell_type": "markdown",
      "source": [
        "이전에 선형 회귀 모델은 다음과 같이 구현했다."
      ],
      "metadata": {
        "id": "ACXSpCDkZW-O"
      }
    },
    {
      "cell_type": "code",
      "source": [
        "import torch.nn as nn\n",
        "model = nn.Linear(1, 1)"
      ],
      "metadata": {
        "id": "a2K37VdYZaRl"
      },
      "execution_count": 2,
      "outputs": []
    },
    {
      "cell_type": "markdown",
      "source": [
        "이를 클래스로 구현하면 다음과 같다."
      ],
      "metadata": {
        "id": "l2MmLQ-wZelf"
      }
    },
    {
      "cell_type": "code",
      "source": [
        "class LinearRegressionModel(nn.Module): # torch.nn.Module을 상속받는 파이썬 클래스\n",
        "  def __init__(self):\n",
        "    super().__init__()\n",
        "    self.linear = nn.Linear(1, 1)\n",
        "  \n",
        "  def forward(self, x):\n",
        "    return self.linear(x)\n",
        "  \n",
        "model = LinearRegressionModel()"
      ],
      "metadata": {
        "id": "Z7EBgMbUZn_z"
      },
      "execution_count": 3,
      "outputs": []
    },
    {
      "cell_type": "markdown",
      "source": [
        "클래스 형태의 모델은 nn.Module을 상속받는다. <br>\n",
        "**forward() 함수**는 모델이 학습데이터를 입력받아서 forward 연산을 진행시키는 함수다. <br>\n",
        "forward() 함수는 model 객체를 데이터와 함께 호출하면 자동으로 실해된다.\n",
        "\n",
        "* 입력 $x$로부터 예측된 $y$를 얻는 것을 **forward 연산**이라고 합니다."
      ],
      "metadata": {
        "id": "tuWx9yONaF2z"
      }
    },
    {
      "cell_type": "markdown",
      "source": [
        "## <strong> 2. 단순 선형 회귀 클래스로 구현하기 </strong>"
      ],
      "metadata": {
        "id": "fSeb_6grbUwW"
      }
    },
    {
      "cell_type": "code",
      "source": [
        "import torch\n",
        "import torch.nn as nn\n",
        "import torch.nn.functional as F\n",
        "\n",
        "torch.manual_seed(1)\n",
        "\n",
        "x_train = torch.FloatTensor([[1], [2], [3]])\n",
        "y_train = torch.FloatTensor([[2], [4], [6]])\n",
        "\n",
        "# 클래스로 모듈 선언\n",
        "class LinearRegressionModel(nn.Module):\n",
        "  def __init__(self):\n",
        "    super().__init__()\n",
        "    self.linear = nn.Linear(1, 1)\n",
        "  \n",
        "  def forward(self, x):\n",
        "    return self.linear(x)\n",
        "\n",
        "model = LinearRegressionModel()\n",
        "optimizer = torch.optim.SGD(model.parameters(), lr=0.01)\n",
        "\n",
        "nb_epochs = 2000\n",
        "for epoch in range(nb_epochs+1):\n",
        "  prediction = model(x_train)\n",
        "  cost = F.mse_loss(prediction, y_train)\n",
        "\n",
        "  optimizer.zero_grad()\n",
        "  cost.backward()\n",
        "  optimizer.step()\n",
        "\n",
        "  if epoch % 400 == 0:\n",
        "      print('Epoch {:4d}/{} Cost: {:.6f}'.format(\n",
        "          epoch, nb_epochs, cost.item()\n",
        "      ))"
      ],
      "metadata": {
        "id": "ZjwvSm0hcHZs",
        "colab": {
          "base_uri": "https://localhost:8080/"
        },
        "outputId": "a28bfa6f-eb9e-4cc1-b80f-b2f206ed38b3"
      },
      "execution_count": 6,
      "outputs": [
        {
          "output_type": "stream",
          "name": "stdout",
          "text": [
            "Epoch    0/2000 Cost: 13.103541\n",
            "Epoch  400/2000 Cost: 0.000658\n",
            "Epoch  800/2000 Cost: 0.000096\n",
            "Epoch 1200/2000 Cost: 0.000014\n",
            "Epoch 1600/2000 Cost: 0.000002\n",
            "Epoch 2000/2000 Cost: 0.000000\n"
          ]
        }
      ]
    },
    {
      "cell_type": "markdown",
      "source": [
        "## <strong> 3. 다중 선형 회귀 클래스로 구현하기 </strong>"
      ],
      "metadata": {
        "id": "VvBKi70KdFMX"
      }
    },
    {
      "cell_type": "code",
      "source": [
        "import torch\n",
        "import torch.nn as nn\n",
        "import torch.nn.functional as F\n",
        "\n",
        "torch.manual_seed(1)\n",
        "\n",
        "x_train = torch.FloatTensor([[73, 80, 75],\n",
        "                             [93, 88, 93],\n",
        "                             [89, 91, 90],\n",
        "                             [96, 98, 100],\n",
        "                             [73, 66, 70]])\n",
        "y_train = torch.FloatTensor([[152], [185], [180], [196], [142]])\n",
        "\n",
        "class MultivariateLinearRegressionModel(nn.Module):\n",
        "  def __init__(self):\n",
        "    super().__init__()\n",
        "    self.linear = nn.Linear(3, 1)\n",
        "  \n",
        "  def forward(self, x):\n",
        "    return self.linear(x)\n",
        "  \n",
        "model = MultivariateLinearRegressionModel()\n",
        "optimizer = torch.optim.SGD(model.parameters(), lr=1e-5)\n",
        "\n",
        "nb_epochs=2000\n",
        "for epoch in range(nb_epochs+1):\n",
        "  prediction = model(x_train)\n",
        "  cost = F.mse_loss(prediction, y_train)\n",
        "\n",
        "  optimizer.zero_grad()\n",
        "  cost.backward()\n",
        "  optimizer.step()\n",
        "\n",
        "  if epoch % 400 == 0:\n",
        "      print('Epoch {:4d}/{} Cost: {:.6f}'.format(\n",
        "          epoch, nb_epochs, cost.item()\n",
        "      ))"
      ],
      "metadata": {
        "colab": {
          "base_uri": "https://localhost:8080/"
        },
        "id": "nLrCOV35dQK9",
        "outputId": "b9aefcff-f86b-493a-91f8-38dd131a60cd"
      },
      "execution_count": 7,
      "outputs": [
        {
          "output_type": "stream",
          "name": "stdout",
          "text": [
            "Epoch    0/2000 Cost: 31667.597656\n",
            "Epoch  400/2000 Cost: 0.220059\n",
            "Epoch  800/2000 Cost: 0.213413\n",
            "Epoch 1200/2000 Cost: 0.207967\n",
            "Epoch 1600/2000 Cost: 0.203484\n",
            "Epoch 2000/2000 Cost: 0.199769\n"
          ]
        }
      ]
    }
  ]
}