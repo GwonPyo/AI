{
  "nbformat": 4,
  "nbformat_minor": 0,
  "metadata": {
    "colab": {
      "name": "3. Multivariable Linear regression.ipynb",
      "provenance": [],
      "collapsed_sections": []
    },
    "kernelspec": {
      "name": "python3",
      "display_name": "Python 3"
    },
    "language_info": {
      "name": "python"
    }
  },
  "cells": [
    {
      "cell_type": "markdown",
      "source": [
        "이전에 배운 것 처럼 x가 1개인 선형 회귀를 **단순 선형 회귀(Simple Linear Regression)**이라고 한다. <br>\n",
        "다수의 x로 부터 y를 예측하는 것은 **다중 선형 회귀(Multivariable Linear Regression)**이라고 한다."
      ],
      "metadata": {
        "id": "tBbyTF-Se1mA"
      }
    },
    {
      "cell_type": "markdown",
      "source": [
        "## <strong> 1. 데이터에 대한 이해 </strong>"
      ],
      "metadata": {
        "id": "y4gF7aqgfSVb"
      }
    },
    {
      "cell_type": "markdown",
      "source": [
        "3개의 퀴즈 점수로 부터 최종 점수를 예측하는 모델을 만들어 보자. <br>\n",
        "이때 독립 변수 x는 3개 이므로 수식으로는 다음과 같다.\n",
        "\n",
        "$H(x)=w_1x_1+w_2x_2+w_3x_3+b$"
      ],
      "metadata": {
        "id": "tNch8-3afoHW"
      }
    },
    {
      "cell_type": "markdown",
      "source": [
        "## <strong> 2. 파이토치로 구현하기 </strong>"
      ],
      "metadata": {
        "id": "k2e9sTKvgBec"
      }
    },
    {
      "cell_type": "markdown",
      "source": [
        "도구를 임포트하고 랜덤 시드를 고정하자"
      ],
      "metadata": {
        "id": "iluRw2DkgcXj"
      }
    },
    {
      "cell_type": "code",
      "source": [
        "import torch\n",
        "import torch.nn as nn\n",
        "import torch.nn.functional as F\n",
        "import torch.optim as optim"
      ],
      "metadata": {
        "id": "ynbB7wyNgD_Q"
      },
      "execution_count": 1,
      "outputs": []
    },
    {
      "cell_type": "code",
      "source": [
        "torch.manual_seed(1)"
      ],
      "metadata": {
        "colab": {
          "base_uri": "https://localhost:8080/"
        },
        "id": "HhrgiWgvgVxi",
        "outputId": "0e0a063d-4b7a-4d5a-81e4-1110f66026b1"
      },
      "execution_count": 2,
      "outputs": [
        {
          "output_type": "execute_result",
          "data": {
            "text/plain": [
              "<torch._C.Generator at 0x7fb5e44f53d0>"
            ]
          },
          "metadata": {},
          "execution_count": 2
        }
      ]
    },
    {
      "cell_type": "markdown",
      "source": [
        "훈련 데이터를 선언하자"
      ],
      "metadata": {
        "id": "CB3pbX4agfA6"
      }
    },
    {
      "cell_type": "code",
      "source": [
        "x1_train = torch.FloatTensor([[73], [93], [89], [96], [73]])\n",
        "x2_train = torch.FloatTensor([[80], [88], [91], [98], [66]])\n",
        "x3_train = torch.FloatTensor([[75], [93], [90], [100], [70]])\n",
        "y_train = torch.FloatTensor([[152], [185], [180], [196], [142]])"
      ],
      "metadata": {
        "id": "A5n4SkS5gg27"
      },
      "execution_count": 4,
      "outputs": []
    },
    {
      "cell_type": "markdown",
      "source": [
        "가중치 w와 b를 선언하자."
      ],
      "metadata": {
        "id": "73yYGRVRhBb6"
      }
    },
    {
      "cell_type": "code",
      "source": [
        "w1 = torch.zeros(1, requires_grad=True)\n",
        "w2 = torch.zeros(1, requires_grad=True)\n",
        "w3 = torch.zeros(1, requires_grad=True)\n",
        "b = torch.zeros(1, requires_grad=True)"
      ],
      "metadata": {
        "id": "pqQUM5DyhHCZ"
      },
      "execution_count": 5,
      "outputs": []
    },
    {
      "cell_type": "markdown",
      "source": [
        "[참고] **torch.zeros() 메서드**는 주어진 size에 맞게 0으로 구성된 텐서를 만들어준다."
      ],
      "metadata": {
        "id": "DUlTvBWwhZ10"
      }
    },
    {
      "cell_type": "code",
      "source": [
        "print(torch.zeros((2, 3)))  # size를 tuple형태로 전달해도 된다.\n",
        "print(torch.zeros(2, 3))\n",
        "print(torch.zeros(2))\n",
        "print(torch.zeros(1, 2))    "
      ],
      "metadata": {
        "colab": {
          "base_uri": "https://localhost:8080/"
        },
        "id": "EG2Kik9QhiJj",
        "outputId": "eab0d1e1-2849-4422-a5e4-552f68a759bd"
      },
      "execution_count": 10,
      "outputs": [
        {
          "output_type": "stream",
          "name": "stdout",
          "text": [
            "tensor([[0., 0., 0.],\n",
            "        [0., 0., 0.]])\n",
            "tensor([[0., 0., 0.],\n",
            "        [0., 0., 0.]])\n",
            "tensor([0., 0.])\n",
            "tensor([[0., 0.]])\n"
          ]
        }
      ]
    },
    {
      "cell_type": "markdown",
      "source": [
        "경사 하강법을 1,000회 반복해보자."
      ],
      "metadata": {
        "id": "yDkgPSfihpgf"
      }
    },
    {
      "cell_type": "code",
      "source": [
        "# optimizer 설정\n",
        "optimizer = optim.SGD([w1, w2, w3, b], lr=1e-5)\n",
        "\n",
        "nb_epochs = 1000\n",
        "for epoch in range(nb_epochs+1):\n",
        "  # H(x) 계산\n",
        "  hypothesis = w1*x1_train + w2*x2_train + w3*x3_train + b\n",
        "\n",
        "  # cost 계산\n",
        "  cost = torch.mean((hypothesis-y_train)**2)\n",
        "\n",
        "  # H(x) 개선\n",
        "  optimizer.zero_grad()\n",
        "  cost.backward()\n",
        "  optimizer.step()\n",
        "\n",
        "  if epoch % 100 == 0:\n",
        "        print('Epoch {:4d}/{} hypothesis: {} Cost: {:.6f}'.format(\n",
        "        epoch, nb_epochs, hypothesis.squeeze().detach(), cost.item()\n",
        "    ))"
      ],
      "metadata": {
        "colab": {
          "base_uri": "https://localhost:8080/"
        },
        "id": "OEcTHxyfiN54",
        "outputId": "1fcbcbd9-bb17-481d-b73c-602e0de60df1"
      },
      "execution_count": 15,
      "outputs": [
        {
          "output_type": "stream",
          "name": "stdout",
          "text": [
            "Epoch    0/1000 hypothesis: tensor([152.4296, 183.9308, 180.8563, 196.9709, 140.4533]) Cost: 1.079151\n",
            "Epoch  100/1000 hypothesis: tensor([152.3981, 183.9547, 180.8479, 196.9634, 140.4856]) Cost: 1.038372\n",
            "Epoch  200/1000 hypothesis: tensor([152.3664, 183.9766, 180.8384, 196.9547, 140.5159]) Cost: 0.999699\n",
            "Epoch  300/1000 hypothesis: tensor([152.3356, 183.9980, 180.8292, 196.9462, 140.5455]) Cost: 0.963022\n",
            "Epoch  400/1000 hypothesis: tensor([152.3056, 184.0187, 180.8203, 196.9378, 140.5743]) Cost: 0.928264\n",
            "Epoch  500/1000 hypothesis: tensor([152.2764, 184.0389, 180.8116, 196.9297, 140.6024]) Cost: 0.895299\n",
            "Epoch  600/1000 hypothesis: tensor([152.2480, 184.0585, 180.8031, 196.9217, 140.6297]) Cost: 0.864043\n",
            "Epoch  700/1000 hypothesis: tensor([152.2204, 184.0776, 180.7949, 196.9139, 140.6563]) Cost: 0.834398\n",
            "Epoch  800/1000 hypothesis: tensor([152.1936, 184.0962, 180.7869, 196.9063, 140.6823]) Cost: 0.806270\n",
            "Epoch  900/1000 hypothesis: tensor([152.1675, 184.1143, 180.7791, 196.8989, 140.7076]) Cost: 0.779600\n",
            "Epoch 1000/1000 hypothesis: tensor([152.1421, 184.1319, 180.7716, 196.8916, 140.7321]) Cost: 0.754317\n"
          ]
        }
      ]
    },
    {
      "cell_type": "markdown",
      "source": [
        "## <strong> 3. 벡터와 행렬 연산으로 바꾸기 </strong>"
      ],
      "metadata": {
        "id": "3T4Bm3Ovjme_"
      }
    },
    {
      "cell_type": "markdown",
      "source": [
        "위 코드에서는 3개의 독립변수 x를 데이터로 사용했고 이때 하나씩 Tensor로 선언해주었다. <br>\n",
        "하지만 x의 개수가 늘어나면 위와 같은 방식을 하기에는 힘들다. <br>\n",
        "\n",
        "이를 위해 **행렬 곱셈(벡터의 내적)**을 사용할 수 있다.\n",
        "\n",
        "* 행렬의 곱셈 과정에서 이루어진 벡터 연산을 **벡터의 내적(Dot Product)**이라고 한다."
      ],
      "metadata": {
        "id": "6VO_5tFvj4Gq"
      }
    },
    {
      "cell_type": "markdown",
      "source": [
        "$H(x)=w_1x_1+w_2x_2+w_3x_3+b$를 두 벡터의 내적으로 다음과 같이 표현할 수 있다.\n",
        "\n",
        "$\\begin{pmatrix}\n",
        "x_1 \\, x_2 \\, x_3\n",
        "\\end{pmatrix}̇\n",
        "⋅\n",
        "\\begin{pmatrix}\n",
        "w_1 \\\\\n",
        "w_2 \\\\\n",
        "w_3\n",
        "\\end{pmatrix}\n",
        "= (x_1w_1 + x_2w_2 + x_3w_3)\n",
        "$\n",
        "\n",
        "그러면 이전 데이터의 내적을 표현해보자. <br>\n",
        "\n",
        "$\\begin{pmatrix}\n",
        "x_{11} \\, x_{12} \\, x_{13} \\\\\n",
        "x_{21} \\, x_{22} \\, x_{23} \\\\\n",
        "x_{31} \\, x_{32} \\, x_{33} \\\\\n",
        "x_{41} \\, x_{42} \\, x_{43} \\\\\n",
        "x_{51} \\, x_{52} \\, x_{53} \\\\\n",
        "\\end{pmatrix}\n",
        "⋅\n",
        "\\begin{pmatrix}\n",
        "w_1 \\\\\n",
        "w_2 \\\\\n",
        "w_3\n",
        "\\end{pmatrix}\n",
        "$\n",
        "\n",
        "위 내적을 수행해주고 bias를 더해주면 이전 식과 동일한 수식이 된다."
      ],
      "metadata": {
        "id": "IydcS7tLk2EJ"
      }
    },
    {
      "cell_type": "markdown",
      "source": [
        "## <strong> 4. 행렬 연산을 고려하여 파이토치로 구현하기 </strong>"
      ],
      "metadata": {
        "id": "UB_O7f4oqylt"
      }
    },
    {
      "cell_type": "markdown",
      "source": [
        "행렬 연산을 고려해 이전 코드를 수정해보자."
      ],
      "metadata": {
        "id": "kj9vPiR1q3v1"
      }
    },
    {
      "cell_type": "code",
      "source": [
        "# 데이터 선언\n",
        "x_train  =  torch.FloatTensor([[73,  80,  75], \n",
        "                               [93,  88,  93], \n",
        "                               [89,  91,  80], \n",
        "                               [96,  98,  100],   \n",
        "                               [73,  66,  70]])  \n",
        "y_train  =  torch.FloatTensor([[152],  [185],  [180],  [196],  [142]])\n",
        "\n",
        "# w, b 선언\n",
        "w = torch.zeros([3, 1], requires_grad=True)\n",
        "b = torch.zeros(1, requires_grad=True)\n",
        "\n",
        "# optimizer 선언\n",
        "optimizer = optim.SGD([w, b], lr=1e-5)\n",
        "\n",
        "nb_epochs = 20\n",
        "for epoch in range(nb_epochs+1):\n",
        "  # H(x) 선언\n",
        "  hypothesis = x_train.matmul(w)+b\n",
        "\n",
        "  # cost 계산\n",
        "  cost = torch.mean((hypothesis-y_train)**2)\n",
        "\n",
        "  # H(x) 개선\n",
        "  optimizer.zero_grad()\n",
        "  cost.backward()\n",
        "  optimizer.step()\n",
        "\n",
        "  print('Epoch {:4d}/{} hypothesis: {} Cost: {:.6f}'.format(\n",
        "        epoch, nb_epochs, hypothesis.squeeze().detach(), cost.item()\n",
        "    ))"
      ],
      "metadata": {
        "colab": {
          "base_uri": "https://localhost:8080/"
        },
        "id": "aib6E3Laq9UJ",
        "outputId": "9fa81133-71e5-4119-f8fa-4c3ca075f5c2"
      },
      "execution_count": 14,
      "outputs": [
        {
          "output_type": "stream",
          "name": "stdout",
          "text": [
            "Epoch    0/20 hypothesis: tensor([0., 0., 0., 0., 0.]) Cost: 29661.800781\n",
            "Epoch    1/20 hypothesis: tensor([66.7178, 80.1701, 76.1025, 86.0194, 61.1565]) Cost: 9537.694336\n",
            "Epoch    2/20 hypothesis: tensor([104.5421, 125.6208, 119.2478, 134.7862,  95.8280]) Cost: 3069.590088\n",
            "Epoch    3/20 hypothesis: tensor([125.9858, 151.3882, 143.7087, 162.4333, 115.4844]) Cost: 990.670288\n",
            "Epoch    4/20 hypothesis: tensor([138.1429, 165.9963, 157.5768, 178.1071, 126.6283]) Cost: 322.481873\n",
            "Epoch    5/20 hypothesis: tensor([145.0350, 174.2780, 165.4395, 186.9928, 132.9461]) Cost: 107.717064\n",
            "Epoch    6/20 hypothesis: tensor([148.9423, 178.9730, 169.8976, 192.0301, 136.5279]) Cost: 38.687496\n",
            "Epoch    7/20 hypothesis: tensor([151.1574, 181.6346, 172.4254, 194.8856, 138.5585]) Cost: 16.499043\n",
            "Epoch    8/20 hypothesis: tensor([152.4131, 183.1435, 173.8590, 196.5043, 139.7097]) Cost: 9.365656\n",
            "Epoch    9/20 hypothesis: tensor([153.1250, 183.9988, 174.6723, 197.4217, 140.3625]) Cost: 7.071114\n",
            "Epoch   10/20 hypothesis: tensor([153.5285, 184.4835, 175.1338, 197.9415, 140.7325]) Cost: 6.331847\n",
            "Epoch   11/20 hypothesis: tensor([153.7572, 184.7582, 175.3958, 198.2360, 140.9424]) Cost: 6.092532\n",
            "Epoch   12/20 hypothesis: tensor([153.8868, 184.9138, 175.5449, 198.4026, 141.0613]) Cost: 6.013817\n",
            "Epoch   13/20 hypothesis: tensor([153.9602, 185.0019, 175.6299, 198.4969, 141.1288]) Cost: 5.986785\n",
            "Epoch   14/20 hypothesis: tensor([154.0017, 185.0517, 175.6785, 198.5500, 141.1671]) Cost: 5.976325\n",
            "Epoch   15/20 hypothesis: tensor([154.0252, 185.0798, 175.7065, 198.5800, 141.1888]) Cost: 5.971208\n",
            "Epoch   16/20 hypothesis: tensor([154.0385, 185.0956, 175.7229, 198.5966, 141.2012]) Cost: 5.967835\n",
            "Epoch   17/20 hypothesis: tensor([154.0459, 185.1045, 175.7326, 198.6059, 141.2082]) Cost: 5.964969\n",
            "Epoch   18/20 hypothesis: tensor([154.0501, 185.1094, 175.7386, 198.6108, 141.2122]) Cost: 5.962291\n",
            "Epoch   19/20 hypothesis: tensor([154.0524, 185.1120, 175.7424, 198.6134, 141.2145]) Cost: 5.959664\n",
            "Epoch   20/20 hypothesis: tensor([154.0536, 185.1134, 175.7451, 198.6145, 141.2158]) Cost: 5.957089\n"
          ]
        }
      ]
    }
  ]
}