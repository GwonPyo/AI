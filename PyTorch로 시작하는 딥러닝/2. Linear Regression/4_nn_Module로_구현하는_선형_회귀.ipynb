{
  "nbformat": 4,
  "nbformat_minor": 0,
  "metadata": {
    "colab": {
      "name": "4. nn.Module로 구현하는 선형 회귀.ipynb",
      "provenance": [],
      "collapsed_sections": []
    },
    "kernelspec": {
      "name": "python3",
      "display_name": "Python 3"
    },
    "language_info": {
      "name": "python"
    }
  },
  "cells": [
    {
      "cell_type": "markdown",
      "source": [
        "이전까지는 가설, 비용 함수를 직접 정의해서 선형 회귀 모델을 구현했다. <br>\n",
        "이번에는 파이토치에서 이미 구현된 함수들을 이용해 구현해보자."
      ],
      "metadata": {
        "id": "yNp0p6qAsqa1"
      }
    },
    {
      "cell_type": "markdown",
      "source": [
        "## <strong> 1. 단순 선형 회귀 구현하기 </strong>"
      ],
      "metadata": {
        "id": "R3n5RxzpFnFG"
      }
    },
    {
      "cell_type": "code",
      "source": [
        "import torch\n",
        "import torch.nn as nn\n",
        "import torch.nn.functional as F"
      ],
      "metadata": {
        "id": "llT_LpPcTEw6"
      },
      "execution_count": 13,
      "outputs": []
    },
    {
      "cell_type": "code",
      "source": [
        "torch.manual_seed(1)"
      ],
      "metadata": {
        "id": "xICDiq-ZTJVE",
        "colab": {
          "base_uri": "https://localhost:8080/"
        },
        "outputId": "97f4d004-7693-4389-b034-3add94e631df"
      },
      "execution_count": 14,
      "outputs": [
        {
          "output_type": "execute_result",
          "data": {
            "text/plain": [
              "<torch._C.Generator at 0x7efe8b3aa3d0>"
            ]
          },
          "metadata": {},
          "execution_count": 14
        }
      ]
    },
    {
      "cell_type": "markdown",
      "source": [
        "데이터를 선언해보자."
      ],
      "metadata": {
        "id": "K3W-xvQeUgj5"
      }
    },
    {
      "cell_type": "code",
      "source": [
        "x_train = torch.FloatTensor([[1], [2], [3]])\n",
        "y_train = torch.FloatTensor([[2], [4], [6]])"
      ],
      "metadata": {
        "id": "w7wODhJfUx-y"
      },
      "execution_count": 15,
      "outputs": []
    },
    {
      "cell_type": "markdown",
      "source": [
        "**nn.Linear()**를 사용해 선형 회귀 모델을 구현해보자. <br>\n",
        "인자로는 **입력 차원, 출력 차원**을 넘겨주면 된다."
      ],
      "metadata": {
        "id": "HXs_I26WVAWi"
      }
    },
    {
      "cell_type": "code",
      "source": [
        "model = nn.Linear(1, 1)"
      ],
      "metadata": {
        "id": "rLHOKUEnVaeZ"
      },
      "execution_count": 16,
      "outputs": []
    },
    {
      "cell_type": "markdown",
      "source": [
        "하나의 독립 변수 x와 출력 y를 가지므로 입력과 출력 차원은 1로 전달했다. <br>\n",
        "model에는 가중치 W와 편향 b가 저장되어 있다. <br>\n",
        "이 값들은 **model.parameters()**라는 함수를 사용해 불러올 수 있다."
      ],
      "metadata": {
        "id": "TsA9Kw3WVdG_"
      }
    },
    {
      "cell_type": "code",
      "source": [
        "print(list(model.parameters()))"
      ],
      "metadata": {
        "colab": {
          "base_uri": "https://localhost:8080/"
        },
        "id": "Z5KdKsSBVuB6",
        "outputId": "ad1a3167-adaa-42ca-8348-ac6c750bbf40"
      },
      "execution_count": 17,
      "outputs": [
        {
          "output_type": "stream",
          "name": "stdout",
          "text": [
            "[Parameter containing:\n",
            "tensor([[0.5153]], requires_grad=True), Parameter containing:\n",
            "tensor([-0.4414], requires_grad=True)]\n"
          ]
        }
      ]
    },
    {
      "cell_type": "markdown",
      "source": [
        "위 출력에서 첫 번째 값이 W, 두 번째 값이 b에 해당한다. <br>\n",
        "또한 두 값 모두 학습의 대상이므로 requires_grad=True로 지정되어 있다. <br>\n",
        "\n",
        "이제 옵티마이저를 정의하자."
      ],
      "metadata": {
        "id": "89JTxtNHVuUj"
      }
    },
    {
      "cell_type": "code",
      "source": [
        "optimizer = torch.optim.SGD(model.parameters(), lr=0.01)"
      ],
      "metadata": {
        "id": "LnrkPtDsWOBS"
      },
      "execution_count": 18,
      "outputs": []
    },
    {
      "cell_type": "code",
      "source": [
        "nb_epochs = 2000\n",
        "\n",
        "for epoch in range(nb_epochs+1):\n",
        "  # H(x) 계산\n",
        "  prediction = model(x_train)\n",
        "  \n",
        "  # cost 계산\n",
        "  cost = F.mse_loss(prediction, y_train) # 파이토치에서 제공하는 평균 제곱 오차 함수다.\n",
        "\n",
        "  optimizer.zero_grad()\n",
        "  cost.backward()\n",
        "  optimizer.step()\n",
        "\n",
        "  if epoch % 400 == 0:\n",
        "      print('Epoch {:4d}/{} Cost: {:.6f}'.format(\n",
        "          epoch, nb_epochs, cost.item()\n",
        "      ))\n"
      ],
      "metadata": {
        "colab": {
          "base_uri": "https://localhost:8080/"
        },
        "id": "MpeZvgE2Wbp6",
        "outputId": "f4f6e773-c2c6-4729-e159-6828a3193e52"
      },
      "execution_count": 19,
      "outputs": [
        {
          "output_type": "stream",
          "name": "stdout",
          "text": [
            "Epoch    0/2000 Cost: 13.103541\n",
            "Epoch  400/2000 Cost: 0.000658\n",
            "Epoch  800/2000 Cost: 0.000096\n",
            "Epoch 1200/2000 Cost: 0.000014\n",
            "Epoch 1600/2000 Cost: 0.000002\n",
            "Epoch 2000/2000 Cost: 0.000000\n"
          ]
        }
      ]
    },
    {
      "cell_type": "markdown",
      "source": [
        "훈련된 W와 b를 출력해보자. (각각 2, 0에 가까운 값이 나와야 한다.) <br>"
      ],
      "metadata": {
        "id": "qHucuCLqW_sC"
      }
    },
    {
      "cell_type": "code",
      "source": [
        "print(list(model.parameters()))"
      ],
      "metadata": {
        "colab": {
          "base_uri": "https://localhost:8080/"
        },
        "id": "kS9RgDo6XSXz",
        "outputId": "34aaf446-65b2-45f0-f8f0-3b5a0304984d"
      },
      "execution_count": 20,
      "outputs": [
        {
          "output_type": "stream",
          "name": "stdout",
          "text": [
            "[Parameter containing:\n",
            "tensor([[1.9994]], requires_grad=True), Parameter containing:\n",
            "tensor([0.0014], requires_grad=True)]\n"
          ]
        }
      ]
    },
    {
      "cell_type": "markdown",
      "source": [
        "## <strong> 2. 다중 선형 회귀 구현하기 </strong>"
      ],
      "metadata": {
        "id": "WkGZmwgoXUjr"
      }
    },
    {
      "cell_type": "markdown",
      "source": [
        "위 방식으로 다중 선형 회귀를 구현해보자."
      ],
      "metadata": {
        "id": "4mJRx2RZXfMu"
      }
    },
    {
      "cell_type": "code",
      "source": [
        "import torch\n",
        "import torch.nn as nn\n",
        "import torch.nn.functional as F\n",
        "\n",
        "torch.manual_seed(1)\n",
        "\n",
        "# 데이터 선언\n",
        "x_train = torch.FloatTensor([[73, 80, 75],\n",
        "                             [93, 88, 93],\n",
        "                             [89, 91, 90],\n",
        "                             [96, 98, 100],\n",
        "                             [73, 66, 70]])\n",
        "y_train = torch.FloatTensor([[152], [185], [180], [196], [142]])\n",
        "\n",
        "# 모듈 생성\n",
        "model = nn.Linear(3, 1)\n",
        "\n",
        "# optimizer 선언\n",
        "optimizer = torch.optim.SGD(model.parameters(), lr=1e-5)\n",
        "\n",
        "nb_epochs = 2000\n",
        "\n",
        "for epoch in range(nb_epochs+1):\n",
        "  # H(x) 계산\n",
        "  prediction = model(x_train)\n",
        "\n",
        "  # cost 계산\n",
        "  cost = F.mse_loss(prediction, y_train)\n",
        "\n",
        "  optimizer.zero_grad()\n",
        "  cost.backward()\n",
        "  optimizer.step()\n",
        "\n",
        "  if epoch % 400 == 0:\n",
        "      print('Epoch {:4d}/{} Cost: {:.6f}'.format(\n",
        "          epoch, nb_epochs, cost.item()\n",
        "      ))"
      ],
      "metadata": {
        "colab": {
          "base_uri": "https://localhost:8080/"
        },
        "id": "72_3Sm3yXtTS",
        "outputId": "9dea0364-e36b-429e-c1ab-364b93f86cdc"
      },
      "execution_count": 21,
      "outputs": [
        {
          "output_type": "stream",
          "name": "stdout",
          "text": [
            "Epoch    0/2000 Cost: 31667.597656\n",
            "Epoch  400/2000 Cost: 0.220059\n",
            "Epoch  800/2000 Cost: 0.213413\n",
            "Epoch 1200/2000 Cost: 0.207967\n",
            "Epoch 1600/2000 Cost: 0.203484\n",
            "Epoch 2000/2000 Cost: 0.199769\n"
          ]
        }
      ]
    },
    {
      "cell_type": "markdown",
      "source": [
        "학습 후의 파라미터들을 확인해보자."
      ],
      "metadata": {
        "id": "sgg_Kml3YM6u"
      }
    },
    {
      "cell_type": "code",
      "source": [
        "print(list(model.parameters()))"
      ],
      "metadata": {
        "colab": {
          "base_uri": "https://localhost:8080/"
        },
        "id": "yH01j0zAZAyZ",
        "outputId": "0c037588-4a4d-4b66-e2a7-2122559a7a88"
      },
      "execution_count": 22,
      "outputs": [
        {
          "output_type": "stream",
          "name": "stdout",
          "text": [
            "[Parameter containing:\n",
            "tensor([[0.9778, 0.4539, 0.5768]], requires_grad=True), Parameter containing:\n",
            "tensor([0.2802], requires_grad=True)]\n"
          ]
        }
      ]
    }
  ]
}