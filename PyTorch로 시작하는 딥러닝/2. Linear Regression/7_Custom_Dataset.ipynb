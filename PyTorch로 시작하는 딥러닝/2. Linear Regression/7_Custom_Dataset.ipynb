{
  "nbformat": 4,
  "nbformat_minor": 0,
  "metadata": {
    "colab": {
      "name": "7. Custom Dataset.ipynb",
      "provenance": [],
      "collapsed_sections": []
    },
    "kernelspec": {
      "name": "python3",
      "display_name": "Python 3"
    },
    "language_info": {
      "name": "python"
    }
  },
  "cells": [
    {
      "cell_type": "markdown",
      "source": [
        "## <strong> 1. 커스텀 데이터셋 </strong>"
      ],
      "metadata": {
        "id": "hXuYdBoto4YZ"
      }
    },
    {
      "cell_type": "markdown",
      "source": [
        "torch.utils.data.Dataset을 상속받아 직접 **커스텀 데이터셋(Custom Dataset)**을 만들 수 있다. <br>\n",
        "\n",
        "커스텀 데이터셋을 만들 때 기본적인 뼈대는 아래와 같다. <br>\n",
        "여기서 필요한 기본적 define은 3개이다.\n",
        "\n",
        "\n",
        "\n",
        "```\n",
        "class CustomDataset(torch.utils.data.Dataset): \n",
        "  def __init__(self):\n",
        "  # 데이터셋의 전처리를 해주는 부분\n",
        "\n",
        "  def __len__(self):\n",
        "  # 데이터셋의 길이. 즉, 총 샘플의 수를 적어주는 부분\n",
        "\n",
        "  def __getitem__(self, idx): \n",
        "  # 데이터셋에서 특정 1개의 샘플을 가져오는 함수\n",
        "```\n",
        "\n"
      ],
      "metadata": {
        "id": "tANk6phDpJIg"
      }
    },
    {
      "cell_type": "markdown",
      "source": [
        "## <strong> 2. 커스텀 데이터셋으로 선형 회귀 구현하기</strong>"
      ],
      "metadata": {
        "id": "6TOBLIjTpnoz"
      }
    },
    {
      "cell_type": "code",
      "source": [
        "import torch\n",
        "import torch.nn as nn\n",
        "import torch.nn.functional as F\n",
        "from torch.utils.data import Dataset, DataLoader\n",
        "\n",
        "class CustomDataset(Dataset):\n",
        "  def __init__(self):\n",
        "    self.x_data = [[73, 80, 75],\n",
        "                   [93, 88, 93],\n",
        "                   [89, 91, 90],\n",
        "                   [96, 98, 100],\n",
        "                   [73, 66, 70]]\n",
        "    self.y_data = [[152], [185], [180], [196], [142]]\n",
        "\n",
        "  def __len__(self):\n",
        "    return len(self.x_data)\n",
        "  \n",
        "  def __getitem__(self, index):\n",
        "    x = torch.FloatTensor(self.x_data[index])\n",
        "    y = torch.FloatTensor(self.y_data[index])\n",
        "    return x, y\n",
        "\n",
        "dataset = CustomDataset()\n",
        "dataloader = DataLoader(dataset, batch_size=2, shuffle=True)\n",
        "\n",
        "model = torch.nn.Linear(3, 1)\n",
        "optimizer = torch.optim.SGD(model.parameters(), lr=1e-5)\n",
        "\n",
        "nb_epochs = 2000\n",
        "for epoch in range(nb_epochs+1):\n",
        "  for batch_idx, samples in enumerate(dataloader):\n",
        "    x_train, y_train = samples\n",
        "\n",
        "    prediction = model(x_train)\n",
        "    cost = F.mse_loss(prediction, y_train)\n",
        "\n",
        "    optimizer.zero_grad()\n",
        "    cost.backward()\n",
        "    optimizer.step()\n",
        "\n",
        "    if epoch%500 == 0:\n",
        "      print('Epoch {:4d}/{} Batch {}/{} Cost: {:.6f}'.format(\n",
        "        epoch, nb_epochs, batch_idx+1, len(dataloader),\n",
        "        cost.item()\n",
        "        )) "
      ],
      "metadata": {
        "id": "nPKV_XL0p1s1",
        "colab": {
          "base_uri": "https://localhost:8080/"
        },
        "outputId": "03eb08ee-b33e-4092-e4dc-0414127d0eb9"
      },
      "execution_count": 1,
      "outputs": [
        {
          "output_type": "stream",
          "name": "stdout",
          "text": [
            "Epoch    0/2000 Batch 1/3 Cost: 41425.007812\n",
            "Epoch    0/2000 Batch 2/3 Cost: 12955.880859\n",
            "Epoch    0/2000 Batch 3/3 Cost: 5124.160645\n",
            "Epoch  500/2000 Batch 1/3 Cost: 1.114077\n",
            "Epoch  500/2000 Batch 2/3 Cost: 1.017229\n",
            "Epoch  500/2000 Batch 3/3 Cost: 0.235581\n",
            "Epoch 1000/2000 Batch 1/3 Cost: 0.637775\n",
            "Epoch 1000/2000 Batch 2/3 Cost: 0.311434\n",
            "Epoch 1000/2000 Batch 3/3 Cost: 0.756732\n",
            "Epoch 1500/2000 Batch 1/3 Cost: 0.495952\n",
            "Epoch 1500/2000 Batch 2/3 Cost: 0.296746\n",
            "Epoch 1500/2000 Batch 3/3 Cost: 0.076835\n",
            "Epoch 2000/2000 Batch 1/3 Cost: 0.280566\n",
            "Epoch 2000/2000 Batch 2/3 Cost: 0.351080\n",
            "Epoch 2000/2000 Batch 3/3 Cost: 0.172232\n"
          ]
        }
      ]
    },
    {
      "cell_type": "markdown",
      "source": [
        "출처: https://wikidocs.net/57165"
      ],
      "metadata": {
        "id": "84oDQnEWu7ll"
      }
    }
  ]
}