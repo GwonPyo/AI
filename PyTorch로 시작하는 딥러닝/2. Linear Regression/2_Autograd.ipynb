{
  "nbformat": 4,
  "nbformat_minor": 0,
  "metadata": {
    "colab": {
      "name": "2. Autograd.ipynb",
      "provenance": [],
      "collapsed_sections": []
    },
    "kernelspec": {
      "name": "python3",
      "display_name": "Python 3"
    },
    "language_info": {
      "name": "python"
    }
  },
  "cells": [
    {
      "cell_type": "markdown",
      "source": [
        "<h3> <strong> 자동 미분 실습하기 </strong> </h3>"
      ],
      "metadata": {
        "id": "RIBbHM2W0rfj"
      }
    },
    {
      "cell_type": "markdown",
      "source": [
        "$2w^2+5$라는 식을 세워보고 w에 대해 미분해보자."
      ],
      "metadata": {
        "id": "7zpc8aKt1H-D"
      }
    },
    {
      "cell_type": "code",
      "source": [
        "import torch"
      ],
      "metadata": {
        "id": "rEf1lARL1NUT"
      },
      "execution_count": 1,
      "outputs": []
    },
    {
      "cell_type": "markdown",
      "source": [
        "값이 2인 스칼라 벡터 w를 선언하자. <br>\n",
        "requires_grad를 True로 선언하면 **텐서에 대한 기울기를 저장하겠다**는 의미이다. <br>\n",
        "이렇게 하면 **w.grad**에 w에 대한 미분값이 저장된다."
      ],
      "metadata": {
        "id": "u1htv8mU1jzJ"
      }
    },
    {
      "cell_type": "code",
      "source": [
        "w = torch.tensor(2.0, requires_grad=True)"
      ],
      "metadata": {
        "id": "U34WwlYq1RiA"
      },
      "execution_count": 2,
      "outputs": []
    },
    {
      "cell_type": "markdown",
      "source": [
        "수식을 정의해보자."
      ],
      "metadata": {
        "id": "BcQD18RY2cnp"
      }
    },
    {
      "cell_type": "code",
      "source": [
        "y = w**2\n",
        "z = 2*y+5"
      ],
      "metadata": {
        "id": "39zBsCBy1X2L"
      },
      "execution_count": 3,
      "outputs": []
    },
    {
      "cell_type": "markdown",
      "source": [
        "수식을 w에 대해 미분하려면, **.backward() 함수**를 호출해주면 된다. <br>\n",
        "backward() 함수는 **해당 수식의 w에 대한 기울기를 계산한다.**"
      ],
      "metadata": {
        "id": "b1tRNcCi2eWA"
      }
    },
    {
      "cell_type": "code",
      "source": [
        "z.backward()"
      ],
      "metadata": {
        "id": "it6MTOiT1cqN"
      },
      "execution_count": 4,
      "outputs": []
    },
    {
      "cell_type": "markdown",
      "source": [
        "w.grad에는 수식을 w로 미분한 값이 저장된다."
      ],
      "metadata": {
        "id": "Vm4ZJe9v2v0_"
      }
    },
    {
      "cell_type": "code",
      "source": [
        "print('w.grad:', w.grad)"
      ],
      "metadata": {
        "colab": {
          "base_uri": "https://localhost:8080/"
        },
        "id": "-Hd8aF8L1eft",
        "outputId": "85541693-00c3-4bef-b25f-ea02486c23cc"
      },
      "execution_count": 5,
      "outputs": [
        {
          "output_type": "stream",
          "name": "stdout",
          "text": [
            "w.grad: tensor(8.)\n"
          ]
        }
      ]
    },
    {
      "cell_type": "markdown",
      "source": [
        "출처: https://wikidocs.net/60754"
      ],
      "metadata": {
        "id": "wOeDjQCL3ocQ"
      }
    }
  ]
}